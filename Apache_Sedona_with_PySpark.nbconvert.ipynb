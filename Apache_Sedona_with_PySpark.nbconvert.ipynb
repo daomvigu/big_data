{
 "cells": [
  {
   "cell_type": "markdown",
   "metadata": {
    "colab_type": "text",
    "id": "view-in-github"
   },
   "source": [
    "<a href=\"https://colab.research.google.com/github/groda/big_data/blob/master/Apache_Sedona_with_PySpark.ipynb\" target=\"_parent\"><img src=\"https://colab.research.google.com/assets/colab-badge.svg\" alt=\"Open In Colab\"/></a>"
   ]
  },
  {
   "cell_type": "markdown",
   "metadata": {
    "id": "DNWKwG4TAcD2"
   },
   "source": [
    "\n",
    "<a href=\"https://github.com/groda/big_data\"><div><img src=\"https://github.com/groda/big_data/blob/master/logo_bdb.png?raw=true\" align=right width=\"90\" alt=\"Logo Big Data for Beginners\"></div></a>\n",
    "# Apache Sedona with PySpark\n",
    "\n",
    "Apache Sedona™ is\n",
    "\n",
    "> *a cluster computing system for processing large-scale spatial data. Sedona extends existing cluster computing systems, such as Apache Spark, Apache Flink, and Snowflake, with a set of out-of-the-box distributed Spatial Datasets and Spatial SQL that efficiently load, process, and analyze large-scale spatial data across machines.* ([https://sedona.apache.org/](https://sedona.apache.org/))\n",
    "\n",
    "To execute a basic Sedona demonstration using PySpark on Google Colab, we made a few minor adjustments. The Sedona notebook starts below at [Apache Sedona Core demo](#scrollTo=Apache_Sedona_Core_demo).\n",
    "\n"
   ]
  },
  {
   "cell_type": "markdown",
   "metadata": {
    "id": "3AQNoWmX_B78"
   },
   "source": [
    "## Install Apache Sedona and PySpark\n",
    "\n",
    "To start with, we are going to install PySpark with Sedona following the instructions at: https://sedona.apache.org/latest-snapshot/setup/install-python/ but first we need to downgrade `shapely` because the version 2.0.2 that comes with Google Colab does not play well with the current version of Apache Sedona (see https://shapely.readthedocs.io/en/stable/migration.html)."
   ]
  },
  {
   "cell_type": "markdown",
   "metadata": {
    "id": "zDoBDC3yAVvI"
   },
   "source": [
    "### Downgrade Shapely to version 1.7.1\n",
    "\n",
    "We need to install install any version of `shapely>=1.7.0` but smaller than `2.0`. We picked `1.7.1` because with 1.7.0 we got the error\n",
    "\n",
    "    geopandas 0.13.2 requires shapely>=1.7.1, but you have shapely 1.7.0 which is incompatible.\n",
    "\n",
    "Explanation for `pip -I`:\n",
    "\n",
    "- [`-I, --ignore-installed`](https://pip.pypa.io/en/stable/cli/pip_install/#cmdoption-I)\n",
    "> Ignore the installed packages, overwriting them. This can break your system if the existing package is of a different version or was installed with a different package manager!\n",
    "\n",
    "\n",
    "\n",
    "\n",
    "\n"
   ]
  },
  {
   "cell_type": "code",
   "execution_count": 1,
   "metadata": {
    "colab": {
     "base_uri": "https://localhost:8080/"
    },
    "execution": {
     "iopub.execute_input": "2024-02-25T22:05:07.249169Z",
     "iopub.status.busy": "2024-02-25T22:05:07.248934Z",
     "iopub.status.idle": "2024-02-25T22:05:08.874919Z",
     "shell.execute_reply": "2024-02-25T22:05:08.874229Z"
    },
    "id": "_4nnDMo0Blfu",
    "outputId": "cf77f2ad-6e17-43da-8578-3ff535497efa"
   },
   "outputs": [
    {
     "name": "stdout",
     "output_type": "stream",
     "text": [
      "Collecting shapely==1.7.1\r\n"
     ]
    },
    {
     "name": "stdout",
     "output_type": "stream",
     "text": [
      "  Downloading Shapely-1.7.1-cp38-cp38-manylinux1_x86_64.whl (1.0 MB)\r\n",
      "\u001b[?25l     \u001b[90m━━━━━━━━━━━━━━━━━━━━━━━━━━━━━━━━━━━━━━━━\u001b[0m \u001b[32m0.0/1.0 MB\u001b[0m \u001b[31m?\u001b[0m eta \u001b[36m-:--:--\u001b[0m\r",
      "\u001b[2K     \u001b[90m━━━━━━━━━━━━━━━━━━━━━━━━━━━━━━━━━━━━━━━━\u001b[0m \u001b[32m1.0/1.0 MB\u001b[0m \u001b[31m31.0 MB/s\u001b[0m eta \u001b[36m0:00:00\u001b[0m\r\n",
      "\u001b[?25h"
     ]
    },
    {
     "name": "stdout",
     "output_type": "stream",
     "text": [
      "Installing collected packages: shapely\r\n"
     ]
    },
    {
     "name": "stdout",
     "output_type": "stream",
     "text": [
      "Successfully installed shapely-1.7.1\r\n"
     ]
    },
    {
     "name": "stdout",
     "output_type": "stream",
     "text": [
      "\r\n",
      "\u001b[1m[\u001b[0m\u001b[34;49mnotice\u001b[0m\u001b[1;39;49m]\u001b[0m\u001b[39;49m A new release of pip is available: \u001b[0m\u001b[31;49m23.0.1\u001b[0m\u001b[39;49m -> \u001b[0m\u001b[32;49m24.0\u001b[0m\r\n",
      "\u001b[1m[\u001b[0m\u001b[34;49mnotice\u001b[0m\u001b[1;39;49m]\u001b[0m\u001b[39;49m To update, run: \u001b[0m\u001b[32;49mpip install --upgrade pip\u001b[0m\r\n"
     ]
    }
   ],
   "source": [
    "!pip install -I shapely==1.7.1"
   ]
  },
  {
   "cell_type": "markdown",
   "metadata": {
    "id": "76yI9hGZz_Ss"
   },
   "source": [
    "### Install Geopandas\n",
    "\n",
    "This step is only needed outside of Colab because on Google Colab `geopandas` is available by default."
   ]
  },
  {
   "cell_type": "code",
   "execution_count": 2,
   "metadata": {
    "colab": {
     "base_uri": "https://localhost:8080/"
    },
    "execution": {
     "iopub.execute_input": "2024-02-25T22:05:08.878107Z",
     "iopub.status.busy": "2024-02-25T22:05:08.877873Z",
     "iopub.status.idle": "2024-02-25T22:05:11.709659Z",
     "shell.execute_reply": "2024-02-25T22:05:11.708822Z"
    },
    "id": "KliMM6ka0Qee",
    "outputId": "170bc61d-9911-4929-8a51-7d82fd24d6aa"
   },
   "outputs": [
    {
     "name": "stdout",
     "output_type": "stream",
     "text": [
      "Collecting geopandas==0.13.2\r\n"
     ]
    },
    {
     "name": "stdout",
     "output_type": "stream",
     "text": [
      "  Downloading geopandas-0.13.2-py3-none-any.whl.metadata (1.5 kB)\r\n"
     ]
    },
    {
     "name": "stdout",
     "output_type": "stream",
     "text": [
      "Collecting fiona>=1.8.19 (from geopandas==0.13.2)\r\n"
     ]
    },
    {
     "name": "stdout",
     "output_type": "stream",
     "text": [
      "  Downloading fiona-1.9.5-cp38-cp38-manylinux2014_x86_64.whl.metadata (49 kB)\r\n",
      "\u001b[?25l     \u001b[90m━━━━━━━━━━━━━━━━━━━━━━━━━━━━━━━━━━━━━━━━\u001b[0m \u001b[32m0.0/49.7 kB\u001b[0m \u001b[31m?\u001b[0m eta \u001b[36m-:--:--\u001b[0m\r",
      "\u001b[2K     \u001b[90m━━━━━━━━━━━━━━━━━━━━━━━━━━━━━━━━━━━━━━━━\u001b[0m \u001b[32m49.7/49.7 kB\u001b[0m \u001b[31m7.2 MB/s\u001b[0m eta \u001b[36m0:00:00\u001b[0m\r\n",
      "\u001b[?25hRequirement already satisfied: packaging in /opt/hostedtoolcache/Python/3.8.18/x64/lib/python3.8/site-packages (from geopandas==0.13.2) (23.2)\r\n",
      "Requirement already satisfied: pandas>=1.1.0 in /opt/hostedtoolcache/Python/3.8.18/x64/lib/python3.8/site-packages (from geopandas==0.13.2) (1.5.3)\r\n"
     ]
    },
    {
     "name": "stdout",
     "output_type": "stream",
     "text": [
      "Collecting pyproj>=3.0.1 (from geopandas==0.13.2)\r\n",
      "  Downloading pyproj-3.5.0-cp38-cp38-manylinux_2_17_x86_64.manylinux2014_x86_64.whl.metadata (28 kB)\r\n",
      "Requirement already satisfied: shapely>=1.7.1 in /opt/hostedtoolcache/Python/3.8.18/x64/lib/python3.8/site-packages (from geopandas==0.13.2) (1.7.1)\r\n",
      "Requirement already satisfied: attrs>=19.2.0 in /opt/hostedtoolcache/Python/3.8.18/x64/lib/python3.8/site-packages (from fiona>=1.8.19->geopandas==0.13.2) (23.2.0)\r\n",
      "Requirement already satisfied: certifi in /opt/hostedtoolcache/Python/3.8.18/x64/lib/python3.8/site-packages (from fiona>=1.8.19->geopandas==0.13.2) (2024.2.2)\r\n"
     ]
    },
    {
     "name": "stdout",
     "output_type": "stream",
     "text": [
      "Collecting click~=8.0 (from fiona>=1.8.19->geopandas==0.13.2)\r\n",
      "  Downloading click-8.1.7-py3-none-any.whl.metadata (3.0 kB)\r\n",
      "Collecting click-plugins>=1.0 (from fiona>=1.8.19->geopandas==0.13.2)\r\n",
      "  Downloading click_plugins-1.1.1-py2.py3-none-any.whl (7.5 kB)\r\n"
     ]
    },
    {
     "name": "stdout",
     "output_type": "stream",
     "text": [
      "Collecting cligj>=0.5 (from fiona>=1.8.19->geopandas==0.13.2)\r\n",
      "  Downloading cligj-0.7.2-py3-none-any.whl.metadata (5.0 kB)\r\n",
      "Requirement already satisfied: six in /opt/hostedtoolcache/Python/3.8.18/x64/lib/python3.8/site-packages (from fiona>=1.8.19->geopandas==0.13.2) (1.16.0)\r\n",
      "Requirement already satisfied: setuptools in /opt/hostedtoolcache/Python/3.8.18/x64/lib/python3.8/site-packages (from fiona>=1.8.19->geopandas==0.13.2) (56.0.0)\r\n",
      "Requirement already satisfied: importlib-metadata in /opt/hostedtoolcache/Python/3.8.18/x64/lib/python3.8/site-packages (from fiona>=1.8.19->geopandas==0.13.2) (7.0.1)\r\n",
      "Requirement already satisfied: python-dateutil>=2.8.1 in /opt/hostedtoolcache/Python/3.8.18/x64/lib/python3.8/site-packages (from pandas>=1.1.0->geopandas==0.13.2) (2.8.2)\r\n",
      "Requirement already satisfied: pytz>=2020.1 in /opt/hostedtoolcache/Python/3.8.18/x64/lib/python3.8/site-packages (from pandas>=1.1.0->geopandas==0.13.2) (2024.1)\r\n",
      "Requirement already satisfied: numpy>=1.20.3 in /opt/hostedtoolcache/Python/3.8.18/x64/lib/python3.8/site-packages (from pandas>=1.1.0->geopandas==0.13.2) (1.24.4)\r\n"
     ]
    },
    {
     "name": "stdout",
     "output_type": "stream",
     "text": [
      "Requirement already satisfied: zipp>=0.5 in /opt/hostedtoolcache/Python/3.8.18/x64/lib/python3.8/site-packages (from importlib-metadata->fiona>=1.8.19->geopandas==0.13.2) (3.17.0)\r\n"
     ]
    },
    {
     "name": "stdout",
     "output_type": "stream",
     "text": [
      "Downloading geopandas-0.13.2-py3-none-any.whl (1.1 MB)\r\n",
      "\u001b[?25l   \u001b[90m━━━━━━━━━━━━━━━━━━━━━━━━━━━━━━━━━━━━━━━━\u001b[0m \u001b[32m0.0/1.1 MB\u001b[0m \u001b[31m?\u001b[0m eta \u001b[36m-:--:--\u001b[0m"
     ]
    },
    {
     "name": "stdout",
     "output_type": "stream",
     "text": [
      "\r",
      "\u001b[2K   \u001b[90m━━━━━━━━━━━━━━━━━━━━━━━━━━━━━━━━━━━━━━━━\u001b[0m \u001b[32m1.1/1.1 MB\u001b[0m \u001b[31m36.9 MB/s\u001b[0m eta \u001b[36m0:00:00\u001b[0m\r\n",
      "\u001b[?25hDownloading fiona-1.9.5-cp38-cp38-manylinux2014_x86_64.whl (15.7 MB)\r\n",
      "\u001b[?25l   \u001b[90m━━━━━━━━━━━━━━━━━━━━━━━━━━━━━━━━━━━━━━━━\u001b[0m \u001b[32m0.0/15.7 MB\u001b[0m \u001b[31m?\u001b[0m eta \u001b[36m-:--:--\u001b[0m"
     ]
    },
    {
     "name": "stdout",
     "output_type": "stream",
     "text": [
      "\r",
      "\u001b[2K   \u001b[91m━━━━━━━━━━━━\u001b[0m\u001b[91m╸\u001b[0m\u001b[90m━━━━━━━━━━━━━━━━━━━━━━━━━━━\u001b[0m \u001b[32m5.0/15.7 MB\u001b[0m \u001b[31m150.7 MB/s\u001b[0m eta \u001b[36m0:00:01\u001b[0m"
     ]
    },
    {
     "name": "stdout",
     "output_type": "stream",
     "text": [
      "\r",
      "\u001b[2K   \u001b[91m━━━━━━━━━━━━━━━━━━━━━━━━━━\u001b[0m\u001b[90m╺\u001b[0m\u001b[90m━━━━━━━━━━━━━\u001b[0m \u001b[32m10.3/15.7 MB\u001b[0m \u001b[31m150.3 MB/s\u001b[0m eta \u001b[36m0:00:01\u001b[0m\r",
      "\u001b[2K   \u001b[91m━━━━━━━━━━━━━━━━━━━━━━━━━━━━━━━━━━━━━━━\u001b[0m\u001b[91m╸\u001b[0m \u001b[32m15.7/15.7 MB\u001b[0m \u001b[31m162.1 MB/s\u001b[0m eta \u001b[36m0:00:01\u001b[0m"
     ]
    },
    {
     "name": "stdout",
     "output_type": "stream",
     "text": [
      "\r",
      "\u001b[2K   \u001b[91m━━━━━━━━━━━━━━━━━━━━━━━━━━━━━━━━━━━━━━━\u001b[0m\u001b[91m╸\u001b[0m \u001b[32m15.7/15.7 MB\u001b[0m \u001b[31m162.1 MB/s\u001b[0m eta \u001b[36m0:00:01\u001b[0m\r",
      "\u001b[2K   \u001b[90m━━━━━━━━━━━━━━━━━━━━━━━━━━━━━━━━━━━━━━━━\u001b[0m \u001b[32m15.7/15.7 MB\u001b[0m \u001b[31m98.1 MB/s\u001b[0m eta \u001b[36m0:00:00\u001b[0m\r\n",
      "\u001b[?25hDownloading pyproj-3.5.0-cp38-cp38-manylinux_2_17_x86_64.manylinux2014_x86_64.whl (7.8 MB)\r\n",
      "\u001b[?25l   \u001b[90m━━━━━━━━━━━━━━━━━━━━━━━━━━━━━━━━━━━━━━━━\u001b[0m \u001b[32m0.0/7.8 MB\u001b[0m \u001b[31m?\u001b[0m eta \u001b[36m-:--:--\u001b[0m"
     ]
    },
    {
     "name": "stdout",
     "output_type": "stream",
     "text": [
      "\r",
      "\u001b[2K   \u001b[91m━━━━━━━━━━━━━━━━━━━━━━━━━━━━━━\u001b[0m\u001b[90m╺\u001b[0m\u001b[90m━━━━━━━━━\u001b[0m \u001b[32m5.9/7.8 MB\u001b[0m \u001b[31m178.1 MB/s\u001b[0m eta \u001b[36m0:00:01\u001b[0m"
     ]
    },
    {
     "name": "stdout",
     "output_type": "stream",
     "text": [
      "\r",
      "\u001b[2K   \u001b[90m━━━━━━━━━━━━━━━━━━━━━━━━━━━━━━━━━━━━━━━━\u001b[0m \u001b[32m7.8/7.8 MB\u001b[0m \u001b[31m117.3 MB/s\u001b[0m eta \u001b[36m0:00:00\u001b[0m\r\n",
      "\u001b[?25hDownloading click-8.1.7-py3-none-any.whl (97 kB)\r\n",
      "\u001b[?25l   \u001b[90m━━━━━━━━━━━━━━━━━━━━━━━━━━━━━━━━━━━━━━━━\u001b[0m \u001b[32m0.0/97.9 kB\u001b[0m \u001b[31m?\u001b[0m eta \u001b[36m-:--:--\u001b[0m\r",
      "\u001b[2K   \u001b[90m━━━━━━━━━━━━━━━━━━━━━━━━━━━━━━━━━━━━━━━━\u001b[0m \u001b[32m97.9/97.9 kB\u001b[0m \u001b[31m19.2 MB/s\u001b[0m eta \u001b[36m0:00:00\u001b[0m\r\n",
      "\u001b[?25hDownloading cligj-0.7.2-py3-none-any.whl (7.1 kB)\r\n"
     ]
    },
    {
     "name": "stdout",
     "output_type": "stream",
     "text": [
      "Installing collected packages: pyproj, click, cligj, click-plugins, fiona, geopandas\r\n"
     ]
    },
    {
     "name": "stdout",
     "output_type": "stream",
     "text": [
      "Successfully installed click-8.1.7 click-plugins-1.1.1 cligj-0.7.2 fiona-1.9.5 geopandas-0.13.2 pyproj-3.5.0\r\n",
      "\r\n",
      "\u001b[1m[\u001b[0m\u001b[34;49mnotice\u001b[0m\u001b[1;39;49m]\u001b[0m\u001b[39;49m A new release of pip is available: \u001b[0m\u001b[31;49m23.0.1\u001b[0m\u001b[39;49m -> \u001b[0m\u001b[32;49m24.0\u001b[0m\r\n",
      "\u001b[1m[\u001b[0m\u001b[34;49mnotice\u001b[0m\u001b[1;39;49m]\u001b[0m\u001b[39;49m To update, run: \u001b[0m\u001b[32;49mpip install --upgrade pip\u001b[0m\r\n"
     ]
    }
   ],
   "source": [
    "!pip install geopandas==0.13.2"
   ]
  },
  {
   "cell_type": "markdown",
   "metadata": {
    "id": "Vv5bhPBIDQ5G"
   },
   "source": [
    "### Install Apache Sedona and PySpark\n",
    "\n",
    "We can now install Apache Sedona together with PySpark (and Spark)."
   ]
  },
  {
   "cell_type": "code",
   "execution_count": 3,
   "metadata": {
    "colab": {
     "base_uri": "https://localhost:8080/"
    },
    "execution": {
     "iopub.execute_input": "2024-02-25T22:05:11.712898Z",
     "iopub.status.busy": "2024-02-25T22:05:11.712616Z",
     "iopub.status.idle": "2024-02-25T22:05:13.363094Z",
     "shell.execute_reply": "2024-02-25T22:05:13.362419Z"
    },
    "id": "SOB7DNZ6AOio",
    "outputId": "5aa22c6b-d2eb-41ce-dd2e-f46a2dd2be69"
   },
   "outputs": [
    {
     "name": "stdout",
     "output_type": "stream",
     "text": [
      "Collecting apache-sedona[spark]\r\n"
     ]
    },
    {
     "name": "stdout",
     "output_type": "stream",
     "text": [
      "  Downloading apache_sedona-1.5.1-cp38-cp38-manylinux_2_17_x86_64.manylinux2014_x86_64.whl.metadata (1.3 kB)\r\n",
      "Requirement already satisfied: attrs in /opt/hostedtoolcache/Python/3.8.18/x64/lib/python3.8/site-packages (from apache-sedona[spark]) (23.2.0)\r\n",
      "Requirement already satisfied: shapely>=1.7.0 in /opt/hostedtoolcache/Python/3.8.18/x64/lib/python3.8/site-packages (from apache-sedona[spark]) (1.7.1)\r\n",
      "Requirement already satisfied: pyspark>=2.3.0 in /opt/hostedtoolcache/Python/3.8.18/x64/lib/python3.8/site-packages (from apache-sedona[spark]) (3.5.0)\r\n",
      "Requirement already satisfied: py4j==0.10.9.7 in /opt/hostedtoolcache/Python/3.8.18/x64/lib/python3.8/site-packages (from pyspark>=2.3.0->apache-sedona[spark]) (0.10.9.7)\r\n"
     ]
    },
    {
     "name": "stdout",
     "output_type": "stream",
     "text": [
      "Downloading apache_sedona-1.5.1-cp38-cp38-manylinux_2_17_x86_64.manylinux2014_x86_64.whl (155 kB)\r\n",
      "\u001b[?25l   \u001b[90m━━━━━━━━━━━━━━━━━━━━━━━━━━━━━━━━━━━━━━━━\u001b[0m \u001b[32m0.0/155.0 kB\u001b[0m \u001b[31m?\u001b[0m eta \u001b[36m-:--:--\u001b[0m\r",
      "\u001b[2K   \u001b[90m━━━━━━━━━━━━━━━━━━━━━━━━━━━━━━━━━━━━━━━━\u001b[0m \u001b[32m155.0/155.0 kB\u001b[0m \u001b[31m8.7 MB/s\u001b[0m eta \u001b[36m0:00:00\u001b[0m\r\n",
      "\u001b[?25h"
     ]
    },
    {
     "name": "stdout",
     "output_type": "stream",
     "text": [
      "Installing collected packages: apache-sedona\r\n"
     ]
    },
    {
     "name": "stdout",
     "output_type": "stream",
     "text": [
      "Successfully installed apache-sedona-1.5.1\r\n",
      "\r\n",
      "\u001b[1m[\u001b[0m\u001b[34;49mnotice\u001b[0m\u001b[1;39;49m]\u001b[0m\u001b[39;49m A new release of pip is available: \u001b[0m\u001b[31;49m23.0.1\u001b[0m\u001b[39;49m -> \u001b[0m\u001b[32;49m24.0\u001b[0m\r\n",
      "\u001b[1m[\u001b[0m\u001b[34;49mnotice\u001b[0m\u001b[1;39;49m]\u001b[0m\u001b[39;49m To update, run: \u001b[0m\u001b[32;49mpip install --upgrade pip\u001b[0m\r\n"
     ]
    }
   ],
   "source": [
    "!pip install apache-sedona[spark]"
   ]
  },
  {
   "cell_type": "code",
   "execution_count": 4,
   "metadata": {
    "colab": {
     "base_uri": "https://localhost:8080/"
    },
    "execution": {
     "iopub.execute_input": "2024-02-25T22:05:13.366364Z",
     "iopub.status.busy": "2024-02-25T22:05:13.365940Z",
     "iopub.status.idle": "2024-02-25T22:05:13.370098Z",
     "shell.execute_reply": "2024-02-25T22:05:13.369453Z"
    },
    "id": "ZoNNqcGaGrEh",
    "outputId": "aa79c622-24dd-413d-e86c-4e8f379e0b0b"
   },
   "outputs": [
    {
     "name": "stdout",
     "output_type": "stream",
     "text": [
      "env: SPARK_HOME=\"/usr/local/lib/python3.10/dist-packages/pyspark\"\n"
     ]
    }
   ],
   "source": [
    "%env SPARK_HOME = \"/usr/local/lib/python3.10/dist-packages/pyspark\""
   ]
  },
  {
   "cell_type": "code",
   "execution_count": 5,
   "metadata": {
    "colab": {
     "base_uri": "https://localhost:8080/"
    },
    "execution": {
     "iopub.execute_input": "2024-02-25T22:05:13.372530Z",
     "iopub.status.busy": "2024-02-25T22:05:13.372332Z",
     "iopub.status.idle": "2024-02-25T22:05:13.375897Z",
     "shell.execute_reply": "2024-02-25T22:05:13.375245Z"
    },
    "id": "z9fpbLrjHBeY",
    "outputId": "5dade95c-b20b-496f-a8d1-504ef69d100d"
   },
   "outputs": [
    {
     "name": "stdout",
     "output_type": "stream",
     "text": [
      "env: PYTHONPATH=/usr/local/lib/python3.10/dist-packages/pyspark/python\n"
     ]
    }
   ],
   "source": [
    "%env PYTHONPATH = /usr/local/lib/python3.10/dist-packages/pyspark/python"
   ]
  },
  {
   "cell_type": "code",
   "execution_count": 6,
   "metadata": {
    "colab": {
     "base_uri": "https://localhost:8080/"
    },
    "execution": {
     "iopub.execute_input": "2024-02-25T22:05:13.378272Z",
     "iopub.status.busy": "2024-02-25T22:05:13.378079Z",
     "iopub.status.idle": "2024-02-25T22:05:13.757725Z",
     "shell.execute_reply": "2024-02-25T22:05:13.756918Z"
    },
    "id": "d_YNI8fKiU3k",
    "outputId": "1cb25835-1990-44ed-8a65-2afeafc4dc32"
   },
   "outputs": [
    {
     "name": "stdout",
     "output_type": "stream",
     "text": [
      "ERROR: unknown command \"info\"\r\n"
     ]
    }
   ],
   "source": [
    "!pip info pyspark"
   ]
  },
  {
   "cell_type": "markdown",
   "metadata": {
    "id": "Sjlr4JO-Erv3"
   },
   "source": [
    "## Setup environment variables\n",
    "\n",
    "We need to set two environment variables:\n",
    "\n",
    "- `SPARK_HOME`\n",
    "- `PYTHONPATH`\n",
    "\n",
    "Once we have set `SPARK_HOME`, the variable `PYTHONPATH` is `$SPARK_HOME/python`.\n",
    "\n",
    "### Find Spark home\n",
    "\n",
    "There's an utility to find Spark home and I always forget how it's called exactly, what I remember is that it contains `\"find\"` and `\"spark\"`. Let us search for it:"
   ]
  },
  {
   "cell_type": "code",
   "execution_count": 7,
   "metadata": {
    "colab": {
     "base_uri": "https://localhost:8080/"
    },
    "execution": {
     "iopub.execute_input": "2024-02-25T22:05:13.761063Z",
     "iopub.status.busy": "2024-02-25T22:05:13.760593Z",
     "iopub.status.idle": "2024-02-25T22:07:49.616547Z",
     "shell.execute_reply": "2024-02-25T22:07:49.615748Z"
    },
    "id": "oK5vO9MUGQA6",
    "outputId": "c018213e-e7cc-4494-a45f-587f175d9eb7"
   },
   "outputs": [
    {
     "name": "stdout",
     "output_type": "stream",
     "text": [
      "find: ‘/run/docker’: Permission denied\r\n",
      "find: ‘/run/libpod’: Permission denied\r\n",
      "find: ‘/run/containerd’: Permission denied\r\n",
      "find: ‘/run/containers’: Permission denied\r\n",
      "find: ‘/run/chrony’: Permission denied\r\n",
      "find: ‘/run/user/1001/systemd/inaccessible/dir’: Permission denied\r\n",
      "find: ‘/run/sudo’: Permission denied\r\n",
      "find: ‘/run/podman’: Permission denied\r\n",
      "find: ‘/run/multipath’: Permission denied\r\n",
      "find: ‘/run/cryptsetup’: Permission denied\r\n",
      "find: ‘/run/lvm’: Permission denied\r\n",
      "find: ‘/run/credentials/systemd-sysusers.service’: Permission denied\r\n",
      "find: ‘/run/systemd/propagate’: Permission denied\r\n",
      "find: ‘/run/systemd/unit-root’: Permission denied\r\n",
      "find: ‘/run/systemd/inaccessible/dir’: Permission denied\r\n",
      "find: ‘/run/lock/lvm’: Permission denied\r\n",
      "find: ‘/etc/multipath’: Permission denied\r\n"
     ]
    },
    {
     "name": "stdout",
     "output_type": "stream",
     "text": [
      "find: ‘/etc/polkit-1/localauthority’: Permission denied\r\n",
      "find: ‘/etc/sudoers.d’: Permission denied\r\n"
     ]
    },
    {
     "name": "stdout",
     "output_type": "stream",
     "text": [
      "find: ‘/etc/ssl/private’: Permission denied\r\n",
      "find: ‘/mnt/lost+found’: Permission denied\r\n",
      "find: ‘/lost+found’: Permission denied\r\n",
      "find: ‘/tmp/systemd-private-4c280e448a1049b28346461d0823d9e6-systemd-resolved.service-3sWqis’: Permission denied\r\n",
      "find: ‘/tmp/systemd-private-4c280e448a1049b28346461d0823d9e6-chrony.service-ZrSNij’: Permission denied\r\n",
      "find: ‘/tmp/systemd-private-4c280e448a1049b28346461d0823d9e6-haveged.service-5dU3uV’: Permission denied\r\n",
      "find: ‘/tmp/snap-private-tmp’: Permission denied\r\n",
      "find: ‘/tmp/systemd-private-4c280e448a1049b28346461d0823d9e6-systemd-logind.service-qmgAhJ’: Permission denied\r\n",
      "find: ‘/root’: Permission denied\r\n",
      "find: ‘/home/runneradmin’: Permission denied\r\n"
     ]
    },
    {
     "name": "stdout",
     "output_type": "stream",
     "text": [
      "find: ‘/snap/core20/2105/etc/ssl/private’: Permission denied\r\n",
      "find: ‘/snap/core20/2105/root’: Permission denied\r\n"
     ]
    },
    {
     "name": "stdout",
     "output_type": "stream",
     "text": [
      "find: ‘/snap/core20/2105/var/cache/ldconfig’: Permission denied\r\n",
      "find: ‘/snap/core20/2105/var/cache/private’: Permission denied\r\n",
      "find: ‘/snap/core20/2105/var/lib/private’: Permission denied\r\n",
      "find: ‘/snap/core20/2105/var/lib/snapd/void’: Permission denied\r\n",
      "find: ‘/boot/efi’: Permission denied\r\n",
      "find: ‘/proc/tty/driver’: Permission denied\r\n",
      "find: ‘/proc/1/task/1/fd’: Permission denied\r\n",
      "find: ‘/proc/1/task/1/fdinfo’: Permission denied\r\n",
      "find: ‘/proc/1/task/1/ns’: Permission denied\r\n",
      "find: ‘/proc/1/fd’: Permission denied\r\n",
      "find: ‘/proc/1/map_files’: Permission denied\r\n",
      "find: ‘/proc/1/fdinfo’: Permission denied\r\n",
      "find: ‘/proc/1/ns’: Permission denied\r\n",
      "find: ‘/proc/2/task/2/fd’: Permission denied\r\n",
      "find: ‘/proc/2/task/2/fdinfo’: Permission denied\r\n",
      "find: ‘/proc/2/task/2/ns’: Permission denied\r\n",
      "find: ‘/proc/2/fd’: Permission denied\r\n",
      "find: ‘/proc/2/map_files’: Permission denied\r\n",
      "find: ‘/proc/2/fdinfo’: Permission denied\r\n",
      "find: ‘/proc/2/ns’: Permission denied\r\n",
      "find: ‘/proc/3/task/3/fd’: Permission denied\r\n",
      "find: ‘/proc/3/task/3/fdinfo’: Permission denied\r\n",
      "find: ‘/proc/3/task/3/ns’: Permission denied\r\n",
      "find: ‘/proc/3/fd’: Permission denied\r\n",
      "find: ‘/proc/3/map_files’: Permission denied\r\n",
      "find: ‘/proc/3/fdinfo’: Permission denied\r\n",
      "find: ‘/proc/3/ns’: Permission denied\r\n",
      "find: ‘/proc/4/task/4/fd’: Permission denied\r\n",
      "find: ‘/proc/4/task/4/fdinfo’: Permission denied\r\n",
      "find: ‘/proc/4/task/4/ns’: Permission denied\r\n",
      "find: ‘/proc/4/fd’: Permission denied\r\n",
      "find: ‘/proc/4/map_files’: Permission denied\r\n",
      "find: ‘/proc/4/fdinfo’: Permission denied\r\n",
      "find: ‘/proc/4/ns’: Permission denied\r\n",
      "find: ‘/proc/5/task/5/fd’: Permission denied\r\n",
      "find: ‘/proc/5/task/5/fdinfo’: Permission denied\r\n",
      "find: ‘/proc/5/task/5/ns’: Permission denied\r\n",
      "find: ‘/proc/5/fd’: Permission denied\r\n",
      "find: ‘/proc/5/map_files’: Permission denied\r\n",
      "find: ‘/proc/5/fdinfo’: Permission denied\r\n",
      "find: ‘/proc/5/ns’: Permission denied\r\n",
      "find: ‘/proc/6/task/6/fd’: Permission denied\r\n",
      "find: ‘/proc/6/task/6/fdinfo’: Permission denied\r\n",
      "find: ‘/proc/6/task/6/ns’: Permission denied\r\n",
      "find: ‘/proc/6/fd’: Permission denied\r\n",
      "find: ‘/proc/6/map_files’: Permission denied\r\n",
      "find: ‘/proc/6/fdinfo’: Permission denied\r\n",
      "find: ‘/proc/6/ns’: Permission denied\r\n",
      "find: ‘/proc/7/task/7/fd’: Permission denied\r\n",
      "find: ‘/proc/7/task/7/fdinfo’: Permission denied\r\n",
      "find: ‘/proc/7/task/7/ns’: Permission denied\r\n",
      "find: ‘/proc/7/fd’: Permission denied\r\n",
      "find: ‘/proc/7/map_files’: Permission denied\r\n",
      "find: ‘/proc/7/fdinfo’: Permission denied\r\n",
      "find: ‘/proc/7/ns’: Permission denied\r\n",
      "find: ‘/proc/8/task/8/fd’: Permission denied\r\n",
      "find: ‘/proc/8/task/8/fdinfo’: Permission denied\r\n",
      "find: ‘/proc/8/task/8/ns’: Permission denied\r\n",
      "find: ‘/proc/8/fd’: Permission denied\r\n",
      "find: ‘/proc/8/map_files’: Permission denied\r\n",
      "find: ‘/proc/8/fdinfo’: Permission denied\r\n",
      "find: ‘/proc/8/ns’: Permission denied\r\n",
      "find: ‘/proc/9/task/9/fd’: Permission denied\r\n",
      "find: ‘/proc/9/task/9/fdinfo’: Permission denied\r\n",
      "find: ‘/proc/9/task/9/ns’: Permission denied\r\n",
      "find: ‘/proc/9/fd’: Permission denied\r\n",
      "find: ‘/proc/9/map_files’: Permission denied\r\n",
      "find: ‘/proc/9/fdinfo’: Permission denied\r\n",
      "find: ‘/proc/9/ns’: Permission denied\r\n",
      "find: ‘/proc/10/task/10/fd’: Permission denied\r\n",
      "find: ‘/proc/10/task/10/fdinfo’: Permission denied\r\n",
      "find: ‘/proc/10/task/10/ns’: Permission denied\r\n",
      "find: ‘/proc/10/fd’: Permission denied\r\n",
      "find: ‘/proc/10/map_files’: Permission denied\r\n",
      "find: ‘/proc/10/fdinfo’: Permission denied\r\n",
      "find: ‘/proc/10/ns’: Permission denied\r\n",
      "find: ‘/proc/11/task/11/fd’: Permission denied\r\n",
      "find: ‘/proc/11/task/11/fdinfo’: Permission denied\r\n",
      "find: ‘/proc/11/task/11/ns’: Permission denied\r\n",
      "find: ‘/proc/11/fd’: Permission denied\r\n",
      "find: ‘/proc/11/map_files’: Permission denied\r\n",
      "find: ‘/proc/11/fdinfo’: Permission denied\r\n",
      "find: ‘/proc/11/ns’: Permission denied\r\n",
      "find: ‘/proc/12/task/12/fd’: Permission denied\r\n",
      "find: ‘/proc/12/task/12/fdinfo’: Permission denied\r\n",
      "find: ‘/proc/12/task/12/ns’: Permission denied\r\n",
      "find: ‘/proc/12/fd’: Permission denied\r\n",
      "find: ‘/proc/12/map_files’: Permission denied\r\n",
      "find: ‘/proc/12/fdinfo’: Permission denied\r\n",
      "find: ‘/proc/12/ns’: Permission denied\r\n",
      "find: ‘/proc/13/task/13/fd’: Permission denied\r\n",
      "find: ‘/proc/13/task/13/fdinfo’: Permission denied\r\n",
      "find: ‘/proc/13/task/13/ns’: Permission denied\r\n",
      "find: ‘/proc/13/fd’: Permission denied\r\n",
      "find: ‘/proc/13/map_files’: Permission denied\r\n",
      "find: ‘/proc/13/fdinfo’: Permission denied\r\n",
      "find: ‘/proc/13/ns’: Permission denied\r\n",
      "find: ‘/proc/14/task/14/fd’: Permission denied\r\n",
      "find: ‘/proc/14/task/14/fdinfo’: Permission denied\r\n",
      "find: ‘/proc/14/task/14/ns’: Permission denied\r\n",
      "find: ‘/proc/14/fd’: Permission denied\r\n",
      "find: ‘/proc/14/map_files’: Permission denied\r\n",
      "find: ‘/proc/14/fdinfo’: Permission denied\r\n",
      "find: ‘/proc/14/ns’: Permission denied\r\n",
      "find: ‘/proc/15/task/15/fd’: Permission denied\r\n",
      "find: ‘/proc/15/task/15/fdinfo’: Permission denied\r\n",
      "find: ‘/proc/15/task/15/ns’: Permission denied\r\n",
      "find: ‘/proc/15/fd’: Permission denied\r\n",
      "find: ‘/proc/15/map_files’: Permission denied\r\n",
      "find: ‘/proc/15/fdinfo’: Permission denied\r\n",
      "find: ‘/proc/15/ns’: Permission denied\r\n",
      "find: ‘/proc/16/task/16/fd’: Permission denied\r\n",
      "find: ‘/proc/16/task/16/fdinfo’: Permission denied\r\n",
      "find: ‘/proc/16/task/16/ns’: Permission denied\r\n",
      "find: ‘/proc/16/fd’: Permission denied\r\n",
      "find: ‘/proc/16/map_files’: Permission denied\r\n",
      "find: ‘/proc/16/fdinfo’: Permission denied\r\n",
      "find: ‘/proc/16/ns’: Permission denied\r\n"
     ]
    },
    {
     "name": "stdout",
     "output_type": "stream",
     "text": [
      "find: ‘/proc/17/task/17/fd’: Permission denied\r\n",
      "find: ‘/proc/17/task/17/fdinfo’: Permission denied\r\n",
      "find: ‘/proc/17/task/17/ns’: Permission denied\r\n",
      "find: ‘/proc/17/fd’: Permission denied\r\n",
      "find: ‘/proc/17/map_files’: Permission denied\r\n",
      "find: ‘/proc/17/fdinfo’: Permission denied\r\n",
      "find: ‘/proc/17/ns’: Permission denied\r\n",
      "find: ‘/proc/18/task/18/fd’: Permission denied\r\n",
      "find: ‘/proc/18/task/18/fdinfo’: Permission denied\r\n",
      "find: ‘/proc/18/task/18/ns’: Permission denied\r\n",
      "find: ‘/proc/18/fd’: Permission denied\r\n",
      "find: ‘/proc/18/map_files’: Permission denied\r\n",
      "find: ‘/proc/18/fdinfo’: Permission denied\r\n",
      "find: ‘/proc/18/ns’: Permission denied\r\n",
      "find: ‘/proc/19/task/19/fd’: Permission denied\r\n",
      "find: ‘/proc/19/task/19/fdinfo’: Permission denied\r\n",
      "find: ‘/proc/19/task/19/ns’: Permission denied\r\n",
      "find: ‘/proc/19/fd’: Permission denied\r\n",
      "find: ‘/proc/19/map_files’: Permission denied\r\n",
      "find: ‘/proc/19/fdinfo’: Permission denied\r\n",
      "find: ‘/proc/19/ns’: Permission denied\r\n",
      "find: ‘/proc/20/task/20/fd’: Permission denied\r\n",
      "find: ‘/proc/20/task/20/fdinfo’: Permission denied\r\n",
      "find: ‘/proc/20/task/20/ns’: Permission denied\r\n",
      "find: ‘/proc/20/fd’: Permission denied\r\n",
      "find: ‘/proc/20/map_files’: Permission denied\r\n",
      "find: ‘/proc/20/fdinfo’: Permission denied\r\n",
      "find: ‘/proc/20/ns’: Permission denied\r\n",
      "find: ‘/proc/21/task/21/fd’: Permission denied\r\n",
      "find: ‘/proc/21/task/21/fdinfo’: Permission denied\r\n",
      "find: ‘/proc/21/task/21/ns’: Permission denied\r\n",
      "find: ‘/proc/21/fd’: Permission denied\r\n",
      "find: ‘/proc/21/map_files’: Permission denied\r\n",
      "find: ‘/proc/21/fdinfo’: Permission denied\r\n",
      "find: ‘/proc/21/ns’: Permission denied\r\n",
      "find: ‘/proc/22/task/22/fd’: Permission denied\r\n",
      "find: ‘/proc/22/task/22/fdinfo’: Permission denied\r\n",
      "find: ‘/proc/22/task/22/ns’: Permission denied\r\n",
      "find: ‘/proc/22/fd’: Permission denied\r\n",
      "find: ‘/proc/22/map_files’: Permission denied\r\n",
      "find: ‘/proc/22/fdinfo’: Permission denied\r\n",
      "find: ‘/proc/22/ns’: Permission denied\r\n",
      "find: ‘/proc/23/task/23/fd’: Permission denied\r\n",
      "find: ‘/proc/23/task/23/fdinfo’: Permission denied\r\n",
      "find: ‘/proc/23/task/23/ns’: Permission denied\r\n",
      "find: ‘/proc/23/fd’: Permission denied\r\n",
      "find: ‘/proc/23/map_files’: Permission denied\r\n",
      "find: ‘/proc/23/fdinfo’: Permission denied\r\n",
      "find: ‘/proc/23/ns’: Permission denied\r\n",
      "find: ‘/proc/24/task/24/fd’: Permission denied\r\n",
      "find: ‘/proc/24/task/24/fdinfo’: Permission denied\r\n",
      "find: ‘/proc/24/task/24/ns’: Permission denied\r\n",
      "find: ‘/proc/24/fd’: Permission denied\r\n",
      "find: ‘/proc/24/map_files’: Permission denied\r\n",
      "find: ‘/proc/24/fdinfo’: Permission denied\r\n",
      "find: ‘/proc/24/ns’: Permission denied\r\n",
      "find: ‘/proc/25/task/25/fd’: Permission denied\r\n",
      "find: ‘/proc/25/task/25/fdinfo’: Permission denied\r\n",
      "find: ‘/proc/25/task/25/ns’: Permission denied\r\n",
      "find: ‘/proc/25/fd’: Permission denied\r\n",
      "find: ‘/proc/25/map_files’: Permission denied\r\n",
      "find: ‘/proc/25/fdinfo’: Permission denied\r\n",
      "find: ‘/proc/25/ns’: Permission denied\r\n",
      "find: ‘/proc/26/task/26/fd’: Permission denied\r\n",
      "find: ‘/proc/26/task/26/fdinfo’: Permission denied\r\n",
      "find: ‘/proc/26/task/26/ns’: Permission denied\r\n",
      "find: ‘/proc/26/fd’: Permission denied\r\n",
      "find: ‘/proc/26/map_files’: Permission denied\r\n",
      "find: ‘/proc/26/fdinfo’: Permission denied\r\n",
      "find: ‘/proc/26/ns’: Permission denied\r\n",
      "find: ‘/proc/27/task/27/fd’: Permission denied\r\n",
      "find: ‘/proc/27/task/27/fdinfo’: Permission denied\r\n",
      "find: ‘/proc/27/task/27/ns’: Permission denied\r\n",
      "find: ‘/proc/27/fd’: Permission denied\r\n",
      "find: ‘/proc/27/map_files’: Permission denied\r\n",
      "find: ‘/proc/27/fdinfo’: Permission denied\r\n",
      "find: ‘/proc/27/ns’: Permission denied\r\n",
      "find: ‘/proc/28/task/28/fd’: Permission denied\r\n",
      "find: ‘/proc/28/task/28/fdinfo’: Permission denied\r\n",
      "find: ‘/proc/28/task/28/ns’: Permission denied\r\n",
      "find: ‘/proc/28/fd’: Permission denied\r\n",
      "find: ‘/proc/28/map_files’: Permission denied\r\n",
      "find: ‘/proc/28/fdinfo’: Permission denied\r\n",
      "find: ‘/proc/28/ns’: Permission denied\r\n",
      "find: ‘/proc/29/task/29/fd’: Permission denied\r\n",
      "find: ‘/proc/29/task/29/fdinfo’: Permission denied\r\n",
      "find: ‘/proc/29/task/29/ns’: Permission denied\r\n",
      "find: ‘/proc/29/fd’: Permission denied\r\n",
      "find: ‘/proc/29/map_files’: Permission denied\r\n",
      "find: ‘/proc/29/fdinfo’: Permission denied\r\n",
      "find: ‘/proc/29/ns’: Permission denied\r\n",
      "find: ‘/proc/30/task/30/fd’: Permission denied\r\n",
      "find: ‘/proc/30/task/30/fdinfo’: Permission denied\r\n",
      "find: ‘/proc/30/task/30/ns’: Permission denied\r\n",
      "find: ‘/proc/30/fd’: Permission denied\r\n",
      "find: ‘/proc/30/map_files’: Permission denied\r\n",
      "find: ‘/proc/30/fdinfo’: Permission denied\r\n",
      "find: ‘/proc/30/ns’: Permission denied\r\n",
      "find: ‘/proc/31/task/31/fd’: Permission denied\r\n",
      "find: ‘/proc/31/task/31/fdinfo’: Permission denied\r\n",
      "find: ‘/proc/31/task/31/ns’: Permission denied\r\n",
      "find: ‘/proc/31/fd’: Permission denied\r\n",
      "find: ‘/proc/31/map_files’: Permission denied\r\n",
      "find: ‘/proc/31/fdinfo’: Permission denied\r\n",
      "find: ‘/proc/31/ns’: Permission denied\r\n",
      "find: ‘/proc/32/task/32/fd’: Permission denied\r\n",
      "find: ‘/proc/32/task/32/fdinfo’: Permission denied\r\n",
      "find: ‘/proc/32/task/32/ns’: Permission denied\r\n",
      "find: ‘/proc/32/fd’: Permission denied\r\n",
      "find: ‘/proc/32/map_files’: Permission denied\r\n",
      "find: ‘/proc/32/fdinfo’: Permission denied\r\n",
      "find: ‘/proc/32/ns’: Permission denied\r\n",
      "find: ‘/proc/33/task/33/fd’: Permission denied\r\n",
      "find: ‘/proc/33/task/33/fdinfo’: Permission denied\r\n",
      "find: ‘/proc/33/task/33/ns’: Permission denied\r\n",
      "find: ‘/proc/33/fd’: Permission denied\r\n",
      "find: ‘/proc/33/map_files’: Permission denied\r\n",
      "find: ‘/proc/33/fdinfo’: Permission denied\r\n",
      "find: ‘/proc/33/ns’: Permission denied\r\n",
      "find: ‘/proc/34/task/34/fd’: Permission denied\r\n",
      "find: ‘/proc/34/task/34/fdinfo’: Permission denied\r\n",
      "find: ‘/proc/34/task/34/ns’: Permission denied\r\n",
      "find: ‘/proc/34/fd’: Permission denied\r\n",
      "find: ‘/proc/34/map_files’: Permission denied\r\n",
      "find: ‘/proc/34/fdinfo’: Permission denied\r\n",
      "find: ‘/proc/34/ns’: Permission denied\r\n",
      "find: ‘/proc/35/task/35/fd’: Permission denied\r\n",
      "find: ‘/proc/35/task/35/fdinfo’: Permission denied\r\n",
      "find: ‘/proc/35/task/35/ns’: Permission denied\r\n",
      "find: ‘/proc/35/fd’: Permission denied\r\n",
      "find: ‘/proc/35/map_files’: Permission denied\r\n",
      "find: ‘/proc/35/fdinfo’: Permission denied\r\n",
      "find: ‘/proc/35/ns’: Permission denied\r\n",
      "find: ‘/proc/36/task/36/fd’: Permission denied\r\n",
      "find: ‘/proc/36/task/36/fdinfo’: Permission denied\r\n",
      "find: ‘/proc/36/task/36/ns’: Permission denied\r\n",
      "find: ‘/proc/36/fd’: Permission denied\r\n",
      "find: ‘/proc/36/map_files’: Permission denied\r\n",
      "find: ‘/proc/36/fdinfo’: Permission denied\r\n",
      "find: ‘/proc/36/ns’: Permission denied\r\n",
      "find: ‘/proc/37/task/37/fd’: Permission denied\r\n",
      "find: ‘/proc/37/task/37/fdinfo’: Permission denied\r\n",
      "find: ‘/proc/37/task/37/ns’: Permission denied\r\n",
      "find: ‘/proc/37/fd’: Permission denied\r\n",
      "find: ‘/proc/37/map_files’: Permission denied\r\n",
      "find: ‘/proc/37/fdinfo’: Permission denied\r\n",
      "find: ‘/proc/37/ns’: Permission denied\r\n",
      "find: ‘/proc/38/task/38/fd’: Permission denied\r\n",
      "find: ‘/proc/38/task/38/fdinfo’: Permission denied\r\n",
      "find: ‘/proc/38/task/38/ns’: Permission denied\r\n",
      "find: ‘/proc/38/fd’: Permission denied\r\n",
      "find: ‘/proc/38/map_files’: Permission denied\r\n",
      "find: ‘/proc/38/fdinfo’: Permission denied\r\n",
      "find: ‘/proc/38/ns’: Permission denied\r\n",
      "find: ‘/proc/39/task/39/fd’: Permission denied\r\n",
      "find: ‘/proc/39/task/39/fdinfo’: Permission denied\r\n",
      "find: ‘/proc/39/task/39/ns’: Permission denied\r\n",
      "find: ‘/proc/39/fd’: Permission denied\r\n",
      "find: ‘/proc/39/map_files’: Permission denied\r\n",
      "find: ‘/proc/39/fdinfo’: Permission denied\r\n",
      "find: ‘/proc/39/ns’: Permission denied\r\n",
      "find: ‘/proc/40/task/40/fd’: Permission denied\r\n",
      "find: ‘/proc/40/task/40/fdinfo’: Permission denied\r\n",
      "find: ‘/proc/40/task/40/ns’: Permission denied\r\n",
      "find: ‘/proc/40/fd’: Permission denied\r\n",
      "find: ‘/proc/40/map_files’: Permission denied\r\n",
      "find: ‘/proc/40/fdinfo’: Permission denied\r\n",
      "find: ‘/proc/40/ns’: Permission denied\r\n",
      "find: ‘/proc/41/task/41/fd’: Permission denied\r\n",
      "find: ‘/proc/41/task/41/fdinfo’: Permission denied\r\n",
      "find: ‘/proc/41/task/41/ns’: Permission denied\r\n",
      "find: ‘/proc/41/fd’: Permission denied\r\n",
      "find: ‘/proc/41/map_files’: Permission denied\r\n",
      "find: ‘/proc/41/fdinfo’: Permission denied\r\n",
      "find: ‘/proc/41/ns’: Permission denied\r\n",
      "find: ‘/proc/42/task/42/fd’: Permission denied\r\n",
      "find: ‘/proc/42/task/42/fdinfo’: Permission denied\r\n",
      "find: ‘/proc/42/task/42/ns’: Permission denied\r\n",
      "find: ‘/proc/42/fd’: Permission denied\r\n",
      "find: ‘/proc/42/map_files’: Permission denied\r\n",
      "find: ‘/proc/42/fdinfo’: Permission denied\r\n",
      "find: ‘/proc/42/ns’: Permission denied\r\n",
      "find: ‘/proc/43/task/43/fd’: Permission denied\r\n",
      "find: ‘/proc/43/task/43/fdinfo’: Permission denied\r\n",
      "find: ‘/proc/43/task/43/ns’: Permission denied\r\n",
      "find: ‘/proc/43/fd’: Permission denied\r\n",
      "find: ‘/proc/43/map_files’: Permission denied\r\n",
      "find: ‘/proc/43/fdinfo’: Permission denied\r\n",
      "find: ‘/proc/43/ns’: Permission denied\r\n",
      "find: ‘/proc/44/task/44/fd’: Permission denied\r\n",
      "find: ‘/proc/44/task/44/fdinfo’: Permission denied\r\n",
      "find: ‘/proc/44/task/44/ns’: Permission denied\r\n",
      "find: ‘/proc/44/fd’: Permission denied\r\n",
      "find: ‘/proc/44/map_files’: Permission denied\r\n",
      "find: ‘/proc/44/fdinfo’: Permission denied\r\n",
      "find: ‘/proc/44/ns’: Permission denied\r\n",
      "find: ‘/proc/45/task/45/fd’: Permission denied\r\n",
      "find: ‘/proc/45/task/45/fdinfo’: Permission denied\r\n",
      "find: ‘/proc/45/task/45/ns’: Permission denied\r\n",
      "find: ‘/proc/45/fd’: Permission denied\r\n",
      "find: ‘/proc/45/map_files’: Permission denied\r\n",
      "find: ‘/proc/45/fdinfo’: Permission denied\r\n",
      "find: ‘/proc/45/ns’: Permission denied\r\n",
      "find: ‘/proc/46/task/46/fd’: Permission denied\r\n",
      "find: ‘/proc/46/task/46/fdinfo’: Permission denied\r\n",
      "find: ‘/proc/46/task/46/ns’: Permission denied\r\n",
      "find: ‘/proc/46/fd’: Permission denied\r\n",
      "find: ‘/proc/46/map_files’: Permission denied\r\n",
      "find: ‘/proc/46/fdinfo’: Permission denied\r\n",
      "find: ‘/proc/46/ns’: Permission denied\r\n",
      "find: ‘/proc/47/task/47/fd’: Permission denied\r\n",
      "find: ‘/proc/47/task/47/fdinfo’: Permission denied\r\n",
      "find: ‘/proc/47/task/47/ns’: Permission denied\r\n",
      "find: ‘/proc/47/fd’: Permission denied\r\n",
      "find: ‘/proc/47/map_files’: Permission denied\r\n",
      "find: ‘/proc/47/fdinfo’: Permission denied\r\n",
      "find: ‘/proc/47/ns’: Permission denied\r\n",
      "find: ‘/proc/48/task/48/fd’: Permission denied\r\n",
      "find: ‘/proc/48/task/48/fdinfo’: Permission denied\r\n",
      "find: ‘/proc/48/task/48/ns’: Permission denied\r\n",
      "find: ‘/proc/48/fd’: Permission denied\r\n",
      "find: ‘/proc/48/map_files’: Permission denied\r\n",
      "find: ‘/proc/48/fdinfo’: Permission denied\r\n",
      "find: ‘/proc/48/ns’: Permission denied\r\n",
      "find: ‘/proc/49/task/49/fd’: Permission denied\r\n",
      "find: ‘/proc/49/task/49/fdinfo’: Permission denied\r\n",
      "find: ‘/proc/49/task/49/ns’: Permission denied\r\n",
      "find: ‘/proc/49/fd’: Permission denied\r\n",
      "find: ‘/proc/49/map_files’: Permission denied\r\n",
      "find: ‘/proc/49/fdinfo’: Permission denied\r\n",
      "find: ‘/proc/49/ns’: Permission denied\r\n",
      "find: ‘/proc/50/task/50/fd’: Permission denied\r\n",
      "find: ‘/proc/50/task/50/fdinfo’: Permission denied\r\n",
      "find: ‘/proc/50/task/50/ns’: Permission denied\r\n",
      "find: ‘/proc/50/fd’: Permission denied\r\n",
      "find: ‘/proc/50/map_files’: Permission denied\r\n",
      "find: ‘/proc/50/fdinfo’: Permission denied\r\n",
      "find: ‘/proc/50/ns’: Permission denied\r\n",
      "find: ‘/proc/51/task/51/fd’: Permission denied\r\n",
      "find: ‘/proc/51/task/51/fdinfo’: Permission denied\r\n",
      "find: ‘/proc/51/task/51/ns’: Permission denied\r\n",
      "find: ‘/proc/51/fd’: Permission denied\r\n",
      "find: ‘/proc/51/map_files’: Permission denied\r\n",
      "find: ‘/proc/51/fdinfo’: Permission denied\r\n",
      "find: ‘/proc/51/ns’: Permission denied\r\n",
      "find: ‘/proc/52/task/52/fd’: Permission denied\r\n",
      "find: ‘/proc/52/task/52/fdinfo’: Permission denied\r\n",
      "find: ‘/proc/52/task/52/ns’: Permission denied\r\n",
      "find: ‘/proc/52/fd’: Permission denied\r\n",
      "find: ‘/proc/52/map_files’: Permission denied\r\n",
      "find: ‘/proc/52/fdinfo’: Permission denied\r\n",
      "find: ‘/proc/52/ns’: Permission denied\r\n",
      "find: ‘/proc/53/task/53/fd’: Permission denied\r\n",
      "find: ‘/proc/53/task/53/fdinfo’: Permission denied\r\n",
      "find: ‘/proc/53/task/53/ns’: Permission denied\r\n",
      "find: ‘/proc/53/fd’: Permission denied\r\n",
      "find: ‘/proc/53/map_files’: Permission denied\r\n",
      "find: ‘/proc/53/fdinfo’: Permission denied\r\n",
      "find: ‘/proc/53/ns’: Permission denied\r\n",
      "find: ‘/proc/54/task/54/fd’: Permission denied\r\n",
      "find: ‘/proc/54/task/54/fdinfo’: Permission denied\r\n",
      "find: ‘/proc/54/task/54/ns’: Permission denied\r\n",
      "find: ‘/proc/54/fd’: Permission denied\r\n",
      "find: ‘/proc/54/map_files’: Permission denied\r\n",
      "find: ‘/proc/54/fdinfo’: Permission denied\r\n",
      "find: ‘/proc/54/ns’: Permission denied\r\n",
      "find: ‘/proc/55/task/55/fd’: Permission denied\r\n",
      "find: ‘/proc/55/task/55/fdinfo’: Permission denied\r\n",
      "find: ‘/proc/55/task/55/ns’: Permission denied\r\n",
      "find: ‘/proc/55/fd’: Permission denied\r\n",
      "find: ‘/proc/55/map_files’: Permission denied\r\n",
      "find: ‘/proc/55/fdinfo’: Permission denied\r\n",
      "find: ‘/proc/55/ns’: Permission denied\r\n",
      "find: ‘/proc/56/task/56/fd’: Permission denied\r\n",
      "find: ‘/proc/56/task/56/fdinfo’: Permission denied\r\n",
      "find: ‘/proc/56/task/56/ns’: Permission denied\r\n",
      "find: ‘/proc/56/fd’: Permission denied\r\n",
      "find: ‘/proc/56/map_files’: Permission denied\r\n",
      "find: ‘/proc/56/fdinfo’: Permission denied\r\n",
      "find: ‘/proc/56/ns’: Permission denied\r\n",
      "find: ‘/proc/57/task/57/fd’: Permission denied\r\n",
      "find: ‘/proc/57/task/57/fdinfo’: Permission denied\r\n",
      "find: ‘/proc/57/task/57/ns’: Permission denied\r\n",
      "find: ‘/proc/57/fd’: Permission denied\r\n",
      "find: ‘/proc/57/map_files’: Permission denied\r\n",
      "find: ‘/proc/57/fdinfo’: Permission denied\r\n",
      "find: ‘/proc/57/ns’: Permission denied\r\n",
      "find: ‘/proc/58/task/58/fd’: Permission denied\r\n",
      "find: ‘/proc/58/task/58/fdinfo’: Permission denied\r\n",
      "find: ‘/proc/58/task/58/ns’: Permission denied\r\n",
      "find: ‘/proc/58/fd’: Permission denied\r\n",
      "find: ‘/proc/58/map_files’: Permission denied\r\n",
      "find: ‘/proc/58/fdinfo’: Permission denied\r\n",
      "find: ‘/proc/58/ns’: Permission denied\r\n",
      "find: ‘/proc/59/task/59/fd’: Permission denied\r\n",
      "find: ‘/proc/59/task/59/fdinfo’: Permission denied\r\n",
      "find: ‘/proc/59/task/59/ns’: Permission denied\r\n",
      "find: ‘/proc/59/fd’: Permission denied\r\n",
      "find: ‘/proc/59/map_files’: Permission denied\r\n",
      "find: ‘/proc/59/fdinfo’: Permission denied\r\n",
      "find: ‘/proc/59/ns’: Permission denied\r\n",
      "find: ‘/proc/60/task/60/fd’: Permission denied\r\n",
      "find: ‘/proc/60/task/60/fdinfo’: Permission denied\r\n",
      "find: ‘/proc/60/task/60/ns’: Permission denied\r\n",
      "find: ‘/proc/60/fd’: Permission denied\r\n",
      "find: ‘/proc/60/map_files’: Permission denied\r\n",
      "find: ‘/proc/60/fdinfo’: Permission denied\r\n",
      "find: ‘/proc/60/ns’: Permission denied\r\n",
      "find: ‘/proc/61/task/61/fd’: Permission denied\r\n",
      "find: ‘/proc/61/task/61/fdinfo’: Permission denied\r\n",
      "find: ‘/proc/61/task/61/ns’: Permission denied\r\n",
      "find: ‘/proc/61/fd’: Permission denied\r\n",
      "find: ‘/proc/61/map_files’: Permission denied\r\n",
      "find: ‘/proc/61/fdinfo’: Permission denied\r\n",
      "find: ‘/proc/61/ns’: Permission denied\r\n",
      "find: ‘/proc/62/task/62/fd’: Permission denied\r\n",
      "find: ‘/proc/62/task/62/fdinfo’: Permission denied\r\n",
      "find: ‘/proc/62/task/62/ns’: Permission denied\r\n",
      "find: ‘/proc/62/fd’: Permission denied\r\n",
      "find: ‘/proc/62/map_files’: Permission denied\r\n",
      "find: ‘/proc/62/fdinfo’: Permission denied\r\n",
      "find: ‘/proc/62/ns’: Permission denied\r\n",
      "find: ‘/proc/63/task/63/fd’: Permission denied\r\n",
      "find: ‘/proc/63/task/63/fdinfo’: Permission denied\r\n",
      "find: ‘/proc/63/task/63/ns’: Permission denied\r\n",
      "find: ‘/proc/63/fd’: Permission denied\r\n",
      "find: ‘/proc/63/map_files’: Permission denied\r\n",
      "find: ‘/proc/63/fdinfo’: Permission denied\r\n",
      "find: ‘/proc/63/ns’: Permission denied\r\n",
      "find: ‘/proc/64/task/64/fd’: Permission denied\r\n",
      "find: ‘/proc/64/task/64/fdinfo’: Permission denied\r\n",
      "find: ‘/proc/64/task/64/ns’: Permission denied\r\n",
      "find: ‘/proc/64/fd’: Permission denied\r\n",
      "find: ‘/proc/64/map_files’: Permission denied\r\n",
      "find: ‘/proc/64/fdinfo’: Permission denied\r\n",
      "find: ‘/proc/64/ns’: Permission denied\r\n",
      "find: ‘/proc/65/task/65/fd’: Permission denied\r\n",
      "find: ‘/proc/65/task/65/fdinfo’: Permission denied\r\n",
      "find: ‘/proc/65/task/65/ns’: Permission denied\r\n",
      "find: ‘/proc/65/fd’: Permission denied\r\n",
      "find: ‘/proc/65/map_files’: Permission denied\r\n",
      "find: ‘/proc/65/fdinfo’: Permission denied\r\n",
      "find: ‘/proc/65/ns’: Permission denied\r\n",
      "find: ‘/proc/66/task/66/fd’: Permission denied\r\n",
      "find: ‘/proc/66/task/66/fdinfo’: Permission denied\r\n",
      "find: ‘/proc/66/task/66/ns’: Permission denied\r\n",
      "find: ‘/proc/66/fd’: Permission denied\r\n",
      "find: ‘/proc/66/map_files’: Permission denied\r\n",
      "find: ‘/proc/66/fdinfo’: Permission denied\r\n",
      "find: ‘/proc/66/ns’: Permission denied\r\n",
      "find: ‘/proc/67/task/67/fd’: Permission denied\r\n",
      "find: ‘/proc/67/task/67/fdinfo’: Permission denied\r\n",
      "find: ‘/proc/67/task/67/ns’: Permission denied\r\n",
      "find: ‘/proc/67/fd’: Permission denied\r\n",
      "find: ‘/proc/67/map_files’: Permission denied\r\n",
      "find: ‘/proc/67/fdinfo’: Permission denied\r\n",
      "find: ‘/proc/67/ns’: Permission denied\r\n",
      "find: ‘/proc/68/task/68/fd’: Permission denied\r\n",
      "find: ‘/proc/68/task/68/fdinfo’: Permission denied\r\n",
      "find: ‘/proc/68/task/68/ns’: Permission denied\r\n",
      "find: ‘/proc/68/fd’: Permission denied\r\n",
      "find: ‘/proc/68/map_files’: Permission denied\r\n",
      "find: ‘/proc/68/fdinfo’: Permission denied\r\n",
      "find: ‘/proc/68/ns’: Permission denied\r\n",
      "find: ‘/proc/69/task/69/fd’: Permission denied\r\n",
      "find: ‘/proc/69/task/69/fdinfo’: Permission denied\r\n",
      "find: ‘/proc/69/task/69/ns’: Permission denied\r\n",
      "find: ‘/proc/69/fd’: Permission denied\r\n",
      "find: ‘/proc/69/map_files’: Permission denied\r\n",
      "find: ‘/proc/69/fdinfo’: Permission denied\r\n",
      "find: ‘/proc/69/ns’: Permission denied\r\n",
      "find: ‘/proc/70/task/70/fd’: Permission denied\r\n",
      "find: ‘/proc/70/task/70/fdinfo’: Permission denied\r\n",
      "find: ‘/proc/70/task/70/ns’: Permission denied\r\n",
      "find: ‘/proc/70/fd’: Permission denied\r\n",
      "find: ‘/proc/70/map_files’: Permission denied\r\n",
      "find: ‘/proc/70/fdinfo’: Permission denied\r\n",
      "find: ‘/proc/70/ns’: Permission denied\r\n",
      "find: ‘/proc/71/task/71/fd’: Permission denied\r\n",
      "find: ‘/proc/71/task/71/fdinfo’: Permission denied\r\n",
      "find: ‘/proc/71/task/71/ns’: Permission denied\r\n",
      "find: ‘/proc/71/fd’: Permission denied\r\n",
      "find: ‘/proc/71/map_files’: Permission denied\r\n",
      "find: ‘/proc/71/fdinfo’: Permission denied\r\n",
      "find: ‘/proc/71/ns’: Permission denied\r\n",
      "find: ‘/proc/72/task/72/fd’: Permission denied\r\n",
      "find: ‘/proc/72/task/72/fdinfo’: Permission denied\r\n",
      "find: ‘/proc/72/task/72/ns’: Permission denied\r\n",
      "find: ‘/proc/72/fd’: Permission denied\r\n",
      "find: ‘/proc/72/map_files’: Permission denied\r\n",
      "find: ‘/proc/72/fdinfo’: Permission denied\r\n",
      "find: ‘/proc/72/ns’: Permission denied\r\n",
      "find: ‘/proc/73/task/73/fd’: Permission denied\r\n",
      "find: ‘/proc/73/task/73/fdinfo’: Permission denied\r\n",
      "find: ‘/proc/73/task/73/ns’: Permission denied\r\n",
      "find: ‘/proc/73/fd’: Permission denied\r\n",
      "find: ‘/proc/73/map_files’: Permission denied\r\n",
      "find: ‘/proc/73/fdinfo’: Permission denied\r\n",
      "find: ‘/proc/73/ns’: Permission denied\r\n",
      "find: ‘/proc/74/task/74/fd’: Permission denied\r\n",
      "find: ‘/proc/74/task/74/fdinfo’: Permission denied\r\n",
      "find: ‘/proc/74/task/74/ns’: Permission denied\r\n",
      "find: ‘/proc/74/fd’: Permission denied\r\n",
      "find: ‘/proc/74/map_files’: Permission denied\r\n",
      "find: ‘/proc/74/fdinfo’: Permission denied\r\n",
      "find: ‘/proc/74/ns’: Permission denied\r\n",
      "find: ‘/proc/75/task/75/fd’: Permission denied\r\n",
      "find: ‘/proc/75/task/75/fdinfo’: Permission denied\r\n",
      "find: ‘/proc/75/task/75/ns’: Permission denied\r\n",
      "find: ‘/proc/75/fd’: Permission denied\r\n",
      "find: ‘/proc/75/map_files’: Permission denied\r\n",
      "find: ‘/proc/75/fdinfo’: Permission denied\r\n",
      "find: ‘/proc/75/ns’: Permission denied\r\n",
      "find: ‘/proc/76/task/76/fd’: Permission denied\r\n",
      "find: ‘/proc/76/task/76/fdinfo’: Permission denied\r\n",
      "find: ‘/proc/76/task/76/ns’: Permission denied\r\n",
      "find: ‘/proc/76/fd’: Permission denied\r\n",
      "find: ‘/proc/76/map_files’: Permission denied\r\n",
      "find: ‘/proc/76/fdinfo’: Permission denied\r\n",
      "find: ‘/proc/76/ns’: Permission denied\r\n",
      "find: ‘/proc/77/task/77/fd’: Permission denied\r\n",
      "find: ‘/proc/77/task/77/fdinfo’: Permission denied\r\n",
      "find: ‘/proc/77/task/77/ns’: Permission denied\r\n",
      "find: ‘/proc/77/fd’: Permission denied\r\n",
      "find: ‘/proc/77/map_files’: Permission denied\r\n",
      "find: ‘/proc/77/fdinfo’: Permission denied\r\n",
      "find: ‘/proc/77/ns’: Permission denied\r\n",
      "find: ‘/proc/78/task/78/fd’: Permission denied\r\n",
      "find: ‘/proc/78/task/78/fdinfo’: Permission denied\r\n",
      "find: ‘/proc/78/task/78/ns’: Permission denied\r\n",
      "find: ‘/proc/78/fd’: Permission denied\r\n",
      "find: ‘/proc/78/map_files’: Permission denied\r\n",
      "find: ‘/proc/78/fdinfo’: Permission denied\r\n",
      "find: ‘/proc/78/ns’: Permission denied\r\n",
      "find: ‘/proc/79/task/79/fd’: Permission denied\r\n",
      "find: ‘/proc/79/task/79/fdinfo’: Permission denied\r\n",
      "find: ‘/proc/79/task/79/ns’: Permission denied\r\n",
      "find: ‘/proc/79/fd’: Permission denied\r\n",
      "find: ‘/proc/79/map_files’: Permission denied\r\n",
      "find: ‘/proc/79/fdinfo’: Permission denied\r\n",
      "find: ‘/proc/79/ns’: Permission denied\r\n",
      "find: ‘/proc/80/task/80/fd’: Permission denied\r\n",
      "find: ‘/proc/80/task/80/fdinfo’: Permission denied\r\n",
      "find: ‘/proc/80/task/80/ns’: Permission denied\r\n",
      "find: ‘/proc/80/fd’: Permission denied\r\n",
      "find: ‘/proc/80/map_files’: Permission denied\r\n",
      "find: ‘/proc/80/fdinfo’: Permission denied\r\n",
      "find: ‘/proc/80/ns’: Permission denied\r\n",
      "find: ‘/proc/81/task/81/fd’: Permission denied\r\n",
      "find: ‘/proc/81/task/81/fdinfo’: Permission denied\r\n",
      "find: ‘/proc/81/task/81/ns’: Permission denied\r\n",
      "find: ‘/proc/81/fd’: Permission denied\r\n",
      "find: ‘/proc/81/map_files’: Permission denied\r\n",
      "find: ‘/proc/81/fdinfo’: Permission denied\r\n",
      "find: ‘/proc/81/ns’: Permission denied\r\n",
      "find: ‘/proc/82/task/82/fd’: Permission denied\r\n",
      "find: ‘/proc/82/task/82/fdinfo’: Permission denied\r\n",
      "find: ‘/proc/82/task/82/ns’: Permission denied\r\n",
      "find: ‘/proc/82/fd’: Permission denied\r\n",
      "find: ‘/proc/82/map_files’: Permission denied\r\n",
      "find: ‘/proc/82/fdinfo’: Permission denied\r\n",
      "find: ‘/proc/82/ns’: Permission denied\r\n",
      "find: ‘/proc/83/task/83/fd’: Permission denied\r\n",
      "find: ‘/proc/83/task/83/fdinfo’: Permission denied\r\n",
      "find: ‘/proc/83/task/83/ns’: Permission denied\r\n",
      "find: ‘/proc/83/fd’: Permission denied\r\n",
      "find: ‘/proc/83/map_files’: Permission denied\r\n",
      "find: ‘/proc/83/fdinfo’: Permission denied\r\n",
      "find: ‘/proc/83/ns’: Permission denied\r\n",
      "find: ‘/proc/84/task/84/fd’: Permission denied\r\n",
      "find: ‘/proc/84/task/84/fdinfo’: Permission denied\r\n",
      "find: ‘/proc/84/task/84/ns’: Permission denied\r\n",
      "find: ‘/proc/84/fd’: Permission denied\r\n",
      "find: ‘/proc/84/map_files’: Permission denied\r\n",
      "find: ‘/proc/84/fdinfo’: Permission denied\r\n",
      "find: ‘/proc/84/ns’: Permission denied\r\n",
      "find: ‘/proc/85/task/85/fd’: Permission denied\r\n",
      "find: ‘/proc/85/task/85/fdinfo’: Permission denied\r\n",
      "find: ‘/proc/85/task/85/ns’: Permission denied\r\n",
      "find: ‘/proc/85/fd’: Permission denied\r\n",
      "find: ‘/proc/85/map_files’: Permission denied\r\n",
      "find: ‘/proc/85/fdinfo’: Permission denied\r\n",
      "find: ‘/proc/85/ns’: Permission denied\r\n",
      "find: ‘/proc/86/task/86/fd’: Permission denied\r\n",
      "find: ‘/proc/86/task/86/fdinfo’: Permission denied\r\n",
      "find: ‘/proc/86/task/86/ns’: Permission denied\r\n",
      "find: ‘/proc/86/fd’: Permission denied\r\n",
      "find: ‘/proc/86/map_files’: Permission denied\r\n",
      "find: ‘/proc/86/fdinfo’: Permission denied\r\n",
      "find: ‘/proc/86/ns’: Permission denied\r\n",
      "find: ‘/proc/87/task/87/fd’: Permission denied\r\n",
      "find: ‘/proc/87/task/87/fdinfo’: Permission denied\r\n",
      "find: ‘/proc/87/task/87/ns’: Permission denied\r\n",
      "find: ‘/proc/87/fd’: Permission denied\r\n",
      "find: ‘/proc/87/map_files’: Permission denied\r\n",
      "find: ‘/proc/87/fdinfo’: Permission denied\r\n",
      "find: ‘/proc/87/ns’: Permission denied\r\n",
      "find: ‘/proc/94/task/94/fd’: Permission denied\r\n",
      "find: ‘/proc/94/task/94/fdinfo’: Permission denied\r\n",
      "find: ‘/proc/94/task/94/ns’: Permission denied\r\n",
      "find: ‘/proc/94/fd’: Permission denied\r\n",
      "find: ‘/proc/94/map_files’: Permission denied\r\n",
      "find: ‘/proc/94/fdinfo’: Permission denied\r\n",
      "find: ‘/proc/94/ns’: Permission denied\r\n",
      "find: ‘/proc/96/task/96/fd’: Permission denied\r\n"
     ]
    },
    {
     "name": "stdout",
     "output_type": "stream",
     "text": [
      "find: ‘/proc/96/task/96/fdinfo’: Permission denied\r\n",
      "find: ‘/proc/96/task/96/ns’: Permission denied\r\n",
      "find: ‘/proc/96/fd’: Permission denied\r\n",
      "find: ‘/proc/96/map_files’: Permission denied\r\n",
      "find: ‘/proc/96/fdinfo’: Permission denied\r\n",
      "find: ‘/proc/96/ns’: Permission denied\r\n",
      "find: ‘/proc/97/task/97/fd’: Permission denied\r\n",
      "find: ‘/proc/97/task/97/fdinfo’: Permission denied\r\n",
      "find: ‘/proc/97/task/97/ns’: Permission denied\r\n",
      "find: ‘/proc/97/fd’: Permission denied\r\n",
      "find: ‘/proc/97/map_files’: Permission denied\r\n",
      "find: ‘/proc/97/fdinfo’: Permission denied\r\n",
      "find: ‘/proc/97/ns’: Permission denied\r\n",
      "find: ‘/proc/101/task/101/fd’: Permission denied\r\n",
      "find: ‘/proc/101/task/101/fdinfo’: Permission denied\r\n",
      "find: ‘/proc/101/task/101/ns’: Permission denied\r\n",
      "find: ‘/proc/101/fd’: Permission denied\r\n",
      "find: ‘/proc/101/map_files’: Permission denied\r\n",
      "find: ‘/proc/101/fdinfo’: Permission denied\r\n",
      "find: ‘/proc/101/ns’: Permission denied\r\n",
      "find: ‘/proc/102/task/102/fd’: Permission denied\r\n",
      "find: ‘/proc/102/task/102/fdinfo’: Permission denied\r\n",
      "find: ‘/proc/102/task/102/ns’: Permission denied\r\n",
      "find: ‘/proc/102/fd’: Permission denied\r\n",
      "find: ‘/proc/102/map_files’: Permission denied\r\n",
      "find: ‘/proc/102/fdinfo’: Permission denied\r\n",
      "find: ‘/proc/102/ns’: Permission denied\r\n",
      "find: ‘/proc/103/task/103/fd’: Permission denied\r\n",
      "find: ‘/proc/103/task/103/fdinfo’: Permission denied\r\n",
      "find: ‘/proc/103/task/103/ns’: Permission denied\r\n",
      "find: ‘/proc/103/fd’: Permission denied\r\n",
      "find: ‘/proc/103/map_files’: Permission denied\r\n",
      "find: ‘/proc/103/fdinfo’: Permission denied\r\n",
      "find: ‘/proc/103/ns’: Permission denied\r\n",
      "find: ‘/proc/104/task/104/fd’: Permission denied\r\n",
      "find: ‘/proc/104/task/104/fdinfo’: Permission denied\r\n",
      "find: ‘/proc/104/task/104/ns’: Permission denied\r\n",
      "find: ‘/proc/104/fd’: Permission denied\r\n",
      "find: ‘/proc/104/map_files’: Permission denied\r\n",
      "find: ‘/proc/104/fdinfo’: Permission denied\r\n",
      "find: ‘/proc/104/ns’: Permission denied\r\n",
      "find: ‘/proc/132/task/132/fd’: Permission denied\r\n",
      "find: ‘/proc/132/task/132/fdinfo’: Permission denied\r\n",
      "find: ‘/proc/132/task/132/ns’: Permission denied\r\n",
      "find: ‘/proc/132/fd’: Permission denied\r\n",
      "find: ‘/proc/132/map_files’: Permission denied\r\n",
      "find: ‘/proc/132/fdinfo’: Permission denied\r\n",
      "find: ‘/proc/132/ns’: Permission denied\r\n",
      "find: ‘/proc/149/task/149/fd’: Permission denied\r\n",
      "find: ‘/proc/149/task/149/fdinfo’: Permission denied\r\n",
      "find: ‘/proc/149/task/149/ns’: Permission denied\r\n",
      "find: ‘/proc/149/fd’: Permission denied\r\n",
      "find: ‘/proc/149/map_files’: Permission denied\r\n",
      "find: ‘/proc/149/fdinfo’: Permission denied\r\n",
      "find: ‘/proc/149/ns’: Permission denied\r\n",
      "find: ‘/proc/161/task/161/fd’: Permission denied\r\n",
      "find: ‘/proc/161/task/161/fdinfo’: Permission denied\r\n",
      "find: ‘/proc/161/task/161/ns’: Permission denied\r\n",
      "find: ‘/proc/161/fd’: Permission denied\r\n",
      "find: ‘/proc/161/map_files’: Permission denied\r\n",
      "find: ‘/proc/161/fdinfo’: Permission denied\r\n",
      "find: ‘/proc/161/ns’: Permission denied\r\n",
      "find: ‘/proc/173/task/173/fd’: Permission denied\r\n",
      "find: ‘/proc/173/task/173/fdinfo’: Permission denied\r\n",
      "find: ‘/proc/173/task/173/ns’: Permission denied\r\n",
      "find: ‘/proc/173/fd’: Permission denied\r\n",
      "find: ‘/proc/173/map_files’: Permission denied\r\n",
      "find: ‘/proc/173/fdinfo’: Permission denied\r\n",
      "find: ‘/proc/173/ns’: Permission denied\r\n",
      "find: ‘/proc/180/task/180/fd’: Permission denied\r\n",
      "find: ‘/proc/180/task/180/fdinfo’: Permission denied\r\n",
      "find: ‘/proc/180/task/180/ns’: Permission denied\r\n",
      "find: ‘/proc/180/fd’: Permission denied\r\n",
      "find: ‘/proc/180/map_files’: Permission denied\r\n",
      "find: ‘/proc/180/fdinfo’: Permission denied\r\n",
      "find: ‘/proc/180/ns’: Permission denied\r\n",
      "find: ‘/proc/187/task/187/fd’: Permission denied\r\n",
      "find: ‘/proc/187/task/187/fdinfo’: Permission denied\r\n",
      "find: ‘/proc/187/task/187/ns’: Permission denied\r\n",
      "find: ‘/proc/187/fd’: Permission denied\r\n",
      "find: ‘/proc/187/map_files’: Permission denied\r\n",
      "find: ‘/proc/187/fdinfo’: Permission denied\r\n",
      "find: ‘/proc/187/ns’: Permission denied\r\n",
      "find: ‘/proc/188/task/188/fd’: Permission denied\r\n",
      "find: ‘/proc/188/task/188/fdinfo’: Permission denied\r\n",
      "find: ‘/proc/188/task/188/ns’: Permission denied\r\n",
      "find: ‘/proc/188/fd’: Permission denied\r\n",
      "find: ‘/proc/188/map_files’: Permission denied\r\n",
      "find: ‘/proc/188/fdinfo’: Permission denied\r\n",
      "find: ‘/proc/188/ns’: Permission denied\r\n",
      "find: ‘/proc/189/task/189/fd’: Permission denied\r\n",
      "find: ‘/proc/189/task/189/fdinfo’: Permission denied\r\n",
      "find: ‘/proc/189/task/189/ns’: Permission denied\r\n",
      "find: ‘/proc/189/fd’: Permission denied\r\n",
      "find: ‘/proc/189/map_files’: Permission denied\r\n",
      "find: ‘/proc/189/fdinfo’: Permission denied\r\n",
      "find: ‘/proc/189/ns’: Permission denied\r\n",
      "find: ‘/proc/190/task/190/fd’: Permission denied\r\n",
      "find: ‘/proc/190/task/190/fdinfo’: Permission denied\r\n",
      "find: ‘/proc/190/task/190/ns’: Permission denied\r\n",
      "find: ‘/proc/190/fd’: Permission denied\r\n",
      "find: ‘/proc/190/map_files’: Permission denied\r\n",
      "find: ‘/proc/190/fdinfo’: Permission denied\r\n",
      "find: ‘/proc/190/ns’: Permission denied\r\n",
      "find: ‘/proc/191/task/191/fd’: Permission denied\r\n",
      "find: ‘/proc/191/task/191/fdinfo’: Permission denied\r\n",
      "find: ‘/proc/191/task/191/ns’: Permission denied\r\n",
      "find: ‘/proc/191/task/196/fd’: Permission denied\r\n",
      "find: ‘/proc/191/task/196/fdinfo’: Permission denied\r\n",
      "find: ‘/proc/191/task/196/ns’: Permission denied\r\n",
      "find: ‘/proc/191/task/197/fd’: Permission denied\r\n",
      "find: ‘/proc/191/task/197/fdinfo’: Permission denied\r\n",
      "find: ‘/proc/191/task/197/ns’: Permission denied\r\n",
      "find: ‘/proc/191/task/198/fd’: Permission denied\r\n",
      "find: ‘/proc/191/task/198/fdinfo’: Permission denied\r\n",
      "find: ‘/proc/191/task/198/ns’: Permission denied\r\n",
      "find: ‘/proc/191/task/199/fd’: Permission denied\r\n",
      "find: ‘/proc/191/task/199/fdinfo’: Permission denied\r\n",
      "find: ‘/proc/191/task/199/ns’: Permission denied\r\n",
      "find: ‘/proc/191/task/200/fd’: Permission denied\r\n",
      "find: ‘/proc/191/task/200/fdinfo’: Permission denied\r\n",
      "find: ‘/proc/191/task/200/ns’: Permission denied\r\n",
      "find: ‘/proc/191/task/201/fd’: Permission denied\r\n",
      "find: ‘/proc/191/task/201/fdinfo’: Permission denied\r\n",
      "find: ‘/proc/191/task/201/ns’: Permission denied\r\n",
      "find: ‘/proc/191/fd’: Permission denied\r\n",
      "find: ‘/proc/191/map_files’: Permission denied\r\n",
      "find: ‘/proc/191/fdinfo’: Permission denied\r\n",
      "find: ‘/proc/191/ns’: Permission denied\r\n",
      "find: ‘/proc/195/task/195/fd’: Permission denied\r\n",
      "find: ‘/proc/195/task/195/fdinfo’: Permission denied\r\n",
      "find: ‘/proc/195/task/195/ns’: Permission denied\r\n",
      "find: ‘/proc/195/fd’: Permission denied\r\n",
      "find: ‘/proc/195/map_files’: Permission denied\r\n",
      "find: ‘/proc/195/fdinfo’: Permission denied\r\n",
      "find: ‘/proc/195/ns’: Permission denied\r\n",
      "find: ‘/proc/230/task/230/fd’: Permission denied\r\n",
      "find: ‘/proc/230/task/230/fdinfo’: Permission denied\r\n",
      "find: ‘/proc/230/task/230/ns’: Permission denied\r\n",
      "find: ‘/proc/230/fd’: Permission denied\r\n",
      "find: ‘/proc/230/map_files’: Permission denied\r\n",
      "find: ‘/proc/230/fdinfo’: Permission denied\r\n",
      "find: ‘/proc/230/ns’: Permission denied\r\n",
      "find: ‘/proc/231/task/231/fd’: Permission denied\r\n",
      "find: ‘/proc/231/task/231/fdinfo’: Permission denied\r\n",
      "find: ‘/proc/231/task/231/ns’: Permission denied\r\n",
      "find: ‘/proc/231/fd’: Permission denied\r\n",
      "find: ‘/proc/231/map_files’: Permission denied\r\n",
      "find: ‘/proc/231/fdinfo’: Permission denied\r\n",
      "find: ‘/proc/231/ns’: Permission denied\r\n",
      "find: ‘/proc/263/task/263/fd’: Permission denied\r\n",
      "find: ‘/proc/263/task/263/fdinfo’: Permission denied\r\n",
      "find: ‘/proc/263/task/263/ns’: Permission denied\r\n",
      "find: ‘/proc/263/fd’: Permission denied\r\n",
      "find: ‘/proc/263/map_files’: Permission denied\r\n",
      "find: ‘/proc/263/fdinfo’: Permission denied\r\n",
      "find: ‘/proc/263/ns’: Permission denied\r\n",
      "find: ‘/proc/264/task/264/fd’: Permission denied\r\n",
      "find: ‘/proc/264/task/264/fdinfo’: Permission denied\r\n",
      "find: ‘/proc/264/task/264/ns’: Permission denied\r\n",
      "find: ‘/proc/264/fd’: Permission denied\r\n",
      "find: ‘/proc/264/map_files’: Permission denied\r\n",
      "find: ‘/proc/264/fdinfo’: Permission denied\r\n",
      "find: ‘/proc/264/ns’: Permission denied\r\n",
      "find: ‘/proc/383/task/383/fd’: Permission denied\r\n",
      "find: ‘/proc/383/task/383/fdinfo’: Permission denied\r\n",
      "find: ‘/proc/383/task/383/ns’: Permission denied\r\n",
      "find: ‘/proc/383/fd’: Permission denied\r\n",
      "find: ‘/proc/383/map_files’: Permission denied\r\n",
      "find: ‘/proc/383/fdinfo’: Permission denied\r\n",
      "find: ‘/proc/383/ns’: Permission denied\r\n",
      "find: ‘/proc/392/task/392/fd’: Permission denied\r\n",
      "find: ‘/proc/392/task/392/fdinfo’: Permission denied\r\n",
      "find: ‘/proc/392/task/392/ns’: Permission denied\r\n",
      "find: ‘/proc/392/fd’: Permission denied\r\n",
      "find: ‘/proc/392/map_files’: Permission denied\r\n",
      "find: ‘/proc/392/fdinfo’: Permission denied\r\n",
      "find: ‘/proc/392/ns’: Permission denied\r\n",
      "find: ‘/proc/461/task/461/fd’: Permission denied\r\n",
      "find: ‘/proc/461/task/461/fdinfo’: Permission denied\r\n",
      "find: ‘/proc/461/task/461/ns’: Permission denied\r\n",
      "find: ‘/proc/461/fd’: Permission denied\r\n",
      "find: ‘/proc/461/map_files’: Permission denied\r\n",
      "find: ‘/proc/461/fdinfo’: Permission denied\r\n",
      "find: ‘/proc/461/ns’: Permission denied\r\n",
      "find: ‘/proc/463/task/463/fd’: Permission denied\r\n",
      "find: ‘/proc/463/task/463/fdinfo’: Permission denied\r\n",
      "find: ‘/proc/463/task/463/ns’: Permission denied\r\n",
      "find: ‘/proc/463/fd’: Permission denied\r\n",
      "find: ‘/proc/463/map_files’: Permission denied\r\n",
      "find: ‘/proc/463/fdinfo’: Permission denied\r\n",
      "find: ‘/proc/463/ns’: Permission denied\r\n",
      "find: ‘/proc/530/task/530/fd’: Permission denied\r\n",
      "find: ‘/proc/530/task/530/fdinfo’: Permission denied\r\n",
      "find: ‘/proc/530/task/530/ns’: Permission denied\r\n",
      "find: ‘/proc/530/fd’: Permission denied\r\n",
      "find: ‘/proc/530/map_files’: Permission denied\r\n",
      "find: ‘/proc/530/fdinfo’: Permission denied\r\n",
      "find: ‘/proc/530/ns’: Permission denied\r\n",
      "find: ‘/proc/531/task/531/fd’: Permission denied\r\n",
      "find: ‘/proc/531/task/531/fdinfo’: Permission denied\r\n",
      "find: ‘/proc/531/task/531/ns’: Permission denied\r\n",
      "find: ‘/proc/531/fd’: Permission denied\r\n",
      "find: ‘/proc/531/map_files’: Permission denied\r\n",
      "find: ‘/proc/531/fdinfo’: Permission denied\r\n",
      "find: ‘/proc/531/ns’: Permission denied\r\n",
      "find: ‘/proc/574/task/574/fd’: Permission denied\r\n",
      "find: ‘/proc/574/task/574/fdinfo’: Permission denied\r\n",
      "find: ‘/proc/574/task/574/ns’: Permission denied\r\n",
      "find: ‘/proc/574/fd’: Permission denied\r\n",
      "find: ‘/proc/574/map_files’: Permission denied\r\n",
      "find: ‘/proc/574/fdinfo’: Permission denied\r\n",
      "find: ‘/proc/574/ns’: Permission denied\r\n",
      "find: ‘/proc/577/task/577/fd’: Permission denied\r\n",
      "find: ‘/proc/577/task/577/fdinfo’: Permission denied\r\n",
      "find: ‘/proc/577/task/577/ns’: Permission denied\r\n",
      "find: ‘/proc/577/fd’: Permission denied\r\n",
      "find: ‘/proc/577/map_files’: Permission denied\r\n",
      "find: ‘/proc/577/fdinfo’: Permission denied\r\n",
      "find: ‘/proc/577/ns’: Permission denied\r\n",
      "find: ‘/proc/581/task/581/fd’: Permission denied\r\n",
      "find: ‘/proc/581/task/581/fdinfo’: Permission denied\r\n",
      "find: ‘/proc/581/task/581/ns’: Permission denied\r\n",
      "find: ‘/proc/581/task/598/fd’: Permission denied\r\n",
      "find: ‘/proc/581/task/598/fdinfo’: Permission denied\r\n",
      "find: ‘/proc/581/task/598/ns’: Permission denied\r\n",
      "find: ‘/proc/581/fd’: Permission denied\r\n",
      "find: ‘/proc/581/map_files’: Permission denied\r\n",
      "find: ‘/proc/581/fdinfo’: Permission denied\r\n",
      "find: ‘/proc/581/ns’: Permission denied\r\n",
      "find: ‘/proc/582/task/582/fd’: Permission denied\r\n",
      "find: ‘/proc/582/task/582/fdinfo’: Permission denied\r\n",
      "find: ‘/proc/582/task/582/ns’: Permission denied\r\n",
      "find: ‘/proc/582/fd’: Permission denied\r\n",
      "find: ‘/proc/582/map_files’: Permission denied\r\n",
      "find: ‘/proc/582/fdinfo’: Permission denied\r\n",
      "find: ‘/proc/582/ns’: Permission denied\r\n",
      "find: ‘/proc/584/task/584/fd’: Permission denied\r\n",
      "find: ‘/proc/584/task/584/fdinfo’: Permission denied\r\n",
      "find: ‘/proc/584/task/584/ns’: Permission denied\r\n",
      "find: ‘/proc/584/fd’: Permission denied\r\n",
      "find: ‘/proc/584/map_files’: Permission denied\r\n",
      "find: ‘/proc/584/fdinfo’: Permission denied\r\n",
      "find: ‘/proc/584/ns’: Permission denied\r\n",
      "find: ‘/proc/587/task/587/fd’: Permission denied\r\n",
      "find: ‘/proc/587/task/587/fdinfo’: Permission denied\r\n",
      "find: ‘/proc/587/task/587/ns’: Permission denied\r\n",
      "find: ‘/proc/587/task/622/fd’: Permission denied\r\n",
      "find: ‘/proc/587/task/622/fdinfo’: Permission denied\r\n",
      "find: ‘/proc/587/task/622/ns’: Permission denied\r\n",
      "find: ‘/proc/587/task/623/fd’: Permission denied\r\n",
      "find: ‘/proc/587/task/623/fdinfo’: Permission denied\r\n",
      "find: ‘/proc/587/task/623/ns’: Permission denied\r\n",
      "find: ‘/proc/587/task/624/fd’: Permission denied\r\n",
      "find: ‘/proc/587/task/624/fdinfo’: Permission denied\r\n",
      "find: ‘/proc/587/task/624/ns’: Permission denied\r\n",
      "find: ‘/proc/587/fd’: Permission denied\r\n",
      "find: ‘/proc/587/map_files’: Permission denied\r\n",
      "find: ‘/proc/587/fdinfo’: Permission denied\r\n",
      "find: ‘/proc/587/ns’: Permission denied\r\n",
      "find: ‘/proc/588/task/588/fd’: Permission denied\r\n",
      "find: ‘/proc/588/task/588/fdinfo’: Permission denied\r\n",
      "find: ‘/proc/588/task/588/ns’: Permission denied\r\n",
      "find: ‘/proc/588/task/634/fd’: Permission denied\r\n",
      "find: ‘/proc/588/task/634/fdinfo’: Permission denied\r\n",
      "find: ‘/proc/588/task/634/ns’: Permission denied\r\n",
      "find: ‘/proc/588/task/647/fd’: Permission denied\r\n",
      "find: ‘/proc/588/task/647/fdinfo’: Permission denied\r\n",
      "find: ‘/proc/588/task/647/ns’: Permission denied\r\n",
      "find: ‘/proc/588/task/653/fd’: Permission denied\r\n",
      "find: ‘/proc/588/task/653/fdinfo’: Permission denied\r\n",
      "find: ‘/proc/588/task/653/ns’: Permission denied\r\n",
      "find: ‘/proc/588/task/654/fd’: Permission denied\r\n",
      "find: ‘/proc/588/task/654/fdinfo’: Permission denied\r\n",
      "find: ‘/proc/588/task/654/ns’: Permission denied\r\n",
      "find: ‘/proc/588/task/655/fd’: Permission denied\r\n",
      "find: ‘/proc/588/task/655/fdinfo’: Permission denied\r\n",
      "find: ‘/proc/588/task/655/ns’: Permission denied\r\n",
      "find: ‘/proc/588/task/778/fd’: Permission denied\r\n",
      "find: ‘/proc/588/task/778/fdinfo’: Permission denied\r\n",
      "find: ‘/proc/588/task/778/ns’: Permission denied\r\n",
      "find: ‘/proc/588/task/1494/fd’: Permission denied\r\n",
      "find: ‘/proc/588/task/1494/fdinfo’: Permission denied\r\n",
      "find: ‘/proc/588/task/1494/ns’: Permission denied\r\n",
      "find: ‘/proc/588/task/1495/fd’: Permission denied\r\n",
      "find: ‘/proc/588/task/1495/fdinfo’: Permission denied\r\n",
      "find: ‘/proc/588/task/1495/ns’: Permission denied\r\n",
      "find: ‘/proc/588/task/1496/fd’: Permission denied\r\n",
      "find: ‘/proc/588/task/1496/fdinfo’: Permission denied\r\n",
      "find: ‘/proc/588/task/1496/ns’: Permission denied\r\n",
      "find: ‘/proc/588/task/1497/fd’: Permission denied\r\n",
      "find: ‘/proc/588/task/1497/fdinfo’: Permission denied\r\n",
      "find: ‘/proc/588/task/1497/ns’: Permission denied\r\n",
      "find: ‘/proc/588/task/1498/fd’: Permission denied\r\n",
      "find: ‘/proc/588/task/1498/fdinfo’: Permission denied\r\n",
      "find: ‘/proc/588/task/1498/ns’: Permission denied\r\n",
      "find: ‘/proc/588/task/1500/fd’: Permission denied\r\n",
      "find: ‘/proc/588/task/1500/fdinfo’: Permission denied\r\n",
      "find: ‘/proc/588/task/1500/ns’: Permission denied\r\n",
      "find: ‘/proc/588/task/1595/fd’: Permission denied\r\n",
      "find: ‘/proc/588/task/1595/fdinfo’: Permission denied\r\n",
      "find: ‘/proc/588/task/1595/ns’: Permission denied\r\n",
      "find: ‘/proc/588/task/2273/fd’: Permission denied\r\n",
      "find: ‘/proc/588/task/2273/fdinfo’: Permission denied\r\n",
      "find: ‘/proc/588/task/2273/ns’: Permission denied\r\n",
      "find: ‘/proc/588/fd’: Permission denied\r\n",
      "find: ‘/proc/588/map_files’: Permission denied\r\n",
      "find: ‘/proc/588/fdinfo’: Permission denied\r\n",
      "find: ‘/proc/588/ns’: Permission denied\r\n",
      "find: ‘/proc/599/task/599/fd’: Permission denied\r\n",
      "find: ‘/proc/599/task/599/fdinfo’: Permission denied\r\n",
      "find: ‘/proc/599/task/599/ns’: Permission denied\r\n",
      "find: ‘/proc/599/task/926/fd’: Permission denied\r\n",
      "find: ‘/proc/599/task/926/fdinfo’: Permission denied\r\n",
      "find: ‘/proc/599/task/926/ns’: Permission denied\r\n",
      "find: ‘/proc/599/task/938/fd’: Permission denied\r\n",
      "find: ‘/proc/599/task/938/fdinfo’: Permission denied\r\n",
      "find: ‘/proc/599/task/938/ns’: Permission denied\r\n",
      "find: ‘/proc/599/task/941/fd’: Permission denied\r\n",
      "find: ‘/proc/599/task/941/fdinfo’: Permission denied\r\n",
      "find: ‘/proc/599/task/941/ns’: Permission denied\r\n",
      "find: ‘/proc/599/task/942/fd’: Permission denied\r\n",
      "find: ‘/proc/599/task/942/fdinfo’: Permission denied\r\n",
      "find: ‘/proc/599/task/942/ns’: Permission denied\r\n",
      "find: ‘/proc/599/task/943/fd’: Permission denied\r\n",
      "find: ‘/proc/599/task/943/fdinfo’: Permission denied\r\n",
      "find: ‘/proc/599/task/943/ns’: Permission denied\r\n",
      "find: ‘/proc/599/task/944/fd’: Permission denied\r\n",
      "find: ‘/proc/599/task/944/fdinfo’: Permission denied\r\n",
      "find: ‘/proc/599/task/944/ns’: Permission denied\r\n",
      "find: ‘/proc/599/task/1188/fd’: Permission denied\r\n",
      "find: ‘/proc/599/task/1188/fdinfo’: Permission denied\r\n",
      "find: ‘/proc/599/task/1188/ns’: Permission denied\r\n",
      "find: ‘/proc/599/task/1189/fd’: Permission denied\r\n",
      "find: ‘/proc/599/task/1189/fdinfo’: Permission denied\r\n",
      "find: ‘/proc/599/task/1189/ns’: Permission denied\r\n",
      "find: ‘/proc/599/task/1453/fd’: Permission denied\r\n",
      "find: ‘/proc/599/task/1453/fdinfo’: Permission denied\r\n",
      "find: ‘/proc/599/task/1453/ns’: Permission denied\r\n",
      "find: ‘/proc/599/fd’: Permission denied\r\n",
      "find: ‘/proc/599/map_files’: Permission denied\r\n",
      "find: ‘/proc/599/fdinfo’: Permission denied\r\n",
      "find: ‘/proc/599/ns’: Permission denied\r\n",
      "find: ‘/proc/617/task/617/fd’: Permission denied\r\n",
      "find: ‘/proc/617/task/617/fdinfo’: Permission denied\r\n",
      "find: ‘/proc/617/task/617/ns’: Permission denied\r\n",
      "find: ‘/proc/617/fd’: Permission denied\r\n",
      "find: ‘/proc/617/map_files’: Permission denied\r\n",
      "find: ‘/proc/617/fdinfo’: Permission denied\r\n",
      "find: ‘/proc/617/ns’: Permission denied\r\n",
      "find: ‘/proc/618/task/618/fd’: Permission denied\r\n",
      "find: ‘/proc/618/task/618/fdinfo’: Permission denied\r\n",
      "find: ‘/proc/618/task/618/ns’: Permission denied\r\n",
      "find: ‘/proc/618/fd’: Permission denied\r\n",
      "find: ‘/proc/618/map_files’: Permission denied\r\n",
      "find: ‘/proc/618/fdinfo’: Permission denied\r\n",
      "find: ‘/proc/618/ns’: Permission denied\r\n",
      "find: ‘/proc/619/task/619/fd’: Permission denied\r\n",
      "find: ‘/proc/619/task/619/fdinfo’: Permission denied\r\n",
      "find: ‘/proc/619/task/619/ns’: Permission denied\r\n",
      "find: ‘/proc/619/task/656/fd’: Permission denied\r\n",
      "find: ‘/proc/619/task/656/fdinfo’: Permission denied\r\n",
      "find: ‘/proc/619/task/656/ns’: Permission denied\r\n",
      "find: ‘/proc/619/task/657/fd’: Permission denied\r\n",
      "find: ‘/proc/619/task/657/fdinfo’: Permission denied\r\n",
      "find: ‘/proc/619/task/657/ns’: Permission denied\r\n",
      "find: ‘/proc/619/task/658/fd’: Permission denied\r\n",
      "find: ‘/proc/619/task/658/fdinfo’: Permission denied\r\n",
      "find: ‘/proc/619/task/658/ns’: Permission denied\r\n",
      "find: ‘/proc/619/task/659/fd’: Permission denied\r\n",
      "find: ‘/proc/619/task/659/fdinfo’: Permission denied\r\n",
      "find: ‘/proc/619/task/659/ns’: Permission denied\r\n",
      "find: ‘/proc/619/task/661/fd’: Permission denied\r\n",
      "find: ‘/proc/619/task/661/fdinfo’: Permission denied\r\n",
      "find: ‘/proc/619/task/661/ns’: Permission denied\r\n",
      "find: ‘/proc/619/task/736/fd’: Permission denied\r\n",
      "find: ‘/proc/619/task/736/fdinfo’: Permission denied\r\n",
      "find: ‘/proc/619/task/736/ns’: Permission denied\r\n",
      "find: ‘/proc/619/task/773/fd’: Permission denied\r\n",
      "find: ‘/proc/619/task/773/fdinfo’: Permission denied\r\n",
      "find: ‘/proc/619/task/773/ns’: Permission denied\r\n",
      "find: ‘/proc/619/task/774/fd’: Permission denied\r\n",
      "find: ‘/proc/619/task/774/fdinfo’: Permission denied\r\n",
      "find: ‘/proc/619/task/774/ns’: Permission denied\r\n",
      "find: ‘/proc/619/fd’: Permission denied\r\n",
      "find: ‘/proc/619/map_files’: Permission denied\r\n",
      "find: ‘/proc/619/fdinfo’: Permission denied\r\n",
      "find: ‘/proc/619/ns’: Permission denied\r\n",
      "find: ‘/proc/636/task/636/fd’: Permission denied\r\n",
      "find: ‘/proc/636/task/636/fdinfo’: Permission denied\r\n",
      "find: ‘/proc/636/task/636/ns’: Permission denied\r\n",
      "find: ‘/proc/636/fd’: Permission denied\r\n",
      "find: ‘/proc/636/map_files’: Permission denied\r\n",
      "find: ‘/proc/636/fdinfo’: Permission denied\r\n",
      "find: ‘/proc/636/ns’: Permission denied\r\n",
      "find: ‘/proc/645/task/645/fd’: Permission denied\r\n",
      "find: ‘/proc/645/task/645/fdinfo’: Permission denied\r\n",
      "find: ‘/proc/645/task/645/ns’: Permission denied\r\n",
      "find: ‘/proc/645/fd’: Permission denied\r\n",
      "find: ‘/proc/645/map_files’: Permission denied\r\n",
      "find: ‘/proc/645/fdinfo’: Permission denied\r\n",
      "find: ‘/proc/645/ns’: Permission denied\r\n",
      "find: ‘/proc/664/task/664/fd’: Permission denied\r\n",
      "find: ‘/proc/664/task/664/fdinfo’: Permission denied\r\n",
      "find: ‘/proc/664/task/664/ns’: Permission denied\r\n",
      "find: ‘/proc/664/fd’: Permission denied\r\n",
      "find: ‘/proc/664/map_files’: Permission denied\r\n",
      "find: ‘/proc/664/fdinfo’: Permission denied\r\n",
      "find: ‘/proc/664/ns’: Permission denied\r\n",
      "find: ‘/proc/673/task/673/fd’: Permission denied\r\n",
      "find: ‘/proc/673/task/673/fdinfo’: Permission denied\r\n",
      "find: ‘/proc/673/task/673/ns’: Permission denied\r\n",
      "find: ‘/proc/673/fd’: Permission denied\r\n",
      "find: ‘/proc/673/map_files’: Permission denied\r\n",
      "find: ‘/proc/673/fdinfo’: Permission denied\r\n",
      "find: ‘/proc/673/ns’: Permission denied\r\n",
      "find: ‘/proc/683/task/683/fd’: Permission denied\r\n",
      "find: ‘/proc/683/task/683/fdinfo’: Permission denied\r\n",
      "find: ‘/proc/683/task/683/ns’: Permission denied\r\n",
      "find: ‘/proc/683/task/735/fd’: Permission denied\r\n",
      "find: ‘/proc/683/task/735/fdinfo’: Permission denied\r\n",
      "find: ‘/proc/683/task/735/ns’: Permission denied\r\n",
      "find: ‘/proc/683/task/751/fd’: Permission denied\r\n",
      "find: ‘/proc/683/task/751/fdinfo’: Permission denied\r\n",
      "find: ‘/proc/683/task/751/ns’: Permission denied\r\n",
      "find: ‘/proc/683/task/1117/fd’: Permission denied\r\n",
      "find: ‘/proc/683/task/1117/fdinfo’: Permission denied\r\n",
      "find: ‘/proc/683/task/1117/ns’: Permission denied\r\n",
      "find: ‘/proc/683/task/1119/fd’: Permission denied\r\n",
      "find: ‘/proc/683/task/1119/fdinfo’: Permission denied\r\n",
      "find: ‘/proc/683/task/1119/ns’: Permission denied\r\n",
      "find: ‘/proc/683/fd’: Permission denied\r\n",
      "find: ‘/proc/683/map_files’: Permission denied\r\n",
      "find: ‘/proc/683/fdinfo’: Permission denied\r\n",
      "find: ‘/proc/683/ns’: Permission denied\r\n",
      "find: ‘/proc/685/task/685/fd’: Permission denied\r\n",
      "find: ‘/proc/685/task/685/fdinfo’: Permission denied\r\n",
      "find: ‘/proc/685/task/685/ns’: Permission denied\r\n",
      "find: ‘/proc/685/fd’: Permission denied\r\n",
      "find: ‘/proc/685/map_files’: Permission denied\r\n",
      "find: ‘/proc/685/fdinfo’: Permission denied\r\n",
      "find: ‘/proc/685/ns’: Permission denied\r\n",
      "find: ‘/proc/686/task/686/fd’: Permission denied\r\n",
      "find: ‘/proc/686/task/686/fdinfo’: Permission denied\r\n",
      "find: ‘/proc/686/task/686/ns’: Permission denied\r\n",
      "find: ‘/proc/686/fd’: Permission denied\r\n",
      "find: ‘/proc/686/map_files’: Permission denied\r\n",
      "find: ‘/proc/686/fdinfo’: Permission denied\r\n",
      "find: ‘/proc/686/ns’: Permission denied\r\n",
      "find: ‘/proc/756/task/756/fd’: Permission denied\r\n",
      "find: ‘/proc/756/task/756/fdinfo’: Permission denied\r\n",
      "find: ‘/proc/756/task/756/ns’: Permission denied\r\n",
      "find: ‘/proc/756/fd’: Permission denied\r\n",
      "find: ‘/proc/756/map_files’: Permission denied\r\n",
      "find: ‘/proc/756/fdinfo’: Permission denied\r\n",
      "find: ‘/proc/756/ns’: Permission denied\r\n",
      "find: ‘/proc/763/task/763/fd’: Permission denied\r\n",
      "find: ‘/proc/763/task/763/fdinfo’: Permission denied\r\n",
      "find: ‘/proc/763/task/763/ns’: Permission denied\r\n",
      "find: ‘/proc/763/fd’: Permission denied\r\n",
      "find: ‘/proc/763/map_files’: Permission denied\r\n",
      "find: ‘/proc/763/fdinfo’: Permission denied\r\n",
      "find: ‘/proc/763/ns’: Permission denied\r\n",
      "find: ‘/proc/845/task/845/fd’: Permission denied\r\n",
      "find: ‘/proc/845/task/845/fdinfo’: Permission denied\r\n",
      "find: ‘/proc/845/task/845/ns’: Permission denied\r\n",
      "find: ‘/proc/845/task/892/fd’: Permission denied\r\n",
      "find: ‘/proc/845/task/892/fdinfo’: Permission denied\r\n",
      "find: ‘/proc/845/task/892/ns’: Permission denied\r\n",
      "find: ‘/proc/845/task/895/fd’: Permission denied\r\n",
      "find: ‘/proc/845/task/895/fdinfo’: Permission denied\r\n",
      "find: ‘/proc/845/task/895/ns’: Permission denied\r\n",
      "find: ‘/proc/845/task/896/fd’: Permission denied\r\n",
      "find: ‘/proc/845/task/896/fdinfo’: Permission denied\r\n",
      "find: ‘/proc/845/task/896/ns’: Permission denied\r\n",
      "find: ‘/proc/845/task/897/fd’: Permission denied\r\n",
      "find: ‘/proc/845/task/897/fdinfo’: Permission denied\r\n"
     ]
    },
    {
     "name": "stdout",
     "output_type": "stream",
     "text": [
      "find: ‘/proc/845/task/897/ns’: Permission denied\r\n",
      "find: ‘/proc/845/task/903/fd’: Permission denied\r\n",
      "find: ‘/proc/845/task/903/fdinfo’: Permission denied\r\n",
      "find: ‘/proc/845/task/903/ns’: Permission denied\r\n",
      "find: ‘/proc/845/task/947/fd’: Permission denied\r\n",
      "find: ‘/proc/845/task/947/fdinfo’: Permission denied\r\n",
      "find: ‘/proc/845/task/947/ns’: Permission denied\r\n",
      "find: ‘/proc/845/task/1049/fd’: Permission denied\r\n",
      "find: ‘/proc/845/task/1049/fdinfo’: Permission denied\r\n",
      "find: ‘/proc/845/task/1049/ns’: Permission denied\r\n",
      "find: ‘/proc/845/task/1050/fd’: Permission denied\r\n",
      "find: ‘/proc/845/task/1050/fdinfo’: Permission denied\r\n",
      "find: ‘/proc/845/task/1050/ns’: Permission denied\r\n",
      "find: ‘/proc/845/task/1051/fd’: Permission denied\r\n",
      "find: ‘/proc/845/task/1051/fdinfo’: Permission denied\r\n",
      "find: ‘/proc/845/task/1051/ns’: Permission denied\r\n",
      "find: ‘/proc/845/fd’: Permission denied\r\n",
      "find: ‘/proc/845/map_files’: Permission denied\r\n",
      "find: ‘/proc/845/fdinfo’: Permission denied\r\n",
      "find: ‘/proc/845/ns’: Permission denied\r\n",
      "find: ‘/proc/877/task/877/fd’: Permission denied\r\n",
      "find: ‘/proc/877/task/877/fdinfo’: Permission denied\r\n",
      "find: ‘/proc/877/task/877/ns’: Permission denied\r\n",
      "find: ‘/proc/877/fd’: Permission denied\r\n",
      "find: ‘/proc/877/map_files’: Permission denied\r\n",
      "find: ‘/proc/877/fdinfo’: Permission denied\r\n",
      "find: ‘/proc/877/ns’: Permission denied\r\n",
      "find: ‘/proc/893/task/893/fd’: Permission denied\r\n",
      "find: ‘/proc/893/task/893/fdinfo’: Permission denied\r\n",
      "find: ‘/proc/893/task/893/ns’: Permission denied\r\n",
      "find: ‘/proc/893/fd’: Permission denied\r\n",
      "find: ‘/proc/893/map_files’: Permission denied\r\n",
      "find: ‘/proc/893/fdinfo’: Permission denied\r\n",
      "find: ‘/proc/893/ns’: Permission denied\r\n",
      "find: ‘/proc/1026/task/1026/fd’: Permission denied\r\n",
      "find: ‘/proc/1026/task/1026/fdinfo’: Permission denied\r\n",
      "find: ‘/proc/1026/task/1026/ns’: Permission denied\r\n",
      "find: ‘/proc/1026/task/1287/fd’: Permission denied\r\n",
      "find: ‘/proc/1026/task/1287/fdinfo’: Permission denied\r\n",
      "find: ‘/proc/1026/task/1287/ns’: Permission denied\r\n",
      "find: ‘/proc/1026/task/1288/fd’: Permission denied\r\n",
      "find: ‘/proc/1026/task/1288/fdinfo’: Permission denied\r\n",
      "find: ‘/proc/1026/task/1288/ns’: Permission denied\r\n",
      "find: ‘/proc/1026/task/1292/fd’: Permission denied\r\n",
      "find: ‘/proc/1026/task/1292/fdinfo’: Permission denied\r\n",
      "find: ‘/proc/1026/task/1292/ns’: Permission denied\r\n",
      "find: ‘/proc/1026/task/1293/fd’: Permission denied\r\n",
      "find: ‘/proc/1026/task/1293/fdinfo’: Permission denied\r\n",
      "find: ‘/proc/1026/task/1293/ns’: Permission denied\r\n",
      "find: ‘/proc/1026/fd’: Permission denied\r\n",
      "find: ‘/proc/1026/map_files’: Permission denied\r\n",
      "find: ‘/proc/1026/fdinfo’: Permission denied\r\n",
      "find: ‘/proc/1026/ns’: Permission denied\r\n",
      "find: ‘/proc/1054/task/1054/fd’: Permission denied\r\n",
      "find: ‘/proc/1054/task/1054/fdinfo’: Permission denied\r\n",
      "find: ‘/proc/1054/task/1054/ns’: Permission denied\r\n",
      "find: ‘/proc/1054/fd’: Permission denied\r\n",
      "find: ‘/proc/1054/map_files’: Permission denied\r\n",
      "find: ‘/proc/1054/fdinfo’: Permission denied\r\n",
      "find: ‘/proc/1054/ns’: Permission denied\r\n",
      "find: ‘/proc/1063/task/1063/fd’: Permission denied\r\n",
      "find: ‘/proc/1063/task/1063/fdinfo’: Permission denied\r\n",
      "find: ‘/proc/1063/task/1063/ns’: Permission denied\r\n",
      "find: ‘/proc/1063/fd’: Permission denied\r\n",
      "find: ‘/proc/1063/map_files’: Permission denied\r\n",
      "find: ‘/proc/1063/fdinfo’: Permission denied\r\n",
      "find: ‘/proc/1063/ns’: Permission denied\r\n",
      "find: ‘/proc/1569/task/1569/fd’: Permission denied\r\n",
      "find: ‘/proc/1569/task/1569/fdinfo’: Permission denied\r\n",
      "find: ‘/proc/1569/task/1569/ns’: Permission denied\r\n",
      "find: ‘/proc/1569/task/1570/fd’: Permission denied\r\n",
      "find: ‘/proc/1569/task/1570/fdinfo’: Permission denied\r\n",
      "find: ‘/proc/1569/task/1570/ns’: Permission denied\r\n",
      "find: ‘/proc/1569/task/1571/fd’: Permission denied\r\n",
      "find: ‘/proc/1569/task/1571/fdinfo’: Permission denied\r\n",
      "find: ‘/proc/1569/task/1571/ns’: Permission denied\r\n",
      "find: ‘/proc/1569/task/1572/fd’: Permission denied\r\n",
      "find: ‘/proc/1569/task/1572/fdinfo’: Permission denied\r\n",
      "find: ‘/proc/1569/task/1572/ns’: Permission denied\r\n",
      "find: ‘/proc/1569/task/1573/fd’: Permission denied\r\n",
      "find: ‘/proc/1569/task/1573/fdinfo’: Permission denied\r\n",
      "find: ‘/proc/1569/task/1573/ns’: Permission denied\r\n",
      "find: ‘/proc/1569/task/1574/fd’: Permission denied\r\n",
      "find: ‘/proc/1569/task/1574/fdinfo’: Permission denied\r\n",
      "find: ‘/proc/1569/task/1574/ns’: Permission denied\r\n",
      "find: ‘/proc/1569/task/1575/fd’: Permission denied\r\n",
      "find: ‘/proc/1569/task/1575/fdinfo’: Permission denied\r\n",
      "find: ‘/proc/1569/task/1575/ns’: Permission denied\r\n",
      "find: ‘/proc/1569/task/1576/fd’: Permission denied\r\n",
      "find: ‘/proc/1569/task/1576/fdinfo’: Permission denied\r\n",
      "find: ‘/proc/1569/task/1576/ns’: Permission denied\r\n",
      "find: ‘/proc/1569/task/1577/fd’: Permission denied\r\n",
      "find: ‘/proc/1569/task/1577/fdinfo’: Permission denied\r\n",
      "find: ‘/proc/1569/task/1577/ns’: Permission denied\r\n",
      "find: ‘/proc/1569/fd’: Permission denied\r\n",
      "find: ‘/proc/1569/map_files’: Permission denied\r\n",
      "find: ‘/proc/1569/fdinfo’: Permission denied\r\n",
      "find: ‘/proc/1569/ns’: Permission denied\r\n"
     ]
    },
    {
     "name": "stdout",
     "output_type": "stream",
     "text": [
      "find: ‘/var/cache/ldconfig’: Permission denied\r\n",
      "find: ‘/var/cache/private’: Permission denied\r\n",
      "find: ‘/var/cache/apparmor/a4dd844e.0’: Permission denied\r\n",
      "find: ‘/var/cache/apparmor/30d07b40.0’: Permission denied\r\n",
      "find: ‘/var/cache/pollinate’: Permission denied\r\n",
      "find: ‘/var/cache/apt/archives/partial’: Permission denied\r\n",
      "find: ‘/var/lib/waagent’: Permission denied\r\n",
      "find: ‘/var/lib/snapd/void’: Permission denied\r\n"
     ]
    },
    {
     "name": "stdout",
     "output_type": "stream",
     "text": [
      "find: ‘/var/lib/snapd/cookie’: Permission denied\r\n",
      "find: ‘/var/lib/containers’: Permission denied\r\n",
      "find: ‘/var/lib/docker’: Permission denied\r\n",
      "find: ‘/var/lib/mysql-keyring’: Permission denied\r\n",
      "find: ‘/var/lib/private’: Permission denied\r\n",
      "find: ‘/var/lib/mysql-files’: Permission denied\r\n",
      "find: ‘/var/lib/polkit-1’: Permission denied\r\n",
      "find: ‘/var/lib/mysql’: Permission denied\r\n"
     ]
    },
    {
     "name": "stdout",
     "output_type": "stream",
     "text": [
      "find: ‘/var/lib/nginx/proxy’: Permission denied\r\n",
      "find: ‘/var/lib/nginx/uwsgi’: Permission denied\r\n",
      "find: ‘/var/lib/nginx/scgi’: Permission denied\r\n",
      "find: ‘/var/lib/nginx/fastcgi’: Permission denied\r\n",
      "find: ‘/var/lib/nginx/body’: Permission denied\r\n",
      "find: ‘/var/lib/chrony’: Permission denied\r\n",
      "find: ‘/var/lib/ubuntu-advantage/apt-esm/var/cache/apt/archives/partial’: Permission denied\r\n",
      "find: ‘/var/lib/ubuntu-advantage/apt-esm/var/lib/apt/lists/partial’: Permission denied\r\n",
      "find: ‘/var/lib/update-notifier/package-data-downloads/partial’: Permission denied\r\n",
      "find: ‘/var/lib/postgresql/14/main’: Permission denied\r\n",
      "find: ‘/var/lib/containerd’: Permission denied\r\n",
      "find: ‘/var/lib/apt/lists/partial’: Permission denied\r\n",
      "find: ‘/var/lib/snmp/cert_indexes’: Permission denied\r\n",
      "find: ‘/var/lib/php/sessions’: Permission denied\r\n",
      "find: ‘/var/log/private’: Permission denied\r\n",
      "find: ‘/var/log/azure/Microsoft.Azure.Extensions.CustomScript/events’: Permission denied\r\n",
      "find: ‘/var/log/chrony’: Permission denied\r\n",
      "find: ‘/var/tmp/systemd-private-4c280e448a1049b28346461d0823d9e6-systemd-logind.service-Bm2Jd4’: Permission denied\r\n",
      "find: ‘/var/tmp/systemd-private-4c280e448a1049b28346461d0823d9e6-systemd-resolved.service-GCgtXW’: Permission denied\r\n",
      "find: ‘/var/tmp/systemd-private-4c280e448a1049b28346461d0823d9e6-chrony.service-mxawcn’: Permission denied\r\n",
      "find: ‘/var/tmp/systemd-private-4c280e448a1049b28346461d0823d9e6-haveged.service-lS2F1p’: Permission denied\r\n",
      "find: ‘/var/snap/lxd/common/lxd’: Permission denied\r\n",
      "find: ‘/var/spool/rsyslog’: Permission denied\r\n",
      "find: ‘/var/spool/cron/crontabs’: Permission denied\r\n"
     ]
    },
    {
     "name": "stdout",
     "output_type": "stream",
     "text": [
      "/opt/hostedtoolcache/Python/3.8.18/x64/lib/python3.8/site-packages/pyspark/__pycache__/find_spark_home.cpython-38.pyc\r\n"
     ]
    },
    {
     "name": "stdout",
     "output_type": "stream",
     "text": [
      "/opt/hostedtoolcache/Python/3.8.18/x64/lib/python3.8/site-packages/pyspark/find_spark_home.py\r\n",
      "/opt/hostedtoolcache/Python/3.8.18/x64/lib/python3.8/site-packages/pyspark/bin/find-spark-home.cmd\r\n",
      "/opt/hostedtoolcache/Python/3.8.18/x64/lib/python3.8/site-packages/pyspark/bin/find-spark-home\r\n",
      "/opt/hostedtoolcache/Python/3.8.18/x64/bin/find-spark-home.cmd\r\n",
      "/opt/hostedtoolcache/Python/3.8.18/x64/bin/__pycache__/find_spark_home.cpython-38.pyc\r\n",
      "/opt/hostedtoolcache/Python/3.8.18/x64/bin/find-spark-home\r\n",
      "/opt/hostedtoolcache/Python/3.8.18/x64/bin/find_spark_home.py\r\n"
     ]
    },
    {
     "name": "stdout",
     "output_type": "stream",
     "text": [
      "find: ‘/sys/kernel/tracing’: Permission denied\r\n",
      "find: ‘/sys/kernel/debug’: Permission denied\r\n"
     ]
    },
    {
     "name": "stdout",
     "output_type": "stream",
     "text": [
      "find: ‘/sys/fs/pstore’: Permission denied\r\n",
      "find: ‘/sys/fs/bpf’: Permission denied\r\n"
     ]
    }
   ],
   "source": [
    "!find / -name \"*find*spark*\""
   ]
  },
  {
   "cell_type": "markdown",
   "metadata": {
    "id": "Nr_2rb6pFzF8"
   },
   "source": [
    "The script `/usr/local/bin/find_spark_home.py` is successful at finding Spark's home."
   ]
  },
  {
   "cell_type": "markdown",
   "metadata": {
    "id": "qxlEqcY9LRI4"
   },
   "source": [
    "#### Set `SPARK_HOME`"
   ]
  },
  {
   "cell_type": "code",
   "execution_count": 8,
   "metadata": {
    "colab": {
     "base_uri": "https://localhost:8080/"
    },
    "execution": {
     "iopub.execute_input": "2024-02-25T22:07:49.620090Z",
     "iopub.status.busy": "2024-02-25T22:07:49.619674Z",
     "iopub.status.idle": "2024-02-25T22:07:52.136262Z",
     "shell.execute_reply": "2024-02-25T22:07:52.135480Z"
    },
    "id": "GCgU9MnaIZ_k",
    "outputId": "58d228a7-3a12-43f6-a7c7-eaedd18efe61"
   },
   "outputs": [
    {
     "name": "stdout",
     "output_type": "stream",
     "text": [
      "Stored 'output' (SList)\n"
     ]
    }
   ],
   "source": [
    "import sys\n",
    "import os\n",
    "IN_COLAB = 'google.colab' in sys.modules\n",
    "if IN_COLAB:\n",
    "  output = !python /usr/local/bin/find_spark_home.py\n",
    "else:\n",
    "  output = !find / -name \"pyspark\" -type d 2>/dev/null|head -1\n",
    "# Store the output using %store\n",
    "%store output\n",
    "# get rid of extra quotation marks\n",
    "os.environ['SPARK_HOME'] = output[0].replace('\"', '')"
   ]
  },
  {
   "cell_type": "code",
   "execution_count": 9,
   "metadata": {
    "colab": {
     "base_uri": "https://localhost:8080/"
    },
    "execution": {
     "iopub.execute_input": "2024-02-25T22:07:52.139144Z",
     "iopub.status.busy": "2024-02-25T22:07:52.138752Z",
     "iopub.status.idle": "2024-02-25T22:07:53.186558Z",
     "shell.execute_reply": "2024-02-25T22:07:53.185762Z"
    },
    "id": "olIKq1bOkMDy",
    "outputId": "6140ea63-9eca-4456-9c3c-a1a8db16f283"
   },
   "outputs": [
    {
     "name": "stdout",
     "output_type": "stream",
     "text": [
      "Name: pyspark\r\n",
      "Version: 3.5.0\r\n",
      "Summary: Apache Spark Python API\r\n",
      "Home-page: https://github.com/apache/spark/tree/master/python\r\n",
      "Author: Spark Developers\r\n",
      "Author-email: dev@spark.apache.org\r\n",
      "License: http://www.apache.org/licenses/LICENSE-2.0\r\n",
      "Location: /opt/hostedtoolcache/Python/3.8.18/x64/lib/python3.8/site-packages\r\n",
      "Requires: py4j\r\n",
      "Required-by: \r\n"
     ]
    }
   ],
   "source": [
    "!pip show pyspark"
   ]
  },
  {
   "cell_type": "markdown",
   "metadata": {
    "id": "Ic1uHIKAK1ss"
   },
   "source": [
    "Verify that the correct `SPARK_HOME` has been set."
   ]
  },
  {
   "cell_type": "code",
   "execution_count": 10,
   "metadata": {
    "colab": {
     "base_uri": "https://localhost:8080/",
     "height": 0
    },
    "execution": {
     "iopub.execute_input": "2024-02-25T22:07:53.189879Z",
     "iopub.status.busy": "2024-02-25T22:07:53.189397Z",
     "iopub.status.idle": "2024-02-25T22:07:53.196189Z",
     "shell.execute_reply": "2024-02-25T22:07:53.195559Z"
    },
    "id": "BraJPa5KZY1y",
    "outputId": "8a434517-6d46-4bfd-edb3-f6a21ae93141"
   },
   "outputs": [
    {
     "data": {
      "text/plain": [
       "'/opt/hostedtoolcache/Python/3.8.18/x64/lib/python3.8/site-packages/pyspark'"
      ]
     },
     "execution_count": 10,
     "metadata": {},
     "output_type": "execute_result"
    }
   ],
   "source": [
    "os.environ['SPARK_HOME']"
   ]
  },
  {
   "cell_type": "code",
   "execution_count": 11,
   "metadata": {
    "colab": {
     "base_uri": "https://localhost:8080/",
     "height": 0
    },
    "execution": {
     "iopub.execute_input": "2024-02-25T22:07:53.198742Z",
     "iopub.status.busy": "2024-02-25T22:07:53.198544Z",
     "iopub.status.idle": "2024-02-25T22:07:53.202789Z",
     "shell.execute_reply": "2024-02-25T22:07:53.202134Z"
    },
    "id": "sONAYA_DKOry",
    "outputId": "65c0353e-a303-4574-e044-7fe05e405920"
   },
   "outputs": [
    {
     "data": {
      "text/plain": [
       "'/opt/hostedtoolcache/Python/3.8.18/x64/lib/python3.8/site-packages/pyspark'"
      ]
     },
     "execution_count": 11,
     "metadata": {},
     "output_type": "execute_result"
    }
   ],
   "source": [
    "%env SPARK_HOME"
   ]
  },
  {
   "cell_type": "markdown",
   "metadata": {
    "id": "gQ3zuxd9LKxA"
   },
   "source": [
    "#### Set `PYTHONPATH`"
   ]
  },
  {
   "cell_type": "code",
   "execution_count": 12,
   "metadata": {
    "execution": {
     "iopub.execute_input": "2024-02-25T22:07:53.205451Z",
     "iopub.status.busy": "2024-02-25T22:07:53.205081Z",
     "iopub.status.idle": "2024-02-25T22:07:53.208121Z",
     "shell.execute_reply": "2024-02-25T22:07:53.207580Z"
    },
    "id": "SOXsRzqNLAqx"
   },
   "outputs": [],
   "source": [
    "os.environ['PYTHONPATH'] = os.environ['SPARK_HOME'] + '/python'"
   ]
  },
  {
   "cell_type": "markdown",
   "metadata": {
    "id": "HTzSh-RBLbsg"
   },
   "source": [
    "Check"
   ]
  },
  {
   "cell_type": "code",
   "execution_count": 13,
   "metadata": {
    "colab": {
     "base_uri": "https://localhost:8080/",
     "height": 0
    },
    "execution": {
     "iopub.execute_input": "2024-02-25T22:07:53.210670Z",
     "iopub.status.busy": "2024-02-25T22:07:53.210292Z",
     "iopub.status.idle": "2024-02-25T22:07:53.214638Z",
     "shell.execute_reply": "2024-02-25T22:07:53.214007Z"
    },
    "id": "Log-_SFWJScq",
    "outputId": "636e1c0a-282c-402b-90bc-8eac7f15db93"
   },
   "outputs": [
    {
     "data": {
      "text/plain": [
       "'/opt/hostedtoolcache/Python/3.8.18/x64/lib/python3.8/site-packages/pyspark/python'"
      ]
     },
     "execution_count": 13,
     "metadata": {},
     "output_type": "execute_result"
    }
   ],
   "source": [
    "%env PYTHONPATH"
   ]
  },
  {
   "cell_type": "markdown",
   "metadata": {
    "id": "qi3MxEWpV9CL"
   },
   "source": [
    "## Download data\n",
    "\n",
    "In order to run, the Sedona notebook expects to find some specific files in the local folder `data`. Let us populate `data` with the files from the Sedona Github repository."
   ]
  },
  {
   "cell_type": "code",
   "execution_count": 14,
   "metadata": {
    "execution": {
     "iopub.execute_input": "2024-02-25T22:07:53.217177Z",
     "iopub.status.busy": "2024-02-25T22:07:53.216776Z",
     "iopub.status.idle": "2024-02-25T22:08:13.661008Z",
     "shell.execute_reply": "2024-02-25T22:08:13.660256Z"
    },
    "id": "wnzi7JCOIA1v"
   },
   "outputs": [
    {
     "name": "stderr",
     "output_type": "stream",
     "text": [
      "Cloning into 'sedona'...\n"
     ]
    }
   ],
   "source": [
    "%%bash\n",
    "# it would be more efficient to just download the \"data\" folder and not the whole repo\n",
    "[ -d sedona ] || git clone https://github.com/apache/sedona.git\n",
    "\n",
    "cp -r sedona/binder/data ./"
   ]
  },
  {
   "cell_type": "markdown",
   "metadata": {
    "id": "qQVz6ckaScn8"
   },
   "source": [
    "Verify the presence of data in the designated `data` folder."
   ]
  },
  {
   "cell_type": "code",
   "execution_count": 15,
   "metadata": {
    "colab": {
     "base_uri": "https://localhost:8080/"
    },
    "execution": {
     "iopub.execute_input": "2024-02-25T22:08:13.664134Z",
     "iopub.status.busy": "2024-02-25T22:08:13.663737Z",
     "iopub.status.idle": "2024-02-25T22:08:13.789040Z",
     "shell.execute_reply": "2024-02-25T22:08:13.788338Z"
    },
    "id": "Rxy-t1JnRnf6",
    "outputId": "0cfc7552-1a33-407e-9a9d-bfc7bcd901b8"
   },
   "outputs": [
    {
     "name": "stdout",
     "output_type": "stream",
     "text": [
      "arealm-small.csv\t\tne_50m_airports\r\n",
      "county_small.tsv\t\tpolygon\r\n",
      "county_small_wkb.tsv\t\tprimaryroads-linestring.csv\r\n",
      "gis_osm_pois_free_1.cpg\t\tprimaryroads-polygon.csv\r\n",
      "gis_osm_pois_free_1.dbf\t\traster\r\n",
      "gis_osm_pois_free_1.prj\t\ttestPolygon.json\r\n",
      "gis_osm_pois_free_1.shp\t\ttestpoint.csv\r\n",
      "gis_osm_pois_free_1.shx\t\tzcta510-small.csv\r\n",
      "ne_50m_admin_0_countries_lakes\r\n"
     ]
    }
   ],
   "source": [
    "!ls data"
   ]
  },
  {
   "cell_type": "markdown",
   "metadata": {
    "id": "Mk20FV3ZHj_U"
   },
   "source": [
    "# Apache Sedona Core demo\n",
    "\n",
    "The notebook is available at the following link:\n",
    "https://github.com/apache/sedona/blob/master/binder/ApacheSedonaCore.ipynb\n"
   ]
  },
  {
   "cell_type": "markdown",
   "metadata": {
    "id": "AcjGVcGzOjcK"
   },
   "source": [
    "```\n",
    "Licensed to the Apache Software Foundation (ASF) under one\n",
    "or more contributor license agreements.  See the NOTICE file\n",
    "distributed with this work for additional information\n",
    "regarding copyright ownership.  The ASF licenses this file\n",
    "to you under the Apache License, Version 2.0 (the\n",
    "\"License\"); you may not use this file except in compliance\n",
    "with the License.  You may obtain a copy of the License at\n",
    "  http://www.apache.org/licenses/LICENSE-2.0\n",
    "Unless required by applicable law or agreed to in writing,\n",
    "software distributed under the License is distributed on an\n",
    "\"AS IS\" BASIS, WITHOUT WARRANTIES OR CONDITIONS OF ANY\n",
    "KIND, either express or implied.  See the License for the\n",
    "specific language governing permissions and limitations\n",
    "under the License.\n",
    "```"
   ]
  },
  {
   "cell_type": "code",
   "execution_count": 16,
   "metadata": {
    "colab": {
     "base_uri": "https://localhost:8080/"
    },
    "execution": {
     "iopub.execute_input": "2024-02-25T22:08:13.792006Z",
     "iopub.status.busy": "2024-02-25T22:08:13.791552Z",
     "iopub.status.idle": "2024-02-25T22:08:14.180863Z",
     "shell.execute_reply": "2024-02-25T22:08:14.180144Z"
    },
    "id": "sK9oIz0FOjcN",
    "outputId": "a4ce9ce6-a014-4279-8d23-a9555a13574a"
   },
   "outputs": [
    {
     "name": "stdout",
     "output_type": "stream",
     "text": [
      "Skipping SedonaKepler import, verify if keplergl is installed\n",
      "Skipping SedonaPyDeck import, verify if pydeck is installed\n"
     ]
    }
   ],
   "source": [
    "from pyspark.sql import SparkSession\n",
    "from pyspark import StorageLevel\n",
    "import geopandas as gpd\n",
    "import pandas as pd\n",
    "from pyspark.sql.types import StructType\n",
    "from pyspark.sql.types import StructField\n",
    "from pyspark.sql.types import StringType\n",
    "from pyspark.sql.types import LongType\n",
    "from shapely.geometry import Point\n",
    "from shapely.geometry import Polygon\n",
    "\n",
    "from sedona.spark import *\n",
    "from sedona.core.geom.envelope import Envelope\n"
   ]
  },
  {
   "cell_type": "code",
   "execution_count": 17,
   "metadata": {
    "execution": {
     "iopub.execute_input": "2024-02-25T22:08:14.183503Z",
     "iopub.status.busy": "2024-02-25T22:08:14.183194Z",
     "iopub.status.idle": "2024-02-25T22:08:29.804500Z",
     "shell.execute_reply": "2024-02-25T22:08:29.803666Z"
    },
    "id": "HzVqFLBtOjcO"
   },
   "outputs": [
    {
     "name": "stderr",
     "output_type": "stream",
     "text": [
      "https://artifacts.unidata.ucar.edu/repository/unidata-all added as a remote repository with the name: repo-1\n",
      "Ivy Default Cache set to: /home/runner/.ivy2/cache\n",
      "The jars for the packages stored in: /home/runner/.ivy2/jars\n",
      "org.apache.sedona#sedona-spark-3.4_2.12 added as a dependency\n",
      "org.datasyslab#geotools-wrapper added as a dependency\n",
      "uk.co.gresearch.spark#spark-extension_2.12 added as a dependency\n",
      ":: resolving dependencies :: org.apache.spark#spark-submit-parent-6e584b9e-3c45-48a2-823e-6f519e0dce8d;1.0\n",
      "\tconfs: [default]\n"
     ]
    },
    {
     "name": "stdout",
     "output_type": "stream",
     "text": [
      ":: loading settings :: url = jar:file:/opt/hostedtoolcache/Python/3.8.18/x64/lib/python3.8/site-packages/pyspark/jars/ivy-2.5.1.jar!/org/apache/ivy/core/settings/ivysettings.xml\n"
     ]
    },
    {
     "name": "stderr",
     "output_type": "stream",
     "text": [
      "\tfound org.apache.sedona#sedona-spark-3.4_2.12;1.5.1 in central\n"
     ]
    },
    {
     "name": "stderr",
     "output_type": "stream",
     "text": [
      "\tfound org.apache.sedona#sedona-common;1.5.1 in central\n"
     ]
    },
    {
     "name": "stderr",
     "output_type": "stream",
     "text": [
      "\tfound org.apache.commons#commons-math3;3.6.1 in central\n"
     ]
    },
    {
     "name": "stderr",
     "output_type": "stream",
     "text": [
      "\tfound org.locationtech.jts#jts-core;1.19.0 in central\n",
      "\tfound org.wololo#jts2geojson;0.16.1 in central\n",
      "\tfound org.locationtech.spatial4j#spatial4j;0.8 in central\n",
      "\tfound com.google.geometry#s2-geometry;2.0.0 in central\n"
     ]
    },
    {
     "name": "stderr",
     "output_type": "stream",
     "text": [
      "\tfound com.google.guava#guava;25.1-jre in central\n",
      "\tfound com.google.code.findbugs#jsr305;3.0.2 in central\n",
      "\tfound org.checkerframework#checker-qual;2.0.0 in central\n"
     ]
    },
    {
     "name": "stderr",
     "output_type": "stream",
     "text": [
      "\tfound com.google.errorprone#error_prone_annotations;2.1.3 in central\n",
      "\tfound com.google.j2objc#j2objc-annotations;1.1 in central\n"
     ]
    },
    {
     "name": "stderr",
     "output_type": "stream",
     "text": [
      "\tfound org.codehaus.mojo#animal-sniffer-annotations;1.14 in central\n",
      "\tfound com.uber#h3;4.1.1 in central\n",
      "\tfound net.sf.geographiclib#GeographicLib-Java;1.52 in central\n",
      "\tfound com.github.ben-manes.caffeine#caffeine;2.9.2 in central\n",
      "\tfound org.checkerframework#checker-qual;3.10.0 in central\n"
     ]
    },
    {
     "name": "stderr",
     "output_type": "stream",
     "text": [
      "\tfound com.google.errorprone#error_prone_annotations;2.5.1 in central\n",
      "\tfound org.apache.sedona#sedona-spark-common-3.4_2.12;1.5.1 in central\n"
     ]
    },
    {
     "name": "stderr",
     "output_type": "stream",
     "text": [
      "\tfound commons-lang#commons-lang;2.6 in central\n",
      "\tfound org.scala-lang.modules#scala-collection-compat_2.12;2.5.0 in central\n",
      "\tfound org.beryx#awt-color-factory;1.0.0 in central\n",
      "\tfound org.datasyslab#geotools-wrapper;1.5.1-28.2 in central\n",
      "\tfound uk.co.gresearch.spark#spark-extension_2.12;2.11.0-3.4 in central\n",
      "\tfound com.github.scopt#scopt_2.12;4.1.0 in central\n",
      "downloading https://repo1.maven.org/maven2/org/apache/sedona/sedona-spark-3.4_2.12/1.5.1/sedona-spark-3.4_2.12-1.5.1.jar ...\n",
      "\t[SUCCESSFUL ] org.apache.sedona#sedona-spark-3.4_2.12;1.5.1!sedona-spark-3.4_2.12.jar (84ms)\n"
     ]
    },
    {
     "name": "stderr",
     "output_type": "stream",
     "text": [
      "downloading https://repo1.maven.org/maven2/org/datasyslab/geotools-wrapper/1.5.1-28.2/geotools-wrapper-1.5.1-28.2.jar ...\n"
     ]
    },
    {
     "name": "stderr",
     "output_type": "stream",
     "text": [
      "\t[SUCCESSFUL ] org.datasyslab#geotools-wrapper;1.5.1-28.2!geotools-wrapper.jar (826ms)\n",
      "downloading https://repo1.maven.org/maven2/uk/co/gresearch/spark/spark-extension_2.12/2.11.0-3.4/spark-extension_2.12-2.11.0-3.4.jar ...\n",
      "\t[SUCCESSFUL ] uk.co.gresearch.spark#spark-extension_2.12;2.11.0-3.4!spark-extension_2.12.jar (84ms)\n",
      "downloading https://repo1.maven.org/maven2/org/apache/sedona/sedona-common/1.5.1/sedona-common-1.5.1.jar ...\n",
      "\t[SUCCESSFUL ] org.apache.sedona#sedona-common;1.5.1!sedona-common.jar (105ms)\n"
     ]
    },
    {
     "name": "stderr",
     "output_type": "stream",
     "text": [
      "downloading https://repo1.maven.org/maven2/org/apache/sedona/sedona-spark-common-3.4_2.12/1.5.1/sedona-spark-common-3.4_2.12-1.5.1.jar ...\n",
      "\t[SUCCESSFUL ] org.apache.sedona#sedona-spark-common-3.4_2.12;1.5.1!sedona-spark-common-3.4_2.12.jar (423ms)\n",
      "downloading https://repo1.maven.org/maven2/org/locationtech/jts/jts-core/1.19.0/jts-core-1.19.0.jar ...\n",
      "\t[SUCCESSFUL ] org.locationtech.jts#jts-core;1.19.0!jts-core.jar(bundle) (18ms)\n",
      "downloading https://repo1.maven.org/maven2/org/wololo/jts2geojson/0.16.1/jts2geojson-0.16.1.jar ...\n",
      "\t[SUCCESSFUL ] org.wololo#jts2geojson;0.16.1!jts2geojson.jar (12ms)\n",
      "downloading https://repo1.maven.org/maven2/org/scala-lang/modules/scala-collection-compat_2.12/2.5.0/scala-collection-compat_2.12-2.5.0.jar ...\n",
      "\t[SUCCESSFUL ] org.scala-lang.modules#scala-collection-compat_2.12;2.5.0!scala-collection-compat_2.12.jar (7ms)\n",
      "downloading https://repo1.maven.org/maven2/org/apache/commons/commons-math3/3.6.1/commons-math3-3.6.1.jar ...\n",
      "\t[SUCCESSFUL ] org.apache.commons#commons-math3;3.6.1!commons-math3.jar (22ms)\n",
      "downloading https://repo1.maven.org/maven2/org/locationtech/spatial4j/spatial4j/0.8/spatial4j-0.8.jar ...\n",
      "\t[SUCCESSFUL ] org.locationtech.spatial4j#spatial4j;0.8!spatial4j.jar(bundle) (8ms)\n",
      "downloading https://repo1.maven.org/maven2/com/google/geometry/s2-geometry/2.0.0/s2-geometry-2.0.0.jar ...\n",
      "\t[SUCCESSFUL ] com.google.geometry#s2-geometry;2.0.0!s2-geometry.jar (20ms)\n",
      "downloading https://repo1.maven.org/maven2/com/uber/h3/4.1.1/h3-4.1.1.jar ...\n",
      "\t[SUCCESSFUL ] com.uber#h3;4.1.1!h3.jar (26ms)\n"
     ]
    },
    {
     "name": "stderr",
     "output_type": "stream",
     "text": [
      "downloading https://repo1.maven.org/maven2/net/sf/geographiclib/GeographicLib-Java/1.52/GeographicLib-Java-1.52.jar ...\n",
      "\t[SUCCESSFUL ] net.sf.geographiclib#GeographicLib-Java;1.52!GeographicLib-Java.jar (96ms)\n",
      "downloading https://repo1.maven.org/maven2/com/github/ben-manes/caffeine/caffeine/2.9.2/caffeine-2.9.2.jar ...\n",
      "\t[SUCCESSFUL ] com.github.ben-manes.caffeine#caffeine;2.9.2!caffeine.jar (14ms)\n",
      "downloading https://repo1.maven.org/maven2/com/google/guava/guava/25.1-jre/guava-25.1-jre.jar ...\n",
      "\t[SUCCESSFUL ] com.google.guava#guava;25.1-jre!guava.jar(bundle) (39ms)\n",
      "downloading https://repo1.maven.org/maven2/com/google/code/findbugs/jsr305/3.0.2/jsr305-3.0.2.jar ...\n",
      "\t[SUCCESSFUL ] com.google.code.findbugs#jsr305;3.0.2!jsr305.jar (8ms)\n",
      "downloading https://repo1.maven.org/maven2/com/google/j2objc/j2objc-annotations/1.1/j2objc-annotations-1.1.jar ...\n",
      "\t[SUCCESSFUL ] com.google.j2objc#j2objc-annotations;1.1!j2objc-annotations.jar (9ms)\n",
      "downloading https://repo1.maven.org/maven2/org/codehaus/mojo/animal-sniffer-annotations/1.14/animal-sniffer-annotations-1.14.jar ...\n",
      "\t[SUCCESSFUL ] org.codehaus.mojo#animal-sniffer-annotations;1.14!animal-sniffer-annotations.jar (7ms)\n",
      "downloading https://repo1.maven.org/maven2/org/checkerframework/checker-qual/3.10.0/checker-qual-3.10.0.jar ...\n",
      "\t[SUCCESSFUL ] org.checkerframework#checker-qual;3.10.0!checker-qual.jar (9ms)\n",
      "downloading https://repo1.maven.org/maven2/com/google/errorprone/error_prone_annotations/2.5.1/error_prone_annotations-2.5.1.jar ...\n",
      "\t[SUCCESSFUL ] com.google.errorprone#error_prone_annotations;2.5.1!error_prone_annotations.jar (14ms)\n",
      "downloading https://repo1.maven.org/maven2/commons-lang/commons-lang/2.6/commons-lang-2.6.jar ...\n",
      "\t[SUCCESSFUL ] commons-lang#commons-lang;2.6!commons-lang.jar (6ms)\n",
      "downloading https://repo1.maven.org/maven2/org/beryx/awt-color-factory/1.0.0/awt-color-factory-1.0.0.jar ...\n",
      "\t[SUCCESSFUL ] org.beryx#awt-color-factory;1.0.0!awt-color-factory.jar (6ms)\n",
      "downloading https://repo1.maven.org/maven2/com/github/scopt/scopt_2.12/4.1.0/scopt_2.12-4.1.0.jar ...\n",
      "\t[SUCCESSFUL ] com.github.scopt#scopt_2.12;4.1.0!scopt_2.12.jar (7ms)\n",
      ":: resolution report :: resolve 5129ms :: artifacts dl 1863ms\n",
      "\t:: modules in use:\n",
      "\tcom.github.ben-manes.caffeine#caffeine;2.9.2 from central in [default]\n",
      "\tcom.github.scopt#scopt_2.12;4.1.0 from central in [default]\n",
      "\tcom.google.code.findbugs#jsr305;3.0.2 from central in [default]\n",
      "\tcom.google.errorprone#error_prone_annotations;2.5.1 from central in [default]\n",
      "\tcom.google.geometry#s2-geometry;2.0.0 from central in [default]\n",
      "\tcom.google.guava#guava;25.1-jre from central in [default]\n",
      "\tcom.google.j2objc#j2objc-annotations;1.1 from central in [default]\n",
      "\tcom.uber#h3;4.1.1 from central in [default]\n",
      "\tcommons-lang#commons-lang;2.6 from central in [default]\n",
      "\tnet.sf.geographiclib#GeographicLib-Java;1.52 from central in [default]\n",
      "\torg.apache.commons#commons-math3;3.6.1 from central in [default]\n",
      "\torg.apache.sedona#sedona-common;1.5.1 from central in [default]\n",
      "\torg.apache.sedona#sedona-spark-3.4_2.12;1.5.1 from central in [default]\n",
      "\torg.apache.sedona#sedona-spark-common-3.4_2.12;1.5.1 from central in [default]\n",
      "\torg.beryx#awt-color-factory;1.0.0 from central in [default]\n",
      "\torg.checkerframework#checker-qual;3.10.0 from central in [default]\n",
      "\torg.codehaus.mojo#animal-sniffer-annotations;1.14 from central in [default]\n",
      "\torg.datasyslab#geotools-wrapper;1.5.1-28.2 from central in [default]\n",
      "\torg.locationtech.jts#jts-core;1.19.0 from central in [default]\n",
      "\torg.locationtech.spatial4j#spatial4j;0.8 from central in [default]\n",
      "\torg.scala-lang.modules#scala-collection-compat_2.12;2.5.0 from central in [default]\n",
      "\torg.wololo#jts2geojson;0.16.1 from central in [default]\n",
      "\tuk.co.gresearch.spark#spark-extension_2.12;2.11.0-3.4 from central in [default]\n",
      "\t:: evicted modules:\n",
      "\torg.checkerframework#checker-qual;2.0.0 by [org.checkerframework#checker-qual;3.10.0] in [default]\n",
      "\tcom.google.errorprone#error_prone_annotations;2.1.3 by [com.google.errorprone#error_prone_annotations;2.5.1] in [default]\n",
      "\t---------------------------------------------------------------------\n",
      "\t|                  |            modules            ||   artifacts   |\n",
      "\t|       conf       | number| search|dwnlded|evicted|| number|dwnlded|\n",
      "\t---------------------------------------------------------------------\n",
      "\t|      default     |   25  |   25  |   25  |   2   ||   23  |   23  |\n",
      "\t---------------------------------------------------------------------\n",
      ":: retrieving :: org.apache.spark#spark-submit-parent-6e584b9e-3c45-48a2-823e-6f519e0dce8d\n",
      "\tconfs: [default]\n"
     ]
    },
    {
     "name": "stderr",
     "output_type": "stream",
     "text": [
      "\t23 artifacts copied, 0 already retrieved (42471kB/81ms)\n"
     ]
    },
    {
     "name": "stderr",
     "output_type": "stream",
     "text": [
      "24/02/25 22:08:23 WARN NativeCodeLoader: Unable to load native-hadoop library for your platform... using builtin-java classes where applicable\n"
     ]
    },
    {
     "name": "stderr",
     "output_type": "stream",
     "text": [
      "Setting default log level to \"WARN\".\n",
      "To adjust logging level use sc.setLogLevel(newLevel). For SparkR, use setLogLevel(newLevel).\n"
     ]
    },
    {
     "name": "stderr",
     "output_type": "stream",
     "text": [
      "\r",
      "[Stage 0:>                                                          (0 + 1) / 1]\r",
      "\r",
      "                                                                                \r"
     ]
    }
   ],
   "source": [
    "config = SedonaContext.builder() .\\\n",
    "    config('spark.jars.packages',\n",
    "           'org.apache.sedona:sedona-spark-3.4_2.12:1.5.1,'\n",
    "           'org.datasyslab:geotools-wrapper:1.5.1-28.2,'\n",
    "           'uk.co.gresearch.spark:spark-extension_2.12:2.11.0-3.4'). \\\n",
    "    config('spark.jars.repositories', 'https://artifacts.unidata.ucar.edu/repository/unidata-all'). \\\n",
    "    getOrCreate()\n",
    "\n",
    "sedona = SedonaContext.create(config)"
   ]
  },
  {
   "cell_type": "code",
   "execution_count": 18,
   "metadata": {
    "execution": {
     "iopub.execute_input": "2024-02-25T22:08:29.808846Z",
     "iopub.status.busy": "2024-02-25T22:08:29.808059Z",
     "iopub.status.idle": "2024-02-25T22:08:29.812932Z",
     "shell.execute_reply": "2024-02-25T22:08:29.812131Z"
    },
    "id": "JI32GOnEOjcO"
   },
   "outputs": [],
   "source": [
    "sc = sedona.sparkContext"
   ]
  },
  {
   "cell_type": "markdown",
   "metadata": {
    "id": "OdQM3oaYOjcO"
   },
   "source": [
    "# Create SpatialRDD"
   ]
  },
  {
   "cell_type": "markdown",
   "metadata": {
    "id": "X2umXxYfOjcO"
   },
   "source": [
    "## Reading to PointRDD from CSV file"
   ]
  },
  {
   "cell_type": "markdown",
   "metadata": {
    "id": "j8Rgv--0OjcP"
   },
   "source": [
    "Suppose we want load the CSV file into Apache Sedona PointRDD\n",
    "```\n",
    "testattribute0,-88.331492,32.324142,testattribute1,testattribute2\n",
    "testattribute0,-88.175933,32.360763,testattribute1,testattribute2\n",
    "testattribute0,-88.388954,32.357073,testattribute1,testattribute2\n",
    "testattribute0,-88.221102,32.35078,testattribute1,testattribute2\n",
    "testattribute0,-88.323995,32.950671,testattribute1,testattribute2\n",
    "testattribute0,-88.231077,32.700812,testattribute1,testattribute2\n",
    "```"
   ]
  },
  {
   "cell_type": "code",
   "execution_count": 19,
   "metadata": {
    "execution": {
     "iopub.execute_input": "2024-02-25T22:08:29.816630Z",
     "iopub.status.busy": "2024-02-25T22:08:29.816042Z",
     "iopub.status.idle": "2024-02-25T22:08:30.200273Z",
     "shell.execute_reply": "2024-02-25T22:08:30.199512Z"
    },
    "id": "gusbYu1fOjcP"
   },
   "outputs": [],
   "source": [
    "point_rdd = PointRDD(sc, \"data/arealm-small.csv\", 1, FileDataSplitter.CSV, True, 10)"
   ]
  },
  {
   "cell_type": "code",
   "execution_count": 20,
   "metadata": {
    "colab": {
     "base_uri": "https://localhost:8080/"
    },
    "execution": {
     "iopub.execute_input": "2024-02-25T22:08:30.204487Z",
     "iopub.status.busy": "2024-02-25T22:08:30.204229Z",
     "iopub.status.idle": "2024-02-25T22:08:30.211745Z",
     "shell.execute_reply": "2024-02-25T22:08:30.211240Z"
    },
    "id": "Ykc5FwouOjcP",
    "outputId": "4a981655-2238-4bb4-fd67-7c56584585a0"
   },
   "outputs": [
    {
     "data": {
      "text/plain": [
       "3000"
      ]
     },
     "execution_count": 20,
     "metadata": {},
     "output_type": "execute_result"
    }
   ],
   "source": [
    "## Getting approximate total count\n",
    "point_rdd.approximateTotalCount"
   ]
  },
  {
   "cell_type": "code",
   "execution_count": 21,
   "metadata": {
    "colab": {
     "base_uri": "https://localhost:8080/",
     "height": 121
    },
    "execution": {
     "iopub.execute_input": "2024-02-25T22:08:30.214497Z",
     "iopub.status.busy": "2024-02-25T22:08:30.214090Z",
     "iopub.status.idle": "2024-02-25T22:08:30.301496Z",
     "shell.execute_reply": "2024-02-25T22:08:30.300684Z"
    },
    "id": "PdEjrrRHOjcP",
    "outputId": "fc0d5620-a4eb-4e37-e819-3e04e16ddcd4"
   },
   "outputs": [
    {
     "data": {
      "image/svg+xml": [
       "<svg xmlns=\"http://www.w3.org/2000/svg\" xmlns:xlink=\"http://www.w3.org/1999/xlink\" width=\"100.0\" height=\"100.0\" viewBox=\"-176.64696132 26.718666680000002 95.20719264000002 48.162659640000015\" preserveAspectRatio=\"xMinYMin meet\"><g transform=\"matrix(1,0,0,-1,0,101.59999300000001)\"><path fill-rule=\"evenodd\" fill=\"#66cc99\" stroke=\"#555555\" stroke-width=\"1.9041438528000003\" opacity=\"0.6\" d=\"M -173.120769,30.244859 L -173.120769,71.355134 L -84.965961,71.355134 L -84.965961,30.244859 L -173.120769,30.244859 z\" /></g></svg>"
      ],
      "text/plain": [
       "Envelope(-173.120769, -84.965961, 30.244859, 71.355134)"
      ]
     },
     "execution_count": 21,
     "metadata": {},
     "output_type": "execute_result"
    }
   ],
   "source": [
    "# getting boundary for PointRDD or any other SpatialRDD, it returns Enelope object which inherits from\n",
    "# shapely.geometry.Polygon\n",
    "point_rdd.boundary()"
   ]
  },
  {
   "cell_type": "code",
   "execution_count": 22,
   "metadata": {
    "colab": {
     "base_uri": "https://localhost:8080/"
    },
    "execution": {
     "iopub.execute_input": "2024-02-25T22:08:30.305056Z",
     "iopub.status.busy": "2024-02-25T22:08:30.304843Z",
     "iopub.status.idle": "2024-02-25T22:08:30.396998Z",
     "shell.execute_reply": "2024-02-25T22:08:30.396257Z"
    },
    "id": "MDV2-f2tOjcP",
    "outputId": "626448bb-0e07-4463-9830-7ec607546fcd"
   },
   "outputs": [
    {
     "data": {
      "text/plain": [
       "True"
      ]
     },
     "execution_count": 22,
     "metadata": {},
     "output_type": "execute_result"
    }
   ],
   "source": [
    "# To run analyze please use function analyze\n",
    "point_rdd.analyze()"
   ]
  },
  {
   "cell_type": "code",
   "execution_count": 23,
   "metadata": {
    "colab": {
     "base_uri": "https://localhost:8080/",
     "height": 121
    },
    "execution": {
     "iopub.execute_input": "2024-02-25T22:08:30.400631Z",
     "iopub.status.busy": "2024-02-25T22:08:30.400390Z",
     "iopub.status.idle": "2024-02-25T22:08:30.409135Z",
     "shell.execute_reply": "2024-02-25T22:08:30.408456Z"
    },
    "id": "puMA8o6POjcP",
    "outputId": "3b701a97-f5ca-4316-e345-35416125e9f8"
   },
   "outputs": [
    {
     "data": {
      "image/svg+xml": [
       "<svg xmlns=\"http://www.w3.org/2000/svg\" xmlns:xlink=\"http://www.w3.org/1999/xlink\" width=\"100.0\" height=\"100.0\" viewBox=\"-176.64696132 26.718666680000002 95.20719264000002 48.162659640000015\" preserveAspectRatio=\"xMinYMin meet\"><g transform=\"matrix(1,0,0,-1,0,101.59999300000001)\"><path fill-rule=\"evenodd\" fill=\"#66cc99\" stroke=\"#555555\" stroke-width=\"1.9041438528000003\" opacity=\"0.6\" d=\"M -173.120769,30.244859 L -173.120769,71.355134 L -84.965961,71.355134 L -84.965961,30.244859 L -173.120769,30.244859 z\" /></g></svg>"
      ],
      "text/plain": [
       "Envelope(-173.120769, -84.965961, 30.244859, 71.355134)"
      ]
     },
     "execution_count": 23,
     "metadata": {},
     "output_type": "execute_result"
    }
   ],
   "source": [
    "# Finding boundary envelope for PointRDD or any other SpatialRDD, it returns Enelope object which inherits from\n",
    "# shapely.geometry.Polygon\n",
    "point_rdd.boundaryEnvelope"
   ]
  },
  {
   "cell_type": "code",
   "execution_count": 24,
   "metadata": {
    "colab": {
     "base_uri": "https://localhost:8080/"
    },
    "execution": {
     "iopub.execute_input": "2024-02-25T22:08:30.412714Z",
     "iopub.status.busy": "2024-02-25T22:08:30.412272Z",
     "iopub.status.idle": "2024-02-25T22:08:30.541659Z",
     "shell.execute_reply": "2024-02-25T22:08:30.540772Z"
    },
    "id": "hgOCi8lJOjcQ",
    "outputId": "fbf49d82-845e-4ddb-a178-c6d5817de5d6"
   },
   "outputs": [
    {
     "data": {
      "text/plain": [
       "2996"
      ]
     },
     "execution_count": 24,
     "metadata": {},
     "output_type": "execute_result"
    }
   ],
   "source": [
    "# Calculate number of records without duplicates\n",
    "point_rdd.countWithoutDuplicates()"
   ]
  },
  {
   "cell_type": "code",
   "execution_count": 25,
   "metadata": {
    "colab": {
     "base_uri": "https://localhost:8080/",
     "height": 35
    },
    "execution": {
     "iopub.execute_input": "2024-02-25T22:08:30.545129Z",
     "iopub.status.busy": "2024-02-25T22:08:30.544857Z",
     "iopub.status.idle": "2024-02-25T22:08:30.549760Z",
     "shell.execute_reply": "2024-02-25T22:08:30.549012Z"
    },
    "id": "-l1BvhakOjcQ",
    "outputId": "f67bcf6c-e663-4fa3-ee71-bccd904b6806"
   },
   "outputs": [
    {
     "data": {
      "text/plain": [
       "''"
      ]
     },
     "execution_count": 25,
     "metadata": {},
     "output_type": "execute_result"
    }
   ],
   "source": [
    "# Getting source epsg code\n",
    "point_rdd.getSourceEpsgCode()"
   ]
  },
  {
   "cell_type": "code",
   "execution_count": 26,
   "metadata": {
    "colab": {
     "base_uri": "https://localhost:8080/",
     "height": 35
    },
    "execution": {
     "iopub.execute_input": "2024-02-25T22:08:30.553052Z",
     "iopub.status.busy": "2024-02-25T22:08:30.552570Z",
     "iopub.status.idle": "2024-02-25T22:08:30.557630Z",
     "shell.execute_reply": "2024-02-25T22:08:30.556936Z"
    },
    "id": "tiFEDeNdOjcQ",
    "outputId": "cc91916a-dcbf-442f-ff95-662975ddc04d"
   },
   "outputs": [
    {
     "data": {
      "text/plain": [
       "''"
      ]
     },
     "execution_count": 26,
     "metadata": {},
     "output_type": "execute_result"
    }
   ],
   "source": [
    "# Getting target epsg code\n",
    "point_rdd.getTargetEpsgCode()"
   ]
  },
  {
   "cell_type": "code",
   "execution_count": 27,
   "metadata": {
    "colab": {
     "base_uri": "https://localhost:8080/"
    },
    "execution": {
     "iopub.execute_input": "2024-02-25T22:08:30.560457Z",
     "iopub.status.busy": "2024-02-25T22:08:30.559972Z",
     "iopub.status.idle": "2024-02-25T22:08:30.717238Z",
     "shell.execute_reply": "2024-02-25T22:08:30.716446Z"
    },
    "id": "oip1bNogOjcQ",
    "outputId": "dfb01317-0542-4763-ee44-96b6e5eff05a"
   },
   "outputs": [
    {
     "data": {
      "text/plain": [
       "True"
      ]
     },
     "execution_count": 27,
     "metadata": {},
     "output_type": "execute_result"
    }
   ],
   "source": [
    "# Spatial partitioning data\n",
    "point_rdd.spatialPartitioning(GridType.KDBTREE)"
   ]
  },
  {
   "cell_type": "markdown",
   "metadata": {
    "id": "setaW5adOjcQ"
   },
   "source": [
    "## Operations on RawSpatialRDD"
   ]
  },
  {
   "cell_type": "markdown",
   "metadata": {
    "id": "XeAQe3qqOjcQ"
   },
   "source": [
    "rawSpatialRDD method returns RDD which consists of GeoData objects which has 2 attributes\n",
    "<li> geom: shapely.geometry.BaseGeometry </li>\n",
    "<li> userData: str </li>\n",
    "\n",
    "You can use any operations on those objects and spread across machines"
   ]
  },
  {
   "cell_type": "code",
   "execution_count": 28,
   "metadata": {
    "colab": {
     "base_uri": "https://localhost:8080/"
    },
    "execution": {
     "iopub.execute_input": "2024-02-25T22:08:30.721276Z",
     "iopub.status.busy": "2024-02-25T22:08:30.720773Z",
     "iopub.status.idle": "2024-02-25T22:08:31.520020Z",
     "shell.execute_reply": "2024-02-25T22:08:31.519208Z"
    },
    "id": "pNlkO6kYOjcR",
    "outputId": "d2a40cc1-dca5-413a-e4f0-d22c0c2be1a1"
   },
   "outputs": [
    {
     "name": "stderr",
     "output_type": "stream",
     "text": [
      "\r",
      "[Stage 8:>                                                          (0 + 1) / 1]\r",
      "\r",
      "                                                                                \r"
     ]
    },
    {
     "data": {
      "text/plain": [
       "[Geometry: Point userData: testattribute0\ttestattribute1\ttestattribute2]"
      ]
     },
     "execution_count": 28,
     "metadata": {},
     "output_type": "execute_result"
    }
   ],
   "source": [
    "# take firs element\n",
    "point_rdd.rawSpatialRDD.take(1)"
   ]
  },
  {
   "cell_type": "code",
   "execution_count": 29,
   "metadata": {
    "colab": {
     "base_uri": "https://localhost:8080/"
    },
    "execution": {
     "iopub.execute_input": "2024-02-25T22:08:31.523090Z",
     "iopub.status.busy": "2024-02-25T22:08:31.522599Z",
     "iopub.status.idle": "2024-02-25T22:08:31.808258Z",
     "shell.execute_reply": "2024-02-25T22:08:31.807464Z"
    },
    "id": "22UNTZiIOjcR",
    "outputId": "ec6cad29-26a3-44c6-8d0e-477397864945"
   },
   "outputs": [
    {
     "data": {
      "text/plain": [
       "[Geometry: Point userData: testattribute0\ttestattribute1\ttestattribute2,\n",
       " Geometry: Point userData: testattribute0\ttestattribute1\ttestattribute2,\n",
       " Geometry: Point userData: testattribute0\ttestattribute1\ttestattribute2,\n",
       " Geometry: Point userData: testattribute0\ttestattribute1\ttestattribute2,\n",
       " Geometry: Point userData: testattribute0\ttestattribute1\ttestattribute2]"
      ]
     },
     "execution_count": 29,
     "metadata": {},
     "output_type": "execute_result"
    }
   ],
   "source": [
    "# collect to Python list\n",
    "point_rdd.rawSpatialRDD.collect()[:5]"
   ]
  },
  {
   "cell_type": "code",
   "execution_count": 30,
   "metadata": {
    "colab": {
     "base_uri": "https://localhost:8080/"
    },
    "execution": {
     "iopub.execute_input": "2024-02-25T22:08:31.812124Z",
     "iopub.status.busy": "2024-02-25T22:08:31.811526Z",
     "iopub.status.idle": "2024-02-25T22:08:32.070194Z",
     "shell.execute_reply": "2024-02-25T22:08:32.069471Z"
    },
    "id": "_vz8jzj6OjcR",
    "outputId": "305812a3-9435-412f-d331-0d1f09544b41"
   },
   "outputs": [
    {
     "data": {
      "text/plain": [
       "[111.08786851399313,\n",
       " 110.92828303170774,\n",
       " 111.1385974283527,\n",
       " 110.97450594034112,\n",
       " 110.97122518072091]"
      ]
     },
     "execution_count": 30,
     "metadata": {},
     "output_type": "execute_result"
    }
   ],
   "source": [
    "# apply map functions, for example distance to Point(52 21)\n",
    "point_rdd.rawSpatialRDD.map(lambda x: x.geom.distance(Point(21, 52))).take(5)"
   ]
  },
  {
   "cell_type": "markdown",
   "metadata": {
    "id": "VJUwfnWbOjcR"
   },
   "source": [
    "## Transforming to GeoPandas"
   ]
  },
  {
   "cell_type": "markdown",
   "metadata": {
    "id": "HJT4cqunOjcR"
   },
   "source": [
    "## Loaded data can be transformed to GeoPandas DataFrame in a few ways"
   ]
  },
  {
   "cell_type": "markdown",
   "metadata": {
    "id": "ENst5TKKOjcR"
   },
   "source": [
    "### Directly from RDD"
   ]
  },
  {
   "cell_type": "code",
   "execution_count": 31,
   "metadata": {
    "execution": {
     "iopub.execute_input": "2024-02-25T22:08:32.073285Z",
     "iopub.status.busy": "2024-02-25T22:08:32.072793Z",
     "iopub.status.idle": "2024-02-25T22:08:32.079073Z",
     "shell.execute_reply": "2024-02-25T22:08:32.078423Z"
    },
    "id": "khvSdVtROjcR"
   },
   "outputs": [],
   "source": [
    "point_rdd_to_geo = point_rdd.rawSpatialRDD.map(lambda x: [x.geom, *x.getUserData().split(\"\\t\")])"
   ]
  },
  {
   "cell_type": "code",
   "execution_count": 32,
   "metadata": {
    "execution": {
     "iopub.execute_input": "2024-02-25T22:08:32.081935Z",
     "iopub.status.busy": "2024-02-25T22:08:32.081520Z",
     "iopub.status.idle": "2024-02-25T22:08:32.776254Z",
     "shell.execute_reply": "2024-02-25T22:08:32.775436Z"
    },
    "id": "h_aQLibwOjcR"
   },
   "outputs": [
    {
     "name": "stderr",
     "output_type": "stream",
     "text": [
      "\r",
      "[Stage 11:=============================================>           (8 + 2) / 10]\r",
      "\r",
      "                                                                                \r"
     ]
    }
   ],
   "source": [
    "point_gdf = gpd.GeoDataFrame(\n",
    "    point_rdd_to_geo.collect(), columns=[\"geom\", \"attr1\", \"attr2\", \"attr3\"], geometry=\"geom\"\n",
    ")"
   ]
  },
  {
   "cell_type": "code",
   "execution_count": 33,
   "metadata": {
    "colab": {
     "base_uri": "https://localhost:8080/",
     "height": 0
    },
    "execution": {
     "iopub.execute_input": "2024-02-25T22:08:32.779413Z",
     "iopub.status.busy": "2024-02-25T22:08:32.778877Z",
     "iopub.status.idle": "2024-02-25T22:08:32.791083Z",
     "shell.execute_reply": "2024-02-25T22:08:32.790423Z"
    },
    "id": "Ht7qYNuwOjcS",
    "outputId": "a5f39f31-a0f7-414d-d3fe-17d7625cf0e4"
   },
   "outputs": [
    {
     "data": {
      "text/html": [
       "<div>\n",
       "<style scoped>\n",
       "    .dataframe tbody tr th:only-of-type {\n",
       "        vertical-align: middle;\n",
       "    }\n",
       "\n",
       "    .dataframe tbody tr th {\n",
       "        vertical-align: top;\n",
       "    }\n",
       "\n",
       "    .dataframe thead th {\n",
       "        text-align: right;\n",
       "    }\n",
       "</style>\n",
       "<table border=\"1\" class=\"dataframe\">\n",
       "  <thead>\n",
       "    <tr style=\"text-align: right;\">\n",
       "      <th></th>\n",
       "      <th>geom</th>\n",
       "      <th>attr1</th>\n",
       "      <th>attr2</th>\n",
       "      <th>attr3</th>\n",
       "    </tr>\n",
       "  </thead>\n",
       "  <tbody>\n",
       "    <tr>\n",
       "      <th>0</th>\n",
       "      <td>POINT (-88.33149 32.32414)</td>\n",
       "      <td>testattribute0</td>\n",
       "      <td>testattribute1</td>\n",
       "      <td>testattribute2</td>\n",
       "    </tr>\n",
       "    <tr>\n",
       "      <th>1</th>\n",
       "      <td>POINT (-88.17593 32.36076)</td>\n",
       "      <td>testattribute0</td>\n",
       "      <td>testattribute1</td>\n",
       "      <td>testattribute2</td>\n",
       "    </tr>\n",
       "    <tr>\n",
       "      <th>2</th>\n",
       "      <td>POINT (-88.38895 32.35707)</td>\n",
       "      <td>testattribute0</td>\n",
       "      <td>testattribute1</td>\n",
       "      <td>testattribute2</td>\n",
       "    </tr>\n",
       "    <tr>\n",
       "      <th>3</th>\n",
       "      <td>POINT (-88.22110 32.35078)</td>\n",
       "      <td>testattribute0</td>\n",
       "      <td>testattribute1</td>\n",
       "      <td>testattribute2</td>\n",
       "    </tr>\n",
       "    <tr>\n",
       "      <th>4</th>\n",
       "      <td>POINT (-88.32399 32.95067)</td>\n",
       "      <td>testattribute0</td>\n",
       "      <td>testattribute1</td>\n",
       "      <td>testattribute2</td>\n",
       "    </tr>\n",
       "  </tbody>\n",
       "</table>\n",
       "</div>"
      ],
      "text/plain": [
       "                         geom           attr1           attr2           attr3\n",
       "0  POINT (-88.33149 32.32414)  testattribute0  testattribute1  testattribute2\n",
       "1  POINT (-88.17593 32.36076)  testattribute0  testattribute1  testattribute2\n",
       "2  POINT (-88.38895 32.35707)  testattribute0  testattribute1  testattribute2\n",
       "3  POINT (-88.22110 32.35078)  testattribute0  testattribute1  testattribute2\n",
       "4  POINT (-88.32399 32.95067)  testattribute0  testattribute1  testattribute2"
      ]
     },
     "execution_count": 33,
     "metadata": {},
     "output_type": "execute_result"
    }
   ],
   "source": [
    "point_gdf[:5]"
   ]
  },
  {
   "cell_type": "markdown",
   "metadata": {
    "id": "2vW97p_iOjcS"
   },
   "source": [
    "### Using Adapter"
   ]
  },
  {
   "cell_type": "code",
   "execution_count": 34,
   "metadata": {
    "execution": {
     "iopub.execute_input": "2024-02-25T22:08:32.793773Z",
     "iopub.status.busy": "2024-02-25T22:08:32.793386Z",
     "iopub.status.idle": "2024-02-25T22:08:32.796257Z",
     "shell.execute_reply": "2024-02-25T22:08:32.795705Z"
    },
    "id": "HN0IIhZ8OjcS",
    "tags": []
   },
   "outputs": [],
   "source": [
    "# Adapter allows you to convert geospatial data types introduced with sedona to other ones"
   ]
  },
  {
   "cell_type": "code",
   "execution_count": 35,
   "metadata": {
    "execution": {
     "iopub.execute_input": "2024-02-25T22:08:32.798534Z",
     "iopub.status.busy": "2024-02-25T22:08:32.798335Z",
     "iopub.status.idle": "2024-02-25T22:08:32.899717Z",
     "shell.execute_reply": "2024-02-25T22:08:32.898866Z"
    },
    "id": "69dR65hgOjcS"
   },
   "outputs": [],
   "source": [
    "spatial_df = Adapter.\\\n",
    "    toDf(point_rdd, [\"attr1\", \"attr2\", \"attr3\"], sedona).\\\n",
    "    createOrReplaceTempView(\"spatial_df\")\n",
    "\n",
    "spatial_gdf = sedona.sql(\"Select attr1, attr2, attr3, geometry as geom from spatial_df\")"
   ]
  },
  {
   "cell_type": "code",
   "execution_count": 36,
   "metadata": {
    "colab": {
     "base_uri": "https://localhost:8080/"
    },
    "execution": {
     "iopub.execute_input": "2024-02-25T22:08:32.903710Z",
     "iopub.status.busy": "2024-02-25T22:08:32.903200Z",
     "iopub.status.idle": "2024-02-25T22:08:33.224180Z",
     "shell.execute_reply": "2024-02-25T22:08:33.223322Z"
    },
    "id": "TnGQMPUIOjcS",
    "outputId": "d3923b4f-12a4-43df-f874-8cba67e04bef"
   },
   "outputs": [
    {
     "name": "stdout",
     "output_type": "stream",
     "text": [
      "+--------------+--------------+--------------+----------------------------+\n",
      "|attr1         |attr2         |attr3         |geom                        |\n",
      "+--------------+--------------+--------------+----------------------------+\n",
      "|testattribute0|testattribute1|testattribute2|POINT (-88.331492 32.324142)|\n",
      "|testattribute0|testattribute1|testattribute2|POINT (-88.175933 32.360763)|\n",
      "|testattribute0|testattribute1|testattribute2|POINT (-88.388954 32.357073)|\n",
      "|testattribute0|testattribute1|testattribute2|POINT (-88.221102 32.35078) |\n",
      "|testattribute0|testattribute1|testattribute2|POINT (-88.323995 32.950671)|\n",
      "+--------------+--------------+--------------+----------------------------+\n",
      "only showing top 5 rows\n",
      "\n"
     ]
    }
   ],
   "source": [
    "spatial_gdf.show(5, False)"
   ]
  },
  {
   "cell_type": "code",
   "execution_count": 37,
   "metadata": {
    "colab": {
     "base_uri": "https://localhost:8080/",
     "height": 0
    },
    "execution": {
     "iopub.execute_input": "2024-02-25T22:08:33.228124Z",
     "iopub.status.busy": "2024-02-25T22:08:33.227499Z",
     "iopub.status.idle": "2024-02-25T22:08:33.910507Z",
     "shell.execute_reply": "2024-02-25T22:08:33.909728Z"
    },
    "id": "IdL0awafOjcS",
    "outputId": "cafcd06d-0376-4b32-ff79-dd96936865e9"
   },
   "outputs": [
    {
     "data": {
      "text/html": [
       "<div>\n",
       "<style scoped>\n",
       "    .dataframe tbody tr th:only-of-type {\n",
       "        vertical-align: middle;\n",
       "    }\n",
       "\n",
       "    .dataframe tbody tr th {\n",
       "        vertical-align: top;\n",
       "    }\n",
       "\n",
       "    .dataframe thead th {\n",
       "        text-align: right;\n",
       "    }\n",
       "</style>\n",
       "<table border=\"1\" class=\"dataframe\">\n",
       "  <thead>\n",
       "    <tr style=\"text-align: right;\">\n",
       "      <th></th>\n",
       "      <th>attr1</th>\n",
       "      <th>attr2</th>\n",
       "      <th>attr3</th>\n",
       "      <th>geom</th>\n",
       "    </tr>\n",
       "  </thead>\n",
       "  <tbody>\n",
       "    <tr>\n",
       "      <th>0</th>\n",
       "      <td>testattribute0</td>\n",
       "      <td>testattribute1</td>\n",
       "      <td>testattribute2</td>\n",
       "      <td>POINT (-88.33149 32.32414)</td>\n",
       "    </tr>\n",
       "    <tr>\n",
       "      <th>1</th>\n",
       "      <td>testattribute0</td>\n",
       "      <td>testattribute1</td>\n",
       "      <td>testattribute2</td>\n",
       "      <td>POINT (-88.17593 32.36076)</td>\n",
       "    </tr>\n",
       "    <tr>\n",
       "      <th>2</th>\n",
       "      <td>testattribute0</td>\n",
       "      <td>testattribute1</td>\n",
       "      <td>testattribute2</td>\n",
       "      <td>POINT (-88.38895 32.35707)</td>\n",
       "    </tr>\n",
       "    <tr>\n",
       "      <th>3</th>\n",
       "      <td>testattribute0</td>\n",
       "      <td>testattribute1</td>\n",
       "      <td>testattribute2</td>\n",
       "      <td>POINT (-88.22110 32.35078)</td>\n",
       "    </tr>\n",
       "    <tr>\n",
       "      <th>4</th>\n",
       "      <td>testattribute0</td>\n",
       "      <td>testattribute1</td>\n",
       "      <td>testattribute2</td>\n",
       "      <td>POINT (-88.32399 32.95067)</td>\n",
       "    </tr>\n",
       "  </tbody>\n",
       "</table>\n",
       "</div>"
      ],
      "text/plain": [
       "            attr1           attr2           attr3                        geom\n",
       "0  testattribute0  testattribute1  testattribute2  POINT (-88.33149 32.32414)\n",
       "1  testattribute0  testattribute1  testattribute2  POINT (-88.17593 32.36076)\n",
       "2  testattribute0  testattribute1  testattribute2  POINT (-88.38895 32.35707)\n",
       "3  testattribute0  testattribute1  testattribute2  POINT (-88.22110 32.35078)\n",
       "4  testattribute0  testattribute1  testattribute2  POINT (-88.32399 32.95067)"
      ]
     },
     "execution_count": 37,
     "metadata": {},
     "output_type": "execute_result"
    }
   ],
   "source": [
    "gpd.GeoDataFrame(spatial_gdf.toPandas(), geometry=\"geom\")[:5]"
   ]
  },
  {
   "cell_type": "markdown",
   "metadata": {
    "id": "ilmR8RjIOjcS"
   },
   "source": [
    "### With DataFrame creation"
   ]
  },
  {
   "cell_type": "code",
   "execution_count": 38,
   "metadata": {
    "execution": {
     "iopub.execute_input": "2024-02-25T22:08:33.914287Z",
     "iopub.status.busy": "2024-02-25T22:08:33.913742Z",
     "iopub.status.idle": "2024-02-25T22:08:33.918311Z",
     "shell.execute_reply": "2024-02-25T22:08:33.917631Z"
    },
    "id": "LqgFLBZEOjcT"
   },
   "outputs": [],
   "source": [
    "schema = StructType(\n",
    "    [\n",
    "        StructField(\"geometry\", GeometryType(), False),\n",
    "        StructField(\"attr1\", StringType(), False),\n",
    "        StructField(\"attr2\", StringType(), False),\n",
    "        StructField(\"attr3\", StringType(), False),\n",
    "    ]\n",
    ")"
   ]
  },
  {
   "cell_type": "code",
   "execution_count": 39,
   "metadata": {
    "execution": {
     "iopub.execute_input": "2024-02-25T22:08:33.921729Z",
     "iopub.status.busy": "2024-02-25T22:08:33.921092Z",
     "iopub.status.idle": "2024-02-25T22:08:33.959903Z",
     "shell.execute_reply": "2024-02-25T22:08:33.959012Z"
    },
    "id": "tEO42a4DOjcT"
   },
   "outputs": [],
   "source": [
    "geo_df = sedona.createDataFrame(point_rdd_to_geo, schema, verifySchema=False)"
   ]
  },
  {
   "cell_type": "code",
   "execution_count": 40,
   "metadata": {
    "colab": {
     "base_uri": "https://localhost:8080/",
     "height": 0
    },
    "execution": {
     "iopub.execute_input": "2024-02-25T22:08:33.964166Z",
     "iopub.status.busy": "2024-02-25T22:08:33.963879Z",
     "iopub.status.idle": "2024-02-25T22:08:34.497982Z",
     "shell.execute_reply": "2024-02-25T22:08:34.497270Z"
    },
    "id": "PaIAqir1OjcT",
    "outputId": "89b2c8b0-f645-4ae0-c1be-660c5d7e60ea"
   },
   "outputs": [
    {
     "data": {
      "text/html": [
       "<div>\n",
       "<style scoped>\n",
       "    .dataframe tbody tr th:only-of-type {\n",
       "        vertical-align: middle;\n",
       "    }\n",
       "\n",
       "    .dataframe tbody tr th {\n",
       "        vertical-align: top;\n",
       "    }\n",
       "\n",
       "    .dataframe thead th {\n",
       "        text-align: right;\n",
       "    }\n",
       "</style>\n",
       "<table border=\"1\" class=\"dataframe\">\n",
       "  <thead>\n",
       "    <tr style=\"text-align: right;\">\n",
       "      <th></th>\n",
       "      <th>geometry</th>\n",
       "      <th>attr1</th>\n",
       "      <th>attr2</th>\n",
       "      <th>attr3</th>\n",
       "    </tr>\n",
       "  </thead>\n",
       "  <tbody>\n",
       "    <tr>\n",
       "      <th>0</th>\n",
       "      <td>POINT (-88.33149 32.32414)</td>\n",
       "      <td>testattribute0</td>\n",
       "      <td>testattribute1</td>\n",
       "      <td>testattribute2</td>\n",
       "    </tr>\n",
       "    <tr>\n",
       "      <th>1</th>\n",
       "      <td>POINT (-88.17593 32.36076)</td>\n",
       "      <td>testattribute0</td>\n",
       "      <td>testattribute1</td>\n",
       "      <td>testattribute2</td>\n",
       "    </tr>\n",
       "    <tr>\n",
       "      <th>2</th>\n",
       "      <td>POINT (-88.38895 32.35707)</td>\n",
       "      <td>testattribute0</td>\n",
       "      <td>testattribute1</td>\n",
       "      <td>testattribute2</td>\n",
       "    </tr>\n",
       "    <tr>\n",
       "      <th>3</th>\n",
       "      <td>POINT (-88.22110 32.35078)</td>\n",
       "      <td>testattribute0</td>\n",
       "      <td>testattribute1</td>\n",
       "      <td>testattribute2</td>\n",
       "    </tr>\n",
       "    <tr>\n",
       "      <th>4</th>\n",
       "      <td>POINT (-88.32399 32.95067)</td>\n",
       "      <td>testattribute0</td>\n",
       "      <td>testattribute1</td>\n",
       "      <td>testattribute2</td>\n",
       "    </tr>\n",
       "  </tbody>\n",
       "</table>\n",
       "</div>"
      ],
      "text/plain": [
       "                     geometry           attr1           attr2           attr3\n",
       "0  POINT (-88.33149 32.32414)  testattribute0  testattribute1  testattribute2\n",
       "1  POINT (-88.17593 32.36076)  testattribute0  testattribute1  testattribute2\n",
       "2  POINT (-88.38895 32.35707)  testattribute0  testattribute1  testattribute2\n",
       "3  POINT (-88.22110 32.35078)  testattribute0  testattribute1  testattribute2\n",
       "4  POINT (-88.32399 32.95067)  testattribute0  testattribute1  testattribute2"
      ]
     },
     "execution_count": 40,
     "metadata": {},
     "output_type": "execute_result"
    }
   ],
   "source": [
    "gpd.GeoDataFrame(geo_df.toPandas(), geometry=\"geometry\")[:5]"
   ]
  },
  {
   "cell_type": "markdown",
   "metadata": {
    "id": "kO1EyFACOjcT"
   },
   "source": [
    "# Load Typed SpatialRDDs"
   ]
  },
  {
   "cell_type": "markdown",
   "metadata": {
    "id": "w_0_hHNQOjcT"
   },
   "source": [
    "Currently The library supports 5 typed SpatialRDDs:\n",
    "<li> RectangleRDD </li>\n",
    "<li> PointRDD </li>\n",
    "<li> PolygonRDD </li>\n",
    "<li> LineStringRDD </li>\n",
    "<li> CircleRDD </li>"
   ]
  },
  {
   "cell_type": "code",
   "execution_count": 41,
   "metadata": {
    "execution": {
     "iopub.execute_input": "2024-02-25T22:08:34.501015Z",
     "iopub.status.busy": "2024-02-25T22:08:34.500596Z",
     "iopub.status.idle": "2024-02-25T22:08:34.870944Z",
     "shell.execute_reply": "2024-02-25T22:08:34.870109Z"
    },
    "id": "2m2k-n-LOjcT"
   },
   "outputs": [],
   "source": [
    "rectangle_rdd = RectangleRDD(sc, \"data/zcta510-small.csv\", FileDataSplitter.CSV, True, 11)\n",
    "point_rdd = PointRDD(sc, \"data/arealm-small.csv\", 1, FileDataSplitter.CSV, False, 11)\n",
    "polygon_rdd = PolygonRDD(sc, \"data/primaryroads-polygon.csv\", FileDataSplitter.CSV, True, 11)\n",
    "linestring_rdd = LineStringRDD(sc, \"data/primaryroads-linestring.csv\", FileDataSplitter.CSV, True)"
   ]
  },
  {
   "cell_type": "code",
   "execution_count": 42,
   "metadata": {
    "colab": {
     "base_uri": "https://localhost:8080/"
    },
    "execution": {
     "iopub.execute_input": "2024-02-25T22:08:34.874317Z",
     "iopub.status.busy": "2024-02-25T22:08:34.874108Z",
     "iopub.status.idle": "2024-02-25T22:08:35.154677Z",
     "shell.execute_reply": "2024-02-25T22:08:35.153879Z"
    },
    "id": "qRHPdLYdOjcb",
    "outputId": "ef9149b6-ad2c-46f0-fba0-ae478f802ba9"
   },
   "outputs": [
    {
     "data": {
      "text/plain": [
       "True"
      ]
     },
     "execution_count": 42,
     "metadata": {},
     "output_type": "execute_result"
    }
   ],
   "source": [
    "rectangle_rdd.analyze()\n",
    "point_rdd.analyze()\n",
    "polygon_rdd.analyze()\n",
    "linestring_rdd.analyze()"
   ]
  },
  {
   "cell_type": "markdown",
   "metadata": {
    "id": "J2uTMMk1Ojcb"
   },
   "source": [
    "# Spatial Partitioning"
   ]
  },
  {
   "cell_type": "markdown",
   "metadata": {
    "id": "h3AC5CpdOjcc"
   },
   "source": [
    "Apache Sedona spatial partitioning method can significantly speed up the join query. Three spatial partitioning methods are available: KDB-Tree, Quad-Tree and R-Tree. Two SpatialRDD must be partitioned by the same way."
   ]
  },
  {
   "cell_type": "code",
   "execution_count": 43,
   "metadata": {
    "colab": {
     "base_uri": "https://localhost:8080/"
    },
    "execution": {
     "iopub.execute_input": "2024-02-25T22:08:35.158605Z",
     "iopub.status.busy": "2024-02-25T22:08:35.158324Z",
     "iopub.status.idle": "2024-02-25T22:08:35.239074Z",
     "shell.execute_reply": "2024-02-25T22:08:35.238386Z"
    },
    "id": "2icbQf9NOjcc",
    "outputId": "a8f20089-8b5d-42bf-b6ad-ad23f57ee496"
   },
   "outputs": [
    {
     "data": {
      "text/plain": [
       "True"
      ]
     },
     "execution_count": 43,
     "metadata": {},
     "output_type": "execute_result"
    }
   ],
   "source": [
    "point_rdd.spatialPartitioning(GridType.KDBTREE)"
   ]
  },
  {
   "cell_type": "markdown",
   "metadata": {
    "id": "_ipdd7umOjcc"
   },
   "source": [
    "# Create Index"
   ]
  },
  {
   "cell_type": "markdown",
   "metadata": {
    "id": "hEPaVPmJOjcc"
   },
   "source": [
    "Apache Sedona provides two types of spatial indexes, Quad-Tree and R-Tree. Once you specify an index type, Apache Sedona will build a local tree index on each of the SpatialRDD partition."
   ]
  },
  {
   "cell_type": "code",
   "execution_count": 44,
   "metadata": {
    "execution": {
     "iopub.execute_input": "2024-02-25T22:08:35.242819Z",
     "iopub.status.busy": "2024-02-25T22:08:35.242571Z",
     "iopub.status.idle": "2024-02-25T22:08:35.251456Z",
     "shell.execute_reply": "2024-02-25T22:08:35.250752Z"
    },
    "id": "3YIsx_55Ojcc"
   },
   "outputs": [],
   "source": [
    "point_rdd.buildIndex(IndexType.RTREE, True)"
   ]
  },
  {
   "cell_type": "markdown",
   "metadata": {
    "id": "LRHcULQDOjcc"
   },
   "source": [
    "# SpatialJoin"
   ]
  },
  {
   "cell_type": "markdown",
   "metadata": {
    "id": "ZnnDo119Ojcc"
   },
   "source": [
    "Spatial join is operation which combines data based on spatial relations like:\n",
    "<li> intersects </li>\n",
    "<li> touches </li>\n",
    "<li> within </li>\n",
    "<li> etc </li>\n",
    "\n",
    "To Use Spatial Join in GeoPyspark library please use JoinQuery object, which has implemented below methods:\n",
    "```python\n",
    "SpatialJoinQuery(spatialRDD: SpatialRDD, queryRDD: SpatialRDD, useIndex: bool, considerBoundaryIntersection: bool) -> RDD\n",
    "\n",
    "DistanceJoinQuery(spatialRDD: SpatialRDD, queryRDD: SpatialRDD, useIndex: bool, considerBoundaryIntersection: bool) -> RDD\n",
    "\n",
    "spatialJoin(queryWindowRDD: SpatialRDD, objectRDD: SpatialRDD, joinParams: JoinParams) -> RDD\n",
    "\n",
    "DistanceJoinQueryFlat(spatialRDD: SpatialRDD, queryRDD: SpatialRDD, useIndex: bool, considerBoundaryIntersection: bool) -> RDD\n",
    "\n",
    "SpatialJoinQueryFlat(spatialRDD: SpatialRDD, queryRDD: SpatialRDD, useIndex: bool, considerBoundaryIntersection: bool) -> RDD\n",
    "\n",
    "```"
   ]
  },
  {
   "cell_type": "markdown",
   "metadata": {
    "id": "icOL3ukTOjcc"
   },
   "source": [
    "## Example SpatialJoinQueryFlat PointRDD with RectangleRDD"
   ]
  },
  {
   "cell_type": "code",
   "execution_count": 45,
   "metadata": {
    "execution": {
     "iopub.execute_input": "2024-02-25T22:08:35.256917Z",
     "iopub.status.busy": "2024-02-25T22:08:35.255415Z",
     "iopub.status.idle": "2024-02-25T22:08:35.364227Z",
     "shell.execute_reply": "2024-02-25T22:08:35.363507Z"
    },
    "id": "unG1rYNZOjcc"
   },
   "outputs": [],
   "source": [
    "# partitioning the data\n",
    "point_rdd.spatialPartitioning(GridType.KDBTREE)\n",
    "rectangle_rdd.spatialPartitioning(point_rdd.getPartitioner())\n",
    "# building an index\n",
    "point_rdd.buildIndex(IndexType.RTREE, True)\n",
    "# Perform Spatial Join Query\n",
    "result = JoinQuery.SpatialJoinQueryFlat(point_rdd, rectangle_rdd, False, True)"
   ]
  },
  {
   "cell_type": "markdown",
   "metadata": {
    "id": "5A0s6CE5Ojcd"
   },
   "source": [
    "As result we will get RDD[GeoData, GeoData]\n",
    "It can be used like any other Python RDD. You can use map, take, collect and other functions  "
   ]
  },
  {
   "cell_type": "code",
   "execution_count": 46,
   "metadata": {
    "colab": {
     "base_uri": "https://localhost:8080/"
    },
    "execution": {
     "iopub.execute_input": "2024-02-25T22:08:35.368655Z",
     "iopub.status.busy": "2024-02-25T22:08:35.368396Z",
     "iopub.status.idle": "2024-02-25T22:08:35.385607Z",
     "shell.execute_reply": "2024-02-25T22:08:35.384533Z"
    },
    "id": "8dw_JRafOjcd",
    "outputId": "d688a5ec-27e0-4fe6-846d-bdaf98a824a3"
   },
   "outputs": [
    {
     "data": {
      "text/plain": [
       "MapPartitionsRDD[63] at map at FlatPairRddConverter.scala:30"
      ]
     },
     "execution_count": 46,
     "metadata": {},
     "output_type": "execute_result"
    }
   ],
   "source": [
    "result"
   ]
  },
  {
   "cell_type": "code",
   "execution_count": 47,
   "metadata": {
    "colab": {
     "base_uri": "https://localhost:8080/"
    },
    "execution": {
     "iopub.execute_input": "2024-02-25T22:08:35.389358Z",
     "iopub.status.busy": "2024-02-25T22:08:35.388856Z",
     "iopub.status.idle": "2024-02-25T22:08:36.829797Z",
     "shell.execute_reply": "2024-02-25T22:08:36.829078Z"
    },
    "id": "7QKdzz9ZOjcd",
    "outputId": "565047a0-8f8c-4abd-a370-47731886c95c"
   },
   "outputs": [
    {
     "name": "stderr",
     "output_type": "stream",
     "text": [
      "\r",
      "[Stage 32:===============================================>        (11 + 2) / 13]\r",
      "\r",
      "                                                                                \r"
     ]
    },
    {
     "data": {
      "text/plain": [
       "[[Geometry: Polygon userData: , Geometry: Point userData: ],\n",
       " [Geometry: Polygon userData: , Geometry: Point userData: ]]"
      ]
     },
     "execution_count": 47,
     "metadata": {},
     "output_type": "execute_result"
    }
   ],
   "source": [
    "result.take(2)"
   ]
  },
  {
   "cell_type": "code",
   "execution_count": 48,
   "metadata": {
    "colab": {
     "base_uri": "https://localhost:8080/"
    },
    "execution": {
     "iopub.execute_input": "2024-02-25T22:08:36.833477Z",
     "iopub.status.busy": "2024-02-25T22:08:36.832861Z",
     "iopub.status.idle": "2024-02-25T22:08:37.055100Z",
     "shell.execute_reply": "2024-02-25T22:08:37.054309Z"
    },
    "id": "cBMsFNe2Ojcd",
    "outputId": "166c9992-13e8-4603-c306-2fbd8cb0b815"
   },
   "outputs": [
    {
     "data": {
      "text/plain": [
       "[[Geometry: Polygon userData: , Geometry: Point userData: ],\n",
       " [Geometry: Polygon userData: , Geometry: Point userData: ],\n",
       " [Geometry: Polygon userData: , Geometry: Point userData: ]]"
      ]
     },
     "execution_count": 48,
     "metadata": {},
     "output_type": "execute_result"
    }
   ],
   "source": [
    "result.collect()[:3]"
   ]
  },
  {
   "cell_type": "code",
   "execution_count": 49,
   "metadata": {
    "colab": {
     "base_uri": "https://localhost:8080/"
    },
    "execution": {
     "iopub.execute_input": "2024-02-25T22:08:37.058672Z",
     "iopub.status.busy": "2024-02-25T22:08:37.058269Z",
     "iopub.status.idle": "2024-02-25T22:08:37.654680Z",
     "shell.execute_reply": "2024-02-25T22:08:37.653873Z"
    },
    "id": "ZUPAfZ0wOjcd",
    "outputId": "7139d469-1c67-452f-dfc6-5ce6062bf81c"
   },
   "outputs": [
    {
     "data": {
      "text/plain": [
       "[0.0, 0.0, 0.0, 0.0, 0.0]"
      ]
     },
     "execution_count": 49,
     "metadata": {},
     "output_type": "execute_result"
    }
   ],
   "source": [
    "# getting distance using SpatialObjects\n",
    "result.map(lambda x: x[0].geom.distance(x[1].geom)).take(5)"
   ]
  },
  {
   "cell_type": "code",
   "execution_count": 50,
   "metadata": {
    "colab": {
     "base_uri": "https://localhost:8080/"
    },
    "execution": {
     "iopub.execute_input": "2024-02-25T22:08:37.660286Z",
     "iopub.status.busy": "2024-02-25T22:08:37.659777Z",
     "iopub.status.idle": "2024-02-25T22:08:38.384427Z",
     "shell.execute_reply": "2024-02-25T22:08:38.383715Z"
    },
    "id": "2ztnCLMnOjcd",
    "outputId": "7ad1f07a-7103-467a-b97d-2adcb496694b"
   },
   "outputs": [
    {
     "data": {
      "text/plain": [
       "[0.010747596697999453,\n",
       " 0.010747596697999453,\n",
       " 0.010747596697999453,\n",
       " 0.026651558685001447,\n",
       " 0.026651558685001447]"
      ]
     },
     "execution_count": 50,
     "metadata": {},
     "output_type": "execute_result"
    }
   ],
   "source": [
    "# getting area of polygon data\n",
    "result.map(lambda x: x[0].geom.area).take(5)"
   ]
  },
  {
   "cell_type": "code",
   "execution_count": 51,
   "metadata": {
    "execution": {
     "iopub.execute_input": "2024-02-25T22:08:38.387763Z",
     "iopub.status.busy": "2024-02-25T22:08:38.387224Z",
     "iopub.status.idle": "2024-02-25T22:08:38.390309Z",
     "shell.execute_reply": "2024-02-25T22:08:38.389654Z"
    },
    "id": "nt-r8k9VOjcd"
   },
   "outputs": [],
   "source": [
    "# Base on result you can create DataFrame object, using map function and build DataFrame from RDD"
   ]
  },
  {
   "cell_type": "code",
   "execution_count": 52,
   "metadata": {
    "execution": {
     "iopub.execute_input": "2024-02-25T22:08:38.393387Z",
     "iopub.status.busy": "2024-02-25T22:08:38.392828Z",
     "iopub.status.idle": "2024-02-25T22:08:38.395934Z",
     "shell.execute_reply": "2024-02-25T22:08:38.395449Z"
    },
    "id": "nALxyjQiOjce"
   },
   "outputs": [],
   "source": [
    "schema = StructType(\n",
    "    [\n",
    "        StructField(\"geom_left\", GeometryType(), False),\n",
    "        StructField(\"geom_right\", GeometryType(), False)\n",
    "    ]\n",
    ")"
   ]
  },
  {
   "cell_type": "code",
   "execution_count": 53,
   "metadata": {
    "colab": {
     "base_uri": "https://localhost:8080/"
    },
    "execution": {
     "iopub.execute_input": "2024-02-25T22:08:38.398876Z",
     "iopub.status.busy": "2024-02-25T22:08:38.398324Z",
     "iopub.status.idle": "2024-02-25T22:08:39.132193Z",
     "shell.execute_reply": "2024-02-25T22:08:39.131440Z"
    },
    "id": "UWqys-lqOjce",
    "outputId": "8b85bdf9-ea59-4306-fe79-cb47af321128"
   },
   "outputs": [
    {
     "name": "stdout",
     "output_type": "stream",
     "text": [
      "+--------------------+--------------------+\n",
      "|           geom_left|          geom_right|\n",
      "+--------------------+--------------------+\n",
      "|POLYGON ((-86.749...|POINT (-86.736302...|\n",
      "|POLYGON ((-86.749...|POINT (-86.735506...|\n",
      "|POLYGON ((-86.749...|POINT (-86.68645 ...|\n",
      "|POLYGON ((-87.229...|POINT (-87.105455...|\n",
      "|POLYGON ((-87.229...|POINT (-87.10534 ...|\n",
      "+--------------------+--------------------+\n",
      "only showing top 5 rows\n",
      "\n"
     ]
    }
   ],
   "source": [
    "# Set verifySchema to False\n",
    "spatial_join_result = result.map(lambda x: [x[0].geom, x[1].geom])\n",
    "sedona.createDataFrame(spatial_join_result, schema, verifySchema=False).show(5, True)"
   ]
  },
  {
   "cell_type": "code",
   "execution_count": 54,
   "metadata": {
    "execution": {
     "iopub.execute_input": "2024-02-25T22:08:39.135995Z",
     "iopub.status.busy": "2024-02-25T22:08:39.135710Z",
     "iopub.status.idle": "2024-02-25T22:08:39.139064Z",
     "shell.execute_reply": "2024-02-25T22:08:39.138432Z"
    },
    "id": "pkY70z0lOjce"
   },
   "outputs": [],
   "source": [
    "# Above code produces DataFrame with geometry Data type"
   ]
  },
  {
   "cell_type": "code",
   "execution_count": 55,
   "metadata": {
    "colab": {
     "base_uri": "https://localhost:8080/"
    },
    "execution": {
     "iopub.execute_input": "2024-02-25T22:08:39.141960Z",
     "iopub.status.busy": "2024-02-25T22:08:39.141760Z",
     "iopub.status.idle": "2024-02-25T22:08:39.161275Z",
     "shell.execute_reply": "2024-02-25T22:08:39.160575Z"
    },
    "id": "_BQVrY-IOjce",
    "outputId": "87a00dfd-cd77-47a2-f73a-48c63be79c8f"
   },
   "outputs": [
    {
     "name": "stdout",
     "output_type": "stream",
     "text": [
      "root\n",
      " |-- geom_left: geometry (nullable = false)\n",
      " |-- geom_right: geometry (nullable = false)\n",
      "\n"
     ]
    }
   ],
   "source": [
    "sedona.createDataFrame(spatial_join_result, schema, verifySchema=False).printSchema()"
   ]
  },
  {
   "cell_type": "markdown",
   "metadata": {
    "id": "5oID6P5kOjce"
   },
   "source": [
    "We can create DataFrame object from Spatial Pair RDD using Adapter object as follows"
   ]
  },
  {
   "cell_type": "code",
   "execution_count": 56,
   "metadata": {
    "colab": {
     "base_uri": "https://localhost:8080/"
    },
    "execution": {
     "iopub.execute_input": "2024-02-25T22:08:39.164253Z",
     "iopub.status.busy": "2024-02-25T22:08:39.163784Z",
     "iopub.status.idle": "2024-02-25T22:08:40.766072Z",
     "shell.execute_reply": "2024-02-25T22:08:40.765299Z"
    },
    "id": "OyD3_m_zOjce",
    "outputId": "27fb6d7d-013e-480a-de6d-80e4a72c1fc7"
   },
   "outputs": [
    {
     "name": "stdout",
     "output_type": "stream",
     "text": [
      "+--------------------+-----+--------------------+-----+\n",
      "|              geom_1|attr1|              geom_2|attr2|\n",
      "+--------------------+-----+--------------------+-----+\n",
      "|POLYGON ((-86.749...|     |POINT (-86.736302...|     |\n",
      "|POLYGON ((-86.749...|     |POINT (-86.735506...|     |\n",
      "|POLYGON ((-86.749...|     |POINT (-86.68645 ...|     |\n",
      "|POLYGON ((-87.229...|     |POINT (-87.105455...|     |\n",
      "|POLYGON ((-87.229...|     |POINT (-87.10534 ...|     |\n",
      "+--------------------+-----+--------------------+-----+\n",
      "only showing top 5 rows\n",
      "\n"
     ]
    }
   ],
   "source": [
    "Adapter.toDf(result, [\"attr1\"], [\"attr2\"], sedona).show(5, True)"
   ]
  },
  {
   "cell_type": "markdown",
   "metadata": {
    "id": "qAmXD2SKOjce"
   },
   "source": [
    "This also produce DataFrame with geometry DataType"
   ]
  },
  {
   "cell_type": "code",
   "execution_count": 57,
   "metadata": {
    "colab": {
     "base_uri": "https://localhost:8080/"
    },
    "execution": {
     "iopub.execute_input": "2024-02-25T22:08:40.769744Z",
     "iopub.status.busy": "2024-02-25T22:08:40.769510Z",
     "iopub.status.idle": "2024-02-25T22:08:41.503257Z",
     "shell.execute_reply": "2024-02-25T22:08:41.502427Z"
    },
    "id": "U7evFgqkOjce",
    "outputId": "530f8329-c296-47e6-8ccf-642bf0596817"
   },
   "outputs": [
    {
     "name": "stdout",
     "output_type": "stream",
     "text": [
      "root\n",
      " |-- geom_1: geometry (nullable = true)\n",
      " |-- attr1: string (nullable = true)\n",
      " |-- geom_2: geometry (nullable = true)\n",
      " |-- attr2: string (nullable = true)\n",
      "\n"
     ]
    }
   ],
   "source": [
    "Adapter.toDf(result, [\"attr1\"], [\"attr2\"], sedona).printSchema()"
   ]
  },
  {
   "cell_type": "markdown",
   "metadata": {
    "id": "TldNHgcQOjcf"
   },
   "source": [
    "We can create RDD which will be of type RDD[GeoData, List[GeoData]]\n",
    "We can for example calculate number of Points within some polygon data"
   ]
  },
  {
   "cell_type": "markdown",
   "metadata": {
    "id": "GlhD3mSvOjcf"
   },
   "source": [
    "To do that we can use code specified below"
   ]
  },
  {
   "cell_type": "code",
   "execution_count": 58,
   "metadata": {
    "execution": {
     "iopub.execute_input": "2024-02-25T22:08:41.506366Z",
     "iopub.status.busy": "2024-02-25T22:08:41.505845Z",
     "iopub.status.idle": "2024-02-25T22:08:41.547347Z",
     "shell.execute_reply": "2024-02-25T22:08:41.546477Z"
    },
    "id": "bl5mg9qdOjcf"
   },
   "outputs": [],
   "source": [
    "point_rdd.spatialPartitioning(GridType.KDBTREE)\n",
    "rectangle_rdd.spatialPartitioning(point_rdd.getPartitioner())"
   ]
  },
  {
   "cell_type": "code",
   "execution_count": 59,
   "metadata": {
    "execution": {
     "iopub.execute_input": "2024-02-25T22:08:41.551597Z",
     "iopub.status.busy": "2024-02-25T22:08:41.551028Z",
     "iopub.status.idle": "2024-02-25T22:08:41.600148Z",
     "shell.execute_reply": "2024-02-25T22:08:41.599344Z"
    },
    "id": "6S1gs7nDOjcf"
   },
   "outputs": [],
   "source": [
    "spatial_join_result_non_flat = JoinQuery.SpatialJoinQuery(point_rdd, rectangle_rdd, False, True)"
   ]
  },
  {
   "cell_type": "code",
   "execution_count": 60,
   "metadata": {
    "execution": {
     "iopub.execute_input": "2024-02-25T22:08:41.603780Z",
     "iopub.status.busy": "2024-02-25T22:08:41.603265Z",
     "iopub.status.idle": "2024-02-25T22:08:41.607578Z",
     "shell.execute_reply": "2024-02-25T22:08:41.606864Z"
    },
    "id": "ZJiTacNkOjcf"
   },
   "outputs": [],
   "source": [
    "# number of point for each polygon\n",
    "number_of_points = spatial_join_result_non_flat.map(lambda x: [x[0].geom, x[1].__len__()])"
   ]
  },
  {
   "cell_type": "code",
   "execution_count": 61,
   "metadata": {
    "execution": {
     "iopub.execute_input": "2024-02-25T22:08:41.610328Z",
     "iopub.status.busy": "2024-02-25T22:08:41.609761Z",
     "iopub.status.idle": "2024-02-25T22:08:41.613748Z",
     "shell.execute_reply": "2024-02-25T22:08:41.613094Z"
    },
    "id": "-EtrJVuROjcf"
   },
   "outputs": [],
   "source": [
    "schema = StructType([\n",
    "    StructField(\"geometry\", GeometryType(), False),\n",
    "    StructField(\"number_of_points\", LongType(), False)\n",
    "])"
   ]
  },
  {
   "cell_type": "code",
   "execution_count": 62,
   "metadata": {
    "colab": {
     "base_uri": "https://localhost:8080/"
    },
    "execution": {
     "iopub.execute_input": "2024-02-25T22:08:41.616450Z",
     "iopub.status.busy": "2024-02-25T22:08:41.615963Z",
     "iopub.status.idle": "2024-02-25T22:08:42.506974Z",
     "shell.execute_reply": "2024-02-25T22:08:42.506189Z"
    },
    "id": "mktoa5-HOjcf",
    "outputId": "170b19d6-9498-4dbb-86d9-831fe2337708"
   },
   "outputs": [
    {
     "name": "stdout",
     "output_type": "stream",
     "text": [
      "+--------------------+----------------+\n",
      "|            geometry|number_of_points|\n",
      "+--------------------+----------------+\n",
      "|POLYGON ((-87.082...|              12|\n",
      "|POLYGON ((-87.229...|               7|\n",
      "|POLYGON ((-86.749...|               4|\n",
      "|POLYGON ((-87.285...|              26|\n",
      "|POLYGON ((-87.114...|              15|\n",
      "|POLYGON ((-86.816...|               6|\n",
      "|POLYGON ((-87.092...|               5|\n",
      "|POLYGON ((-86.697...|               1|\n",
      "|POLYGON ((-86.860...|              12|\n",
      "|POLYGON ((-87.105...|              15|\n",
      "+--------------------+----------------+\n",
      "\n"
     ]
    }
   ],
   "source": [
    "sedona.createDataFrame(number_of_points, schema, verifySchema=False).show()"
   ]
  },
  {
   "cell_type": "markdown",
   "metadata": {
    "id": "ZosmctfPOjcf"
   },
   "source": [
    "# KNNQuery"
   ]
  },
  {
   "cell_type": "markdown",
   "metadata": {
    "id": "utC2fQXwOjcg"
   },
   "source": [
    "Spatial KNNQuery is operation which help us find answer which k number of geometries lays closest to other geometry.\n",
    "\n",
    "For Example:\n",
    "    5 closest Shops to your home. To use Spatial KNNQuery please use object\n",
    "<b> KNNQuery </b> which has one method:\n",
    "```python\n",
    "SpatialKnnQuery(spatialRDD: SpatialRDD, originalQueryPoint: BaseGeometry, k: int,  useIndex: bool)-> List[GeoData]\n",
    "```"
   ]
  },
  {
   "cell_type": "markdown",
   "metadata": {
    "id": "sTcvQarvOjcg"
   },
   "source": [
    "### Finds 5 closest points from PointRDD to given Point"
   ]
  },
  {
   "cell_type": "code",
   "execution_count": 63,
   "metadata": {
    "execution": {
     "iopub.execute_input": "2024-02-25T22:08:42.510873Z",
     "iopub.status.busy": "2024-02-25T22:08:42.510289Z",
     "iopub.status.idle": "2024-02-25T22:08:42.623754Z",
     "shell.execute_reply": "2024-02-25T22:08:42.623048Z"
    },
    "id": "n6BIfKk9Ojcg"
   },
   "outputs": [],
   "source": [
    "result = KNNQuery.SpatialKnnQuery(point_rdd, Point(-84.01, 34.01), 5, False)"
   ]
  },
  {
   "cell_type": "code",
   "execution_count": 64,
   "metadata": {
    "colab": {
     "base_uri": "https://localhost:8080/"
    },
    "execution": {
     "iopub.execute_input": "2024-02-25T22:08:42.627878Z",
     "iopub.status.busy": "2024-02-25T22:08:42.627578Z",
     "iopub.status.idle": "2024-02-25T22:08:42.635788Z",
     "shell.execute_reply": "2024-02-25T22:08:42.635088Z"
    },
    "id": "i-SgOWD2Ojcg",
    "outputId": "a69d9f13-1aeb-4aed-e726-ab1767ee5143"
   },
   "outputs": [
    {
     "data": {
      "text/plain": [
       "[Geometry: Point userData: ,\n",
       " Geometry: Point userData: ,\n",
       " Geometry: Point userData: ,\n",
       " Geometry: Point userData: ,\n",
       " Geometry: Point userData: ]"
      ]
     },
     "execution_count": 64,
     "metadata": {},
     "output_type": "execute_result"
    }
   ],
   "source": [
    "result"
   ]
  },
  {
   "cell_type": "markdown",
   "metadata": {
    "id": "Dft5_7AMOjcg"
   },
   "source": [
    "As Reference geometry you can also use Polygon or LineString object"
   ]
  },
  {
   "cell_type": "code",
   "execution_count": 65,
   "metadata": {
    "execution": {
     "iopub.execute_input": "2024-02-25T22:08:42.639690Z",
     "iopub.status.busy": "2024-02-25T22:08:42.639219Z",
     "iopub.status.idle": "2024-02-25T22:08:42.863363Z",
     "shell.execute_reply": "2024-02-25T22:08:42.862558Z"
    },
    "id": "C-G_a1iXOjcg"
   },
   "outputs": [],
   "source": [
    "polygon = Polygon(\n",
    "    [(-84.237756, 33.904859), (-84.237756, 34.090426),\n",
    "     (-83.833011, 34.090426), (-83.833011, 33.904859),\n",
    "     (-84.237756, 33.904859)\n",
    "    ])\n",
    "polygons_nearby = KNNQuery.SpatialKnnQuery(polygon_rdd, polygon, 5, False)"
   ]
  },
  {
   "cell_type": "code",
   "execution_count": 66,
   "metadata": {
    "colab": {
     "base_uri": "https://localhost:8080/"
    },
    "execution": {
     "iopub.execute_input": "2024-02-25T22:08:42.869090Z",
     "iopub.status.busy": "2024-02-25T22:08:42.867688Z",
     "iopub.status.idle": "2024-02-25T22:08:42.876095Z",
     "shell.execute_reply": "2024-02-25T22:08:42.875391Z"
    },
    "id": "pYtK1T1oOjcg",
    "outputId": "d6b951cc-bca0-4b83-d42f-d8dde0ab7a8f"
   },
   "outputs": [
    {
     "data": {
      "text/plain": [
       "[Geometry: Polygon userData: ,\n",
       " Geometry: Polygon userData: ,\n",
       " Geometry: Polygon userData: ,\n",
       " Geometry: Polygon userData: ,\n",
       " Geometry: Polygon userData: ]"
      ]
     },
     "execution_count": 66,
     "metadata": {},
     "output_type": "execute_result"
    }
   ],
   "source": [
    "polygons_nearby"
   ]
  },
  {
   "cell_type": "code",
   "execution_count": 67,
   "metadata": {
    "colab": {
     "base_uri": "https://localhost:8080/",
     "height": 0
    },
    "execution": {
     "iopub.execute_input": "2024-02-25T22:08:42.881066Z",
     "iopub.status.busy": "2024-02-25T22:08:42.879519Z",
     "iopub.status.idle": "2024-02-25T22:08:42.897835Z",
     "shell.execute_reply": "2024-02-25T22:08:42.896885Z"
    },
    "id": "-4Mf5TP-Ojcg",
    "outputId": "2edfc5ae-f8d9-4225-c88e-12bb74d58a87"
   },
   "outputs": [
    {
     "data": {
      "text/plain": [
       "'POLYGON ((-83.993559 34.087259, -83.993559 34.131247, -83.959903 34.131247, -83.959903 34.087259, -83.993559 34.087259))'"
      ]
     },
     "execution_count": 67,
     "metadata": {},
     "output_type": "execute_result"
    }
   ],
   "source": [
    "polygons_nearby[0].geom.wkt"
   ]
  },
  {
   "cell_type": "markdown",
   "metadata": {
    "id": "SxP3ufPGOjch"
   },
   "source": [
    "# RangeQuery"
   ]
  },
  {
   "cell_type": "markdown",
   "metadata": {
    "id": "Air8I_XIOjch"
   },
   "source": [
    "A spatial range query takes as input a range query window and an SpatialRDD and returns all geometries that intersect / are fully covered by the query window.\n",
    "RangeQuery has one method:\n",
    "\n",
    "```python\n",
    "SpatialRangeQuery(self, spatialRDD: SpatialRDD, rangeQueryWindow: BaseGeometry, considerBoundaryIntersection: bool, usingIndex: bool) -> RDD\n",
    "```"
   ]
  },
  {
   "cell_type": "code",
   "execution_count": 68,
   "metadata": {
    "execution": {
     "iopub.execute_input": "2024-02-25T22:08:42.905916Z",
     "iopub.status.busy": "2024-02-25T22:08:42.905201Z",
     "iopub.status.idle": "2024-02-25T22:08:42.910609Z",
     "shell.execute_reply": "2024-02-25T22:08:42.909916Z"
    },
    "id": "7YQd4wvuOjch"
   },
   "outputs": [],
   "source": [
    "from sedona.core.geom.envelope import Envelope"
   ]
  },
  {
   "cell_type": "code",
   "execution_count": 69,
   "metadata": {
    "execution": {
     "iopub.execute_input": "2024-02-25T22:08:42.914529Z",
     "iopub.status.busy": "2024-02-25T22:08:42.914054Z",
     "iopub.status.idle": "2024-02-25T22:08:42.929464Z",
     "shell.execute_reply": "2024-02-25T22:08:42.928644Z"
    },
    "id": "8WLf9PLbOjch"
   },
   "outputs": [],
   "source": [
    "query_envelope = Envelope(-85.01, -60.01, 34.01, 50.01)\n",
    "\n",
    "result_range_query = RangeQuery.SpatialRangeQuery(linestring_rdd, query_envelope, False, False)"
   ]
  },
  {
   "cell_type": "code",
   "execution_count": 70,
   "metadata": {
    "colab": {
     "base_uri": "https://localhost:8080/"
    },
    "execution": {
     "iopub.execute_input": "2024-02-25T22:08:42.934883Z",
     "iopub.status.busy": "2024-02-25T22:08:42.933359Z",
     "iopub.status.idle": "2024-02-25T22:08:42.942423Z",
     "shell.execute_reply": "2024-02-25T22:08:42.941773Z"
    },
    "id": "9Wp7sOciOjch",
    "outputId": "ae9362ae-4ee1-4fa5-84aa-7b1053c17229"
   },
   "outputs": [
    {
     "data": {
      "text/plain": [
       "MapPartitionsRDD[127] at map at GeometryRddConverter.scala:30"
      ]
     },
     "execution_count": 70,
     "metadata": {},
     "output_type": "execute_result"
    }
   ],
   "source": [
    "result_range_query"
   ]
  },
  {
   "cell_type": "code",
   "execution_count": 71,
   "metadata": {
    "colab": {
     "base_uri": "https://localhost:8080/"
    },
    "execution": {
     "iopub.execute_input": "2024-02-25T22:08:42.947172Z",
     "iopub.status.busy": "2024-02-25T22:08:42.945673Z",
     "iopub.status.idle": "2024-02-25T22:08:43.011575Z",
     "shell.execute_reply": "2024-02-25T22:08:43.010779Z"
    },
    "id": "C1mittdHOjch",
    "outputId": "c93a70cd-cabb-4e56-b399-99f23a9b7778"
   },
   "outputs": [
    {
     "data": {
      "text/plain": [
       "[Geometry: LineString userData: ,\n",
       " Geometry: LineString userData: ,\n",
       " Geometry: LineString userData: ,\n",
       " Geometry: LineString userData: ,\n",
       " Geometry: LineString userData: ,\n",
       " Geometry: LineString userData: ]"
      ]
     },
     "execution_count": 71,
     "metadata": {},
     "output_type": "execute_result"
    }
   ],
   "source": [
    "result_range_query.take(6)"
   ]
  },
  {
   "cell_type": "code",
   "execution_count": 72,
   "metadata": {
    "execution": {
     "iopub.execute_input": "2024-02-25T22:08:43.015444Z",
     "iopub.status.busy": "2024-02-25T22:08:43.014912Z",
     "iopub.status.idle": "2024-02-25T22:08:43.018848Z",
     "shell.execute_reply": "2024-02-25T22:08:43.018009Z"
    },
    "id": "Jv3ik2obOjch"
   },
   "outputs": [],
   "source": [
    "# Creating DataFrame from result"
   ]
  },
  {
   "cell_type": "code",
   "execution_count": 73,
   "metadata": {
    "execution": {
     "iopub.execute_input": "2024-02-25T22:08:43.022241Z",
     "iopub.status.busy": "2024-02-25T22:08:43.021547Z",
     "iopub.status.idle": "2024-02-25T22:08:43.025437Z",
     "shell.execute_reply": "2024-02-25T22:08:43.024739Z"
    },
    "id": "OF2xJfLCOjch"
   },
   "outputs": [],
   "source": [
    "schema = StructType([StructField(\"geometry\", GeometryType(), False)])"
   ]
  },
  {
   "cell_type": "code",
   "execution_count": 74,
   "metadata": {
    "colab": {
     "base_uri": "https://localhost:8080/"
    },
    "execution": {
     "iopub.execute_input": "2024-02-25T22:08:43.028926Z",
     "iopub.status.busy": "2024-02-25T22:08:43.028176Z",
     "iopub.status.idle": "2024-02-25T22:08:43.221521Z",
     "shell.execute_reply": "2024-02-25T22:08:43.220682Z"
    },
    "id": "7Y4ruCQ-Ojci",
    "outputId": "23bc8a1d-d16a-4ba7-a490-3b39b9d782cd"
   },
   "outputs": [
    {
     "name": "stdout",
     "output_type": "stream",
     "text": [
      "+--------------------+\n",
      "|            geometry|\n",
      "+--------------------+\n",
      "|LINESTRING (-72.1...|\n",
      "|LINESTRING (-72.4...|\n",
      "|LINESTRING (-72.4...|\n",
      "|LINESTRING (-73.4...|\n",
      "|LINESTRING (-73.6...|\n",
      "+--------------------+\n",
      "only showing top 5 rows\n",
      "\n"
     ]
    }
   ],
   "source": [
    "sedona.createDataFrame(\n",
    "    result_range_query.map(lambda x: [x.geom]),\n",
    "    schema,\n",
    "    verifySchema=False\n",
    ").show(5, True)"
   ]
  },
  {
   "cell_type": "markdown",
   "metadata": {
    "id": "jwiSJcuLOjci"
   },
   "source": [
    "# Load From other Formats"
   ]
  },
  {
   "cell_type": "markdown",
   "metadata": {
    "id": "aLuQLIfJOjci"
   },
   "source": [
    "GeoPyspark allows to load the data from other Data formats like:\n",
    "<li> GeoJSON </li>\n",
    "<li> Shapefile </li>\n",
    "<li> WKB </li>\n",
    "<li> WKT </li>"
   ]
  },
  {
   "cell_type": "code",
   "execution_count": 75,
   "metadata": {
    "execution": {
     "iopub.execute_input": "2024-02-25T22:08:43.225065Z",
     "iopub.status.busy": "2024-02-25T22:08:43.224760Z",
     "iopub.status.idle": "2024-02-25T22:08:43.229775Z",
     "shell.execute_reply": "2024-02-25T22:08:43.229029Z"
    },
    "id": "vuiEDP9uOjci"
   },
   "outputs": [],
   "source": [
    "## ShapeFile - load to SpatialRDD"
   ]
  },
  {
   "cell_type": "code",
   "execution_count": 76,
   "metadata": {
    "execution": {
     "iopub.execute_input": "2024-02-25T22:08:43.233045Z",
     "iopub.status.busy": "2024-02-25T22:08:43.232536Z",
     "iopub.status.idle": "2024-02-25T22:08:43.359803Z",
     "shell.execute_reply": "2024-02-25T22:08:43.359207Z"
    },
    "id": "3bcx_gxAOjci"
   },
   "outputs": [],
   "source": [
    "shape_rdd = ShapefileReader.readToGeometryRDD(sc, \"data/polygon\")"
   ]
  },
  {
   "cell_type": "code",
   "execution_count": 77,
   "metadata": {
    "colab": {
     "base_uri": "https://localhost:8080/"
    },
    "execution": {
     "iopub.execute_input": "2024-02-25T22:08:43.363084Z",
     "iopub.status.busy": "2024-02-25T22:08:43.362569Z",
     "iopub.status.idle": "2024-02-25T22:08:43.367192Z",
     "shell.execute_reply": "2024-02-25T22:08:43.366577Z"
    },
    "id": "nIjo83o8Ojci",
    "outputId": "69c02c33-e22f-44a5-d6e0-fb509f3b4e7f"
   },
   "outputs": [
    {
     "data": {
      "text/plain": [
       "<sedona.core.SpatialRDD.spatial_rdd.SpatialRDD at 0x7fe9770d9490>"
      ]
     },
     "execution_count": 77,
     "metadata": {},
     "output_type": "execute_result"
    }
   ],
   "source": [
    "shape_rdd"
   ]
  },
  {
   "cell_type": "code",
   "execution_count": 78,
   "metadata": {
    "colab": {
     "base_uri": "https://localhost:8080/"
    },
    "execution": {
     "iopub.execute_input": "2024-02-25T22:08:43.369810Z",
     "iopub.status.busy": "2024-02-25T22:08:43.369439Z",
     "iopub.status.idle": "2024-02-25T22:08:43.485408Z",
     "shell.execute_reply": "2024-02-25T22:08:43.484517Z"
    },
    "id": "4y9EXCKfOjci",
    "outputId": "62c206c8-e84f-4532-c8f7-8075d519164d"
   },
   "outputs": [
    {
     "name": "stdout",
     "output_type": "stream",
     "text": [
      "+--------------------+\n",
      "|            geometry|\n",
      "+--------------------+\n",
      "|MULTIPOLYGON (((1...|\n",
      "|MULTIPOLYGON (((-...|\n",
      "|MULTIPOLYGON (((1...|\n",
      "|POLYGON ((118.362...|\n",
      "|MULTIPOLYGON (((-...|\n",
      "+--------------------+\n",
      "only showing top 5 rows\n",
      "\n"
     ]
    }
   ],
   "source": [
    "Adapter.toDf(shape_rdd, sedona).show(5, True)"
   ]
  },
  {
   "cell_type": "code",
   "execution_count": 79,
   "metadata": {
    "execution": {
     "iopub.execute_input": "2024-02-25T22:08:43.490125Z",
     "iopub.status.busy": "2024-02-25T22:08:43.489818Z",
     "iopub.status.idle": "2024-02-25T22:08:43.493319Z",
     "shell.execute_reply": "2024-02-25T22:08:43.492528Z"
    },
    "id": "LkVpdZgGOjci"
   },
   "outputs": [],
   "source": [
    "## GeoJSON - load to SpatialRDD"
   ]
  },
  {
   "cell_type": "markdown",
   "metadata": {
    "id": "Mh1K7181Ojcj"
   },
   "source": [
    "```\n",
    "{ \"type\": \"Feature\", \"properties\": { \"STATEFP\": \"01\", \"COUNTYFP\": \"077\", \"TRACTCE\": \"011501\", \"BLKGRPCE\": \"5\", \"AFFGEOID\": \"1500000US010770115015\", \"GEOID\": \"010770115015\", \"NAME\": \"5\", \"LSAD\": \"BG\", \"ALAND\": 6844991, \"AWATER\": 32636 }, \"geometry\": { \"type\": \"Polygon\", \"coordinates\": [ [ [ -87.621765, 34.873444 ], [ -87.617535, 34.873369 ], [ -87.6123, 34.873337 ], [ -87.604049, 34.873303 ], [ -87.604033, 34.872316 ], [ -87.60415, 34.867502 ], [ -87.604218, 34.865687 ], [ -87.604409, 34.858537 ], [ -87.604018, 34.851336 ], [ -87.603716, 34.844829 ], [ -87.603696, 34.844307 ], [ -87.603673, 34.841884 ], [ -87.60372, 34.841003 ], [ -87.603879, 34.838423 ], [ -87.603888, 34.837682 ], [ -87.603889, 34.83763 ], [ -87.613127, 34.833938 ], [ -87.616451, 34.832699 ], [ -87.621041, 34.831431 ], [ -87.621056, 34.831526 ], [ -87.62112, 34.831925 ], [ -87.621603, 34.8352 ], [ -87.62158, 34.836087 ], [ -87.621383, 34.84329 ], [ -87.621359, 34.844438 ], [ -87.62129, 34.846387 ], [ -87.62119, 34.85053 ], [ -87.62144, 34.865379 ], [ -87.621765, 34.873444 ] ] ] } },\n",
    "```"
   ]
  },
  {
   "cell_type": "code",
   "execution_count": 80,
   "metadata": {
    "execution": {
     "iopub.execute_input": "2024-02-25T22:08:43.496994Z",
     "iopub.status.busy": "2024-02-25T22:08:43.496136Z",
     "iopub.status.idle": "2024-02-25T22:08:43.589764Z",
     "shell.execute_reply": "2024-02-25T22:08:43.589051Z"
    },
    "id": "g_a3q71ZOjcj"
   },
   "outputs": [],
   "source": [
    "geo_json_rdd = GeoJsonReader.readToGeometryRDD(sc, \"data/testPolygon.json\")"
   ]
  },
  {
   "cell_type": "code",
   "execution_count": 81,
   "metadata": {
    "colab": {
     "base_uri": "https://localhost:8080/"
    },
    "execution": {
     "iopub.execute_input": "2024-02-25T22:08:43.593234Z",
     "iopub.status.busy": "2024-02-25T22:08:43.592686Z",
     "iopub.status.idle": "2024-02-25T22:08:43.597461Z",
     "shell.execute_reply": "2024-02-25T22:08:43.596845Z"
    },
    "id": "LGrMegQ6Ojcj",
    "outputId": "faf4d1b1-a49a-4139-c881-dffce997ea0d"
   },
   "outputs": [
    {
     "data": {
      "text/plain": [
       "<sedona.core.SpatialRDD.spatial_rdd.SpatialRDD at 0x7fe9770a7cd0>"
      ]
     },
     "execution_count": 81,
     "metadata": {},
     "output_type": "execute_result"
    }
   ],
   "source": [
    "geo_json_rdd"
   ]
  },
  {
   "cell_type": "code",
   "execution_count": 82,
   "metadata": {
    "colab": {
     "base_uri": "https://localhost:8080/"
    },
    "execution": {
     "iopub.execute_input": "2024-02-25T22:08:43.600207Z",
     "iopub.status.busy": "2024-02-25T22:08:43.599761Z",
     "iopub.status.idle": "2024-02-25T22:08:43.899606Z",
     "shell.execute_reply": "2024-02-25T22:08:43.898748Z"
    },
    "id": "ZfH32XssOjcj",
    "outputId": "a773dbe0-962f-4c45-c1a4-4b44914b69f5"
   },
   "outputs": [
    {
     "name": "stdout",
     "output_type": "stream",
     "text": [
      "+--------------------+-------+--------+-------+--------+--------------------+------------+----+----+--------+\n",
      "|            geometry|STATEFP|COUNTYFP|TRACTCE|BLKGRPCE|            AFFGEOID|       GEOID|NAME|LSAD|   ALAND|\n",
      "+--------------------+-------+--------+-------+--------+--------------------+------------+----+----+--------+\n",
      "|POLYGON ((-87.621...|     01|     077| 011501|       5|1500000US01077011...|010770115015|   5|  BG| 6844991|\n",
      "|POLYGON ((-85.719...|     01|     045| 021102|       4|1500000US01045021...|010450211024|   4|  BG|11360854|\n",
      "|POLYGON ((-86.000...|     01|     055| 001300|       3|1500000US01055001...|010550013003|   3|  BG| 1378742|\n",
      "|POLYGON ((-86.574...|     01|     089| 001700|       2|1500000US01089001...|010890017002|   2|  BG| 1040641|\n",
      "|POLYGON ((-85.382...|     01|     069| 041400|       1|1500000US01069041...|010690414001|   1|  BG| 8243574|\n",
      "+--------------------+-------+--------+-------+--------+--------------------+------------+----+----+--------+\n",
      "only showing top 5 rows\n",
      "\n"
     ]
    }
   ],
   "source": [
    "Adapter.toDf(geo_json_rdd, sedona).drop(\"AWATER\").show(5, True)"
   ]
  },
  {
   "cell_type": "code",
   "execution_count": 83,
   "metadata": {
    "execution": {
     "iopub.execute_input": "2024-02-25T22:08:43.903515Z",
     "iopub.status.busy": "2024-02-25T22:08:43.903163Z",
     "iopub.status.idle": "2024-02-25T22:08:43.906708Z",
     "shell.execute_reply": "2024-02-25T22:08:43.906069Z"
    },
    "id": "wuJkRwbROjcj"
   },
   "outputs": [],
   "source": [
    "## WKT - loading to SpatialRDD"
   ]
  },
  {
   "cell_type": "code",
   "execution_count": 84,
   "metadata": {
    "execution": {
     "iopub.execute_input": "2024-02-25T22:08:43.909695Z",
     "iopub.status.busy": "2024-02-25T22:08:43.909499Z",
     "iopub.status.idle": "2024-02-25T22:08:43.940410Z",
     "shell.execute_reply": "2024-02-25T22:08:43.939799Z"
    },
    "id": "0d9owuZROjcj"
   },
   "outputs": [],
   "source": [
    "wkt_rdd = WktReader.readToGeometryRDD(sc, \"data/county_small.tsv\", 0, True, False)"
   ]
  },
  {
   "cell_type": "code",
   "execution_count": 85,
   "metadata": {
    "colab": {
     "base_uri": "https://localhost:8080/"
    },
    "execution": {
     "iopub.execute_input": "2024-02-25T22:08:43.943626Z",
     "iopub.status.busy": "2024-02-25T22:08:43.943156Z",
     "iopub.status.idle": "2024-02-25T22:08:43.947476Z",
     "shell.execute_reply": "2024-02-25T22:08:43.946851Z"
    },
    "id": "XKALKBbeOjcj",
    "outputId": "e0b7e2d7-7626-4154-8028-518c9b8d6804"
   },
   "outputs": [
    {
     "data": {
      "text/plain": [
       "<sedona.core.SpatialRDD.spatial_rdd.SpatialRDD at 0x7fe9770d93d0>"
      ]
     },
     "execution_count": 85,
     "metadata": {},
     "output_type": "execute_result"
    }
   ],
   "source": [
    "wkt_rdd"
   ]
  },
  {
   "cell_type": "code",
   "execution_count": 86,
   "metadata": {
    "colab": {
     "base_uri": "https://localhost:8080/"
    },
    "execution": {
     "iopub.execute_input": "2024-02-25T22:08:43.950071Z",
     "iopub.status.busy": "2024-02-25T22:08:43.949708Z",
     "iopub.status.idle": "2024-02-25T22:08:43.957873Z",
     "shell.execute_reply": "2024-02-25T22:08:43.957313Z"
    },
    "id": "UUJfqy5EOjcj",
    "outputId": "7806b0df-cd77-4990-ca9e-b4ce8a27a646"
   },
   "outputs": [
    {
     "name": "stdout",
     "output_type": "stream",
     "text": [
      "root\n",
      " |-- geometry: geometry (nullable = true)\n",
      "\n"
     ]
    }
   ],
   "source": [
    "Adapter.toDf(wkt_rdd, sedona).printSchema()"
   ]
  },
  {
   "cell_type": "code",
   "execution_count": 87,
   "metadata": {
    "colab": {
     "base_uri": "https://localhost:8080/"
    },
    "execution": {
     "iopub.execute_input": "2024-02-25T22:08:43.960444Z",
     "iopub.status.busy": "2024-02-25T22:08:43.960072Z",
     "iopub.status.idle": "2024-02-25T22:08:44.180461Z",
     "shell.execute_reply": "2024-02-25T22:08:44.179677Z"
    },
    "id": "qjIgGZB2Ojck",
    "outputId": "8785e560-ad7c-419c-98e0-cdfc8cfe7d5e"
   },
   "outputs": [
    {
     "name": "stdout",
     "output_type": "stream",
     "text": [
      "+--------------------+\n",
      "|            geometry|\n",
      "+--------------------+\n",
      "|POLYGON ((-97.019...|\n",
      "|POLYGON ((-123.43...|\n",
      "|POLYGON ((-104.56...|\n",
      "|POLYGON ((-96.910...|\n",
      "|POLYGON ((-98.273...|\n",
      "+--------------------+\n",
      "only showing top 5 rows\n",
      "\n"
     ]
    }
   ],
   "source": [
    "Adapter.toDf(wkt_rdd, sedona).show(5, True)"
   ]
  },
  {
   "cell_type": "code",
   "execution_count": 88,
   "metadata": {
    "execution": {
     "iopub.execute_input": "2024-02-25T22:08:44.184320Z",
     "iopub.status.busy": "2024-02-25T22:08:44.184042Z",
     "iopub.status.idle": "2024-02-25T22:08:44.187590Z",
     "shell.execute_reply": "2024-02-25T22:08:44.186809Z"
    },
    "id": "9CzKWF_ZOjck"
   },
   "outputs": [],
   "source": [
    "## WKB - load to SpatialRDD"
   ]
  },
  {
   "cell_type": "code",
   "execution_count": 89,
   "metadata": {
    "execution": {
     "iopub.execute_input": "2024-02-25T22:08:44.190927Z",
     "iopub.status.busy": "2024-02-25T22:08:44.190657Z",
     "iopub.status.idle": "2024-02-25T22:08:44.237075Z",
     "shell.execute_reply": "2024-02-25T22:08:44.236252Z"
    },
    "id": "1-saFLNoOjck"
   },
   "outputs": [],
   "source": [
    "wkb_rdd = WkbReader.readToGeometryRDD(sc, \"data/county_small_wkb.tsv\", 0, True, False)"
   ]
  },
  {
   "cell_type": "code",
   "execution_count": 90,
   "metadata": {
    "colab": {
     "base_uri": "https://localhost:8080/"
    },
    "execution": {
     "iopub.execute_input": "2024-02-25T22:08:44.241165Z",
     "iopub.status.busy": "2024-02-25T22:08:44.240576Z",
     "iopub.status.idle": "2024-02-25T22:08:44.349909Z",
     "shell.execute_reply": "2024-02-25T22:08:44.349069Z"
    },
    "id": "WFUhy3AtOjck",
    "outputId": "46d24d80-46b7-4165-cde1-eb52817ed7a9"
   },
   "outputs": [
    {
     "name": "stdout",
     "output_type": "stream",
     "text": [
      "+--------------------+\n",
      "|            geometry|\n",
      "+--------------------+\n",
      "|POLYGON ((-97.019...|\n",
      "|POLYGON ((-123.43...|\n",
      "|POLYGON ((-104.56...|\n",
      "|POLYGON ((-96.910...|\n",
      "|POLYGON ((-98.273...|\n",
      "+--------------------+\n",
      "only showing top 5 rows\n",
      "\n"
     ]
    }
   ],
   "source": [
    "Adapter.toDf(wkb_rdd, sedona).show(5, True)"
   ]
  },
  {
   "cell_type": "markdown",
   "metadata": {
    "id": "xj-mt-60Ojck"
   },
   "source": [
    "## Converting RDD Spatial join result to DF directly, avoiding jvm python serde"
   ]
  },
  {
   "cell_type": "code",
   "execution_count": 91,
   "metadata": {
    "execution": {
     "iopub.execute_input": "2024-02-25T22:08:44.352940Z",
     "iopub.status.busy": "2024-02-25T22:08:44.352688Z",
     "iopub.status.idle": "2024-02-25T22:08:44.414744Z",
     "shell.execute_reply": "2024-02-25T22:08:44.413786Z"
    },
    "id": "5DTG6EvFOjck"
   },
   "outputs": [],
   "source": [
    "point_rdd.spatialPartitioning(GridType.KDBTREE)\n",
    "rectangle_rdd.spatialPartitioning(point_rdd.getPartitioner())\n",
    "# building an index\n",
    "point_rdd.buildIndex(IndexType.RTREE, True)\n",
    "# Perform Spatial Join Query\n",
    "result = JoinQueryRaw.SpatialJoinQueryFlat(point_rdd, rectangle_rdd, False, True)"
   ]
  },
  {
   "cell_type": "code",
   "execution_count": 92,
   "metadata": {
    "execution": {
     "iopub.execute_input": "2024-02-25T22:08:44.419788Z",
     "iopub.status.busy": "2024-02-25T22:08:44.419476Z",
     "iopub.status.idle": "2024-02-25T22:08:44.430945Z",
     "shell.execute_reply": "2024-02-25T22:08:44.430207Z"
    },
    "id": "Fs8XaQ6kOjck"
   },
   "outputs": [],
   "source": [
    "# without passing column names, the result will contain only two geometries columns\n",
    "geometry_df = Adapter.toDf(result, sedona)"
   ]
  },
  {
   "cell_type": "code",
   "execution_count": 93,
   "metadata": {
    "colab": {
     "base_uri": "https://localhost:8080/"
    },
    "execution": {
     "iopub.execute_input": "2024-02-25T22:08:44.434720Z",
     "iopub.status.busy": "2024-02-25T22:08:44.434420Z",
     "iopub.status.idle": "2024-02-25T22:08:44.441595Z",
     "shell.execute_reply": "2024-02-25T22:08:44.440907Z"
    },
    "id": "qiWJjHz7Ojck",
    "outputId": "f5c12650-bce0-4d87-cacc-dcc82f943b41"
   },
   "outputs": [
    {
     "name": "stdout",
     "output_type": "stream",
     "text": [
      "root\n",
      " |-- leftgeometry: geometry (nullable = true)\n",
      " |-- rightgeometry: geometry (nullable = true)\n",
      "\n"
     ]
    }
   ],
   "source": [
    "geometry_df.printSchema()"
   ]
  },
  {
   "cell_type": "code",
   "execution_count": 94,
   "metadata": {
    "colab": {
     "base_uri": "https://localhost:8080/"
    },
    "execution": {
     "iopub.execute_input": "2024-02-25T22:08:44.445295Z",
     "iopub.status.busy": "2024-02-25T22:08:44.444795Z",
     "iopub.status.idle": "2024-02-25T22:08:44.941871Z",
     "shell.execute_reply": "2024-02-25T22:08:44.941153Z"
    },
    "id": "CUuhG1HHOjcl",
    "outputId": "963d7d66-c39f-44ef-8139-772dd2bdc563"
   },
   "outputs": [
    {
     "name": "stdout",
     "output_type": "stream",
     "text": [
      "+--------------------+--------------------+\n",
      "|        leftgeometry|       rightgeometry|\n",
      "+--------------------+--------------------+\n",
      "|POLYGON ((-86.749...|POINT (-86.68645 ...|\n",
      "|POLYGON ((-86.749...|POINT (-86.675405...|\n",
      "|POLYGON ((-87.229...|POINT (-87.204299...|\n",
      "|POLYGON ((-86.860...|POINT (-86.818935...|\n",
      "|POLYGON ((-86.860...|POINT (-86.599959...|\n",
      "+--------------------+--------------------+\n",
      "only showing top 5 rows\n",
      "\n"
     ]
    }
   ],
   "source": [
    "geometry_df.show(5)"
   ]
  },
  {
   "cell_type": "code",
   "execution_count": 95,
   "metadata": {
    "colab": {
     "base_uri": "https://localhost:8080/"
    },
    "execution": {
     "iopub.execute_input": "2024-02-25T22:08:44.945593Z",
     "iopub.status.busy": "2024-02-25T22:08:44.945264Z",
     "iopub.status.idle": "2024-02-25T22:08:45.114801Z",
     "shell.execute_reply": "2024-02-25T22:08:45.114066Z"
    },
    "id": "J_113xc7Ojcl",
    "outputId": "13894e68-ca5a-4fc4-ee26-f8bc7216c8d3"
   },
   "outputs": [
    {
     "data": {
      "text/plain": [
       "Row(leftgeometry=<shapely.geometry.polygon.Polygon object at 0x7fe9770a7c10>, rightgeometry=<shapely.geometry.point.Point object at 0x7fe9770a7250>)"
      ]
     },
     "execution_count": 95,
     "metadata": {},
     "output_type": "execute_result"
    }
   ],
   "source": [
    "geometry_df.collect()[0]"
   ]
  },
  {
   "cell_type": "markdown",
   "metadata": {
    "id": "S-eRk6AROjcl"
   },
   "source": [
    "## Passing column names"
   ]
  },
  {
   "cell_type": "code",
   "execution_count": 96,
   "metadata": {
    "execution": {
     "iopub.execute_input": "2024-02-25T22:08:45.118604Z",
     "iopub.status.busy": "2024-02-25T22:08:45.118161Z",
     "iopub.status.idle": "2024-02-25T22:08:45.134829Z",
     "shell.execute_reply": "2024-02-25T22:08:45.134106Z"
    },
    "id": "5CnT4RzeOjcl"
   },
   "outputs": [],
   "source": [
    "geometry_df = Adapter.toDf(result, [\"left_user_data\"], [\"right_user_data\"], sedona)"
   ]
  },
  {
   "cell_type": "code",
   "execution_count": 97,
   "metadata": {
    "colab": {
     "base_uri": "https://localhost:8080/"
    },
    "execution": {
     "iopub.execute_input": "2024-02-25T22:08:45.138789Z",
     "iopub.status.busy": "2024-02-25T22:08:45.138319Z",
     "iopub.status.idle": "2024-02-25T22:08:45.341832Z",
     "shell.execute_reply": "2024-02-25T22:08:45.341076Z"
    },
    "id": "qfaNUcXQOjcl",
    "outputId": "fa42ffa3-5d2c-4aaa-f2f0-de165a56554d"
   },
   "outputs": [
    {
     "name": "stdout",
     "output_type": "stream",
     "text": [
      "+--------------------+--------------+--------------------+---------------+\n",
      "|        leftgeometry|left_user_data|       rightgeometry|right_user_data|\n",
      "+--------------------+--------------+--------------------+---------------+\n",
      "|POLYGON ((-86.749...|              |POINT (-86.68645 ...|           null|\n",
      "|POLYGON ((-86.749...|              |POINT (-86.675405...|           null|\n",
      "|POLYGON ((-87.229...|              |POINT (-87.204299...|           null|\n",
      "|POLYGON ((-86.860...|              |POINT (-86.818935...|           null|\n",
      "|POLYGON ((-86.860...|              |POINT (-86.599959...|           null|\n",
      "+--------------------+--------------+--------------------+---------------+\n",
      "only showing top 5 rows\n",
      "\n"
     ]
    }
   ],
   "source": [
    "geometry_df.show(5)"
   ]
  },
  {
   "cell_type": "markdown",
   "metadata": {
    "id": "TzWjjT0UOjcl"
   },
   "source": [
    "# Converting RDD Spatial join result to DF directly, avoiding jvm python serde"
   ]
  },
  {
   "cell_type": "code",
   "execution_count": 98,
   "metadata": {
    "execution": {
     "iopub.execute_input": "2024-02-25T22:08:45.345533Z",
     "iopub.status.busy": "2024-02-25T22:08:45.345257Z",
     "iopub.status.idle": "2024-02-25T22:08:45.353453Z",
     "shell.execute_reply": "2024-02-25T22:08:45.352771Z"
    },
    "id": "OB_t5UOcOjcl"
   },
   "outputs": [],
   "source": [
    "query_envelope = Envelope(-85.01, -60.01, 34.01, 50.01)\n",
    "\n",
    "result_range_query = RangeQueryRaw.SpatialRangeQuery(linestring_rdd, query_envelope, False, False)"
   ]
  },
  {
   "cell_type": "code",
   "execution_count": 99,
   "metadata": {
    "execution": {
     "iopub.execute_input": "2024-02-25T22:08:45.357032Z",
     "iopub.status.busy": "2024-02-25T22:08:45.356557Z",
     "iopub.status.idle": "2024-02-25T22:08:45.366762Z",
     "shell.execute_reply": "2024-02-25T22:08:45.366078Z"
    },
    "id": "58B9hoX_Ojcl"
   },
   "outputs": [],
   "source": [
    "# converting to df\n",
    "gdf = Adapter.toDf(result_range_query, sedona)"
   ]
  },
  {
   "cell_type": "code",
   "execution_count": 100,
   "metadata": {
    "colab": {
     "base_uri": "https://localhost:8080/"
    },
    "execution": {
     "iopub.execute_input": "2024-02-25T22:08:45.370109Z",
     "iopub.status.busy": "2024-02-25T22:08:45.369472Z",
     "iopub.status.idle": "2024-02-25T22:08:45.420994Z",
     "shell.execute_reply": "2024-02-25T22:08:45.420134Z"
    },
    "id": "Rgna3MsmOjcl",
    "outputId": "f7412685-61ac-4712-cf53-a938170315f4"
   },
   "outputs": [
    {
     "name": "stdout",
     "output_type": "stream",
     "text": [
      "+--------------------+\n",
      "|            geometry|\n",
      "+--------------------+\n",
      "|LINESTRING (-72.1...|\n",
      "|LINESTRING (-72.4...|\n",
      "|LINESTRING (-72.4...|\n",
      "|LINESTRING (-73.4...|\n",
      "|LINESTRING (-73.6...|\n",
      "+--------------------+\n",
      "only showing top 5 rows\n",
      "\n"
     ]
    }
   ],
   "source": [
    "gdf.show(5)"
   ]
  },
  {
   "cell_type": "code",
   "execution_count": 101,
   "metadata": {
    "colab": {
     "base_uri": "https://localhost:8080/"
    },
    "execution": {
     "iopub.execute_input": "2024-02-25T22:08:45.423922Z",
     "iopub.status.busy": "2024-02-25T22:08:45.423686Z",
     "iopub.status.idle": "2024-02-25T22:08:45.427943Z",
     "shell.execute_reply": "2024-02-25T22:08:45.427390Z"
    },
    "id": "Gzw-LrkgOjcm",
    "outputId": "924b5905-530a-4058-d6d0-3f36d9e5c230"
   },
   "outputs": [
    {
     "name": "stdout",
     "output_type": "stream",
     "text": [
      "root\n",
      " |-- geometry: geometry (nullable = true)\n",
      "\n"
     ]
    }
   ],
   "source": [
    "gdf.printSchema()"
   ]
  },
  {
   "cell_type": "code",
   "execution_count": 102,
   "metadata": {
    "execution": {
     "iopub.execute_input": "2024-02-25T22:08:45.430520Z",
     "iopub.status.busy": "2024-02-25T22:08:45.430332Z",
     "iopub.status.idle": "2024-02-25T22:08:45.439710Z",
     "shell.execute_reply": "2024-02-25T22:08:45.438989Z"
    },
    "id": "C5-BtLhSOjcm"
   },
   "outputs": [],
   "source": [
    "# Passing column names\n",
    "# converting to df\n",
    "gdf_with_columns = Adapter.toDf(result_range_query, sedona, [\"_c1\"])"
   ]
  },
  {
   "cell_type": "code",
   "execution_count": 103,
   "metadata": {
    "colab": {
     "base_uri": "https://localhost:8080/"
    },
    "execution": {
     "iopub.execute_input": "2024-02-25T22:08:45.442566Z",
     "iopub.status.busy": "2024-02-25T22:08:45.442376Z",
     "iopub.status.idle": "2024-02-25T22:08:45.538728Z",
     "shell.execute_reply": "2024-02-25T22:08:45.537899Z"
    },
    "id": "r9ctqnn1Ojcm",
    "outputId": "a874be8b-00fd-4b9f-c4e5-a5f8006b4202"
   },
   "outputs": [
    {
     "name": "stdout",
     "output_type": "stream",
     "text": [
      "+--------------------+---+\n",
      "|            geometry|_c1|\n",
      "+--------------------+---+\n",
      "|LINESTRING (-72.1...|   |\n",
      "|LINESTRING (-72.4...|   |\n",
      "|LINESTRING (-72.4...|   |\n",
      "|LINESTRING (-73.4...|   |\n",
      "|LINESTRING (-73.6...|   |\n",
      "+--------------------+---+\n",
      "only showing top 5 rows\n",
      "\n"
     ]
    }
   ],
   "source": [
    "gdf_with_columns.show(5)"
   ]
  },
  {
   "cell_type": "code",
   "execution_count": 104,
   "metadata": {
    "colab": {
     "base_uri": "https://localhost:8080/"
    },
    "execution": {
     "iopub.execute_input": "2024-02-25T22:08:45.541538Z",
     "iopub.status.busy": "2024-02-25T22:08:45.541271Z",
     "iopub.status.idle": "2024-02-25T22:08:45.545148Z",
     "shell.execute_reply": "2024-02-25T22:08:45.544505Z"
    },
    "id": "h-xj5agIOjcm",
    "outputId": "30469257-a9ee-4711-8dbe-0527ff9e22f6"
   },
   "outputs": [
    {
     "name": "stdout",
     "output_type": "stream",
     "text": [
      "root\n",
      " |-- geometry: geometry (nullable = true)\n",
      " |-- _c1: string (nullable = true)\n",
      "\n"
     ]
    }
   ],
   "source": [
    "gdf_with_columns.printSchema()"
   ]
  },
  {
   "cell_type": "markdown",
   "metadata": {
    "id": "VIQE0WpbUQjD"
   },
   "source": [
    "# Summary\n",
    "\n",
    "We have shown how to install Sedona with Pyspark and run a basic example (source: https://github.com/apache/sedona/blob/master/binder/ApacheSedonaCore.ipynb) on Google Colab."
   ]
  }
 ],
 "metadata": {
  "colab": {
   "authorship_tag": "ABX9TyM9JVOiZXxIFObMpyuhPLLD",
   "include_colab_link": true,
   "provenance": [],
   "toc_visible": true
  },
  "kernelspec": {
   "display_name": "Python 3",
   "name": "python3"
  },
  "language_info": {
   "codemirror_mode": {
    "name": "ipython",
    "version": 3
   },
   "file_extension": ".py",
   "mimetype": "text/x-python",
   "name": "python",
   "nbconvert_exporter": "python",
   "pygments_lexer": "ipython3",
   "version": "3.8.18"
  }
 },
 "nbformat": 4,
 "nbformat_minor": 0
}
