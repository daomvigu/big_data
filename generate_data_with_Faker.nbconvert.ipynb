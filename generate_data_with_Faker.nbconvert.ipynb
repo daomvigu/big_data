{
 "cells": [
  {
   "cell_type": "markdown",
   "metadata": {
    "colab_type": "text",
    "id": "view-in-github"
   },
   "source": [
    "<a href=\"https://colab.research.google.com/github/groda/big_data/blob/master/generate_data_with_Faker.ipynb\" target=\"_parent\"><img src=\"https://colab.research.google.com/assets/colab-badge.svg\" alt=\"Open In Colab\"/></a>"
   ]
  },
  {
   "cell_type": "markdown",
   "metadata": {
    "id": "hwLHeIOc69kD"
   },
   "source": [
    "<a href=\"https://github.com/groda/big_data\"><div><img src=\"https://github.com/groda/big_data/blob/master/logo_bdb.png?raw=true\" align=right width=\"90\"></div></a>\n",
    "\n",
    "# Data Generation and Aggregation with Python's Faker Library and PySpark\n",
    "<br>\n",
    "<br>\n",
    "\n",
    "Explore the capabilities of the Python Faker library (https://faker.readthedocs.io/) for dynamic data generation!\n",
    "\n",
    "Whether you're a data scientist, engineer, or analyst, this tutorial will guide you through the process of creating realistic and diverse datasets using Faker and then harnessing the distributed computing capabilities of PySpark to aggregate and analyze the generated data.\n",
    "\n",
    "\n",
    "\n",
    "**Note:** This is not _synthetic_ data as it is generated using simple methods and will most likely not fit any real-life distribution. Still, it serves as a valuable resource for testing purposes when authentic data is unavailable."
   ]
  },
  {
   "cell_type": "markdown",
   "metadata": {
    "id": "BW6yZdpy7run"
   },
   "source": [
    "# Install Faker\n",
    "\n",
    "The Python `faker` module needs to be installed. Note that on Google Colab you can use `!pip` as well as just `pip` (no exclamation mark)."
   ]
  },
  {
   "cell_type": "code",
   "execution_count": 1,
   "metadata": {
    "colab": {
     "base_uri": "https://localhost:8080/"
    },
    "execution": {
     "iopub.execute_input": "2024-03-11T15:47:22.109413Z",
     "iopub.status.busy": "2024-03-11T15:47:22.108859Z",
     "iopub.status.idle": "2024-03-11T15:47:24.664371Z",
     "shell.execute_reply": "2024-03-11T15:47:24.663593Z"
    },
    "id": "7EOLVOTe7KnP",
    "outputId": "b72af9eb-9fa4-46ed-da58-1d497c43fe8b"
   },
   "outputs": [
    {
     "name": "stdout",
     "output_type": "stream",
     "text": [
      "Collecting faker\r\n"
     ]
    },
    {
     "name": "stdout",
     "output_type": "stream",
     "text": [
      "  Downloading Faker-24.1.0-py3-none-any.whl.metadata (15 kB)\r\n",
      "Requirement already satisfied: python-dateutil>=2.4 in /opt/hostedtoolcache/Python/3.8.18/x64/lib/python3.8/site-packages (from faker) (2.9.0.post0)\r\n",
      "Requirement already satisfied: typing-extensions>=3.10.0.1 in /opt/hostedtoolcache/Python/3.8.18/x64/lib/python3.8/site-packages (from faker) (4.10.0)\r\n",
      "Requirement already satisfied: six>=1.5 in /opt/hostedtoolcache/Python/3.8.18/x64/lib/python3.8/site-packages (from python-dateutil>=2.4->faker) (1.16.0)\r\n",
      "Downloading Faker-24.1.0-py3-none-any.whl (1.8 MB)\r\n",
      "\u001b[?25l   \u001b[90m━━━━━━━━━━━━━━━━━━━━━━━━━━━━━━━━━━━━━━━━\u001b[0m \u001b[32m0.0/1.8 MB\u001b[0m \u001b[31m?\u001b[0m eta \u001b[36m-:--:--\u001b[0m"
     ]
    },
    {
     "name": "stdout",
     "output_type": "stream",
     "text": [
      "\r",
      "\u001b[2K   \u001b[91m━━━━━━━━━━━━━━━━━━━━━━━━━━━━━━━━━━━━━━━\u001b[0m\u001b[91m╸\u001b[0m \u001b[32m1.8/1.8 MB\u001b[0m \u001b[31m55.7 MB/s\u001b[0m eta \u001b[36m0:00:01\u001b[0m\r",
      "\u001b[2K   \u001b[90m━━━━━━━━━━━━━━━━━━━━━━━━━━━━━━━━━━━━━━━━\u001b[0m \u001b[32m1.8/1.8 MB\u001b[0m \u001b[31m45.7 MB/s\u001b[0m eta \u001b[36m0:00:00\u001b[0m\r\n",
      "\u001b[?25h"
     ]
    },
    {
     "name": "stdout",
     "output_type": "stream",
     "text": [
      "Installing collected packages: faker\r\n"
     ]
    },
    {
     "name": "stdout",
     "output_type": "stream",
     "text": [
      "Successfully installed faker-24.1.0\r\n"
     ]
    },
    {
     "name": "stdout",
     "output_type": "stream",
     "text": [
      "\r\n",
      "\u001b[1m[\u001b[0m\u001b[34;49mnotice\u001b[0m\u001b[1;39;49m]\u001b[0m\u001b[39;49m A new release of pip is available: \u001b[0m\u001b[31;49m23.0.1\u001b[0m\u001b[39;49m -> \u001b[0m\u001b[32;49m24.0\u001b[0m\r\n",
      "\u001b[1m[\u001b[0m\u001b[34;49mnotice\u001b[0m\u001b[1;39;49m]\u001b[0m\u001b[39;49m To update, run: \u001b[0m\u001b[32;49mpip install --upgrade pip\u001b[0m\r\n"
     ]
    }
   ],
   "source": [
    "!pip install faker"
   ]
  },
  {
   "cell_type": "markdown",
   "metadata": {
    "id": "UYLa4gsrB7aS"
   },
   "source": [
    "# Generate a Pandas dataframe with fake data"
   ]
  },
  {
   "cell_type": "markdown",
   "metadata": {
    "id": "yKviUSgj7nHP"
   },
   "source": [
    "Import `Faker` and set a random seed ($42$)."
   ]
  },
  {
   "cell_type": "code",
   "execution_count": 2,
   "metadata": {
    "execution": {
     "iopub.execute_input": "2024-03-11T15:47:24.667499Z",
     "iopub.status.busy": "2024-03-11T15:47:24.667290Z",
     "iopub.status.idle": "2024-03-11T15:47:24.715701Z",
     "shell.execute_reply": "2024-03-11T15:47:24.715189Z"
    },
    "id": "7fbGCBoq69kF"
   },
   "outputs": [],
   "source": [
    "from faker import Faker\n",
    "# Set the seed value of the shared `random.Random` object\n",
    "# across all internal generators that will ever be created\n",
    "Faker.seed(42)"
   ]
  },
  {
   "cell_type": "markdown",
   "metadata": {
    "id": "yUEes2gl69kF"
   },
   "source": [
    "`fake` is a fake data generator with `DE_de` locale."
   ]
  },
  {
   "cell_type": "code",
   "execution_count": 3,
   "metadata": {
    "execution": {
     "iopub.execute_input": "2024-03-11T15:47:24.718208Z",
     "iopub.status.busy": "2024-03-11T15:47:24.717840Z",
     "iopub.status.idle": "2024-03-11T15:47:24.744719Z",
     "shell.execute_reply": "2024-03-11T15:47:24.744220Z"
    },
    "id": "Bf7UTx_r69kG"
   },
   "outputs": [],
   "source": [
    "fake = Faker('de_DE')\n",
    "fake.seed_locale('de_DE', 42)\n",
    "# Creates and seeds a unique `random.Random` object for\n",
    "# each internal generator of this `Faker` instance\n",
    "fake.seed_instance(42)"
   ]
  },
  {
   "cell_type": "markdown",
   "metadata": {
    "id": "0bSXBUI469kG"
   },
   "source": [
    "Import Pandas to save data into a dataframe"
   ]
  },
  {
   "cell_type": "code",
   "execution_count": 4,
   "metadata": {
    "execution": {
     "iopub.execute_input": "2024-03-11T15:47:24.747380Z",
     "iopub.status.busy": "2024-03-11T15:47:24.746987Z",
     "iopub.status.idle": "2024-03-11T15:47:31.872003Z",
     "shell.execute_reply": "2024-03-11T15:47:31.871411Z"
    },
    "id": "PI_YqfM169kG"
   },
   "outputs": [
    {
     "name": "stdout",
     "output_type": "stream",
     "text": [
      "Collecting pandas==1.5.3\r\n"
     ]
    },
    {
     "name": "stdout",
     "output_type": "stream",
     "text": [
      "  Downloading pandas-1.5.3-cp38-cp38-manylinux_2_17_x86_64.manylinux2014_x86_64.whl.metadata (11 kB)\r\n",
      "Requirement already satisfied: python-dateutil>=2.8.1 in /opt/hostedtoolcache/Python/3.8.18/x64/lib/python3.8/site-packages (from pandas==1.5.3) (2.9.0.post0)\r\n",
      "Requirement already satisfied: pytz>=2020.1 in /opt/hostedtoolcache/Python/3.8.18/x64/lib/python3.8/site-packages (from pandas==1.5.3) (2024.1)\r\n"
     ]
    },
    {
     "name": "stdout",
     "output_type": "stream",
     "text": [
      "Collecting numpy>=1.20.3 (from pandas==1.5.3)\r\n",
      "  Downloading numpy-1.24.4-cp38-cp38-manylinux_2_17_x86_64.manylinux2014_x86_64.whl.metadata (5.6 kB)\r\n",
      "Requirement already satisfied: six>=1.5 in /opt/hostedtoolcache/Python/3.8.18/x64/lib/python3.8/site-packages (from python-dateutil>=2.8.1->pandas==1.5.3) (1.16.0)\r\n",
      "Downloading pandas-1.5.3-cp38-cp38-manylinux_2_17_x86_64.manylinux2014_x86_64.whl (12.2 MB)\r\n",
      "\u001b[?25l   \u001b[90m━━━━━━━━━━━━━━━━━━━━━━━━━━━━━━━━━━━━━━━━\u001b[0m \u001b[32m0.0/12.2 MB\u001b[0m \u001b[31m?\u001b[0m eta \u001b[36m-:--:--\u001b[0m"
     ]
    },
    {
     "name": "stdout",
     "output_type": "stream",
     "text": [
      "\r",
      "\u001b[2K   \u001b[91m━━\u001b[0m\u001b[90m╺\u001b[0m\u001b[90m━━━━━━━━━━━━━━━━━━━━━━━━━━━━━━━━━━━━━\u001b[0m \u001b[32m0.7/12.2 MB\u001b[0m \u001b[31m22.2 MB/s\u001b[0m eta \u001b[36m0:00:01\u001b[0m"
     ]
    },
    {
     "name": "stdout",
     "output_type": "stream",
     "text": [
      "\r",
      "\u001b[2K   \u001b[91m━━━━━━\u001b[0m\u001b[90m╺\u001b[0m\u001b[90m━━━━━━━━━━━━━━━━━━━━━━━━━━━━━━━━━\u001b[0m \u001b[32m1.9/12.2 MB\u001b[0m \u001b[31m28.1 MB/s\u001b[0m eta \u001b[36m0:00:01\u001b[0m\r",
      "\u001b[2K   \u001b[91m━━━━━━━━━━━\u001b[0m\u001b[90m╺\u001b[0m\u001b[90m━━━━━━━━━━━━━━━━━━━━━━━━━━━━\u001b[0m \u001b[32m3.5/12.2 MB\u001b[0m \u001b[31m33.6 MB/s\u001b[0m eta \u001b[36m0:00:01\u001b[0m"
     ]
    },
    {
     "name": "stdout",
     "output_type": "stream",
     "text": [
      "\r",
      "\u001b[2K   \u001b[91m━━━━━━━━━━━━━━━━━━\u001b[0m\u001b[91m╸\u001b[0m\u001b[90m━━━━━━━━━━━━━━━━━━━━━\u001b[0m \u001b[32m5.7/12.2 MB\u001b[0m \u001b[31m41.0 MB/s\u001b[0m eta \u001b[36m0:00:01\u001b[0m"
     ]
    },
    {
     "name": "stdout",
     "output_type": "stream",
     "text": [
      "\r",
      "\u001b[2K   \u001b[91m━━━━━━━━━━━━━━━━━━━━━━━━━━━\u001b[0m\u001b[91m╸\u001b[0m\u001b[90m━━━━━━━━━━━━\u001b[0m \u001b[32m8.5/12.2 MB\u001b[0m \u001b[31m49.5 MB/s\u001b[0m eta \u001b[36m0:00:01\u001b[0m\r",
      "\u001b[2K   \u001b[91m━━━━━━━━━━━━━━━━━━━━━━━━━━━━━━━━━━━━━━━\u001b[0m\u001b[91m╸\u001b[0m \u001b[32m12.2/12.2 MB\u001b[0m \u001b[31m75.7 MB/s\u001b[0m eta \u001b[36m0:00:01\u001b[0m"
     ]
    },
    {
     "name": "stdout",
     "output_type": "stream",
     "text": [
      "\r",
      "\u001b[2K   \u001b[90m━━━━━━━━━━━━━━━━━━━━━━━━━━━━━━━━━━━━━━━━\u001b[0m \u001b[32m12.2/12.2 MB\u001b[0m \u001b[31m61.2 MB/s\u001b[0m eta \u001b[36m0:00:00\u001b[0m\r\n",
      "\u001b[?25hDownloading numpy-1.24.4-cp38-cp38-manylinux_2_17_x86_64.manylinux2014_x86_64.whl (17.3 MB)\r\n",
      "\u001b[?25l   \u001b[90m━━━━━━━━━━━━━━━━━━━━━━━━━━━━━━━━━━━━━━━━\u001b[0m \u001b[32m0.0/17.3 MB\u001b[0m \u001b[31m?\u001b[0m eta \u001b[36m-:--:--\u001b[0m"
     ]
    },
    {
     "name": "stdout",
     "output_type": "stream",
     "text": [
      "\r",
      "\u001b[2K   \u001b[91m━━━━━━━━━━━\u001b[0m\u001b[91m╸\u001b[0m\u001b[90m━━━━━━━━━━━━━━━━━━━━━━━━━━━━\u001b[0m \u001b[32m5.1/17.3 MB\u001b[0m \u001b[31m152.4 MB/s\u001b[0m eta \u001b[36m0:00:01\u001b[0m"
     ]
    },
    {
     "name": "stdout",
     "output_type": "stream",
     "text": [
      "\r",
      "\u001b[2K   \u001b[91m━━━━━━━━━━━━━━━━━━━━━━━━━\u001b[0m\u001b[90m╺\u001b[0m\u001b[90m━━━━━━━━━━━━━━\u001b[0m \u001b[32m10.9/17.3 MB\u001b[0m \u001b[31m159.2 MB/s\u001b[0m eta \u001b[36m0:00:01\u001b[0m\r",
      "\u001b[2K   \u001b[91m━━━━━━━━━━━━━━━━━━━━━━━━━━━━━━━━━━━━\u001b[0m\u001b[90m╺\u001b[0m\u001b[90m━━━\u001b[0m \u001b[32m15.8/17.3 MB\u001b[0m \u001b[31m156.2 MB/s\u001b[0m eta \u001b[36m0:00:01\u001b[0m"
     ]
    },
    {
     "name": "stdout",
     "output_type": "stream",
     "text": [
      "\r",
      "\u001b[2K   \u001b[91m━━━━━━━━━━━━━━━━━━━━━━━━━━━━━━━━━━━━━━━\u001b[0m\u001b[91m╸\u001b[0m \u001b[32m17.3/17.3 MB\u001b[0m \u001b[31m151.2 MB/s\u001b[0m eta \u001b[36m0:00:01\u001b[0m\r",
      "\u001b[2K   \u001b[90m━━━━━━━━━━━━━━━━━━━━━━━━━━━━━━━━━━━━━━━━\u001b[0m \u001b[32m17.3/17.3 MB\u001b[0m \u001b[31m94.3 MB/s\u001b[0m eta \u001b[36m0:00:00\u001b[0m\r\n",
      "\u001b[?25h"
     ]
    },
    {
     "name": "stdout",
     "output_type": "stream",
     "text": [
      "Installing collected packages: numpy, pandas\r\n"
     ]
    },
    {
     "name": "stdout",
     "output_type": "stream",
     "text": [
      "Successfully installed numpy-1.24.4 pandas-1.5.3\r\n"
     ]
    },
    {
     "name": "stdout",
     "output_type": "stream",
     "text": [
      "\r\n",
      "\u001b[1m[\u001b[0m\u001b[34;49mnotice\u001b[0m\u001b[1;39;49m]\u001b[0m\u001b[39;49m A new release of pip is available: \u001b[0m\u001b[31;49m23.0.1\u001b[0m\u001b[39;49m -> \u001b[0m\u001b[32;49m24.0\u001b[0m\r\n",
      "\u001b[1m[\u001b[0m\u001b[34;49mnotice\u001b[0m\u001b[1;39;49m]\u001b[0m\u001b[39;49m To update, run: \u001b[0m\u001b[32;49mpip install --upgrade pip\u001b[0m\r\n"
     ]
    }
   ],
   "source": [
    "# true if running on Google Colab\n",
    "import sys\n",
    "IN_COLAB = 'google.colab' in sys.modules\n",
    "if not IN_COLAB:\n",
    " !pip install pandas==1.5.3\n",
    "\n",
    "import pandas as pd"
   ]
  },
  {
   "cell_type": "markdown",
   "metadata": {
    "id": "LjCsGikw69kG"
   },
   "source": [
    "The function `create_row_faker` creates one row of fake data. Here we choose to generate a row containing the following fields:\n",
    " - `fake.name()`\n",
    " - `fake.postcode()`\n",
    " - `fake.email()`\n",
    " - `fake.country()`."
   ]
  },
  {
   "cell_type": "code",
   "execution_count": 5,
   "metadata": {
    "execution": {
     "iopub.execute_input": "2024-03-11T15:47:31.875297Z",
     "iopub.status.busy": "2024-03-11T15:47:31.874808Z",
     "iopub.status.idle": "2024-03-11T15:47:31.878661Z",
     "shell.execute_reply": "2024-03-11T15:47:31.878054Z"
    },
    "id": "f1MiSZl069kG"
   },
   "outputs": [],
   "source": [
    "def create_row_faker(num=1):\n",
    "    output = [{\"name\": fake.name(),\n",
    "               \"age\": fake.random_int(0, 100),\n",
    "               \"postcode\": fake.postcode(),\n",
    "               \"email\": fake.email(),\n",
    "               \"nationality\": fake.country(),\n",
    "              } for x in range(num)]\n",
    "    return output"
   ]
  },
  {
   "cell_type": "markdown",
   "metadata": {
    "id": "TeuZISIh69kH"
   },
   "source": [
    "Generate a single row"
   ]
  },
  {
   "cell_type": "code",
   "execution_count": 6,
   "metadata": {
    "colab": {
     "base_uri": "https://localhost:8080/"
    },
    "execution": {
     "iopub.execute_input": "2024-03-11T15:47:31.881144Z",
     "iopub.status.busy": "2024-03-11T15:47:31.880785Z",
     "iopub.status.idle": "2024-03-11T15:47:31.887360Z",
     "shell.execute_reply": "2024-03-11T15:47:31.886701Z"
    },
    "id": "wXP-5uSg69kH",
    "outputId": "e5d284c3-2587-451d-aab8-45f9ba7c99d5"
   },
   "outputs": [
    {
     "data": {
      "text/plain": [
       "[{'name': 'Aleksandr Weinhage',\n",
       "  'age': 35,\n",
       "  'postcode': '32181',\n",
       "  'email': 'bbeckmann@example.org',\n",
       "  'nationality': 'Fidschi'}]"
      ]
     },
     "execution_count": 6,
     "metadata": {},
     "output_type": "execute_result"
    }
   ],
   "source": [
    "create_row_faker()"
   ]
  },
  {
   "cell_type": "markdown",
   "metadata": {
    "id": "4zIjkEOw69kI"
   },
   "source": [
    "Generate a dataframe `df_fake` of 5000 rows using `create_row_faker`.\n",
    "\n",
    "We're using the _cell magic_ `%%time` to time the operation."
   ]
  },
  {
   "cell_type": "code",
   "execution_count": 7,
   "metadata": {
    "colab": {
     "base_uri": "https://localhost:8080/"
    },
    "execution": {
     "iopub.execute_input": "2024-03-11T15:47:31.889942Z",
     "iopub.status.busy": "2024-03-11T15:47:31.889573Z",
     "iopub.status.idle": "2024-03-11T15:47:32.161843Z",
     "shell.execute_reply": "2024-03-11T15:47:32.161172Z"
    },
    "id": "JtRWDEsT69kI",
    "outputId": "75fc519b-a19c-4fcf-db0e-13d98f394f8c"
   },
   "outputs": [
    {
     "name": "stdout",
     "output_type": "stream",
     "text": [
      "CPU times: user 269 ms, sys: 0 ns, total: 269 ms\n",
      "Wall time: 269 ms\n"
     ]
    }
   ],
   "source": [
    "%%time\n",
    "df_fake = pd.DataFrame(create_row_faker(5000))"
   ]
  },
  {
   "cell_type": "markdown",
   "metadata": {
    "id": "meT16YZy69kI"
   },
   "source": [
    "View dataframe"
   ]
  },
  {
   "cell_type": "code",
   "execution_count": 8,
   "metadata": {
    "colab": {
     "base_uri": "https://localhost:8080/",
     "height": 423
    },
    "execution": {
     "iopub.execute_input": "2024-03-11T15:47:32.164575Z",
     "iopub.status.busy": "2024-03-11T15:47:32.164182Z",
     "iopub.status.idle": "2024-03-11T15:47:32.174430Z",
     "shell.execute_reply": "2024-03-11T15:47:32.173819Z"
    },
    "id": "RJK93FxW69kI",
    "outputId": "50d3d1ef-24e6-485c-a43e-40470594cd4a"
   },
   "outputs": [
    {
     "data": {
      "text/html": [
       "<div>\n",
       "<style scoped>\n",
       "    .dataframe tbody tr th:only-of-type {\n",
       "        vertical-align: middle;\n",
       "    }\n",
       "\n",
       "    .dataframe tbody tr th {\n",
       "        vertical-align: top;\n",
       "    }\n",
       "\n",
       "    .dataframe thead th {\n",
       "        text-align: right;\n",
       "    }\n",
       "</style>\n",
       "<table border=\"1\" class=\"dataframe\">\n",
       "  <thead>\n",
       "    <tr style=\"text-align: right;\">\n",
       "      <th></th>\n",
       "      <th>name</th>\n",
       "      <th>age</th>\n",
       "      <th>postcode</th>\n",
       "      <th>email</th>\n",
       "      <th>nationality</th>\n",
       "    </tr>\n",
       "  </thead>\n",
       "  <tbody>\n",
       "    <tr>\n",
       "      <th>0</th>\n",
       "      <td>Prof. Kurt Bauer B.A.</td>\n",
       "      <td>91</td>\n",
       "      <td>37940</td>\n",
       "      <td>hildaloeffler@example.com</td>\n",
       "      <td>Guatemala</td>\n",
       "    </tr>\n",
       "    <tr>\n",
       "      <th>1</th>\n",
       "      <td>Ekkehart Wilms-Kallert</td>\n",
       "      <td>13</td>\n",
       "      <td>61559</td>\n",
       "      <td>maja07@example.net</td>\n",
       "      <td>Brasilien</td>\n",
       "    </tr>\n",
       "    <tr>\n",
       "      <th>2</th>\n",
       "      <td>Annelise Röhrdanz-Hornig</td>\n",
       "      <td>80</td>\n",
       "      <td>93103</td>\n",
       "      <td>daniel31@example.com</td>\n",
       "      <td>Guatemala</td>\n",
       "    </tr>\n",
       "    <tr>\n",
       "      <th>3</th>\n",
       "      <td>Magrit Knappe B.A.</td>\n",
       "      <td>47</td>\n",
       "      <td>34192</td>\n",
       "      <td>gottliebmitschke@example.com</td>\n",
       "      <td>Guadeloupe</td>\n",
       "    </tr>\n",
       "    <tr>\n",
       "      <th>4</th>\n",
       "      <td>Univ.Prof. Gotthilf Wirth B.Sc.</td>\n",
       "      <td>29</td>\n",
       "      <td>56413</td>\n",
       "      <td>heini76@example.net</td>\n",
       "      <td>Litauen</td>\n",
       "    </tr>\n",
       "    <tr>\n",
       "      <th>...</th>\n",
       "      <td>...</td>\n",
       "      <td>...</td>\n",
       "      <td>...</td>\n",
       "      <td>...</td>\n",
       "      <td>...</td>\n",
       "    </tr>\n",
       "    <tr>\n",
       "      <th>4995</th>\n",
       "      <td>Janusz Nette</td>\n",
       "      <td>74</td>\n",
       "      <td>33091</td>\n",
       "      <td>ann-kathrinsiering@example.net</td>\n",
       "      <td>Belarus</td>\n",
       "    </tr>\n",
       "    <tr>\n",
       "      <th>4996</th>\n",
       "      <td>Frau Cathleen Bähr</td>\n",
       "      <td>97</td>\n",
       "      <td>89681</td>\n",
       "      <td>hethurhubertus@example.org</td>\n",
       "      <td>St. Barthélemy</td>\n",
       "    </tr>\n",
       "    <tr>\n",
       "      <th>4997</th>\n",
       "      <td>Ulla Seidel</td>\n",
       "      <td>66</td>\n",
       "      <td>28358</td>\n",
       "      <td>klotzbabette@example.net</td>\n",
       "      <td>St. Lucia</td>\n",
       "    </tr>\n",
       "    <tr>\n",
       "      <th>4998</th>\n",
       "      <td>Janin Speer MBA.</td>\n",
       "      <td>64</td>\n",
       "      <td>76879</td>\n",
       "      <td>giesskarl-hermann@example.com</td>\n",
       "      <td>Kroatien</td>\n",
       "    </tr>\n",
       "    <tr>\n",
       "      <th>4999</th>\n",
       "      <td>Emma Freudenberger</td>\n",
       "      <td>25</td>\n",
       "      <td>98648</td>\n",
       "      <td>andre92@example.net</td>\n",
       "      <td>St. Kitts und Nevis</td>\n",
       "    </tr>\n",
       "  </tbody>\n",
       "</table>\n",
       "<p>5000 rows × 5 columns</p>\n",
       "</div>"
      ],
      "text/plain": [
       "                                 name  age postcode  \\\n",
       "0               Prof. Kurt Bauer B.A.   91    37940   \n",
       "1              Ekkehart Wilms-Kallert   13    61559   \n",
       "2            Annelise Röhrdanz-Hornig   80    93103   \n",
       "3                  Magrit Knappe B.A.   47    34192   \n",
       "4     Univ.Prof. Gotthilf Wirth B.Sc.   29    56413   \n",
       "...                               ...  ...      ...   \n",
       "4995                     Janusz Nette   74    33091   \n",
       "4996               Frau Cathleen Bähr   97    89681   \n",
       "4997                      Ulla Seidel   66    28358   \n",
       "4998                 Janin Speer MBA.   64    76879   \n",
       "4999               Emma Freudenberger   25    98648   \n",
       "\n",
       "                               email          nationality  \n",
       "0          hildaloeffler@example.com            Guatemala  \n",
       "1                 maja07@example.net            Brasilien  \n",
       "2               daniel31@example.com            Guatemala  \n",
       "3       gottliebmitschke@example.com           Guadeloupe  \n",
       "4                heini76@example.net              Litauen  \n",
       "...                              ...                  ...  \n",
       "4995  ann-kathrinsiering@example.net              Belarus  \n",
       "4996      hethurhubertus@example.org       St. Barthélemy  \n",
       "4997        klotzbabette@example.net            St. Lucia  \n",
       "4998   giesskarl-hermann@example.com             Kroatien  \n",
       "4999             andre92@example.net  St. Kitts und Nevis  \n",
       "\n",
       "[5000 rows x 5 columns]"
      ]
     },
     "execution_count": 8,
     "metadata": {},
     "output_type": "execute_result"
    }
   ],
   "source": [
    "df_fake"
   ]
  },
  {
   "cell_type": "markdown",
   "metadata": {
    "id": "86GX2vpJ69kI"
   },
   "source": [
    "For more fake data generators see Faker's [standard providers](https://faker.readthedocs.io/en/master/providers.html#standard-providers) as well as [community providers](https://faker.readthedocs.io/en/master/communityproviders.html#community-providers)."
   ]
  },
  {
   "cell_type": "markdown",
   "metadata": {
    "id": "6Yv5FGq0CH6D"
   },
   "source": [
    "# Generate PySpark dataframe with fake data"
   ]
  },
  {
   "cell_type": "markdown",
   "metadata": {
    "id": "qw0OUfBE8Aom"
   },
   "source": [
    "Install PySpark."
   ]
  },
  {
   "cell_type": "code",
   "execution_count": 9,
   "metadata": {
    "colab": {
     "base_uri": "https://localhost:8080/"
    },
    "execution": {
     "iopub.execute_input": "2024-03-11T15:47:32.177134Z",
     "iopub.status.busy": "2024-03-11T15:47:32.176753Z",
     "iopub.status.idle": "2024-03-11T15:47:33.419330Z",
     "shell.execute_reply": "2024-03-11T15:47:33.418595Z"
    },
    "id": "PRKNcWR87h7P",
    "outputId": "2d8a788c-2161-4248-9ba3-394464e38706"
   },
   "outputs": [
    {
     "name": "stdout",
     "output_type": "stream",
     "text": [
      "Requirement already satisfied: pyspark in /opt/hostedtoolcache/Python/3.8.18/x64/lib/python3.8/site-packages (3.5.1)\r\n",
      "Requirement already satisfied: py4j==0.10.9.7 in /opt/hostedtoolcache/Python/3.8.18/x64/lib/python3.8/site-packages (from pyspark) (0.10.9.7)\r\n"
     ]
    },
    {
     "name": "stdout",
     "output_type": "stream",
     "text": [
      "\r\n",
      "\u001b[1m[\u001b[0m\u001b[34;49mnotice\u001b[0m\u001b[1;39;49m]\u001b[0m\u001b[39;49m A new release of pip is available: \u001b[0m\u001b[31;49m23.0.1\u001b[0m\u001b[39;49m -> \u001b[0m\u001b[32;49m24.0\u001b[0m\r\n",
      "\u001b[1m[\u001b[0m\u001b[34;49mnotice\u001b[0m\u001b[1;39;49m]\u001b[0m\u001b[39;49m To update, run: \u001b[0m\u001b[32;49mpip install --upgrade pip\u001b[0m\r\n"
     ]
    }
   ],
   "source": [
    "!pip install pyspark"
   ]
  },
  {
   "cell_type": "code",
   "execution_count": 10,
   "metadata": {
    "execution": {
     "iopub.execute_input": "2024-03-11T15:47:33.422299Z",
     "iopub.status.busy": "2024-03-11T15:47:33.421887Z",
     "iopub.status.idle": "2024-03-11T15:47:36.361106Z",
     "shell.execute_reply": "2024-03-11T15:47:36.360320Z"
    },
    "id": "9drMVtgJ69kI"
   },
   "outputs": [
    {
     "name": "stderr",
     "output_type": "stream",
     "text": [
      "Setting default log level to \"WARN\".\n",
      "To adjust logging level use sc.setLogLevel(newLevel). For SparkR, use setLogLevel(newLevel).\n",
      "24/03/11 15:47:35 WARN NativeCodeLoader: Unable to load native-hadoop library for your platform... using builtin-java classes where applicable\n"
     ]
    }
   ],
   "source": [
    "from pyspark.sql import SparkSession\n",
    "spark = SparkSession \\\n",
    "    .builder \\\n",
    "    .appName(\"Faker demo\") \\\n",
    "    .getOrCreate()"
   ]
  },
  {
   "cell_type": "code",
   "execution_count": 11,
   "metadata": {
    "execution": {
     "iopub.execute_input": "2024-03-11T15:47:36.364470Z",
     "iopub.status.busy": "2024-03-11T15:47:36.363917Z",
     "iopub.status.idle": "2024-03-11T15:47:38.265163Z",
     "shell.execute_reply": "2024-03-11T15:47:38.264391Z"
    },
    "id": "SYIUxAj569kI"
   },
   "outputs": [],
   "source": [
    "df = spark.createDataFrame(create_row_faker(5000))"
   ]
  },
  {
   "cell_type": "markdown",
   "metadata": {
    "id": "QbBAHBLF69kJ"
   },
   "source": [
    "To avoid getting the warning, either use [pyspark.sql.Row](https://spark.apache.org/docs/latest/api/python/pyspark.sql.html#pyspark.sql.Row) and let Spark infer datatypes or create a schema for the dataframe specifying the datatypes of all fields (here's the list of all [datatypes](http://spark.apache.org/docs/latest/api/python/pyspark.sql.html?highlight=types#module-pyspark.sql.types))."
   ]
  },
  {
   "cell_type": "code",
   "execution_count": 12,
   "metadata": {
    "execution": {
     "iopub.execute_input": "2024-03-11T15:47:38.269294Z",
     "iopub.status.busy": "2024-03-11T15:47:38.268768Z",
     "iopub.status.idle": "2024-03-11T15:47:38.273528Z",
     "shell.execute_reply": "2024-03-11T15:47:38.272856Z"
    },
    "id": "qwaQQ2Ud69kJ"
   },
   "outputs": [],
   "source": [
    "from pyspark.sql.types import *\n",
    "schema = StructType([StructField('name', StringType()),\n",
    "                     StructField('age',IntegerType()),\n",
    "                     StructField('postcode',StringType()),\n",
    "                     StructField('email', StringType()),\n",
    "                     StructField('nationality',StringType())])"
   ]
  },
  {
   "cell_type": "code",
   "execution_count": 13,
   "metadata": {
    "execution": {
     "iopub.execute_input": "2024-03-11T15:47:38.276749Z",
     "iopub.status.busy": "2024-03-11T15:47:38.276307Z",
     "iopub.status.idle": "2024-03-11T15:47:38.651175Z",
     "shell.execute_reply": "2024-03-11T15:47:38.650561Z"
    },
    "id": "NM4OqVld69kJ"
   },
   "outputs": [],
   "source": [
    "df = spark.createDataFrame(create_row_faker(5000), schema)"
   ]
  },
  {
   "cell_type": "code",
   "execution_count": 14,
   "metadata": {
    "colab": {
     "base_uri": "https://localhost:8080/"
    },
    "execution": {
     "iopub.execute_input": "2024-03-11T15:47:38.654157Z",
     "iopub.status.busy": "2024-03-11T15:47:38.653718Z",
     "iopub.status.idle": "2024-03-11T15:47:38.669436Z",
     "shell.execute_reply": "2024-03-11T15:47:38.668859Z"
    },
    "id": "NDPqZqnl69kJ",
    "outputId": "377ebb1c-4dbe-41e1-fc4f-3af97042fc1b"
   },
   "outputs": [
    {
     "name": "stdout",
     "output_type": "stream",
     "text": [
      "root\n",
      " |-- name: string (nullable = true)\n",
      " |-- age: integer (nullable = true)\n",
      " |-- postcode: string (nullable = true)\n",
      " |-- email: string (nullable = true)\n",
      " |-- nationality: string (nullable = true)\n",
      "\n"
     ]
    }
   ],
   "source": [
    "df.printSchema()"
   ]
  },
  {
   "cell_type": "markdown",
   "metadata": {
    "id": "HwsIhJxO69kJ"
   },
   "source": [
    "Let's generate some more data (dataframe with $5\\cdot10^4$ rows). The file will be partitioned by Spark."
   ]
  },
  {
   "cell_type": "code",
   "execution_count": 15,
   "metadata": {
    "colab": {
     "base_uri": "https://localhost:8080/"
    },
    "execution": {
     "iopub.execute_input": "2024-03-11T15:47:38.672290Z",
     "iopub.status.busy": "2024-03-11T15:47:38.671751Z",
     "iopub.status.idle": "2024-03-11T15:47:41.581277Z",
     "shell.execute_reply": "2024-03-11T15:47:41.580551Z"
    },
    "id": "KZtRuVeR69kJ",
    "outputId": "6f8a7dd0-02a8-4395-c7da-612365c8b082"
   },
   "outputs": [
    {
     "name": "stdout",
     "output_type": "stream",
     "text": [
      "CPU times: user 2.87 s, sys: 15.6 ms, total: 2.88 s\n",
      "Wall time: 2.91 s\n"
     ]
    }
   ],
   "source": [
    "%%time\n",
    "n = 5*10**4\n",
    "df = spark.createDataFrame(create_row_faker(n), schema)"
   ]
  },
  {
   "cell_type": "markdown",
   "metadata": {
    "id": "l0ZiQJKp69kJ"
   },
   "source": [
    "It took a long time (~4 sec. for 50000 rows)!\n",
    "\n",
    "Can we do better?"
   ]
  },
  {
   "cell_type": "markdown",
   "metadata": {
    "id": "6xI7IjQ669kK"
   },
   "source": [
    "The function `create_row_faker()` returns a list. This is not efficient, what we need is a _generator_ instead."
   ]
  },
  {
   "cell_type": "code",
   "execution_count": 16,
   "metadata": {
    "colab": {
     "base_uri": "https://localhost:8080/"
    },
    "execution": {
     "iopub.execute_input": "2024-03-11T15:47:41.584198Z",
     "iopub.status.busy": "2024-03-11T15:47:41.583794Z",
     "iopub.status.idle": "2024-03-11T15:47:41.588615Z",
     "shell.execute_reply": "2024-03-11T15:47:41.587972Z"
    },
    "id": "Bt2HncFZ69kK",
    "outputId": "347815f8-00bc-4c77-8029-7a5a76f85b71"
   },
   "outputs": [
    {
     "data": {
      "text/plain": [
       "list"
      ]
     },
     "execution_count": 16,
     "metadata": {},
     "output_type": "execute_result"
    }
   ],
   "source": [
    "d = create_row_faker(5)\n",
    "# what type is d?\n",
    "type(d)"
   ]
  },
  {
   "cell_type": "markdown",
   "metadata": {
    "id": "EC_IgTtY69kK"
   },
   "source": [
    "Now `d` is a generator"
   ]
  },
  {
   "cell_type": "code",
   "execution_count": 17,
   "metadata": {
    "colab": {
     "base_uri": "https://localhost:8080/"
    },
    "execution": {
     "iopub.execute_input": "2024-03-11T15:47:41.591286Z",
     "iopub.status.busy": "2024-03-11T15:47:41.590886Z",
     "iopub.status.idle": "2024-03-11T15:47:41.595995Z",
     "shell.execute_reply": "2024-03-11T15:47:41.595336Z"
    },
    "id": "9YjvEOTV69kK",
    "outputId": "b0400b20-efa8-4feb-9e1f-c956efc222cd"
   },
   "outputs": [
    {
     "data": {
      "text/plain": [
       "generator"
      ]
     },
     "execution_count": 17,
     "metadata": {},
     "output_type": "execute_result"
    }
   ],
   "source": [
    "d = ({\"name\": fake.name(),\n",
    "      \"age\": fake.random_int(0, 100),\n",
    "      \"postcode\": fake.postcode(),\n",
    "      \"email\": fake.email(),\n",
    "      \"nationality\": fake.country()} for i in range(5))\n",
    "# what type is d?\n",
    "type(d)"
   ]
  },
  {
   "cell_type": "code",
   "execution_count": 18,
   "metadata": {
    "colab": {
     "base_uri": "https://localhost:8080/"
    },
    "execution": {
     "iopub.execute_input": "2024-03-11T15:47:41.598397Z",
     "iopub.status.busy": "2024-03-11T15:47:41.598014Z",
     "iopub.status.idle": "2024-03-11T15:47:44.560312Z",
     "shell.execute_reply": "2024-03-11T15:47:44.559651Z"
    },
    "id": "BBdz-PJz69kK",
    "outputId": "7bc09338-b81d-4e33-c87c-01422d1cc749"
   },
   "outputs": [
    {
     "name": "stdout",
     "output_type": "stream",
     "text": [
      "CPU times: user 2.91 s, sys: 30.7 ms, total: 2.94 s\n",
      "Wall time: 2.96 s\n"
     ]
    }
   ],
   "source": [
    "%%time\n",
    "n = 5*10**4\n",
    "d = ({\"name\": fake.name(),\n",
    "      \"age\": fake.random_int(0, 100),\n",
    "      \"postcode\": fake.postcode(),\n",
    "      \"email\": fake.email(),\n",
    "      \"nationality\": fake.country()}\n",
    "     for i in range(n))\n",
    "df = spark.createDataFrame(d, schema)"
   ]
  },
  {
   "cell_type": "markdown",
   "metadata": {
    "id": "bd-jNkqk69kK"
   },
   "source": [
    "This wasn't faster.\n",
    "\n",
    "I will look into how one can leverage Hadoop's parallelism to generate dataframes and speed the process."
   ]
  },
  {
   "cell_type": "markdown",
   "metadata": {
    "id": "t_NNqOXPCbj3"
   },
   "source": [
    "## Filter and aggregate with PySpark"
   ]
  },
  {
   "cell_type": "code",
   "execution_count": 19,
   "metadata": {
    "colab": {
     "base_uri": "https://localhost:8080/",
     "height": 186
    },
    "execution": {
     "iopub.execute_input": "2024-03-11T15:47:44.563715Z",
     "iopub.status.busy": "2024-03-11T15:47:44.563279Z",
     "iopub.status.idle": "2024-03-11T15:47:44.567485Z",
     "shell.execute_reply": "2024-03-11T15:47:44.566844Z"
    },
    "id": "DyDn7tqS69kK",
    "outputId": "7ebe42de-a1a8-4933-dd89-128dd4ee530a"
   },
   "outputs": [
    {
     "data": {
      "text/plain": [
       "pyspark.sql.dataframe.DataFrame"
      ]
     },
     "execution_count": 19,
     "metadata": {},
     "output_type": "execute_result"
    }
   ],
   "source": [
    "type(df)"
   ]
  },
  {
   "cell_type": "markdown",
   "metadata": {
    "id": "c5X9Bz7g69kL"
   },
   "source": [
    "Show the first five records in the dataframe of fake data."
   ]
  },
  {
   "cell_type": "code",
   "execution_count": 20,
   "metadata": {
    "colab": {
     "base_uri": "https://localhost:8080/"
    },
    "execution": {
     "iopub.execute_input": "2024-03-11T15:47:44.569974Z",
     "iopub.status.busy": "2024-03-11T15:47:44.569603Z",
     "iopub.status.idle": "2024-03-11T15:47:46.822812Z",
     "shell.execute_reply": "2024-03-11T15:47:46.822004Z"
    },
    "id": "0RYAfYsx69kL",
    "outputId": "8066ee10-f105-42fe-b514-fc750ecb4b13"
   },
   "outputs": [
    {
     "name": "stderr",
     "output_type": "stream",
     "text": [
      "\r",
      "[Stage 0:>                                                          (0 + 1) / 1]\r",
      "\r",
      "                                                                                \r"
     ]
    },
    {
     "name": "stdout",
     "output_type": "stream",
     "text": [
      "+---------------------+---+--------+------------------------+-----------+\n",
      "|name                 |age|postcode|email                   |nationality|\n",
      "+---------------------+---+--------+------------------------+-----------+\n",
      "|Rudolf Rust          |76 |86566   |kornelia11@example.org  |Indonesien |\n",
      "|Kerstin Putz-Köster  |54 |18953   |qrudolph@example.org    |Kenia      |\n",
      "|Ivo Schinke B.Sc.    |3  |60202   |radischjames@example.net|Chile      |\n",
      "|Hans-Henning Staude  |82 |68552   |ladislaus89@example.com |Thailand   |\n",
      "|Justine Weinhage B.A.|53 |62346   |ytaesche@example.org    |Österreich |\n",
      "+---------------------+---+--------+------------------------+-----------+\n",
      "only showing top 5 rows\n",
      "\n"
     ]
    }
   ],
   "source": [
    "df.show(n=5, truncate=False)"
   ]
  },
  {
   "cell_type": "markdown",
   "metadata": {
    "id": "ikvl-9Mm69kL"
   },
   "source": [
    "Do some data aggregation:\n",
    " - group by postcode\n",
    " - count the number of persons and the average age for each postcode\n",
    " - filter out postcodes with less than 4 persons\n",
    " - sort by average age descending\n",
    " - show the first 5 entries"
   ]
  },
  {
   "cell_type": "code",
   "execution_count": 21,
   "metadata": {
    "colab": {
     "base_uri": "https://localhost:8080/"
    },
    "execution": {
     "iopub.execute_input": "2024-03-11T15:47:46.826550Z",
     "iopub.status.busy": "2024-03-11T15:47:46.826282Z",
     "iopub.status.idle": "2024-03-11T15:47:48.704566Z",
     "shell.execute_reply": "2024-03-11T15:47:48.703782Z"
    },
    "id": "1lr4WKxt69kL",
    "outputId": "5a15bd58-23dc-46db-df7c-67ae48af6b42"
   },
   "outputs": [
    {
     "name": "stderr",
     "output_type": "stream",
     "text": [
      "\r",
      "[Stage 1:>                                                          (0 + 4) / 4]\r"
     ]
    },
    {
     "name": "stdout",
     "output_type": "stream",
     "text": [
      "+--------+-----+-----------+\n",
      "|postcode|Count|Average age|\n",
      "+--------+-----+-----------+\n",
      "|   18029|    4|      91.75|\n",
      "|   67611|    4|       87.0|\n",
      "|   47898|    4|       85.5|\n",
      "|   45386|    4|      82.75|\n",
      "|   46755|    4|       78.5|\n",
      "+--------+-----+-----------+\n",
      "only showing top 5 rows\n",
      "\n"
     ]
    },
    {
     "name": "stderr",
     "output_type": "stream",
     "text": [
      "\r",
      "                                                                                \r"
     ]
    }
   ],
   "source": [
    "import pyspark.sql.functions as F\n",
    "df.groupBy('postcode') \\\n",
    "  .agg(F.count('postcode').alias('Count'), F.round(F.avg('age'), 2).alias('Average age')) \\\n",
    "  .filter('Count>3') \\\n",
    "  .orderBy('Average age', ascending=False) \\\n",
    "  .show(5)"
   ]
  },
  {
   "cell_type": "markdown",
   "metadata": {
    "id": "PP4TeBbh69kL"
   },
   "source": [
    "Postcode $18029$ has the highest average age ($91.75$). Show all entries for postcode $18029$ using `filter`."
   ]
  },
  {
   "cell_type": "code",
   "execution_count": 22,
   "metadata": {
    "colab": {
     "base_uri": "https://localhost:8080/"
    },
    "execution": {
     "iopub.execute_input": "2024-03-11T15:47:48.708859Z",
     "iopub.status.busy": "2024-03-11T15:47:48.708561Z",
     "iopub.status.idle": "2024-03-11T15:47:49.042369Z",
     "shell.execute_reply": "2024-03-11T15:47:49.041653Z"
    },
    "id": "_6NsPWUt69kL",
    "outputId": "0ed58e60-7a25-4d21-ee73-243da451e180"
   },
   "outputs": [
    {
     "name": "stdout",
     "output_type": "stream",
     "text": [
      "+---------------------------+---+--------+------------------------------+------------------+\n",
      "|name                       |age|postcode|email                         |nationality       |\n",
      "+---------------------------+---+--------+------------------------------+------------------+\n",
      "|Univ.Prof. Roderich Liebelt|89 |18029   |anne-katrinscholtz@example.com|Grönland          |\n",
      "|Herwig Matthäi B.A.        |90 |18029   |steinberggerta@example.com    |Amerikanisch-Samoa|\n",
      "|Univ.Prof. Mijo Weihmann   |92 |18029   |hoevelantonius@example.net    |Niederlande       |\n",
      "|Aynur Karz B.Eng.          |96 |18029   |cschleich@example.com         |Puerto Rico       |\n",
      "+---------------------------+---+--------+------------------------------+------------------+\n",
      "\n"
     ]
    }
   ],
   "source": [
    "df.filter('postcode==18029').show(truncate=False)"
   ]
  },
  {
   "cell_type": "markdown",
   "metadata": {
    "id": "_Ib139jd69kL"
   },
   "source": [
    "# Another example with multiple locales and weights\n",
    "\n",
    "We are going to use multiple locales with weights (following the [examples](https://faker.readthedocs.io/en/master/fakerclass.html#examples) in the documentation).\n",
    "\n",
    "Here's the [list of all available locales](https://faker.readthedocs.io/en/master/locales.html)."
   ]
  },
  {
   "cell_type": "code",
   "execution_count": 23,
   "metadata": {
    "execution": {
     "iopub.execute_input": "2024-03-11T15:47:49.046268Z",
     "iopub.status.busy": "2024-03-11T15:47:49.046005Z",
     "iopub.status.idle": "2024-03-11T15:47:49.049810Z",
     "shell.execute_reply": "2024-03-11T15:47:49.049091Z"
    },
    "id": "eXBHg-x269kL"
   },
   "outputs": [],
   "source": [
    "from faker import Faker\n",
    "# set a seed for the random generator\n",
    "Faker.seed(0)"
   ]
  },
  {
   "cell_type": "markdown",
   "metadata": {
    "id": "ssmNP9zR_Ldb"
   },
   "source": [
    "Generate data with locales `de_DE` and `de_AT` with weights respectively $5$ and $2$.\n",
    "\n",
    "The distribution of locales will be:\n",
    " - `de_DE` - $71.43\\%$ of the time ($5 / (5+2)$)\n",
    " - `de_AT` - $28.57\\%$ of the time ($2 / (5+2)$)\n"
   ]
  },
  {
   "cell_type": "code",
   "execution_count": 24,
   "metadata": {
    "colab": {
     "base_uri": "https://localhost:8080/"
    },
    "execution": {
     "iopub.execute_input": "2024-03-11T15:47:49.052968Z",
     "iopub.status.busy": "2024-03-11T15:47:49.052701Z",
     "iopub.status.idle": "2024-03-11T15:47:49.114868Z",
     "shell.execute_reply": "2024-03-11T15:47:49.114197Z"
    },
    "id": "j0XFMtOf69kT",
    "outputId": "ac8da24a-aac3-4973-8ca2-53e89cecdc00"
   },
   "outputs": [
    {
     "data": {
      "text/plain": [
       "['de_DE', 'de_AT']"
      ]
     },
     "execution_count": 24,
     "metadata": {},
     "output_type": "execute_result"
    }
   ],
   "source": [
    "from collections import OrderedDict\n",
    "locales = OrderedDict([\n",
    "    ('de_DE', 5),\n",
    "    ('de_AT', 2),\n",
    "])\n",
    "fake = Faker(locales)\n",
    "fake.seed_instance(42)\n",
    "fake.locales"
   ]
  },
  {
   "cell_type": "code",
   "execution_count": 25,
   "metadata": {
    "execution": {
     "iopub.execute_input": "2024-03-11T15:47:49.117591Z",
     "iopub.status.busy": "2024-03-11T15:47:49.117136Z",
     "iopub.status.idle": "2024-03-11T15:47:49.120249Z",
     "shell.execute_reply": "2024-03-11T15:47:49.119636Z"
    },
    "id": "LHCsMtbR69kU"
   },
   "outputs": [],
   "source": [
    "fake.seed_locale('de_DE', 0)\n",
    "fake.seed_locale('de_AT', 0)"
   ]
  },
  {
   "cell_type": "code",
   "execution_count": 26,
   "metadata": {
    "colab": {
     "base_uri": "https://localhost:8080/"
    },
    "execution": {
     "iopub.execute_input": "2024-03-11T15:47:49.122829Z",
     "iopub.status.busy": "2024-03-11T15:47:49.122446Z",
     "iopub.status.idle": "2024-03-11T15:47:49.127625Z",
     "shell.execute_reply": "2024-03-11T15:47:49.127014Z"
    },
    "id": "gUS9h0A669kU",
    "outputId": "70fa2cd9-98c9-4dd0-d441-052b1cf5e1e6"
   },
   "outputs": [
    {
     "data": {
      "text/plain": [
       "{'current_location': (Decimal('26.547114'), Decimal('-10.243190')),\n",
       " 'blood_group': 'B-',\n",
       " 'name': 'Axel Jung',\n",
       " 'sex': 'M',\n",
       " 'mail': 'claragollner@gmail.com',\n",
       " 'birthdate': datetime.date(2003, 6, 25)}"
      ]
     },
     "execution_count": 26,
     "metadata": {},
     "output_type": "execute_result"
    }
   ],
   "source": [
    "fake.profile(fields=['name', 'birthdate', 'sex', 'blood_group',\n",
    "                     'mail', 'current_location'])"
   ]
  },
  {
   "cell_type": "code",
   "execution_count": 27,
   "metadata": {
    "execution": {
     "iopub.execute_input": "2024-03-11T15:47:49.130092Z",
     "iopub.status.busy": "2024-03-11T15:47:49.129636Z",
     "iopub.status.idle": "2024-03-11T15:47:49.133668Z",
     "shell.execute_reply": "2024-03-11T15:47:49.133119Z"
    },
    "id": "PiSKooLQ69kU"
   },
   "outputs": [],
   "source": [
    "from pyspark.sql.types import *\n",
    "location = StructField('current_location',\n",
    "                       StructType([StructField('lat', DecimalType()),\n",
    "                                   StructField('lon', DecimalType())])\n",
    "                      )\n",
    "schema = StructType([StructField('name', StringType()),\n",
    "                     StructField('birthdate', DateType()),\n",
    "                     StructField('sex', StringType()),\n",
    "                     StructField('blood_group', StringType()),\n",
    "                     StructField('mail', StringType()),\n",
    "                     location\n",
    "                     ])"
   ]
  },
  {
   "cell_type": "code",
   "execution_count": 28,
   "metadata": {
    "colab": {
     "base_uri": "https://localhost:8080/"
    },
    "execution": {
     "iopub.execute_input": "2024-03-11T15:47:49.136070Z",
     "iopub.status.busy": "2024-03-11T15:47:49.135628Z",
     "iopub.status.idle": "2024-03-11T15:47:49.140560Z",
     "shell.execute_reply": "2024-03-11T15:47:49.139996Z"
    },
    "id": "8j35IGPd69kU",
    "outputId": "22ba1c61-b965-4c1d-9c77-8b4fc024cf40"
   },
   "outputs": [
    {
     "data": {
      "text/plain": [
       "{'current_location': (Decimal('79.153888'), Decimal('-0.003034')),\n",
       " 'blood_group': 'B-',\n",
       " 'name': 'Dr. Anita Suppan',\n",
       " 'sex': 'F',\n",
       " 'mail': 'schauerbenedict@kabsi.at',\n",
       " 'birthdate': datetime.date(1980, 3, 7)}"
      ]
     },
     "execution_count": 28,
     "metadata": {},
     "output_type": "execute_result"
    }
   ],
   "source": [
    "fake.profile(fields=['name', 'birthdate', 'sex', 'blood_group',\n",
    "                     'mail', 'current_location'])"
   ]
  },
  {
   "cell_type": "code",
   "execution_count": 29,
   "metadata": {
    "execution": {
     "iopub.execute_input": "2024-03-11T15:47:49.143007Z",
     "iopub.status.busy": "2024-03-11T15:47:49.142637Z",
     "iopub.status.idle": "2024-03-11T15:47:49.151069Z",
     "shell.execute_reply": "2024-03-11T15:47:49.150310Z"
    },
    "id": "mBHUAB8Z69kU"
   },
   "outputs": [
    {
     "name": "stderr",
     "output_type": "stream",
     "text": [
      "24/03/11 15:47:49 WARN SparkSession: Using an existing Spark session; only runtime SQL configurations will take effect.\n"
     ]
    }
   ],
   "source": [
    "from pyspark.sql import SparkSession\n",
    "spark = SparkSession \\\n",
    "    .builder \\\n",
    "    .appName(\"Faker demo - part 2\") \\\n",
    "    .getOrCreate()"
   ]
  },
  {
   "cell_type": "markdown",
   "metadata": {
    "id": "6gjkL0XM69kU"
   },
   "source": [
    "Create dataframe with $5\\cdot10^3$ rows."
   ]
  },
  {
   "cell_type": "code",
   "execution_count": 30,
   "metadata": {
    "colab": {
     "base_uri": "https://localhost:8080/"
    },
    "execution": {
     "iopub.execute_input": "2024-03-11T15:47:49.154687Z",
     "iopub.status.busy": "2024-03-11T15:47:49.153703Z",
     "iopub.status.idle": "2024-03-11T15:47:50.811815Z",
     "shell.execute_reply": "2024-03-11T15:47:50.810986Z"
    },
    "id": "pKxvxwDK69kU",
    "outputId": "eddad2ac-a161-4b37-e650-5926d26329c8"
   },
   "outputs": [
    {
     "name": "stdout",
     "output_type": "stream",
     "text": [
      "CPU times: user 1.57 s, sys: 3.54 ms, total: 1.58 s\n",
      "Wall time: 1.65 s\n"
     ]
    }
   ],
   "source": [
    "%%time\n",
    "n = 5*10**3\n",
    "d = (fake.profile(fields=['name', 'birthdate', 'sex', 'blood_group',\n",
    "                          'mail', 'current_location'])\n",
    "     for i in range(n))\n",
    "df = spark.createDataFrame(d, schema)"
   ]
  },
  {
   "cell_type": "code",
   "execution_count": 31,
   "metadata": {
    "colab": {
     "base_uri": "https://localhost:8080/"
    },
    "execution": {
     "iopub.execute_input": "2024-03-11T15:47:50.814834Z",
     "iopub.status.busy": "2024-03-11T15:47:50.814362Z",
     "iopub.status.idle": "2024-03-11T15:47:50.819199Z",
     "shell.execute_reply": "2024-03-11T15:47:50.818532Z"
    },
    "id": "XbsEgC1d69kY",
    "outputId": "445f3b9f-cc72-4478-990f-76b7e34896c3"
   },
   "outputs": [
    {
     "name": "stdout",
     "output_type": "stream",
     "text": [
      "root\n",
      " |-- name: string (nullable = true)\n",
      " |-- birthdate: date (nullable = true)\n",
      " |-- sex: string (nullable = true)\n",
      " |-- blood_group: string (nullable = true)\n",
      " |-- mail: string (nullable = true)\n",
      " |-- current_location: struct (nullable = true)\n",
      " |    |-- lat: decimal(10,0) (nullable = true)\n",
      " |    |-- lon: decimal(10,0) (nullable = true)\n",
      "\n"
     ]
    }
   ],
   "source": [
    "df.printSchema()"
   ]
  },
  {
   "cell_type": "markdown",
   "metadata": {
    "id": "f-SQ-dsb69kY"
   },
   "source": [
    "Note how `location` represents a _tuple_ data structure (a `StructType` of `StructField`s)."
   ]
  },
  {
   "cell_type": "code",
   "execution_count": 32,
   "metadata": {
    "colab": {
     "base_uri": "https://localhost:8080/"
    },
    "execution": {
     "iopub.execute_input": "2024-03-11T15:47:50.822084Z",
     "iopub.status.busy": "2024-03-11T15:47:50.821841Z",
     "iopub.status.idle": "2024-03-11T15:47:50.982107Z",
     "shell.execute_reply": "2024-03-11T15:47:50.981305Z"
    },
    "id": "Rut1uSF069kY",
    "outputId": "3acfe637-7745-4a01-8ebe-c497b7c57bf0"
   },
   "outputs": [
    {
     "name": "stdout",
     "output_type": "stream",
     "text": [
      "+-----------------------+----------+---+-----------+-----------------------------+----------------+\n",
      "|name                   |birthdate |sex|blood_group|mail                         |current_location|\n",
      "+-----------------------+----------+---+-----------+-----------------------------+----------------+\n",
      "|Prof. Valentine Noack  |1979-04-10|F  |B-         |maricagotthard@aol.de        |{74, 164}       |\n",
      "|Magrit Graf            |1943-02-11|F  |A-         |hartungclaudio@web.de        |{-86, -34}      |\n",
      "|Harriet Weller-Lindau  |1959-12-21|F  |AB+        |heserhilma@gmail.com         |{20, 126}       |\n",
      "|Ing. Walfried Roskoth  |1912-04-30|M  |B-         |kambsliane@hotmail.de        |{73, 169}       |\n",
      "|Alexa Loidl-Schönberger|1934-01-26|F  |O-         |hannafroehlich@gmail.com     |{-23, -117}     |\n",
      "|Hans-Erich Hartmann    |1971-07-29|M  |O-         |vadimkostolzin@gmx.de        |{39, -118}      |\n",
      "|Ing. Sofia Fritsch B.A.|1966-12-27|F  |A-         |weinhagehans-christian@gmx.de|{-11, 73}       |\n",
      "|Rahel Zahn MBA.        |1999-10-12|F  |O-         |kathrin37@gmx.de             |{-77, -126}     |\n",
      "|Prof. Violetta Eberl   |1913-02-05|F  |B+         |lars24@chello.at             |{80, -135}      |\n",
      "|Gudula Täsche-Barth    |1970-01-17|F  |O-         |hans-eberhard91@aol.de       |{22, -164}      |\n",
      "+-----------------------+----------+---+-----------+-----------------------------+----------------+\n",
      "only showing top 10 rows\n",
      "\n"
     ]
    }
   ],
   "source": [
    "df.show(n=10, truncate=False)"
   ]
  },
  {
   "cell_type": "markdown",
   "metadata": {
    "id": "KSCL83BVC3xu"
   },
   "source": [
    "# Save to Parquet"
   ]
  },
  {
   "cell_type": "markdown",
   "metadata": {
    "id": "fw7FSGff69kY"
   },
   "source": [
    "[Write to parquet](https://spark.apache.org/docs/latest/api/python/pyspark.sql.html?highlight=write#pyspark.sql.DataFrameWriter.parquet) file ([Parquet](http://parquet.apache.org/) is a compressed, efficient columnar data representation compatible with all frameworks in the Hadoop ecosystem):"
   ]
  },
  {
   "cell_type": "code",
   "execution_count": 33,
   "metadata": {
    "execution": {
     "iopub.execute_input": "2024-03-11T15:47:50.985416Z",
     "iopub.status.busy": "2024-03-11T15:47:50.984845Z",
     "iopub.status.idle": "2024-03-11T15:47:52.095939Z",
     "shell.execute_reply": "2024-03-11T15:47:52.095102Z"
    },
    "id": "VcTsZQXI69kZ"
   },
   "outputs": [
    {
     "name": "stderr",
     "output_type": "stream",
     "text": [
      "\r",
      "[Stage 7:>                                                          (0 + 4) / 4]\r"
     ]
    },
    {
     "name": "stderr",
     "output_type": "stream",
     "text": [
      "\r",
      "                                                                                \r"
     ]
    }
   ],
   "source": [
    "df.write.mode(\"overwrite\").parquet(\"fakedata.parquet\")"
   ]
  },
  {
   "cell_type": "markdown",
   "metadata": {
    "id": "2LjMN4zy69kZ"
   },
   "source": [
    "Check the size of parquet file (it is actually a directory containing the partitions):"
   ]
  },
  {
   "cell_type": "code",
   "execution_count": 34,
   "metadata": {
    "colab": {
     "base_uri": "https://localhost:8080/"
    },
    "execution": {
     "iopub.execute_input": "2024-03-11T15:47:52.099616Z",
     "iopub.status.busy": "2024-03-11T15:47:52.099340Z",
     "iopub.status.idle": "2024-03-11T15:47:52.230602Z",
     "shell.execute_reply": "2024-03-11T15:47:52.229958Z"
    },
    "id": "Q3mJjr6q69kZ",
    "outputId": "181e5836-2a5a-4e30-8327-3bfb53da0e39"
   },
   "outputs": [
    {
     "name": "stdout",
     "output_type": "stream",
     "text": [
      "212K\tfakedata.parquet\r\n"
     ]
    }
   ],
   "source": [
    "!du -h fakedata.parquet"
   ]
  },
  {
   "cell_type": "code",
   "execution_count": 35,
   "metadata": {
    "colab": {
     "base_uri": "https://localhost:8080/"
    },
    "execution": {
     "iopub.execute_input": "2024-03-11T15:47:52.233351Z",
     "iopub.status.busy": "2024-03-11T15:47:52.233137Z",
     "iopub.status.idle": "2024-03-11T15:47:52.359955Z",
     "shell.execute_reply": "2024-03-11T15:47:52.359348Z"
    },
    "id": "Pju4GyKL-DAn",
    "outputId": "90d5de7c-7ec2-46ef-d01b-fdae2507efc0"
   },
   "outputs": [
    {
     "name": "stdout",
     "output_type": "stream",
     "text": [
      "total 188K\r\n",
      "-rw-r--r-- 1 runner docker   0 Mar 11 15:47 _SUCCESS\r\n",
      "-rw-r--r-- 1 runner docker 39K Mar 11 15:47 part-00000-e7a49c2b-378a-448e-aa6e-0e28fbefc0c6-c000.snappy.parquet\r\n",
      "-rw-r--r-- 1 runner docker 40K Mar 11 15:47 part-00001-e7a49c2b-378a-448e-aa6e-0e28fbefc0c6-c000.snappy.parquet\r\n",
      "-rw-r--r-- 1 runner docker 39K Mar 11 15:47 part-00002-e7a49c2b-378a-448e-aa6e-0e28fbefc0c6-c000.snappy.parquet\r\n",
      "-rw-r--r-- 1 runner docker 67K Mar 11 15:47 part-00003-e7a49c2b-378a-448e-aa6e-0e28fbefc0c6-c000.snappy.parquet\r\n"
     ]
    }
   ],
   "source": [
    "!ls -lh fakedata.parquet"
   ]
  },
  {
   "cell_type": "markdown",
   "metadata": {
    "id": "JAwKdWmcC-ib"
   },
   "source": [
    "# Stop Spark session"
   ]
  },
  {
   "cell_type": "markdown",
   "metadata": {
    "id": "JBG-CEbV69kZ"
   },
   "source": [
    "Don't forget to close the Spark session when you're done!"
   ]
  },
  {
   "cell_type": "code",
   "execution_count": 36,
   "metadata": {
    "execution": {
     "iopub.execute_input": "2024-03-11T15:47:52.362963Z",
     "iopub.status.busy": "2024-03-11T15:47:52.362525Z",
     "iopub.status.idle": "2024-03-11T15:47:53.063540Z",
     "shell.execute_reply": "2024-03-11T15:47:53.062948Z"
    },
    "id": "MsCutnmw69kZ"
   },
   "outputs": [],
   "source": [
    "spark.stop()"
   ]
  }
 ],
 "metadata": {
  "colab": {
   "include_colab_link": true,
   "provenance": [],
   "toc_visible": true
  },
  "kernelspec": {
   "display_name": "Python 3",
   "language": "python",
   "name": "python3"
  },
  "language_info": {
   "codemirror_mode": {
    "name": "ipython",
    "version": 3
   },
   "file_extension": ".py",
   "mimetype": "text/x-python",
   "name": "python",
   "nbconvert_exporter": "python",
   "pygments_lexer": "ipython3",
   "version": "3.8.18"
  }
 },
 "nbformat": 4,
 "nbformat_minor": 0
}
