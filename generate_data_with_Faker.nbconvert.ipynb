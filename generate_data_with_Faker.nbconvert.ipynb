{
 "cells": [
  {
   "cell_type": "markdown",
   "metadata": {
    "colab_type": "text",
    "id": "view-in-github"
   },
   "source": [
    "<a href=\"https://colab.research.google.com/github/groda/big_data/blob/master/generate_data_with_Faker.ipynb\" target=\"_parent\"><img src=\"https://colab.research.google.com/assets/colab-badge.svg\" alt=\"Open In Colab\"/></a>"
   ]
  },
  {
   "cell_type": "markdown",
   "metadata": {
    "id": "hwLHeIOc69kD"
   },
   "source": [
    "<a href=\"https://github.com/groda/big_data\"><div><img src=\"https://github.com/groda/big_data/blob/master/logo_bdb.png?raw=true\" align=right width=\"90\"></div></a>\n",
    "\n",
    "# Data Generation and Aggregation with Python's Faker Library and PySpark\n",
    "<br>\n",
    "<br>\n",
    "\n",
    "Explore the capabilities of the Python Faker library (https://faker.readthedocs.io/) for dynamic data generation!\n",
    "\n",
    "Whether you're a data scientist, engineer, or analyst, this tutorial will guide you through the process of creating realistic and diverse datasets using Faker and then harnessing the distributed computing capabilities of PySpark to aggregate and analyze the generated data.\n",
    "\n",
    "\n",
    "\n",
    "**Note:** This is not _synthetic_ data as it is generated using simple methods and will most likely not fit any real-life distribution. Still, it serves as a valuable resource for testing purposes when authentic data is unavailable."
   ]
  },
  {
   "cell_type": "markdown",
   "metadata": {
    "id": "BW6yZdpy7run"
   },
   "source": [
    "# Install Faker\n",
    "\n",
    "The Python `faker` module needs to be installed. Note that on Google Colab you can use `!pip` as well as just `pip` (no exclamation mark)."
   ]
  },
  {
   "cell_type": "code",
   "execution_count": 1,
   "metadata": {
    "colab": {
     "base_uri": "https://localhost:8080/"
    },
    "execution": {
     "iopub.execute_input": "2024-10-13T09:42:49.295964Z",
     "iopub.status.busy": "2024-10-13T09:42:49.295769Z",
     "iopub.status.idle": "2024-10-13T09:42:51.580394Z",
     "shell.execute_reply": "2024-10-13T09:42:51.579578Z"
    },
    "id": "7EOLVOTe7KnP",
    "outputId": "b72af9eb-9fa4-46ed-da58-1d497c43fe8b"
   },
   "outputs": [
    {
     "name": "stdout",
     "output_type": "stream",
     "text": [
      "Collecting faker\r\n"
     ]
    },
    {
     "name": "stdout",
     "output_type": "stream",
     "text": [
      "  Downloading Faker-30.3.0-py3-none-any.whl.metadata (15 kB)\r\n"
     ]
    },
    {
     "name": "stdout",
     "output_type": "stream",
     "text": [
      "Requirement already satisfied: python-dateutil>=2.4 in /opt/hostedtoolcache/Python/3.8.18/x64/lib/python3.8/site-packages (from faker) (2.9.0.post0)\r\n",
      "Requirement already satisfied: typing-extensions in /opt/hostedtoolcache/Python/3.8.18/x64/lib/python3.8/site-packages (from faker) (4.12.2)\r\n",
      "Requirement already satisfied: six>=1.5 in /opt/hostedtoolcache/Python/3.8.18/x64/lib/python3.8/site-packages (from python-dateutil>=2.4->faker) (1.16.0)\r\n",
      "Downloading Faker-30.3.0-py3-none-any.whl (1.8 MB)\r\n",
      "\u001b[?25l   \u001b[90m━━━━━━━━━━━━━━━━━━━━━━━━━━━━━━━━━━━━━━━━\u001b[0m \u001b[32m0.0/1.8 MB\u001b[0m \u001b[31m?\u001b[0m eta \u001b[36m-:--:--\u001b[0m"
     ]
    },
    {
     "name": "stdout",
     "output_type": "stream",
     "text": [
      "\r",
      "\u001b[2K   \u001b[90m━━━━━━━━━━━━━━━━━━━━━━━━━━━━━━━━━━━━━━━━\u001b[0m \u001b[32m1.8/1.8 MB\u001b[0m \u001b[31m27.8 MB/s\u001b[0m eta \u001b[36m0:00:00\u001b[0m\r\n",
      "\u001b[?25h"
     ]
    },
    {
     "name": "stdout",
     "output_type": "stream",
     "text": [
      "Installing collected packages: faker\r\n"
     ]
    },
    {
     "name": "stdout",
     "output_type": "stream",
     "text": [
      "Successfully installed faker-30.3.0\r\n"
     ]
    }
   ],
   "source": [
    "!pip install faker"
   ]
  },
  {
   "cell_type": "markdown",
   "metadata": {
    "id": "UYLa4gsrB7aS"
   },
   "source": [
    "# Generate a Pandas dataframe with fake data"
   ]
  },
  {
   "cell_type": "markdown",
   "metadata": {
    "id": "yKviUSgj7nHP"
   },
   "source": [
    "Import `Faker` and set a random seed ($42$)."
   ]
  },
  {
   "cell_type": "code",
   "execution_count": 2,
   "metadata": {
    "execution": {
     "iopub.execute_input": "2024-10-13T09:42:51.583066Z",
     "iopub.status.busy": "2024-10-13T09:42:51.582842Z",
     "iopub.status.idle": "2024-10-13T09:42:51.633403Z",
     "shell.execute_reply": "2024-10-13T09:42:51.632784Z"
    },
    "id": "7fbGCBoq69kF"
   },
   "outputs": [],
   "source": [
    "from faker import Faker\n",
    "# Set the seed value of the shared `random.Random` object\n",
    "# across all internal generators that will ever be created\n",
    "Faker.seed(42)"
   ]
  },
  {
   "cell_type": "markdown",
   "metadata": {
    "id": "yUEes2gl69kF"
   },
   "source": [
    "`fake` is a fake data generator with `DE_de` locale."
   ]
  },
  {
   "cell_type": "code",
   "execution_count": 3,
   "metadata": {
    "execution": {
     "iopub.execute_input": "2024-10-13T09:42:51.635592Z",
     "iopub.status.busy": "2024-10-13T09:42:51.635389Z",
     "iopub.status.idle": "2024-10-13T09:42:51.663696Z",
     "shell.execute_reply": "2024-10-13T09:42:51.663025Z"
    },
    "id": "Bf7UTx_r69kG"
   },
   "outputs": [],
   "source": [
    "fake = Faker('de_DE')\n",
    "fake.seed_locale('de_DE', 42)\n",
    "# Creates and seeds a unique `random.Random` object for\n",
    "# each internal generator of this `Faker` instance\n",
    "fake.seed_instance(42)"
   ]
  },
  {
   "cell_type": "markdown",
   "metadata": {
    "id": "0bSXBUI469kG"
   },
   "source": [
    "Import Pandas to save data into a dataframe"
   ]
  },
  {
   "cell_type": "code",
   "execution_count": 4,
   "metadata": {
    "execution": {
     "iopub.execute_input": "2024-10-13T09:42:51.665924Z",
     "iopub.status.busy": "2024-10-13T09:42:51.665665Z",
     "iopub.status.idle": "2024-10-13T09:42:56.529902Z",
     "shell.execute_reply": "2024-10-13T09:42:56.529285Z"
    },
    "id": "PI_YqfM169kG"
   },
   "outputs": [
    {
     "name": "stdout",
     "output_type": "stream",
     "text": [
      "Collecting pandas==1.5.3\r\n"
     ]
    },
    {
     "name": "stdout",
     "output_type": "stream",
     "text": [
      "  Downloading pandas-1.5.3-cp38-cp38-manylinux_2_17_x86_64.manylinux2014_x86_64.whl.metadata (11 kB)\r\n"
     ]
    },
    {
     "name": "stdout",
     "output_type": "stream",
     "text": [
      "Requirement already satisfied: python-dateutil>=2.8.1 in /opt/hostedtoolcache/Python/3.8.18/x64/lib/python3.8/site-packages (from pandas==1.5.3) (2.9.0.post0)\r\n",
      "Requirement already satisfied: pytz>=2020.1 in /opt/hostedtoolcache/Python/3.8.18/x64/lib/python3.8/site-packages (from pandas==1.5.3) (2024.2)\r\n",
      "Requirement already satisfied: numpy>=1.20.3 in /opt/hostedtoolcache/Python/3.8.18/x64/lib/python3.8/site-packages (from pandas==1.5.3) (1.24.4)\r\n",
      "Requirement already satisfied: six>=1.5 in /opt/hostedtoolcache/Python/3.8.18/x64/lib/python3.8/site-packages (from python-dateutil>=2.8.1->pandas==1.5.3) (1.16.0)\r\n",
      "Downloading pandas-1.5.3-cp38-cp38-manylinux_2_17_x86_64.manylinux2014_x86_64.whl (12.2 MB)\r\n",
      "\u001b[?25l   \u001b[90m━━━━━━━━━━━━━━━━━━━━━━━━━━━━━━━━━━━━━━━━\u001b[0m \u001b[32m0.0/12.2 MB\u001b[0m \u001b[31m?\u001b[0m eta \u001b[36m-:--:--\u001b[0m"
     ]
    },
    {
     "name": "stdout",
     "output_type": "stream",
     "text": [
      "\r",
      "\u001b[2K   \u001b[91m━━━━━━━━━━━━━━━━━━━━━━━━━━━━━━━━━━━━━━━\u001b[0m\u001b[91m╸\u001b[0m \u001b[32m12.1/12.2 MB\u001b[0m \u001b[31m102.1 MB/s\u001b[0m eta \u001b[36m0:00:01\u001b[0m\r",
      "\u001b[2K   \u001b[90m━━━━━━━━━━━━━━━━━━━━━━━━━━━━━━━━━━━━━━━━\u001b[0m \u001b[32m12.2/12.2 MB\u001b[0m \u001b[31m81.8 MB/s\u001b[0m eta \u001b[36m0:00:00\u001b[0m\r\n",
      "\u001b[?25h"
     ]
    },
    {
     "name": "stdout",
     "output_type": "stream",
     "text": [
      "Installing collected packages: pandas\r\n",
      "  Attempting uninstall: pandas\r\n",
      "    Found existing installation: pandas 2.0.3\r\n"
     ]
    },
    {
     "name": "stdout",
     "output_type": "stream",
     "text": [
      "    Uninstalling pandas-2.0.3:\r\n",
      "      Successfully uninstalled pandas-2.0.3\r\n"
     ]
    },
    {
     "name": "stdout",
     "output_type": "stream",
     "text": [
      "Successfully installed pandas-1.5.3\r\n"
     ]
    }
   ],
   "source": [
    "# true if running on Google Colab\n",
    "import sys\n",
    "IN_COLAB = 'google.colab' in sys.modules\n",
    "if not IN_COLAB:\n",
    " !pip install pandas==1.5.3\n",
    "\n",
    "import pandas as pd"
   ]
  },
  {
   "cell_type": "markdown",
   "metadata": {
    "id": "LjCsGikw69kG"
   },
   "source": [
    "The function `create_row_faker` creates one row of fake data. Here we choose to generate a row containing the following fields:\n",
    " - `fake.name()`\n",
    " - `fake.postcode()`\n",
    " - `fake.email()`\n",
    " - `fake.country()`."
   ]
  },
  {
   "cell_type": "code",
   "execution_count": 5,
   "metadata": {
    "execution": {
     "iopub.execute_input": "2024-10-13T09:42:56.532874Z",
     "iopub.status.busy": "2024-10-13T09:42:56.532119Z",
     "iopub.status.idle": "2024-10-13T09:42:56.536341Z",
     "shell.execute_reply": "2024-10-13T09:42:56.535701Z"
    },
    "id": "f1MiSZl069kG"
   },
   "outputs": [],
   "source": [
    "def create_row_faker(num=1):\n",
    "    output = [{\"name\": fake.name(),\n",
    "               \"age\": fake.random_int(0, 100),\n",
    "               \"postcode\": fake.postcode(),\n",
    "               \"email\": fake.email(),\n",
    "               \"nationality\": fake.country(),\n",
    "              } for x in range(num)]\n",
    "    return output"
   ]
  },
  {
   "cell_type": "markdown",
   "metadata": {
    "id": "TeuZISIh69kH"
   },
   "source": [
    "Generate a single row"
   ]
  },
  {
   "cell_type": "code",
   "execution_count": 6,
   "metadata": {
    "colab": {
     "base_uri": "https://localhost:8080/"
    },
    "execution": {
     "iopub.execute_input": "2024-10-13T09:42:56.538644Z",
     "iopub.status.busy": "2024-10-13T09:42:56.538286Z",
     "iopub.status.idle": "2024-10-13T09:42:56.546391Z",
     "shell.execute_reply": "2024-10-13T09:42:56.545805Z"
    },
    "id": "wXP-5uSg69kH",
    "outputId": "e5d284c3-2587-451d-aab8-45f9ba7c99d5"
   },
   "outputs": [
    {
     "data": {
      "text/plain": [
       "[{'name': 'Aleksandr Weihmann',\n",
       "  'age': 35,\n",
       "  'postcode': '32181',\n",
       "  'email': 'bbeckmann@example.org',\n",
       "  'nationality': 'Fidschi'}]"
      ]
     },
     "execution_count": 6,
     "metadata": {},
     "output_type": "execute_result"
    }
   ],
   "source": [
    "create_row_faker()"
   ]
  },
  {
   "cell_type": "markdown",
   "metadata": {
    "id": "4zIjkEOw69kI"
   },
   "source": [
    "Generate a dataframe `df_fake` of 5000 rows using `create_row_faker`.\n",
    "\n",
    "We're using the _cell magic_ `%%time` to time the operation."
   ]
  },
  {
   "cell_type": "code",
   "execution_count": 7,
   "metadata": {
    "colab": {
     "base_uri": "https://localhost:8080/"
    },
    "execution": {
     "iopub.execute_input": "2024-10-13T09:42:56.548416Z",
     "iopub.status.busy": "2024-10-13T09:42:56.548052Z",
     "iopub.status.idle": "2024-10-13T09:42:56.837248Z",
     "shell.execute_reply": "2024-10-13T09:42:56.836631Z"
    },
    "id": "JtRWDEsT69kI",
    "outputId": "75fc519b-a19c-4fcf-db0e-13d98f394f8c"
   },
   "outputs": [
    {
     "name": "stdout",
     "output_type": "stream",
     "text": [
      "CPU times: user 283 ms, sys: 2.83 ms, total: 286 ms\n",
      "Wall time: 285 ms\n"
     ]
    }
   ],
   "source": [
    "%%time\n",
    "df_fake = pd.DataFrame(create_row_faker(5000))"
   ]
  },
  {
   "cell_type": "markdown",
   "metadata": {
    "id": "meT16YZy69kI"
   },
   "source": [
    "View dataframe"
   ]
  },
  {
   "cell_type": "code",
   "execution_count": 8,
   "metadata": {
    "colab": {
     "base_uri": "https://localhost:8080/",
     "height": 423
    },
    "execution": {
     "iopub.execute_input": "2024-10-13T09:42:56.839341Z",
     "iopub.status.busy": "2024-10-13T09:42:56.839124Z",
     "iopub.status.idle": "2024-10-13T09:42:56.849501Z",
     "shell.execute_reply": "2024-10-13T09:42:56.848936Z"
    },
    "id": "RJK93FxW69kI",
    "outputId": "50d3d1ef-24e6-485c-a43e-40470594cd4a"
   },
   "outputs": [
    {
     "data": {
      "text/html": [
       "<div>\n",
       "<style scoped>\n",
       "    .dataframe tbody tr th:only-of-type {\n",
       "        vertical-align: middle;\n",
       "    }\n",
       "\n",
       "    .dataframe tbody tr th {\n",
       "        vertical-align: top;\n",
       "    }\n",
       "\n",
       "    .dataframe thead th {\n",
       "        text-align: right;\n",
       "    }\n",
       "</style>\n",
       "<table border=\"1\" class=\"dataframe\">\n",
       "  <thead>\n",
       "    <tr style=\"text-align: right;\">\n",
       "      <th></th>\n",
       "      <th>name</th>\n",
       "      <th>age</th>\n",
       "      <th>postcode</th>\n",
       "      <th>email</th>\n",
       "      <th>nationality</th>\n",
       "    </tr>\n",
       "  </thead>\n",
       "  <tbody>\n",
       "    <tr>\n",
       "      <th>0</th>\n",
       "      <td>Prof. Kurt Bauer B.A.</td>\n",
       "      <td>91</td>\n",
       "      <td>37940</td>\n",
       "      <td>hildaloechel@example.com</td>\n",
       "      <td>Guatemala</td>\n",
       "    </tr>\n",
       "    <tr>\n",
       "      <th>1</th>\n",
       "      <td>Ekkehart Wiek-Kallert</td>\n",
       "      <td>13</td>\n",
       "      <td>61559</td>\n",
       "      <td>maja07@example.net</td>\n",
       "      <td>Brasilien</td>\n",
       "    </tr>\n",
       "    <tr>\n",
       "      <th>2</th>\n",
       "      <td>Annelise Rohleder-Hornig</td>\n",
       "      <td>80</td>\n",
       "      <td>93103</td>\n",
       "      <td>daniel31@example.com</td>\n",
       "      <td>Guatemala</td>\n",
       "    </tr>\n",
       "    <tr>\n",
       "      <th>3</th>\n",
       "      <td>Magrit Knappe B.A.</td>\n",
       "      <td>47</td>\n",
       "      <td>34192</td>\n",
       "      <td>gottliebmisicher@example.com</td>\n",
       "      <td>Guadeloupe</td>\n",
       "    </tr>\n",
       "    <tr>\n",
       "      <th>4</th>\n",
       "      <td>Univ.Prof. Gotthilf Wilmsen B.Sc.</td>\n",
       "      <td>29</td>\n",
       "      <td>56413</td>\n",
       "      <td>heini76@example.net</td>\n",
       "      <td>Litauen</td>\n",
       "    </tr>\n",
       "    <tr>\n",
       "      <th>...</th>\n",
       "      <td>...</td>\n",
       "      <td>...</td>\n",
       "      <td>...</td>\n",
       "      <td>...</td>\n",
       "      <td>...</td>\n",
       "    </tr>\n",
       "    <tr>\n",
       "      <th>4995</th>\n",
       "      <td>Herr Arno Ebert B.A.</td>\n",
       "      <td>63</td>\n",
       "      <td>36790</td>\n",
       "      <td>josefaebert@example.org</td>\n",
       "      <td>Slowenien</td>\n",
       "    </tr>\n",
       "    <tr>\n",
       "      <th>4996</th>\n",
       "      <td>Miroslawa Schüler</td>\n",
       "      <td>22</td>\n",
       "      <td>11118</td>\n",
       "      <td>ruppersbergerbetina@example.org</td>\n",
       "      <td>Republik Moldau</td>\n",
       "    </tr>\n",
       "    <tr>\n",
       "      <th>4997</th>\n",
       "      <td>Janusz Nerger</td>\n",
       "      <td>74</td>\n",
       "      <td>33091</td>\n",
       "      <td>ann-kathrinseip@example.net</td>\n",
       "      <td>Belarus</td>\n",
       "    </tr>\n",
       "    <tr>\n",
       "      <th>4998</th>\n",
       "      <td>Frau Cathleen Bähr</td>\n",
       "      <td>97</td>\n",
       "      <td>89681</td>\n",
       "      <td>hethurhubertus@example.org</td>\n",
       "      <td>St. Barthélemy</td>\n",
       "    </tr>\n",
       "    <tr>\n",
       "      <th>4999</th>\n",
       "      <td>Ulla Seifert</td>\n",
       "      <td>66</td>\n",
       "      <td>28358</td>\n",
       "      <td>klotzbabette@example.net</td>\n",
       "      <td>St. Lucia</td>\n",
       "    </tr>\n",
       "  </tbody>\n",
       "</table>\n",
       "<p>5000 rows × 5 columns</p>\n",
       "</div>"
      ],
      "text/plain": [
       "                                   name  age postcode  \\\n",
       "0                 Prof. Kurt Bauer B.A.   91    37940   \n",
       "1                 Ekkehart Wiek-Kallert   13    61559   \n",
       "2              Annelise Rohleder-Hornig   80    93103   \n",
       "3                    Magrit Knappe B.A.   47    34192   \n",
       "4     Univ.Prof. Gotthilf Wilmsen B.Sc.   29    56413   \n",
       "...                                 ...  ...      ...   \n",
       "4995               Herr Arno Ebert B.A.   63    36790   \n",
       "4996                  Miroslawa Schüler   22    11118   \n",
       "4997                      Janusz Nerger   74    33091   \n",
       "4998                 Frau Cathleen Bähr   97    89681   \n",
       "4999                       Ulla Seifert   66    28358   \n",
       "\n",
       "                                email      nationality  \n",
       "0            hildaloechel@example.com        Guatemala  \n",
       "1                  maja07@example.net        Brasilien  \n",
       "2                daniel31@example.com        Guatemala  \n",
       "3        gottliebmisicher@example.com       Guadeloupe  \n",
       "4                 heini76@example.net          Litauen  \n",
       "...                               ...              ...  \n",
       "4995          josefaebert@example.org        Slowenien  \n",
       "4996  ruppersbergerbetina@example.org  Republik Moldau  \n",
       "4997      ann-kathrinseip@example.net          Belarus  \n",
       "4998       hethurhubertus@example.org   St. Barthélemy  \n",
       "4999         klotzbabette@example.net        St. Lucia  \n",
       "\n",
       "[5000 rows x 5 columns]"
      ]
     },
     "execution_count": 8,
     "metadata": {},
     "output_type": "execute_result"
    }
   ],
   "source": [
    "df_fake"
   ]
  },
  {
   "cell_type": "markdown",
   "metadata": {
    "id": "86GX2vpJ69kI"
   },
   "source": [
    "For more fake data generators see Faker's [standard providers](https://faker.readthedocs.io/en/master/providers.html#standard-providers) as well as [community providers](https://faker.readthedocs.io/en/master/communityproviders.html#community-providers)."
   ]
  },
  {
   "cell_type": "markdown",
   "metadata": {
    "id": "6Yv5FGq0CH6D"
   },
   "source": [
    "# Generate PySpark dataframe with fake data"
   ]
  },
  {
   "cell_type": "markdown",
   "metadata": {
    "id": "qw0OUfBE8Aom"
   },
   "source": [
    "Install PySpark."
   ]
  },
  {
   "cell_type": "code",
   "execution_count": 9,
   "metadata": {
    "colab": {
     "base_uri": "https://localhost:8080/"
    },
    "execution": {
     "iopub.execute_input": "2024-10-13T09:42:56.851771Z",
     "iopub.status.busy": "2024-10-13T09:42:56.851405Z",
     "iopub.status.idle": "2024-10-13T09:42:57.693837Z",
     "shell.execute_reply": "2024-10-13T09:42:57.693070Z"
    },
    "id": "PRKNcWR87h7P",
    "outputId": "2d8a788c-2161-4248-9ba3-394464e38706"
   },
   "outputs": [
    {
     "name": "stdout",
     "output_type": "stream",
     "text": [
      "Requirement already satisfied: pyspark in /opt/hostedtoolcache/Python/3.8.18/x64/lib/python3.8/site-packages (3.4.0)\r\n",
      "Requirement already satisfied: py4j==0.10.9.7 in /opt/hostedtoolcache/Python/3.8.18/x64/lib/python3.8/site-packages (from pyspark) (0.10.9.7)\r\n"
     ]
    }
   ],
   "source": [
    "!pip install pyspark"
   ]
  },
  {
   "cell_type": "code",
   "execution_count": 10,
   "metadata": {
    "execution": {
     "iopub.execute_input": "2024-10-13T09:42:57.696761Z",
     "iopub.status.busy": "2024-10-13T09:42:57.696350Z",
     "iopub.status.idle": "2024-10-13T09:43:00.661599Z",
     "shell.execute_reply": "2024-10-13T09:43:00.660770Z"
    },
    "id": "9drMVtgJ69kI"
   },
   "outputs": [
    {
     "name": "stderr",
     "output_type": "stream",
     "text": [
      "Setting default log level to \"WARN\".\n",
      "To adjust logging level use sc.setLogLevel(newLevel). For SparkR, use setLogLevel(newLevel).\n",
      "24/10/13 09:42:59 WARN NativeCodeLoader: Unable to load native-hadoop library for your platform... using builtin-java classes where applicable\n"
     ]
    }
   ],
   "source": [
    "from pyspark.sql import SparkSession\n",
    "spark = SparkSession \\\n",
    "    .builder \\\n",
    "    .appName(\"Faker demo\") \\\n",
    "    .getOrCreate()"
   ]
  },
  {
   "cell_type": "code",
   "execution_count": 11,
   "metadata": {
    "execution": {
     "iopub.execute_input": "2024-10-13T09:43:00.664558Z",
     "iopub.status.busy": "2024-10-13T09:43:00.664101Z",
     "iopub.status.idle": "2024-10-13T09:43:03.042672Z",
     "shell.execute_reply": "2024-10-13T09:43:03.041718Z"
    },
    "id": "SYIUxAj569kI"
   },
   "outputs": [],
   "source": [
    "df = spark.createDataFrame(create_row_faker(5000))"
   ]
  },
  {
   "cell_type": "markdown",
   "metadata": {
    "id": "QbBAHBLF69kJ"
   },
   "source": [
    "To avoid getting the warning, either use [pyspark.sql.Row](https://spark.apache.org/docs/latest/api/python/pyspark.sql.html#pyspark.sql.Row) and let Spark infer datatypes or create a schema for the dataframe specifying the datatypes of all fields (here's the list of all [datatypes](http://spark.apache.org/docs/latest/api/python/pyspark.sql.html?highlight=types#module-pyspark.sql.types))."
   ]
  },
  {
   "cell_type": "code",
   "execution_count": 12,
   "metadata": {
    "execution": {
     "iopub.execute_input": "2024-10-13T09:43:03.045202Z",
     "iopub.status.busy": "2024-10-13T09:43:03.044985Z",
     "iopub.status.idle": "2024-10-13T09:43:03.049155Z",
     "shell.execute_reply": "2024-10-13T09:43:03.048441Z"
    },
    "id": "qwaQQ2Ud69kJ"
   },
   "outputs": [],
   "source": [
    "from pyspark.sql.types import *\n",
    "schema = StructType([StructField('name', StringType()),\n",
    "                     StructField('age',IntegerType()),\n",
    "                     StructField('postcode',StringType()),\n",
    "                     StructField('email', StringType()),\n",
    "                     StructField('nationality',StringType())])"
   ]
  },
  {
   "cell_type": "code",
   "execution_count": 13,
   "metadata": {
    "execution": {
     "iopub.execute_input": "2024-10-13T09:43:03.051648Z",
     "iopub.status.busy": "2024-10-13T09:43:03.051076Z",
     "iopub.status.idle": "2024-10-13T09:43:03.384272Z",
     "shell.execute_reply": "2024-10-13T09:43:03.383648Z"
    },
    "id": "NM4OqVld69kJ"
   },
   "outputs": [],
   "source": [
    "df = spark.createDataFrame(create_row_faker(5000), schema)"
   ]
  },
  {
   "cell_type": "code",
   "execution_count": 14,
   "metadata": {
    "colab": {
     "base_uri": "https://localhost:8080/"
    },
    "execution": {
     "iopub.execute_input": "2024-10-13T09:43:03.386913Z",
     "iopub.status.busy": "2024-10-13T09:43:03.386521Z",
     "iopub.status.idle": "2024-10-13T09:43:03.403287Z",
     "shell.execute_reply": "2024-10-13T09:43:03.402585Z"
    },
    "id": "NDPqZqnl69kJ",
    "outputId": "377ebb1c-4dbe-41e1-fc4f-3af97042fc1b"
   },
   "outputs": [
    {
     "name": "stdout",
     "output_type": "stream",
     "text": [
      "root\n",
      " |-- name: string (nullable = true)\n",
      " |-- age: integer (nullable = true)\n",
      " |-- postcode: string (nullable = true)\n",
      " |-- email: string (nullable = true)\n",
      " |-- nationality: string (nullable = true)\n",
      "\n"
     ]
    }
   ],
   "source": [
    "df.printSchema()"
   ]
  },
  {
   "cell_type": "markdown",
   "metadata": {
    "id": "HwsIhJxO69kJ"
   },
   "source": [
    "Let's generate some more data (dataframe with $5\\cdot10^4$ rows). The file will be partitioned by Spark."
   ]
  },
  {
   "cell_type": "code",
   "execution_count": 15,
   "metadata": {
    "colab": {
     "base_uri": "https://localhost:8080/"
    },
    "execution": {
     "iopub.execute_input": "2024-10-13T09:43:03.405657Z",
     "iopub.status.busy": "2024-10-13T09:43:03.405251Z",
     "iopub.status.idle": "2024-10-13T09:43:06.421870Z",
     "shell.execute_reply": "2024-10-13T09:43:06.421174Z"
    },
    "id": "KZtRuVeR69kJ",
    "outputId": "6f8a7dd0-02a8-4395-c7da-612365c8b082"
   },
   "outputs": [
    {
     "name": "stdout",
     "output_type": "stream",
     "text": [
      "CPU times: user 2.96 s, sys: 30.9 ms, total: 2.99 s\n",
      "Wall time: 3.01 s\n"
     ]
    }
   ],
   "source": [
    "%%time\n",
    "n = 5*10**4\n",
    "df = spark.createDataFrame(create_row_faker(n), schema)"
   ]
  },
  {
   "cell_type": "markdown",
   "metadata": {
    "id": "l0ZiQJKp69kJ"
   },
   "source": [
    "It took a long time (~4 sec. for 50000 rows)!\n",
    "\n",
    "Can we do better?"
   ]
  },
  {
   "cell_type": "markdown",
   "metadata": {
    "id": "6xI7IjQ669kK"
   },
   "source": [
    "The function `create_row_faker()` returns a list. This is not efficient, what we need is a _generator_ instead."
   ]
  },
  {
   "cell_type": "code",
   "execution_count": 16,
   "metadata": {
    "colab": {
     "base_uri": "https://localhost:8080/"
    },
    "execution": {
     "iopub.execute_input": "2024-10-13T09:43:06.424534Z",
     "iopub.status.busy": "2024-10-13T09:43:06.424064Z",
     "iopub.status.idle": "2024-10-13T09:43:06.428827Z",
     "shell.execute_reply": "2024-10-13T09:43:06.428276Z"
    },
    "id": "Bt2HncFZ69kK",
    "outputId": "347815f8-00bc-4c77-8029-7a5a76f85b71"
   },
   "outputs": [
    {
     "data": {
      "text/plain": [
       "list"
      ]
     },
     "execution_count": 16,
     "metadata": {},
     "output_type": "execute_result"
    }
   ],
   "source": [
    "d = create_row_faker(5)\n",
    "# what type is d?\n",
    "type(d)"
   ]
  },
  {
   "cell_type": "markdown",
   "metadata": {
    "id": "EC_IgTtY69kK"
   },
   "source": [
    "Now `d` is a generator"
   ]
  },
  {
   "cell_type": "code",
   "execution_count": 17,
   "metadata": {
    "colab": {
     "base_uri": "https://localhost:8080/"
    },
    "execution": {
     "iopub.execute_input": "2024-10-13T09:43:06.430880Z",
     "iopub.status.busy": "2024-10-13T09:43:06.430521Z",
     "iopub.status.idle": "2024-10-13T09:43:06.435594Z",
     "shell.execute_reply": "2024-10-13T09:43:06.434924Z"
    },
    "id": "9YjvEOTV69kK",
    "outputId": "b0400b20-efa8-4feb-9e1f-c956efc222cd"
   },
   "outputs": [
    {
     "data": {
      "text/plain": [
       "generator"
      ]
     },
     "execution_count": 17,
     "metadata": {},
     "output_type": "execute_result"
    }
   ],
   "source": [
    "d = ({\"name\": fake.name(),\n",
    "      \"age\": fake.random_int(0, 100),\n",
    "      \"postcode\": fake.postcode(),\n",
    "      \"email\": fake.email(),\n",
    "      \"nationality\": fake.country()} for i in range(5))\n",
    "# what type is d?\n",
    "type(d)"
   ]
  },
  {
   "cell_type": "code",
   "execution_count": 18,
   "metadata": {
    "colab": {
     "base_uri": "https://localhost:8080/"
    },
    "execution": {
     "iopub.execute_input": "2024-10-13T09:43:06.437641Z",
     "iopub.status.busy": "2024-10-13T09:43:06.437248Z",
     "iopub.status.idle": "2024-10-13T09:43:09.560912Z",
     "shell.execute_reply": "2024-10-13T09:43:09.560242Z"
    },
    "id": "BBdz-PJz69kK",
    "outputId": "7bc09338-b81d-4e33-c87c-01422d1cc749"
   },
   "outputs": [
    {
     "name": "stdout",
     "output_type": "stream",
     "text": [
      "CPU times: user 3.07 s, sys: 26.8 ms, total: 3.1 s\n",
      "Wall time: 3.12 s\n"
     ]
    }
   ],
   "source": [
    "%%time\n",
    "n = 5*10**4\n",
    "d = ({\"name\": fake.name(),\n",
    "      \"age\": fake.random_int(0, 100),\n",
    "      \"postcode\": fake.postcode(),\n",
    "      \"email\": fake.email(),\n",
    "      \"nationality\": fake.country()}\n",
    "     for i in range(n))\n",
    "df = spark.createDataFrame(d, schema)"
   ]
  },
  {
   "cell_type": "markdown",
   "metadata": {
    "id": "bd-jNkqk69kK"
   },
   "source": [
    "This wasn't faster.\n",
    "\n",
    "I will look into how one can leverage Hadoop's parallelism to generate dataframes and speed the process."
   ]
  },
  {
   "cell_type": "markdown",
   "metadata": {
    "id": "t_NNqOXPCbj3"
   },
   "source": [
    "## Filter and aggregate with PySpark"
   ]
  },
  {
   "cell_type": "code",
   "execution_count": 19,
   "metadata": {
    "colab": {
     "base_uri": "https://localhost:8080/",
     "height": 186
    },
    "execution": {
     "iopub.execute_input": "2024-10-13T09:43:09.563248Z",
     "iopub.status.busy": "2024-10-13T09:43:09.563039Z",
     "iopub.status.idle": "2024-10-13T09:43:09.567251Z",
     "shell.execute_reply": "2024-10-13T09:43:09.566698Z"
    },
    "id": "DyDn7tqS69kK",
    "outputId": "7ebe42de-a1a8-4933-dd89-128dd4ee530a"
   },
   "outputs": [
    {
     "data": {
      "text/plain": [
       "pyspark.sql.dataframe.DataFrame"
      ]
     },
     "execution_count": 19,
     "metadata": {},
     "output_type": "execute_result"
    }
   ],
   "source": [
    "type(df)"
   ]
  },
  {
   "cell_type": "markdown",
   "metadata": {
    "id": "c5X9Bz7g69kL"
   },
   "source": [
    "Show the first five records in the dataframe of fake data."
   ]
  },
  {
   "cell_type": "code",
   "execution_count": 20,
   "metadata": {
    "colab": {
     "base_uri": "https://localhost:8080/"
    },
    "execution": {
     "iopub.execute_input": "2024-10-13T09:43:09.569273Z",
     "iopub.status.busy": "2024-10-13T09:43:09.569075Z",
     "iopub.status.idle": "2024-10-13T09:43:11.063343Z",
     "shell.execute_reply": "2024-10-13T09:43:11.062535Z"
    },
    "id": "0RYAfYsx69kL",
    "outputId": "8066ee10-f105-42fe-b514-fc750ecb4b13"
   },
   "outputs": [
    {
     "name": "stderr",
     "output_type": "stream",
     "text": [
      "\r",
      "[Stage 0:>                                                          (0 + 1) / 1]\r"
     ]
    },
    {
     "name": "stdout",
     "output_type": "stream",
     "text": [
      "+-----------------------+---+--------+--------------------------+----------------------------+\n",
      "|name                   |age|postcode|email                     |nationality                 |\n",
      "+-----------------------+---+--------+--------------------------+----------------------------+\n",
      "|Hans-Willi Seidel B.Sc.|57 |22848   |alangern@example.net      |Neukaledonien               |\n",
      "|Virginia Karz-Holt     |97 |56097   |susannnohlmans@example.net|Cookinseln                  |\n",
      "|Canan Mosemann         |54 |40881   |klaus-d60@example.net     |Usbekistan                  |\n",
      "|Friedhilde Mude        |18 |60167   |hilma52@example.org       |Zentralafrikanische Republik|\n",
      "|Agata Sauer-Etzler     |35 |21379   |barkholzhenri@example.com |Kasachstan                  |\n",
      "+-----------------------+---+--------+--------------------------+----------------------------+\n",
      "only showing top 5 rows\n",
      "\n"
     ]
    },
    {
     "name": "stderr",
     "output_type": "stream",
     "text": [
      "\r",
      "                                                                                \r"
     ]
    }
   ],
   "source": [
    "df.show(n=5, truncate=False)"
   ]
  },
  {
   "cell_type": "markdown",
   "metadata": {
    "id": "ikvl-9Mm69kL"
   },
   "source": [
    "Do some data aggregation:\n",
    " - group by postcode\n",
    " - count the number of persons and the average age for each postcode\n",
    " - filter out postcodes with less than 4 persons\n",
    " - sort by average age descending\n",
    " - show the first 5 entries"
   ]
  },
  {
   "cell_type": "code",
   "execution_count": 21,
   "metadata": {
    "colab": {
     "base_uri": "https://localhost:8080/"
    },
    "execution": {
     "iopub.execute_input": "2024-10-13T09:43:11.066526Z",
     "iopub.status.busy": "2024-10-13T09:43:11.065952Z",
     "iopub.status.idle": "2024-10-13T09:43:12.793559Z",
     "shell.execute_reply": "2024-10-13T09:43:12.792645Z"
    },
    "id": "1lr4WKxt69kL",
    "outputId": "5a15bd58-23dc-46db-df7c-67ae48af6b42"
   },
   "outputs": [
    {
     "name": "stderr",
     "output_type": "stream",
     "text": [
      "\r",
      "[Stage 1:>                                                          (0 + 4) / 4]\r"
     ]
    },
    {
     "name": "stdout",
     "output_type": "stream",
     "text": [
      "+--------+-----+-----------+\n",
      "|postcode|Count|Average age|\n",
      "+--------+-----+-----------+\n",
      "|   18029|    4|      91.75|\n",
      "|   67611|    4|       87.0|\n",
      "|   47898|    4|       85.5|\n",
      "|   46755|    4|       78.5|\n",
      "|   84546|    4|       77.0|\n",
      "+--------+-----+-----------+\n",
      "only showing top 5 rows\n",
      "\n"
     ]
    },
    {
     "name": "stderr",
     "output_type": "stream",
     "text": [
      "\r",
      "                                                                                \r"
     ]
    }
   ],
   "source": [
    "import pyspark.sql.functions as F\n",
    "df.groupBy('postcode') \\\n",
    "  .agg(F.count('postcode').alias('Count'), F.round(F.avg('age'), 2).alias('Average age')) \\\n",
    "  .filter('Count>3') \\\n",
    "  .orderBy('Average age', ascending=False) \\\n",
    "  .show(5)"
   ]
  },
  {
   "cell_type": "markdown",
   "metadata": {
    "id": "PP4TeBbh69kL"
   },
   "source": [
    "Postcode $18029$ has the highest average age ($91.75$). Show all entries for postcode $18029$ using `filter`."
   ]
  },
  {
   "cell_type": "code",
   "execution_count": 22,
   "metadata": {
    "colab": {
     "base_uri": "https://localhost:8080/"
    },
    "execution": {
     "iopub.execute_input": "2024-10-13T09:43:12.797412Z",
     "iopub.status.busy": "2024-10-13T09:43:12.796813Z",
     "iopub.status.idle": "2024-10-13T09:43:13.087449Z",
     "shell.execute_reply": "2024-10-13T09:43:13.086596Z"
    },
    "id": "_6NsPWUt69kL",
    "outputId": "0ed58e60-7a25-4d21-ee73-243da451e180"
   },
   "outputs": [
    {
     "name": "stdout",
     "output_type": "stream",
     "text": [
      "+---------------------------+---+--------+-----------------------------+------------------+\n",
      "|name                       |age|postcode|email                        |nationality       |\n",
      "+---------------------------+---+--------+-----------------------------+------------------+\n",
      "|Univ.Prof. Roderich Lehmann|89 |18029   |anne-katrinscholl@example.com|Grönland          |\n",
      "|Herwig Martin B.A.         |90 |18029   |steckelgerta@example.com     |Amerikanisch-Samoa|\n",
      "|Univ.Prof. Mijo Walter     |92 |18029   |hoevelantonius@example.net   |Niederlande       |\n",
      "|Aynur Karz B.Eng.          |96 |18029   |cschleich@example.com        |Puerto Rico       |\n",
      "+---------------------------+---+--------+-----------------------------+------------------+\n",
      "\n"
     ]
    }
   ],
   "source": [
    "df.filter('postcode==18029').show(truncate=False)"
   ]
  },
  {
   "cell_type": "markdown",
   "metadata": {
    "id": "_Ib139jd69kL"
   },
   "source": [
    "# Another example with multiple locales and weights\n",
    "\n",
    "We are going to use multiple locales with weights (following the [examples](https://faker.readthedocs.io/en/master/fakerclass.html#examples) in the documentation).\n",
    "\n",
    "Here's the [list of all available locales](https://faker.readthedocs.io/en/master/locales.html)."
   ]
  },
  {
   "cell_type": "code",
   "execution_count": 23,
   "metadata": {
    "execution": {
     "iopub.execute_input": "2024-10-13T09:43:13.090569Z",
     "iopub.status.busy": "2024-10-13T09:43:13.090295Z",
     "iopub.status.idle": "2024-10-13T09:43:13.094891Z",
     "shell.execute_reply": "2024-10-13T09:43:13.094103Z"
    },
    "id": "eXBHg-x269kL"
   },
   "outputs": [],
   "source": [
    "from faker import Faker\n",
    "# set a seed for the random generator\n",
    "Faker.seed(0)"
   ]
  },
  {
   "cell_type": "markdown",
   "metadata": {
    "id": "ssmNP9zR_Ldb"
   },
   "source": [
    "Generate data with locales `de_DE` and `de_AT` with weights respectively $5$ and $2$.\n",
    "\n",
    "The distribution of locales will be:\n",
    " - `de_DE` - $71.43\\%$ of the time ($5 / (5+2)$)\n",
    " - `de_AT` - $28.57\\%$ of the time ($2 / (5+2)$)\n"
   ]
  },
  {
   "cell_type": "code",
   "execution_count": 24,
   "metadata": {
    "colab": {
     "base_uri": "https://localhost:8080/"
    },
    "execution": {
     "iopub.execute_input": "2024-10-13T09:43:13.098126Z",
     "iopub.status.busy": "2024-10-13T09:43:13.097647Z",
     "iopub.status.idle": "2024-10-13T09:43:13.140347Z",
     "shell.execute_reply": "2024-10-13T09:43:13.139573Z"
    },
    "id": "j0XFMtOf69kT",
    "outputId": "ac8da24a-aac3-4973-8ca2-53e89cecdc00"
   },
   "outputs": [
    {
     "data": {
      "text/plain": [
       "['de_DE', 'de_AT']"
      ]
     },
     "execution_count": 24,
     "metadata": {},
     "output_type": "execute_result"
    }
   ],
   "source": [
    "from collections import OrderedDict\n",
    "locales = OrderedDict([\n",
    "    ('de_DE', 5),\n",
    "    ('de_AT', 2),\n",
    "])\n",
    "fake = Faker(locales)\n",
    "fake.seed_instance(42)\n",
    "fake.locales"
   ]
  },
  {
   "cell_type": "code",
   "execution_count": 25,
   "metadata": {
    "execution": {
     "iopub.execute_input": "2024-10-13T09:43:13.143701Z",
     "iopub.status.busy": "2024-10-13T09:43:13.143122Z",
     "iopub.status.idle": "2024-10-13T09:43:13.147533Z",
     "shell.execute_reply": "2024-10-13T09:43:13.146616Z"
    },
    "id": "LHCsMtbR69kU"
   },
   "outputs": [],
   "source": [
    "fake.seed_locale('de_DE', 0)\n",
    "fake.seed_locale('de_AT', 0)"
   ]
  },
  {
   "cell_type": "code",
   "execution_count": 26,
   "metadata": {
    "colab": {
     "base_uri": "https://localhost:8080/"
    },
    "execution": {
     "iopub.execute_input": "2024-10-13T09:43:13.150737Z",
     "iopub.status.busy": "2024-10-13T09:43:13.150298Z",
     "iopub.status.idle": "2024-10-13T09:43:13.156799Z",
     "shell.execute_reply": "2024-10-13T09:43:13.155959Z"
    },
    "id": "gUS9h0A669kU",
    "outputId": "70fa2cd9-98c9-4dd0-d441-052b1cf5e1e6"
   },
   "outputs": [
    {
     "data": {
      "text/plain": [
       "{'current_location': (Decimal('26.547114'), Decimal('-10.243190')),\n",
       " 'blood_group': 'B-',\n",
       " 'name': 'Axel Jung',\n",
       " 'sex': 'M',\n",
       " 'mail': 'claragollner@gmail.com',\n",
       " 'birthdate': datetime.date(2004, 1, 27)}"
      ]
     },
     "execution_count": 26,
     "metadata": {},
     "output_type": "execute_result"
    }
   ],
   "source": [
    "fake.profile(fields=['name', 'birthdate', 'sex', 'blood_group',\n",
    "                     'mail', 'current_location'])"
   ]
  },
  {
   "cell_type": "code",
   "execution_count": 27,
   "metadata": {
    "execution": {
     "iopub.execute_input": "2024-10-13T09:43:13.159715Z",
     "iopub.status.busy": "2024-10-13T09:43:13.159277Z",
     "iopub.status.idle": "2024-10-13T09:43:13.164514Z",
     "shell.execute_reply": "2024-10-13T09:43:13.163798Z"
    },
    "id": "PiSKooLQ69kU"
   },
   "outputs": [],
   "source": [
    "from pyspark.sql.types import *\n",
    "location = StructField('current_location',\n",
    "                       StructType([StructField('lat', DecimalType()),\n",
    "                                   StructField('lon', DecimalType())])\n",
    "                      )\n",
    "schema = StructType([StructField('name', StringType()),\n",
    "                     StructField('birthdate', DateType()),\n",
    "                     StructField('sex', StringType()),\n",
    "                     StructField('blood_group', StringType()),\n",
    "                     StructField('mail', StringType()),\n",
    "                     location\n",
    "                     ])"
   ]
  },
  {
   "cell_type": "code",
   "execution_count": 28,
   "metadata": {
    "colab": {
     "base_uri": "https://localhost:8080/"
    },
    "execution": {
     "iopub.execute_input": "2024-10-13T09:43:13.167387Z",
     "iopub.status.busy": "2024-10-13T09:43:13.166948Z",
     "iopub.status.idle": "2024-10-13T09:43:13.173010Z",
     "shell.execute_reply": "2024-10-13T09:43:13.172278Z"
    },
    "id": "8j35IGPd69kU",
    "outputId": "22ba1c61-b965-4c1d-9c77-8b4fc024cf40"
   },
   "outputs": [
    {
     "data": {
      "text/plain": [
       "{'current_location': (Decimal('79.153888'), Decimal('-0.003034')),\n",
       " 'blood_group': 'B-',\n",
       " 'name': 'Dr. Anita Suppan',\n",
       " 'sex': 'F',\n",
       " 'mail': 'schauerbenedict@kabsi.at',\n",
       " 'birthdate': datetime.date(1980, 10, 9)}"
      ]
     },
     "execution_count": 28,
     "metadata": {},
     "output_type": "execute_result"
    }
   ],
   "source": [
    "fake.profile(fields=['name', 'birthdate', 'sex', 'blood_group',\n",
    "                     'mail', 'current_location'])"
   ]
  },
  {
   "cell_type": "code",
   "execution_count": 29,
   "metadata": {
    "execution": {
     "iopub.execute_input": "2024-10-13T09:43:13.175822Z",
     "iopub.status.busy": "2024-10-13T09:43:13.175387Z",
     "iopub.status.idle": "2024-10-13T09:43:13.184909Z",
     "shell.execute_reply": "2024-10-13T09:43:13.184171Z"
    },
    "id": "mBHUAB8Z69kU"
   },
   "outputs": [
    {
     "name": "stderr",
     "output_type": "stream",
     "text": [
      "24/10/13 09:43:13 WARN SparkSession: Using an existing Spark session; only runtime SQL configurations will take effect.\n"
     ]
    }
   ],
   "source": [
    "from pyspark.sql import SparkSession\n",
    "spark = SparkSession \\\n",
    "    .builder \\\n",
    "    .appName(\"Faker demo - part 2\") \\\n",
    "    .getOrCreate()"
   ]
  },
  {
   "cell_type": "markdown",
   "metadata": {
    "id": "6gjkL0XM69kU"
   },
   "source": [
    "Create dataframe with $5\\cdot10^3$ rows."
   ]
  },
  {
   "cell_type": "code",
   "execution_count": 30,
   "metadata": {
    "colab": {
     "base_uri": "https://localhost:8080/"
    },
    "execution": {
     "iopub.execute_input": "2024-10-13T09:43:13.187990Z",
     "iopub.status.busy": "2024-10-13T09:43:13.187556Z",
     "iopub.status.idle": "2024-10-13T09:43:14.867713Z",
     "shell.execute_reply": "2024-10-13T09:43:14.866947Z"
    },
    "id": "pKxvxwDK69kU",
    "outputId": "eddad2ac-a161-4b37-e650-5926d26329c8"
   },
   "outputs": [
    {
     "name": "stdout",
     "output_type": "stream",
     "text": [
      "CPU times: user 1.59 s, sys: 0 ns, total: 1.59 s\n",
      "Wall time: 1.67 s\n"
     ]
    }
   ],
   "source": [
    "%%time\n",
    "n = 5*10**3\n",
    "d = (fake.profile(fields=['name', 'birthdate', 'sex', 'blood_group',\n",
    "                          'mail', 'current_location'])\n",
    "     for i in range(n))\n",
    "df = spark.createDataFrame(d, schema)"
   ]
  },
  {
   "cell_type": "code",
   "execution_count": 31,
   "metadata": {
    "colab": {
     "base_uri": "https://localhost:8080/"
    },
    "execution": {
     "iopub.execute_input": "2024-10-13T09:43:14.870133Z",
     "iopub.status.busy": "2024-10-13T09:43:14.869779Z",
     "iopub.status.idle": "2024-10-13T09:43:14.874674Z",
     "shell.execute_reply": "2024-10-13T09:43:14.873997Z"
    },
    "id": "XbsEgC1d69kY",
    "outputId": "445f3b9f-cc72-4478-990f-76b7e34896c3"
   },
   "outputs": [
    {
     "name": "stdout",
     "output_type": "stream",
     "text": [
      "root\n",
      " |-- name: string (nullable = true)\n",
      " |-- birthdate: date (nullable = true)\n",
      " |-- sex: string (nullable = true)\n",
      " |-- blood_group: string (nullable = true)\n",
      " |-- mail: string (nullable = true)\n",
      " |-- current_location: struct (nullable = true)\n",
      " |    |-- lat: decimal(10,0) (nullable = true)\n",
      " |    |-- lon: decimal(10,0) (nullable = true)\n",
      "\n"
     ]
    }
   ],
   "source": [
    "df.printSchema()"
   ]
  },
  {
   "cell_type": "markdown",
   "metadata": {
    "id": "f-SQ-dsb69kY"
   },
   "source": [
    "Note how `location` represents a _tuple_ data structure (a `StructType` of `StructField`s)."
   ]
  },
  {
   "cell_type": "code",
   "execution_count": 32,
   "metadata": {
    "colab": {
     "base_uri": "https://localhost:8080/"
    },
    "execution": {
     "iopub.execute_input": "2024-10-13T09:43:14.877124Z",
     "iopub.status.busy": "2024-10-13T09:43:14.876446Z",
     "iopub.status.idle": "2024-10-13T09:43:15.036340Z",
     "shell.execute_reply": "2024-10-13T09:43:15.035634Z"
    },
    "id": "Rut1uSF069kY",
    "outputId": "3acfe637-7745-4a01-8ebe-c497b7c57bf0"
   },
   "outputs": [
    {
     "name": "stdout",
     "output_type": "stream",
     "text": [
      "+---------------------------+----------+---+-----------+-------------------------+----------------+\n",
      "|name                       |birthdate |sex|blood_group|mail                     |current_location|\n",
      "+---------------------------+----------+---+-----------+-------------------------+----------------+\n",
      "|Prof. Valentine Niemeier   |1979-11-12|F  |B-         |maricagotthard@aol.de    |{74, 164}       |\n",
      "|Magrit Graf                |1943-09-15|F  |A-         |hartungclaudio@web.de    |{-86, -34}      |\n",
      "|Harriet Weiß-Liebelt       |1960-07-24|F  |AB+        |heserhilma@gmail.com     |{20, 126}       |\n",
      "|Marisa Heser               |1919-08-27|F  |B-         |meinhard55@web.de        |{73, 169}       |\n",
      "|Alexa Loidl-Schönberger    |1934-08-30|F  |O-         |hannafroehlich@gmail.com |{-23, -117}     |\n",
      "|Rosa-Maria Schwital B.Sc.  |1928-02-08|F  |O-         |johannessauer@yahoo.de   |{2, -113}       |\n",
      "|Herr Roland Caspar B.Sc.   |1932-09-09|M  |O-         |weinholdslawomir@yahoo.de|{24, 100}       |\n",
      "|Bernard Mude               |1943-03-01|M  |O-         |stollinka@hotmail.de     |{22, -104}      |\n",
      "|Prof. Violetta Eberl       |1913-09-09|F  |B+         |lars24@chello.at         |{80, -135}      |\n",
      "|Alexandre Oestrovsky B.Eng.|1925-03-29|M  |A-         |schleichholger@yahoo.de  |{-62, 43}       |\n",
      "+---------------------------+----------+---+-----------+-------------------------+----------------+\n",
      "only showing top 10 rows\n",
      "\n"
     ]
    }
   ],
   "source": [
    "df.show(n=10, truncate=False)"
   ]
  },
  {
   "cell_type": "markdown",
   "metadata": {
    "id": "KSCL83BVC3xu"
   },
   "source": [
    "# Save to Parquet"
   ]
  },
  {
   "cell_type": "markdown",
   "metadata": {
    "id": "fw7FSGff69kY"
   },
   "source": [
    "[Write to parquet](https://spark.apache.org/docs/latest/api/python/pyspark.sql.html?highlight=write#pyspark.sql.DataFrameWriter.parquet) file ([Parquet](http://parquet.apache.org/) is a compressed, efficient columnar data representation compatible with all frameworks in the Hadoop ecosystem):"
   ]
  },
  {
   "cell_type": "code",
   "execution_count": 33,
   "metadata": {
    "execution": {
     "iopub.execute_input": "2024-10-13T09:43:15.039084Z",
     "iopub.status.busy": "2024-10-13T09:43:15.038832Z",
     "iopub.status.idle": "2024-10-13T09:43:16.253333Z",
     "shell.execute_reply": "2024-10-13T09:43:16.252593Z"
    },
    "id": "VcTsZQXI69kZ"
   },
   "outputs": [
    {
     "name": "stderr",
     "output_type": "stream",
     "text": [
      "\r",
      "[Stage 7:>                                                          (0 + 4) / 4]\r"
     ]
    },
    {
     "name": "stderr",
     "output_type": "stream",
     "text": [
      "\r",
      "                                                                                \r"
     ]
    }
   ],
   "source": [
    "df.write.mode(\"overwrite\").parquet(\"fakedata.parquet\")"
   ]
  },
  {
   "cell_type": "markdown",
   "metadata": {
    "id": "2LjMN4zy69kZ"
   },
   "source": [
    "Check the size of parquet file (it is actually a directory containing the partitions):"
   ]
  },
  {
   "cell_type": "code",
   "execution_count": 34,
   "metadata": {
    "colab": {
     "base_uri": "https://localhost:8080/"
    },
    "execution": {
     "iopub.execute_input": "2024-10-13T09:43:16.256087Z",
     "iopub.status.busy": "2024-10-13T09:43:16.255557Z",
     "iopub.status.idle": "2024-10-13T09:43:16.387112Z",
     "shell.execute_reply": "2024-10-13T09:43:16.386285Z"
    },
    "id": "Q3mJjr6q69kZ",
    "outputId": "181e5836-2a5a-4e30-8327-3bfb53da0e39"
   },
   "outputs": [
    {
     "name": "stdout",
     "output_type": "stream",
     "text": [
      "212K\tfakedata.parquet\r\n"
     ]
    }
   ],
   "source": [
    "!du -h fakedata.parquet"
   ]
  },
  {
   "cell_type": "code",
   "execution_count": 35,
   "metadata": {
    "colab": {
     "base_uri": "https://localhost:8080/"
    },
    "execution": {
     "iopub.execute_input": "2024-10-13T09:43:16.389731Z",
     "iopub.status.busy": "2024-10-13T09:43:16.389502Z",
     "iopub.status.idle": "2024-10-13T09:43:16.519560Z",
     "shell.execute_reply": "2024-10-13T09:43:16.518782Z"
    },
    "id": "Pju4GyKL-DAn",
    "outputId": "90d5de7c-7ec2-46ef-d01b-fdae2507efc0"
   },
   "outputs": [
    {
     "name": "stdout",
     "output_type": "stream",
     "text": [
      "total 188K\r\n",
      "-rw-r--r-- 1 runner docker   0 Oct 13 09:43 _SUCCESS\r\n",
      "-rw-r--r-- 1 runner docker 39K Oct 13 09:43 part-00000-68fa4a15-84fe-4acc-a4d2-4971c68fc646-c000.snappy.parquet\r\n",
      "-rw-r--r-- 1 runner docker 39K Oct 13 09:43 part-00001-68fa4a15-84fe-4acc-a4d2-4971c68fc646-c000.snappy.parquet\r\n",
      "-rw-r--r-- 1 runner docker 39K Oct 13 09:43 part-00002-68fa4a15-84fe-4acc-a4d2-4971c68fc646-c000.snappy.parquet\r\n",
      "-rw-r--r-- 1 runner docker 67K Oct 13 09:43 part-00003-68fa4a15-84fe-4acc-a4d2-4971c68fc646-c000.snappy.parquet\r\n"
     ]
    }
   ],
   "source": [
    "!ls -lh fakedata.parquet"
   ]
  },
  {
   "cell_type": "markdown",
   "metadata": {
    "id": "JAwKdWmcC-ib"
   },
   "source": [
    "# Stop Spark session"
   ]
  },
  {
   "cell_type": "markdown",
   "metadata": {
    "id": "JBG-CEbV69kZ"
   },
   "source": [
    "Don't forget to close the Spark session when you're done!"
   ]
  },
  {
   "cell_type": "code",
   "execution_count": 36,
   "metadata": {
    "execution": {
     "iopub.execute_input": "2024-10-13T09:43:16.522254Z",
     "iopub.status.busy": "2024-10-13T09:43:16.521805Z",
     "iopub.status.idle": "2024-10-13T09:43:17.227426Z",
     "shell.execute_reply": "2024-10-13T09:43:17.226700Z"
    },
    "id": "MsCutnmw69kZ"
   },
   "outputs": [],
   "source": [
    "spark.stop()"
   ]
  }
 ],
 "metadata": {
  "colab": {
   "include_colab_link": true,
   "provenance": [],
   "toc_visible": true
  },
  "kernelspec": {
   "display_name": "Python 3",
   "language": "python",
   "name": "python3"
  },
  "language_info": {
   "codemirror_mode": {
    "name": "ipython",
    "version": 3
   },
   "file_extension": ".py",
   "mimetype": "text/x-python",
   "name": "python",
   "nbconvert_exporter": "python",
   "pygments_lexer": "ipython3",
   "version": "3.8.18"
  }
 },
 "nbformat": 4,
 "nbformat_minor": 0
}
