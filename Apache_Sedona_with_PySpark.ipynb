{
  "nbformat": 4,
  "nbformat_minor": 0,
  "metadata": {
    "colab": {
      "provenance": [],
      "toc_visible": true,
      "authorship_tag": "ABX9TyM4yZRL7Yf5e6OvDwzO5XTK",
      "include_colab_link": true
    },
    "kernelspec": {
      "name": "python3",
      "display_name": "Python 3"
    },
    "language_info": {
      "name": "python"
    }
  },
  "cells": [
    {
      "cell_type": "markdown",
      "metadata": {
        "id": "view-in-github",
        "colab_type": "text"
      },
      "source": [
        "<a href=\"https://colab.research.google.com/github/groda/big_data/blob/master/Apache_Sedona_with_PySpark.ipynb\" target=\"_parent\"><img src=\"https://colab.research.google.com/assets/colab-badge.svg\" alt=\"Open In Colab\"/></a>"
      ]
    },
    {
      "cell_type": "markdown",
      "source": [
        "\n",
        "<a href=\"https://github.com/groda/big_data\"><div><img src=\"https://github.com/groda/big_data/blob/master/logo_bdb.png?raw=true\" align=right width=\"90\" alt=\"Logo Big Data for Beginners\"></div></a>\n",
        "# Apache Sedona with PySpark\n",
        "\n",
        "Apache Sedona™ is a prime example of a distributed engine built on top of Spark, specifically designed for geographic data processing.\n",
        "\n",
        "The home page describes Apache Sedona ([https://sedona.apache.org/](https://sedona.apache.org/)) as:\n",
        "\n",
        "> *a cluster computing system for processing large-scale spatial data. Sedona extends existing cluster computing systems, such as Apache Spark, Apache Flink, and Snowflake, with a set of out-of-the-box distributed Spatial Datasets and Spatial SQL that efficiently load, process, and analyze large-scale spatial data across machines.*\n",
        "\n",
        "In this notebook we are going to execute a basic Sedona demonstration using PySpark. The Sedona notebook starts below at [Apache Sedona Core demo](#scrollTo=Apache_Sedona_Core_demo).\n",
        "\n"
      ],
      "metadata": {
        "id": "DNWKwG4TAcD2"
      }
    },
    {
      "cell_type": "markdown",
      "source": [
        "## Install Apache Sedona, PySpark, and required libraries\n",
        "\n",
        "To start with, we are going to install `apache-sedona` and PySpark making sure that we have the desired Spark version.\n",
        "\n",
        "\n",
        "The required packages are specified in this [Pipfile](https://github.com/apache/sedona/blob/master/python/Pipfile) under `[packages]`:\n",
        "\n",
        "```\n",
        "[packages]\n",
        "pandas=\"<=1.5.3\"\n",
        "geopandas=\"*\"\n",
        "shapely=\">=1.7.0\"\n",
        "pyspark=\">=2.3.0\"\n",
        "attrs=\"*\"\n",
        "pyarrow=\"*\"\n",
        "keplergl = \"==0.3.2\"\n",
        "pydeck = \"===0.8.0\"\n",
        "rasterio = \">=1.2.10\"\n",
        "```"
      ],
      "metadata": {
        "id": "3AQNoWmX_B78"
      }
    },
    {
      "cell_type": "markdown",
      "source": [
        "Install Apache Sedona without Spark. To install Spark as well you can use `pip install apache-sedona[spark]` but we chose to use the Spark engine that comes with PySpark."
      ],
      "metadata": {
        "id": "rq9dEksqznlQ"
      }
    },
    {
      "cell_type": "code",
      "execution_count": 1,
      "metadata": {
        "colab": {
          "base_uri": "https://localhost:8080/"
        },
        "id": "SOB7DNZ6AOio",
        "outputId": "5c69b60b-8c84-47f3-d7af-b2cff0364366"
      },
      "outputs": [
        {
          "output_type": "stream",
          "name": "stdout",
          "text": [
            "Collecting apache-sedona\n",
            "  Downloading apache_sedona-1.6.0-cp310-cp310-manylinux_2_17_x86_64.manylinux2014_x86_64.whl (174 kB)\n",
            "\u001b[2K     \u001b[90m━━━━━━━━━━━━━━━━━━━━━━━━━━━━━━━━━━━━━━━━\u001b[0m \u001b[32m174.2/174.2 kB\u001b[0m \u001b[31m1.5 MB/s\u001b[0m eta \u001b[36m0:00:00\u001b[0m\n",
            "\u001b[?25hRequirement already satisfied: attrs in /usr/local/lib/python3.10/dist-packages (from apache-sedona) (23.2.0)\n",
            "Requirement already satisfied: shapely>=1.7.0 in /usr/local/lib/python3.10/dist-packages (from apache-sedona) (2.0.4)\n",
            "Collecting rasterio>=1.2.10 (from apache-sedona)\n",
            "  Downloading rasterio-1.3.10-cp310-cp310-manylinux2014_x86_64.whl (21.5 MB)\n",
            "\u001b[2K     \u001b[90m━━━━━━━━━━━━━━━━━━━━━━━━━━━━━━━━━━━━━━━━\u001b[0m \u001b[32m21.5/21.5 MB\u001b[0m \u001b[31m41.1 MB/s\u001b[0m eta \u001b[36m0:00:00\u001b[0m\n",
            "\u001b[?25hCollecting affine (from rasterio>=1.2.10->apache-sedona)\n",
            "  Downloading affine-2.4.0-py3-none-any.whl (15 kB)\n",
            "Requirement already satisfied: certifi in /usr/local/lib/python3.10/dist-packages (from rasterio>=1.2.10->apache-sedona) (2024.2.2)\n",
            "Requirement already satisfied: click>=4.0 in /usr/local/lib/python3.10/dist-packages (from rasterio>=1.2.10->apache-sedona) (8.1.7)\n",
            "Requirement already satisfied: cligj>=0.5 in /usr/local/lib/python3.10/dist-packages (from rasterio>=1.2.10->apache-sedona) (0.7.2)\n",
            "Requirement already satisfied: numpy in /usr/local/lib/python3.10/dist-packages (from rasterio>=1.2.10->apache-sedona) (1.25.2)\n",
            "Collecting snuggs>=1.4.1 (from rasterio>=1.2.10->apache-sedona)\n",
            "  Downloading snuggs-1.4.7-py3-none-any.whl (5.4 kB)\n",
            "Requirement already satisfied: click-plugins in /usr/local/lib/python3.10/dist-packages (from rasterio>=1.2.10->apache-sedona) (1.1.1)\n",
            "Requirement already satisfied: setuptools in /usr/local/lib/python3.10/dist-packages (from rasterio>=1.2.10->apache-sedona) (67.7.2)\n",
            "Requirement already satisfied: pyparsing>=2.1.6 in /usr/local/lib/python3.10/dist-packages (from snuggs>=1.4.1->rasterio>=1.2.10->apache-sedona) (3.1.2)\n",
            "Installing collected packages: snuggs, affine, rasterio, apache-sedona\n",
            "Successfully installed affine-2.4.0 apache-sedona-1.6.0 rasterio-1.3.10 snuggs-1.4.7\n"
          ]
        }
      ],
      "source": [
        "!pip install apache-sedona"
      ]
    },
    {
      "cell_type": "markdown",
      "source": [
        "For the sake of this tutorial we are going to use the Spark engine that is included in the Pyspark distribution. Since Sedona needs Spark $3.4.0$ we need to make sure that we choose the correct PySpark version."
      ],
      "metadata": {
        "id": "QOQHjm-fy8Uj"
      }
    },
    {
      "cell_type": "code",
      "source": [
        "!pip install pyspark==3.4.0"
      ],
      "metadata": {
        "colab": {
          "base_uri": "https://localhost:8080/"
        },
        "id": "a6jgrBFZs_Qx",
        "outputId": "2782d6a1-a0c4-46c5-d371-4ba7f4aae298"
      },
      "execution_count": 2,
      "outputs": [
        {
          "output_type": "stream",
          "name": "stdout",
          "text": [
            "Collecting pyspark==3.4.0\n",
            "  Downloading pyspark-3.4.0.tar.gz (310.8 MB)\n",
            "\u001b[2K     \u001b[90m━━━━━━━━━━━━━━━━━━━━━━━━━━━━━━━━━━━━━━━━\u001b[0m \u001b[32m310.8/310.8 MB\u001b[0m \u001b[31m3.7 MB/s\u001b[0m eta \u001b[36m0:00:00\u001b[0m\n",
            "\u001b[?25h  Preparing metadata (setup.py) ... \u001b[?25l\u001b[?25hdone\n",
            "Requirement already satisfied: py4j==0.10.9.7 in /usr/local/lib/python3.10/dist-packages (from pyspark==3.4.0) (0.10.9.7)\n",
            "Building wheels for collected packages: pyspark\n",
            "  Building wheel for pyspark (setup.py) ... \u001b[?25l\u001b[?25hdone\n",
            "  Created wheel for pyspark: filename=pyspark-3.4.0-py2.py3-none-any.whl size=311317122 sha256=3f82436ddf437a4a28b4d9ad489ffbe7458accd1eecaf1f0bf084627377b30a9\n",
            "  Stored in directory: /root/.cache/pip/wheels/7b/1b/4b/3363a1d04368e7ff0d408e57ff57966fcdf00583774e761327\n",
            "Successfully built pyspark\n",
            "Installing collected packages: pyspark\n",
            "Successfully installed pyspark-3.4.0\n"
          ]
        }
      ]
    },
    {
      "cell_type": "markdown",
      "source": [
        "Verify that PySpark is using Spark version $3.4.0$."
      ],
      "metadata": {
        "id": "NX8-hGa90tAu"
      }
    },
    {
      "cell_type": "code",
      "source": [
        "!pyspark --version"
      ],
      "metadata": {
        "id": "WNtkrTykyYgl",
        "colab": {
          "base_uri": "https://localhost:8080/"
        },
        "outputId": "28d0bd28-b771-4d93-9faa-8949c5b6cf40"
      },
      "execution_count": 3,
      "outputs": [
        {
          "output_type": "stream",
          "name": "stdout",
          "text": [
            "Welcome to\n",
            "      ____              __\n",
            "     / __/__  ___ _____/ /__\n",
            "    _\\ \\/ _ \\/ _ `/ __/  '_/\n",
            "   /___/ .__/\\_,_/_/ /_/\\_\\   version 3.4.0\n",
            "      /_/\n",
            "                        \n",
            "Using Scala version 2.12.17, OpenJDK 64-Bit Server VM, 11.0.22\n",
            "Branch HEAD\n",
            "Compiled by user xinrong.meng on 2023-04-07T02:18:01Z\n",
            "Revision 87a5442f7ed96b11051d8a9333476d080054e5a0\n",
            "Url https://github.com/apache/spark\n",
            "Type --help for more information.\n"
          ]
        }
      ]
    },
    {
      "cell_type": "markdown",
      "source": [
        "### Install Geopandas\n",
        "\n",
        "The libraries `geopandas` and `shapely` are available by default on Google Colab."
      ],
      "metadata": {
        "id": "76yI9hGZz_Ss"
      }
    },
    {
      "cell_type": "code",
      "source": [
        "!pip install geopandas"
      ],
      "metadata": {
        "colab": {
          "base_uri": "https://localhost:8080/"
        },
        "id": "KliMM6ka0Qee",
        "outputId": "603cfb6f-be3a-4682-9aa8-dd922c39e460"
      },
      "execution_count": 4,
      "outputs": [
        {
          "output_type": "stream",
          "name": "stdout",
          "text": [
            "Requirement already satisfied: geopandas in /usr/local/lib/python3.10/dist-packages (0.13.2)\n",
            "Requirement already satisfied: fiona>=1.8.19 in /usr/local/lib/python3.10/dist-packages (from geopandas) (1.9.6)\n",
            "Requirement already satisfied: packaging in /usr/local/lib/python3.10/dist-packages (from geopandas) (24.0)\n",
            "Requirement already satisfied: pandas>=1.1.0 in /usr/local/lib/python3.10/dist-packages (from geopandas) (2.0.3)\n",
            "Requirement already satisfied: pyproj>=3.0.1 in /usr/local/lib/python3.10/dist-packages (from geopandas) (3.6.1)\n",
            "Requirement already satisfied: shapely>=1.7.1 in /usr/local/lib/python3.10/dist-packages (from geopandas) (2.0.4)\n",
            "Requirement already satisfied: attrs>=19.2.0 in /usr/local/lib/python3.10/dist-packages (from fiona>=1.8.19->geopandas) (23.2.0)\n",
            "Requirement already satisfied: certifi in /usr/local/lib/python3.10/dist-packages (from fiona>=1.8.19->geopandas) (2024.2.2)\n",
            "Requirement already satisfied: click~=8.0 in /usr/local/lib/python3.10/dist-packages (from fiona>=1.8.19->geopandas) (8.1.7)\n",
            "Requirement already satisfied: click-plugins>=1.0 in /usr/local/lib/python3.10/dist-packages (from fiona>=1.8.19->geopandas) (1.1.1)\n",
            "Requirement already satisfied: cligj>=0.5 in /usr/local/lib/python3.10/dist-packages (from fiona>=1.8.19->geopandas) (0.7.2)\n",
            "Requirement already satisfied: six in /usr/local/lib/python3.10/dist-packages (from fiona>=1.8.19->geopandas) (1.16.0)\n",
            "Requirement already satisfied: python-dateutil>=2.8.2 in /usr/local/lib/python3.10/dist-packages (from pandas>=1.1.0->geopandas) (2.8.2)\n",
            "Requirement already satisfied: pytz>=2020.1 in /usr/local/lib/python3.10/dist-packages (from pandas>=1.1.0->geopandas) (2023.4)\n",
            "Requirement already satisfied: tzdata>=2022.1 in /usr/local/lib/python3.10/dist-packages (from pandas>=1.1.0->geopandas) (2024.1)\n",
            "Requirement already satisfied: numpy>=1.21.0 in /usr/local/lib/python3.10/dist-packages (from pandas>=1.1.0->geopandas) (1.25.2)\n"
          ]
        }
      ]
    },
    {
      "cell_type": "code",
      "source": [
        "!pip install shapely"
      ],
      "metadata": {
        "colab": {
          "base_uri": "https://localhost:8080/"
        },
        "id": "1ua2XEC51QFT",
        "outputId": "f8ee4580-5538-47ac-8879-d0a2dd617c64"
      },
      "execution_count": 5,
      "outputs": [
        {
          "output_type": "stream",
          "name": "stdout",
          "text": [
            "Requirement already satisfied: shapely in /usr/local/lib/python3.10/dist-packages (2.0.4)\n",
            "Requirement already satisfied: numpy<3,>=1.14 in /usr/local/lib/python3.10/dist-packages (from shapely) (1.25.2)\n"
          ]
        }
      ]
    },
    {
      "cell_type": "markdown",
      "source": [
        "## Download the data\n",
        "\n",
        "Since the data for the demo is in the Sedona's Github repository, we are going to clone Sedona's GitHub source code and copy the `data` folder under the current directory. We actually do not need the whole repository, just the `data` folder."
      ],
      "metadata": {
        "id": "rhVHMoa31bQ6"
      }
    },
    {
      "cell_type": "code",
      "source": [
        "%%bash\n",
        "\n",
        "[ -d sedona ] || git clone https://github.com/apache/sedona.git\n",
        "\n",
        "cp -r sedona/docs/usecases/data ./"
      ],
      "metadata": {
        "colab": {
          "base_uri": "https://localhost:8080/"
        },
        "id": "G2CHBEGcwXrW",
        "outputId": "9f5d7ed4-237d-4df3-81a8-4c3629048775"
      },
      "execution_count": 6,
      "outputs": [
        {
          "output_type": "stream",
          "name": "stderr",
          "text": [
            "Cloning into 'sedona'...\n",
            "Updating files:  38% (493/1266)\rUpdating files:  39% (494/1266)\rUpdating files:  40% (507/1266)\rUpdating files:  41% (520/1266)\rUpdating files:  42% (532/1266)\rUpdating files:  43% (545/1266)\rUpdating files:  44% (558/1266)\rUpdating files:  45% (570/1266)\rUpdating files:  46% (583/1266)\rUpdating files:  47% (596/1266)\rUpdating files:  48% (608/1266)\rUpdating files:  49% (621/1266)\rUpdating files:  50% (633/1266)\rUpdating files:  51% (646/1266)\rUpdating files:  52% (659/1266)\rUpdating files:  53% (671/1266)\rUpdating files:  54% (684/1266)\rUpdating files:  55% (697/1266)\rUpdating files:  56% (709/1266)\rUpdating files:  57% (722/1266)\rUpdating files:  58% (735/1266)\rUpdating files:  59% (747/1266)\rUpdating files:  60% (760/1266)\rUpdating files:  61% (773/1266)\rUpdating files:  62% (785/1266)\rUpdating files:  63% (798/1266)\rUpdating files:  64% (811/1266)\rUpdating files:  65% (823/1266)\rUpdating files:  66% (836/1266)\rUpdating files:  67% (849/1266)\rUpdating files:  68% (861/1266)\rUpdating files:  69% (874/1266)\rUpdating files:  70% (887/1266)\rUpdating files:  71% (899/1266)\rUpdating files:  72% (912/1266)\rUpdating files:  73% (925/1266)\rUpdating files:  74% (937/1266)\rUpdating files:  75% (950/1266)\rUpdating files:  76% (963/1266)\rUpdating files:  77% (975/1266)\rUpdating files:  78% (988/1266)\rUpdating files:  79% (1001/1266)\rUpdating files:  80% (1013/1266)\rUpdating files:  81% (1026/1266)\rUpdating files:  82% (1039/1266)\rUpdating files:  83% (1051/1266)\rUpdating files:  84% (1064/1266)\rUpdating files:  85% (1077/1266)\rUpdating files:  86% (1089/1266)\rUpdating files:  87% (1102/1266)\rUpdating files:  88% (1115/1266)\rUpdating files:  89% (1127/1266)\rUpdating files:  90% (1140/1266)\rUpdating files:  91% (1153/1266)\rUpdating files:  92% (1165/1266)\rUpdating files:  93% (1178/1266)\rUpdating files:  94% (1191/1266)\rUpdating files:  95% (1203/1266)\rUpdating files:  96% (1216/1266)\rUpdating files:  97% (1229/1266)\rUpdating files:  98% (1241/1266)\rUpdating files:  99% (1254/1266)\rUpdating files: 100% (1266/1266)\rUpdating files: 100% (1266/1266), done.\n"
          ]
        }
      ]
    },
    {
      "cell_type": "markdown",
      "source": [
        "Verify the presence of data in the designated `data` folder."
      ],
      "metadata": {
        "id": "qQVz6ckaScn8"
      }
    },
    {
      "cell_type": "code",
      "source": [
        "!ls data"
      ],
      "metadata": {
        "colab": {
          "base_uri": "https://localhost:8080/"
        },
        "id": "Rxy-t1JnRnf6",
        "outputId": "3c962613-6314-4d84-f7dd-5a21eb57ba8a"
      },
      "execution_count": 7,
      "outputs": [
        {
          "output_type": "stream",
          "name": "stdout",
          "text": [
            "arealm-small.csv\t gis_osm_pois_free_1.shp\t primaryroads-polygon.csv\n",
            "county_small.tsv\t gis_osm_pois_free_1.shx\t raster\n",
            "county_small_wkb.tsv\t ne_50m_admin_0_countries_lakes  testpoint.csv\n",
            "gis_osm_pois_free_1.cpg  ne_50m_airports\t\t testPolygon.json\n",
            "gis_osm_pois_free_1.dbf  polygon\t\t\t zcta510-small.csv\n",
            "gis_osm_pois_free_1.prj  primaryroads-linestring.csv\n"
          ]
        }
      ]
    },
    {
      "cell_type": "markdown",
      "source": [
        "# Apache Sedona Core demo\n",
        "\n",
        "The notebook is available at the following link: https://github.com/apache/sedona/blob/master/docs/usecases/ApacheSedonaCore.ipynb.\n",
        "\n",
        "Refer to https://mvnrepository.com/artifact/org.apache.sedona/sedona-spark-3.4 for making sense of packages and versions.\n",
        "\n",
        "\n"
      ],
      "metadata": {
        "id": "Mk20FV3ZHj_U"
      }
    },
    {
      "cell_type": "markdown",
      "metadata": {
        "id": "AcjGVcGzOjcK"
      },
      "source": [
        "```\n",
        "Licensed to the Apache Software Foundation (ASF) under one\n",
        "or more contributor license agreements.  See the NOTICE file\n",
        "distributed with this work for additional information\n",
        "regarding copyright ownership.  The ASF licenses this file\n",
        "to you under the Apache License, Version 2.0 (the\n",
        "\"License\"); you may not use this file except in compliance\n",
        "with the License.  You may obtain a copy of the License at\n",
        "  http://www.apache.org/licenses/LICENSE-2.0\n",
        "Unless required by applicable law or agreed to in writing,\n",
        "software distributed under the License is distributed on an\n",
        "\"AS IS\" BASIS, WITHOUT WARRANTIES OR CONDITIONS OF ANY\n",
        "KIND, either express or implied.  See the License for the\n",
        "specific language governing permissions and limitations\n",
        "under the License.\n",
        "```"
      ]
    },
    {
      "cell_type": "code",
      "execution_count": 8,
      "metadata": {
        "id": "sK9oIz0FOjcN"
      },
      "outputs": [],
      "source": [
        "from pyspark.sql import SparkSession\n",
        "from pyspark import StorageLevel\n",
        "import geopandas as gpd\n",
        "import pandas as pd\n",
        "from pyspark.sql.types import StructType\n",
        "from pyspark.sql.types import StructField\n",
        "from pyspark.sql.types import StringType\n",
        "from pyspark.sql.types import LongType\n",
        "from shapely.geometry import Point\n",
        "from shapely.geometry import Polygon\n",
        "\n",
        "from sedona.spark import *\n",
        "from sedona.core.geom.envelope import Envelope"
      ]
    },
    {
      "cell_type": "markdown",
      "source": [
        "Note: the next cell might take a while to execute. Stretch your legs and contemplate the mysteries of the universe in the meantime. Hang tight!"
      ],
      "metadata": {
        "id": "_hScR-pd2rVi"
      }
    },
    {
      "cell_type": "code",
      "execution_count": 9,
      "metadata": {
        "id": "HzVqFLBtOjcO"
      },
      "outputs": [],
      "source": [
        "config = SedonaContext.builder() .\\\n",
        "    config('spark.jars.packages',\n",
        "           'org.apache.sedona:sedona-spark-3.4_2.12:1.6.0,'\n",
        "           'org.datasyslab:geotools-wrapper:1.6.0-28.2,'\n",
        "           'uk.co.gresearch.spark:spark-extension_2.12:2.11.0-3.4'). \\\n",
        "    getOrCreate()\n",
        "\n",
        "\n",
        "sedona = SedonaContext.create(config)"
      ]
    },
    {
      "cell_type": "code",
      "execution_count": 10,
      "metadata": {
        "id": "JI32GOnEOjcO",
        "colab": {
          "base_uri": "https://localhost:8080/",
          "height": 197
        },
        "outputId": "a359cea2-5829-4de6-a8a6-bad6c3413bdc"
      },
      "outputs": [
        {
          "output_type": "execute_result",
          "data": {
            "text/plain": [
              "<SparkContext master=local[*] appName=pyspark-shell>"
            ],
            "text/html": [
              "\n",
              "        <div>\n",
              "            <p><b>SparkContext</b></p>\n",
              "\n",
              "            <p><a href=\"http://0f7e9f17571e:4040\">Spark UI</a></p>\n",
              "\n",
              "            <dl>\n",
              "              <dt>Version</dt>\n",
              "                <dd><code>v3.4.0</code></dd>\n",
              "              <dt>Master</dt>\n",
              "                <dd><code>local[*]</code></dd>\n",
              "              <dt>AppName</dt>\n",
              "                <dd><code>pyspark-shell</code></dd>\n",
              "            </dl>\n",
              "        </div>\n",
              "        "
            ]
          },
          "metadata": {},
          "execution_count": 10
        }
      ],
      "source": [
        "sc = sedona.sparkContext\n",
        "sc"
      ]
    },
    {
      "cell_type": "markdown",
      "source": [
        "`config` is the Spark session"
      ],
      "metadata": {
        "id": "3ZV55Eom3oRH"
      }
    },
    {
      "cell_type": "code",
      "source": [
        "type(config)"
      ],
      "metadata": {
        "colab": {
          "base_uri": "https://localhost:8080/",
          "height": 204
        },
        "id": "dK2TLoxmyD5m",
        "outputId": "bccf41db-27a0-46fe-bc34-8e440e0bc170"
      },
      "execution_count": 11,
      "outputs": [
        {
          "output_type": "execute_result",
          "data": {
            "text/plain": [
              "pyspark.sql.session.SparkSession"
            ],
            "text/html": [
              "<div style=\"max-width:800px; border: 1px solid var(--colab-border-color);\"><style>\n",
              "      pre.function-repr-contents {\n",
              "        overflow-x: auto;\n",
              "        padding: 8px 12px;\n",
              "        max-height: 500px;\n",
              "      }\n",
              "\n",
              "      pre.function-repr-contents.function-repr-contents-collapsed {\n",
              "        cursor: pointer;\n",
              "        max-height: 100px;\n",
              "      }\n",
              "    </style>\n",
              "    <pre style=\"white-space: initial; background:\n",
              "         var(--colab-secondary-surface-color); padding: 8px 12px;\n",
              "         border-bottom: 1px solid var(--colab-border-color);\"><b>pyspark.sql.session.SparkSession</b><br/>def __init__(sparkContext: SparkContext, jsparkSession: Optional[JavaObject]=None, options: Dict[str, Any]={})</pre><pre class=\"function-repr-contents function-repr-contents-collapsed\" style=\"\"><a class=\"filepath\" style=\"display:none\" href=\"#\">/usr/local/lib/python3.10/dist-packages/pyspark/sql/session.py</a>The entry point to programming Spark with the Dataset and DataFrame API.\n",
              "\n",
              "A SparkSession can be used to create :class:`DataFrame`, register :class:`DataFrame` as\n",
              "tables, execute SQL over tables, cache tables, and read parquet files.\n",
              "To create a :class:`SparkSession`, use the following builder pattern:\n",
              "\n",
              ".. versionchanged:: 3.4.0\n",
              "    Supports Spark Connect.\n",
              "\n",
              ".. autoattribute:: builder\n",
              "   :annotation:\n",
              "\n",
              "Examples\n",
              "--------\n",
              "Create a Spark session.\n",
              "\n",
              "&gt;&gt;&gt; spark = (\n",
              "...     SparkSession.builder\n",
              "...         .master(&quot;local&quot;)\n",
              "...         .appName(&quot;Word Count&quot;)\n",
              "...         .config(&quot;spark.some.config.option&quot;, &quot;some-value&quot;)\n",
              "...         .getOrCreate()\n",
              "... )\n",
              "\n",
              "Create a Spark session with Spark Connect.\n",
              "\n",
              "&gt;&gt;&gt; spark = (\n",
              "...     SparkSession.builder\n",
              "...         .remote(&quot;sc://localhost&quot;)\n",
              "...         .appName(&quot;Word Count&quot;)\n",
              "...         .config(&quot;spark.some.config.option&quot;, &quot;some-value&quot;)\n",
              "...         .getOrCreate()\n",
              "... )  # doctest: +SKIP</pre>\n",
              "      <script>\n",
              "      if (google.colab.kernel.accessAllowed && google.colab.files && google.colab.files.view) {\n",
              "        for (const element of document.querySelectorAll('.filepath')) {\n",
              "          element.style.display = 'block'\n",
              "          element.onclick = (event) => {\n",
              "            event.preventDefault();\n",
              "            event.stopPropagation();\n",
              "            google.colab.files.view(element.textContent, 159);\n",
              "          };\n",
              "        }\n",
              "      }\n",
              "      for (const element of document.querySelectorAll('.function-repr-contents')) {\n",
              "        element.onclick = (event) => {\n",
              "          event.preventDefault();\n",
              "          event.stopPropagation();\n",
              "          element.classList.toggle('function-repr-contents-collapsed');\n",
              "        };\n",
              "      }\n",
              "      </script>\n",
              "      </div>"
            ]
          },
          "metadata": {},
          "execution_count": 11
        }
      ]
    },
    {
      "cell_type": "markdown",
      "metadata": {
        "id": "OdQM3oaYOjcO"
      },
      "source": [
        "# Create SpatialRDD"
      ]
    },
    {
      "cell_type": "markdown",
      "metadata": {
        "id": "X2umXxYfOjcO"
      },
      "source": [
        "## Reading to PointRDD from CSV file"
      ]
    },
    {
      "cell_type": "markdown",
      "metadata": {
        "id": "j8Rgv--0OjcP"
      },
      "source": [
        "We now want load the CSV file into Apache Sedona PointRDD\n",
        "```\n",
        "testattribute0,-88.331492,32.324142,testattribute1,testattribute2\n",
        "testattribute0,-88.175933,32.360763,testattribute1,testattribute2\n",
        "testattribute0,-88.388954,32.357073,testattribute1,testattribute2\n",
        "testattribute0,-88.221102,32.35078,testattribute1,testattribute2\n",
        "testattribute0,-88.323995,32.950671,testattribute1,testattribute2\n",
        "testattribute0,-88.231077,32.700812,testattribute1,testattribute2\n",
        "```"
      ]
    },
    {
      "cell_type": "code",
      "source": [
        "!head data/arealm-small.csv"
      ],
      "metadata": {
        "colab": {
          "base_uri": "https://localhost:8080/"
        },
        "id": "a6pMS1VPxYx6",
        "outputId": "e09cf969-283e-4639-a64c-64240f24a780"
      },
      "execution_count": 12,
      "outputs": [
        {
          "output_type": "stream",
          "name": "stdout",
          "text": [
            "testattribute0,-88.331492,32.324142,testattribute1,testattribute2\r\n",
            "testattribute0,-88.175933,32.360763,testattribute1,testattribute2\r\n",
            "testattribute0,-88.388954,32.357073,testattribute1,testattribute2\r\n",
            "testattribute0,-88.221102,32.35078,testattribute1,testattribute2\r\n",
            "testattribute0,-88.323995,32.950671,testattribute1,testattribute2\r\n",
            "testattribute0,-88.231077,32.700812,testattribute1,testattribute2\r\n",
            "testattribute0,-88.349276,32.548266,testattribute1,testattribute2\r\n",
            "testattribute0,-88.304259,32.488903,testattribute1,testattribute2\r\n",
            "testattribute0,-88.182481,32.59966,testattribute1,testattribute2\r\n",
            "testattribute0,-86.955186,32.617088,testattribute1,testattribute2\r\n"
          ]
        }
      ]
    },
    {
      "cell_type": "code",
      "execution_count": 13,
      "metadata": {
        "id": "gusbYu1fOjcP"
      },
      "outputs": [],
      "source": [
        "point_rdd = PointRDD(sc, \"data/arealm-small.csv\", 1, FileDataSplitter.CSV, True, 10)"
      ]
    },
    {
      "cell_type": "code",
      "execution_count": 14,
      "metadata": {
        "id": "Ykc5FwouOjcP",
        "outputId": "f4e53dd9-e52a-4932-b461-bf8946d277ca",
        "colab": {
          "base_uri": "https://localhost:8080/"
        }
      },
      "outputs": [
        {
          "output_type": "execute_result",
          "data": {
            "text/plain": [
              "3000"
            ]
          },
          "metadata": {},
          "execution_count": 14
        }
      ],
      "source": [
        "## Getting approximate total count\n",
        "point_rdd.approximateTotalCount"
      ]
    },
    {
      "cell_type": "code",
      "execution_count": 15,
      "metadata": {
        "id": "PdEjrrRHOjcP",
        "outputId": "dd8da177-602f-464f-e386-b6e9ab31ae0c",
        "colab": {
          "base_uri": "https://localhost:8080/",
          "height": 121
        }
      },
      "outputs": [
        {
          "output_type": "execute_result",
          "data": {
            "text/plain": [
              "Envelope(-173.120769, -84.965961, 30.244859, 71.355134)"
            ],
            "image/svg+xml": "<svg xmlns=\"http://www.w3.org/2000/svg\" xmlns:xlink=\"http://www.w3.org/1999/xlink\" width=\"100.0\" height=\"100.0\" viewBox=\"-176.64696132 26.718666680000002 95.20719264000002 48.162659640000015\" preserveAspectRatio=\"xMinYMin meet\"><g transform=\"matrix(1,0,0,-1,0,101.59999300000001)\"><path fill-rule=\"evenodd\" fill=\"#66cc99\" stroke=\"#555555\" stroke-width=\"1.9041438528000003\" opacity=\"0.6\" d=\"M -84.965961,30.244859 L -84.965961,71.355134 L -173.120769,71.355134 L -173.120769,30.244859 L -84.965961,30.244859 z\" /></g></svg>"
          },
          "metadata": {},
          "execution_count": 15
        }
      ],
      "source": [
        "# getting boundary for PointRDD or any other SpatialRDD, it returns Enelope object which inherits from\n",
        "# shapely.geometry.Polygon\n",
        "point_rdd.boundary()"
      ]
    },
    {
      "cell_type": "code",
      "execution_count": 16,
      "metadata": {
        "id": "MDV2-f2tOjcP",
        "outputId": "0ae10b4d-d55c-4029-ddad-8b5feea7e3f1",
        "colab": {
          "base_uri": "https://localhost:8080/"
        }
      },
      "outputs": [
        {
          "output_type": "execute_result",
          "data": {
            "text/plain": [
              "True"
            ]
          },
          "metadata": {},
          "execution_count": 16
        }
      ],
      "source": [
        "# To run analyze please use function analyze\n",
        "point_rdd.analyze()"
      ]
    },
    {
      "cell_type": "code",
      "execution_count": 17,
      "metadata": {
        "id": "puMA8o6POjcP",
        "outputId": "ce5d7290-0afc-4668-919b-103560e66d5c",
        "colab": {
          "base_uri": "https://localhost:8080/",
          "height": 121
        }
      },
      "outputs": [
        {
          "output_type": "execute_result",
          "data": {
            "text/plain": [
              "Envelope(-173.120769, -84.965961, 30.244859, 71.355134)"
            ],
            "image/svg+xml": "<svg xmlns=\"http://www.w3.org/2000/svg\" xmlns:xlink=\"http://www.w3.org/1999/xlink\" width=\"100.0\" height=\"100.0\" viewBox=\"-176.64696132 26.718666680000002 95.20719264000002 48.162659640000015\" preserveAspectRatio=\"xMinYMin meet\"><g transform=\"matrix(1,0,0,-1,0,101.59999300000001)\"><path fill-rule=\"evenodd\" fill=\"#66cc99\" stroke=\"#555555\" stroke-width=\"1.9041438528000003\" opacity=\"0.6\" d=\"M -84.965961,30.244859 L -84.965961,71.355134 L -173.120769,71.355134 L -173.120769,30.244859 L -84.965961,30.244859 z\" /></g></svg>"
          },
          "metadata": {},
          "execution_count": 17
        }
      ],
      "source": [
        "# Finding boundary envelope for PointRDD or any other SpatialRDD, it returns Enelope object which inherits from\n",
        "# shapely.geometry.Polygon\n",
        "point_rdd.boundaryEnvelope"
      ]
    },
    {
      "cell_type": "code",
      "execution_count": 18,
      "metadata": {
        "id": "hgOCi8lJOjcQ",
        "outputId": "91448cee-a782-4f85-9759-539b463d7cb3",
        "colab": {
          "base_uri": "https://localhost:8080/"
        }
      },
      "outputs": [
        {
          "output_type": "execute_result",
          "data": {
            "text/plain": [
              "2996"
            ]
          },
          "metadata": {},
          "execution_count": 18
        }
      ],
      "source": [
        "# Calculate number of records without duplicates\n",
        "point_rdd.countWithoutDuplicates()"
      ]
    },
    {
      "cell_type": "code",
      "execution_count": 19,
      "metadata": {
        "id": "-l1BvhakOjcQ",
        "outputId": "981044d9-8f51-4542-965f-e496ad53505e",
        "colab": {
          "base_uri": "https://localhost:8080/",
          "height": 35
        }
      },
      "outputs": [
        {
          "output_type": "execute_result",
          "data": {
            "text/plain": [
              "''"
            ],
            "application/vnd.google.colaboratory.intrinsic+json": {
              "type": "string"
            }
          },
          "metadata": {},
          "execution_count": 19
        }
      ],
      "source": [
        "# Getting source epsg code\n",
        "point_rdd.getSourceEpsgCode()"
      ]
    },
    {
      "cell_type": "code",
      "execution_count": 20,
      "metadata": {
        "id": "tiFEDeNdOjcQ",
        "outputId": "e534a1ef-d8dc-43f3-9f41-ad7a4d10bfc1",
        "colab": {
          "base_uri": "https://localhost:8080/",
          "height": 35
        }
      },
      "outputs": [
        {
          "output_type": "execute_result",
          "data": {
            "text/plain": [
              "''"
            ],
            "application/vnd.google.colaboratory.intrinsic+json": {
              "type": "string"
            }
          },
          "metadata": {},
          "execution_count": 20
        }
      ],
      "source": [
        "# Getting target epsg code\n",
        "point_rdd.getTargetEpsgCode()"
      ]
    },
    {
      "cell_type": "code",
      "execution_count": 21,
      "metadata": {
        "id": "oip1bNogOjcQ",
        "outputId": "3450211e-2276-461e-aa6e-ab3980dc9f7f",
        "colab": {
          "base_uri": "https://localhost:8080/"
        }
      },
      "outputs": [
        {
          "output_type": "execute_result",
          "data": {
            "text/plain": [
              "True"
            ]
          },
          "metadata": {},
          "execution_count": 21
        }
      ],
      "source": [
        "# Spatial partitioning data\n",
        "point_rdd.spatialPartitioning(GridType.KDBTREE)"
      ]
    },
    {
      "cell_type": "markdown",
      "metadata": {
        "id": "setaW5adOjcQ"
      },
      "source": [
        "## Operations on RawSpatialRDD"
      ]
    },
    {
      "cell_type": "markdown",
      "metadata": {
        "id": "XeAQe3qqOjcQ"
      },
      "source": [
        "rawSpatialRDD method returns RDD which consists of GeoData objects which has 2 attributes\n",
        "<li> geom: shapely.geometry.BaseGeometry </li>\n",
        "<li> userData: str </li>\n",
        "\n",
        "You can use any operations on those objects and spread across machines"
      ]
    },
    {
      "cell_type": "code",
      "execution_count": 22,
      "metadata": {
        "id": "pNlkO6kYOjcR",
        "outputId": "4d3616ab-a128-4ec9-ee96-8370c876ca4c",
        "colab": {
          "base_uri": "https://localhost:8080/"
        }
      },
      "outputs": [
        {
          "output_type": "execute_result",
          "data": {
            "text/plain": [
              "[Geometry: Point userData: testattribute0\ttestattribute1\ttestattribute2]"
            ]
          },
          "metadata": {},
          "execution_count": 22
        }
      ],
      "source": [
        "# take firs element\n",
        "point_rdd.rawSpatialRDD.take(1)"
      ]
    },
    {
      "cell_type": "code",
      "execution_count": 23,
      "metadata": {
        "id": "22UNTZiIOjcR",
        "outputId": "765eda6d-cf8b-4c87-dc87-b1aae1ca0375",
        "colab": {
          "base_uri": "https://localhost:8080/"
        }
      },
      "outputs": [
        {
          "output_type": "execute_result",
          "data": {
            "text/plain": [
              "[Geometry: Point userData: testattribute0\ttestattribute1\ttestattribute2,\n",
              " Geometry: Point userData: testattribute0\ttestattribute1\ttestattribute2,\n",
              " Geometry: Point userData: testattribute0\ttestattribute1\ttestattribute2,\n",
              " Geometry: Point userData: testattribute0\ttestattribute1\ttestattribute2,\n",
              " Geometry: Point userData: testattribute0\ttestattribute1\ttestattribute2]"
            ]
          },
          "metadata": {},
          "execution_count": 23
        }
      ],
      "source": [
        "# collect to Python list\n",
        "point_rdd.rawSpatialRDD.collect()[:5]"
      ]
    },
    {
      "cell_type": "code",
      "execution_count": 24,
      "metadata": {
        "id": "_vz8jzj6OjcR",
        "outputId": "f8fb3234-d828-44cb-941a-c7260aaac99a",
        "colab": {
          "base_uri": "https://localhost:8080/"
        }
      },
      "outputs": [
        {
          "output_type": "execute_result",
          "data": {
            "text/plain": [
              "[111.08786851399313,\n",
              " 110.92828303170774,\n",
              " 111.1385974283527,\n",
              " 110.97450594034112,\n",
              " 110.97122518072091]"
            ]
          },
          "metadata": {},
          "execution_count": 24
        }
      ],
      "source": [
        "# apply map functions, for example distance to Point(52 21)\n",
        "point_rdd.rawSpatialRDD.map(lambda x: x.geom.distance(Point(21, 52))).take(5)"
      ]
    },
    {
      "cell_type": "markdown",
      "metadata": {
        "id": "VJUwfnWbOjcR"
      },
      "source": [
        "## Transforming to GeoPandas"
      ]
    },
    {
      "cell_type": "markdown",
      "metadata": {
        "id": "HJT4cqunOjcR"
      },
      "source": [
        "## Loaded data can be transformed to GeoPandas DataFrame in a few ways"
      ]
    },
    {
      "cell_type": "markdown",
      "metadata": {
        "id": "ENst5TKKOjcR"
      },
      "source": [
        "### Directly from RDD"
      ]
    },
    {
      "cell_type": "code",
      "execution_count": 25,
      "metadata": {
        "id": "khvSdVtROjcR"
      },
      "outputs": [],
      "source": [
        "point_rdd_to_geo = point_rdd.rawSpatialRDD.map(lambda x: [x.geom, *x.getUserData().split(\"\\t\")])"
      ]
    },
    {
      "cell_type": "code",
      "execution_count": 26,
      "metadata": {
        "id": "h_aQLibwOjcR"
      },
      "outputs": [],
      "source": [
        "point_gdf = gpd.GeoDataFrame(\n",
        "    point_rdd_to_geo.collect(), columns=[\"geom\", \"attr1\", \"attr2\", \"attr3\"], geometry=\"geom\"\n",
        ")"
      ]
    },
    {
      "cell_type": "code",
      "execution_count": 27,
      "metadata": {
        "id": "Ht7qYNuwOjcS",
        "outputId": "24e6acda-f1bb-4b46-f6e4-f011df4affb5",
        "colab": {
          "base_uri": "https://localhost:8080/",
          "height": 206
        }
      },
      "outputs": [
        {
          "output_type": "execute_result",
          "data": {
            "text/plain": [
              "                         geom           attr1           attr2           attr3\n",
              "0  POINT (-88.33149 32.32414)  testattribute0  testattribute1  testattribute2\n",
              "1  POINT (-88.17593 32.36076)  testattribute0  testattribute1  testattribute2\n",
              "2  POINT (-88.38895 32.35707)  testattribute0  testattribute1  testattribute2\n",
              "3  POINT (-88.22110 32.35078)  testattribute0  testattribute1  testattribute2\n",
              "4  POINT (-88.32399 32.95067)  testattribute0  testattribute1  testattribute2"
            ],
            "text/html": [
              "\n",
              "  <div id=\"df-6b29498a-1e1d-4bb2-9684-d7626387c660\" class=\"colab-df-container\">\n",
              "    <div>\n",
              "<style scoped>\n",
              "    .dataframe tbody tr th:only-of-type {\n",
              "        vertical-align: middle;\n",
              "    }\n",
              "\n",
              "    .dataframe tbody tr th {\n",
              "        vertical-align: top;\n",
              "    }\n",
              "\n",
              "    .dataframe thead th {\n",
              "        text-align: right;\n",
              "    }\n",
              "</style>\n",
              "<table border=\"1\" class=\"dataframe\">\n",
              "  <thead>\n",
              "    <tr style=\"text-align: right;\">\n",
              "      <th></th>\n",
              "      <th>geom</th>\n",
              "      <th>attr1</th>\n",
              "      <th>attr2</th>\n",
              "      <th>attr3</th>\n",
              "    </tr>\n",
              "  </thead>\n",
              "  <tbody>\n",
              "    <tr>\n",
              "      <th>0</th>\n",
              "      <td>POINT (-88.33149 32.32414)</td>\n",
              "      <td>testattribute0</td>\n",
              "      <td>testattribute1</td>\n",
              "      <td>testattribute2</td>\n",
              "    </tr>\n",
              "    <tr>\n",
              "      <th>1</th>\n",
              "      <td>POINT (-88.17593 32.36076)</td>\n",
              "      <td>testattribute0</td>\n",
              "      <td>testattribute1</td>\n",
              "      <td>testattribute2</td>\n",
              "    </tr>\n",
              "    <tr>\n",
              "      <th>2</th>\n",
              "      <td>POINT (-88.38895 32.35707)</td>\n",
              "      <td>testattribute0</td>\n",
              "      <td>testattribute1</td>\n",
              "      <td>testattribute2</td>\n",
              "    </tr>\n",
              "    <tr>\n",
              "      <th>3</th>\n",
              "      <td>POINT (-88.22110 32.35078)</td>\n",
              "      <td>testattribute0</td>\n",
              "      <td>testattribute1</td>\n",
              "      <td>testattribute2</td>\n",
              "    </tr>\n",
              "    <tr>\n",
              "      <th>4</th>\n",
              "      <td>POINT (-88.32399 32.95067)</td>\n",
              "      <td>testattribute0</td>\n",
              "      <td>testattribute1</td>\n",
              "      <td>testattribute2</td>\n",
              "    </tr>\n",
              "  </tbody>\n",
              "</table>\n",
              "</div>\n",
              "    <div class=\"colab-df-buttons\">\n",
              "\n",
              "  <div class=\"colab-df-container\">\n",
              "    <button class=\"colab-df-convert\" onclick=\"convertToInteractive('df-6b29498a-1e1d-4bb2-9684-d7626387c660')\"\n",
              "            title=\"Convert this dataframe to an interactive table.\"\n",
              "            style=\"display:none;\">\n",
              "\n",
              "  <svg xmlns=\"http://www.w3.org/2000/svg\" height=\"24px\" viewBox=\"0 -960 960 960\">\n",
              "    <path d=\"M120-120v-720h720v720H120Zm60-500h600v-160H180v160Zm220 220h160v-160H400v160Zm0 220h160v-160H400v160ZM180-400h160v-160H180v160Zm440 0h160v-160H620v160ZM180-180h160v-160H180v160Zm440 0h160v-160H620v160Z\"/>\n",
              "  </svg>\n",
              "    </button>\n",
              "\n",
              "  <style>\n",
              "    .colab-df-container {\n",
              "      display:flex;\n",
              "      gap: 12px;\n",
              "    }\n",
              "\n",
              "    .colab-df-convert {\n",
              "      background-color: #E8F0FE;\n",
              "      border: none;\n",
              "      border-radius: 50%;\n",
              "      cursor: pointer;\n",
              "      display: none;\n",
              "      fill: #1967D2;\n",
              "      height: 32px;\n",
              "      padding: 0 0 0 0;\n",
              "      width: 32px;\n",
              "    }\n",
              "\n",
              "    .colab-df-convert:hover {\n",
              "      background-color: #E2EBFA;\n",
              "      box-shadow: 0px 1px 2px rgba(60, 64, 67, 0.3), 0px 1px 3px 1px rgba(60, 64, 67, 0.15);\n",
              "      fill: #174EA6;\n",
              "    }\n",
              "\n",
              "    .colab-df-buttons div {\n",
              "      margin-bottom: 4px;\n",
              "    }\n",
              "\n",
              "    [theme=dark] .colab-df-convert {\n",
              "      background-color: #3B4455;\n",
              "      fill: #D2E3FC;\n",
              "    }\n",
              "\n",
              "    [theme=dark] .colab-df-convert:hover {\n",
              "      background-color: #434B5C;\n",
              "      box-shadow: 0px 1px 3px 1px rgba(0, 0, 0, 0.15);\n",
              "      filter: drop-shadow(0px 1px 2px rgba(0, 0, 0, 0.3));\n",
              "      fill: #FFFFFF;\n",
              "    }\n",
              "  </style>\n",
              "\n",
              "    <script>\n",
              "      const buttonEl =\n",
              "        document.querySelector('#df-6b29498a-1e1d-4bb2-9684-d7626387c660 button.colab-df-convert');\n",
              "      buttonEl.style.display =\n",
              "        google.colab.kernel.accessAllowed ? 'block' : 'none';\n",
              "\n",
              "      async function convertToInteractive(key) {\n",
              "        const element = document.querySelector('#df-6b29498a-1e1d-4bb2-9684-d7626387c660');\n",
              "        const dataTable =\n",
              "          await google.colab.kernel.invokeFunction('convertToInteractive',\n",
              "                                                    [key], {});\n",
              "        if (!dataTable) return;\n",
              "\n",
              "        const docLinkHtml = 'Like what you see? Visit the ' +\n",
              "          '<a target=\"_blank\" href=https://colab.research.google.com/notebooks/data_table.ipynb>data table notebook</a>'\n",
              "          + ' to learn more about interactive tables.';\n",
              "        element.innerHTML = '';\n",
              "        dataTable['output_type'] = 'display_data';\n",
              "        await google.colab.output.renderOutput(dataTable, element);\n",
              "        const docLink = document.createElement('div');\n",
              "        docLink.innerHTML = docLinkHtml;\n",
              "        element.appendChild(docLink);\n",
              "      }\n",
              "    </script>\n",
              "  </div>\n",
              "\n",
              "\n",
              "<div id=\"df-610a8ba5-fb13-42e3-9dc9-33545712afed\">\n",
              "  <button class=\"colab-df-quickchart\" onclick=\"quickchart('df-610a8ba5-fb13-42e3-9dc9-33545712afed')\"\n",
              "            title=\"Suggest charts\"\n",
              "            style=\"display:none;\">\n",
              "\n",
              "<svg xmlns=\"http://www.w3.org/2000/svg\" height=\"24px\"viewBox=\"0 0 24 24\"\n",
              "     width=\"24px\">\n",
              "    <g>\n",
              "        <path d=\"M19 3H5c-1.1 0-2 .9-2 2v14c0 1.1.9 2 2 2h14c1.1 0 2-.9 2-2V5c0-1.1-.9-2-2-2zM9 17H7v-7h2v7zm4 0h-2V7h2v10zm4 0h-2v-4h2v4z\"/>\n",
              "    </g>\n",
              "</svg>\n",
              "  </button>\n",
              "\n",
              "<style>\n",
              "  .colab-df-quickchart {\n",
              "      --bg-color: #E8F0FE;\n",
              "      --fill-color: #1967D2;\n",
              "      --hover-bg-color: #E2EBFA;\n",
              "      --hover-fill-color: #174EA6;\n",
              "      --disabled-fill-color: #AAA;\n",
              "      --disabled-bg-color: #DDD;\n",
              "  }\n",
              "\n",
              "  [theme=dark] .colab-df-quickchart {\n",
              "      --bg-color: #3B4455;\n",
              "      --fill-color: #D2E3FC;\n",
              "      --hover-bg-color: #434B5C;\n",
              "      --hover-fill-color: #FFFFFF;\n",
              "      --disabled-bg-color: #3B4455;\n",
              "      --disabled-fill-color: #666;\n",
              "  }\n",
              "\n",
              "  .colab-df-quickchart {\n",
              "    background-color: var(--bg-color);\n",
              "    border: none;\n",
              "    border-radius: 50%;\n",
              "    cursor: pointer;\n",
              "    display: none;\n",
              "    fill: var(--fill-color);\n",
              "    height: 32px;\n",
              "    padding: 0;\n",
              "    width: 32px;\n",
              "  }\n",
              "\n",
              "  .colab-df-quickchart:hover {\n",
              "    background-color: var(--hover-bg-color);\n",
              "    box-shadow: 0 1px 2px rgba(60, 64, 67, 0.3), 0 1px 3px 1px rgba(60, 64, 67, 0.15);\n",
              "    fill: var(--button-hover-fill-color);\n",
              "  }\n",
              "\n",
              "  .colab-df-quickchart-complete:disabled,\n",
              "  .colab-df-quickchart-complete:disabled:hover {\n",
              "    background-color: var(--disabled-bg-color);\n",
              "    fill: var(--disabled-fill-color);\n",
              "    box-shadow: none;\n",
              "  }\n",
              "\n",
              "  .colab-df-spinner {\n",
              "    border: 2px solid var(--fill-color);\n",
              "    border-color: transparent;\n",
              "    border-bottom-color: var(--fill-color);\n",
              "    animation:\n",
              "      spin 1s steps(1) infinite;\n",
              "  }\n",
              "\n",
              "  @keyframes spin {\n",
              "    0% {\n",
              "      border-color: transparent;\n",
              "      border-bottom-color: var(--fill-color);\n",
              "      border-left-color: var(--fill-color);\n",
              "    }\n",
              "    20% {\n",
              "      border-color: transparent;\n",
              "      border-left-color: var(--fill-color);\n",
              "      border-top-color: var(--fill-color);\n",
              "    }\n",
              "    30% {\n",
              "      border-color: transparent;\n",
              "      border-left-color: var(--fill-color);\n",
              "      border-top-color: var(--fill-color);\n",
              "      border-right-color: var(--fill-color);\n",
              "    }\n",
              "    40% {\n",
              "      border-color: transparent;\n",
              "      border-right-color: var(--fill-color);\n",
              "      border-top-color: var(--fill-color);\n",
              "    }\n",
              "    60% {\n",
              "      border-color: transparent;\n",
              "      border-right-color: var(--fill-color);\n",
              "    }\n",
              "    80% {\n",
              "      border-color: transparent;\n",
              "      border-right-color: var(--fill-color);\n",
              "      border-bottom-color: var(--fill-color);\n",
              "    }\n",
              "    90% {\n",
              "      border-color: transparent;\n",
              "      border-bottom-color: var(--fill-color);\n",
              "    }\n",
              "  }\n",
              "</style>\n",
              "\n",
              "  <script>\n",
              "    async function quickchart(key) {\n",
              "      const quickchartButtonEl =\n",
              "        document.querySelector('#' + key + ' button');\n",
              "      quickchartButtonEl.disabled = true;  // To prevent multiple clicks.\n",
              "      quickchartButtonEl.classList.add('colab-df-spinner');\n",
              "      try {\n",
              "        const charts = await google.colab.kernel.invokeFunction(\n",
              "            'suggestCharts', [key], {});\n",
              "      } catch (error) {\n",
              "        console.error('Error during call to suggestCharts:', error);\n",
              "      }\n",
              "      quickchartButtonEl.classList.remove('colab-df-spinner');\n",
              "      quickchartButtonEl.classList.add('colab-df-quickchart-complete');\n",
              "    }\n",
              "    (() => {\n",
              "      let quickchartButtonEl =\n",
              "        document.querySelector('#df-610a8ba5-fb13-42e3-9dc9-33545712afed button');\n",
              "      quickchartButtonEl.style.display =\n",
              "        google.colab.kernel.accessAllowed ? 'block' : 'none';\n",
              "    })();\n",
              "  </script>\n",
              "</div>\n",
              "    </div>\n",
              "  </div>\n"
            ],
            "application/vnd.google.colaboratory.intrinsic+json": {
              "type": "dataframe",
              "summary": "{\n  \"name\": \"point_gdf[:5]\",\n  \"rows\": 5,\n  \"fields\": [\n    {\n      \"column\": \"geom\",\n      \"properties\": {\n        \"dtype\": \"geometry\",\n        \"num_unique_values\": 5,\n        \"samples\": [\n          \"POINT (-88.175933 32.360763)\",\n          \"POINT (-88.323995 32.950671)\",\n          \"POINT (-88.388954 32.357073)\"\n        ],\n        \"semantic_type\": \"\",\n        \"description\": \"\"\n      }\n    },\n    {\n      \"column\": \"attr1\",\n      \"properties\": {\n        \"dtype\": \"category\",\n        \"num_unique_values\": 1,\n        \"samples\": [\n          \"testattribute0\"\n        ],\n        \"semantic_type\": \"\",\n        \"description\": \"\"\n      }\n    },\n    {\n      \"column\": \"attr2\",\n      \"properties\": {\n        \"dtype\": \"category\",\n        \"num_unique_values\": 1,\n        \"samples\": [\n          \"testattribute1\"\n        ],\n        \"semantic_type\": \"\",\n        \"description\": \"\"\n      }\n    },\n    {\n      \"column\": \"attr3\",\n      \"properties\": {\n        \"dtype\": \"category\",\n        \"num_unique_values\": 1,\n        \"samples\": [\n          \"testattribute2\"\n        ],\n        \"semantic_type\": \"\",\n        \"description\": \"\"\n      }\n    }\n  ]\n}"
            }
          },
          "metadata": {},
          "execution_count": 27
        }
      ],
      "source": [
        "point_gdf[:5]"
      ]
    },
    {
      "cell_type": "markdown",
      "metadata": {
        "id": "2vW97p_iOjcS"
      },
      "source": [
        "### Using Adapter"
      ]
    },
    {
      "cell_type": "code",
      "execution_count": 28,
      "metadata": {
        "tags": [],
        "id": "HN0IIhZ8OjcS"
      },
      "outputs": [],
      "source": [
        "# Adapter allows you to convert geospatial data types introduced with sedona to other ones"
      ]
    },
    {
      "cell_type": "code",
      "execution_count": 29,
      "metadata": {
        "id": "69dR65hgOjcS"
      },
      "outputs": [],
      "source": [
        "spatial_df = Adapter.\\\n",
        "    toDf(point_rdd, [\"attr1\", \"attr2\", \"attr3\"], sedona).\\\n",
        "    createOrReplaceTempView(\"spatial_df\")\n",
        "\n",
        "spatial_gdf = sedona.sql(\"Select attr1, attr2, attr3, geometry as geom from spatial_df\")"
      ]
    },
    {
      "cell_type": "code",
      "execution_count": 30,
      "metadata": {
        "id": "TnGQMPUIOjcS",
        "outputId": "63fbf45b-8ccf-449f-e626-13d5f987ed68",
        "colab": {
          "base_uri": "https://localhost:8080/"
        }
      },
      "outputs": [
        {
          "output_type": "stream",
          "name": "stdout",
          "text": [
            "+--------------+--------------+--------------+----------------------------+\n",
            "|attr1         |attr2         |attr3         |geom                        |\n",
            "+--------------+--------------+--------------+----------------------------+\n",
            "|testattribute0|testattribute1|testattribute2|POINT (-88.331492 32.324142)|\n",
            "|testattribute0|testattribute1|testattribute2|POINT (-88.175933 32.360763)|\n",
            "|testattribute0|testattribute1|testattribute2|POINT (-88.388954 32.357073)|\n",
            "|testattribute0|testattribute1|testattribute2|POINT (-88.221102 32.35078) |\n",
            "|testattribute0|testattribute1|testattribute2|POINT (-88.323995 32.950671)|\n",
            "+--------------+--------------+--------------+----------------------------+\n",
            "only showing top 5 rows\n",
            "\n"
          ]
        }
      ],
      "source": [
        "spatial_gdf.show(5, False)"
      ]
    },
    {
      "cell_type": "code",
      "execution_count": 31,
      "metadata": {
        "id": "IdL0awafOjcS",
        "outputId": "19ee6669-c2ff-4fad-a4ad-2b3bf3621f45",
        "colab": {
          "base_uri": "https://localhost:8080/",
          "height": 206
        }
      },
      "outputs": [
        {
          "output_type": "execute_result",
          "data": {
            "text/plain": [
              "            attr1           attr2           attr3                        geom\n",
              "0  testattribute0  testattribute1  testattribute2  POINT (-88.33149 32.32414)\n",
              "1  testattribute0  testattribute1  testattribute2  POINT (-88.17593 32.36076)\n",
              "2  testattribute0  testattribute1  testattribute2  POINT (-88.38895 32.35707)\n",
              "3  testattribute0  testattribute1  testattribute2  POINT (-88.22110 32.35078)\n",
              "4  testattribute0  testattribute1  testattribute2  POINT (-88.32399 32.95067)"
            ],
            "text/html": [
              "\n",
              "  <div id=\"df-9a79c303-30ea-4cd1-a6fa-7983a840f376\" class=\"colab-df-container\">\n",
              "    <div>\n",
              "<style scoped>\n",
              "    .dataframe tbody tr th:only-of-type {\n",
              "        vertical-align: middle;\n",
              "    }\n",
              "\n",
              "    .dataframe tbody tr th {\n",
              "        vertical-align: top;\n",
              "    }\n",
              "\n",
              "    .dataframe thead th {\n",
              "        text-align: right;\n",
              "    }\n",
              "</style>\n",
              "<table border=\"1\" class=\"dataframe\">\n",
              "  <thead>\n",
              "    <tr style=\"text-align: right;\">\n",
              "      <th></th>\n",
              "      <th>attr1</th>\n",
              "      <th>attr2</th>\n",
              "      <th>attr3</th>\n",
              "      <th>geom</th>\n",
              "    </tr>\n",
              "  </thead>\n",
              "  <tbody>\n",
              "    <tr>\n",
              "      <th>0</th>\n",
              "      <td>testattribute0</td>\n",
              "      <td>testattribute1</td>\n",
              "      <td>testattribute2</td>\n",
              "      <td>POINT (-88.33149 32.32414)</td>\n",
              "    </tr>\n",
              "    <tr>\n",
              "      <th>1</th>\n",
              "      <td>testattribute0</td>\n",
              "      <td>testattribute1</td>\n",
              "      <td>testattribute2</td>\n",
              "      <td>POINT (-88.17593 32.36076)</td>\n",
              "    </tr>\n",
              "    <tr>\n",
              "      <th>2</th>\n",
              "      <td>testattribute0</td>\n",
              "      <td>testattribute1</td>\n",
              "      <td>testattribute2</td>\n",
              "      <td>POINT (-88.38895 32.35707)</td>\n",
              "    </tr>\n",
              "    <tr>\n",
              "      <th>3</th>\n",
              "      <td>testattribute0</td>\n",
              "      <td>testattribute1</td>\n",
              "      <td>testattribute2</td>\n",
              "      <td>POINT (-88.22110 32.35078)</td>\n",
              "    </tr>\n",
              "    <tr>\n",
              "      <th>4</th>\n",
              "      <td>testattribute0</td>\n",
              "      <td>testattribute1</td>\n",
              "      <td>testattribute2</td>\n",
              "      <td>POINT (-88.32399 32.95067)</td>\n",
              "    </tr>\n",
              "  </tbody>\n",
              "</table>\n",
              "</div>\n",
              "    <div class=\"colab-df-buttons\">\n",
              "\n",
              "  <div class=\"colab-df-container\">\n",
              "    <button class=\"colab-df-convert\" onclick=\"convertToInteractive('df-9a79c303-30ea-4cd1-a6fa-7983a840f376')\"\n",
              "            title=\"Convert this dataframe to an interactive table.\"\n",
              "            style=\"display:none;\">\n",
              "\n",
              "  <svg xmlns=\"http://www.w3.org/2000/svg\" height=\"24px\" viewBox=\"0 -960 960 960\">\n",
              "    <path d=\"M120-120v-720h720v720H120Zm60-500h600v-160H180v160Zm220 220h160v-160H400v160Zm0 220h160v-160H400v160ZM180-400h160v-160H180v160Zm440 0h160v-160H620v160ZM180-180h160v-160H180v160Zm440 0h160v-160H620v160Z\"/>\n",
              "  </svg>\n",
              "    </button>\n",
              "\n",
              "  <style>\n",
              "    .colab-df-container {\n",
              "      display:flex;\n",
              "      gap: 12px;\n",
              "    }\n",
              "\n",
              "    .colab-df-convert {\n",
              "      background-color: #E8F0FE;\n",
              "      border: none;\n",
              "      border-radius: 50%;\n",
              "      cursor: pointer;\n",
              "      display: none;\n",
              "      fill: #1967D2;\n",
              "      height: 32px;\n",
              "      padding: 0 0 0 0;\n",
              "      width: 32px;\n",
              "    }\n",
              "\n",
              "    .colab-df-convert:hover {\n",
              "      background-color: #E2EBFA;\n",
              "      box-shadow: 0px 1px 2px rgba(60, 64, 67, 0.3), 0px 1px 3px 1px rgba(60, 64, 67, 0.15);\n",
              "      fill: #174EA6;\n",
              "    }\n",
              "\n",
              "    .colab-df-buttons div {\n",
              "      margin-bottom: 4px;\n",
              "    }\n",
              "\n",
              "    [theme=dark] .colab-df-convert {\n",
              "      background-color: #3B4455;\n",
              "      fill: #D2E3FC;\n",
              "    }\n",
              "\n",
              "    [theme=dark] .colab-df-convert:hover {\n",
              "      background-color: #434B5C;\n",
              "      box-shadow: 0px 1px 3px 1px rgba(0, 0, 0, 0.15);\n",
              "      filter: drop-shadow(0px 1px 2px rgba(0, 0, 0, 0.3));\n",
              "      fill: #FFFFFF;\n",
              "    }\n",
              "  </style>\n",
              "\n",
              "    <script>\n",
              "      const buttonEl =\n",
              "        document.querySelector('#df-9a79c303-30ea-4cd1-a6fa-7983a840f376 button.colab-df-convert');\n",
              "      buttonEl.style.display =\n",
              "        google.colab.kernel.accessAllowed ? 'block' : 'none';\n",
              "\n",
              "      async function convertToInteractive(key) {\n",
              "        const element = document.querySelector('#df-9a79c303-30ea-4cd1-a6fa-7983a840f376');\n",
              "        const dataTable =\n",
              "          await google.colab.kernel.invokeFunction('convertToInteractive',\n",
              "                                                    [key], {});\n",
              "        if (!dataTable) return;\n",
              "\n",
              "        const docLinkHtml = 'Like what you see? Visit the ' +\n",
              "          '<a target=\"_blank\" href=https://colab.research.google.com/notebooks/data_table.ipynb>data table notebook</a>'\n",
              "          + ' to learn more about interactive tables.';\n",
              "        element.innerHTML = '';\n",
              "        dataTable['output_type'] = 'display_data';\n",
              "        await google.colab.output.renderOutput(dataTable, element);\n",
              "        const docLink = document.createElement('div');\n",
              "        docLink.innerHTML = docLinkHtml;\n",
              "        element.appendChild(docLink);\n",
              "      }\n",
              "    </script>\n",
              "  </div>\n",
              "\n",
              "\n",
              "<div id=\"df-d2ea3a57-aadf-4290-9f1a-280571faf8eb\">\n",
              "  <button class=\"colab-df-quickchart\" onclick=\"quickchart('df-d2ea3a57-aadf-4290-9f1a-280571faf8eb')\"\n",
              "            title=\"Suggest charts\"\n",
              "            style=\"display:none;\">\n",
              "\n",
              "<svg xmlns=\"http://www.w3.org/2000/svg\" height=\"24px\"viewBox=\"0 0 24 24\"\n",
              "     width=\"24px\">\n",
              "    <g>\n",
              "        <path d=\"M19 3H5c-1.1 0-2 .9-2 2v14c0 1.1.9 2 2 2h14c1.1 0 2-.9 2-2V5c0-1.1-.9-2-2-2zM9 17H7v-7h2v7zm4 0h-2V7h2v10zm4 0h-2v-4h2v4z\"/>\n",
              "    </g>\n",
              "</svg>\n",
              "  </button>\n",
              "\n",
              "<style>\n",
              "  .colab-df-quickchart {\n",
              "      --bg-color: #E8F0FE;\n",
              "      --fill-color: #1967D2;\n",
              "      --hover-bg-color: #E2EBFA;\n",
              "      --hover-fill-color: #174EA6;\n",
              "      --disabled-fill-color: #AAA;\n",
              "      --disabled-bg-color: #DDD;\n",
              "  }\n",
              "\n",
              "  [theme=dark] .colab-df-quickchart {\n",
              "      --bg-color: #3B4455;\n",
              "      --fill-color: #D2E3FC;\n",
              "      --hover-bg-color: #434B5C;\n",
              "      --hover-fill-color: #FFFFFF;\n",
              "      --disabled-bg-color: #3B4455;\n",
              "      --disabled-fill-color: #666;\n",
              "  }\n",
              "\n",
              "  .colab-df-quickchart {\n",
              "    background-color: var(--bg-color);\n",
              "    border: none;\n",
              "    border-radius: 50%;\n",
              "    cursor: pointer;\n",
              "    display: none;\n",
              "    fill: var(--fill-color);\n",
              "    height: 32px;\n",
              "    padding: 0;\n",
              "    width: 32px;\n",
              "  }\n",
              "\n",
              "  .colab-df-quickchart:hover {\n",
              "    background-color: var(--hover-bg-color);\n",
              "    box-shadow: 0 1px 2px rgba(60, 64, 67, 0.3), 0 1px 3px 1px rgba(60, 64, 67, 0.15);\n",
              "    fill: var(--button-hover-fill-color);\n",
              "  }\n",
              "\n",
              "  .colab-df-quickchart-complete:disabled,\n",
              "  .colab-df-quickchart-complete:disabled:hover {\n",
              "    background-color: var(--disabled-bg-color);\n",
              "    fill: var(--disabled-fill-color);\n",
              "    box-shadow: none;\n",
              "  }\n",
              "\n",
              "  .colab-df-spinner {\n",
              "    border: 2px solid var(--fill-color);\n",
              "    border-color: transparent;\n",
              "    border-bottom-color: var(--fill-color);\n",
              "    animation:\n",
              "      spin 1s steps(1) infinite;\n",
              "  }\n",
              "\n",
              "  @keyframes spin {\n",
              "    0% {\n",
              "      border-color: transparent;\n",
              "      border-bottom-color: var(--fill-color);\n",
              "      border-left-color: var(--fill-color);\n",
              "    }\n",
              "    20% {\n",
              "      border-color: transparent;\n",
              "      border-left-color: var(--fill-color);\n",
              "      border-top-color: var(--fill-color);\n",
              "    }\n",
              "    30% {\n",
              "      border-color: transparent;\n",
              "      border-left-color: var(--fill-color);\n",
              "      border-top-color: var(--fill-color);\n",
              "      border-right-color: var(--fill-color);\n",
              "    }\n",
              "    40% {\n",
              "      border-color: transparent;\n",
              "      border-right-color: var(--fill-color);\n",
              "      border-top-color: var(--fill-color);\n",
              "    }\n",
              "    60% {\n",
              "      border-color: transparent;\n",
              "      border-right-color: var(--fill-color);\n",
              "    }\n",
              "    80% {\n",
              "      border-color: transparent;\n",
              "      border-right-color: var(--fill-color);\n",
              "      border-bottom-color: var(--fill-color);\n",
              "    }\n",
              "    90% {\n",
              "      border-color: transparent;\n",
              "      border-bottom-color: var(--fill-color);\n",
              "    }\n",
              "  }\n",
              "</style>\n",
              "\n",
              "  <script>\n",
              "    async function quickchart(key) {\n",
              "      const quickchartButtonEl =\n",
              "        document.querySelector('#' + key + ' button');\n",
              "      quickchartButtonEl.disabled = true;  // To prevent multiple clicks.\n",
              "      quickchartButtonEl.classList.add('colab-df-spinner');\n",
              "      try {\n",
              "        const charts = await google.colab.kernel.invokeFunction(\n",
              "            'suggestCharts', [key], {});\n",
              "      } catch (error) {\n",
              "        console.error('Error during call to suggestCharts:', error);\n",
              "      }\n",
              "      quickchartButtonEl.classList.remove('colab-df-spinner');\n",
              "      quickchartButtonEl.classList.add('colab-df-quickchart-complete');\n",
              "    }\n",
              "    (() => {\n",
              "      let quickchartButtonEl =\n",
              "        document.querySelector('#df-d2ea3a57-aadf-4290-9f1a-280571faf8eb button');\n",
              "      quickchartButtonEl.style.display =\n",
              "        google.colab.kernel.accessAllowed ? 'block' : 'none';\n",
              "    })();\n",
              "  </script>\n",
              "</div>\n",
              "    </div>\n",
              "  </div>\n"
            ],
            "application/vnd.google.colaboratory.intrinsic+json": {
              "type": "dataframe",
              "summary": "{\n  \"name\": \"gpd\",\n  \"rows\": 5,\n  \"fields\": [\n    {\n      \"column\": \"attr1\",\n      \"properties\": {\n        \"dtype\": \"category\",\n        \"num_unique_values\": 1,\n        \"samples\": [\n          \"testattribute0\"\n        ],\n        \"semantic_type\": \"\",\n        \"description\": \"\"\n      }\n    },\n    {\n      \"column\": \"attr2\",\n      \"properties\": {\n        \"dtype\": \"category\",\n        \"num_unique_values\": 1,\n        \"samples\": [\n          \"testattribute1\"\n        ],\n        \"semantic_type\": \"\",\n        \"description\": \"\"\n      }\n    },\n    {\n      \"column\": \"attr3\",\n      \"properties\": {\n        \"dtype\": \"category\",\n        \"num_unique_values\": 1,\n        \"samples\": [\n          \"testattribute2\"\n        ],\n        \"semantic_type\": \"\",\n        \"description\": \"\"\n      }\n    },\n    {\n      \"column\": \"geom\",\n      \"properties\": {\n        \"dtype\": \"geometry\",\n        \"num_unique_values\": 5,\n        \"samples\": [\n          \"POINT (-88.175933 32.360763)\"\n        ],\n        \"semantic_type\": \"\",\n        \"description\": \"\"\n      }\n    }\n  ]\n}"
            }
          },
          "metadata": {},
          "execution_count": 31
        }
      ],
      "source": [
        "gpd.GeoDataFrame(spatial_gdf.toPandas(), geometry=\"geom\")[:5]"
      ]
    },
    {
      "cell_type": "markdown",
      "metadata": {
        "id": "ilmR8RjIOjcS"
      },
      "source": [
        "### With DataFrame creation"
      ]
    },
    {
      "cell_type": "code",
      "execution_count": 32,
      "metadata": {
        "id": "LqgFLBZEOjcT"
      },
      "outputs": [],
      "source": [
        "schema = StructType(\n",
        "    [\n",
        "        StructField(\"geometry\", GeometryType(), False),\n",
        "        StructField(\"attr1\", StringType(), False),\n",
        "        StructField(\"attr2\", StringType(), False),\n",
        "        StructField(\"attr3\", StringType(), False),\n",
        "    ]\n",
        ")"
      ]
    },
    {
      "cell_type": "code",
      "execution_count": 33,
      "metadata": {
        "id": "tEO42a4DOjcT"
      },
      "outputs": [],
      "source": [
        "geo_df = sedona.createDataFrame(point_rdd_to_geo, schema, verifySchema=False)"
      ]
    },
    {
      "cell_type": "code",
      "execution_count": 34,
      "metadata": {
        "id": "PaIAqir1OjcT",
        "outputId": "82462cc7-77f4-4074-d76b-1d07012152b0",
        "colab": {
          "base_uri": "https://localhost:8080/",
          "height": 206
        }
      },
      "outputs": [
        {
          "output_type": "execute_result",
          "data": {
            "text/plain": [
              "                     geometry           attr1           attr2           attr3\n",
              "0  POINT (-88.33149 32.32414)  testattribute0  testattribute1  testattribute2\n",
              "1  POINT (-88.17593 32.36076)  testattribute0  testattribute1  testattribute2\n",
              "2  POINT (-88.38895 32.35707)  testattribute0  testattribute1  testattribute2\n",
              "3  POINT (-88.22110 32.35078)  testattribute0  testattribute1  testattribute2\n",
              "4  POINT (-88.32399 32.95067)  testattribute0  testattribute1  testattribute2"
            ],
            "text/html": [
              "\n",
              "  <div id=\"df-94758aef-d640-4815-ab37-9edeceb9f3ef\" class=\"colab-df-container\">\n",
              "    <div>\n",
              "<style scoped>\n",
              "    .dataframe tbody tr th:only-of-type {\n",
              "        vertical-align: middle;\n",
              "    }\n",
              "\n",
              "    .dataframe tbody tr th {\n",
              "        vertical-align: top;\n",
              "    }\n",
              "\n",
              "    .dataframe thead th {\n",
              "        text-align: right;\n",
              "    }\n",
              "</style>\n",
              "<table border=\"1\" class=\"dataframe\">\n",
              "  <thead>\n",
              "    <tr style=\"text-align: right;\">\n",
              "      <th></th>\n",
              "      <th>geometry</th>\n",
              "      <th>attr1</th>\n",
              "      <th>attr2</th>\n",
              "      <th>attr3</th>\n",
              "    </tr>\n",
              "  </thead>\n",
              "  <tbody>\n",
              "    <tr>\n",
              "      <th>0</th>\n",
              "      <td>POINT (-88.33149 32.32414)</td>\n",
              "      <td>testattribute0</td>\n",
              "      <td>testattribute1</td>\n",
              "      <td>testattribute2</td>\n",
              "    </tr>\n",
              "    <tr>\n",
              "      <th>1</th>\n",
              "      <td>POINT (-88.17593 32.36076)</td>\n",
              "      <td>testattribute0</td>\n",
              "      <td>testattribute1</td>\n",
              "      <td>testattribute2</td>\n",
              "    </tr>\n",
              "    <tr>\n",
              "      <th>2</th>\n",
              "      <td>POINT (-88.38895 32.35707)</td>\n",
              "      <td>testattribute0</td>\n",
              "      <td>testattribute1</td>\n",
              "      <td>testattribute2</td>\n",
              "    </tr>\n",
              "    <tr>\n",
              "      <th>3</th>\n",
              "      <td>POINT (-88.22110 32.35078)</td>\n",
              "      <td>testattribute0</td>\n",
              "      <td>testattribute1</td>\n",
              "      <td>testattribute2</td>\n",
              "    </tr>\n",
              "    <tr>\n",
              "      <th>4</th>\n",
              "      <td>POINT (-88.32399 32.95067)</td>\n",
              "      <td>testattribute0</td>\n",
              "      <td>testattribute1</td>\n",
              "      <td>testattribute2</td>\n",
              "    </tr>\n",
              "  </tbody>\n",
              "</table>\n",
              "</div>\n",
              "    <div class=\"colab-df-buttons\">\n",
              "\n",
              "  <div class=\"colab-df-container\">\n",
              "    <button class=\"colab-df-convert\" onclick=\"convertToInteractive('df-94758aef-d640-4815-ab37-9edeceb9f3ef')\"\n",
              "            title=\"Convert this dataframe to an interactive table.\"\n",
              "            style=\"display:none;\">\n",
              "\n",
              "  <svg xmlns=\"http://www.w3.org/2000/svg\" height=\"24px\" viewBox=\"0 -960 960 960\">\n",
              "    <path d=\"M120-120v-720h720v720H120Zm60-500h600v-160H180v160Zm220 220h160v-160H400v160Zm0 220h160v-160H400v160ZM180-400h160v-160H180v160Zm440 0h160v-160H620v160ZM180-180h160v-160H180v160Zm440 0h160v-160H620v160Z\"/>\n",
              "  </svg>\n",
              "    </button>\n",
              "\n",
              "  <style>\n",
              "    .colab-df-container {\n",
              "      display:flex;\n",
              "      gap: 12px;\n",
              "    }\n",
              "\n",
              "    .colab-df-convert {\n",
              "      background-color: #E8F0FE;\n",
              "      border: none;\n",
              "      border-radius: 50%;\n",
              "      cursor: pointer;\n",
              "      display: none;\n",
              "      fill: #1967D2;\n",
              "      height: 32px;\n",
              "      padding: 0 0 0 0;\n",
              "      width: 32px;\n",
              "    }\n",
              "\n",
              "    .colab-df-convert:hover {\n",
              "      background-color: #E2EBFA;\n",
              "      box-shadow: 0px 1px 2px rgba(60, 64, 67, 0.3), 0px 1px 3px 1px rgba(60, 64, 67, 0.15);\n",
              "      fill: #174EA6;\n",
              "    }\n",
              "\n",
              "    .colab-df-buttons div {\n",
              "      margin-bottom: 4px;\n",
              "    }\n",
              "\n",
              "    [theme=dark] .colab-df-convert {\n",
              "      background-color: #3B4455;\n",
              "      fill: #D2E3FC;\n",
              "    }\n",
              "\n",
              "    [theme=dark] .colab-df-convert:hover {\n",
              "      background-color: #434B5C;\n",
              "      box-shadow: 0px 1px 3px 1px rgba(0, 0, 0, 0.15);\n",
              "      filter: drop-shadow(0px 1px 2px rgba(0, 0, 0, 0.3));\n",
              "      fill: #FFFFFF;\n",
              "    }\n",
              "  </style>\n",
              "\n",
              "    <script>\n",
              "      const buttonEl =\n",
              "        document.querySelector('#df-94758aef-d640-4815-ab37-9edeceb9f3ef button.colab-df-convert');\n",
              "      buttonEl.style.display =\n",
              "        google.colab.kernel.accessAllowed ? 'block' : 'none';\n",
              "\n",
              "      async function convertToInteractive(key) {\n",
              "        const element = document.querySelector('#df-94758aef-d640-4815-ab37-9edeceb9f3ef');\n",
              "        const dataTable =\n",
              "          await google.colab.kernel.invokeFunction('convertToInteractive',\n",
              "                                                    [key], {});\n",
              "        if (!dataTable) return;\n",
              "\n",
              "        const docLinkHtml = 'Like what you see? Visit the ' +\n",
              "          '<a target=\"_blank\" href=https://colab.research.google.com/notebooks/data_table.ipynb>data table notebook</a>'\n",
              "          + ' to learn more about interactive tables.';\n",
              "        element.innerHTML = '';\n",
              "        dataTable['output_type'] = 'display_data';\n",
              "        await google.colab.output.renderOutput(dataTable, element);\n",
              "        const docLink = document.createElement('div');\n",
              "        docLink.innerHTML = docLinkHtml;\n",
              "        element.appendChild(docLink);\n",
              "      }\n",
              "    </script>\n",
              "  </div>\n",
              "\n",
              "\n",
              "<div id=\"df-642893cd-b188-4dfc-b88d-3a52e9088d68\">\n",
              "  <button class=\"colab-df-quickchart\" onclick=\"quickchart('df-642893cd-b188-4dfc-b88d-3a52e9088d68')\"\n",
              "            title=\"Suggest charts\"\n",
              "            style=\"display:none;\">\n",
              "\n",
              "<svg xmlns=\"http://www.w3.org/2000/svg\" height=\"24px\"viewBox=\"0 0 24 24\"\n",
              "     width=\"24px\">\n",
              "    <g>\n",
              "        <path d=\"M19 3H5c-1.1 0-2 .9-2 2v14c0 1.1.9 2 2 2h14c1.1 0 2-.9 2-2V5c0-1.1-.9-2-2-2zM9 17H7v-7h2v7zm4 0h-2V7h2v10zm4 0h-2v-4h2v4z\"/>\n",
              "    </g>\n",
              "</svg>\n",
              "  </button>\n",
              "\n",
              "<style>\n",
              "  .colab-df-quickchart {\n",
              "      --bg-color: #E8F0FE;\n",
              "      --fill-color: #1967D2;\n",
              "      --hover-bg-color: #E2EBFA;\n",
              "      --hover-fill-color: #174EA6;\n",
              "      --disabled-fill-color: #AAA;\n",
              "      --disabled-bg-color: #DDD;\n",
              "  }\n",
              "\n",
              "  [theme=dark] .colab-df-quickchart {\n",
              "      --bg-color: #3B4455;\n",
              "      --fill-color: #D2E3FC;\n",
              "      --hover-bg-color: #434B5C;\n",
              "      --hover-fill-color: #FFFFFF;\n",
              "      --disabled-bg-color: #3B4455;\n",
              "      --disabled-fill-color: #666;\n",
              "  }\n",
              "\n",
              "  .colab-df-quickchart {\n",
              "    background-color: var(--bg-color);\n",
              "    border: none;\n",
              "    border-radius: 50%;\n",
              "    cursor: pointer;\n",
              "    display: none;\n",
              "    fill: var(--fill-color);\n",
              "    height: 32px;\n",
              "    padding: 0;\n",
              "    width: 32px;\n",
              "  }\n",
              "\n",
              "  .colab-df-quickchart:hover {\n",
              "    background-color: var(--hover-bg-color);\n",
              "    box-shadow: 0 1px 2px rgba(60, 64, 67, 0.3), 0 1px 3px 1px rgba(60, 64, 67, 0.15);\n",
              "    fill: var(--button-hover-fill-color);\n",
              "  }\n",
              "\n",
              "  .colab-df-quickchart-complete:disabled,\n",
              "  .colab-df-quickchart-complete:disabled:hover {\n",
              "    background-color: var(--disabled-bg-color);\n",
              "    fill: var(--disabled-fill-color);\n",
              "    box-shadow: none;\n",
              "  }\n",
              "\n",
              "  .colab-df-spinner {\n",
              "    border: 2px solid var(--fill-color);\n",
              "    border-color: transparent;\n",
              "    border-bottom-color: var(--fill-color);\n",
              "    animation:\n",
              "      spin 1s steps(1) infinite;\n",
              "  }\n",
              "\n",
              "  @keyframes spin {\n",
              "    0% {\n",
              "      border-color: transparent;\n",
              "      border-bottom-color: var(--fill-color);\n",
              "      border-left-color: var(--fill-color);\n",
              "    }\n",
              "    20% {\n",
              "      border-color: transparent;\n",
              "      border-left-color: var(--fill-color);\n",
              "      border-top-color: var(--fill-color);\n",
              "    }\n",
              "    30% {\n",
              "      border-color: transparent;\n",
              "      border-left-color: var(--fill-color);\n",
              "      border-top-color: var(--fill-color);\n",
              "      border-right-color: var(--fill-color);\n",
              "    }\n",
              "    40% {\n",
              "      border-color: transparent;\n",
              "      border-right-color: var(--fill-color);\n",
              "      border-top-color: var(--fill-color);\n",
              "    }\n",
              "    60% {\n",
              "      border-color: transparent;\n",
              "      border-right-color: var(--fill-color);\n",
              "    }\n",
              "    80% {\n",
              "      border-color: transparent;\n",
              "      border-right-color: var(--fill-color);\n",
              "      border-bottom-color: var(--fill-color);\n",
              "    }\n",
              "    90% {\n",
              "      border-color: transparent;\n",
              "      border-bottom-color: var(--fill-color);\n",
              "    }\n",
              "  }\n",
              "</style>\n",
              "\n",
              "  <script>\n",
              "    async function quickchart(key) {\n",
              "      const quickchartButtonEl =\n",
              "        document.querySelector('#' + key + ' button');\n",
              "      quickchartButtonEl.disabled = true;  // To prevent multiple clicks.\n",
              "      quickchartButtonEl.classList.add('colab-df-spinner');\n",
              "      try {\n",
              "        const charts = await google.colab.kernel.invokeFunction(\n",
              "            'suggestCharts', [key], {});\n",
              "      } catch (error) {\n",
              "        console.error('Error during call to suggestCharts:', error);\n",
              "      }\n",
              "      quickchartButtonEl.classList.remove('colab-df-spinner');\n",
              "      quickchartButtonEl.classList.add('colab-df-quickchart-complete');\n",
              "    }\n",
              "    (() => {\n",
              "      let quickchartButtonEl =\n",
              "        document.querySelector('#df-642893cd-b188-4dfc-b88d-3a52e9088d68 button');\n",
              "      quickchartButtonEl.style.display =\n",
              "        google.colab.kernel.accessAllowed ? 'block' : 'none';\n",
              "    })();\n",
              "  </script>\n",
              "</div>\n",
              "    </div>\n",
              "  </div>\n"
            ],
            "application/vnd.google.colaboratory.intrinsic+json": {
              "type": "dataframe",
              "summary": "{\n  \"name\": \"gpd\",\n  \"rows\": 5,\n  \"fields\": [\n    {\n      \"column\": \"geometry\",\n      \"properties\": {\n        \"dtype\": \"geometry\",\n        \"num_unique_values\": 5,\n        \"samples\": [\n          \"POINT (-88.175933 32.360763)\",\n          \"POINT (-88.323995 32.950671)\",\n          \"POINT (-88.388954 32.357073)\"\n        ],\n        \"semantic_type\": \"\",\n        \"description\": \"\"\n      }\n    },\n    {\n      \"column\": \"attr1\",\n      \"properties\": {\n        \"dtype\": \"category\",\n        \"num_unique_values\": 1,\n        \"samples\": [\n          \"testattribute0\"\n        ],\n        \"semantic_type\": \"\",\n        \"description\": \"\"\n      }\n    },\n    {\n      \"column\": \"attr2\",\n      \"properties\": {\n        \"dtype\": \"category\",\n        \"num_unique_values\": 1,\n        \"samples\": [\n          \"testattribute1\"\n        ],\n        \"semantic_type\": \"\",\n        \"description\": \"\"\n      }\n    },\n    {\n      \"column\": \"attr3\",\n      \"properties\": {\n        \"dtype\": \"category\",\n        \"num_unique_values\": 1,\n        \"samples\": [\n          \"testattribute2\"\n        ],\n        \"semantic_type\": \"\",\n        \"description\": \"\"\n      }\n    }\n  ]\n}"
            }
          },
          "metadata": {},
          "execution_count": 34
        }
      ],
      "source": [
        "gpd.GeoDataFrame(geo_df.toPandas(), geometry=\"geometry\")[:5]"
      ]
    },
    {
      "cell_type": "markdown",
      "metadata": {
        "id": "kO1EyFACOjcT"
      },
      "source": [
        "# Load Typed SpatialRDDs"
      ]
    },
    {
      "cell_type": "markdown",
      "metadata": {
        "id": "w_0_hHNQOjcT"
      },
      "source": [
        "Currently The library supports 5 typed SpatialRDDs:\n",
        "<li> RectangleRDD </li>\n",
        "<li> PointRDD </li>\n",
        "<li> PolygonRDD </li>\n",
        "<li> LineStringRDD </li>\n",
        "<li> CircleRDD </li>"
      ]
    },
    {
      "cell_type": "code",
      "execution_count": 35,
      "metadata": {
        "id": "2m2k-n-LOjcT"
      },
      "outputs": [],
      "source": [
        "rectangle_rdd = RectangleRDD(sc, \"data/zcta510-small.csv\", FileDataSplitter.CSV, True, 11)\n",
        "point_rdd = PointRDD(sc, \"data/arealm-small.csv\", 1, FileDataSplitter.CSV, False, 11)\n",
        "polygon_rdd = PolygonRDD(sc, \"data/primaryroads-polygon.csv\", FileDataSplitter.CSV, True, 11)\n",
        "linestring_rdd = LineStringRDD(sc, \"data/primaryroads-linestring.csv\", FileDataSplitter.CSV, True)"
      ]
    },
    {
      "cell_type": "code",
      "execution_count": 36,
      "metadata": {
        "id": "qRHPdLYdOjcb",
        "outputId": "f8b528d5-16f6-4336-d354-a7e22e7579ed",
        "colab": {
          "base_uri": "https://localhost:8080/"
        }
      },
      "outputs": [
        {
          "output_type": "execute_result",
          "data": {
            "text/plain": [
              "True"
            ]
          },
          "metadata": {},
          "execution_count": 36
        }
      ],
      "source": [
        "rectangle_rdd.analyze()\n",
        "point_rdd.analyze()\n",
        "polygon_rdd.analyze()\n",
        "linestring_rdd.analyze()"
      ]
    },
    {
      "cell_type": "markdown",
      "metadata": {
        "id": "J2uTMMk1Ojcb"
      },
      "source": [
        "# Spatial Partitioning"
      ]
    },
    {
      "cell_type": "markdown",
      "metadata": {
        "id": "h3AC5CpdOjcc"
      },
      "source": [
        "Apache Sedona spatial partitioning method can significantly speed up the join query. Three spatial partitioning methods are available: KDB-Tree, Quad-Tree and R-Tree. Two SpatialRDD must be partitioned by the same way."
      ]
    },
    {
      "cell_type": "code",
      "execution_count": 37,
      "metadata": {
        "id": "2icbQf9NOjcc",
        "outputId": "058c5262-d8d9-4673-a848-72b51acf71b2",
        "colab": {
          "base_uri": "https://localhost:8080/"
        }
      },
      "outputs": [
        {
          "output_type": "execute_result",
          "data": {
            "text/plain": [
              "True"
            ]
          },
          "metadata": {},
          "execution_count": 37
        }
      ],
      "source": [
        "point_rdd.spatialPartitioning(GridType.KDBTREE)"
      ]
    },
    {
      "cell_type": "markdown",
      "metadata": {
        "id": "_ipdd7umOjcc"
      },
      "source": [
        "# Create Index"
      ]
    },
    {
      "cell_type": "markdown",
      "metadata": {
        "id": "hEPaVPmJOjcc"
      },
      "source": [
        "Apache Sedona provides two types of spatial indexes, Quad-Tree and R-Tree. Once you specify an index type, Apache Sedona will build a local tree index on each of the SpatialRDD partition."
      ]
    },
    {
      "cell_type": "code",
      "execution_count": 38,
      "metadata": {
        "id": "3YIsx_55Ojcc"
      },
      "outputs": [],
      "source": [
        "point_rdd.buildIndex(IndexType.RTREE, True)"
      ]
    },
    {
      "cell_type": "markdown",
      "metadata": {
        "id": "LRHcULQDOjcc"
      },
      "source": [
        "# SpatialJoin"
      ]
    },
    {
      "cell_type": "markdown",
      "metadata": {
        "id": "ZnnDo119Ojcc"
      },
      "source": [
        "Spatial join is operation which combines data based on spatial relations like:\n",
        "<li> intersects </li>\n",
        "<li> touches </li>\n",
        "<li> within </li>\n",
        "<li> etc </li>\n",
        "\n",
        "To Use Spatial Join in GeoPyspark library please use JoinQuery object, which has implemented below methods:\n",
        "```python\n",
        "SpatialJoinQuery(spatialRDD: SpatialRDD, queryRDD: SpatialRDD, useIndex: bool, considerBoundaryIntersection: bool) -> RDD\n",
        "\n",
        "DistanceJoinQuery(spatialRDD: SpatialRDD, queryRDD: SpatialRDD, useIndex: bool, considerBoundaryIntersection: bool) -> RDD\n",
        "\n",
        "spatialJoin(queryWindowRDD: SpatialRDD, objectRDD: SpatialRDD, joinParams: JoinParams) -> RDD\n",
        "\n",
        "DistanceJoinQueryFlat(spatialRDD: SpatialRDD, queryRDD: SpatialRDD, useIndex: bool, considerBoundaryIntersection: bool) -> RDD\n",
        "\n",
        "SpatialJoinQueryFlat(spatialRDD: SpatialRDD, queryRDD: SpatialRDD, useIndex: bool, considerBoundaryIntersection: bool) -> RDD\n",
        "\n",
        "```"
      ]
    },
    {
      "cell_type": "markdown",
      "metadata": {
        "id": "icOL3ukTOjcc"
      },
      "source": [
        "## Example SpatialJoinQueryFlat PointRDD with RectangleRDD"
      ]
    },
    {
      "cell_type": "code",
      "execution_count": 39,
      "metadata": {
        "id": "unG1rYNZOjcc"
      },
      "outputs": [],
      "source": [
        "# partitioning the data\n",
        "point_rdd.spatialPartitioning(GridType.KDBTREE)\n",
        "rectangle_rdd.spatialPartitioning(point_rdd.getPartitioner())\n",
        "# building an index\n",
        "point_rdd.buildIndex(IndexType.RTREE, True)\n",
        "# Perform Spatial Join Query\n",
        "result = JoinQuery.SpatialJoinQueryFlat(point_rdd, rectangle_rdd, False, True)"
      ]
    },
    {
      "cell_type": "markdown",
      "metadata": {
        "id": "5A0s6CE5Ojcd"
      },
      "source": [
        "As result we will get RDD[GeoData, GeoData]\n",
        "It can be used like any other Python RDD. You can use map, take, collect and other functions  "
      ]
    },
    {
      "cell_type": "code",
      "execution_count": 40,
      "metadata": {
        "id": "8dw_JRafOjcd",
        "outputId": "f8da3d7f-8c2b-4add-96d0-8e938a395c51",
        "colab": {
          "base_uri": "https://localhost:8080/"
        }
      },
      "outputs": [
        {
          "output_type": "execute_result",
          "data": {
            "text/plain": [
              "MapPartitionsRDD[63] at map at FlatPairRddConverter.scala:30"
            ]
          },
          "metadata": {},
          "execution_count": 40
        }
      ],
      "source": [
        "result"
      ]
    },
    {
      "cell_type": "code",
      "execution_count": 41,
      "metadata": {
        "id": "7QKdzz9ZOjcd",
        "outputId": "135866dc-07a8-4ac2-f667-3f4f27adaeed",
        "colab": {
          "base_uri": "https://localhost:8080/"
        }
      },
      "outputs": [
        {
          "output_type": "execute_result",
          "data": {
            "text/plain": [
              "[[Geometry: Polygon userData: , Geometry: Point userData: ],\n",
              " [Geometry: Polygon userData: , Geometry: Point userData: ]]"
            ]
          },
          "metadata": {},
          "execution_count": 41
        }
      ],
      "source": [
        "result.take(2)"
      ]
    },
    {
      "cell_type": "code",
      "execution_count": 42,
      "metadata": {
        "id": "cBMsFNe2Ojcd",
        "outputId": "ada03bf6-d2fb-4e8f-b80b-8e9f8a4e4405",
        "colab": {
          "base_uri": "https://localhost:8080/"
        }
      },
      "outputs": [
        {
          "output_type": "execute_result",
          "data": {
            "text/plain": [
              "[[Geometry: Polygon userData: , Geometry: Point userData: ],\n",
              " [Geometry: Polygon userData: , Geometry: Point userData: ],\n",
              " [Geometry: Polygon userData: , Geometry: Point userData: ]]"
            ]
          },
          "metadata": {},
          "execution_count": 42
        }
      ],
      "source": [
        "result.collect()[:3]"
      ]
    },
    {
      "cell_type": "code",
      "execution_count": 43,
      "metadata": {
        "id": "ZUPAfZ0wOjcd",
        "outputId": "158f9080-10d1-4ffa-ba8b-6f08a5e723c5",
        "colab": {
          "base_uri": "https://localhost:8080/"
        }
      },
      "outputs": [
        {
          "output_type": "execute_result",
          "data": {
            "text/plain": [
              "[0.0, 0.0, 0.0, 0.0, 0.0]"
            ]
          },
          "metadata": {},
          "execution_count": 43
        }
      ],
      "source": [
        "# getting distance using SpatialObjects\n",
        "result.map(lambda x: x[0].geom.distance(x[1].geom)).take(5)"
      ]
    },
    {
      "cell_type": "code",
      "execution_count": 44,
      "metadata": {
        "id": "2ztnCLMnOjcd",
        "outputId": "6e19e7a8-1e86-4ca0-987f-ab4e7b30997a",
        "colab": {
          "base_uri": "https://localhost:8080/"
        }
      },
      "outputs": [
        {
          "output_type": "execute_result",
          "data": {
            "text/plain": [
              "[0.05189354027999942,\n",
              " 0.057069904940998895,\n",
              " 0.051572544132000575,\n",
              " 0.051572544132000575,\n",
              " 0.051572544132000575]"
            ]
          },
          "metadata": {},
          "execution_count": 44
        }
      ],
      "source": [
        "# getting area of polygon data\n",
        "result.map(lambda x: x[0].geom.area).take(5)"
      ]
    },
    {
      "cell_type": "code",
      "execution_count": 45,
      "metadata": {
        "id": "nALxyjQiOjce"
      },
      "outputs": [],
      "source": [
        "# Base on result you can create DataFrame object, using map function and build DataFrame from RDD\n",
        "schema = StructType(\n",
        "    [\n",
        "        StructField(\"geom_left\", GeometryType(), False),\n",
        "        StructField(\"geom_right\", GeometryType(), False)\n",
        "    ]\n",
        ")"
      ]
    },
    {
      "cell_type": "code",
      "execution_count": 46,
      "metadata": {
        "id": "UWqys-lqOjce",
        "outputId": "cf94aff9-7962-4f58-ebdf-e330c868feb7",
        "colab": {
          "base_uri": "https://localhost:8080/"
        }
      },
      "outputs": [
        {
          "output_type": "stream",
          "name": "stdout",
          "text": [
            "+--------------------+--------------------+\n",
            "|           geom_left|          geom_right|\n",
            "+--------------------+--------------------+\n",
            "|POLYGON ((-87.092...|POINT (-86.94719 ...|\n",
            "|POLYGON ((-87.285...|POINT (-87.186331...|\n",
            "|POLYGON ((-87.082...|POINT (-87.059583...|\n",
            "|POLYGON ((-87.082...|POINT (-87.075409...|\n",
            "|POLYGON ((-87.082...|POINT (-87.08084 ...|\n",
            "+--------------------+--------------------+\n",
            "only showing top 5 rows\n",
            "\n"
          ]
        }
      ],
      "source": [
        "# Set verifySchema to False\n",
        "spatial_join_result = result.map(lambda x: [x[0].geom, x[1].geom])\n",
        "sedona.createDataFrame(spatial_join_result, schema, verifySchema=False).show(5, True)"
      ]
    },
    {
      "cell_type": "code",
      "execution_count": 47,
      "metadata": {
        "id": "_BQVrY-IOjce",
        "outputId": "88d99e02-8bcf-4ade-d892-aea1db2bbca3",
        "colab": {
          "base_uri": "https://localhost:8080/"
        }
      },
      "outputs": [
        {
          "output_type": "stream",
          "name": "stdout",
          "text": [
            "root\n",
            " |-- geom_left: geometry (nullable = false)\n",
            " |-- geom_right: geometry (nullable = false)\n",
            "\n"
          ]
        }
      ],
      "source": [
        "# Above code produces DataFrame with geometry Data type\n",
        "sedona.createDataFrame(spatial_join_result, schema, verifySchema=False).printSchema()"
      ]
    },
    {
      "cell_type": "markdown",
      "metadata": {
        "id": "5oID6P5kOjce"
      },
      "source": [
        "We can create DataFrame object from Spatial Pair RDD using Adapter object as follows"
      ]
    },
    {
      "cell_type": "code",
      "execution_count": 48,
      "metadata": {
        "id": "OyD3_m_zOjce",
        "outputId": "35c32525-4320-4a8f-e0d4-069f44ad4b0d",
        "colab": {
          "base_uri": "https://localhost:8080/"
        }
      },
      "outputs": [
        {
          "output_type": "stream",
          "name": "stdout",
          "text": [
            "+--------------------+-----+--------------------+-----+\n",
            "|              geom_1|attr1|              geom_2|attr2|\n",
            "+--------------------+-----+--------------------+-----+\n",
            "|POLYGON ((-87.092...|     |POINT (-86.94719 ...|     |\n",
            "|POLYGON ((-87.285...|     |POINT (-87.186331...|     |\n",
            "|POLYGON ((-87.082...|     |POINT (-87.059583...|     |\n",
            "|POLYGON ((-87.082...|     |POINT (-87.075409...|     |\n",
            "|POLYGON ((-87.082...|     |POINT (-87.08084 ...|     |\n",
            "+--------------------+-----+--------------------+-----+\n",
            "only showing top 5 rows\n",
            "\n"
          ]
        }
      ],
      "source": [
        "Adapter.toDf(result, [\"attr1\"], [\"attr2\"], sedona).show(5, True)"
      ]
    },
    {
      "cell_type": "markdown",
      "metadata": {
        "id": "qAmXD2SKOjce"
      },
      "source": [
        "This also produce DataFrame with geometry DataType"
      ]
    },
    {
      "cell_type": "code",
      "execution_count": 49,
      "metadata": {
        "id": "U7evFgqkOjce",
        "outputId": "abe62a43-b1e7-403a-c4db-3e34c4de71bb",
        "colab": {
          "base_uri": "https://localhost:8080/"
        }
      },
      "outputs": [
        {
          "output_type": "stream",
          "name": "stdout",
          "text": [
            "root\n",
            " |-- geom_1: geometry (nullable = true)\n",
            " |-- attr1: string (nullable = true)\n",
            " |-- geom_2: geometry (nullable = true)\n",
            " |-- attr2: string (nullable = true)\n",
            "\n"
          ]
        }
      ],
      "source": [
        "Adapter.toDf(result, [\"attr1\"], [\"attr2\"], sedona).printSchema()"
      ]
    },
    {
      "cell_type": "markdown",
      "metadata": {
        "id": "TldNHgcQOjcf"
      },
      "source": [
        "We can create RDD which will be of type RDD[GeoData, List[GeoData]]\n",
        "We can for example calculate number of Points within some polygon data"
      ]
    },
    {
      "cell_type": "markdown",
      "metadata": {
        "id": "GlhD3mSvOjcf"
      },
      "source": [
        "To do that we can use code specified below"
      ]
    },
    {
      "cell_type": "code",
      "execution_count": 50,
      "metadata": {
        "id": "bl5mg9qdOjcf"
      },
      "outputs": [],
      "source": [
        "point_rdd.spatialPartitioning(GridType.KDBTREE)\n",
        "rectangle_rdd.spatialPartitioning(point_rdd.getPartitioner())"
      ]
    },
    {
      "cell_type": "code",
      "execution_count": 51,
      "metadata": {
        "id": "6S1gs7nDOjcf"
      },
      "outputs": [],
      "source": [
        "spatial_join_result_non_flat = JoinQuery.SpatialJoinQuery(point_rdd, rectangle_rdd, False, True)"
      ]
    },
    {
      "cell_type": "code",
      "execution_count": 52,
      "metadata": {
        "id": "ZJiTacNkOjcf"
      },
      "outputs": [],
      "source": [
        "# number of point for each polygon\n",
        "number_of_points = spatial_join_result_non_flat.map(lambda x: [x[0].geom, x[1].__len__()])"
      ]
    },
    {
      "cell_type": "code",
      "execution_count": 53,
      "metadata": {
        "id": "-EtrJVuROjcf"
      },
      "outputs": [],
      "source": [
        "schema = StructType([\n",
        "    StructField(\"geometry\", GeometryType(), False),\n",
        "    StructField(\"number_of_points\", LongType(), False)\n",
        "])"
      ]
    },
    {
      "cell_type": "code",
      "execution_count": 54,
      "metadata": {
        "id": "mktoa5-HOjcf",
        "outputId": "e1a9cf96-2d20-483d-8f24-444ed6a2bd17",
        "colab": {
          "base_uri": "https://localhost:8080/"
        }
      },
      "outputs": [
        {
          "output_type": "stream",
          "name": "stdout",
          "text": [
            "+--------------------+----------------+\n",
            "|            geometry|number_of_points|\n",
            "+--------------------+----------------+\n",
            "|POLYGON ((-87.082...|              12|\n",
            "|POLYGON ((-87.229...|               7|\n",
            "|POLYGON ((-86.749...|               4|\n",
            "|POLYGON ((-87.285...|              26|\n",
            "|POLYGON ((-87.114...|              15|\n",
            "|POLYGON ((-86.816...|               6|\n",
            "|POLYGON ((-87.092...|               5|\n",
            "|POLYGON ((-86.697...|               1|\n",
            "|POLYGON ((-86.860...|              12|\n",
            "|POLYGON ((-87.105...|              15|\n",
            "+--------------------+----------------+\n",
            "\n"
          ]
        }
      ],
      "source": [
        "sedona.createDataFrame(number_of_points, schema, verifySchema=False).show()"
      ]
    },
    {
      "cell_type": "markdown",
      "metadata": {
        "id": "ZosmctfPOjcf"
      },
      "source": [
        "# KNNQuery"
      ]
    },
    {
      "cell_type": "markdown",
      "metadata": {
        "id": "utC2fQXwOjcg"
      },
      "source": [
        "Spatial KNNQuery is operation which help us find answer which k number of geometries lays closest to other geometry.\n",
        "\n",
        "For Example:\n",
        "    5 closest Shops to your home. To use Spatial KNNQuery please use object\n",
        "<b> KNNQuery </b> which has one method:\n",
        "```python\n",
        "SpatialKnnQuery(spatialRDD: SpatialRDD, originalQueryPoint: BaseGeometry, k: int,  useIndex: bool)-> List[GeoData]\n",
        "```"
      ]
    },
    {
      "cell_type": "markdown",
      "metadata": {
        "id": "sTcvQarvOjcg"
      },
      "source": [
        "### Finds 5 closest points from PointRDD to given Point"
      ]
    },
    {
      "cell_type": "code",
      "execution_count": 55,
      "metadata": {
        "id": "n6BIfKk9Ojcg"
      },
      "outputs": [],
      "source": [
        "result = KNNQuery.SpatialKnnQuery(point_rdd, Point(-84.01, 34.01), 5, False)"
      ]
    },
    {
      "cell_type": "code",
      "execution_count": 56,
      "metadata": {
        "id": "i-SgOWD2Ojcg",
        "outputId": "3b1d0257-0fe8-4ae6-8dfc-e49a44ee4ec8",
        "colab": {
          "base_uri": "https://localhost:8080/"
        }
      },
      "outputs": [
        {
          "output_type": "execute_result",
          "data": {
            "text/plain": [
              "[Geometry: Point userData: ,\n",
              " Geometry: Point userData: ,\n",
              " Geometry: Point userData: ,\n",
              " Geometry: Point userData: ,\n",
              " Geometry: Point userData: ]"
            ]
          },
          "metadata": {},
          "execution_count": 56
        }
      ],
      "source": [
        "result"
      ]
    },
    {
      "cell_type": "markdown",
      "metadata": {
        "id": "Dft5_7AMOjcg"
      },
      "source": [
        "As Reference geometry you can also use Polygon or LineString object"
      ]
    },
    {
      "cell_type": "code",
      "execution_count": 57,
      "metadata": {
        "id": "C-G_a1iXOjcg"
      },
      "outputs": [],
      "source": [
        "polygon = Polygon(\n",
        "    [(-84.237756, 33.904859), (-84.237756, 34.090426),\n",
        "     (-83.833011, 34.090426), (-83.833011, 33.904859),\n",
        "     (-84.237756, 33.904859)\n",
        "    ])\n",
        "polygons_nearby = KNNQuery.SpatialKnnQuery(polygon_rdd, polygon, 5, False)"
      ]
    },
    {
      "cell_type": "code",
      "execution_count": 58,
      "metadata": {
        "id": "pYtK1T1oOjcg",
        "outputId": "676f33ca-b2c6-4130-d4f5-682423b488cb",
        "colab": {
          "base_uri": "https://localhost:8080/"
        }
      },
      "outputs": [
        {
          "output_type": "execute_result",
          "data": {
            "text/plain": [
              "[Geometry: Polygon userData: ,\n",
              " Geometry: Polygon userData: ,\n",
              " Geometry: Polygon userData: ,\n",
              " Geometry: Polygon userData: ,\n",
              " Geometry: Polygon userData: ]"
            ]
          },
          "metadata": {},
          "execution_count": 58
        }
      ],
      "source": [
        "polygons_nearby"
      ]
    },
    {
      "cell_type": "code",
      "execution_count": 59,
      "metadata": {
        "id": "-4Mf5TP-Ojcg",
        "outputId": "dd59c995-a80a-4291-e17d-2444d978a659",
        "colab": {
          "base_uri": "https://localhost:8080/",
          "height": 53
        }
      },
      "outputs": [
        {
          "output_type": "execute_result",
          "data": {
            "text/plain": [
              "'POLYGON ((-83.993559 34.087259, -83.993559 34.131247, -83.959903 34.131247, -83.959903 34.087259, -83.993559 34.087259))'"
            ],
            "application/vnd.google.colaboratory.intrinsic+json": {
              "type": "string"
            }
          },
          "metadata": {},
          "execution_count": 59
        }
      ],
      "source": [
        "polygons_nearby[0].geom.wkt"
      ]
    },
    {
      "cell_type": "markdown",
      "metadata": {
        "id": "SxP3ufPGOjch"
      },
      "source": [
        "# RangeQuery"
      ]
    },
    {
      "cell_type": "markdown",
      "metadata": {
        "id": "Air8I_XIOjch"
      },
      "source": [
        "A spatial range query takes as input a range query window and an SpatialRDD and returns all geometries that intersect / are fully covered by the query window.\n",
        "RangeQuery has one method:\n",
        "\n",
        "```python\n",
        "SpatialRangeQuery(self, spatialRDD: SpatialRDD, rangeQueryWindow: BaseGeometry, considerBoundaryIntersection: bool, usingIndex: bool) -> RDD\n",
        "```"
      ]
    },
    {
      "cell_type": "code",
      "execution_count": 60,
      "metadata": {
        "id": "7YQd4wvuOjch"
      },
      "outputs": [],
      "source": [
        "from sedona.core.geom.envelope import Envelope"
      ]
    },
    {
      "cell_type": "code",
      "execution_count": 61,
      "metadata": {
        "id": "8WLf9PLbOjch"
      },
      "outputs": [],
      "source": [
        "query_envelope = Envelope(-85.01, -60.01, 34.01, 50.01)\n",
        "\n",
        "result_range_query = RangeQuery.SpatialRangeQuery(linestring_rdd, query_envelope, False, False)"
      ]
    },
    {
      "cell_type": "code",
      "execution_count": 62,
      "metadata": {
        "id": "9Wp7sOciOjch",
        "outputId": "fb73c159-476d-4ee9-f078-ab711167a865",
        "colab": {
          "base_uri": "https://localhost:8080/"
        }
      },
      "outputs": [
        {
          "output_type": "execute_result",
          "data": {
            "text/plain": [
              "MapPartitionsRDD[127] at map at GeometryRddConverter.scala:30"
            ]
          },
          "metadata": {},
          "execution_count": 62
        }
      ],
      "source": [
        "result_range_query"
      ]
    },
    {
      "cell_type": "code",
      "execution_count": 63,
      "metadata": {
        "id": "C1mittdHOjch",
        "outputId": "2fc35a1a-0310-4a0b-a071-7ab7f0f67a36",
        "colab": {
          "base_uri": "https://localhost:8080/"
        }
      },
      "outputs": [
        {
          "output_type": "execute_result",
          "data": {
            "text/plain": [
              "[Geometry: LineString userData: ,\n",
              " Geometry: LineString userData: ,\n",
              " Geometry: LineString userData: ,\n",
              " Geometry: LineString userData: ,\n",
              " Geometry: LineString userData: ,\n",
              " Geometry: LineString userData: ]"
            ]
          },
          "metadata": {},
          "execution_count": 63
        }
      ],
      "source": [
        "result_range_query.take(6)"
      ]
    },
    {
      "cell_type": "code",
      "execution_count": 64,
      "metadata": {
        "id": "Jv3ik2obOjch"
      },
      "outputs": [],
      "source": [
        "# Creating DataFrame from result"
      ]
    },
    {
      "cell_type": "code",
      "execution_count": 65,
      "metadata": {
        "id": "OF2xJfLCOjch"
      },
      "outputs": [],
      "source": [
        "schema = StructType([StructField(\"geometry\", GeometryType(), False)])"
      ]
    },
    {
      "cell_type": "code",
      "execution_count": 66,
      "metadata": {
        "id": "7Y4ruCQ-Ojci",
        "outputId": "e40e9cb8-6b4e-4c86-99d9-52219d1e1f08",
        "colab": {
          "base_uri": "https://localhost:8080/"
        }
      },
      "outputs": [
        {
          "output_type": "stream",
          "name": "stdout",
          "text": [
            "+--------------------+\n",
            "|            geometry|\n",
            "+--------------------+\n",
            "|LINESTRING (-72.1...|\n",
            "|LINESTRING (-72.4...|\n",
            "|LINESTRING (-72.4...|\n",
            "|LINESTRING (-73.4...|\n",
            "|LINESTRING (-73.6...|\n",
            "+--------------------+\n",
            "only showing top 5 rows\n",
            "\n"
          ]
        }
      ],
      "source": [
        "sedona.createDataFrame(\n",
        "    result_range_query.map(lambda x: [x.geom]),\n",
        "    schema,\n",
        "    verifySchema=False\n",
        ").show(5, True)"
      ]
    },
    {
      "cell_type": "markdown",
      "metadata": {
        "id": "jwiSJcuLOjci"
      },
      "source": [
        "# Load From other Formats"
      ]
    },
    {
      "cell_type": "markdown",
      "metadata": {
        "id": "aLuQLIfJOjci"
      },
      "source": [
        "GeoPyspark allows to load the data from other Data formats like:\n",
        "<li> GeoJSON </li>\n",
        "<li> Shapefile </li>\n",
        "<li> WKB </li>\n",
        "<li> WKT </li>"
      ]
    },
    {
      "cell_type": "markdown",
      "source": [
        "## ShapeFile - load to SpatialRDD"
      ],
      "metadata": {
        "id": "Udl4O-yE44Cb"
      }
    },
    {
      "cell_type": "code",
      "execution_count": 67,
      "metadata": {
        "id": "3bcx_gxAOjci"
      },
      "outputs": [],
      "source": [
        "shape_rdd = ShapefileReader.readToGeometryRDD(sc, \"data/polygon\")"
      ]
    },
    {
      "cell_type": "code",
      "execution_count": 68,
      "metadata": {
        "id": "nIjo83o8Ojci",
        "outputId": "e743b9c1-cecb-4a67-88fd-9ca344f781ff",
        "colab": {
          "base_uri": "https://localhost:8080/"
        }
      },
      "outputs": [
        {
          "output_type": "execute_result",
          "data": {
            "text/plain": [
              "<sedona.core.SpatialRDD.spatial_rdd.SpatialRDD at 0x79e1349ecca0>"
            ]
          },
          "metadata": {},
          "execution_count": 68
        }
      ],
      "source": [
        "shape_rdd"
      ]
    },
    {
      "cell_type": "code",
      "execution_count": 69,
      "metadata": {
        "id": "4y9EXCKfOjci",
        "outputId": "96bdb09b-d863-45bf-fa24-d3b98038a758",
        "colab": {
          "base_uri": "https://localhost:8080/"
        }
      },
      "outputs": [
        {
          "output_type": "stream",
          "name": "stdout",
          "text": [
            "+--------------------+\n",
            "|            geometry|\n",
            "+--------------------+\n",
            "|MULTIPOLYGON (((1...|\n",
            "|MULTIPOLYGON (((-...|\n",
            "|MULTIPOLYGON (((1...|\n",
            "|POLYGON ((118.362...|\n",
            "|MULTIPOLYGON (((-...|\n",
            "+--------------------+\n",
            "only showing top 5 rows\n",
            "\n"
          ]
        }
      ],
      "source": [
        "Adapter.toDf(shape_rdd, sedona).show(5, True)"
      ]
    },
    {
      "cell_type": "markdown",
      "source": [
        "## GeoJSON - load to SpatialRDD"
      ],
      "metadata": {
        "id": "gjRBpmLQ48Sx"
      }
    },
    {
      "cell_type": "markdown",
      "metadata": {
        "id": "Mh1K7181Ojcj"
      },
      "source": [
        "```\n",
        "{ \"type\": \"Feature\", \"properties\": { \"STATEFP\": \"01\", \"COUNTYFP\": \"077\", \"TRACTCE\": \"011501\", \"BLKGRPCE\": \"5\", \"AFFGEOID\": \"1500000US010770115015\", \"GEOID\": \"010770115015\", \"NAME\": \"5\", \"LSAD\": \"BG\", \"ALAND\": 6844991, \"AWATER\": 32636 }, \"geometry\": { \"type\": \"Polygon\", \"coordinates\": [ [ [ -87.621765, 34.873444 ], [ -87.617535, 34.873369 ], [ -87.6123, 34.873337 ], [ -87.604049, 34.873303 ], [ -87.604033, 34.872316 ], [ -87.60415, 34.867502 ], [ -87.604218, 34.865687 ], [ -87.604409, 34.858537 ], [ -87.604018, 34.851336 ], [ -87.603716, 34.844829 ], [ -87.603696, 34.844307 ], [ -87.603673, 34.841884 ], [ -87.60372, 34.841003 ], [ -87.603879, 34.838423 ], [ -87.603888, 34.837682 ], [ -87.603889, 34.83763 ], [ -87.613127, 34.833938 ], [ -87.616451, 34.832699 ], [ -87.621041, 34.831431 ], [ -87.621056, 34.831526 ], [ -87.62112, 34.831925 ], [ -87.621603, 34.8352 ], [ -87.62158, 34.836087 ], [ -87.621383, 34.84329 ], [ -87.621359, 34.844438 ], [ -87.62129, 34.846387 ], [ -87.62119, 34.85053 ], [ -87.62144, 34.865379 ], [ -87.621765, 34.873444 ] ] ] } },\n",
        "```"
      ]
    },
    {
      "cell_type": "code",
      "execution_count": 70,
      "metadata": {
        "id": "g_a3q71ZOjcj"
      },
      "outputs": [],
      "source": [
        "geo_json_rdd = GeoJsonReader.readToGeometryRDD(sc, \"data/testPolygon.json\")"
      ]
    },
    {
      "cell_type": "code",
      "execution_count": 71,
      "metadata": {
        "id": "LGrMegQ6Ojcj",
        "outputId": "678fe285-aa59-4330-ca75-35c98bdeb985",
        "colab": {
          "base_uri": "https://localhost:8080/"
        }
      },
      "outputs": [
        {
          "output_type": "execute_result",
          "data": {
            "text/plain": [
              "<sedona.core.SpatialRDD.spatial_rdd.SpatialRDD at 0x79e171586b60>"
            ]
          },
          "metadata": {},
          "execution_count": 71
        }
      ],
      "source": [
        "geo_json_rdd"
      ]
    },
    {
      "cell_type": "code",
      "execution_count": 72,
      "metadata": {
        "id": "ZfH32XssOjcj",
        "outputId": "4b4fa2ea-e110-4cfa-f619-759e052c0d45",
        "colab": {
          "base_uri": "https://localhost:8080/"
        }
      },
      "outputs": [
        {
          "output_type": "stream",
          "name": "stdout",
          "text": [
            "+--------------------+-------+--------+-------+--------+--------------------+------------+----+----+--------+\n",
            "|            geometry|STATEFP|COUNTYFP|TRACTCE|BLKGRPCE|            AFFGEOID|       GEOID|NAME|LSAD|   ALAND|\n",
            "+--------------------+-------+--------+-------+--------+--------------------+------------+----+----+--------+\n",
            "|POLYGON ((-87.621...|     01|     077| 011501|       5|1500000US01077011...|010770115015|   5|  BG| 6844991|\n",
            "|POLYGON ((-85.719...|     01|     045| 021102|       4|1500000US01045021...|010450211024|   4|  BG|11360854|\n",
            "|POLYGON ((-86.000...|     01|     055| 001300|       3|1500000US01055001...|010550013003|   3|  BG| 1378742|\n",
            "|POLYGON ((-86.574...|     01|     089| 001700|       2|1500000US01089001...|010890017002|   2|  BG| 1040641|\n",
            "|POLYGON ((-85.382...|     01|     069| 041400|       1|1500000US01069041...|010690414001|   1|  BG| 8243574|\n",
            "+--------------------+-------+--------+-------+--------+--------------------+------------+----+----+--------+\n",
            "only showing top 5 rows\n",
            "\n"
          ]
        }
      ],
      "source": [
        "Adapter.toDf(geo_json_rdd, sedona).drop(\"AWATER\").show(5, True)"
      ]
    },
    {
      "cell_type": "markdown",
      "source": [
        "## WKT - loading to SpatialRDD"
      ],
      "metadata": {
        "id": "WK8g2bYB5AlA"
      }
    },
    {
      "cell_type": "code",
      "execution_count": 73,
      "metadata": {
        "id": "0d9owuZROjcj"
      },
      "outputs": [],
      "source": [
        "wkt_rdd = WktReader.readToGeometryRDD(sc, \"data/county_small.tsv\", 0, True, False)"
      ]
    },
    {
      "cell_type": "code",
      "execution_count": 74,
      "metadata": {
        "id": "XKALKBbeOjcj",
        "outputId": "8416791b-6355-4220-c727-640e68f9138f",
        "colab": {
          "base_uri": "https://localhost:8080/"
        }
      },
      "outputs": [
        {
          "output_type": "execute_result",
          "data": {
            "text/plain": [
              "<sedona.core.SpatialRDD.spatial_rdd.SpatialRDD at 0x79e1340c94b0>"
            ]
          },
          "metadata": {},
          "execution_count": 74
        }
      ],
      "source": [
        "wkt_rdd"
      ]
    },
    {
      "cell_type": "code",
      "execution_count": 75,
      "metadata": {
        "id": "UUJfqy5EOjcj",
        "outputId": "7bc372a9-70b1-459e-9170-4df4e8ba3039",
        "colab": {
          "base_uri": "https://localhost:8080/"
        }
      },
      "outputs": [
        {
          "output_type": "stream",
          "name": "stdout",
          "text": [
            "root\n",
            " |-- geometry: geometry (nullable = true)\n",
            "\n"
          ]
        }
      ],
      "source": [
        "Adapter.toDf(wkt_rdd, sedona).printSchema()"
      ]
    },
    {
      "cell_type": "code",
      "execution_count": 76,
      "metadata": {
        "id": "qjIgGZB2Ojck",
        "outputId": "df109365-debe-4609-c43c-c537b4620f05",
        "colab": {
          "base_uri": "https://localhost:8080/"
        }
      },
      "outputs": [
        {
          "output_type": "stream",
          "name": "stdout",
          "text": [
            "+--------------------+\n",
            "|            geometry|\n",
            "+--------------------+\n",
            "|POLYGON ((-97.019...|\n",
            "|POLYGON ((-123.43...|\n",
            "|POLYGON ((-104.56...|\n",
            "|POLYGON ((-96.910...|\n",
            "|POLYGON ((-98.273...|\n",
            "+--------------------+\n",
            "only showing top 5 rows\n",
            "\n"
          ]
        }
      ],
      "source": [
        "Adapter.toDf(wkt_rdd, sedona).show(5, True)"
      ]
    },
    {
      "cell_type": "markdown",
      "source": [
        "## WKB - load to SpatialRDD"
      ],
      "metadata": {
        "id": "ZlZpg34F5Es2"
      }
    },
    {
      "cell_type": "code",
      "execution_count": 77,
      "metadata": {
        "id": "1-saFLNoOjck"
      },
      "outputs": [],
      "source": [
        "wkb_rdd = WkbReader.readToGeometryRDD(sc, \"data/county_small_wkb.tsv\", 0, True, False)"
      ]
    },
    {
      "cell_type": "code",
      "execution_count": 78,
      "metadata": {
        "id": "WFUhy3AtOjck",
        "outputId": "6f683b10-c4bb-4e29-876a-ad24fc30dd31",
        "colab": {
          "base_uri": "https://localhost:8080/"
        }
      },
      "outputs": [
        {
          "output_type": "stream",
          "name": "stdout",
          "text": [
            "+--------------------+\n",
            "|            geometry|\n",
            "+--------------------+\n",
            "|POLYGON ((-97.019...|\n",
            "|POLYGON ((-123.43...|\n",
            "|POLYGON ((-104.56...|\n",
            "|POLYGON ((-96.910...|\n",
            "|POLYGON ((-98.273...|\n",
            "+--------------------+\n",
            "only showing top 5 rows\n",
            "\n"
          ]
        }
      ],
      "source": [
        "Adapter.toDf(wkb_rdd, sedona).show(5, True)"
      ]
    },
    {
      "cell_type": "markdown",
      "metadata": {
        "id": "xj-mt-60Ojck"
      },
      "source": [
        "## Converting RDD Spatial join result to DF directly, avoiding jvm python serde"
      ]
    },
    {
      "cell_type": "code",
      "execution_count": 79,
      "metadata": {
        "id": "5DTG6EvFOjck"
      },
      "outputs": [],
      "source": [
        "point_rdd.spatialPartitioning(GridType.KDBTREE)\n",
        "rectangle_rdd.spatialPartitioning(point_rdd.getPartitioner())\n",
        "# building an index\n",
        "point_rdd.buildIndex(IndexType.RTREE, True)\n",
        "# Perform Spatial Join Query\n",
        "result = JoinQueryRaw.SpatialJoinQueryFlat(point_rdd, rectangle_rdd, False, True)"
      ]
    },
    {
      "cell_type": "code",
      "execution_count": 80,
      "metadata": {
        "id": "Fs8XaQ6kOjck"
      },
      "outputs": [],
      "source": [
        "# without passing column names, the result will contain only two geometries columns\n",
        "geometry_df = Adapter.toDf(result, sedona)"
      ]
    },
    {
      "cell_type": "code",
      "execution_count": 81,
      "metadata": {
        "id": "qiWJjHz7Ojck",
        "outputId": "1076d948-f4ee-4121-b659-6ac85e64bf03",
        "colab": {
          "base_uri": "https://localhost:8080/"
        }
      },
      "outputs": [
        {
          "output_type": "stream",
          "name": "stdout",
          "text": [
            "root\n",
            " |-- leftgeometry: geometry (nullable = true)\n",
            " |-- rightgeometry: geometry (nullable = true)\n",
            "\n"
          ]
        }
      ],
      "source": [
        "geometry_df.printSchema()"
      ]
    },
    {
      "cell_type": "code",
      "execution_count": 82,
      "metadata": {
        "id": "CUuhG1HHOjcl",
        "outputId": "2267eb8f-ab7b-4658-fd78-ec3b12815bcc",
        "colab": {
          "base_uri": "https://localhost:8080/"
        }
      },
      "outputs": [
        {
          "output_type": "stream",
          "name": "stdout",
          "text": [
            "+--------------------+--------------------+\n",
            "|        leftgeometry|       rightgeometry|\n",
            "+--------------------+--------------------+\n",
            "|POLYGON ((-87.285...|POINT (-87.186331...|\n",
            "|POLYGON ((-87.229...|POINT (-87.204033...|\n",
            "|POLYGON ((-87.229...|POINT (-87.204299...|\n",
            "|POLYGON ((-87.229...|POINT (-87.19351 ...|\n",
            "|POLYGON ((-87.229...|POINT (-87.18222 ...|\n",
            "+--------------------+--------------------+\n",
            "only showing top 5 rows\n",
            "\n"
          ]
        }
      ],
      "source": [
        "geometry_df.show(5)"
      ]
    },
    {
      "cell_type": "code",
      "execution_count": 83,
      "metadata": {
        "id": "J_113xc7Ojcl",
        "outputId": "79d8cf62-88a5-4567-af43-5281365c8274",
        "colab": {
          "base_uri": "https://localhost:8080/"
        }
      },
      "outputs": [
        {
          "output_type": "execute_result",
          "data": {
            "text/plain": [
              "Row(leftgeometry=<POLYGON ((-87.285 34.299, -87.285 34.514, -87.019 34.514, -87.019 34.299, -...>, rightgeometry=<POINT (-87.186 34.313)>)"
            ]
          },
          "metadata": {},
          "execution_count": 83
        }
      ],
      "source": [
        "geometry_df.collect()[0]"
      ]
    },
    {
      "cell_type": "markdown",
      "metadata": {
        "id": "S-eRk6AROjcl"
      },
      "source": [
        "## Passing column names"
      ]
    },
    {
      "cell_type": "code",
      "execution_count": 84,
      "metadata": {
        "id": "5CnT4RzeOjcl"
      },
      "outputs": [],
      "source": [
        "geometry_df = Adapter.toDf(result, [\"left_user_data\"], [\"right_user_data\"], sedona)"
      ]
    },
    {
      "cell_type": "code",
      "execution_count": 85,
      "metadata": {
        "id": "qfaNUcXQOjcl",
        "outputId": "fde94b84-e45e-44ff-93a5-81e6d3bd6d1f",
        "colab": {
          "base_uri": "https://localhost:8080/"
        }
      },
      "outputs": [
        {
          "output_type": "stream",
          "name": "stdout",
          "text": [
            "+--------------------+--------------+--------------------+---------------+\n",
            "|        leftgeometry|left_user_data|       rightgeometry|right_user_data|\n",
            "+--------------------+--------------+--------------------+---------------+\n",
            "|POLYGON ((-87.285...|              |POINT (-87.186331...|           null|\n",
            "|POLYGON ((-87.229...|              |POINT (-87.204033...|           null|\n",
            "|POLYGON ((-87.229...|              |POINT (-87.204299...|           null|\n",
            "|POLYGON ((-87.229...|              |POINT (-87.19351 ...|           null|\n",
            "|POLYGON ((-87.229...|              |POINT (-87.18222 ...|           null|\n",
            "+--------------------+--------------+--------------------+---------------+\n",
            "only showing top 5 rows\n",
            "\n"
          ]
        }
      ],
      "source": [
        "geometry_df.show(5)"
      ]
    },
    {
      "cell_type": "markdown",
      "metadata": {
        "id": "TzWjjT0UOjcl"
      },
      "source": [
        "# Converting RDD Spatial join result to DF directly, avoiding jvm python serde"
      ]
    },
    {
      "cell_type": "code",
      "execution_count": 86,
      "metadata": {
        "id": "OB_t5UOcOjcl"
      },
      "outputs": [],
      "source": [
        "query_envelope = Envelope(-85.01, -60.01, 34.01, 50.01)\n",
        "\n",
        "result_range_query = RangeQueryRaw.SpatialRangeQuery(linestring_rdd, query_envelope, False, False)"
      ]
    },
    {
      "cell_type": "code",
      "execution_count": 87,
      "metadata": {
        "id": "58B9hoX_Ojcl"
      },
      "outputs": [],
      "source": [
        "# converting to df\n",
        "gdf = Adapter.toDf(result_range_query, sedona)"
      ]
    },
    {
      "cell_type": "code",
      "execution_count": 88,
      "metadata": {
        "id": "Rgna3MsmOjcl",
        "outputId": "97949671-0cf4-4264-a598-88f6d76da7d7",
        "colab": {
          "base_uri": "https://localhost:8080/"
        }
      },
      "outputs": [
        {
          "output_type": "stream",
          "name": "stdout",
          "text": [
            "+--------------------+\n",
            "|            geometry|\n",
            "+--------------------+\n",
            "|LINESTRING (-72.1...|\n",
            "|LINESTRING (-72.4...|\n",
            "|LINESTRING (-72.4...|\n",
            "|LINESTRING (-73.4...|\n",
            "|LINESTRING (-73.6...|\n",
            "+--------------------+\n",
            "only showing top 5 rows\n",
            "\n"
          ]
        }
      ],
      "source": [
        "gdf.show(5)"
      ]
    },
    {
      "cell_type": "code",
      "execution_count": 89,
      "metadata": {
        "id": "Gzw-LrkgOjcm",
        "outputId": "98f7a5d7-fd49-4a07-a7d3-f48c087e2ae4",
        "colab": {
          "base_uri": "https://localhost:8080/"
        }
      },
      "outputs": [
        {
          "output_type": "stream",
          "name": "stdout",
          "text": [
            "root\n",
            " |-- geometry: geometry (nullable = true)\n",
            "\n"
          ]
        }
      ],
      "source": [
        "gdf.printSchema()"
      ]
    },
    {
      "cell_type": "code",
      "execution_count": 90,
      "metadata": {
        "id": "C5-BtLhSOjcm"
      },
      "outputs": [],
      "source": [
        "# Passing column names\n",
        "# converting to df\n",
        "gdf_with_columns = Adapter.toDf(result_range_query, sedona, [\"_c1\"])"
      ]
    },
    {
      "cell_type": "code",
      "execution_count": 91,
      "metadata": {
        "id": "r9ctqnn1Ojcm",
        "outputId": "c7a57361-f69b-4480-e36d-33a14937a9d9",
        "colab": {
          "base_uri": "https://localhost:8080/"
        }
      },
      "outputs": [
        {
          "output_type": "stream",
          "name": "stdout",
          "text": [
            "+--------------------+---+\n",
            "|            geometry|_c1|\n",
            "+--------------------+---+\n",
            "|LINESTRING (-72.1...|   |\n",
            "|LINESTRING (-72.4...|   |\n",
            "|LINESTRING (-72.4...|   |\n",
            "|LINESTRING (-73.4...|   |\n",
            "|LINESTRING (-73.6...|   |\n",
            "+--------------------+---+\n",
            "only showing top 5 rows\n",
            "\n"
          ]
        }
      ],
      "source": [
        "gdf_with_columns.show(5)"
      ]
    },
    {
      "cell_type": "code",
      "execution_count": 92,
      "metadata": {
        "id": "h-xj5agIOjcm",
        "outputId": "f4e6aa47-be93-478c-e62e-484f60fb31be",
        "colab": {
          "base_uri": "https://localhost:8080/"
        }
      },
      "outputs": [
        {
          "output_type": "stream",
          "name": "stdout",
          "text": [
            "root\n",
            " |-- geometry: geometry (nullable = true)\n",
            " |-- _c1: string (nullable = true)\n",
            "\n"
          ]
        }
      ],
      "source": [
        "gdf_with_columns.printSchema()"
      ]
    },
    {
      "cell_type": "markdown",
      "source": [
        "# Summary\n",
        "\n",
        "We have shown how to install Sedona with Pyspark and run a basic example (source: https://github.com/apache/sedona/blob/master/docs/usecases/ApacheSedonaCore.ipynb) on Google Colab. This demo uses the Spark engine provided by PySpark."
      ],
      "metadata": {
        "id": "VIQE0WpbUQjD"
      }
    }
  ]
}