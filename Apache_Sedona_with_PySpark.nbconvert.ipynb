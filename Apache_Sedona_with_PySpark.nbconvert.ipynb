{
 "cells": [
  {
   "cell_type": "markdown",
   "metadata": {
    "colab_type": "text",
    "id": "view-in-github"
   },
   "source": [
    "<a href=\"https://colab.research.google.com/github/groda/big_data/blob/master/Apache_Sedona_with_PySpark.ipynb\" target=\"_parent\"><img src=\"https://colab.research.google.com/assets/colab-badge.svg\" alt=\"Open In Colab\"/></a>"
   ]
  },
  {
   "cell_type": "markdown",
   "metadata": {
    "id": "DNWKwG4TAcD2"
   },
   "source": [
    "\n",
    "<a href=\"https://github.com/groda/big_data\"><div><img src=\"https://github.com/groda/big_data/blob/master/logo_bdb.png?raw=true\" align=right width=\"90\" alt=\"Logo Big Data for Beginners\"></div></a>\n",
    "# Apache Sedona with PySpark\n",
    "\n",
    "Apache Sedona™ is\n",
    "\n",
    "> *a cluster computing system for processing large-scale spatial data. Sedona extends existing cluster computing systems, such as Apache Spark, Apache Flink, and Snowflake, with a set of out-of-the-box distributed Spatial Datasets and Spatial SQL that efficiently load, process, and analyze large-scale spatial data across machines.* ([https://sedona.apache.org/](https://sedona.apache.org/))\n",
    "\n",
    "To execute a basic Sedona demonstration using PySpark on Google Colab, we made a few minor adjustments. The Sedona notebook starts below at [Apache Sedona Core demo](#scrollTo=Apache_Sedona_Core_demo).\n",
    "\n"
   ]
  },
  {
   "cell_type": "markdown",
   "metadata": {
    "id": "3AQNoWmX_B78"
   },
   "source": [
    "## Install Apache Sedona and PySpark\n",
    "\n",
    "To start with, we are going to install PySpark with Sedona following the instructions at: https://sedona.apache.org/latest-snapshot/setup/install-python/ but first we need to downgrade `shapely` because the version 2.0.2 that comes with Google Colab does not play well with the current version of Apache Sedona (see https://shapely.readthedocs.io/en/stable/migration.html)."
   ]
  },
  {
   "cell_type": "markdown",
   "metadata": {
    "id": "zDoBDC3yAVvI"
   },
   "source": [
    "### Downgrade Shapely to version 1.7.1\n",
    "\n",
    "We need to install install any version of `shapely>=1.7.0` but smaller than `2.0`. We picked `1.7.1` because with 1.7.0 we got the error\n",
    "\n",
    "    geopandas 0.13.2 requires shapely>=1.7.1, but you have shapely 1.7.0 which is incompatible.\n",
    "\n",
    "Explanation for `pip -I`:\n",
    "\n",
    "- [`-I, --ignore-installed`](https://pip.pypa.io/en/stable/cli/pip_install/#cmdoption-I)\n",
    "> Ignore the installed packages, overwriting them. This can break your system if the existing package is of a different version or was installed with a different package manager!\n",
    "\n",
    "\n",
    "\n",
    "\n",
    "\n"
   ]
  },
  {
   "cell_type": "code",
   "execution_count": 1,
   "metadata": {
    "colab": {
     "base_uri": "https://localhost:8080/"
    },
    "execution": {
     "iopub.execute_input": "2024-02-25T21:25:45.858794Z",
     "iopub.status.busy": "2024-02-25T21:25:45.858526Z",
     "iopub.status.idle": "2024-02-25T21:25:47.448543Z",
     "shell.execute_reply": "2024-02-25T21:25:47.447864Z"
    },
    "id": "_4nnDMo0Blfu",
    "outputId": "cf77f2ad-6e17-43da-8578-3ff535497efa"
   },
   "outputs": [
    {
     "name": "stdout",
     "output_type": "stream",
     "text": [
      "Collecting shapely==1.7.1\r\n"
     ]
    },
    {
     "name": "stdout",
     "output_type": "stream",
     "text": [
      "  Downloading Shapely-1.7.1-cp38-cp38-manylinux1_x86_64.whl (1.0 MB)\r\n",
      "\u001b[?25l     \u001b[90m━━━━━━━━━━━━━━━━━━━━━━━━━━━━━━━━━━━━━━━━\u001b[0m \u001b[32m0.0/1.0 MB\u001b[0m \u001b[31m?\u001b[0m eta \u001b[36m-:--:--\u001b[0m\r",
      "\u001b[2K     \u001b[91m━━━━━━━━━━━━━━━━━━━━━━━━━━━━━━━━━━━━━━━\u001b[0m\u001b[91m╸\u001b[0m \u001b[32m1.0/1.0 MB\u001b[0m \u001b[31m36.6 MB/s\u001b[0m eta \u001b[36m0:00:01\u001b[0m\r",
      "\u001b[2K     \u001b[90m━━━━━━━━━━━━━━━━━━━━━━━━━━━━━━━━━━━━━━━━\u001b[0m \u001b[32m1.0/1.0 MB\u001b[0m \u001b[31m28.7 MB/s\u001b[0m eta \u001b[36m0:00:00\u001b[0m\r\n",
      "\u001b[?25h"
     ]
    },
    {
     "name": "stdout",
     "output_type": "stream",
     "text": [
      "Installing collected packages: shapely\r\n"
     ]
    },
    {
     "name": "stdout",
     "output_type": "stream",
     "text": [
      "Successfully installed shapely-1.7.1\r\n"
     ]
    },
    {
     "name": "stdout",
     "output_type": "stream",
     "text": [
      "\r\n",
      "\u001b[1m[\u001b[0m\u001b[34;49mnotice\u001b[0m\u001b[1;39;49m]\u001b[0m\u001b[39;49m A new release of pip is available: \u001b[0m\u001b[31;49m23.0.1\u001b[0m\u001b[39;49m -> \u001b[0m\u001b[32;49m24.0\u001b[0m\r\n",
      "\u001b[1m[\u001b[0m\u001b[34;49mnotice\u001b[0m\u001b[1;39;49m]\u001b[0m\u001b[39;49m To update, run: \u001b[0m\u001b[32;49mpip install --upgrade pip\u001b[0m\r\n"
     ]
    }
   ],
   "source": [
    "!pip install -I shapely==1.7.1"
   ]
  },
  {
   "cell_type": "markdown",
   "metadata": {
    "id": "76yI9hGZz_Ss"
   },
   "source": [
    "### Install Geopandas\n",
    "\n",
    "This step is only needed outside of Colab because on Google Colab `geopandas` is available by default."
   ]
  },
  {
   "cell_type": "code",
   "execution_count": 2,
   "metadata": {
    "colab": {
     "base_uri": "https://localhost:8080/"
    },
    "execution": {
     "iopub.execute_input": "2024-02-25T21:25:47.451905Z",
     "iopub.status.busy": "2024-02-25T21:25:47.451490Z",
     "iopub.status.idle": "2024-02-25T21:25:56.128680Z",
     "shell.execute_reply": "2024-02-25T21:25:56.127930Z"
    },
    "id": "KliMM6ka0Qee",
    "outputId": "170bc61d-9911-4929-8a51-7d82fd24d6aa"
   },
   "outputs": [
    {
     "name": "stdout",
     "output_type": "stream",
     "text": [
      "Collecting geopandas==0.13.2\r\n"
     ]
    },
    {
     "name": "stdout",
     "output_type": "stream",
     "text": [
      "  Downloading geopandas-0.13.2-py3-none-any.whl.metadata (1.5 kB)\r\n"
     ]
    },
    {
     "name": "stdout",
     "output_type": "stream",
     "text": [
      "Collecting fiona>=1.8.19 (from geopandas==0.13.2)\r\n",
      "  Downloading fiona-1.9.5-cp38-cp38-manylinux2014_x86_64.whl.metadata (49 kB)\r\n",
      "\u001b[?25l     \u001b[90m━━━━━━━━━━━━━━━━━━━━━━━━━━━━━━━━━━━━━━━━\u001b[0m \u001b[32m0.0/49.7 kB\u001b[0m \u001b[31m?\u001b[0m eta \u001b[36m-:--:--\u001b[0m\r",
      "\u001b[2K     \u001b[90m━━━━━━━━━━━━━━━━━━━━━━━━━━━━━━━━━━━━━━━━\u001b[0m \u001b[32m49.7/49.7 kB\u001b[0m \u001b[31m4.1 MB/s\u001b[0m eta \u001b[36m0:00:00\u001b[0m\r\n",
      "\u001b[?25hRequirement already satisfied: packaging in /opt/hostedtoolcache/Python/3.8.18/x64/lib/python3.8/site-packages (from geopandas==0.13.2) (23.2)\r\n"
     ]
    },
    {
     "name": "stdout",
     "output_type": "stream",
     "text": [
      "Collecting pandas>=1.1.0 (from geopandas==0.13.2)\r\n",
      "  Downloading pandas-2.0.3-cp38-cp38-manylinux_2_17_x86_64.manylinux2014_x86_64.whl.metadata (18 kB)\r\n"
     ]
    },
    {
     "name": "stdout",
     "output_type": "stream",
     "text": [
      "Collecting pyproj>=3.0.1 (from geopandas==0.13.2)\r\n",
      "  Downloading pyproj-3.5.0-cp38-cp38-manylinux_2_17_x86_64.manylinux2014_x86_64.whl.metadata (28 kB)\r\n",
      "Requirement already satisfied: shapely>=1.7.1 in /opt/hostedtoolcache/Python/3.8.18/x64/lib/python3.8/site-packages (from geopandas==0.13.2) (1.7.1)\r\n",
      "Requirement already satisfied: attrs>=19.2.0 in /opt/hostedtoolcache/Python/3.8.18/x64/lib/python3.8/site-packages (from fiona>=1.8.19->geopandas==0.13.2) (23.2.0)\r\n",
      "Requirement already satisfied: certifi in /opt/hostedtoolcache/Python/3.8.18/x64/lib/python3.8/site-packages (from fiona>=1.8.19->geopandas==0.13.2) (2024.2.2)\r\n"
     ]
    },
    {
     "name": "stdout",
     "output_type": "stream",
     "text": [
      "Collecting click~=8.0 (from fiona>=1.8.19->geopandas==0.13.2)\r\n",
      "  Downloading click-8.1.7-py3-none-any.whl.metadata (3.0 kB)\r\n",
      "Collecting click-plugins>=1.0 (from fiona>=1.8.19->geopandas==0.13.2)\r\n"
     ]
    },
    {
     "name": "stdout",
     "output_type": "stream",
     "text": [
      "  Downloading click_plugins-1.1.1-py2.py3-none-any.whl (7.5 kB)\r\n",
      "Collecting cligj>=0.5 (from fiona>=1.8.19->geopandas==0.13.2)\r\n",
      "  Downloading cligj-0.7.2-py3-none-any.whl.metadata (5.0 kB)\r\n",
      "Requirement already satisfied: six in /opt/hostedtoolcache/Python/3.8.18/x64/lib/python3.8/site-packages (from fiona>=1.8.19->geopandas==0.13.2) (1.16.0)\r\n",
      "Requirement already satisfied: setuptools in /opt/hostedtoolcache/Python/3.8.18/x64/lib/python3.8/site-packages (from fiona>=1.8.19->geopandas==0.13.2) (56.0.0)\r\n",
      "Requirement already satisfied: importlib-metadata in /opt/hostedtoolcache/Python/3.8.18/x64/lib/python3.8/site-packages (from fiona>=1.8.19->geopandas==0.13.2) (7.0.1)\r\n"
     ]
    },
    {
     "name": "stdout",
     "output_type": "stream",
     "text": [
      "Requirement already satisfied: python-dateutil>=2.8.2 in /opt/hostedtoolcache/Python/3.8.18/x64/lib/python3.8/site-packages (from pandas>=1.1.0->geopandas==0.13.2) (2.8.2)\r\n",
      "Requirement already satisfied: pytz>=2020.1 in /opt/hostedtoolcache/Python/3.8.18/x64/lib/python3.8/site-packages (from pandas>=1.1.0->geopandas==0.13.2) (2024.1)\r\n",
      "Collecting tzdata>=2022.1 (from pandas>=1.1.0->geopandas==0.13.2)\r\n",
      "  Downloading tzdata-2024.1-py2.py3-none-any.whl.metadata (1.4 kB)\r\n"
     ]
    },
    {
     "name": "stdout",
     "output_type": "stream",
     "text": [
      "Collecting numpy>=1.20.3 (from pandas>=1.1.0->geopandas==0.13.2)\r\n"
     ]
    },
    {
     "name": "stdout",
     "output_type": "stream",
     "text": [
      "  Downloading numpy-1.24.4-cp38-cp38-manylinux_2_17_x86_64.manylinux2014_x86_64.whl.metadata (5.6 kB)\r\n"
     ]
    },
    {
     "name": "stdout",
     "output_type": "stream",
     "text": [
      "Requirement already satisfied: zipp>=0.5 in /opt/hostedtoolcache/Python/3.8.18/x64/lib/python3.8/site-packages (from importlib-metadata->fiona>=1.8.19->geopandas==0.13.2) (3.17.0)\r\n"
     ]
    },
    {
     "name": "stdout",
     "output_type": "stream",
     "text": [
      "Downloading geopandas-0.13.2-py3-none-any.whl (1.1 MB)\r\n",
      "\u001b[?25l   \u001b[90m━━━━━━━━━━━━━━━━━━━━━━━━━━━━━━━━━━━━━━━━\u001b[0m \u001b[32m0.0/1.1 MB\u001b[0m \u001b[31m?\u001b[0m eta \u001b[36m-:--:--\u001b[0m\r",
      "\u001b[2K   \u001b[90m━━━━━━━━━━━━━━━━━━━━━━━━━━━━━━━━━━━━━━━━\u001b[0m \u001b[32m1.1/1.1 MB\u001b[0m \u001b[31m79.4 MB/s\u001b[0m eta \u001b[36m0:00:00\u001b[0m\r\n",
      "\u001b[?25h"
     ]
    },
    {
     "name": "stdout",
     "output_type": "stream",
     "text": [
      "Downloading fiona-1.9.5-cp38-cp38-manylinux2014_x86_64.whl (15.7 MB)\r\n",
      "\u001b[?25l   \u001b[90m━━━━━━━━━━━━━━━━━━━━━━━━━━━━━━━━━━━━━━━━\u001b[0m \u001b[32m0.0/15.7 MB\u001b[0m \u001b[31m?\u001b[0m eta \u001b[36m-:--:--\u001b[0m\r",
      "\u001b[2K   \u001b[91m━━━━━━━━━━━━━\u001b[0m\u001b[90m╺\u001b[0m\u001b[90m━━━━━━━━━━━━━━━━━━━━━━━━━━\u001b[0m \u001b[32m5.3/15.7 MB\u001b[0m \u001b[31m158.8 MB/s\u001b[0m eta \u001b[36m0:00:01\u001b[0m"
     ]
    },
    {
     "name": "stdout",
     "output_type": "stream",
     "text": [
      "\r",
      "\u001b[2K   \u001b[91m━━━━━━━━━━━━━━━━━━━━━━━━━━\u001b[0m\u001b[91m╸\u001b[0m\u001b[90m━━━━━━━━━━━━━\u001b[0m \u001b[32m10.4/15.7 MB\u001b[0m \u001b[31m153.1 MB/s\u001b[0m eta \u001b[36m0:00:01\u001b[0m"
     ]
    },
    {
     "name": "stdout",
     "output_type": "stream",
     "text": [
      "\r",
      "\u001b[2K   \u001b[91m━━━━━━━━━━━━━━━━━━━━━━━━━━━━━━━━━━━━━━━\u001b[0m\u001b[91m╸\u001b[0m \u001b[32m15.7/15.7 MB\u001b[0m \u001b[31m159.3 MB/s\u001b[0m eta \u001b[36m0:00:01\u001b[0m\r",
      "\u001b[2K   \u001b[91m━━━━━━━━━━━━━━━━━━━━━━━━━━━━━━━━━━━━━━━\u001b[0m\u001b[91m╸\u001b[0m \u001b[32m15.7/15.7 MB\u001b[0m \u001b[31m159.3 MB/s\u001b[0m eta \u001b[36m0:00:01\u001b[0m"
     ]
    },
    {
     "name": "stdout",
     "output_type": "stream",
     "text": [
      "\r",
      "\u001b[2K   \u001b[90m━━━━━━━━━━━━━━━━━━━━━━━━━━━━━━━━━━━━━━━━\u001b[0m \u001b[32m15.7/15.7 MB\u001b[0m \u001b[31m81.4 MB/s\u001b[0m eta \u001b[36m0:00:00\u001b[0m\r\n",
      "\u001b[?25hDownloading pandas-2.0.3-cp38-cp38-manylinux_2_17_x86_64.manylinux2014_x86_64.whl (12.4 MB)\r\n",
      "\u001b[?25l   \u001b[90m━━━━━━━━━━━━━━━━━━━━━━━━━━━━━━━━━━━━━━━━\u001b[0m \u001b[32m0.0/12.4 MB\u001b[0m \u001b[31m?\u001b[0m eta \u001b[36m-:--:--\u001b[0m"
     ]
    },
    {
     "name": "stdout",
     "output_type": "stream",
     "text": [
      "\r",
      "\u001b[2K   \u001b[91m━━━━━━━━━━━━━━━━━━\u001b[0m\u001b[90m╺\u001b[0m\u001b[90m━━━━━━━━━━━━━━━━━━━━━\u001b[0m \u001b[32m5.6/12.4 MB\u001b[0m \u001b[31m168.2 MB/s\u001b[0m eta \u001b[36m0:00:01\u001b[0m\r",
      "\u001b[2K   \u001b[91m━━━━━━━━━━━━━━━━━━━━━━━━━━━━━━━━━━━━━\u001b[0m\u001b[90m╺\u001b[0m\u001b[90m━━\u001b[0m \u001b[32m11.4/12.4 MB\u001b[0m \u001b[31m167.3 MB/s\u001b[0m eta \u001b[36m0:00:01\u001b[0m"
     ]
    },
    {
     "name": "stdout",
     "output_type": "stream",
     "text": [
      "\r",
      "\u001b[2K   \u001b[91m━━━━━━━━━━━━━━━━━━━━━━━━━━━━━━━━━━━━━━━\u001b[0m\u001b[91m╸\u001b[0m \u001b[32m12.3/12.4 MB\u001b[0m \u001b[31m163.9 MB/s\u001b[0m eta \u001b[36m0:00:01\u001b[0m\r",
      "\u001b[2K   \u001b[90m━━━━━━━━━━━━━━━━━━━━━━━━━━━━━━━━━━━━━━━━\u001b[0m \u001b[32m12.4/12.4 MB\u001b[0m \u001b[31m87.3 MB/s\u001b[0m eta \u001b[36m0:00:00\u001b[0m\r\n",
      "\u001b[?25h"
     ]
    },
    {
     "name": "stdout",
     "output_type": "stream",
     "text": [
      "Downloading pyproj-3.5.0-cp38-cp38-manylinux_2_17_x86_64.manylinux2014_x86_64.whl (7.8 MB)\r\n",
      "\u001b[?25l   \u001b[90m━━━━━━━━━━━━━━━━━━━━━━━━━━━━━━━━━━━━━━━━\u001b[0m \u001b[32m0.0/7.8 MB\u001b[0m \u001b[31m?\u001b[0m eta \u001b[36m-:--:--\u001b[0m\r",
      "\u001b[2K   \u001b[91m━━━━━━━━━━━━━━━━━━━━━━━━━━\u001b[0m\u001b[91m╸\u001b[0m\u001b[90m━━━━━━━━━━━━━\u001b[0m \u001b[32m5.2/7.8 MB\u001b[0m \u001b[31m157.0 MB/s\u001b[0m eta \u001b[36m0:00:01\u001b[0m"
     ]
    },
    {
     "name": "stdout",
     "output_type": "stream",
     "text": [
      "\r",
      "\u001b[2K   \u001b[91m━━━━━━━━━━━━━━━━━━━━━━━━━━━━━━━━━━━━━━━\u001b[0m\u001b[91m╸\u001b[0m \u001b[32m7.8/7.8 MB\u001b[0m \u001b[31m156.4 MB/s\u001b[0m eta \u001b[36m0:00:01\u001b[0m\r",
      "\u001b[2K   \u001b[90m━━━━━━━━━━━━━━━━━━━━━━━━━━━━━━━━━━━━━━━━\u001b[0m \u001b[32m7.8/7.8 MB\u001b[0m \u001b[31m90.4 MB/s\u001b[0m eta \u001b[36m0:00:00\u001b[0m\r\n",
      "\u001b[?25hDownloading click-8.1.7-py3-none-any.whl (97 kB)\r\n",
      "\u001b[?25l   \u001b[90m━━━━━━━━━━━━━━━━━━━━━━━━━━━━━━━━━━━━━━━━\u001b[0m \u001b[32m0.0/97.9 kB\u001b[0m \u001b[31m?\u001b[0m eta \u001b[36m-:--:--\u001b[0m"
     ]
    },
    {
     "name": "stdout",
     "output_type": "stream",
     "text": [
      "\r",
      "\u001b[2K   \u001b[90m━━━━━━━━━━━━━━━━━━━━━━━━━━━━━━━━━━━━━━━━\u001b[0m \u001b[32m97.9/97.9 kB\u001b[0m \u001b[31m23.7 MB/s\u001b[0m eta \u001b[36m0:00:00\u001b[0m\r\n",
      "\u001b[?25hDownloading cligj-0.7.2-py3-none-any.whl (7.1 kB)\r\n",
      "Downloading numpy-1.24.4-cp38-cp38-manylinux_2_17_x86_64.manylinux2014_x86_64.whl (17.3 MB)\r\n",
      "\u001b[?25l   \u001b[90m━━━━━━━━━━━━━━━━━━━━━━━━━━━━━━━━━━━━━━━━\u001b[0m \u001b[32m0.0/17.3 MB\u001b[0m \u001b[31m?\u001b[0m eta \u001b[36m-:--:--\u001b[0m\r",
      "\u001b[2K   \u001b[91m━━━━━━━━━━━\u001b[0m\u001b[91m╸\u001b[0m\u001b[90m━━━━━━━━━━━━━━━━━━━━━━━━━━━━\u001b[0m \u001b[32m5.2/17.3 MB\u001b[0m \u001b[31m155.1 MB/s\u001b[0m eta \u001b[36m0:00:01\u001b[0m"
     ]
    },
    {
     "name": "stdout",
     "output_type": "stream",
     "text": [
      "\r",
      "\u001b[2K   \u001b[91m━━━━━━━━━━━━━━━━━━━━━━━\u001b[0m\u001b[91m╸\u001b[0m\u001b[90m━━━━━━━━━━━━━━━━\u001b[0m \u001b[32m10.3/17.3 MB\u001b[0m \u001b[31m150.7 MB/s\u001b[0m eta \u001b[36m0:00:01\u001b[0m"
     ]
    },
    {
     "name": "stdout",
     "output_type": "stream",
     "text": [
      "\r",
      "\u001b[2K   \u001b[91m━━━━━━━━━━━━━━━━━━━━━━━━━━━━━━━━━━━━\u001b[0m\u001b[90m╺\u001b[0m\u001b[90m━━━\u001b[0m \u001b[32m15.7/17.3 MB\u001b[0m \u001b[31m155.9 MB/s\u001b[0m eta \u001b[36m0:00:01\u001b[0m"
     ]
    },
    {
     "name": "stdout",
     "output_type": "stream",
     "text": [
      "\r",
      "\u001b[2K   \u001b[91m━━━━━━━━━━━━━━━━━━━━━━━━━━━━━━━━━━━━━━━\u001b[0m\u001b[91m╸\u001b[0m \u001b[32m17.3/17.3 MB\u001b[0m \u001b[31m154.9 MB/s\u001b[0m eta \u001b[36m0:00:01\u001b[0m\r",
      "\u001b[2K   \u001b[91m━━━━━━━━━━━━━━━━━━━━━━━━━━━━━━━━━━━━━━━\u001b[0m\u001b[91m╸\u001b[0m \u001b[32m17.3/17.3 MB\u001b[0m \u001b[31m154.9 MB/s\u001b[0m eta \u001b[36m0:00:01\u001b[0m"
     ]
    },
    {
     "name": "stdout",
     "output_type": "stream",
     "text": [
      "\r",
      "\u001b[2K   \u001b[90m━━━━━━━━━━━━━━━━━━━━━━━━━━━━━━━━━━━━━━━━\u001b[0m \u001b[32m17.3/17.3 MB\u001b[0m \u001b[31m69.4 MB/s\u001b[0m eta \u001b[36m0:00:00\u001b[0m\r\n",
      "\u001b[?25hDownloading tzdata-2024.1-py2.py3-none-any.whl (345 kB)\r\n",
      "\u001b[?25l   \u001b[90m━━━━━━━━━━━━━━━━━━━━━━━━━━━━━━━━━━━━━━━━\u001b[0m \u001b[32m0.0/345.4 kB\u001b[0m \u001b[31m?\u001b[0m eta \u001b[36m-:--:--\u001b[0m\r",
      "\u001b[2K   \u001b[90m━━━━━━━━━━━━━━━━━━━━━━━━━━━━━━━━━━━━━━━━\u001b[0m \u001b[32m345.4/345.4 kB\u001b[0m \u001b[31m49.9 MB/s\u001b[0m eta \u001b[36m0:00:00\u001b[0m\r\n",
      "\u001b[?25h"
     ]
    },
    {
     "name": "stdout",
     "output_type": "stream",
     "text": [
      "Installing collected packages: tzdata, pyproj, numpy, click, pandas, cligj, click-plugins, fiona, geopandas\r\n"
     ]
    },
    {
     "name": "stdout",
     "output_type": "stream",
     "text": [
      "Successfully installed click-8.1.7 click-plugins-1.1.1 cligj-0.7.2 fiona-1.9.5 geopandas-0.13.2 numpy-1.24.4 pandas-2.0.3 pyproj-3.5.0 tzdata-2024.1\r\n"
     ]
    },
    {
     "name": "stdout",
     "output_type": "stream",
     "text": [
      "\r\n",
      "\u001b[1m[\u001b[0m\u001b[34;49mnotice\u001b[0m\u001b[1;39;49m]\u001b[0m\u001b[39;49m A new release of pip is available: \u001b[0m\u001b[31;49m23.0.1\u001b[0m\u001b[39;49m -> \u001b[0m\u001b[32;49m24.0\u001b[0m\r\n",
      "\u001b[1m[\u001b[0m\u001b[34;49mnotice\u001b[0m\u001b[1;39;49m]\u001b[0m\u001b[39;49m To update, run: \u001b[0m\u001b[32;49mpip install --upgrade pip\u001b[0m\r\n"
     ]
    }
   ],
   "source": [
    "!pip install geopandas==0.13.2"
   ]
  },
  {
   "cell_type": "markdown",
   "metadata": {
    "id": "Vv5bhPBIDQ5G"
   },
   "source": [
    "### Install Apache Sedona and PySpark\n",
    "\n",
    "We can now install Apache Sedona together with PySpark (and Spark)."
   ]
  },
  {
   "cell_type": "code",
   "execution_count": 3,
   "metadata": {
    "colab": {
     "base_uri": "https://localhost:8080/"
    },
    "execution": {
     "iopub.execute_input": "2024-02-25T21:25:56.132015Z",
     "iopub.status.busy": "2024-02-25T21:25:56.131587Z",
     "iopub.status.idle": "2024-02-25T21:26:25.936174Z",
     "shell.execute_reply": "2024-02-25T21:26:25.935421Z"
    },
    "id": "SOB7DNZ6AOio",
    "outputId": "5aa22c6b-d2eb-41ce-dd2e-f46a2dd2be69"
   },
   "outputs": [
    {
     "name": "stdout",
     "output_type": "stream",
     "text": [
      "Collecting apache-sedona[spark]\r\n"
     ]
    },
    {
     "name": "stdout",
     "output_type": "stream",
     "text": [
      "  Downloading apache_sedona-1.5.1-cp38-cp38-manylinux_2_17_x86_64.manylinux2014_x86_64.whl.metadata (1.3 kB)\r\n",
      "Requirement already satisfied: attrs in /opt/hostedtoolcache/Python/3.8.18/x64/lib/python3.8/site-packages (from apache-sedona[spark]) (23.2.0)\r\n",
      "Requirement already satisfied: shapely>=1.7.0 in /opt/hostedtoolcache/Python/3.8.18/x64/lib/python3.8/site-packages (from apache-sedona[spark]) (1.7.1)\r\n",
      "Collecting pyspark>=2.3.0 (from apache-sedona[spark])\r\n",
      "  Downloading pyspark-3.5.0.tar.gz (316.9 MB)\r\n",
      "\u001b[?25l     \u001b[90m━━━━━━━━━━━━━━━━━━━━━━━━━━━━━━━━━━━━━━━━\u001b[0m \u001b[32m0.0/316.9 MB\u001b[0m \u001b[31m?\u001b[0m eta \u001b[36m-:--:--\u001b[0m"
     ]
    },
    {
     "name": "stdout",
     "output_type": "stream",
     "text": [
      "\r",
      "\u001b[2K     \u001b[90m━━━━━━━━━━━━━━━━━━━━━━━━━━━━━━━━━━━━━━━━\u001b[0m \u001b[32m2.3/316.9 MB\u001b[0m \u001b[31m68.8 MB/s\u001b[0m eta \u001b[36m0:00:05\u001b[0m"
     ]
    },
    {
     "name": "stdout",
     "output_type": "stream",
     "text": [
      "\r",
      "\u001b[2K     \u001b[91m╸\u001b[0m\u001b[90m━━━━━━━━━━━━━━━━━━━━━━━━━━━━━━━━━━━━━━\u001b[0m \u001b[32m7.8/316.9 MB\u001b[0m \u001b[31m114.3 MB/s\u001b[0m eta \u001b[36m0:00:03\u001b[0m"
     ]
    },
    {
     "name": "stdout",
     "output_type": "stream",
     "text": [
      "\r",
      "\u001b[2K     \u001b[91m━\u001b[0m\u001b[91m╸\u001b[0m\u001b[90m━━━━━━━━━━━━━━━━━━━━━━━━━━━━━━━━━━━━\u001b[0m \u001b[32m13.6/316.9 MB\u001b[0m \u001b[31m165.0 MB/s\u001b[0m eta \u001b[36m0:00:02\u001b[0m\r",
      "\u001b[2K     \u001b[91m━━\u001b[0m\u001b[90m╺\u001b[0m\u001b[90m━━━━━━━━━━━━━━━━━━━━━━━━━━━━━━━━━━━\u001b[0m \u001b[32m18.2/316.9 MB\u001b[0m \u001b[31m151.0 MB/s\u001b[0m eta \u001b[36m0:00:02\u001b[0m"
     ]
    },
    {
     "name": "stdout",
     "output_type": "stream",
     "text": [
      "\r",
      "\u001b[2K     \u001b[91m━━\u001b[0m\u001b[91m╸\u001b[0m\u001b[90m━━━━━━━━━━━━━━━━━━━━━━━━━━━━━━━━━━━\u001b[0m \u001b[32m22.9/316.9 MB\u001b[0m \u001b[31m134.7 MB/s\u001b[0m eta \u001b[36m0:00:03\u001b[0m"
     ]
    },
    {
     "name": "stdout",
     "output_type": "stream",
     "text": [
      "\r",
      "\u001b[2K     \u001b[91m━━━\u001b[0m\u001b[90m╺\u001b[0m\u001b[90m━━━━━━━━━━━━━━━━━━━━━━━━━━━━━━━━━━\u001b[0m \u001b[32m27.9/316.9 MB\u001b[0m \u001b[31m137.0 MB/s\u001b[0m eta \u001b[36m0:00:03\u001b[0m\r",
      "\u001b[2K     \u001b[91m━━━━\u001b[0m\u001b[90m╺\u001b[0m\u001b[90m━━━━━━━━━━━━━━━━━━━━━━━━━━━━━━━━━\u001b[0m \u001b[32m33.7/316.9 MB\u001b[0m \u001b[31m158.7 MB/s\u001b[0m eta \u001b[36m0:00:02\u001b[0m"
     ]
    },
    {
     "name": "stdout",
     "output_type": "stream",
     "text": [
      "\r",
      "\u001b[2K     \u001b[91m━━━━\u001b[0m\u001b[91m╸\u001b[0m\u001b[90m━━━━━━━━━━━━━━━━━━━━━━━━━━━━━━━━━\u001b[0m \u001b[32m39.6/316.9 MB\u001b[0m \u001b[31m171.7 MB/s\u001b[0m eta \u001b[36m0:00:02\u001b[0m"
     ]
    },
    {
     "name": "stdout",
     "output_type": "stream",
     "text": [
      "\r",
      "\u001b[2K     \u001b[91m━━━━━\u001b[0m\u001b[90m╺\u001b[0m\u001b[90m━━━━━━━━━━━━━━━━━━━━━━━━━━━━━━━━\u001b[0m \u001b[32m45.0/316.9 MB\u001b[0m \u001b[31m164.6 MB/s\u001b[0m eta \u001b[36m0:00:02\u001b[0m\r",
      "\u001b[2K     \u001b[91m━━━━━━\u001b[0m\u001b[90m╺\u001b[0m\u001b[90m━━━━━━━━━━━━━━━━━━━━━━━━━━━━━━━\u001b[0m \u001b[32m50.9/316.9 MB\u001b[0m \u001b[31m164.4 MB/s\u001b[0m eta \u001b[36m0:00:02\u001b[0m"
     ]
    },
    {
     "name": "stdout",
     "output_type": "stream",
     "text": [
      "\r",
      "\u001b[2K     \u001b[91m━━━━━━\u001b[0m\u001b[91m╸\u001b[0m\u001b[90m━━━━━━━━━━━━━━━━━━━━━━━━━━━━━━━\u001b[0m \u001b[32m56.6/316.9 MB\u001b[0m \u001b[31m167.8 MB/s\u001b[0m eta \u001b[36m0:00:02\u001b[0m"
     ]
    },
    {
     "name": "stdout",
     "output_type": "stream",
     "text": [
      "\r",
      "\u001b[2K     \u001b[91m━━━━━━━\u001b[0m\u001b[90m╺\u001b[0m\u001b[90m━━━━━━━━━━━━━━━━━━━━━━━━━━━━━━\u001b[0m \u001b[32m62.4/316.9 MB\u001b[0m \u001b[31m168.9 MB/s\u001b[0m eta \u001b[36m0:00:02\u001b[0m\r",
      "\u001b[2K     \u001b[91m━━━━━━━━\u001b[0m\u001b[90m╺\u001b[0m\u001b[90m━━━━━━━━━━━━━━━━━━━━━━━━━━━━━\u001b[0m \u001b[32m68.3/316.9 MB\u001b[0m \u001b[31m170.3 MB/s\u001b[0m eta \u001b[36m0:00:02\u001b[0m"
     ]
    },
    {
     "name": "stdout",
     "output_type": "stream",
     "text": [
      "\r",
      "\u001b[2K     \u001b[91m━━━━━━━━\u001b[0m\u001b[91m╸\u001b[0m\u001b[90m━━━━━━━━━━━━━━━━━━━━━━━━━━━━━\u001b[0m \u001b[32m74.1/316.9 MB\u001b[0m \u001b[31m169.0 MB/s\u001b[0m eta \u001b[36m0:00:02\u001b[0m"
     ]
    },
    {
     "name": "stdout",
     "output_type": "stream",
     "text": [
      "\r",
      "\u001b[2K     \u001b[91m━━━━━━━━━\u001b[0m\u001b[91m╸\u001b[0m\u001b[90m━━━━━━━━━━━━━━━━━━━━━━━━━━━━\u001b[0m \u001b[32m79.9/316.9 MB\u001b[0m \u001b[31m168.4 MB/s\u001b[0m eta \u001b[36m0:00:02\u001b[0m"
     ]
    },
    {
     "name": "stdout",
     "output_type": "stream",
     "text": [
      "\r",
      "\u001b[2K     \u001b[91m━━━━━━━━━━\u001b[0m\u001b[90m╺\u001b[0m\u001b[90m━━━━━━━━━━━━━━━━━━━━━━━━━━━\u001b[0m \u001b[32m85.9/316.9 MB\u001b[0m \u001b[31m169.5 MB/s\u001b[0m eta \u001b[36m0:00:02\u001b[0m\r",
      "\u001b[2K     \u001b[91m━━━━━━━━━━━\u001b[0m\u001b[90m╺\u001b[0m\u001b[90m━━━━━━━━━━━━━━━━━━━━━━━━━━\u001b[0m \u001b[32m91.8/316.9 MB\u001b[0m \u001b[31m172.6 MB/s\u001b[0m eta \u001b[36m0:00:02\u001b[0m"
     ]
    },
    {
     "name": "stdout",
     "output_type": "stream",
     "text": [
      "\r",
      "\u001b[2K     \u001b[91m━━━━━━━━━━━\u001b[0m\u001b[90m╺\u001b[0m\u001b[90m━━━━━━━━━━━━━━━━━━━━━━━━━━\u001b[0m \u001b[32m95.9/316.9 MB\u001b[0m \u001b[31m143.2 MB/s\u001b[0m eta \u001b[36m0:00:02\u001b[0m"
     ]
    },
    {
     "name": "stdout",
     "output_type": "stream",
     "text": [
      "\r",
      "\u001b[2K     \u001b[91m━━━━━━━━━━━\u001b[0m\u001b[91m╸\u001b[0m\u001b[90m━━━━━━━━━━━━━━━━━━━━━━━━━\u001b[0m \u001b[32m101.7/316.9 MB\u001b[0m \u001b[31m142.8 MB/s\u001b[0m eta \u001b[36m0:00:02\u001b[0m\r",
      "\u001b[2K     \u001b[91m━━━━━━━━━━━━\u001b[0m\u001b[91m╸\u001b[0m\u001b[90m━━━━━━━━━━━━━━━━━━━━━━━━\u001b[0m \u001b[32m107.6/316.9 MB\u001b[0m \u001b[31m170.2 MB/s\u001b[0m eta \u001b[36m0:00:02\u001b[0m"
     ]
    },
    {
     "name": "stdout",
     "output_type": "stream",
     "text": [
      "\r",
      "\u001b[2K     \u001b[91m━━━━━━━━━━━━━\u001b[0m\u001b[90m╺\u001b[0m\u001b[90m━━━━━━━━━━━━━━━━━━━━━━━\u001b[0m \u001b[32m113.3/316.9 MB\u001b[0m \u001b[31m168.4 MB/s\u001b[0m eta \u001b[36m0:00:02\u001b[0m"
     ]
    },
    {
     "name": "stdout",
     "output_type": "stream",
     "text": [
      "\r",
      "\u001b[2K     \u001b[91m━━━━━━━━━━━━━\u001b[0m\u001b[91m╸\u001b[0m\u001b[90m━━━━━━━━━━━━━━━━━━━━━━━\u001b[0m \u001b[32m119.0/316.9 MB\u001b[0m \u001b[31m166.5 MB/s\u001b[0m eta \u001b[36m0:00:02\u001b[0m\r",
      "\u001b[2K     \u001b[91m━━━━━━━━━━━━━━\u001b[0m\u001b[91m╸\u001b[0m\u001b[90m━━━━━━━━━━━━━━━━━━━━━━\u001b[0m \u001b[32m124.9/316.9 MB\u001b[0m \u001b[31m168.8 MB/s\u001b[0m eta \u001b[36m0:00:02\u001b[0m"
     ]
    },
    {
     "name": "stdout",
     "output_type": "stream",
     "text": [
      "\r",
      "\u001b[2K     \u001b[91m━━━━━━━━━━━━━━━\u001b[0m\u001b[90m╺\u001b[0m\u001b[90m━━━━━━━━━━━━━━━━━━━━━\u001b[0m \u001b[32m130.6/316.9 MB\u001b[0m \u001b[31m169.8 MB/s\u001b[0m eta \u001b[36m0:00:02\u001b[0m"
     ]
    },
    {
     "name": "stdout",
     "output_type": "stream",
     "text": [
      "\r",
      "\u001b[2K     \u001b[91m━━━━━━━━━━━━━━━\u001b[0m\u001b[91m╸\u001b[0m\u001b[90m━━━━━━━━━━━━━━━━━━━━━\u001b[0m \u001b[32m136.3/316.9 MB\u001b[0m \u001b[31m167.4 MB/s\u001b[0m eta \u001b[36m0:00:02\u001b[0m\r",
      "\u001b[2K     \u001b[91m━━━━━━━━━━━━━━━━\u001b[0m\u001b[91m╸\u001b[0m\u001b[90m━━━━━━━━━━━━━━━━━━━━\u001b[0m \u001b[32m142.2/316.9 MB\u001b[0m \u001b[31m169.2 MB/s\u001b[0m eta \u001b[36m0:00:02\u001b[0m"
     ]
    },
    {
     "name": "stdout",
     "output_type": "stream",
     "text": [
      "\r",
      "\u001b[2K     \u001b[91m━━━━━━━━━━━━━━━━━\u001b[0m\u001b[90m╺\u001b[0m\u001b[90m━━━━━━━━━━━━━━━━━━━\u001b[0m \u001b[32m148.0/316.9 MB\u001b[0m \u001b[31m169.8 MB/s\u001b[0m eta \u001b[36m0:00:01\u001b[0m"
     ]
    },
    {
     "name": "stdout",
     "output_type": "stream",
     "text": [
      "\r",
      "\u001b[2K     \u001b[91m━━━━━━━━━━━━━━━━━\u001b[0m\u001b[91m╸\u001b[0m\u001b[90m━━━━━━━━━━━━━━━━━━━\u001b[0m \u001b[32m153.6/316.9 MB\u001b[0m \u001b[31m165.8 MB/s\u001b[0m eta \u001b[36m0:00:01\u001b[0m\r",
      "\u001b[2K     \u001b[91m━━━━━━━━━━━━━━━━━━\u001b[0m\u001b[91m╸\u001b[0m\u001b[90m━━━━━━━━━━━━━━━━━━\u001b[0m \u001b[32m159.4/316.9 MB\u001b[0m \u001b[31m165.7 MB/s\u001b[0m eta \u001b[36m0:00:01\u001b[0m"
     ]
    },
    {
     "name": "stdout",
     "output_type": "stream",
     "text": [
      "\r",
      "\u001b[2K     \u001b[91m━━━━━━━━━━━━━━━━━━━\u001b[0m\u001b[90m╺\u001b[0m\u001b[90m━━━━━━━━━━━━━━━━━\u001b[0m \u001b[32m165.1/316.9 MB\u001b[0m \u001b[31m168.1 MB/s\u001b[0m eta \u001b[36m0:00:01\u001b[0m"
     ]
    },
    {
     "name": "stdout",
     "output_type": "stream",
     "text": [
      "\r",
      "\u001b[2K     \u001b[91m━━━━━━━━━━━━━━━━━━━\u001b[0m\u001b[91m╸\u001b[0m\u001b[90m━━━━━━━━━━━━━━━━━\u001b[0m \u001b[32m170.8/316.9 MB\u001b[0m \u001b[31m169.2 MB/s\u001b[0m eta \u001b[36m0:00:01\u001b[0m"
     ]
    },
    {
     "name": "stdout",
     "output_type": "stream",
     "text": [
      "\r",
      "\u001b[2K     \u001b[91m━━━━━━━━━━━━━━━━━━━━\u001b[0m\u001b[91m╸\u001b[0m\u001b[90m━━━━━━━━━━━━━━━━\u001b[0m \u001b[32m176.7/316.9 MB\u001b[0m \u001b[31m169.2 MB/s\u001b[0m eta \u001b[36m0:00:01\u001b[0m\r",
      "\u001b[2K     \u001b[91m━━━━━━━━━━━━━━━━━━━━━\u001b[0m\u001b[90m╺\u001b[0m\u001b[90m━━━━━━━━━━━━━━━\u001b[0m \u001b[32m182.4/316.9 MB\u001b[0m \u001b[31m168.9 MB/s\u001b[0m eta \u001b[36m0:00:01\u001b[0m"
     ]
    },
    {
     "name": "stdout",
     "output_type": "stream",
     "text": [
      "\r",
      "\u001b[2K     \u001b[91m━━━━━━━━━━━━━━━━━━━━━\u001b[0m\u001b[91m╸\u001b[0m\u001b[90m━━━━━━━━━━━━━━━\u001b[0m \u001b[32m188.2/316.9 MB\u001b[0m \u001b[31m167.9 MB/s\u001b[0m eta \u001b[36m0:00:01\u001b[0m"
     ]
    },
    {
     "name": "stdout",
     "output_type": "stream",
     "text": [
      "\r",
      "\u001b[2K     \u001b[91m━━━━━━━━━━━━━━━━━━━━━━\u001b[0m\u001b[91m╸\u001b[0m\u001b[90m━━━━━━━━━━━━━━\u001b[0m \u001b[32m193.9/316.9 MB\u001b[0m \u001b[31m167.4 MB/s\u001b[0m eta \u001b[36m0:00:01\u001b[0m\r",
      "\u001b[2K     \u001b[91m━━━━━━━━━━━━━━━━━━━━━━━\u001b[0m\u001b[90m╺\u001b[0m\u001b[90m━━━━━━━━━━━━━\u001b[0m \u001b[32m199.8/316.9 MB\u001b[0m \u001b[31m169.2 MB/s\u001b[0m eta \u001b[36m0:00:01\u001b[0m"
     ]
    },
    {
     "name": "stdout",
     "output_type": "stream",
     "text": [
      "\r",
      "\u001b[2K     \u001b[91m━━━━━━━━━━━━━━━━━━━━━━━\u001b[0m\u001b[91m╸\u001b[0m\u001b[90m━━━━━━━━━━━━━\u001b[0m \u001b[32m205.5/316.9 MB\u001b[0m \u001b[31m169.6 MB/s\u001b[0m eta \u001b[36m0:00:01\u001b[0m"
     ]
    },
    {
     "name": "stdout",
     "output_type": "stream",
     "text": [
      "\r",
      "\u001b[2K     \u001b[91m━━━━━━━━━━━━━━━━━━━━━━━━\u001b[0m\u001b[91m╸\u001b[0m\u001b[90m━━━━━━━━━━━━\u001b[0m \u001b[32m211.2/316.9 MB\u001b[0m \u001b[31m165.9 MB/s\u001b[0m eta \u001b[36m0:00:01\u001b[0m\r",
      "\u001b[2K     \u001b[91m━━━━━━━━━━━━━━━━━━━━━━━━━\u001b[0m\u001b[90m╺\u001b[0m\u001b[90m━━━━━━━━━━━\u001b[0m \u001b[32m217.0/316.9 MB\u001b[0m \u001b[31m167.0 MB/s\u001b[0m eta \u001b[36m0:00:01\u001b[0m"
     ]
    },
    {
     "name": "stdout",
     "output_type": "stream",
     "text": [
      "\r",
      "\u001b[2K     \u001b[91m━━━━━━━━━━━━━━━━━━━━━━━━━━\u001b[0m\u001b[90m╺\u001b[0m\u001b[90m━━━━━━━━━━\u001b[0m \u001b[32m222.7/316.9 MB\u001b[0m \u001b[31m167.0 MB/s\u001b[0m eta \u001b[36m0:00:01\u001b[0m"
     ]
    },
    {
     "name": "stdout",
     "output_type": "stream",
     "text": [
      "\r",
      "\u001b[2K     \u001b[91m━━━━━━━━━━━━━━━━━━━━━━━━━━\u001b[0m\u001b[91m╸\u001b[0m\u001b[90m━━━━━━━━━━\u001b[0m \u001b[32m228.5/316.9 MB\u001b[0m \u001b[31m167.0 MB/s\u001b[0m eta \u001b[36m0:00:01\u001b[0m\r",
      "\u001b[2K     \u001b[91m━━━━━━━━━━━━━━━━━━━━━━━━━━━\u001b[0m\u001b[90m╺\u001b[0m\u001b[90m━━━━━━━━━\u001b[0m \u001b[32m234.4/316.9 MB\u001b[0m \u001b[31m170.3 MB/s\u001b[0m eta \u001b[36m0:00:01\u001b[0m"
     ]
    },
    {
     "name": "stdout",
     "output_type": "stream",
     "text": [
      "\r",
      "\u001b[2K     \u001b[91m━━━━━━━━━━━━━━━━━━━━━━━━━━━━\u001b[0m\u001b[90m╺\u001b[0m\u001b[90m━━━━━━━━\u001b[0m \u001b[32m240.1/316.9 MB\u001b[0m \u001b[31m169.6 MB/s\u001b[0m eta \u001b[36m0:00:01\u001b[0m"
     ]
    },
    {
     "name": "stdout",
     "output_type": "stream",
     "text": [
      "\r",
      "\u001b[2K     \u001b[91m━━━━━━━━━━━━━━━━━━━━━━━━━━━━\u001b[0m\u001b[91m╸\u001b[0m\u001b[90m━━━━━━━━\u001b[0m \u001b[32m245.8/316.9 MB\u001b[0m \u001b[31m167.5 MB/s\u001b[0m eta \u001b[36m0:00:01\u001b[0m\r",
      "\u001b[2K     \u001b[91m━━━━━━━━━━━━━━━━━━━━━━━━━━━━━\u001b[0m\u001b[90m╺\u001b[0m\u001b[90m━━━━━━━\u001b[0m \u001b[32m251.6/316.9 MB\u001b[0m \u001b[31m168.2 MB/s\u001b[0m eta \u001b[36m0:00:01\u001b[0m"
     ]
    },
    {
     "name": "stdout",
     "output_type": "stream",
     "text": [
      "\r",
      "\u001b[2K     \u001b[91m━━━━━━━━━━━━━━━━━━━━━━━━━━━━━━\u001b[0m\u001b[90m╺\u001b[0m\u001b[90m━━━━━━\u001b[0m \u001b[32m257.3/316.9 MB\u001b[0m \u001b[31m169.1 MB/s\u001b[0m eta \u001b[36m0:00:01\u001b[0m"
     ]
    },
    {
     "name": "stdout",
     "output_type": "stream",
     "text": [
      "\r",
      "\u001b[2K     \u001b[91m━━━━━━━━━━━━━━━━━━━━━━━━━━━━━━\u001b[0m\u001b[91m╸\u001b[0m\u001b[90m━━━━━━\u001b[0m \u001b[32m263.1/316.9 MB\u001b[0m \u001b[31m169.2 MB/s\u001b[0m eta \u001b[36m0:00:01\u001b[0m"
     ]
    },
    {
     "name": "stdout",
     "output_type": "stream",
     "text": [
      "\r",
      "\u001b[2K     \u001b[91m━━━━━━━━━━━━━━━━━━━━━━━━━━━━━━━\u001b[0m\u001b[90m╺\u001b[0m\u001b[90m━━━━━\u001b[0m \u001b[32m269.0/316.9 MB\u001b[0m \u001b[31m169.3 MB/s\u001b[0m eta \u001b[36m0:00:01\u001b[0m\r",
      "\u001b[2K     \u001b[91m━━━━━━━━━━━━━━━━━━━━━━━━━━━━━━━━\u001b[0m\u001b[90m╺\u001b[0m\u001b[90m━━━━\u001b[0m \u001b[32m274.8/316.9 MB\u001b[0m \u001b[31m169.8 MB/s\u001b[0m eta \u001b[36m0:00:01\u001b[0m"
     ]
    },
    {
     "name": "stdout",
     "output_type": "stream",
     "text": [
      "\r",
      "\u001b[2K     \u001b[91m━━━━━━━━━━━━━━━━━━━━━━━━━━━━━━━━\u001b[0m\u001b[91m╸\u001b[0m\u001b[90m━━━━\u001b[0m \u001b[32m280.5/316.9 MB\u001b[0m \u001b[31m168.0 MB/s\u001b[0m eta \u001b[36m0:00:01\u001b[0m"
     ]
    },
    {
     "name": "stdout",
     "output_type": "stream",
     "text": [
      "\r",
      "\u001b[2K     \u001b[91m━━━━━━━━━━━━━━━━━━━━━━━━━━━━━━━━━\u001b[0m\u001b[90m╺\u001b[0m\u001b[90m━━━\u001b[0m \u001b[32m286.3/316.9 MB\u001b[0m \u001b[31m167.0 MB/s\u001b[0m eta \u001b[36m0:00:01\u001b[0m\r",
      "\u001b[2K     \u001b[91m━━━━━━━━━━━━━━━━━━━━━━━━━━━━━━━━━━\u001b[0m\u001b[90m╺\u001b[0m\u001b[90m━━\u001b[0m \u001b[32m292.1/316.9 MB\u001b[0m \u001b[31m169.0 MB/s\u001b[0m eta \u001b[36m0:00:01\u001b[0m"
     ]
    },
    {
     "name": "stdout",
     "output_type": "stream",
     "text": [
      "\r",
      "\u001b[2K     \u001b[91m━━━━━━━━━━━━━━━━━━━━━━━━━━━━━━━━━━\u001b[0m\u001b[91m╸\u001b[0m\u001b[90m━━\u001b[0m \u001b[32m297.9/316.9 MB\u001b[0m \u001b[31m169.0 MB/s\u001b[0m eta \u001b[36m0:00:01\u001b[0m"
     ]
    },
    {
     "name": "stdout",
     "output_type": "stream",
     "text": [
      "\r",
      "\u001b[2K     \u001b[91m━━━━━━━━━━━━━━━━━━━━━━━━━━━━━━━━━━━\u001b[0m\u001b[90m╺\u001b[0m\u001b[90m━\u001b[0m \u001b[32m303.6/316.9 MB\u001b[0m \u001b[31m167.0 MB/s\u001b[0m eta \u001b[36m0:00:01\u001b[0m\r",
      "\u001b[2K     \u001b[91m━━━━━━━━━━━━━━━━━━━━━━━━━━━━━━━━━━━━\u001b[0m\u001b[90m╺\u001b[0m \u001b[32m309.4/316.9 MB\u001b[0m \u001b[31m169.4 MB/s\u001b[0m eta \u001b[36m0:00:01\u001b[0m"
     ]
    },
    {
     "name": "stdout",
     "output_type": "stream",
     "text": [
      "\r",
      "\u001b[2K     \u001b[91m━━━━━━━━━━━━━━━━━━━━━━━━━━━━━━━━━━━━\u001b[0m\u001b[91m╸\u001b[0m \u001b[32m315.2/316.9 MB\u001b[0m \u001b[31m169.3 MB/s\u001b[0m eta \u001b[36m0:00:01\u001b[0m"
     ]
    },
    {
     "name": "stdout",
     "output_type": "stream",
     "text": [
      "\r",
      "\u001b[2K     \u001b[91m━━━━━━━━━━━━━━━━━━━━━━━━━━━━━━━━━━━━\u001b[0m\u001b[91m╸\u001b[0m \u001b[32m316.9/316.9 MB\u001b[0m \u001b[31m165.2 MB/s\u001b[0m eta \u001b[36m0:00:01\u001b[0m\r",
      "\u001b[2K     \u001b[91m━━━━━━━━━━━━━━━━━━━━━━━━━━━━━━━━━━━━\u001b[0m\u001b[91m╸\u001b[0m \u001b[32m316.9/316.9 MB\u001b[0m \u001b[31m165.2 MB/s\u001b[0m eta \u001b[36m0:00:01\u001b[0m"
     ]
    },
    {
     "name": "stdout",
     "output_type": "stream",
     "text": [
      "\r",
      "\u001b[2K     \u001b[91m━━━━━━━━━━━━━━━━━━━━━━━━━━━━━━━━━━━━\u001b[0m\u001b[91m╸\u001b[0m \u001b[32m316.9/316.9 MB\u001b[0m \u001b[31m165.2 MB/s\u001b[0m eta \u001b[36m0:00:01\u001b[0m"
     ]
    },
    {
     "name": "stdout",
     "output_type": "stream",
     "text": [
      "\r",
      "\u001b[2K     \u001b[91m━━━━━━━━━━━━━━━━━━━━━━━━━━━━━━━━━━━━\u001b[0m\u001b[91m╸\u001b[0m \u001b[32m316.9/316.9 MB\u001b[0m \u001b[31m165.2 MB/s\u001b[0m eta \u001b[36m0:00:01\u001b[0m"
     ]
    },
    {
     "name": "stdout",
     "output_type": "stream",
     "text": [
      "\r",
      "\u001b[2K     \u001b[91m━━━━━━━━━━━━━━━━━━━━━━━━━━━━━━━━━━━━\u001b[0m\u001b[91m╸\u001b[0m \u001b[32m316.9/316.9 MB\u001b[0m \u001b[31m165.2 MB/s\u001b[0m eta \u001b[36m0:00:01\u001b[0m\r",
      "\u001b[2K     \u001b[91m━━━━━━━━━━━━━━━━━━━━━━━━━━━━━━━━━━━━\u001b[0m\u001b[91m╸\u001b[0m \u001b[32m316.9/316.9 MB\u001b[0m \u001b[31m165.2 MB/s\u001b[0m eta \u001b[36m0:00:01\u001b[0m"
     ]
    },
    {
     "name": "stdout",
     "output_type": "stream",
     "text": [
      "\r",
      "\u001b[2K     \u001b[91m━━━━━━━━━━━━━━━━━━━━━━━━━━━━━━━━━━━━\u001b[0m\u001b[91m╸\u001b[0m \u001b[32m316.9/316.9 MB\u001b[0m \u001b[31m165.2 MB/s\u001b[0m eta \u001b[36m0:00:01\u001b[0m"
     ]
    },
    {
     "name": "stdout",
     "output_type": "stream",
     "text": [
      "\r",
      "\u001b[2K     \u001b[91m━━━━━━━━━━━━━━━━━━━━━━━━━━━━━━━━━━━━\u001b[0m\u001b[91m╸\u001b[0m \u001b[32m316.9/316.9 MB\u001b[0m \u001b[31m165.2 MB/s\u001b[0m eta \u001b[36m0:00:01\u001b[0m\r",
      "\u001b[2K     \u001b[91m━━━━━━━━━━━━━━━━━━━━━━━━━━━━━━━━━━━━\u001b[0m\u001b[91m╸\u001b[0m \u001b[32m316.9/316.9 MB\u001b[0m \u001b[31m165.2 MB/s\u001b[0m eta \u001b[36m0:00:01\u001b[0m"
     ]
    },
    {
     "name": "stdout",
     "output_type": "stream",
     "text": [
      "\r",
      "\u001b[2K     \u001b[91m━━━━━━━━━━━━━━━━━━━━━━━━━━━━━━━━━━━━\u001b[0m\u001b[91m╸\u001b[0m \u001b[32m316.9/316.9 MB\u001b[0m \u001b[31m165.2 MB/s\u001b[0m eta \u001b[36m0:00:01\u001b[0m"
     ]
    },
    {
     "name": "stdout",
     "output_type": "stream",
     "text": [
      "\r",
      "\u001b[2K     \u001b[91m━━━━━━━━━━━━━━━━━━━━━━━━━━━━━━━━━━━━\u001b[0m\u001b[91m╸\u001b[0m \u001b[32m316.9/316.9 MB\u001b[0m \u001b[31m165.2 MB/s\u001b[0m eta \u001b[36m0:00:01\u001b[0m"
     ]
    },
    {
     "name": "stdout",
     "output_type": "stream",
     "text": [
      "\r",
      "\u001b[2K     \u001b[91m━━━━━━━━━━━━━━━━━━━━━━━━━━━━━━━━━━━━\u001b[0m\u001b[91m╸\u001b[0m \u001b[32m316.9/316.9 MB\u001b[0m \u001b[31m165.2 MB/s\u001b[0m eta \u001b[36m0:00:01\u001b[0m\r",
      "\u001b[2K     \u001b[91m━━━━━━━━━━━━━━━━━━━━━━━━━━━━━━━━━━━━\u001b[0m\u001b[91m╸\u001b[0m \u001b[32m316.9/316.9 MB\u001b[0m \u001b[31m165.2 MB/s\u001b[0m eta \u001b[36m0:00:01\u001b[0m"
     ]
    },
    {
     "name": "stdout",
     "output_type": "stream",
     "text": [
      "\r",
      "\u001b[2K     \u001b[91m━━━━━━━━━━━━━━━━━━━━━━━━━━━━━━━━━━━━\u001b[0m\u001b[91m╸\u001b[0m \u001b[32m316.9/316.9 MB\u001b[0m \u001b[31m165.2 MB/s\u001b[0m eta \u001b[36m0:00:01\u001b[0m"
     ]
    },
    {
     "name": "stdout",
     "output_type": "stream",
     "text": [
      "\r",
      "\u001b[2K     \u001b[91m━━━━━━━━━━━━━━━━━━━━━━━━━━━━━━━━━━━━\u001b[0m\u001b[91m╸\u001b[0m \u001b[32m316.9/316.9 MB\u001b[0m \u001b[31m165.2 MB/s\u001b[0m eta \u001b[36m0:00:01\u001b[0m\r",
      "\u001b[2K     \u001b[91m━━━━━━━━━━━━━━━━━━━━━━━━━━━━━━━━━━━━\u001b[0m\u001b[91m╸\u001b[0m \u001b[32m316.9/316.9 MB\u001b[0m \u001b[31m165.2 MB/s\u001b[0m eta \u001b[36m0:00:01\u001b[0m"
     ]
    },
    {
     "name": "stdout",
     "output_type": "stream",
     "text": [
      "\r",
      "\u001b[2K     \u001b[91m━━━━━━━━━━━━━━━━━━━━━━━━━━━━━━━━━━━━\u001b[0m\u001b[91m╸\u001b[0m \u001b[32m316.9/316.9 MB\u001b[0m \u001b[31m165.2 MB/s\u001b[0m eta \u001b[36m0:00:01\u001b[0m"
     ]
    },
    {
     "name": "stdout",
     "output_type": "stream",
     "text": [
      "\r",
      "\u001b[2K     \u001b[91m━━━━━━━━━━━━━━━━━━━━━━━━━━━━━━━━━━━━\u001b[0m\u001b[91m╸\u001b[0m \u001b[32m316.9/316.9 MB\u001b[0m \u001b[31m165.2 MB/s\u001b[0m eta \u001b[36m0:00:01\u001b[0m\r",
      "\u001b[2K     \u001b[91m━━━━━━━━━━━━━━━━━━━━━━━━━━━━━━━━━━━━\u001b[0m\u001b[91m╸\u001b[0m \u001b[32m316.9/316.9 MB\u001b[0m \u001b[31m165.2 MB/s\u001b[0m eta \u001b[36m0:00:01\u001b[0m"
     ]
    },
    {
     "name": "stdout",
     "output_type": "stream",
     "text": [
      "\r",
      "\u001b[2K     \u001b[91m━━━━━━━━━━━━━━━━━━━━━━━━━━━━━━━━━━━━\u001b[0m\u001b[91m╸\u001b[0m \u001b[32m316.9/316.9 MB\u001b[0m \u001b[31m165.2 MB/s\u001b[0m eta \u001b[36m0:00:01\u001b[0m"
     ]
    },
    {
     "name": "stdout",
     "output_type": "stream",
     "text": [
      "\r",
      "\u001b[2K     \u001b[91m━━━━━━━━━━━━━━━━━━━━━━━━━━━━━━━━━━━━\u001b[0m\u001b[91m╸\u001b[0m \u001b[32m316.9/316.9 MB\u001b[0m \u001b[31m165.2 MB/s\u001b[0m eta \u001b[36m0:00:01\u001b[0m\r",
      "\u001b[2K     \u001b[91m━━━━━━━━━━━━━━━━━━━━━━━━━━━━━━━━━━━━\u001b[0m\u001b[91m╸\u001b[0m \u001b[32m316.9/316.9 MB\u001b[0m \u001b[31m165.2 MB/s\u001b[0m eta \u001b[36m0:00:01\u001b[0m"
     ]
    },
    {
     "name": "stdout",
     "output_type": "stream",
     "text": [
      "\r",
      "\u001b[2K     \u001b[91m━━━━━━━━━━━━━━━━━━━━━━━━━━━━━━━━━━━━\u001b[0m\u001b[91m╸\u001b[0m \u001b[32m316.9/316.9 MB\u001b[0m \u001b[31m165.2 MB/s\u001b[0m eta \u001b[36m0:00:01\u001b[0m"
     ]
    },
    {
     "name": "stdout",
     "output_type": "stream",
     "text": [
      "\r",
      "\u001b[2K     \u001b[91m━━━━━━━━━━━━━━━━━━━━━━━━━━━━━━━━━━━━\u001b[0m\u001b[91m╸\u001b[0m \u001b[32m316.9/316.9 MB\u001b[0m \u001b[31m165.2 MB/s\u001b[0m eta \u001b[36m0:00:01\u001b[0m"
     ]
    },
    {
     "name": "stdout",
     "output_type": "stream",
     "text": [
      "\r",
      "\u001b[2K     \u001b[91m━━━━━━━━━━━━━━━━━━━━━━━━━━━━━━━━━━━━\u001b[0m\u001b[91m╸\u001b[0m \u001b[32m316.9/316.9 MB\u001b[0m \u001b[31m165.2 MB/s\u001b[0m eta \u001b[36m0:00:01\u001b[0m\r",
      "\u001b[2K     \u001b[91m━━━━━━━━━━━━━━━━━━━━━━━━━━━━━━━━━━━━\u001b[0m\u001b[91m╸\u001b[0m \u001b[32m316.9/316.9 MB\u001b[0m \u001b[31m165.2 MB/s\u001b[0m eta \u001b[36m0:00:01\u001b[0m"
     ]
    },
    {
     "name": "stdout",
     "output_type": "stream",
     "text": [
      "\r",
      "\u001b[2K     \u001b[91m━━━━━━━━━━━━━━━━━━━━━━━━━━━━━━━━━━━━\u001b[0m\u001b[91m╸\u001b[0m \u001b[32m316.9/316.9 MB\u001b[0m \u001b[31m165.2 MB/s\u001b[0m eta \u001b[36m0:00:01\u001b[0m"
     ]
    },
    {
     "name": "stdout",
     "output_type": "stream",
     "text": [
      "\r",
      "\u001b[2K     \u001b[91m━━━━━━━━━━━━━━━━━━━━━━━━━━━━━━━━━━━━\u001b[0m\u001b[91m╸\u001b[0m \u001b[32m316.9/316.9 MB\u001b[0m \u001b[31m165.2 MB/s\u001b[0m eta \u001b[36m0:00:01\u001b[0m\r",
      "\u001b[2K     \u001b[91m━━━━━━━━━━━━━━━━━━━━━━━━━━━━━━━━━━━━\u001b[0m\u001b[91m╸\u001b[0m \u001b[32m316.9/316.9 MB\u001b[0m \u001b[31m165.2 MB/s\u001b[0m eta \u001b[36m0:00:01\u001b[0m"
     ]
    },
    {
     "name": "stdout",
     "output_type": "stream",
     "text": [
      "\r",
      "\u001b[2K     \u001b[91m━━━━━━━━━━━━━━━━━━━━━━━━━━━━━━━━━━━━\u001b[0m\u001b[91m╸\u001b[0m \u001b[32m316.9/316.9 MB\u001b[0m \u001b[31m165.2 MB/s\u001b[0m eta \u001b[36m0:00:01\u001b[0m"
     ]
    },
    {
     "name": "stdout",
     "output_type": "stream",
     "text": [
      "\r",
      "\u001b[2K     \u001b[91m━━━━━━━━━━━━━━━━━━━━━━━━━━━━━━━━━━━━\u001b[0m\u001b[91m╸\u001b[0m \u001b[32m316.9/316.9 MB\u001b[0m \u001b[31m165.2 MB/s\u001b[0m eta \u001b[36m0:00:01\u001b[0m\r",
      "\u001b[2K     \u001b[91m━━━━━━━━━━━━━━━━━━━━━━━━━━━━━━━━━━━━\u001b[0m\u001b[91m╸\u001b[0m \u001b[32m316.9/316.9 MB\u001b[0m \u001b[31m165.2 MB/s\u001b[0m eta \u001b[36m0:00:01\u001b[0m"
     ]
    },
    {
     "name": "stdout",
     "output_type": "stream",
     "text": [
      "\r",
      "\u001b[2K     \u001b[91m━━━━━━━━━━━━━━━━━━━━━━━━━━━━━━━━━━━━\u001b[0m\u001b[91m╸\u001b[0m \u001b[32m316.9/316.9 MB\u001b[0m \u001b[31m165.2 MB/s\u001b[0m eta \u001b[36m0:00:01\u001b[0m"
     ]
    },
    {
     "name": "stdout",
     "output_type": "stream",
     "text": [
      "\r",
      "\u001b[2K     \u001b[91m━━━━━━━━━━━━━━━━━━━━━━━━━━━━━━━━━━━━\u001b[0m\u001b[91m╸\u001b[0m \u001b[32m316.9/316.9 MB\u001b[0m \u001b[31m165.2 MB/s\u001b[0m eta \u001b[36m0:00:01\u001b[0m\r",
      "\u001b[2K     \u001b[91m━━━━━━━━━━━━━━━━━━━━━━━━━━━━━━━━━━━━\u001b[0m\u001b[91m╸\u001b[0m \u001b[32m316.9/316.9 MB\u001b[0m \u001b[31m165.2 MB/s\u001b[0m eta \u001b[36m0:00:01\u001b[0m"
     ]
    },
    {
     "name": "stdout",
     "output_type": "stream",
     "text": [
      "\r",
      "\u001b[2K     \u001b[91m━━━━━━━━━━━━━━━━━━━━━━━━━━━━━━━━━━━━\u001b[0m\u001b[91m╸\u001b[0m \u001b[32m316.9/316.9 MB\u001b[0m \u001b[31m165.2 MB/s\u001b[0m eta \u001b[36m0:00:01\u001b[0m"
     ]
    },
    {
     "name": "stdout",
     "output_type": "stream",
     "text": [
      "\r",
      "\u001b[2K     \u001b[91m━━━━━━━━━━━━━━━━━━━━━━━━━━━━━━━━━━━━\u001b[0m\u001b[91m╸\u001b[0m \u001b[32m316.9/316.9 MB\u001b[0m \u001b[31m165.2 MB/s\u001b[0m eta \u001b[36m0:00:01\u001b[0m\r",
      "\u001b[2K     \u001b[91m━━━━━━━━━━━━━━━━━━━━━━━━━━━━━━━━━━━━\u001b[0m\u001b[91m╸\u001b[0m \u001b[32m316.9/316.9 MB\u001b[0m \u001b[31m165.2 MB/s\u001b[0m eta \u001b[36m0:00:01\u001b[0m"
     ]
    },
    {
     "name": "stdout",
     "output_type": "stream",
     "text": [
      "\r",
      "\u001b[2K     \u001b[91m━━━━━━━━━━━━━━━━━━━━━━━━━━━━━━━━━━━━\u001b[0m\u001b[91m╸\u001b[0m \u001b[32m316.9/316.9 MB\u001b[0m \u001b[31m165.2 MB/s\u001b[0m eta \u001b[36m0:00:01\u001b[0m"
     ]
    },
    {
     "name": "stdout",
     "output_type": "stream",
     "text": [
      "\r",
      "\u001b[2K     \u001b[91m━━━━━━━━━━━━━━━━━━━━━━━━━━━━━━━━━━━━\u001b[0m\u001b[91m╸\u001b[0m \u001b[32m316.9/316.9 MB\u001b[0m \u001b[31m165.2 MB/s\u001b[0m eta \u001b[36m0:00:01\u001b[0m"
     ]
    },
    {
     "name": "stdout",
     "output_type": "stream",
     "text": [
      "\r",
      "\u001b[2K     \u001b[91m━━━━━━━━━━━━━━━━━━━━━━━━━━━━━━━━━━━━\u001b[0m\u001b[91m╸\u001b[0m \u001b[32m316.9/316.9 MB\u001b[0m \u001b[31m165.2 MB/s\u001b[0m eta \u001b[36m0:00:01\u001b[0m\r",
      "\u001b[2K     \u001b[91m━━━━━━━━━━━━━━━━━━━━━━━━━━━━━━━━━━━━\u001b[0m\u001b[91m╸\u001b[0m \u001b[32m316.9/316.9 MB\u001b[0m \u001b[31m165.2 MB/s\u001b[0m eta \u001b[36m0:00:01\u001b[0m"
     ]
    },
    {
     "name": "stdout",
     "output_type": "stream",
     "text": [
      "\r",
      "\u001b[2K     \u001b[91m━━━━━━━━━━━━━━━━━━━━━━━━━━━━━━━━━━━━\u001b[0m\u001b[91m╸\u001b[0m \u001b[32m316.9/316.9 MB\u001b[0m \u001b[31m165.2 MB/s\u001b[0m eta \u001b[36m0:00:01\u001b[0m"
     ]
    },
    {
     "name": "stdout",
     "output_type": "stream",
     "text": [
      "\r",
      "\u001b[2K     \u001b[91m━━━━━━━━━━━━━━━━━━━━━━━━━━━━━━━━━━━━\u001b[0m\u001b[91m╸\u001b[0m \u001b[32m316.9/316.9 MB\u001b[0m \u001b[31m165.2 MB/s\u001b[0m eta \u001b[36m0:00:01\u001b[0m\r",
      "\u001b[2K     \u001b[91m━━━━━━━━━━━━━━━━━━━━━━━━━━━━━━━━━━━━\u001b[0m\u001b[91m╸\u001b[0m \u001b[32m316.9/316.9 MB\u001b[0m \u001b[31m165.2 MB/s\u001b[0m eta \u001b[36m0:00:01\u001b[0m"
     ]
    },
    {
     "name": "stdout",
     "output_type": "stream",
     "text": [
      "\r",
      "\u001b[2K     \u001b[91m━━━━━━━━━━━━━━━━━━━━━━━━━━━━━━━━━━━━\u001b[0m\u001b[91m╸\u001b[0m \u001b[32m316.9/316.9 MB\u001b[0m \u001b[31m165.2 MB/s\u001b[0m eta \u001b[36m0:00:01\u001b[0m"
     ]
    },
    {
     "name": "stdout",
     "output_type": "stream",
     "text": [
      "\r",
      "\u001b[2K     \u001b[91m━━━━━━━━━━━━━━━━━━━━━━━━━━━━━━━━━━━━\u001b[0m\u001b[91m╸\u001b[0m \u001b[32m316.9/316.9 MB\u001b[0m \u001b[31m165.2 MB/s\u001b[0m eta \u001b[36m0:00:01\u001b[0m\r",
      "\u001b[2K     \u001b[91m━━━━━━━━━━━━━━━━━━━━━━━━━━━━━━━━━━━━\u001b[0m\u001b[91m╸\u001b[0m \u001b[32m316.9/316.9 MB\u001b[0m \u001b[31m165.2 MB/s\u001b[0m eta \u001b[36m0:00:01\u001b[0m"
     ]
    },
    {
     "name": "stdout",
     "output_type": "stream",
     "text": [
      "\r",
      "\u001b[2K     \u001b[91m━━━━━━━━━━━━━━━━━━━━━━━━━━━━━━━━━━━━\u001b[0m\u001b[91m╸\u001b[0m \u001b[32m316.9/316.9 MB\u001b[0m \u001b[31m165.2 MB/s\u001b[0m eta \u001b[36m0:00:01\u001b[0m"
     ]
    },
    {
     "name": "stdout",
     "output_type": "stream",
     "text": [
      "\r",
      "\u001b[2K     \u001b[91m━━━━━━━━━━━━━━━━━━━━━━━━━━━━━━━━━━━━\u001b[0m\u001b[91m╸\u001b[0m \u001b[32m316.9/316.9 MB\u001b[0m \u001b[31m165.2 MB/s\u001b[0m eta \u001b[36m0:00:01\u001b[0m\r",
      "\u001b[2K     \u001b[91m━━━━━━━━━━━━━━━━━━━━━━━━━━━━━━━━━━━━\u001b[0m\u001b[91m╸\u001b[0m \u001b[32m316.9/316.9 MB\u001b[0m \u001b[31m165.2 MB/s\u001b[0m eta \u001b[36m0:00:01\u001b[0m"
     ]
    },
    {
     "name": "stdout",
     "output_type": "stream",
     "text": [
      "\r",
      "\u001b[2K     \u001b[91m━━━━━━━━━━━━━━━━━━━━━━━━━━━━━━━━━━━━\u001b[0m\u001b[91m╸\u001b[0m \u001b[32m316.9/316.9 MB\u001b[0m \u001b[31m165.2 MB/s\u001b[0m eta \u001b[36m0:00:01\u001b[0m"
     ]
    },
    {
     "name": "stdout",
     "output_type": "stream",
     "text": [
      "\r",
      "\u001b[2K     \u001b[91m━━━━━━━━━━━━━━━━━━━━━━━━━━━━━━━━━━━━\u001b[0m\u001b[91m╸\u001b[0m \u001b[32m316.9/316.9 MB\u001b[0m \u001b[31m165.2 MB/s\u001b[0m eta \u001b[36m0:00:01\u001b[0m"
     ]
    },
    {
     "name": "stdout",
     "output_type": "stream",
     "text": [
      "\r",
      "\u001b[2K     \u001b[91m━━━━━━━━━━━━━━━━━━━━━━━━━━━━━━━━━━━━\u001b[0m\u001b[91m╸\u001b[0m \u001b[32m316.9/316.9 MB\u001b[0m \u001b[31m165.2 MB/s\u001b[0m eta \u001b[36m0:00:01\u001b[0m\r",
      "\u001b[2K     \u001b[91m━━━━━━━━━━━━━━━━━━━━━━━━━━━━━━━━━━━━\u001b[0m\u001b[91m╸\u001b[0m \u001b[32m316.9/316.9 MB\u001b[0m \u001b[31m165.2 MB/s\u001b[0m eta \u001b[36m0:00:01\u001b[0m"
     ]
    },
    {
     "name": "stdout",
     "output_type": "stream",
     "text": [
      "\r",
      "\u001b[2K     \u001b[91m━━━━━━━━━━━━━━━━━━━━━━━━━━━━━━━━━━━━\u001b[0m\u001b[91m╸\u001b[0m \u001b[32m316.9/316.9 MB\u001b[0m \u001b[31m165.2 MB/s\u001b[0m eta \u001b[36m0:00:01\u001b[0m"
     ]
    },
    {
     "name": "stdout",
     "output_type": "stream",
     "text": [
      "\r",
      "\u001b[2K     \u001b[91m━━━━━━━━━━━━━━━━━━━━━━━━━━━━━━━━━━━━\u001b[0m\u001b[91m╸\u001b[0m \u001b[32m316.9/316.9 MB\u001b[0m \u001b[31m165.2 MB/s\u001b[0m eta \u001b[36m0:00:01\u001b[0m\r",
      "\u001b[2K     \u001b[91m━━━━━━━━━━━━━━━━━━━━━━━━━━━━━━━━━━━━\u001b[0m\u001b[91m╸\u001b[0m \u001b[32m316.9/316.9 MB\u001b[0m \u001b[31m165.2 MB/s\u001b[0m eta \u001b[36m0:00:01\u001b[0m"
     ]
    },
    {
     "name": "stdout",
     "output_type": "stream",
     "text": [
      "\r",
      "\u001b[2K     \u001b[91m━━━━━━━━━━━━━━━━━━━━━━━━━━━━━━━━━━━━\u001b[0m\u001b[91m╸\u001b[0m \u001b[32m316.9/316.9 MB\u001b[0m \u001b[31m165.2 MB/s\u001b[0m eta \u001b[36m0:00:01\u001b[0m"
     ]
    },
    {
     "name": "stdout",
     "output_type": "stream",
     "text": [
      "\r",
      "\u001b[2K     \u001b[91m━━━━━━━━━━━━━━━━━━━━━━━━━━━━━━━━━━━━\u001b[0m\u001b[91m╸\u001b[0m \u001b[32m316.9/316.9 MB\u001b[0m \u001b[31m165.2 MB/s\u001b[0m eta \u001b[36m0:00:01\u001b[0m\r",
      "\u001b[2K     \u001b[91m━━━━━━━━━━━━━━━━━━━━━━━━━━━━━━━━━━━━\u001b[0m\u001b[91m╸\u001b[0m \u001b[32m316.9/316.9 MB\u001b[0m \u001b[31m165.2 MB/s\u001b[0m eta \u001b[36m0:00:01\u001b[0m"
     ]
    },
    {
     "name": "stdout",
     "output_type": "stream",
     "text": [
      "\r",
      "\u001b[2K     \u001b[91m━━━━━━━━━━━━━━━━━━━━━━━━━━━━━━━━━━━━\u001b[0m\u001b[91m╸\u001b[0m \u001b[32m316.9/316.9 MB\u001b[0m \u001b[31m165.2 MB/s\u001b[0m eta \u001b[36m0:00:01\u001b[0m"
     ]
    },
    {
     "name": "stdout",
     "output_type": "stream",
     "text": [
      "\r",
      "\u001b[2K     \u001b[91m━━━━━━━━━━━━━━━━━━━━━━━━━━━━━━━━━━━━\u001b[0m\u001b[91m╸\u001b[0m \u001b[32m316.9/316.9 MB\u001b[0m \u001b[31m165.2 MB/s\u001b[0m eta \u001b[36m0:00:01\u001b[0m\r",
      "\u001b[2K     \u001b[91m━━━━━━━━━━━━━━━━━━━━━━━━━━━━━━━━━━━━\u001b[0m\u001b[91m╸\u001b[0m \u001b[32m316.9/316.9 MB\u001b[0m \u001b[31m165.2 MB/s\u001b[0m eta \u001b[36m0:00:01\u001b[0m"
     ]
    },
    {
     "name": "stdout",
     "output_type": "stream",
     "text": [
      "\r",
      "\u001b[2K     \u001b[91m━━━━━━━━━━━━━━━━━━━━━━━━━━━━━━━━━━━━\u001b[0m\u001b[91m╸\u001b[0m \u001b[32m316.9/316.9 MB\u001b[0m \u001b[31m165.2 MB/s\u001b[0m eta \u001b[36m0:00:01\u001b[0m"
     ]
    },
    {
     "name": "stdout",
     "output_type": "stream",
     "text": [
      "\r",
      "\u001b[2K     \u001b[91m━━━━━━━━━━━━━━━━━━━━━━━━━━━━━━━━━━━━\u001b[0m\u001b[91m╸\u001b[0m \u001b[32m316.9/316.9 MB\u001b[0m \u001b[31m165.2 MB/s\u001b[0m eta \u001b[36m0:00:01\u001b[0m"
     ]
    },
    {
     "name": "stdout",
     "output_type": "stream",
     "text": [
      "\r",
      "\u001b[2K     \u001b[91m━━━━━━━━━━━━━━━━━━━━━━━━━━━━━━━━━━━━\u001b[0m\u001b[91m╸\u001b[0m \u001b[32m316.9/316.9 MB\u001b[0m \u001b[31m165.2 MB/s\u001b[0m eta \u001b[36m0:00:01\u001b[0m\r",
      "\u001b[2K     \u001b[91m━━━━━━━━━━━━━━━━━━━━━━━━━━━━━━━━━━━━\u001b[0m\u001b[91m╸\u001b[0m \u001b[32m316.9/316.9 MB\u001b[0m \u001b[31m165.2 MB/s\u001b[0m eta \u001b[36m0:00:01\u001b[0m"
     ]
    },
    {
     "name": "stdout",
     "output_type": "stream",
     "text": [
      "\r",
      "\u001b[2K     \u001b[91m━━━━━━━━━━━━━━━━━━━━━━━━━━━━━━━━━━━━\u001b[0m\u001b[91m╸\u001b[0m \u001b[32m316.9/316.9 MB\u001b[0m \u001b[31m165.2 MB/s\u001b[0m eta \u001b[36m0:00:01\u001b[0m"
     ]
    },
    {
     "name": "stdout",
     "output_type": "stream",
     "text": [
      "\r",
      "\u001b[2K     \u001b[91m━━━━━━━━━━━━━━━━━━━━━━━━━━━━━━━━━━━━\u001b[0m\u001b[91m╸\u001b[0m \u001b[32m316.9/316.9 MB\u001b[0m \u001b[31m165.2 MB/s\u001b[0m eta \u001b[36m0:00:01\u001b[0m\r",
      "\u001b[2K     \u001b[91m━━━━━━━━━━━━━━━━━━━━━━━━━━━━━━━━━━━━\u001b[0m\u001b[91m╸\u001b[0m \u001b[32m316.9/316.9 MB\u001b[0m \u001b[31m165.2 MB/s\u001b[0m eta \u001b[36m0:00:01\u001b[0m"
     ]
    },
    {
     "name": "stdout",
     "output_type": "stream",
     "text": [
      "\r",
      "\u001b[2K     \u001b[91m━━━━━━━━━━━━━━━━━━━━━━━━━━━━━━━━━━━━\u001b[0m\u001b[91m╸\u001b[0m \u001b[32m316.9/316.9 MB\u001b[0m \u001b[31m165.2 MB/s\u001b[0m eta \u001b[36m0:00:01\u001b[0m"
     ]
    },
    {
     "name": "stdout",
     "output_type": "stream",
     "text": [
      "\r",
      "\u001b[2K     \u001b[91m━━━━━━━━━━━━━━━━━━━━━━━━━━━━━━━━━━━━\u001b[0m\u001b[91m╸\u001b[0m \u001b[32m316.9/316.9 MB\u001b[0m \u001b[31m165.2 MB/s\u001b[0m eta \u001b[36m0:00:01\u001b[0m\r",
      "\u001b[2K     \u001b[91m━━━━━━━━━━━━━━━━━━━━━━━━━━━━━━━━━━━━\u001b[0m\u001b[91m╸\u001b[0m \u001b[32m316.9/316.9 MB\u001b[0m \u001b[31m165.2 MB/s\u001b[0m eta \u001b[36m0:00:01\u001b[0m"
     ]
    },
    {
     "name": "stdout",
     "output_type": "stream",
     "text": [
      "\r",
      "\u001b[2K     \u001b[91m━━━━━━━━━━━━━━━━━━━━━━━━━━━━━━━━━━━━\u001b[0m\u001b[91m╸\u001b[0m \u001b[32m316.9/316.9 MB\u001b[0m \u001b[31m165.2 MB/s\u001b[0m eta \u001b[36m0:00:01\u001b[0m"
     ]
    },
    {
     "name": "stdout",
     "output_type": "stream",
     "text": [
      "\r",
      "\u001b[2K     \u001b[91m━━━━━━━━━━━━━━━━━━━━━━━━━━━━━━━━━━━━\u001b[0m\u001b[91m╸\u001b[0m \u001b[32m316.9/316.9 MB\u001b[0m \u001b[31m165.2 MB/s\u001b[0m eta \u001b[36m0:00:01\u001b[0m\r",
      "\u001b[2K     \u001b[91m━━━━━━━━━━━━━━━━━━━━━━━━━━━━━━━━━━━━\u001b[0m\u001b[91m╸\u001b[0m \u001b[32m316.9/316.9 MB\u001b[0m \u001b[31m165.2 MB/s\u001b[0m eta \u001b[36m0:00:01\u001b[0m"
     ]
    },
    {
     "name": "stdout",
     "output_type": "stream",
     "text": [
      "\r",
      "\u001b[2K     \u001b[91m━━━━━━━━━━━━━━━━━━━━━━━━━━━━━━━━━━━━\u001b[0m\u001b[91m╸\u001b[0m \u001b[32m316.9/316.9 MB\u001b[0m \u001b[31m165.2 MB/s\u001b[0m eta \u001b[36m0:00:01\u001b[0m"
     ]
    },
    {
     "name": "stdout",
     "output_type": "stream",
     "text": [
      "\r",
      "\u001b[2K     \u001b[91m━━━━━━━━━━━━━━━━━━━━━━━━━━━━━━━━━━━━\u001b[0m\u001b[91m╸\u001b[0m \u001b[32m316.9/316.9 MB\u001b[0m \u001b[31m165.2 MB/s\u001b[0m eta \u001b[36m0:00:01\u001b[0m"
     ]
    },
    {
     "name": "stdout",
     "output_type": "stream",
     "text": [
      "\r",
      "\u001b[2K     \u001b[91m━━━━━━━━━━━━━━━━━━━━━━━━━━━━━━━━━━━━\u001b[0m\u001b[91m╸\u001b[0m \u001b[32m316.9/316.9 MB\u001b[0m \u001b[31m165.2 MB/s\u001b[0m eta \u001b[36m0:00:01\u001b[0m\r",
      "\u001b[2K     \u001b[91m━━━━━━━━━━━━━━━━━━━━━━━━━━━━━━━━━━━━\u001b[0m\u001b[91m╸\u001b[0m \u001b[32m316.9/316.9 MB\u001b[0m \u001b[31m165.2 MB/s\u001b[0m eta \u001b[36m0:00:01\u001b[0m"
     ]
    },
    {
     "name": "stdout",
     "output_type": "stream",
     "text": [
      "\r",
      "\u001b[2K     \u001b[91m━━━━━━━━━━━━━━━━━━━━━━━━━━━━━━━━━━━━\u001b[0m\u001b[91m╸\u001b[0m \u001b[32m316.9/316.9 MB\u001b[0m \u001b[31m165.2 MB/s\u001b[0m eta \u001b[36m0:00:01\u001b[0m"
     ]
    },
    {
     "name": "stdout",
     "output_type": "stream",
     "text": [
      "\r",
      "\u001b[2K     \u001b[91m━━━━━━━━━━━━━━━━━━━━━━━━━━━━━━━━━━━━\u001b[0m\u001b[91m╸\u001b[0m \u001b[32m316.9/316.9 MB\u001b[0m \u001b[31m165.2 MB/s\u001b[0m eta \u001b[36m0:00:01\u001b[0m\r",
      "\u001b[2K     \u001b[91m━━━━━━━━━━━━━━━━━━━━━━━━━━━━━━━━━━━━\u001b[0m\u001b[91m╸\u001b[0m \u001b[32m316.9/316.9 MB\u001b[0m \u001b[31m165.2 MB/s\u001b[0m eta \u001b[36m0:00:01\u001b[0m"
     ]
    },
    {
     "name": "stdout",
     "output_type": "stream",
     "text": [
      "\r",
      "\u001b[2K     \u001b[91m━━━━━━━━━━━━━━━━━━━━━━━━━━━━━━━━━━━━\u001b[0m\u001b[91m╸\u001b[0m \u001b[32m316.9/316.9 MB\u001b[0m \u001b[31m165.2 MB/s\u001b[0m eta \u001b[36m0:00:01\u001b[0m"
     ]
    },
    {
     "name": "stdout",
     "output_type": "stream",
     "text": [
      "\r",
      "\u001b[2K     \u001b[91m━━━━━━━━━━━━━━━━━━━━━━━━━━━━━━━━━━━━\u001b[0m\u001b[91m╸\u001b[0m \u001b[32m316.9/316.9 MB\u001b[0m \u001b[31m165.2 MB/s\u001b[0m eta \u001b[36m0:00:01\u001b[0m\r",
      "\u001b[2K     \u001b[90m━━━━━━━━━━━━━━━━━━━━━━━━━━━━━━━━━━━━━━━\u001b[0m \u001b[32m316.9/316.9 MB\u001b[0m \u001b[31m3.3 MB/s\u001b[0m eta \u001b[36m0:00:00\u001b[0m\r\n",
      "\u001b[?25h"
     ]
    },
    {
     "name": "stdout",
     "output_type": "stream",
     "text": [
      "  Installing build dependencies ... \u001b[?25l-"
     ]
    },
    {
     "name": "stdout",
     "output_type": "stream",
     "text": [
      "\b \b\\"
     ]
    },
    {
     "name": "stdout",
     "output_type": "stream",
     "text": [
      "\b \b|"
     ]
    },
    {
     "name": "stdout",
     "output_type": "stream",
     "text": [
      "\b \b/"
     ]
    },
    {
     "name": "stdout",
     "output_type": "stream",
     "text": [
      "\b \bdone\r\n"
     ]
    },
    {
     "name": "stdout",
     "output_type": "stream",
     "text": [
      "\u001b[?25h  Getting requirements to build wheel ... \u001b[?25l-"
     ]
    },
    {
     "name": "stdout",
     "output_type": "stream",
     "text": [
      "\b \bdone\r\n"
     ]
    },
    {
     "name": "stdout",
     "output_type": "stream",
     "text": [
      "\u001b[?25h  Installing backend dependencies ... \u001b[?25l-"
     ]
    },
    {
     "name": "stdout",
     "output_type": "stream",
     "text": [
      "\b \b\\"
     ]
    },
    {
     "name": "stdout",
     "output_type": "stream",
     "text": [
      "\b \bdone\r\n"
     ]
    },
    {
     "name": "stdout",
     "output_type": "stream",
     "text": [
      "\u001b[?25h  Preparing metadata (pyproject.toml) ... \u001b[?25l-"
     ]
    },
    {
     "name": "stdout",
     "output_type": "stream",
     "text": [
      "\b \bdone\r\n"
     ]
    },
    {
     "name": "stdout",
     "output_type": "stream",
     "text": [
      "\u001b[?25hCollecting py4j==0.10.9.7 (from pyspark>=2.3.0->apache-sedona[spark])\r\n",
      "  Downloading py4j-0.10.9.7-py2.py3-none-any.whl.metadata (1.5 kB)\r\n"
     ]
    },
    {
     "name": "stdout",
     "output_type": "stream",
     "text": [
      "Downloading py4j-0.10.9.7-py2.py3-none-any.whl (200 kB)\r\n",
      "\u001b[?25l   \u001b[90m━━━━━━━━━━━━━━━━━━━━━━━━━━━━━━━━━━━━━━━━\u001b[0m \u001b[32m0.0/200.5 kB\u001b[0m \u001b[31m?\u001b[0m eta \u001b[36m-:--:--\u001b[0m\r",
      "\u001b[2K   \u001b[90m━━━━━━━━━━━━━━━━━━━━━━━━━━━━━━━━━━━━━━━━\u001b[0m \u001b[32m200.5/200.5 kB\u001b[0m \u001b[31m47.6 MB/s\u001b[0m eta \u001b[36m0:00:00\u001b[0m\r\n",
      "\u001b[?25hDownloading apache_sedona-1.5.1-cp38-cp38-manylinux_2_17_x86_64.manylinux2014_x86_64.whl (155 kB)\r\n",
      "\u001b[?25l   \u001b[90m━━━━━━━━━━━━━━━━━━━━━━━━━━━━━━━━━━━━━━━━\u001b[0m \u001b[32m0.0/155.0 kB\u001b[0m \u001b[31m?\u001b[0m eta \u001b[36m-:--:--\u001b[0m\r",
      "\u001b[2K   \u001b[90m━━━━━━━━━━━━━━━━━━━━━━━━━━━━━━━━━━━━━━━━\u001b[0m \u001b[32m155.0/155.0 kB\u001b[0m \u001b[31m40.6 MB/s\u001b[0m eta \u001b[36m0:00:00\u001b[0m\r\n",
      "\u001b[?25hBuilding wheels for collected packages: pyspark\r\n"
     ]
    },
    {
     "name": "stdout",
     "output_type": "stream",
     "text": [
      "  Building wheel for pyspark (pyproject.toml) ... \u001b[?25l-"
     ]
    },
    {
     "name": "stdout",
     "output_type": "stream",
     "text": [
      "\b \b\\"
     ]
    },
    {
     "name": "stdout",
     "output_type": "stream",
     "text": [
      "\b \b|"
     ]
    },
    {
     "name": "stdout",
     "output_type": "stream",
     "text": [
      "\b \b/"
     ]
    },
    {
     "name": "stdout",
     "output_type": "stream",
     "text": [
      "\b \b-"
     ]
    },
    {
     "name": "stdout",
     "output_type": "stream",
     "text": [
      "\b \b\\"
     ]
    },
    {
     "name": "stdout",
     "output_type": "stream",
     "text": [
      "\b \b|"
     ]
    },
    {
     "name": "stdout",
     "output_type": "stream",
     "text": [
      "\b \b/"
     ]
    },
    {
     "name": "stdout",
     "output_type": "stream",
     "text": [
      "\b \b-"
     ]
    },
    {
     "name": "stdout",
     "output_type": "stream",
     "text": [
      "\b \b\\"
     ]
    },
    {
     "name": "stdout",
     "output_type": "stream",
     "text": [
      "\b \b|"
     ]
    },
    {
     "name": "stdout",
     "output_type": "stream",
     "text": [
      "\b \b/"
     ]
    },
    {
     "name": "stdout",
     "output_type": "stream",
     "text": [
      "\b \b-"
     ]
    },
    {
     "name": "stdout",
     "output_type": "stream",
     "text": [
      "\b \b\\"
     ]
    },
    {
     "name": "stdout",
     "output_type": "stream",
     "text": [
      "\b \b|"
     ]
    },
    {
     "name": "stdout",
     "output_type": "stream",
     "text": [
      "\b \b/"
     ]
    },
    {
     "name": "stdout",
     "output_type": "stream",
     "text": [
      "\b \b-"
     ]
    },
    {
     "name": "stdout",
     "output_type": "stream",
     "text": [
      "\b \b\\"
     ]
    },
    {
     "name": "stdout",
     "output_type": "stream",
     "text": [
      "\b \b|"
     ]
    },
    {
     "name": "stdout",
     "output_type": "stream",
     "text": [
      "\b \b/"
     ]
    },
    {
     "name": "stdout",
     "output_type": "stream",
     "text": [
      "\b \b-"
     ]
    },
    {
     "name": "stdout",
     "output_type": "stream",
     "text": [
      "\b \b\\"
     ]
    },
    {
     "name": "stdout",
     "output_type": "stream",
     "text": [
      "\b \b|"
     ]
    },
    {
     "name": "stdout",
     "output_type": "stream",
     "text": [
      "\b \b/"
     ]
    },
    {
     "name": "stdout",
     "output_type": "stream",
     "text": [
      "\b \b-"
     ]
    },
    {
     "name": "stdout",
     "output_type": "stream",
     "text": [
      "\b \b\\"
     ]
    },
    {
     "name": "stdout",
     "output_type": "stream",
     "text": [
      "\b \b|"
     ]
    },
    {
     "name": "stdout",
     "output_type": "stream",
     "text": [
      "\b \b/"
     ]
    },
    {
     "name": "stdout",
     "output_type": "stream",
     "text": [
      "\b \b-"
     ]
    },
    {
     "name": "stdout",
     "output_type": "stream",
     "text": [
      "\b \b\\"
     ]
    },
    {
     "name": "stdout",
     "output_type": "stream",
     "text": [
      "\b \b|"
     ]
    },
    {
     "name": "stdout",
     "output_type": "stream",
     "text": [
      "\b \b/"
     ]
    },
    {
     "name": "stdout",
     "output_type": "stream",
     "text": [
      "\b \b-"
     ]
    },
    {
     "name": "stdout",
     "output_type": "stream",
     "text": [
      "\b \b\\"
     ]
    },
    {
     "name": "stdout",
     "output_type": "stream",
     "text": [
      "\b \b|"
     ]
    },
    {
     "name": "stdout",
     "output_type": "stream",
     "text": [
      "\b \b/"
     ]
    },
    {
     "name": "stdout",
     "output_type": "stream",
     "text": [
      "\b \b-"
     ]
    },
    {
     "name": "stdout",
     "output_type": "stream",
     "text": [
      "\b \b\\"
     ]
    },
    {
     "name": "stdout",
     "output_type": "stream",
     "text": [
      "\b \b|"
     ]
    },
    {
     "name": "stdout",
     "output_type": "stream",
     "text": [
      "\b \b/"
     ]
    },
    {
     "name": "stdout",
     "output_type": "stream",
     "text": [
      "\b \b-"
     ]
    },
    {
     "name": "stdout",
     "output_type": "stream",
     "text": [
      "\b \b\\"
     ]
    },
    {
     "name": "stdout",
     "output_type": "stream",
     "text": [
      "\b \b|"
     ]
    },
    {
     "name": "stdout",
     "output_type": "stream",
     "text": [
      "\b \b/"
     ]
    },
    {
     "name": "stdout",
     "output_type": "stream",
     "text": [
      "\b \b-"
     ]
    },
    {
     "name": "stdout",
     "output_type": "stream",
     "text": [
      "\b \b\\"
     ]
    },
    {
     "name": "stdout",
     "output_type": "stream",
     "text": [
      "\b \b|"
     ]
    },
    {
     "name": "stdout",
     "output_type": "stream",
     "text": [
      "\b \b/"
     ]
    },
    {
     "name": "stdout",
     "output_type": "stream",
     "text": [
      "\b \b-"
     ]
    },
    {
     "name": "stdout",
     "output_type": "stream",
     "text": [
      "\b \b\\"
     ]
    },
    {
     "name": "stdout",
     "output_type": "stream",
     "text": [
      "\b \bdone\r\n"
     ]
    },
    {
     "name": "stdout",
     "output_type": "stream",
     "text": [
      "\u001b[?25h  Created wheel for pyspark: filename=pyspark-3.5.0-py2.py3-none-any.whl size=317425345 sha256=ac38e8b58626cede2ec5aa2473e9c1e27f8ba179b4f5083859eb0353a1b1a881\r\n",
      "  Stored in directory: /home/runner/.cache/pip/wheels/a6/ce/f9/17d82c92f044018df2fe30af63ac043447720d5b2cee39b40f\r\n",
      "Successfully built pyspark\r\n"
     ]
    },
    {
     "name": "stdout",
     "output_type": "stream",
     "text": [
      "Installing collected packages: py4j, pyspark, apache-sedona\r\n"
     ]
    },
    {
     "name": "stdout",
     "output_type": "stream",
     "text": [
      "Successfully installed apache-sedona-1.5.1 py4j-0.10.9.7 pyspark-3.5.0\r\n"
     ]
    },
    {
     "name": "stdout",
     "output_type": "stream",
     "text": [
      "\r\n",
      "\u001b[1m[\u001b[0m\u001b[34;49mnotice\u001b[0m\u001b[1;39;49m]\u001b[0m\u001b[39;49m A new release of pip is available: \u001b[0m\u001b[31;49m23.0.1\u001b[0m\u001b[39;49m -> \u001b[0m\u001b[32;49m24.0\u001b[0m\r\n",
      "\u001b[1m[\u001b[0m\u001b[34;49mnotice\u001b[0m\u001b[1;39;49m]\u001b[0m\u001b[39;49m To update, run: \u001b[0m\u001b[32;49mpip install --upgrade pip\u001b[0m\r\n"
     ]
    }
   ],
   "source": [
    "!pip install apache-sedona[spark]"
   ]
  },
  {
   "cell_type": "code",
   "execution_count": 4,
   "metadata": {
    "colab": {
     "base_uri": "https://localhost:8080/"
    },
    "execution": {
     "iopub.execute_input": "2024-02-25T21:26:25.939502Z",
     "iopub.status.busy": "2024-02-25T21:26:25.939099Z",
     "iopub.status.idle": "2024-02-25T21:26:25.943582Z",
     "shell.execute_reply": "2024-02-25T21:26:25.942874Z"
    },
    "id": "ZoNNqcGaGrEh",
    "outputId": "aa79c622-24dd-413d-e86c-4e8f379e0b0b"
   },
   "outputs": [
    {
     "name": "stdout",
     "output_type": "stream",
     "text": [
      "env: SPARK_HOME=\"/usr/local/lib/python3.10/dist-packages/pyspark\"\n"
     ]
    }
   ],
   "source": [
    "%env SPARK_HOME = \"/usr/local/lib/python3.10/dist-packages/pyspark\""
   ]
  },
  {
   "cell_type": "code",
   "execution_count": 5,
   "metadata": {
    "colab": {
     "base_uri": "https://localhost:8080/"
    },
    "execution": {
     "iopub.execute_input": "2024-02-25T21:26:25.945976Z",
     "iopub.status.busy": "2024-02-25T21:26:25.945592Z",
     "iopub.status.idle": "2024-02-25T21:26:25.949537Z",
     "shell.execute_reply": "2024-02-25T21:26:25.948842Z"
    },
    "id": "z9fpbLrjHBeY",
    "outputId": "5dade95c-b20b-496f-a8d1-504ef69d100d"
   },
   "outputs": [
    {
     "name": "stdout",
     "output_type": "stream",
     "text": [
      "env: PYTHONPATH=/usr/local/lib/python3.10/dist-packages/pyspark/python\n"
     ]
    }
   ],
   "source": [
    "%env PYTHONPATH = /usr/local/lib/python3.10/dist-packages/pyspark/python"
   ]
  },
  {
   "cell_type": "code",
   "execution_count": 6,
   "metadata": {
    "colab": {
     "base_uri": "https://localhost:8080/"
    },
    "execution": {
     "iopub.execute_input": "2024-02-25T21:26:25.951993Z",
     "iopub.status.busy": "2024-02-25T21:26:25.951655Z",
     "iopub.status.idle": "2024-02-25T21:26:26.332363Z",
     "shell.execute_reply": "2024-02-25T21:26:26.331605Z"
    },
    "id": "d_YNI8fKiU3k",
    "outputId": "1cb25835-1990-44ed-8a65-2afeafc4dc32"
   },
   "outputs": [
    {
     "name": "stdout",
     "output_type": "stream",
     "text": [
      "ERROR: unknown command \"info\"\r\n"
     ]
    }
   ],
   "source": [
    "!pip info pyspark"
   ]
  },
  {
   "cell_type": "markdown",
   "metadata": {
    "id": "Sjlr4JO-Erv3"
   },
   "source": [
    "## Setup environment variables\n",
    "\n",
    "We need to set two environment variables:\n",
    "\n",
    "- `SPARK_HOME`\n",
    "- `PYTHONPATH`\n",
    "\n",
    "Once we have set `SPARK_HOME`, the variable `PYTHONPATH` is `$SPARK_HOME/python`.\n",
    "\n",
    "### Find Spark home\n",
    "\n",
    "There's an utility to find Spark home and I always forget how it's called exactly, what I remember is that it contains `\"find\"` and `\"spark\"`. Let us search for it:"
   ]
  },
  {
   "cell_type": "code",
   "execution_count": 7,
   "metadata": {
    "colab": {
     "base_uri": "https://localhost:8080/"
    },
    "execution": {
     "iopub.execute_input": "2024-02-25T21:26:26.335364Z",
     "iopub.status.busy": "2024-02-25T21:26:26.335144Z",
     "iopub.status.idle": "2024-02-25T21:28:09.507068Z",
     "shell.execute_reply": "2024-02-25T21:28:09.506255Z"
    },
    "id": "oK5vO9MUGQA6",
    "outputId": "c018213e-e7cc-4494-a45f-587f175d9eb7"
   },
   "outputs": [
    {
     "name": "stdout",
     "output_type": "stream",
     "text": [
      "find: ‘/run/docker’: Permission denied\r\n",
      "find: ‘/run/libpod’: Permission denied\r\n",
      "find: ‘/run/containerd’: Permission denied\r\n",
      "find: ‘/run/containers’: Permission denied\r\n",
      "find: ‘/run/chrony’: Permission denied\r\n",
      "find: ‘/run/user/1001/systemd/inaccessible/dir’: Permission denied\r\n",
      "find: ‘/run/sudo’: Permission denied\r\n",
      "find: ‘/run/podman’: Permission denied\r\n",
      "find: ‘/run/multipath’: Permission denied\r\n",
      "find: ‘/run/cryptsetup’: Permission denied\r\n",
      "find: ‘/run/lvm’: Permission denied\r\n",
      "find: ‘/run/credentials/systemd-sysusers.service’: Permission denied\r\n",
      "find: ‘/run/systemd/propagate’: Permission denied\r\n",
      "find: ‘/run/systemd/unit-root’: Permission denied\r\n",
      "find: ‘/run/systemd/inaccessible/dir’: Permission denied\r\n",
      "find: ‘/run/lock/lvm’: Permission denied\r\n",
      "find: ‘/etc/multipath’: Permission denied\r\n"
     ]
    },
    {
     "name": "stdout",
     "output_type": "stream",
     "text": [
      "find: ‘/etc/polkit-1/localauthority’: Permission denied\r\n",
      "find: ‘/etc/sudoers.d’: Permission denied\r\n"
     ]
    },
    {
     "name": "stdout",
     "output_type": "stream",
     "text": [
      "find: ‘/etc/ssl/private’: Permission denied\r\n",
      "find: ‘/mnt/lost+found’: Permission denied\r\n",
      "find: ‘/lost+found’: Permission denied\r\n",
      "find: ‘/tmp/systemd-private-8810eb1c07484b2f8b6ec4285cf0d30e-haveged.service-DbYtoY’: Permission denied\r\n",
      "find: ‘/tmp/systemd-private-8810eb1c07484b2f8b6ec4285cf0d30e-systemd-resolved.service-jE2v90’: Permission denied\r\n",
      "find: ‘/tmp/systemd-private-8810eb1c07484b2f8b6ec4285cf0d30e-chrony.service-9xNLGS’: Permission denied\r\n",
      "find: ‘/tmp/snap-private-tmp’: Permission denied\r\n",
      "find: ‘/tmp/systemd-private-8810eb1c07484b2f8b6ec4285cf0d30e-systemd-logind.service-urZxQ6’: Permission denied\r\n",
      "find: ‘/root’: Permission denied\r\n",
      "find: ‘/home/runneradmin’: Permission denied\r\n"
     ]
    },
    {
     "name": "stdout",
     "output_type": "stream",
     "text": [
      "find: ‘/snap/core20/2105/etc/ssl/private’: Permission denied\r\n",
      "find: ‘/snap/core20/2105/root’: Permission denied\r\n"
     ]
    },
    {
     "name": "stdout",
     "output_type": "stream",
     "text": [
      "find: ‘/snap/core20/2105/var/cache/ldconfig’: Permission denied\r\n",
      "find: ‘/snap/core20/2105/var/cache/private’: Permission denied\r\n",
      "find: ‘/snap/core20/2105/var/lib/private’: Permission denied\r\n",
      "find: ‘/snap/core20/2105/var/lib/snapd/void’: Permission denied\r\n",
      "find: ‘/boot/efi’: Permission denied\r\n",
      "find: ‘/proc/tty/driver’: Permission denied\r\n",
      "find: ‘/proc/1/task/1/fd’: Permission denied\r\n",
      "find: ‘/proc/1/task/1/fdinfo’: Permission denied\r\n",
      "find: ‘/proc/1/task/1/ns’: Permission denied\r\n",
      "find: ‘/proc/1/fd’: Permission denied\r\n",
      "find: ‘/proc/1/map_files’: Permission denied\r\n",
      "find: ‘/proc/1/fdinfo’: Permission denied\r\n",
      "find: ‘/proc/1/ns’: Permission denied\r\n",
      "find: ‘/proc/2/task/2/fd’: Permission denied\r\n",
      "find: ‘/proc/2/task/2/fdinfo’: Permission denied\r\n",
      "find: ‘/proc/2/task/2/ns’: Permission denied\r\n",
      "find: ‘/proc/2/fd’: Permission denied\r\n",
      "find: ‘/proc/2/map_files’: Permission denied\r\n",
      "find: ‘/proc/2/fdinfo’: Permission denied\r\n",
      "find: ‘/proc/2/ns’: Permission denied\r\n",
      "find: ‘/proc/3/task/3/fd’: Permission denied\r\n",
      "find: ‘/proc/3/task/3/fdinfo’: Permission denied\r\n",
      "find: ‘/proc/3/task/3/ns’: Permission denied\r\n",
      "find: ‘/proc/3/fd’: Permission denied\r\n",
      "find: ‘/proc/3/map_files’: Permission denied\r\n",
      "find: ‘/proc/3/fdinfo’: Permission denied\r\n",
      "find: ‘/proc/3/ns’: Permission denied\r\n",
      "find: ‘/proc/4/task/4/fd’: Permission denied\r\n",
      "find: ‘/proc/4/task/4/fdinfo’: Permission denied\r\n",
      "find: ‘/proc/4/task/4/ns’: Permission denied\r\n",
      "find: ‘/proc/4/fd’: Permission denied\r\n",
      "find: ‘/proc/4/map_files’: Permission denied\r\n",
      "find: ‘/proc/4/fdinfo’: Permission denied\r\n",
      "find: ‘/proc/4/ns’: Permission denied\r\n",
      "find: ‘/proc/5/task/5/fd’: Permission denied\r\n",
      "find: ‘/proc/5/task/5/fdinfo’: Permission denied\r\n",
      "find: ‘/proc/5/task/5/ns’: Permission denied\r\n",
      "find: ‘/proc/5/fd’: Permission denied\r\n",
      "find: ‘/proc/5/map_files’: Permission denied\r\n",
      "find: ‘/proc/5/fdinfo’: Permission denied\r\n",
      "find: ‘/proc/5/ns’: Permission denied\r\n",
      "find: ‘/proc/6/task/6/fd’: Permission denied\r\n",
      "find: ‘/proc/6/task/6/fdinfo’: Permission denied\r\n",
      "find: ‘/proc/6/task/6/ns’: Permission denied\r\n",
      "find: ‘/proc/6/fd’: Permission denied\r\n",
      "find: ‘/proc/6/map_files’: Permission denied\r\n",
      "find: ‘/proc/6/fdinfo’: Permission denied\r\n",
      "find: ‘/proc/6/ns’: Permission denied\r\n",
      "find: ‘/proc/7/task/7/fd’: Permission denied\r\n",
      "find: ‘/proc/7/task/7/fdinfo’: Permission denied\r\n",
      "find: ‘/proc/7/task/7/ns’: Permission denied\r\n",
      "find: ‘/proc/7/fd’: Permission denied\r\n",
      "find: ‘/proc/7/map_files’: Permission denied\r\n",
      "find: ‘/proc/7/fdinfo’: Permission denied\r\n",
      "find: ‘/proc/7/ns’: Permission denied\r\n",
      "find: ‘/proc/8/task/8/fd’: Permission denied\r\n",
      "find: ‘/proc/8/task/8/fdinfo’: Permission denied\r\n",
      "find: ‘/proc/8/task/8/ns’: Permission denied\r\n",
      "find: ‘/proc/8/fd’: Permission denied\r\n",
      "find: ‘/proc/8/map_files’: Permission denied\r\n",
      "find: ‘/proc/8/fdinfo’: Permission denied\r\n",
      "find: ‘/proc/8/ns’: Permission denied\r\n",
      "find: ‘/proc/9/task/9/fd’: Permission denied\r\n",
      "find: ‘/proc/9/task/9/fdinfo’: Permission denied\r\n",
      "find: ‘/proc/9/task/9/ns’: Permission denied\r\n",
      "find: ‘/proc/9/fd’: Permission denied\r\n",
      "find: ‘/proc/9/map_files’: Permission denied\r\n",
      "find: ‘/proc/9/fdinfo’: Permission denied\r\n",
      "find: ‘/proc/9/ns’: Permission denied\r\n",
      "find: ‘/proc/10/task/10/fd’: Permission denied\r\n",
      "find: ‘/proc/10/task/10/fdinfo’: Permission denied\r\n",
      "find: ‘/proc/10/task/10/ns’: Permission denied\r\n",
      "find: ‘/proc/10/fd’: Permission denied\r\n",
      "find: ‘/proc/10/map_files’: Permission denied\r\n",
      "find: ‘/proc/10/fdinfo’: Permission denied\r\n",
      "find: ‘/proc/10/ns’: Permission denied\r\n",
      "find: ‘/proc/11/task/11/fd’: Permission denied\r\n",
      "find: ‘/proc/11/task/11/fdinfo’: Permission denied\r\n",
      "find: ‘/proc/11/task/11/ns’: Permission denied\r\n",
      "find: ‘/proc/11/fd’: Permission denied\r\n",
      "find: ‘/proc/11/map_files’: Permission denied\r\n",
      "find: ‘/proc/11/fdinfo’: Permission denied\r\n",
      "find: ‘/proc/11/ns’: Permission denied\r\n",
      "find: ‘/proc/12/task/12/fd’: Permission denied\r\n",
      "find: ‘/proc/12/task/12/fdinfo’: Permission denied\r\n",
      "find: ‘/proc/12/task/12/ns’: Permission denied\r\n",
      "find: ‘/proc/12/fd’: Permission denied\r\n",
      "find: ‘/proc/12/map_files’: Permission denied\r\n",
      "find: ‘/proc/12/fdinfo’: Permission denied\r\n",
      "find: ‘/proc/12/ns’: Permission denied\r\n",
      "find: ‘/proc/13/task/13/fd’: Permission denied\r\n",
      "find: ‘/proc/13/task/13/fdinfo’: Permission denied\r\n",
      "find: ‘/proc/13/task/13/ns’: Permission denied\r\n",
      "find: ‘/proc/13/fd’: Permission denied\r\n",
      "find: ‘/proc/13/map_files’: Permission denied\r\n",
      "find: ‘/proc/13/fdinfo’: Permission denied\r\n",
      "find: ‘/proc/13/ns’: Permission denied\r\n",
      "find: ‘/proc/14/task/14/fd’: Permission denied\r\n",
      "find: ‘/proc/14/task/14/fdinfo’: Permission denied\r\n",
      "find: ‘/proc/14/task/14/ns’: Permission denied\r\n",
      "find: ‘/proc/14/fd’: Permission denied\r\n",
      "find: ‘/proc/14/map_files’: Permission denied\r\n",
      "find: ‘/proc/14/fdinfo’: Permission denied\r\n",
      "find: ‘/proc/14/ns’: Permission denied\r\n",
      "find: ‘/proc/15/task/15/fd’: Permission denied\r\n",
      "find: ‘/proc/15/task/15/fdinfo’: Permission denied\r\n",
      "find: ‘/proc/15/task/15/ns’: Permission denied\r\n",
      "find: ‘/proc/15/fd’: Permission denied\r\n",
      "find: ‘/proc/15/map_files’: Permission denied\r\n",
      "find: ‘/proc/15/fdinfo’: Permission denied\r\n",
      "find: ‘/proc/15/ns’: Permission denied\r\n",
      "find: ‘/proc/16/task/16/fd’: Permission denied\r\n",
      "find: ‘/proc/16/task/16/fdinfo’: Permission denied\r\n",
      "find: ‘/proc/16/task/16/ns’: Permission denied\r\n",
      "find: ‘/proc/16/fd’: Permission denied\r\n",
      "find: ‘/proc/16/map_files’: Permission denied\r\n",
      "find: ‘/proc/16/fdinfo’: Permission denied\r\n",
      "find: ‘/proc/16/ns’: Permission denied\r\n",
      "find: ‘/proc/17/task/17/fd’: Permission denied\r\n",
      "find: ‘/proc/17/task/17/fdinfo’: Permission denied\r\n",
      "find: ‘/proc/17/task/17/ns’: Permission denied\r\n",
      "find: ‘/proc/17/fd’: Permission denied\r\n",
      "find: ‘/proc/17/map_files’: Permission denied\r\n",
      "find: ‘/proc/17/fdinfo’: Permission denied\r\n",
      "find: ‘/proc/17/ns’: Permission denied\r\n",
      "find: ‘/proc/18/task/18/fd’: Permission denied\r\n",
      "find: ‘/proc/18/task/18/fdinfo’: Permission denied\r\n",
      "find: ‘/proc/18/task/18/ns’: Permission denied\r\n",
      "find: ‘/proc/18/fd’: Permission denied\r\n",
      "find: ‘/proc/18/map_files’: Permission denied\r\n",
      "find: ‘/proc/18/fdinfo’: Permission denied\r\n",
      "find: ‘/proc/18/ns’: Permission denied\r\n",
      "find: ‘/proc/19/task/19/fd’: Permission denied\r\n",
      "find: ‘/proc/19/task/19/fdinfo’: Permission denied\r\n",
      "find: ‘/proc/19/task/19/ns’: Permission denied\r\n",
      "find: ‘/proc/19/fd’: Permission denied\r\n",
      "find: ‘/proc/19/map_files’: Permission denied\r\n",
      "find: ‘/proc/19/fdinfo’: Permission denied\r\n",
      "find: ‘/proc/19/ns’: Permission denied\r\n",
      "find: ‘/proc/20/task/20/fd’: Permission denied\r\n",
      "find: ‘/proc/20/task/20/fdinfo’: Permission denied\r\n",
      "find: ‘/proc/20/task/20/ns’: Permission denied\r\n",
      "find: ‘/proc/20/fd’: Permission denied\r\n",
      "find: ‘/proc/20/map_files’: Permission denied\r\n",
      "find: ‘/proc/20/fdinfo’: Permission denied\r\n",
      "find: ‘/proc/20/ns’: Permission denied\r\n",
      "find: ‘/proc/21/task/21/fd’: Permission denied\r\n",
      "find: ‘/proc/21/task/21/fdinfo’: Permission denied\r\n",
      "find: ‘/proc/21/task/21/ns’: Permission denied\r\n",
      "find: ‘/proc/21/fd’: Permission denied\r\n",
      "find: ‘/proc/21/map_files’: Permission denied\r\n",
      "find: ‘/proc/21/fdinfo’: Permission denied\r\n",
      "find: ‘/proc/21/ns’: Permission denied\r\n",
      "find: ‘/proc/22/task/22/fd’: Permission denied\r\n",
      "find: ‘/proc/22/task/22/fdinfo’: Permission denied\r\n",
      "find: ‘/proc/22/task/22/ns’: Permission denied\r\n",
      "find: ‘/proc/22/fd’: Permission denied\r\n",
      "find: ‘/proc/22/map_files’: Permission denied\r\n",
      "find: ‘/proc/22/fdinfo’: Permission denied\r\n",
      "find: ‘/proc/22/ns’: Permission denied\r\n",
      "find: ‘/proc/23/task/23/fd’: Permission denied\r\n",
      "find: ‘/proc/23/task/23/fdinfo’: Permission denied\r\n",
      "find: ‘/proc/23/task/23/ns’: Permission denied\r\n",
      "find: ‘/proc/23/fd’: Permission denied\r\n",
      "find: ‘/proc/23/map_files’: Permission denied\r\n",
      "find: ‘/proc/23/fdinfo’: Permission denied\r\n",
      "find: ‘/proc/23/ns’: Permission denied\r\n",
      "find: ‘/proc/24/task/24/fd’: Permission denied\r\n",
      "find: ‘/proc/24/task/24/fdinfo’: Permission denied\r\n",
      "find: ‘/proc/24/task/24/ns’: Permission denied\r\n",
      "find: ‘/proc/24/fd’: Permission denied\r\n",
      "find: ‘/proc/24/map_files’: Permission denied\r\n",
      "find: ‘/proc/24/fdinfo’: Permission denied\r\n",
      "find: ‘/proc/24/ns’: Permission denied\r\n",
      "find: ‘/proc/25/task/25/fd’: Permission denied\r\n",
      "find: ‘/proc/25/task/25/fdinfo’: Permission denied\r\n",
      "find: ‘/proc/25/task/25/ns’: Permission denied\r\n",
      "find: ‘/proc/25/fd’: Permission denied\r\n",
      "find: ‘/proc/25/map_files’: Permission denied\r\n",
      "find: ‘/proc/25/fdinfo’: Permission denied\r\n",
      "find: ‘/proc/25/ns’: Permission denied\r\n",
      "find: ‘/proc/26/task/26/fd’: Permission denied\r\n",
      "find: ‘/proc/26/task/26/fdinfo’: Permission denied\r\n",
      "find: ‘/proc/26/task/26/ns’: Permission denied\r\n",
      "find: ‘/proc/26/fd’: Permission denied\r\n",
      "find: ‘/proc/26/map_files’: Permission denied\r\n",
      "find: ‘/proc/26/fdinfo’: Permission denied\r\n",
      "find: ‘/proc/26/ns’: Permission denied\r\n",
      "find: ‘/proc/27/task/27/fd’: Permission denied\r\n",
      "find: ‘/proc/27/task/27/fdinfo’: Permission denied\r\n",
      "find: ‘/proc/27/task/27/ns’: Permission denied\r\n",
      "find: ‘/proc/27/fd’: Permission denied\r\n",
      "find: ‘/proc/27/map_files’: Permission denied\r\n",
      "find: ‘/proc/27/fdinfo’: Permission denied\r\n",
      "find: ‘/proc/27/ns’: Permission denied\r\n",
      "find: ‘/proc/28/task/28/fd’: Permission denied\r\n",
      "find: ‘/proc/28/task/28/fdinfo’: Permission denied\r\n",
      "find: ‘/proc/28/task/28/ns’: Permission denied\r\n",
      "find: ‘/proc/28/fd’: Permission denied\r\n",
      "find: ‘/proc/28/map_files’: Permission denied\r\n",
      "find: ‘/proc/28/fdinfo’: Permission denied\r\n",
      "find: ‘/proc/28/ns’: Permission denied\r\n",
      "find: ‘/proc/29/task/29/fd’: Permission denied\r\n",
      "find: ‘/proc/29/task/29/fdinfo’: Permission denied\r\n",
      "find: ‘/proc/29/task/29/ns’: Permission denied\r\n",
      "find: ‘/proc/29/fd’: Permission denied\r\n",
      "find: ‘/proc/29/map_files’: Permission denied\r\n",
      "find: ‘/proc/29/fdinfo’: Permission denied\r\n",
      "find: ‘/proc/29/ns’: Permission denied\r\n",
      "find: ‘/proc/30/task/30/fd’: Permission denied\r\n",
      "find: ‘/proc/30/task/30/fdinfo’: Permission denied\r\n",
      "find: ‘/proc/30/task/30/ns’: Permission denied\r\n",
      "find: ‘/proc/30/fd’: Permission denied\r\n",
      "find: ‘/proc/30/map_files’: Permission denied\r\n",
      "find: ‘/proc/30/fdinfo’: Permission denied\r\n",
      "find: ‘/proc/30/ns’: Permission denied\r\n",
      "find: ‘/proc/31/task/31/fd’: Permission denied\r\n",
      "find: ‘/proc/31/task/31/fdinfo’: Permission denied\r\n",
      "find: ‘/proc/31/task/31/ns’: Permission denied\r\n",
      "find: ‘/proc/31/fd’: Permission denied\r\n",
      "find: ‘/proc/31/map_files’: Permission denied\r\n",
      "find: ‘/proc/31/fdinfo’: Permission denied\r\n",
      "find: ‘/proc/31/ns’: Permission denied\r\n",
      "find: ‘/proc/32/task/32/fd’: Permission denied\r\n",
      "find: ‘/proc/32/task/32/fdinfo’: Permission denied\r\n",
      "find: ‘/proc/32/task/32/ns’: Permission denied\r\n",
      "find: ‘/proc/32/fd’: Permission denied\r\n",
      "find: ‘/proc/32/map_files’: Permission denied\r\n",
      "find: ‘/proc/32/fdinfo’: Permission denied\r\n",
      "find: ‘/proc/32/ns’: Permission denied\r\n",
      "find: ‘/proc/33/task/33/fd’: Permission denied\r\n",
      "find: ‘/proc/33/task/33/fdinfo’: Permission denied\r\n",
      "find: ‘/proc/33/task/33/ns’: Permission denied\r\n",
      "find: ‘/proc/33/fd’: Permission denied\r\n",
      "find: ‘/proc/33/map_files’: Permission denied\r\n",
      "find: ‘/proc/33/fdinfo’: Permission denied\r\n",
      "find: ‘/proc/33/ns’: Permission denied\r\n",
      "find: ‘/proc/34/task/34/fd’: Permission denied\r\n",
      "find: ‘/proc/34/task/34/fdinfo’: Permission denied\r\n",
      "find: ‘/proc/34/task/34/ns’: Permission denied\r\n",
      "find: ‘/proc/34/fd’: Permission denied\r\n",
      "find: ‘/proc/34/map_files’: Permission denied\r\n",
      "find: ‘/proc/34/fdinfo’: Permission denied\r\n",
      "find: ‘/proc/34/ns’: Permission denied\r\n",
      "find: ‘/proc/35/task/35/fd’: Permission denied\r\n",
      "find: ‘/proc/35/task/35/fdinfo’: Permission denied\r\n",
      "find: ‘/proc/35/task/35/ns’: Permission denied\r\n",
      "find: ‘/proc/35/fd’: Permission denied\r\n",
      "find: ‘/proc/35/map_files’: Permission denied\r\n",
      "find: ‘/proc/35/fdinfo’: Permission denied\r\n",
      "find: ‘/proc/35/ns’: Permission denied\r\n",
      "find: ‘/proc/36/task/36/fd’: Permission denied\r\n",
      "find: ‘/proc/36/task/36/fdinfo’: Permission denied\r\n",
      "find: ‘/proc/36/task/36/ns’: Permission denied\r\n",
      "find: ‘/proc/36/fd’: Permission denied\r\n",
      "find: ‘/proc/36/map_files’: Permission denied\r\n",
      "find: ‘/proc/36/fdinfo’: Permission denied\r\n",
      "find: ‘/proc/36/ns’: Permission denied\r\n",
      "find: ‘/proc/37/task/37/fd’: Permission denied\r\n",
      "find: ‘/proc/37/task/37/fdinfo’: Permission denied\r\n",
      "find: ‘/proc/37/task/37/ns’: Permission denied\r\n",
      "find: ‘/proc/37/fd’: Permission denied\r\n",
      "find: ‘/proc/37/map_files’: Permission denied\r\n",
      "find: ‘/proc/37/fdinfo’: Permission denied\r\n",
      "find: ‘/proc/37/ns’: Permission denied\r\n",
      "find: ‘/proc/38/task/38/fd’: Permission denied\r\n",
      "find: ‘/proc/38/task/38/fdinfo’: Permission denied\r\n",
      "find: ‘/proc/38/task/38/ns’: Permission denied\r\n",
      "find: ‘/proc/38/fd’: Permission denied\r\n",
      "find: ‘/proc/38/map_files’: Permission denied\r\n",
      "find: ‘/proc/38/fdinfo’: Permission denied\r\n",
      "find: ‘/proc/38/ns’: Permission denied\r\n",
      "find: ‘/proc/39/task/39/fd’: Permission denied\r\n",
      "find: ‘/proc/39/task/39/fdinfo’: Permission denied\r\n",
      "find: ‘/proc/39/task/39/ns’: Permission denied\r\n",
      "find: ‘/proc/39/fd’: Permission denied\r\n",
      "find: ‘/proc/39/map_files’: Permission denied\r\n",
      "find: ‘/proc/39/fdinfo’: Permission denied\r\n",
      "find: ‘/proc/39/ns’: Permission denied\r\n",
      "find: ‘/proc/40/task/40/fd’: Permission denied\r\n",
      "find: ‘/proc/40/task/40/fdinfo’: Permission denied\r\n",
      "find: ‘/proc/40/task/40/ns’: Permission denied\r\n",
      "find: ‘/proc/40/fd’: Permission denied\r\n",
      "find: ‘/proc/40/map_files’: Permission denied\r\n",
      "find: ‘/proc/40/fdinfo’: Permission denied\r\n",
      "find: ‘/proc/40/ns’: Permission denied\r\n",
      "find: ‘/proc/41/task/41/fd’: Permission denied\r\n",
      "find: ‘/proc/41/task/41/fdinfo’: Permission denied\r\n",
      "find: ‘/proc/41/task/41/ns’: Permission denied\r\n",
      "find: ‘/proc/41/fd’: Permission denied\r\n",
      "find: ‘/proc/41/map_files’: Permission denied\r\n",
      "find: ‘/proc/41/fdinfo’: Permission denied\r\n",
      "find: ‘/proc/41/ns’: Permission denied\r\n",
      "find: ‘/proc/42/task/42/fd’: Permission denied\r\n",
      "find: ‘/proc/42/task/42/fdinfo’: Permission denied\r\n"
     ]
    },
    {
     "name": "stdout",
     "output_type": "stream",
     "text": [
      "find: ‘/proc/42/task/42/ns’: Permission denied\r\n",
      "find: ‘/proc/42/fd’: Permission denied\r\n",
      "find: ‘/proc/42/map_files’: Permission denied\r\n",
      "find: ‘/proc/42/fdinfo’: Permission denied\r\n",
      "find: ‘/proc/42/ns’: Permission denied\r\n",
      "find: ‘/proc/43/task/43/fd’: Permission denied\r\n",
      "find: ‘/proc/43/task/43/fdinfo’: Permission denied\r\n",
      "find: ‘/proc/43/task/43/ns’: Permission denied\r\n",
      "find: ‘/proc/43/fd’: Permission denied\r\n",
      "find: ‘/proc/43/map_files’: Permission denied\r\n",
      "find: ‘/proc/43/fdinfo’: Permission denied\r\n",
      "find: ‘/proc/43/ns’: Permission denied\r\n",
      "find: ‘/proc/44/task/44/fd’: Permission denied\r\n",
      "find: ‘/proc/44/task/44/fdinfo’: Permission denied\r\n",
      "find: ‘/proc/44/task/44/ns’: Permission denied\r\n",
      "find: ‘/proc/44/fd’: Permission denied\r\n",
      "find: ‘/proc/44/map_files’: Permission denied\r\n",
      "find: ‘/proc/44/fdinfo’: Permission denied\r\n",
      "find: ‘/proc/44/ns’: Permission denied\r\n",
      "find: ‘/proc/45/task/45/fd’: Permission denied\r\n",
      "find: ‘/proc/45/task/45/fdinfo’: Permission denied\r\n",
      "find: ‘/proc/45/task/45/ns’: Permission denied\r\n",
      "find: ‘/proc/45/fd’: Permission denied\r\n",
      "find: ‘/proc/45/map_files’: Permission denied\r\n",
      "find: ‘/proc/45/fdinfo’: Permission denied\r\n",
      "find: ‘/proc/45/ns’: Permission denied\r\n",
      "find: ‘/proc/46/task/46/fd’: Permission denied\r\n",
      "find: ‘/proc/46/task/46/fdinfo’: Permission denied\r\n",
      "find: ‘/proc/46/task/46/ns’: Permission denied\r\n",
      "find: ‘/proc/46/fd’: Permission denied\r\n",
      "find: ‘/proc/46/map_files’: Permission denied\r\n",
      "find: ‘/proc/46/fdinfo’: Permission denied\r\n",
      "find: ‘/proc/46/ns’: Permission denied\r\n",
      "find: ‘/proc/47/task/47/fd’: Permission denied\r\n",
      "find: ‘/proc/47/task/47/fdinfo’: Permission denied\r\n",
      "find: ‘/proc/47/task/47/ns’: Permission denied\r\n",
      "find: ‘/proc/47/fd’: Permission denied\r\n",
      "find: ‘/proc/47/map_files’: Permission denied\r\n",
      "find: ‘/proc/47/fdinfo’: Permission denied\r\n",
      "find: ‘/proc/47/ns’: Permission denied\r\n",
      "find: ‘/proc/48/task/48/fd’: Permission denied\r\n",
      "find: ‘/proc/48/task/48/fdinfo’: Permission denied\r\n",
      "find: ‘/proc/48/task/48/ns’: Permission denied\r\n",
      "find: ‘/proc/48/fd’: Permission denied\r\n",
      "find: ‘/proc/48/map_files’: Permission denied\r\n",
      "find: ‘/proc/48/fdinfo’: Permission denied\r\n",
      "find: ‘/proc/48/ns’: Permission denied\r\n",
      "find: ‘/proc/49/task/49/fd’: Permission denied\r\n",
      "find: ‘/proc/49/task/49/fdinfo’: Permission denied\r\n",
      "find: ‘/proc/49/task/49/ns’: Permission denied\r\n",
      "find: ‘/proc/49/fd’: Permission denied\r\n",
      "find: ‘/proc/49/map_files’: Permission denied\r\n",
      "find: ‘/proc/49/fdinfo’: Permission denied\r\n",
      "find: ‘/proc/49/ns’: Permission denied\r\n",
      "find: ‘/proc/50/task/50/fd’: Permission denied\r\n",
      "find: ‘/proc/50/task/50/fdinfo’: Permission denied\r\n",
      "find: ‘/proc/50/task/50/ns’: Permission denied\r\n",
      "find: ‘/proc/50/fd’: Permission denied\r\n",
      "find: ‘/proc/50/map_files’: Permission denied\r\n",
      "find: ‘/proc/50/fdinfo’: Permission denied\r\n",
      "find: ‘/proc/50/ns’: Permission denied\r\n",
      "find: ‘/proc/51/task/51/fd’: Permission denied\r\n",
      "find: ‘/proc/51/task/51/fdinfo’: Permission denied\r\n",
      "find: ‘/proc/51/task/51/ns’: Permission denied\r\n",
      "find: ‘/proc/51/fd’: Permission denied\r\n",
      "find: ‘/proc/51/map_files’: Permission denied\r\n",
      "find: ‘/proc/51/fdinfo’: Permission denied\r\n",
      "find: ‘/proc/51/ns’: Permission denied\r\n",
      "find: ‘/proc/52/task/52/fd’: Permission denied\r\n",
      "find: ‘/proc/52/task/52/fdinfo’: Permission denied\r\n",
      "find: ‘/proc/52/task/52/ns’: Permission denied\r\n",
      "find: ‘/proc/52/fd’: Permission denied\r\n",
      "find: ‘/proc/52/map_files’: Permission denied\r\n",
      "find: ‘/proc/52/fdinfo’: Permission denied\r\n",
      "find: ‘/proc/52/ns’: Permission denied\r\n",
      "find: ‘/proc/53/task/53/fd’: Permission denied\r\n",
      "find: ‘/proc/53/task/53/fdinfo’: Permission denied\r\n",
      "find: ‘/proc/53/task/53/ns’: Permission denied\r\n",
      "find: ‘/proc/53/fd’: Permission denied\r\n",
      "find: ‘/proc/53/map_files’: Permission denied\r\n",
      "find: ‘/proc/53/fdinfo’: Permission denied\r\n",
      "find: ‘/proc/53/ns’: Permission denied\r\n",
      "find: ‘/proc/54/task/54/fd’: Permission denied\r\n",
      "find: ‘/proc/54/task/54/fdinfo’: Permission denied\r\n",
      "find: ‘/proc/54/task/54/ns’: Permission denied\r\n",
      "find: ‘/proc/54/fd’: Permission denied\r\n",
      "find: ‘/proc/54/map_files’: Permission denied\r\n",
      "find: ‘/proc/54/fdinfo’: Permission denied\r\n",
      "find: ‘/proc/54/ns’: Permission denied\r\n",
      "find: ‘/proc/55/task/55/fd’: Permission denied\r\n",
      "find: ‘/proc/55/task/55/fdinfo’: Permission denied\r\n",
      "find: ‘/proc/55/task/55/ns’: Permission denied\r\n",
      "find: ‘/proc/55/fd’: Permission denied\r\n",
      "find: ‘/proc/55/map_files’: Permission denied\r\n",
      "find: ‘/proc/55/fdinfo’: Permission denied\r\n",
      "find: ‘/proc/55/ns’: Permission denied\r\n",
      "find: ‘/proc/56/task/56/fd’: Permission denied\r\n",
      "find: ‘/proc/56/task/56/fdinfo’: Permission denied\r\n",
      "find: ‘/proc/56/task/56/ns’: Permission denied\r\n",
      "find: ‘/proc/56/fd’: Permission denied\r\n",
      "find: ‘/proc/56/map_files’: Permission denied\r\n",
      "find: ‘/proc/56/fdinfo’: Permission denied\r\n",
      "find: ‘/proc/56/ns’: Permission denied\r\n",
      "find: ‘/proc/57/task/57/fd’: Permission denied\r\n",
      "find: ‘/proc/57/task/57/fdinfo’: Permission denied\r\n",
      "find: ‘/proc/57/task/57/ns’: Permission denied\r\n",
      "find: ‘/proc/57/fd’: Permission denied\r\n",
      "find: ‘/proc/57/map_files’: Permission denied\r\n",
      "find: ‘/proc/57/fdinfo’: Permission denied\r\n",
      "find: ‘/proc/57/ns’: Permission denied\r\n",
      "find: ‘/proc/58/task/58/fd’: Permission denied\r\n",
      "find: ‘/proc/58/task/58/fdinfo’: Permission denied\r\n",
      "find: ‘/proc/58/task/58/ns’: Permission denied\r\n",
      "find: ‘/proc/58/fd’: Permission denied\r\n",
      "find: ‘/proc/58/map_files’: Permission denied\r\n",
      "find: ‘/proc/58/fdinfo’: Permission denied\r\n",
      "find: ‘/proc/58/ns’: Permission denied\r\n",
      "find: ‘/proc/59/task/59/fd’: Permission denied\r\n",
      "find: ‘/proc/59/task/59/fdinfo’: Permission denied\r\n",
      "find: ‘/proc/59/task/59/ns’: Permission denied\r\n",
      "find: ‘/proc/59/fd’: Permission denied\r\n",
      "find: ‘/proc/59/map_files’: Permission denied\r\n",
      "find: ‘/proc/59/fdinfo’: Permission denied\r\n",
      "find: ‘/proc/59/ns’: Permission denied\r\n",
      "find: ‘/proc/60/task/60/fd’: Permission denied\r\n",
      "find: ‘/proc/60/task/60/fdinfo’: Permission denied\r\n",
      "find: ‘/proc/60/task/60/ns’: Permission denied\r\n",
      "find: ‘/proc/60/fd’: Permission denied\r\n",
      "find: ‘/proc/60/map_files’: Permission denied\r\n",
      "find: ‘/proc/60/fdinfo’: Permission denied\r\n",
      "find: ‘/proc/60/ns’: Permission denied\r\n",
      "find: ‘/proc/61/task/61/fd’: Permission denied\r\n",
      "find: ‘/proc/61/task/61/fdinfo’: Permission denied\r\n",
      "find: ‘/proc/61/task/61/ns’: Permission denied\r\n",
      "find: ‘/proc/61/fd’: Permission denied\r\n",
      "find: ‘/proc/61/map_files’: Permission denied\r\n",
      "find: ‘/proc/61/fdinfo’: Permission denied\r\n",
      "find: ‘/proc/61/ns’: Permission denied\r\n",
      "find: ‘/proc/62/task/62/fd’: Permission denied\r\n",
      "find: ‘/proc/62/task/62/fdinfo’: Permission denied\r\n",
      "find: ‘/proc/62/task/62/ns’: Permission denied\r\n",
      "find: ‘/proc/62/fd’: Permission denied\r\n",
      "find: ‘/proc/62/map_files’: Permission denied\r\n",
      "find: ‘/proc/62/fdinfo’: Permission denied\r\n",
      "find: ‘/proc/62/ns’: Permission denied\r\n",
      "find: ‘/proc/63/task/63/fd’: Permission denied\r\n",
      "find: ‘/proc/63/task/63/fdinfo’: Permission denied\r\n",
      "find: ‘/proc/63/task/63/ns’: Permission denied\r\n",
      "find: ‘/proc/63/fd’: Permission denied\r\n",
      "find: ‘/proc/63/map_files’: Permission denied\r\n",
      "find: ‘/proc/63/fdinfo’: Permission denied\r\n",
      "find: ‘/proc/63/ns’: Permission denied\r\n",
      "find: ‘/proc/64/task/64/fd’: Permission denied\r\n",
      "find: ‘/proc/64/task/64/fdinfo’: Permission denied\r\n",
      "find: ‘/proc/64/task/64/ns’: Permission denied\r\n",
      "find: ‘/proc/64/fd’: Permission denied\r\n",
      "find: ‘/proc/64/map_files’: Permission denied\r\n",
      "find: ‘/proc/64/fdinfo’: Permission denied\r\n",
      "find: ‘/proc/64/ns’: Permission denied\r\n",
      "find: ‘/proc/65/task/65/fd’: Permission denied\r\n",
      "find: ‘/proc/65/task/65/fdinfo’: Permission denied\r\n",
      "find: ‘/proc/65/task/65/ns’: Permission denied\r\n",
      "find: ‘/proc/65/fd’: Permission denied\r\n",
      "find: ‘/proc/65/map_files’: Permission denied\r\n",
      "find: ‘/proc/65/fdinfo’: Permission denied\r\n",
      "find: ‘/proc/65/ns’: Permission denied\r\n",
      "find: ‘/proc/66/task/66/fd’: Permission denied\r\n",
      "find: ‘/proc/66/task/66/fdinfo’: Permission denied\r\n",
      "find: ‘/proc/66/task/66/ns’: Permission denied\r\n",
      "find: ‘/proc/66/fd’: Permission denied\r\n",
      "find: ‘/proc/66/map_files’: Permission denied\r\n",
      "find: ‘/proc/66/fdinfo’: Permission denied\r\n",
      "find: ‘/proc/66/ns’: Permission denied\r\n",
      "find: ‘/proc/67/task/67/fd’: Permission denied\r\n",
      "find: ‘/proc/67/task/67/fdinfo’: Permission denied\r\n",
      "find: ‘/proc/67/task/67/ns’: Permission denied\r\n",
      "find: ‘/proc/67/fd’: Permission denied\r\n",
      "find: ‘/proc/67/map_files’: Permission denied\r\n",
      "find: ‘/proc/67/fdinfo’: Permission denied\r\n",
      "find: ‘/proc/67/ns’: Permission denied\r\n",
      "find: ‘/proc/68/task/68/fd’: Permission denied\r\n",
      "find: ‘/proc/68/task/68/fdinfo’: Permission denied\r\n",
      "find: ‘/proc/68/task/68/ns’: Permission denied\r\n",
      "find: ‘/proc/68/fd’: Permission denied\r\n",
      "find: ‘/proc/68/map_files’: Permission denied\r\n",
      "find: ‘/proc/68/fdinfo’: Permission denied\r\n",
      "find: ‘/proc/68/ns’: Permission denied\r\n",
      "find: ‘/proc/69/task/69/fd’: Permission denied\r\n",
      "find: ‘/proc/69/task/69/fdinfo’: Permission denied\r\n",
      "find: ‘/proc/69/task/69/ns’: Permission denied\r\n",
      "find: ‘/proc/69/fd’: Permission denied\r\n",
      "find: ‘/proc/69/map_files’: Permission denied\r\n",
      "find: ‘/proc/69/fdinfo’: Permission denied\r\n",
      "find: ‘/proc/69/ns’: Permission denied\r\n",
      "find: ‘/proc/70/task/70/fd’: Permission denied\r\n",
      "find: ‘/proc/70/task/70/fdinfo’: Permission denied\r\n",
      "find: ‘/proc/70/task/70/ns’: Permission denied\r\n",
      "find: ‘/proc/70/fd’: Permission denied\r\n",
      "find: ‘/proc/70/map_files’: Permission denied\r\n",
      "find: ‘/proc/70/fdinfo’: Permission denied\r\n",
      "find: ‘/proc/70/ns’: Permission denied\r\n",
      "find: ‘/proc/71/task/71/fd’: Permission denied\r\n",
      "find: ‘/proc/71/task/71/fdinfo’: Permission denied\r\n",
      "find: ‘/proc/71/task/71/ns’: Permission denied\r\n",
      "find: ‘/proc/71/fd’: Permission denied\r\n",
      "find: ‘/proc/71/map_files’: Permission denied\r\n",
      "find: ‘/proc/71/fdinfo’: Permission denied\r\n",
      "find: ‘/proc/71/ns’: Permission denied\r\n",
      "find: ‘/proc/72/task/72/fd’: Permission denied\r\n",
      "find: ‘/proc/72/task/72/fdinfo’: Permission denied\r\n",
      "find: ‘/proc/72/task/72/ns’: Permission denied\r\n",
      "find: ‘/proc/72/fd’: Permission denied\r\n",
      "find: ‘/proc/72/map_files’: Permission denied\r\n",
      "find: ‘/proc/72/fdinfo’: Permission denied\r\n",
      "find: ‘/proc/72/ns’: Permission denied\r\n",
      "find: ‘/proc/73/task/73/fd’: Permission denied\r\n",
      "find: ‘/proc/73/task/73/fdinfo’: Permission denied\r\n",
      "find: ‘/proc/73/task/73/ns’: Permission denied\r\n",
      "find: ‘/proc/73/fd’: Permission denied\r\n",
      "find: ‘/proc/73/map_files’: Permission denied\r\n",
      "find: ‘/proc/73/fdinfo’: Permission denied\r\n",
      "find: ‘/proc/73/ns’: Permission denied\r\n",
      "find: ‘/proc/74/task/74/fd’: Permission denied\r\n",
      "find: ‘/proc/74/task/74/fdinfo’: Permission denied\r\n",
      "find: ‘/proc/74/task/74/ns’: Permission denied\r\n",
      "find: ‘/proc/74/fd’: Permission denied\r\n",
      "find: ‘/proc/74/map_files’: Permission denied\r\n",
      "find: ‘/proc/74/fdinfo’: Permission denied\r\n",
      "find: ‘/proc/74/ns’: Permission denied\r\n",
      "find: ‘/proc/75/task/75/fd’: Permission denied\r\n",
      "find: ‘/proc/75/task/75/fdinfo’: Permission denied\r\n",
      "find: ‘/proc/75/task/75/ns’: Permission denied\r\n",
      "find: ‘/proc/75/fd’: Permission denied\r\n",
      "find: ‘/proc/75/map_files’: Permission denied\r\n",
      "find: ‘/proc/75/fdinfo’: Permission denied\r\n",
      "find: ‘/proc/75/ns’: Permission denied\r\n",
      "find: ‘/proc/76/task/76/fd’: Permission denied\r\n",
      "find: ‘/proc/76/task/76/fdinfo’: Permission denied\r\n",
      "find: ‘/proc/76/task/76/ns’: Permission denied\r\n",
      "find: ‘/proc/76/fd’: Permission denied\r\n",
      "find: ‘/proc/76/map_files’: Permission denied\r\n",
      "find: ‘/proc/76/fdinfo’: Permission denied\r\n",
      "find: ‘/proc/76/ns’: Permission denied\r\n",
      "find: ‘/proc/77/task/77/fd’: Permission denied\r\n",
      "find: ‘/proc/77/task/77/fdinfo’: Permission denied\r\n",
      "find: ‘/proc/77/task/77/ns’: Permission denied\r\n",
      "find: ‘/proc/77/fd’: Permission denied\r\n",
      "find: ‘/proc/77/map_files’: Permission denied\r\n",
      "find: ‘/proc/77/fdinfo’: Permission denied\r\n",
      "find: ‘/proc/77/ns’: Permission denied\r\n",
      "find: ‘/proc/78/task/78/fd’: Permission denied\r\n",
      "find: ‘/proc/78/task/78/fdinfo’: Permission denied\r\n",
      "find: ‘/proc/78/task/78/ns’: Permission denied\r\n",
      "find: ‘/proc/78/fd’: Permission denied\r\n",
      "find: ‘/proc/78/map_files’: Permission denied\r\n",
      "find: ‘/proc/78/fdinfo’: Permission denied\r\n",
      "find: ‘/proc/78/ns’: Permission denied\r\n",
      "find: ‘/proc/79/task/79/fd’: Permission denied\r\n",
      "find: ‘/proc/79/task/79/fdinfo’: Permission denied\r\n",
      "find: ‘/proc/79/task/79/ns’: Permission denied\r\n",
      "find: ‘/proc/79/fd’: Permission denied\r\n",
      "find: ‘/proc/79/map_files’: Permission denied\r\n",
      "find: ‘/proc/79/fdinfo’: Permission denied\r\n",
      "find: ‘/proc/79/ns’: Permission denied\r\n",
      "find: ‘/proc/80/task/80/fd’: Permission denied\r\n",
      "find: ‘/proc/80/task/80/fdinfo’: Permission denied\r\n",
      "find: ‘/proc/80/task/80/ns’: Permission denied\r\n",
      "find: ‘/proc/80/fd’: Permission denied\r\n",
      "find: ‘/proc/80/map_files’: Permission denied\r\n",
      "find: ‘/proc/80/fdinfo’: Permission denied\r\n",
      "find: ‘/proc/80/ns’: Permission denied\r\n",
      "find: ‘/proc/81/task/81/fd’: Permission denied\r\n",
      "find: ‘/proc/81/task/81/fdinfo’: Permission denied\r\n",
      "find: ‘/proc/81/task/81/ns’: Permission denied\r\n",
      "find: ‘/proc/81/fd’: Permission denied\r\n",
      "find: ‘/proc/81/map_files’: Permission denied\r\n",
      "find: ‘/proc/81/fdinfo’: Permission denied\r\n",
      "find: ‘/proc/81/ns’: Permission denied\r\n",
      "find: ‘/proc/82/task/82/fd’: Permission denied\r\n",
      "find: ‘/proc/82/task/82/fdinfo’: Permission denied\r\n",
      "find: ‘/proc/82/task/82/ns’: Permission denied\r\n",
      "find: ‘/proc/82/fd’: Permission denied\r\n",
      "find: ‘/proc/82/map_files’: Permission denied\r\n",
      "find: ‘/proc/82/fdinfo’: Permission denied\r\n",
      "find: ‘/proc/82/ns’: Permission denied\r\n",
      "find: ‘/proc/83/task/83/fd’: Permission denied\r\n",
      "find: ‘/proc/83/task/83/fdinfo’: Permission denied\r\n",
      "find: ‘/proc/83/task/83/ns’: Permission denied\r\n",
      "find: ‘/proc/83/fd’: Permission denied\r\n",
      "find: ‘/proc/83/map_files’: Permission denied\r\n",
      "find: ‘/proc/83/fdinfo’: Permission denied\r\n",
      "find: ‘/proc/83/ns’: Permission denied\r\n",
      "find: ‘/proc/84/task/84/fd’: Permission denied\r\n",
      "find: ‘/proc/84/task/84/fdinfo’: Permission denied\r\n",
      "find: ‘/proc/84/task/84/ns’: Permission denied\r\n",
      "find: ‘/proc/84/fd’: Permission denied\r\n",
      "find: ‘/proc/84/map_files’: Permission denied\r\n",
      "find: ‘/proc/84/fdinfo’: Permission denied\r\n",
      "find: ‘/proc/84/ns’: Permission denied\r\n",
      "find: ‘/proc/85/task/85/fd’: Permission denied\r\n",
      "find: ‘/proc/85/task/85/fdinfo’: Permission denied\r\n",
      "find: ‘/proc/85/task/85/ns’: Permission denied\r\n",
      "find: ‘/proc/85/fd’: Permission denied\r\n",
      "find: ‘/proc/85/map_files’: Permission denied\r\n",
      "find: ‘/proc/85/fdinfo’: Permission denied\r\n",
      "find: ‘/proc/85/ns’: Permission denied\r\n",
      "find: ‘/proc/86/task/86/fd’: Permission denied\r\n",
      "find: ‘/proc/86/task/86/fdinfo’: Permission denied\r\n",
      "find: ‘/proc/86/task/86/ns’: Permission denied\r\n",
      "find: ‘/proc/86/fd’: Permission denied\r\n",
      "find: ‘/proc/86/map_files’: Permission denied\r\n",
      "find: ‘/proc/86/fdinfo’: Permission denied\r\n",
      "find: ‘/proc/86/ns’: Permission denied\r\n",
      "find: ‘/proc/87/task/87/fd’: Permission denied\r\n",
      "find: ‘/proc/87/task/87/fdinfo’: Permission denied\r\n",
      "find: ‘/proc/87/task/87/ns’: Permission denied\r\n",
      "find: ‘/proc/87/fd’: Permission denied\r\n",
      "find: ‘/proc/87/map_files’: Permission denied\r\n",
      "find: ‘/proc/87/fdinfo’: Permission denied\r\n",
      "find: ‘/proc/87/ns’: Permission denied\r\n",
      "find: ‘/proc/88/task/88/fd’: Permission denied\r\n",
      "find: ‘/proc/88/task/88/fdinfo’: Permission denied\r\n",
      "find: ‘/proc/88/task/88/ns’: Permission denied\r\n",
      "find: ‘/proc/88/fd’: Permission denied\r\n",
      "find: ‘/proc/88/map_files’: Permission denied\r\n",
      "find: ‘/proc/88/fdinfo’: Permission denied\r\n",
      "find: ‘/proc/88/ns’: Permission denied\r\n",
      "find: ‘/proc/89/task/89/fd’: Permission denied\r\n",
      "find: ‘/proc/89/task/89/fdinfo’: Permission denied\r\n",
      "find: ‘/proc/89/task/89/ns’: Permission denied\r\n",
      "find: ‘/proc/89/fd’: Permission denied\r\n",
      "find: ‘/proc/89/map_files’: Permission denied\r\n",
      "find: ‘/proc/89/fdinfo’: Permission denied\r\n",
      "find: ‘/proc/89/ns’: Permission denied\r\n",
      "find: ‘/proc/96/task/96/fd’: Permission denied\r\n",
      "find: ‘/proc/96/task/96/fdinfo’: Permission denied\r\n",
      "find: ‘/proc/96/task/96/ns’: Permission denied\r\n",
      "find: ‘/proc/96/fd’: Permission denied\r\n",
      "find: ‘/proc/96/map_files’: Permission denied\r\n",
      "find: ‘/proc/96/fdinfo’: Permission denied\r\n",
      "find: ‘/proc/96/ns’: Permission denied\r\n",
      "find: ‘/proc/97/task/97/fd’: Permission denied\r\n",
      "find: ‘/proc/97/task/97/fdinfo’: Permission denied\r\n",
      "find: ‘/proc/97/task/97/ns’: Permission denied\r\n",
      "find: ‘/proc/97/fd’: Permission denied\r\n",
      "find: ‘/proc/97/map_files’: Permission denied\r\n",
      "find: ‘/proc/97/fdinfo’: Permission denied\r\n",
      "find: ‘/proc/97/ns’: Permission denied\r\n",
      "find: ‘/proc/99/task/99/fd’: Permission denied\r\n",
      "find: ‘/proc/99/task/99/fdinfo’: Permission denied\r\n",
      "find: ‘/proc/99/task/99/ns’: Permission denied\r\n",
      "find: ‘/proc/99/fd’: Permission denied\r\n",
      "find: ‘/proc/99/map_files’: Permission denied\r\n",
      "find: ‘/proc/99/fdinfo’: Permission denied\r\n",
      "find: ‘/proc/99/ns’: Permission denied\r\n",
      "find: ‘/proc/100/task/100/fd’: Permission denied\r\n",
      "find: ‘/proc/100/task/100/fdinfo’: Permission denied\r\n",
      "find: ‘/proc/100/task/100/ns’: Permission denied\r\n",
      "find: ‘/proc/100/fd’: Permission denied\r\n",
      "find: ‘/proc/100/map_files’: Permission denied\r\n",
      "find: ‘/proc/100/fdinfo’: Permission denied\r\n",
      "find: ‘/proc/100/ns’: Permission denied\r\n",
      "find: ‘/proc/104/task/104/fd’: Permission denied\r\n",
      "find: ‘/proc/104/task/104/fdinfo’: Permission denied\r\n",
      "find: ‘/proc/104/task/104/ns’: Permission denied\r\n",
      "find: ‘/proc/104/fd’: Permission denied\r\n",
      "find: ‘/proc/104/map_files’: Permission denied\r\n",
      "find: ‘/proc/104/fdinfo’: Permission denied\r\n",
      "find: ‘/proc/104/ns’: Permission denied\r\n",
      "find: ‘/proc/105/task/105/fd’: Permission denied\r\n",
      "find: ‘/proc/105/task/105/fdinfo’: Permission denied\r\n",
      "find: ‘/proc/105/task/105/ns’: Permission denied\r\n",
      "find: ‘/proc/105/fd’: Permission denied\r\n",
      "find: ‘/proc/105/map_files’: Permission denied\r\n",
      "find: ‘/proc/105/fdinfo’: Permission denied\r\n",
      "find: ‘/proc/105/ns’: Permission denied\r\n",
      "find: ‘/proc/106/task/106/fd’: Permission denied\r\n",
      "find: ‘/proc/106/task/106/fdinfo’: Permission denied\r\n",
      "find: ‘/proc/106/task/106/ns’: Permission denied\r\n",
      "find: ‘/proc/106/fd’: Permission denied\r\n",
      "find: ‘/proc/106/map_files’: Permission denied\r\n",
      "find: ‘/proc/106/fdinfo’: Permission denied\r\n",
      "find: ‘/proc/106/ns’: Permission denied\r\n",
      "find: ‘/proc/107/task/107/fd’: Permission denied\r\n",
      "find: ‘/proc/107/task/107/fdinfo’: Permission denied\r\n",
      "find: ‘/proc/107/task/107/ns’: Permission denied\r\n",
      "find: ‘/proc/107/fd’: Permission denied\r\n",
      "find: ‘/proc/107/map_files’: Permission denied\r\n",
      "find: ‘/proc/107/fdinfo’: Permission denied\r\n",
      "find: ‘/proc/107/ns’: Permission denied\r\n",
      "find: ‘/proc/151/task/151/fd’: Permission denied\r\n",
      "find: ‘/proc/151/task/151/fdinfo’: Permission denied\r\n",
      "find: ‘/proc/151/task/151/ns’: Permission denied\r\n",
      "find: ‘/proc/151/fd’: Permission denied\r\n",
      "find: ‘/proc/151/map_files’: Permission denied\r\n",
      "find: ‘/proc/151/fdinfo’: Permission denied\r\n",
      "find: ‘/proc/151/ns’: Permission denied\r\n",
      "find: ‘/proc/163/task/163/fd’: Permission denied\r\n",
      "find: ‘/proc/163/task/163/fdinfo’: Permission denied\r\n",
      "find: ‘/proc/163/task/163/ns’: Permission denied\r\n",
      "find: ‘/proc/163/fd’: Permission denied\r\n",
      "find: ‘/proc/163/map_files’: Permission denied\r\n",
      "find: ‘/proc/163/fdinfo’: Permission denied\r\n",
      "find: ‘/proc/163/ns’: Permission denied\r\n",
      "find: ‘/proc/184/task/184/fd’: Permission denied\r\n",
      "find: ‘/proc/184/task/184/fdinfo’: Permission denied\r\n",
      "find: ‘/proc/184/task/184/ns’: Permission denied\r\n",
      "find: ‘/proc/184/fd’: Permission denied\r\n",
      "find: ‘/proc/184/map_files’: Permission denied\r\n",
      "find: ‘/proc/184/fdinfo’: Permission denied\r\n",
      "find: ‘/proc/184/ns’: Permission denied\r\n",
      "find: ‘/proc/185/task/185/fd’: Permission denied\r\n",
      "find: ‘/proc/185/task/185/fdinfo’: Permission denied\r\n",
      "find: ‘/proc/185/task/185/ns’: Permission denied\r\n",
      "find: ‘/proc/185/fd’: Permission denied\r\n",
      "find: ‘/proc/185/map_files’: Permission denied\r\n",
      "find: ‘/proc/185/fdinfo’: Permission denied\r\n",
      "find: ‘/proc/185/ns’: Permission denied\r\n",
      "find: ‘/proc/189/task/189/fd’: Permission denied\r\n",
      "find: ‘/proc/189/task/189/fdinfo’: Permission denied\r\n",
      "find: ‘/proc/189/task/189/ns’: Permission denied\r\n",
      "find: ‘/proc/189/fd’: Permission denied\r\n",
      "find: ‘/proc/189/map_files’: Permission denied\r\n",
      "find: ‘/proc/189/fdinfo’: Permission denied\r\n",
      "find: ‘/proc/189/ns’: Permission denied\r\n",
      "find: ‘/proc/190/task/190/fd’: Permission denied\r\n",
      "find: ‘/proc/190/task/190/fdinfo’: Permission denied\r\n",
      "find: ‘/proc/190/task/190/ns’: Permission denied\r\n",
      "find: ‘/proc/190/fd’: Permission denied\r\n",
      "find: ‘/proc/190/map_files’: Permission denied\r\n",
      "find: ‘/proc/190/fdinfo’: Permission denied\r\n",
      "find: ‘/proc/190/ns’: Permission denied\r\n",
      "find: ‘/proc/191/task/191/fd’: Permission denied\r\n",
      "find: ‘/proc/191/task/191/fdinfo’: Permission denied\r\n",
      "find: ‘/proc/191/task/191/ns’: Permission denied\r\n",
      "find: ‘/proc/191/fd’: Permission denied\r\n",
      "find: ‘/proc/191/map_files’: Permission denied\r\n",
      "find: ‘/proc/191/fdinfo’: Permission denied\r\n",
      "find: ‘/proc/191/ns’: Permission denied\r\n",
      "find: ‘/proc/192/task/192/fd’: Permission denied\r\n",
      "find: ‘/proc/192/task/192/fdinfo’: Permission denied\r\n",
      "find: ‘/proc/192/task/192/ns’: Permission denied\r\n",
      "find: ‘/proc/192/task/196/fd’: Permission denied\r\n",
      "find: ‘/proc/192/task/196/fdinfo’: Permission denied\r\n",
      "find: ‘/proc/192/task/196/ns’: Permission denied\r\n",
      "find: ‘/proc/192/task/197/fd’: Permission denied\r\n",
      "find: ‘/proc/192/task/197/fdinfo’: Permission denied\r\n",
      "find: ‘/proc/192/task/197/ns’: Permission denied\r\n",
      "find: ‘/proc/192/task/198/fd’: Permission denied\r\n",
      "find: ‘/proc/192/task/198/fdinfo’: Permission denied\r\n",
      "find: ‘/proc/192/task/198/ns’: Permission denied\r\n",
      "find: ‘/proc/192/task/199/fd’: Permission denied\r\n",
      "find: ‘/proc/192/task/199/fdinfo’: Permission denied\r\n",
      "find: ‘/proc/192/task/199/ns’: Permission denied\r\n",
      "find: ‘/proc/192/task/200/fd’: Permission denied\r\n",
      "find: ‘/proc/192/task/200/fdinfo’: Permission denied\r\n",
      "find: ‘/proc/192/task/200/ns’: Permission denied\r\n",
      "find: ‘/proc/192/task/201/fd’: Permission denied\r\n",
      "find: ‘/proc/192/task/201/fdinfo’: Permission denied\r\n",
      "find: ‘/proc/192/task/201/ns’: Permission denied\r\n",
      "find: ‘/proc/192/fd’: Permission denied\r\n",
      "find: ‘/proc/192/map_files’: Permission denied\r\n",
      "find: ‘/proc/192/fdinfo’: Permission denied\r\n",
      "find: ‘/proc/192/ns’: Permission denied\r\n",
      "find: ‘/proc/202/task/202/fd’: Permission denied\r\n",
      "find: ‘/proc/202/task/202/fdinfo’: Permission denied\r\n",
      "find: ‘/proc/202/task/202/ns’: Permission denied\r\n",
      "find: ‘/proc/202/fd’: Permission denied\r\n",
      "find: ‘/proc/202/map_files’: Permission denied\r\n",
      "find: ‘/proc/202/fdinfo’: Permission denied\r\n",
      "find: ‘/proc/202/ns’: Permission denied\r\n",
      "find: ‘/proc/203/task/203/fd’: Permission denied\r\n",
      "find: ‘/proc/203/task/203/fdinfo’: Permission denied\r\n",
      "find: ‘/proc/203/task/203/ns’: Permission denied\r\n",
      "find: ‘/proc/203/fd’: Permission denied\r\n",
      "find: ‘/proc/203/map_files’: Permission denied\r\n",
      "find: ‘/proc/203/fdinfo’: Permission denied\r\n",
      "find: ‘/proc/203/ns’: Permission denied\r\n",
      "find: ‘/proc/204/task/204/fd’: Permission denied\r\n",
      "find: ‘/proc/204/task/204/fdinfo’: Permission denied\r\n",
      "find: ‘/proc/204/task/204/ns’: Permission denied\r\n",
      "find: ‘/proc/204/fd’: Permission denied\r\n",
      "find: ‘/proc/204/map_files’: Permission denied\r\n",
      "find: ‘/proc/204/fdinfo’: Permission denied\r\n",
      "find: ‘/proc/204/ns’: Permission denied\r\n",
      "find: ‘/proc/205/task/205/fd’: Permission denied\r\n",
      "find: ‘/proc/205/task/205/fdinfo’: Permission denied\r\n",
      "find: ‘/proc/205/task/205/ns’: Permission denied\r\n",
      "find: ‘/proc/205/fd’: Permission denied\r\n",
      "find: ‘/proc/205/map_files’: Permission denied\r\n",
      "find: ‘/proc/205/fdinfo’: Permission denied\r\n",
      "find: ‘/proc/205/ns’: Permission denied\r\n",
      "find: ‘/proc/206/task/206/fd’: Permission denied\r\n",
      "find: ‘/proc/206/task/206/fdinfo’: Permission denied\r\n",
      "find: ‘/proc/206/task/206/ns’: Permission denied\r\n"
     ]
    },
    {
     "name": "stdout",
     "output_type": "stream",
     "text": [
      "find: ‘/proc/206/fd’: Permission denied\r\n",
      "find: ‘/proc/206/map_files’: Permission denied\r\n",
      "find: ‘/proc/206/fdinfo’: Permission denied\r\n",
      "find: ‘/proc/206/ns’: Permission denied\r\n",
      "find: ‘/proc/250/task/250/fd’: Permission denied\r\n",
      "find: ‘/proc/250/task/250/fdinfo’: Permission denied\r\n",
      "find: ‘/proc/250/task/250/ns’: Permission denied\r\n",
      "find: ‘/proc/250/fd’: Permission denied\r\n",
      "find: ‘/proc/250/map_files’: Permission denied\r\n",
      "find: ‘/proc/250/fdinfo’: Permission denied\r\n",
      "find: ‘/proc/250/ns’: Permission denied\r\n",
      "find: ‘/proc/273/task/273/fd’: Permission denied\r\n",
      "find: ‘/proc/273/task/273/fdinfo’: Permission denied\r\n",
      "find: ‘/proc/273/task/273/ns’: Permission denied\r\n",
      "find: ‘/proc/273/fd’: Permission denied\r\n",
      "find: ‘/proc/273/map_files’: Permission denied\r\n",
      "find: ‘/proc/273/fdinfo’: Permission denied\r\n",
      "find: ‘/proc/273/ns’: Permission denied\r\n",
      "find: ‘/proc/346/task/346/fd’: Permission denied\r\n",
      "find: ‘/proc/346/task/346/fdinfo’: Permission denied\r\n",
      "find: ‘/proc/346/task/346/ns’: Permission denied\r\n",
      "find: ‘/proc/346/fd’: Permission denied\r\n",
      "find: ‘/proc/346/map_files’: Permission denied\r\n",
      "find: ‘/proc/346/fdinfo’: Permission denied\r\n",
      "find: ‘/proc/346/ns’: Permission denied\r\n",
      "find: ‘/proc/387/task/387/fd’: Permission denied\r\n",
      "find: ‘/proc/387/task/387/fdinfo’: Permission denied\r\n",
      "find: ‘/proc/387/task/387/ns’: Permission denied\r\n",
      "find: ‘/proc/387/fd’: Permission denied\r\n",
      "find: ‘/proc/387/map_files’: Permission denied\r\n",
      "find: ‘/proc/387/fdinfo’: Permission denied\r\n",
      "find: ‘/proc/387/ns’: Permission denied\r\n",
      "find: ‘/proc/464/task/464/fd’: Permission denied\r\n",
      "find: ‘/proc/464/task/464/fdinfo’: Permission denied\r\n",
      "find: ‘/proc/464/task/464/ns’: Permission denied\r\n",
      "find: ‘/proc/464/fd’: Permission denied\r\n",
      "find: ‘/proc/464/map_files’: Permission denied\r\n",
      "find: ‘/proc/464/fdinfo’: Permission denied\r\n",
      "find: ‘/proc/464/ns’: Permission denied\r\n",
      "find: ‘/proc/465/task/465/fd’: Permission denied\r\n",
      "find: ‘/proc/465/task/465/fdinfo’: Permission denied\r\n",
      "find: ‘/proc/465/task/465/ns’: Permission denied\r\n",
      "find: ‘/proc/465/fd’: Permission denied\r\n",
      "find: ‘/proc/465/map_files’: Permission denied\r\n",
      "find: ‘/proc/465/fdinfo’: Permission denied\r\n",
      "find: ‘/proc/465/ns’: Permission denied\r\n",
      "find: ‘/proc/467/task/467/fd’: Permission denied\r\n",
      "find: ‘/proc/467/task/467/fdinfo’: Permission denied\r\n",
      "find: ‘/proc/467/task/467/ns’: Permission denied\r\n",
      "find: ‘/proc/467/fd’: Permission denied\r\n",
      "find: ‘/proc/467/map_files’: Permission denied\r\n",
      "find: ‘/proc/467/fdinfo’: Permission denied\r\n",
      "find: ‘/proc/467/ns’: Permission denied\r\n",
      "find: ‘/proc/534/task/534/fd’: Permission denied\r\n",
      "find: ‘/proc/534/task/534/fdinfo’: Permission denied\r\n",
      "find: ‘/proc/534/task/534/ns’: Permission denied\r\n",
      "find: ‘/proc/534/fd’: Permission denied\r\n",
      "find: ‘/proc/534/map_files’: Permission denied\r\n",
      "find: ‘/proc/534/fdinfo’: Permission denied\r\n",
      "find: ‘/proc/534/ns’: Permission denied\r\n",
      "find: ‘/proc/535/task/535/fd’: Permission denied\r\n",
      "find: ‘/proc/535/task/535/fdinfo’: Permission denied\r\n",
      "find: ‘/proc/535/task/535/ns’: Permission denied\r\n",
      "find: ‘/proc/535/fd’: Permission denied\r\n",
      "find: ‘/proc/535/map_files’: Permission denied\r\n",
      "find: ‘/proc/535/fdinfo’: Permission denied\r\n",
      "find: ‘/proc/535/ns’: Permission denied\r\n",
      "find: ‘/proc/578/task/578/fd’: Permission denied\r\n",
      "find: ‘/proc/578/task/578/fdinfo’: Permission denied\r\n",
      "find: ‘/proc/578/task/578/ns’: Permission denied\r\n",
      "find: ‘/proc/578/fd’: Permission denied\r\n",
      "find: ‘/proc/578/map_files’: Permission denied\r\n",
      "find: ‘/proc/578/fdinfo’: Permission denied\r\n",
      "find: ‘/proc/578/ns’: Permission denied\r\n",
      "find: ‘/proc/583/task/583/fd’: Permission denied\r\n",
      "find: ‘/proc/583/task/583/fdinfo’: Permission denied\r\n",
      "find: ‘/proc/583/task/583/ns’: Permission denied\r\n",
      "find: ‘/proc/583/task/592/fd’: Permission denied\r\n",
      "find: ‘/proc/583/task/592/fdinfo’: Permission denied\r\n",
      "find: ‘/proc/583/task/592/ns’: Permission denied\r\n",
      "find: ‘/proc/583/fd’: Permission denied\r\n",
      "find: ‘/proc/583/map_files’: Permission denied\r\n",
      "find: ‘/proc/583/fdinfo’: Permission denied\r\n",
      "find: ‘/proc/583/ns’: Permission denied\r\n",
      "find: ‘/proc/584/task/584/fd’: Permission denied\r\n",
      "find: ‘/proc/584/task/584/fdinfo’: Permission denied\r\n",
      "find: ‘/proc/584/task/584/ns’: Permission denied\r\n",
      "find: ‘/proc/584/fd’: Permission denied\r\n",
      "find: ‘/proc/584/map_files’: Permission denied\r\n",
      "find: ‘/proc/584/fdinfo’: Permission denied\r\n",
      "find: ‘/proc/584/ns’: Permission denied\r\n",
      "find: ‘/proc/586/task/586/fd’: Permission denied\r\n",
      "find: ‘/proc/586/task/586/fdinfo’: Permission denied\r\n",
      "find: ‘/proc/586/task/586/ns’: Permission denied\r\n",
      "find: ‘/proc/586/fd’: Permission denied\r\n",
      "find: ‘/proc/586/map_files’: Permission denied\r\n",
      "find: ‘/proc/586/fdinfo’: Permission denied\r\n",
      "find: ‘/proc/586/ns’: Permission denied\r\n",
      "find: ‘/proc/589/task/589/fd’: Permission denied\r\n",
      "find: ‘/proc/589/task/589/fdinfo’: Permission denied\r\n",
      "find: ‘/proc/589/task/589/ns’: Permission denied\r\n",
      "find: ‘/proc/589/task/621/fd’: Permission denied\r\n",
      "find: ‘/proc/589/task/621/fdinfo’: Permission denied\r\n",
      "find: ‘/proc/589/task/621/ns’: Permission denied\r\n",
      "find: ‘/proc/589/task/622/fd’: Permission denied\r\n",
      "find: ‘/proc/589/task/622/fdinfo’: Permission denied\r\n",
      "find: ‘/proc/589/task/622/ns’: Permission denied\r\n",
      "find: ‘/proc/589/task/623/fd’: Permission denied\r\n",
      "find: ‘/proc/589/task/623/fdinfo’: Permission denied\r\n",
      "find: ‘/proc/589/task/623/ns’: Permission denied\r\n",
      "find: ‘/proc/589/fd’: Permission denied\r\n",
      "find: ‘/proc/589/map_files’: Permission denied\r\n",
      "find: ‘/proc/589/fdinfo’: Permission denied\r\n",
      "find: ‘/proc/589/ns’: Permission denied\r\n",
      "find: ‘/proc/590/task/590/fd’: Permission denied\r\n",
      "find: ‘/proc/590/task/590/fdinfo’: Permission denied\r\n",
      "find: ‘/proc/590/task/590/ns’: Permission denied\r\n",
      "find: ‘/proc/590/task/645/fd’: Permission denied\r\n",
      "find: ‘/proc/590/task/645/fdinfo’: Permission denied\r\n",
      "find: ‘/proc/590/task/645/ns’: Permission denied\r\n",
      "find: ‘/proc/590/task/664/fd’: Permission denied\r\n",
      "find: ‘/proc/590/task/664/fdinfo’: Permission denied\r\n",
      "find: ‘/proc/590/task/664/ns’: Permission denied\r\n",
      "find: ‘/proc/590/task/665/fd’: Permission denied\r\n",
      "find: ‘/proc/590/task/665/fdinfo’: Permission denied\r\n",
      "find: ‘/proc/590/task/665/ns’: Permission denied\r\n",
      "find: ‘/proc/590/task/666/fd’: Permission denied\r\n",
      "find: ‘/proc/590/task/666/fdinfo’: Permission denied\r\n",
      "find: ‘/proc/590/task/666/ns’: Permission denied\r\n",
      "find: ‘/proc/590/task/667/fd’: Permission denied\r\n",
      "find: ‘/proc/590/task/667/fdinfo’: Permission denied\r\n",
      "find: ‘/proc/590/task/667/ns’: Permission denied\r\n",
      "find: ‘/proc/590/task/789/fd’: Permission denied\r\n",
      "find: ‘/proc/590/task/789/fdinfo’: Permission denied\r\n",
      "find: ‘/proc/590/task/789/ns’: Permission denied\r\n",
      "find: ‘/proc/590/task/1500/fd’: Permission denied\r\n",
      "find: ‘/proc/590/task/1500/fdinfo’: Permission denied\r\n",
      "find: ‘/proc/590/task/1500/ns’: Permission denied\r\n",
      "find: ‘/proc/590/task/1502/fd’: Permission denied\r\n",
      "find: ‘/proc/590/task/1502/fdinfo’: Permission denied\r\n",
      "find: ‘/proc/590/task/1502/ns’: Permission denied\r\n",
      "find: ‘/proc/590/task/1504/fd’: Permission denied\r\n",
      "find: ‘/proc/590/task/1504/fdinfo’: Permission denied\r\n",
      "find: ‘/proc/590/task/1504/ns’: Permission denied\r\n",
      "find: ‘/proc/590/task/1581/fd’: Permission denied\r\n",
      "find: ‘/proc/590/task/1581/fdinfo’: Permission denied\r\n",
      "find: ‘/proc/590/task/1581/ns’: Permission denied\r\n",
      "find: ‘/proc/590/task/1587/fd’: Permission denied\r\n",
      "find: ‘/proc/590/task/1587/fdinfo’: Permission denied\r\n",
      "find: ‘/proc/590/task/1587/ns’: Permission denied\r\n",
      "find: ‘/proc/590/task/1606/fd’: Permission denied\r\n",
      "find: ‘/proc/590/task/1606/fdinfo’: Permission denied\r\n",
      "find: ‘/proc/590/task/1606/ns’: Permission denied\r\n",
      "find: ‘/proc/590/task/1889/fd’: Permission denied\r\n",
      "find: ‘/proc/590/task/1889/fdinfo’: Permission denied\r\n",
      "find: ‘/proc/590/task/1889/ns’: Permission denied\r\n",
      "find: ‘/proc/590/task/1931/fd’: Permission denied\r\n",
      "find: ‘/proc/590/task/1931/fdinfo’: Permission denied\r\n",
      "find: ‘/proc/590/task/1931/ns’: Permission denied\r\n",
      "find: ‘/proc/590/fd’: Permission denied\r\n",
      "find: ‘/proc/590/map_files’: Permission denied\r\n",
      "find: ‘/proc/590/fdinfo’: Permission denied\r\n",
      "find: ‘/proc/590/ns’: Permission denied\r\n",
      "find: ‘/proc/599/task/599/fd’: Permission denied\r\n",
      "find: ‘/proc/599/task/599/fdinfo’: Permission denied\r\n",
      "find: ‘/proc/599/task/599/ns’: Permission denied\r\n",
      "find: ‘/proc/599/task/958/fd’: Permission denied\r\n",
      "find: ‘/proc/599/task/958/fdinfo’: Permission denied\r\n",
      "find: ‘/proc/599/task/958/ns’: Permission denied\r\n",
      "find: ‘/proc/599/task/983/fd’: Permission denied\r\n",
      "find: ‘/proc/599/task/983/fdinfo’: Permission denied\r\n",
      "find: ‘/proc/599/task/983/ns’: Permission denied\r\n",
      "find: ‘/proc/599/task/985/fd’: Permission denied\r\n",
      "find: ‘/proc/599/task/985/fdinfo’: Permission denied\r\n",
      "find: ‘/proc/599/task/985/ns’: Permission denied\r\n",
      "find: ‘/proc/599/task/986/fd’: Permission denied\r\n",
      "find: ‘/proc/599/task/986/fdinfo’: Permission denied\r\n",
      "find: ‘/proc/599/task/986/ns’: Permission denied\r\n",
      "find: ‘/proc/599/task/987/fd’: Permission denied\r\n",
      "find: ‘/proc/599/task/987/fdinfo’: Permission denied\r\n",
      "find: ‘/proc/599/task/987/ns’: Permission denied\r\n",
      "find: ‘/proc/599/task/1194/fd’: Permission denied\r\n",
      "find: ‘/proc/599/task/1194/fdinfo’: Permission denied\r\n",
      "find: ‘/proc/599/task/1194/ns’: Permission denied\r\n",
      "find: ‘/proc/599/task/1206/fd’: Permission denied\r\n",
      "find: ‘/proc/599/task/1206/fdinfo’: Permission denied\r\n",
      "find: ‘/proc/599/task/1206/ns’: Permission denied\r\n",
      "find: ‘/proc/599/task/1207/fd’: Permission denied\r\n",
      "find: ‘/proc/599/task/1207/fdinfo’: Permission denied\r\n",
      "find: ‘/proc/599/task/1207/ns’: Permission denied\r\n",
      "find: ‘/proc/599/task/1353/fd’: Permission denied\r\n",
      "find: ‘/proc/599/task/1353/fdinfo’: Permission denied\r\n",
      "find: ‘/proc/599/task/1353/ns’: Permission denied\r\n",
      "find: ‘/proc/599/task/1437/fd’: Permission denied\r\n",
      "find: ‘/proc/599/task/1437/fdinfo’: Permission denied\r\n",
      "find: ‘/proc/599/task/1437/ns’: Permission denied\r\n",
      "find: ‘/proc/599/fd’: Permission denied\r\n",
      "find: ‘/proc/599/map_files’: Permission denied\r\n",
      "find: ‘/proc/599/fdinfo’: Permission denied\r\n",
      "find: ‘/proc/599/ns’: Permission denied\r\n",
      "find: ‘/proc/616/task/616/fd’: Permission denied\r\n",
      "find: ‘/proc/616/task/616/fdinfo’: Permission denied\r\n",
      "find: ‘/proc/616/task/616/ns’: Permission denied\r\n",
      "find: ‘/proc/616/fd’: Permission denied\r\n",
      "find: ‘/proc/616/map_files’: Permission denied\r\n",
      "find: ‘/proc/616/fdinfo’: Permission denied\r\n",
      "find: ‘/proc/616/ns’: Permission denied\r\n",
      "find: ‘/proc/617/task/617/fd’: Permission denied\r\n",
      "find: ‘/proc/617/task/617/fdinfo’: Permission denied\r\n",
      "find: ‘/proc/617/task/617/ns’: Permission denied\r\n",
      "find: ‘/proc/617/fd’: Permission denied\r\n",
      "find: ‘/proc/617/map_files’: Permission denied\r\n",
      "find: ‘/proc/617/fdinfo’: Permission denied\r\n",
      "find: ‘/proc/617/ns’: Permission denied\r\n",
      "find: ‘/proc/618/task/618/fd’: Permission denied\r\n",
      "find: ‘/proc/618/task/618/fdinfo’: Permission denied\r\n",
      "find: ‘/proc/618/task/618/ns’: Permission denied\r\n",
      "find: ‘/proc/618/task/653/fd’: Permission denied\r\n",
      "find: ‘/proc/618/task/653/fdinfo’: Permission denied\r\n",
      "find: ‘/proc/618/task/653/ns’: Permission denied\r\n",
      "find: ‘/proc/618/task/654/fd’: Permission denied\r\n",
      "find: ‘/proc/618/task/654/fdinfo’: Permission denied\r\n",
      "find: ‘/proc/618/task/654/ns’: Permission denied\r\n",
      "find: ‘/proc/618/task/655/fd’: Permission denied\r\n",
      "find: ‘/proc/618/task/655/fdinfo’: Permission denied\r\n",
      "find: ‘/proc/618/task/655/ns’: Permission denied\r\n",
      "find: ‘/proc/618/task/657/fd’: Permission denied\r\n",
      "find: ‘/proc/618/task/657/fdinfo’: Permission denied\r\n",
      "find: ‘/proc/618/task/657/ns’: Permission denied\r\n",
      "find: ‘/proc/618/task/658/fd’: Permission denied\r\n",
      "find: ‘/proc/618/task/658/fdinfo’: Permission denied\r\n",
      "find: ‘/proc/618/task/658/ns’: Permission denied\r\n",
      "find: ‘/proc/618/task/750/fd’: Permission denied\r\n",
      "find: ‘/proc/618/task/750/fdinfo’: Permission denied\r\n",
      "find: ‘/proc/618/task/750/ns’: Permission denied\r\n",
      "find: ‘/proc/618/task/751/fd’: Permission denied\r\n",
      "find: ‘/proc/618/task/751/fdinfo’: Permission denied\r\n",
      "find: ‘/proc/618/task/751/ns’: Permission denied\r\n",
      "find: ‘/proc/618/task/790/fd’: Permission denied\r\n",
      "find: ‘/proc/618/task/790/fdinfo’: Permission denied\r\n",
      "find: ‘/proc/618/task/790/ns’: Permission denied\r\n",
      "find: ‘/proc/618/fd’: Permission denied\r\n",
      "find: ‘/proc/618/map_files’: Permission denied\r\n",
      "find: ‘/proc/618/fdinfo’: Permission denied\r\n",
      "find: ‘/proc/618/ns’: Permission denied\r\n",
      "find: ‘/proc/647/task/647/fd’: Permission denied\r\n",
      "find: ‘/proc/647/task/647/fdinfo’: Permission denied\r\n",
      "find: ‘/proc/647/task/647/ns’: Permission denied\r\n",
      "find: ‘/proc/647/fd’: Permission denied\r\n",
      "find: ‘/proc/647/map_files’: Permission denied\r\n",
      "find: ‘/proc/647/fdinfo’: Permission denied\r\n",
      "find: ‘/proc/647/ns’: Permission denied\r\n",
      "find: ‘/proc/649/task/649/fd’: Permission denied\r\n",
      "find: ‘/proc/649/task/649/fdinfo’: Permission denied\r\n",
      "find: ‘/proc/649/task/649/ns’: Permission denied\r\n",
      "find: ‘/proc/649/fd’: Permission denied\r\n",
      "find: ‘/proc/649/map_files’: Permission denied\r\n",
      "find: ‘/proc/649/fdinfo’: Permission denied\r\n",
      "find: ‘/proc/649/ns’: Permission denied\r\n",
      "find: ‘/proc/650/task/650/fd’: Permission denied\r\n",
      "find: ‘/proc/650/task/650/fdinfo’: Permission denied\r\n",
      "find: ‘/proc/650/task/650/ns’: Permission denied\r\n",
      "find: ‘/proc/650/fd’: Permission denied\r\n",
      "find: ‘/proc/650/map_files’: Permission denied\r\n",
      "find: ‘/proc/650/fdinfo’: Permission denied\r\n",
      "find: ‘/proc/650/ns’: Permission denied\r\n",
      "find: ‘/proc/656/task/656/fd’: Permission denied\r\n",
      "find: ‘/proc/656/task/656/fdinfo’: Permission denied\r\n",
      "find: ‘/proc/656/task/656/ns’: Permission denied\r\n",
      "find: ‘/proc/656/fd’: Permission denied\r\n",
      "find: ‘/proc/656/map_files’: Permission denied\r\n",
      "find: ‘/proc/656/fdinfo’: Permission denied\r\n",
      "find: ‘/proc/656/ns’: Permission denied\r\n",
      "find: ‘/proc/696/task/696/fd’: Permission denied\r\n",
      "find: ‘/proc/696/task/696/fdinfo’: Permission denied\r\n",
      "find: ‘/proc/696/task/696/ns’: Permission denied\r\n",
      "find: ‘/proc/696/fd’: Permission denied\r\n",
      "find: ‘/proc/696/map_files’: Permission denied\r\n",
      "find: ‘/proc/696/fdinfo’: Permission denied\r\n",
      "find: ‘/proc/696/ns’: Permission denied\r\n",
      "find: ‘/proc/716/task/716/fd’: Permission denied\r\n",
      "find: ‘/proc/716/task/716/fdinfo’: Permission denied\r\n",
      "find: ‘/proc/716/task/716/ns’: Permission denied\r\n",
      "find: ‘/proc/716/fd’: Permission denied\r\n",
      "find: ‘/proc/716/map_files’: Permission denied\r\n",
      "find: ‘/proc/716/fdinfo’: Permission denied\r\n",
      "find: ‘/proc/716/ns’: Permission denied\r\n",
      "find: ‘/proc/739/task/739/fd’: Permission denied\r\n",
      "find: ‘/proc/739/task/739/fdinfo’: Permission denied\r\n",
      "find: ‘/proc/739/task/739/ns’: Permission denied\r\n",
      "find: ‘/proc/739/task/760/fd’: Permission denied\r\n",
      "find: ‘/proc/739/task/760/fdinfo’: Permission denied\r\n",
      "find: ‘/proc/739/task/760/ns’: Permission denied\r\n",
      "find: ‘/proc/739/task/787/fd’: Permission denied\r\n",
      "find: ‘/proc/739/task/787/fdinfo’: Permission denied\r\n",
      "find: ‘/proc/739/task/787/ns’: Permission denied\r\n",
      "find: ‘/proc/739/task/1123/fd’: Permission denied\r\n",
      "find: ‘/proc/739/task/1123/fdinfo’: Permission denied\r\n",
      "find: ‘/proc/739/task/1123/ns’: Permission denied\r\n",
      "find: ‘/proc/739/task/1125/fd’: Permission denied\r\n",
      "find: ‘/proc/739/task/1125/fdinfo’: Permission denied\r\n",
      "find: ‘/proc/739/task/1125/ns’: Permission denied\r\n",
      "find: ‘/proc/739/fd’: Permission denied\r\n",
      "find: ‘/proc/739/map_files’: Permission denied\r\n",
      "find: ‘/proc/739/fdinfo’: Permission denied\r\n",
      "find: ‘/proc/739/ns’: Permission denied\r\n",
      "find: ‘/proc/749/task/749/fd’: Permission denied\r\n",
      "find: ‘/proc/749/task/749/fdinfo’: Permission denied\r\n",
      "find: ‘/proc/749/task/749/ns’: Permission denied\r\n",
      "find: ‘/proc/749/fd’: Permission denied\r\n",
      "find: ‘/proc/749/map_files’: Permission denied\r\n",
      "find: ‘/proc/749/fdinfo’: Permission denied\r\n",
      "find: ‘/proc/749/ns’: Permission denied\r\n",
      "find: ‘/proc/907/task/907/fd’: Permission denied\r\n",
      "find: ‘/proc/907/task/907/fdinfo’: Permission denied\r\n",
      "find: ‘/proc/907/task/907/ns’: Permission denied\r\n",
      "find: ‘/proc/907/task/946/fd’: Permission denied\r\n",
      "find: ‘/proc/907/task/946/fdinfo’: Permission denied\r\n",
      "find: ‘/proc/907/task/946/ns’: Permission denied\r\n",
      "find: ‘/proc/907/task/948/fd’: Permission denied\r\n",
      "find: ‘/proc/907/task/948/fdinfo’: Permission denied\r\n",
      "find: ‘/proc/907/task/948/ns’: Permission denied\r\n",
      "find: ‘/proc/907/task/949/fd’: Permission denied\r\n",
      "find: ‘/proc/907/task/949/fdinfo’: Permission denied\r\n",
      "find: ‘/proc/907/task/949/ns’: Permission denied\r\n",
      "find: ‘/proc/907/task/950/fd’: Permission denied\r\n",
      "find: ‘/proc/907/task/950/fdinfo’: Permission denied\r\n",
      "find: ‘/proc/907/task/950/ns’: Permission denied\r\n",
      "find: ‘/proc/907/task/951/fd’: Permission denied\r\n",
      "find: ‘/proc/907/task/951/fdinfo’: Permission denied\r\n",
      "find: ‘/proc/907/task/951/ns’: Permission denied\r\n",
      "find: ‘/proc/907/task/1050/fd’: Permission denied\r\n",
      "find: ‘/proc/907/task/1050/fdinfo’: Permission denied\r\n",
      "find: ‘/proc/907/task/1050/ns’: Permission denied\r\n",
      "find: ‘/proc/907/task/1051/fd’: Permission denied\r\n",
      "find: ‘/proc/907/task/1051/fdinfo’: Permission denied\r\n",
      "find: ‘/proc/907/task/1051/ns’: Permission denied\r\n",
      "find: ‘/proc/907/task/1053/fd’: Permission denied\r\n",
      "find: ‘/proc/907/task/1053/fdinfo’: Permission denied\r\n",
      "find: ‘/proc/907/task/1053/ns’: Permission denied\r\n",
      "find: ‘/proc/907/task/1150/fd’: Permission denied\r\n",
      "find: ‘/proc/907/task/1150/fdinfo’: Permission denied\r\n",
      "find: ‘/proc/907/task/1150/ns’: Permission denied\r\n",
      "find: ‘/proc/907/fd’: Permission denied\r\n",
      "find: ‘/proc/907/map_files’: Permission denied\r\n",
      "find: ‘/proc/907/fdinfo’: Permission denied\r\n",
      "find: ‘/proc/907/ns’: Permission denied\r\n",
      "find: ‘/proc/910/task/910/fd’: Permission denied\r\n",
      "find: ‘/proc/910/task/910/fdinfo’: Permission denied\r\n",
      "find: ‘/proc/910/task/910/ns’: Permission denied\r\n",
      "find: ‘/proc/910/fd’: Permission denied\r\n",
      "find: ‘/proc/910/map_files’: Permission denied\r\n",
      "find: ‘/proc/910/fdinfo’: Permission denied\r\n",
      "find: ‘/proc/910/ns’: Permission denied\r\n",
      "find: ‘/proc/912/task/912/fd’: Permission denied\r\n",
      "find: ‘/proc/912/task/912/fdinfo’: Permission denied\r\n",
      "find: ‘/proc/912/task/912/ns’: Permission denied\r\n",
      "find: ‘/proc/912/fd’: Permission denied\r\n",
      "find: ‘/proc/912/map_files’: Permission denied\r\n",
      "find: ‘/proc/912/fdinfo’: Permission denied\r\n",
      "find: ‘/proc/912/ns’: Permission denied\r\n",
      "find: ‘/proc/1029/task/1029/fd’: Permission denied\r\n",
      "find: ‘/proc/1029/task/1029/fdinfo’: Permission denied\r\n",
      "find: ‘/proc/1029/task/1029/ns’: Permission denied\r\n",
      "find: ‘/proc/1029/task/1314/fd’: Permission denied\r\n",
      "find: ‘/proc/1029/task/1314/fdinfo’: Permission denied\r\n",
      "find: ‘/proc/1029/task/1314/ns’: Permission denied\r\n",
      "find: ‘/proc/1029/task/1315/fd’: Permission denied\r\n",
      "find: ‘/proc/1029/task/1315/fdinfo’: Permission denied\r\n",
      "find: ‘/proc/1029/task/1315/ns’: Permission denied\r\n",
      "find: ‘/proc/1029/task/1319/fd’: Permission denied\r\n",
      "find: ‘/proc/1029/task/1319/fdinfo’: Permission denied\r\n",
      "find: ‘/proc/1029/task/1319/ns’: Permission denied\r\n",
      "find: ‘/proc/1029/task/1320/fd’: Permission denied\r\n",
      "find: ‘/proc/1029/task/1320/fdinfo’: Permission denied\r\n",
      "find: ‘/proc/1029/task/1320/ns’: Permission denied\r\n",
      "find: ‘/proc/1029/fd’: Permission denied\r\n",
      "find: ‘/proc/1029/map_files’: Permission denied\r\n",
      "find: ‘/proc/1029/fdinfo’: Permission denied\r\n",
      "find: ‘/proc/1029/ns’: Permission denied\r\n",
      "find: ‘/proc/1057/task/1057/fd’: Permission denied\r\n",
      "find: ‘/proc/1057/task/1057/fdinfo’: Permission denied\r\n",
      "find: ‘/proc/1057/task/1057/ns’: Permission denied\r\n",
      "find: ‘/proc/1057/fd’: Permission denied\r\n",
      "find: ‘/proc/1057/map_files’: Permission denied\r\n",
      "find: ‘/proc/1057/fdinfo’: Permission denied\r\n",
      "find: ‘/proc/1057/ns’: Permission denied\r\n",
      "find: ‘/proc/1095/task/1095/fd’: Permission denied\r\n",
      "find: ‘/proc/1095/task/1095/fdinfo’: Permission denied\r\n",
      "find: ‘/proc/1095/task/1095/ns’: Permission denied\r\n",
      "find: ‘/proc/1095/fd’: Permission denied\r\n",
      "find: ‘/proc/1095/map_files’: Permission denied\r\n",
      "find: ‘/proc/1095/fdinfo’: Permission denied\r\n",
      "find: ‘/proc/1095/ns’: Permission denied\r\n",
      "find: ‘/proc/1436/task/1436/fd’: Permission denied\r\n",
      "find: ‘/proc/1436/task/1436/fdinfo’: Permission denied\r\n",
      "find: ‘/proc/1436/task/1436/ns’: Permission denied\r\n",
      "find: ‘/proc/1436/fd’: Permission denied\r\n",
      "find: ‘/proc/1436/map_files’: Permission denied\r\n",
      "find: ‘/proc/1436/fdinfo’: Permission denied\r\n",
      "find: ‘/proc/1436/ns’: Permission denied\r\n",
      "find: ‘/proc/1607/task/1607/fd’: Permission denied\r\n",
      "find: ‘/proc/1607/task/1607/fdinfo’: Permission denied\r\n",
      "find: ‘/proc/1607/task/1607/ns’: Permission denied\r\n",
      "find: ‘/proc/1607/task/1609/fd’: Permission denied\r\n",
      "find: ‘/proc/1607/task/1609/fdinfo’: Permission denied\r\n",
      "find: ‘/proc/1607/task/1609/ns’: Permission denied\r\n",
      "find: ‘/proc/1607/task/1610/fd’: Permission denied\r\n",
      "find: ‘/proc/1607/task/1610/fdinfo’: Permission denied\r\n",
      "find: ‘/proc/1607/task/1610/ns’: Permission denied\r\n",
      "find: ‘/proc/1607/task/1611/fd’: Permission denied\r\n",
      "find: ‘/proc/1607/task/1611/fdinfo’: Permission denied\r\n",
      "find: ‘/proc/1607/task/1611/ns’: Permission denied\r\n",
      "find: ‘/proc/1607/task/1612/fd’: Permission denied\r\n",
      "find: ‘/proc/1607/task/1612/fdinfo’: Permission denied\r\n",
      "find: ‘/proc/1607/task/1612/ns’: Permission denied\r\n",
      "find: ‘/proc/1607/task/1613/fd’: Permission denied\r\n",
      "find: ‘/proc/1607/task/1613/fdinfo’: Permission denied\r\n",
      "find: ‘/proc/1607/task/1613/ns’: Permission denied\r\n",
      "find: ‘/proc/1607/task/1614/fd’: Permission denied\r\n",
      "find: ‘/proc/1607/task/1614/fdinfo’: Permission denied\r\n",
      "find: ‘/proc/1607/task/1614/ns’: Permission denied\r\n",
      "find: ‘/proc/1607/task/1615/fd’: Permission denied\r\n",
      "find: ‘/proc/1607/task/1615/fdinfo’: Permission denied\r\n",
      "find: ‘/proc/1607/task/1615/ns’: Permission denied\r\n",
      "find: ‘/proc/1607/task/1616/fd’: Permission denied\r\n",
      "find: ‘/proc/1607/task/1616/fdinfo’: Permission denied\r\n",
      "find: ‘/proc/1607/task/1616/ns’: Permission denied\r\n",
      "find: ‘/proc/1607/fd’: Permission denied\r\n",
      "find: ‘/proc/1607/map_files’: Permission denied\r\n",
      "find: ‘/proc/1607/fdinfo’: Permission denied\r\n",
      "find: ‘/proc/1607/ns’: Permission denied\r\n"
     ]
    },
    {
     "name": "stdout",
     "output_type": "stream",
     "text": [
      "find: ‘/var/cache/ldconfig’: Permission denied\r\n",
      "find: ‘/var/cache/private’: Permission denied\r\n"
     ]
    },
    {
     "name": "stdout",
     "output_type": "stream",
     "text": [
      "find: ‘/var/cache/apparmor/a4dd844e.0’: Permission denied\r\n",
      "find: ‘/var/cache/apparmor/30d07b40.0’: Permission denied\r\n",
      "find: ‘/var/cache/pollinate’: Permission denied\r\n",
      "find: ‘/var/cache/apt/archives/partial’: Permission denied\r\n",
      "find: ‘/var/lib/waagent’: Permission denied\r\n",
      "find: ‘/var/lib/snapd/void’: Permission denied\r\n",
      "find: ‘/var/lib/snapd/cookie’: Permission denied\r\n",
      "find: ‘/var/lib/containers’: Permission denied\r\n",
      "find: ‘/var/lib/docker’: Permission denied\r\n",
      "find: ‘/var/lib/mysql-keyring’: Permission denied\r\n",
      "find: ‘/var/lib/private’: Permission denied\r\n",
      "find: ‘/var/lib/mysql-files’: Permission denied\r\n",
      "find: ‘/var/lib/polkit-1’: Permission denied\r\n",
      "find: ‘/var/lib/mysql’: Permission denied\r\n"
     ]
    },
    {
     "name": "stdout",
     "output_type": "stream",
     "text": [
      "find: ‘/var/lib/nginx/proxy’: Permission denied\r\n",
      "find: ‘/var/lib/nginx/uwsgi’: Permission denied\r\n",
      "find: ‘/var/lib/nginx/scgi’: Permission denied\r\n",
      "find: ‘/var/lib/nginx/fastcgi’: Permission denied\r\n",
      "find: ‘/var/lib/nginx/body’: Permission denied\r\n",
      "find: ‘/var/lib/chrony’: Permission denied\r\n",
      "find: ‘/var/lib/ubuntu-advantage/apt-esm/var/cache/apt/archives/partial’: Permission denied\r\n",
      "find: ‘/var/lib/ubuntu-advantage/apt-esm/var/lib/apt/lists/partial’: Permission denied\r\n",
      "find: ‘/var/lib/update-notifier/package-data-downloads/partial’: Permission denied\r\n",
      "find: ‘/var/lib/postgresql/14/main’: Permission denied\r\n",
      "find: ‘/var/lib/containerd’: Permission denied\r\n",
      "find: ‘/var/lib/apt/lists/partial’: Permission denied\r\n",
      "find: ‘/var/lib/snmp/cert_indexes’: Permission denied\r\n",
      "find: ‘/var/lib/php/sessions’: Permission denied\r\n",
      "find: ‘/var/log/private’: Permission denied\r\n",
      "find: ‘/var/log/azure/Microsoft.Azure.Extensions.CustomScript/events’: Permission denied\r\n",
      "find: ‘/var/log/chrony’: Permission denied\r\n",
      "find: ‘/var/tmp/systemd-private-8810eb1c07484b2f8b6ec4285cf0d30e-systemd-resolved.service-RaCFC8’: Permission denied\r\n",
      "find: ‘/var/tmp/systemd-private-8810eb1c07484b2f8b6ec4285cf0d30e-chrony.service-kdDsRH’: Permission denied\r\n",
      "find: ‘/var/tmp/systemd-private-8810eb1c07484b2f8b6ec4285cf0d30e-systemd-logind.service-SBmqyo’: Permission denied\r\n",
      "find: ‘/var/tmp/systemd-private-8810eb1c07484b2f8b6ec4285cf0d30e-haveged.service-tc5JJ0’: Permission denied\r\n",
      "find: ‘/var/snap/lxd/common/lxd’: Permission denied\r\n",
      "find: ‘/var/spool/rsyslog’: Permission denied\r\n",
      "find: ‘/var/spool/cron/crontabs’: Permission denied\r\n"
     ]
    },
    {
     "name": "stdout",
     "output_type": "stream",
     "text": [
      "/opt/hostedtoolcache/Python/3.8.18/x64/lib/python3.8/site-packages/pyspark/__pycache__/find_spark_home.cpython-38.pyc\r\n",
      "/opt/hostedtoolcache/Python/3.8.18/x64/lib/python3.8/site-packages/pyspark/find_spark_home.py\r\n",
      "/opt/hostedtoolcache/Python/3.8.18/x64/lib/python3.8/site-packages/pyspark/bin/find-spark-home.cmd\r\n",
      "/opt/hostedtoolcache/Python/3.8.18/x64/lib/python3.8/site-packages/pyspark/bin/find-spark-home\r\n",
      "/opt/hostedtoolcache/Python/3.8.18/x64/bin/find-spark-home.cmd\r\n",
      "/opt/hostedtoolcache/Python/3.8.18/x64/bin/__pycache__/find_spark_home.cpython-38.pyc\r\n",
      "/opt/hostedtoolcache/Python/3.8.18/x64/bin/find-spark-home\r\n",
      "/opt/hostedtoolcache/Python/3.8.18/x64/bin/find_spark_home.py\r\n"
     ]
    },
    {
     "name": "stdout",
     "output_type": "stream",
     "text": [
      "find: ‘/sys/kernel/tracing’: Permission denied\r\n",
      "find: ‘/sys/kernel/debug’: Permission denied\r\n",
      "find: ‘/sys/fs/pstore’: Permission denied\r\n",
      "find: ‘/sys/fs/bpf’: Permission denied\r\n"
     ]
    }
   ],
   "source": [
    "!find / -name \"*find*spark*\""
   ]
  },
  {
   "cell_type": "markdown",
   "metadata": {
    "id": "Nr_2rb6pFzF8"
   },
   "source": [
    "The script `/usr/local/bin/find_spark_home.py` is successful at finding Spark's home."
   ]
  },
  {
   "cell_type": "markdown",
   "metadata": {
    "id": "qxlEqcY9LRI4"
   },
   "source": [
    "#### Set `SPARK_HOME`"
   ]
  },
  {
   "cell_type": "code",
   "execution_count": 8,
   "metadata": {
    "colab": {
     "base_uri": "https://localhost:8080/"
    },
    "execution": {
     "iopub.execute_input": "2024-02-25T21:28:09.510385Z",
     "iopub.status.busy": "2024-02-25T21:28:09.510157Z",
     "iopub.status.idle": "2024-02-25T21:28:12.015249Z",
     "shell.execute_reply": "2024-02-25T21:28:12.014444Z"
    },
    "id": "GCgU9MnaIZ_k",
    "outputId": "58d228a7-3a12-43f6-a7c7-eaedd18efe61"
   },
   "outputs": [
    {
     "name": "stdout",
     "output_type": "stream",
     "text": [
      "Stored 'output' (SList)\n"
     ]
    }
   ],
   "source": [
    "import sys\n",
    "import os\n",
    "IN_COLAB = 'google.colab' in sys.modules\n",
    "if IN_COLAB:\n",
    "  output = !python /usr/local/bin/find_spark_home.py\n",
    "else:\n",
    "  output = !find / -name \"pyspark\" -type d 2>/dev/null|head -1\n",
    "# Store the output using %store\n",
    "%store output\n",
    "# get rid of extra quotation marks\n",
    "os.environ['SPARK_HOME'] = output[0].replace('\"', '')"
   ]
  },
  {
   "cell_type": "code",
   "execution_count": 9,
   "metadata": {
    "colab": {
     "base_uri": "https://localhost:8080/"
    },
    "execution": {
     "iopub.execute_input": "2024-02-25T21:28:12.018227Z",
     "iopub.status.busy": "2024-02-25T21:28:12.017799Z",
     "iopub.status.idle": "2024-02-25T21:28:13.130125Z",
     "shell.execute_reply": "2024-02-25T21:28:13.129368Z"
    },
    "id": "olIKq1bOkMDy",
    "outputId": "6140ea63-9eca-4456-9c3c-a1a8db16f283"
   },
   "outputs": [
    {
     "name": "stdout",
     "output_type": "stream",
     "text": [
      "Name: pyspark\r\n",
      "Version: 3.5.0\r\n",
      "Summary: Apache Spark Python API\r\n",
      "Home-page: https://github.com/apache/spark/tree/master/python\r\n",
      "Author: Spark Developers\r\n",
      "Author-email: dev@spark.apache.org\r\n",
      "License: http://www.apache.org/licenses/LICENSE-2.0\r\n",
      "Location: /opt/hostedtoolcache/Python/3.8.18/x64/lib/python3.8/site-packages\r\n",
      "Requires: py4j\r\n",
      "Required-by: \r\n"
     ]
    }
   ],
   "source": [
    "!pip show pyspark"
   ]
  },
  {
   "cell_type": "markdown",
   "metadata": {
    "id": "Ic1uHIKAK1ss"
   },
   "source": [
    "Verify that the correct `SPARK_HOME` has been set."
   ]
  },
  {
   "cell_type": "code",
   "execution_count": 10,
   "metadata": {
    "colab": {
     "base_uri": "https://localhost:8080/",
     "height": 0
    },
    "execution": {
     "iopub.execute_input": "2024-02-25T21:28:13.133363Z",
     "iopub.status.busy": "2024-02-25T21:28:13.132962Z",
     "iopub.status.idle": "2024-02-25T21:28:13.139903Z",
     "shell.execute_reply": "2024-02-25T21:28:13.139278Z"
    },
    "id": "BraJPa5KZY1y",
    "outputId": "8a434517-6d46-4bfd-edb3-f6a21ae93141"
   },
   "outputs": [
    {
     "data": {
      "text/plain": [
       "'/opt/hostedtoolcache/Python/3.8.18/x64/lib/python3.8/site-packages/pyspark'"
      ]
     },
     "execution_count": 10,
     "metadata": {},
     "output_type": "execute_result"
    }
   ],
   "source": [
    "os.environ['SPARK_HOME']"
   ]
  },
  {
   "cell_type": "code",
   "execution_count": 11,
   "metadata": {
    "colab": {
     "base_uri": "https://localhost:8080/",
     "height": 0
    },
    "execution": {
     "iopub.execute_input": "2024-02-25T21:28:13.142432Z",
     "iopub.status.busy": "2024-02-25T21:28:13.142026Z",
     "iopub.status.idle": "2024-02-25T21:28:13.146456Z",
     "shell.execute_reply": "2024-02-25T21:28:13.145803Z"
    },
    "id": "sONAYA_DKOry",
    "outputId": "65c0353e-a303-4574-e044-7fe05e405920"
   },
   "outputs": [
    {
     "data": {
      "text/plain": [
       "'/opt/hostedtoolcache/Python/3.8.18/x64/lib/python3.8/site-packages/pyspark'"
      ]
     },
     "execution_count": 11,
     "metadata": {},
     "output_type": "execute_result"
    }
   ],
   "source": [
    "%env SPARK_HOME"
   ]
  },
  {
   "cell_type": "markdown",
   "metadata": {
    "id": "gQ3zuxd9LKxA"
   },
   "source": [
    "#### Set `PYTHONPATH`"
   ]
  },
  {
   "cell_type": "code",
   "execution_count": 12,
   "metadata": {
    "execution": {
     "iopub.execute_input": "2024-02-25T21:28:13.148859Z",
     "iopub.status.busy": "2024-02-25T21:28:13.148552Z",
     "iopub.status.idle": "2024-02-25T21:28:13.151574Z",
     "shell.execute_reply": "2024-02-25T21:28:13.150951Z"
    },
    "id": "SOXsRzqNLAqx"
   },
   "outputs": [],
   "source": [
    "os.environ['PYTHONPATH'] = os.environ['SPARK_HOME'] + '/python'"
   ]
  },
  {
   "cell_type": "markdown",
   "metadata": {
    "id": "HTzSh-RBLbsg"
   },
   "source": [
    "Check"
   ]
  },
  {
   "cell_type": "code",
   "execution_count": 13,
   "metadata": {
    "colab": {
     "base_uri": "https://localhost:8080/",
     "height": 0
    },
    "execution": {
     "iopub.execute_input": "2024-02-25T21:28:13.154254Z",
     "iopub.status.busy": "2024-02-25T21:28:13.153769Z",
     "iopub.status.idle": "2024-02-25T21:28:13.157987Z",
     "shell.execute_reply": "2024-02-25T21:28:13.157355Z"
    },
    "id": "Log-_SFWJScq",
    "outputId": "636e1c0a-282c-402b-90bc-8eac7f15db93"
   },
   "outputs": [
    {
     "data": {
      "text/plain": [
       "'/opt/hostedtoolcache/Python/3.8.18/x64/lib/python3.8/site-packages/pyspark/python'"
      ]
     },
     "execution_count": 13,
     "metadata": {},
     "output_type": "execute_result"
    }
   ],
   "source": [
    "%env PYTHONPATH"
   ]
  },
  {
   "cell_type": "markdown",
   "metadata": {
    "id": "qi3MxEWpV9CL"
   },
   "source": [
    "## Download data\n",
    "\n",
    "In order to run, the Sedona notebook expects to find some specific files in the local folder `data`. Let us populate `data` with the files from the Sedona Github repository."
   ]
  },
  {
   "cell_type": "code",
   "execution_count": 14,
   "metadata": {
    "execution": {
     "iopub.execute_input": "2024-02-25T21:28:13.160673Z",
     "iopub.status.busy": "2024-02-25T21:28:13.160293Z",
     "iopub.status.idle": "2024-02-25T21:28:29.563556Z",
     "shell.execute_reply": "2024-02-25T21:28:29.562887Z"
    },
    "id": "wnzi7JCOIA1v"
   },
   "outputs": [
    {
     "name": "stderr",
     "output_type": "stream",
     "text": [
      "Cloning into 'sedona'...\n"
     ]
    }
   ],
   "source": [
    "%%bash\n",
    "# it would be more efficient to just download the \"data\" folder and not the whole repo\n",
    "[ -d sedona ] || git clone https://github.com/apache/sedona.git\n",
    "\n",
    "cp -r sedona/binder/data ./"
   ]
  },
  {
   "cell_type": "markdown",
   "metadata": {
    "id": "qQVz6ckaScn8"
   },
   "source": [
    "Verify the presence of data in the designated `data` folder."
   ]
  },
  {
   "cell_type": "code",
   "execution_count": 15,
   "metadata": {
    "colab": {
     "base_uri": "https://localhost:8080/"
    },
    "execution": {
     "iopub.execute_input": "2024-02-25T21:28:29.567034Z",
     "iopub.status.busy": "2024-02-25T21:28:29.566536Z",
     "iopub.status.idle": "2024-02-25T21:28:29.691390Z",
     "shell.execute_reply": "2024-02-25T21:28:29.690658Z"
    },
    "id": "Rxy-t1JnRnf6",
    "outputId": "0cfc7552-1a33-407e-9a9d-bfc7bcd901b8"
   },
   "outputs": [
    {
     "name": "stdout",
     "output_type": "stream",
     "text": [
      "arealm-small.csv\t\tne_50m_airports\r\n",
      "county_small.tsv\t\tpolygon\r\n",
      "county_small_wkb.tsv\t\tprimaryroads-linestring.csv\r\n",
      "gis_osm_pois_free_1.cpg\t\tprimaryroads-polygon.csv\r\n",
      "gis_osm_pois_free_1.dbf\t\traster\r\n",
      "gis_osm_pois_free_1.prj\t\ttestPolygon.json\r\n",
      "gis_osm_pois_free_1.shp\t\ttestpoint.csv\r\n",
      "gis_osm_pois_free_1.shx\t\tzcta510-small.csv\r\n",
      "ne_50m_admin_0_countries_lakes\r\n"
     ]
    }
   ],
   "source": [
    "!ls data"
   ]
  },
  {
   "cell_type": "markdown",
   "metadata": {
    "id": "Mk20FV3ZHj_U"
   },
   "source": [
    "# Apache Sedona Core demo\n",
    "\n",
    "The notebook is available at the following link:\n",
    "https://github.com/apache/sedona/blob/master/binder/ApacheSedonaCore.ipynb\n"
   ]
  },
  {
   "cell_type": "markdown",
   "metadata": {
    "id": "AcjGVcGzOjcK"
   },
   "source": [
    "```\n",
    "Licensed to the Apache Software Foundation (ASF) under one\n",
    "or more contributor license agreements.  See the NOTICE file\n",
    "distributed with this work for additional information\n",
    "regarding copyright ownership.  The ASF licenses this file\n",
    "to you under the Apache License, Version 2.0 (the\n",
    "\"License\"); you may not use this file except in compliance\n",
    "with the License.  You may obtain a copy of the License at\n",
    "  http://www.apache.org/licenses/LICENSE-2.0\n",
    "Unless required by applicable law or agreed to in writing,\n",
    "software distributed under the License is distributed on an\n",
    "\"AS IS\" BASIS, WITHOUT WARRANTIES OR CONDITIONS OF ANY\n",
    "KIND, either express or implied.  See the License for the\n",
    "specific language governing permissions and limitations\n",
    "under the License.\n",
    "```"
   ]
  },
  {
   "cell_type": "code",
   "execution_count": 16,
   "metadata": {
    "colab": {
     "base_uri": "https://localhost:8080/"
    },
    "execution": {
     "iopub.execute_input": "2024-02-25T21:28:29.694543Z",
     "iopub.status.busy": "2024-02-25T21:28:29.694134Z",
     "iopub.status.idle": "2024-02-25T21:28:30.084416Z",
     "shell.execute_reply": "2024-02-25T21:28:30.083682Z"
    },
    "id": "sK9oIz0FOjcN",
    "outputId": "a4ce9ce6-a014-4279-8d23-a9555a13574a"
   },
   "outputs": [
    {
     "name": "stdout",
     "output_type": "stream",
     "text": [
      "Skipping SedonaKepler import, verify if keplergl is installed\n",
      "Skipping SedonaPyDeck import, verify if pydeck is installed\n"
     ]
    }
   ],
   "source": [
    "from pyspark.sql import SparkSession\n",
    "from pyspark import StorageLevel\n",
    "import geopandas as gpd\n",
    "import pandas as pd\n",
    "from pyspark.sql.types import StructType\n",
    "from pyspark.sql.types import StructField\n",
    "from pyspark.sql.types import StringType\n",
    "from pyspark.sql.types import LongType\n",
    "from shapely.geometry import Point\n",
    "from shapely.geometry import Polygon\n",
    "\n",
    "from sedona.spark import *\n",
    "from sedona.core.geom.envelope import Envelope\n"
   ]
  },
  {
   "cell_type": "code",
   "execution_count": 17,
   "metadata": {
    "execution": {
     "iopub.execute_input": "2024-02-25T21:28:30.087427Z",
     "iopub.status.busy": "2024-02-25T21:28:30.086787Z",
     "iopub.status.idle": "2024-02-25T21:28:45.924979Z",
     "shell.execute_reply": "2024-02-25T21:28:45.924153Z"
    },
    "id": "HzVqFLBtOjcO"
   },
   "outputs": [
    {
     "name": "stderr",
     "output_type": "stream",
     "text": [
      "https://artifacts.unidata.ucar.edu/repository/unidata-all added as a remote repository with the name: repo-1\n",
      "Ivy Default Cache set to: /home/runner/.ivy2/cache\n",
      "The jars for the packages stored in: /home/runner/.ivy2/jars\n",
      "org.apache.sedona#sedona-spark-3.4_2.12 added as a dependency\n",
      "org.datasyslab#geotools-wrapper added as a dependency\n",
      "uk.co.gresearch.spark#spark-extension_2.12 added as a dependency\n",
      ":: resolving dependencies :: org.apache.spark#spark-submit-parent-9771ec7a-0e5b-4634-9aab-f62ef6997e81;1.0\n",
      "\tconfs: [default]\n"
     ]
    },
    {
     "name": "stdout",
     "output_type": "stream",
     "text": [
      ":: loading settings :: url = jar:file:/opt/hostedtoolcache/Python/3.8.18/x64/lib/python3.8/site-packages/pyspark/jars/ivy-2.5.1.jar!/org/apache/ivy/core/settings/ivysettings.xml\n"
     ]
    },
    {
     "name": "stderr",
     "output_type": "stream",
     "text": [
      "\tfound org.apache.sedona#sedona-spark-3.4_2.12;1.5.1 in central\n"
     ]
    },
    {
     "name": "stderr",
     "output_type": "stream",
     "text": [
      "\tfound org.apache.sedona#sedona-common;1.5.1 in central\n"
     ]
    },
    {
     "name": "stderr",
     "output_type": "stream",
     "text": [
      "\tfound org.apache.commons#commons-math3;3.6.1 in central\n"
     ]
    },
    {
     "name": "stderr",
     "output_type": "stream",
     "text": [
      "\tfound org.locationtech.jts#jts-core;1.19.0 in central\n",
      "\tfound org.wololo#jts2geojson;0.16.1 in central\n",
      "\tfound org.locationtech.spatial4j#spatial4j;0.8 in central\n",
      "\tfound com.google.geometry#s2-geometry;2.0.0 in central\n"
     ]
    },
    {
     "name": "stderr",
     "output_type": "stream",
     "text": [
      "\tfound com.google.guava#guava;25.1-jre in central\n",
      "\tfound com.google.code.findbugs#jsr305;3.0.2 in central\n",
      "\tfound org.checkerframework#checker-qual;2.0.0 in central\n"
     ]
    },
    {
     "name": "stderr",
     "output_type": "stream",
     "text": [
      "\tfound com.google.errorprone#error_prone_annotations;2.1.3 in central\n",
      "\tfound com.google.j2objc#j2objc-annotations;1.1 in central\n"
     ]
    },
    {
     "name": "stderr",
     "output_type": "stream",
     "text": [
      "\tfound org.codehaus.mojo#animal-sniffer-annotations;1.14 in central\n",
      "\tfound com.uber#h3;4.1.1 in central\n",
      "\tfound net.sf.geographiclib#GeographicLib-Java;1.52 in central\n",
      "\tfound com.github.ben-manes.caffeine#caffeine;2.9.2 in central\n",
      "\tfound org.checkerframework#checker-qual;3.10.0 in central\n"
     ]
    },
    {
     "name": "stderr",
     "output_type": "stream",
     "text": [
      "\tfound com.google.errorprone#error_prone_annotations;2.5.1 in central\n",
      "\tfound org.apache.sedona#sedona-spark-common-3.4_2.12;1.5.1 in central\n"
     ]
    },
    {
     "name": "stderr",
     "output_type": "stream",
     "text": [
      "\tfound commons-lang#commons-lang;2.6 in central\n",
      "\tfound org.scala-lang.modules#scala-collection-compat_2.12;2.5.0 in central\n",
      "\tfound org.beryx#awt-color-factory;1.0.0 in central\n",
      "\tfound org.datasyslab#geotools-wrapper;1.5.1-28.2 in central\n",
      "\tfound uk.co.gresearch.spark#spark-extension_2.12;2.11.0-3.4 in central\n",
      "\tfound com.github.scopt#scopt_2.12;4.1.0 in central\n",
      "downloading https://repo1.maven.org/maven2/org/apache/sedona/sedona-spark-3.4_2.12/1.5.1/sedona-spark-3.4_2.12-1.5.1.jar ...\n",
      "\t[SUCCESSFUL ] org.apache.sedona#sedona-spark-3.4_2.12;1.5.1!sedona-spark-3.4_2.12.jar (26ms)\n",
      "downloading https://repo1.maven.org/maven2/org/datasyslab/geotools-wrapper/1.5.1-28.2/geotools-wrapper-1.5.1-28.2.jar ...\n"
     ]
    },
    {
     "name": "stderr",
     "output_type": "stream",
     "text": [
      "\t[SUCCESSFUL ] org.datasyslab#geotools-wrapper;1.5.1-28.2!geotools-wrapper.jar (285ms)\n",
      "downloading https://repo1.maven.org/maven2/uk/co/gresearch/spark/spark-extension_2.12/2.11.0-3.4/spark-extension_2.12-2.11.0-3.4.jar ...\n",
      "\t[SUCCESSFUL ] uk.co.gresearch.spark#spark-extension_2.12;2.11.0-3.4!spark-extension_2.12.jar (10ms)\n",
      "downloading https://repo1.maven.org/maven2/org/apache/sedona/sedona-common/1.5.1/sedona-common-1.5.1.jar ...\n",
      "\t[SUCCESSFUL ] org.apache.sedona#sedona-common;1.5.1!sedona-common.jar (21ms)\n",
      "downloading https://repo1.maven.org/maven2/org/apache/sedona/sedona-spark-common-3.4_2.12/1.5.1/sedona-spark-common-3.4_2.12-1.5.1.jar ...\n",
      "\t[SUCCESSFUL ] org.apache.sedona#sedona-spark-common-3.4_2.12;1.5.1!sedona-spark-common-3.4_2.12.jar (38ms)\n",
      "downloading https://repo1.maven.org/maven2/org/locationtech/jts/jts-core/1.19.0/jts-core-1.19.0.jar ...\n",
      "\t[SUCCESSFUL ] org.locationtech.jts#jts-core;1.19.0!jts-core.jar(bundle) (18ms)\n",
      "downloading https://repo1.maven.org/maven2/org/wololo/jts2geojson/0.16.1/jts2geojson-0.16.1.jar ...\n",
      "\t[SUCCESSFUL ] org.wololo#jts2geojson;0.16.1!jts2geojson.jar (25ms)\n",
      "downloading https://repo1.maven.org/maven2/org/scala-lang/modules/scala-collection-compat_2.12/2.5.0/scala-collection-compat_2.12-2.5.0.jar ...\n",
      "\t[SUCCESSFUL ] org.scala-lang.modules#scala-collection-compat_2.12;2.5.0!scala-collection-compat_2.12.jar (7ms)\n",
      "downloading https://repo1.maven.org/maven2/org/apache/commons/commons-math3/3.6.1/commons-math3-3.6.1.jar ...\n",
      "\t[SUCCESSFUL ] org.apache.commons#commons-math3;3.6.1!commons-math3.jar (19ms)\n",
      "downloading https://repo1.maven.org/maven2/org/locationtech/spatial4j/spatial4j/0.8/spatial4j-0.8.jar ...\n",
      "\t[SUCCESSFUL ] org.locationtech.spatial4j#spatial4j;0.8!spatial4j.jar(bundle) (22ms)\n",
      "downloading https://repo1.maven.org/maven2/com/google/geometry/s2-geometry/2.0.0/s2-geometry-2.0.0.jar ...\n",
      "\t[SUCCESSFUL ] com.google.geometry#s2-geometry;2.0.0!s2-geometry.jar (28ms)\n",
      "downloading https://repo1.maven.org/maven2/com/uber/h3/4.1.1/h3-4.1.1.jar ...\n"
     ]
    },
    {
     "name": "stderr",
     "output_type": "stream",
     "text": [
      "\t[SUCCESSFUL ] com.uber#h3;4.1.1!h3.jar (27ms)\n",
      "downloading https://repo1.maven.org/maven2/net/sf/geographiclib/GeographicLib-Java/1.52/GeographicLib-Java-1.52.jar ...\n",
      "\t[SUCCESSFUL ] net.sf.geographiclib#GeographicLib-Java;1.52!GeographicLib-Java.jar (13ms)\n",
      "downloading https://repo1.maven.org/maven2/com/github/ben-manes/caffeine/caffeine/2.9.2/caffeine-2.9.2.jar ...\n",
      "\t[SUCCESSFUL ] com.github.ben-manes.caffeine#caffeine;2.9.2!caffeine.jar (33ms)\n",
      "downloading https://repo1.maven.org/maven2/com/google/guava/guava/25.1-jre/guava-25.1-jre.jar ...\n",
      "\t[SUCCESSFUL ] com.google.guava#guava;25.1-jre!guava.jar(bundle) (40ms)\n",
      "downloading https://repo1.maven.org/maven2/com/google/code/findbugs/jsr305/3.0.2/jsr305-3.0.2.jar ...\n",
      "\t[SUCCESSFUL ] com.google.code.findbugs#jsr305;3.0.2!jsr305.jar (5ms)\n",
      "downloading https://repo1.maven.org/maven2/com/google/j2objc/j2objc-annotations/1.1/j2objc-annotations-1.1.jar ...\n",
      "\t[SUCCESSFUL ] com.google.j2objc#j2objc-annotations;1.1!j2objc-annotations.jar (12ms)\n",
      "downloading https://repo1.maven.org/maven2/org/codehaus/mojo/animal-sniffer-annotations/1.14/animal-sniffer-annotations-1.14.jar ...\n",
      "\t[SUCCESSFUL ] org.codehaus.mojo#animal-sniffer-annotations;1.14!animal-sniffer-annotations.jar (4ms)\n",
      "downloading https://repo1.maven.org/maven2/org/checkerframework/checker-qual/3.10.0/checker-qual-3.10.0.jar ...\n",
      "\t[SUCCESSFUL ] org.checkerframework#checker-qual;3.10.0!checker-qual.jar (18ms)\n",
      "downloading https://repo1.maven.org/maven2/com/google/errorprone/error_prone_annotations/2.5.1/error_prone_annotations-2.5.1.jar ...\n",
      "\t[SUCCESSFUL ] com.google.errorprone#error_prone_annotations;2.5.1!error_prone_annotations.jar (4ms)\n",
      "downloading https://repo1.maven.org/maven2/commons-lang/commons-lang/2.6/commons-lang-2.6.jar ...\n",
      "\t[SUCCESSFUL ] commons-lang#commons-lang;2.6!commons-lang.jar (10ms)\n",
      "downloading https://repo1.maven.org/maven2/org/beryx/awt-color-factory/1.0.0/awt-color-factory-1.0.0.jar ...\n",
      "\t[SUCCESSFUL ] org.beryx#awt-color-factory;1.0.0!awt-color-factory.jar (6ms)\n",
      "downloading https://repo1.maven.org/maven2/com/github/scopt/scopt_2.12/4.1.0/scopt_2.12-4.1.0.jar ...\n",
      "\t[SUCCESSFUL ] com.github.scopt#scopt_2.12;4.1.0!scopt_2.12.jar (7ms)\n",
      ":: resolution report :: resolve 6668ms :: artifacts dl 690ms\n",
      "\t:: modules in use:\n",
      "\tcom.github.ben-manes.caffeine#caffeine;2.9.2 from central in [default]\n",
      "\tcom.github.scopt#scopt_2.12;4.1.0 from central in [default]\n",
      "\tcom.google.code.findbugs#jsr305;3.0.2 from central in [default]\n",
      "\tcom.google.errorprone#error_prone_annotations;2.5.1 from central in [default]\n",
      "\tcom.google.geometry#s2-geometry;2.0.0 from central in [default]\n",
      "\tcom.google.guava#guava;25.1-jre from central in [default]\n",
      "\tcom.google.j2objc#j2objc-annotations;1.1 from central in [default]\n",
      "\tcom.uber#h3;4.1.1 from central in [default]\n",
      "\tcommons-lang#commons-lang;2.6 from central in [default]\n",
      "\tnet.sf.geographiclib#GeographicLib-Java;1.52 from central in [default]\n",
      "\torg.apache.commons#commons-math3;3.6.1 from central in [default]\n",
      "\torg.apache.sedona#sedona-common;1.5.1 from central in [default]\n",
      "\torg.apache.sedona#sedona-spark-3.4_2.12;1.5.1 from central in [default]\n",
      "\torg.apache.sedona#sedona-spark-common-3.4_2.12;1.5.1 from central in [default]\n",
      "\torg.beryx#awt-color-factory;1.0.0 from central in [default]\n",
      "\torg.checkerframework#checker-qual;3.10.0 from central in [default]\n",
      "\torg.codehaus.mojo#animal-sniffer-annotations;1.14 from central in [default]\n",
      "\torg.datasyslab#geotools-wrapper;1.5.1-28.2 from central in [default]\n",
      "\torg.locationtech.jts#jts-core;1.19.0 from central in [default]\n",
      "\torg.locationtech.spatial4j#spatial4j;0.8 from central in [default]\n",
      "\torg.scala-lang.modules#scala-collection-compat_2.12;2.5.0 from central in [default]\n",
      "\torg.wololo#jts2geojson;0.16.1 from central in [default]\n",
      "\tuk.co.gresearch.spark#spark-extension_2.12;2.11.0-3.4 from central in [default]\n",
      "\t:: evicted modules:\n",
      "\torg.checkerframework#checker-qual;2.0.0 by [org.checkerframework#checker-qual;3.10.0] in [default]\n",
      "\tcom.google.errorprone#error_prone_annotations;2.1.3 by [com.google.errorprone#error_prone_annotations;2.5.1] in [default]\n",
      "\t---------------------------------------------------------------------\n",
      "\t|                  |            modules            ||   artifacts   |\n",
      "\t|       conf       | number| search|dwnlded|evicted|| number|dwnlded|\n",
      "\t---------------------------------------------------------------------\n",
      "\t|      default     |   25  |   25  |   25  |   2   ||   23  |   23  |\n",
      "\t---------------------------------------------------------------------\n",
      ":: retrieving :: org.apache.spark#spark-submit-parent-9771ec7a-0e5b-4634-9aab-f62ef6997e81\n",
      "\tconfs: [default]\n"
     ]
    },
    {
     "name": "stderr",
     "output_type": "stream",
     "text": [
      "\t23 artifacts copied, 0 already retrieved (42471kB/79ms)\n",
      "24/02/25 21:28:39 WARN NativeCodeLoader: Unable to load native-hadoop library for your platform... using builtin-java classes where applicable\n"
     ]
    },
    {
     "name": "stderr",
     "output_type": "stream",
     "text": [
      "Setting default log level to \"WARN\".\n",
      "To adjust logging level use sc.setLogLevel(newLevel). For SparkR, use setLogLevel(newLevel).\n"
     ]
    }
   ],
   "source": [
    "config = SedonaContext.builder() .\\\n",
    "    config('spark.jars.packages',\n",
    "           'org.apache.sedona:sedona-spark-3.4_2.12:1.5.1,'\n",
    "           'org.datasyslab:geotools-wrapper:1.5.1-28.2,'\n",
    "           'uk.co.gresearch.spark:spark-extension_2.12:2.11.0-3.4'). \\\n",
    "    config('spark.jars.repositories', 'https://artifacts.unidata.ucar.edu/repository/unidata-all'). \\\n",
    "    getOrCreate()\n",
    "\n",
    "sedona = SedonaContext.create(config)"
   ]
  },
  {
   "cell_type": "code",
   "execution_count": 18,
   "metadata": {
    "execution": {
     "iopub.execute_input": "2024-02-25T21:28:45.929496Z",
     "iopub.status.busy": "2024-02-25T21:28:45.928780Z",
     "iopub.status.idle": "2024-02-25T21:28:45.933504Z",
     "shell.execute_reply": "2024-02-25T21:28:45.932733Z"
    },
    "id": "JI32GOnEOjcO"
   },
   "outputs": [],
   "source": [
    "sc = sedona.sparkContext"
   ]
  },
  {
   "cell_type": "markdown",
   "metadata": {
    "id": "OdQM3oaYOjcO"
   },
   "source": [
    "# Create SpatialRDD"
   ]
  },
  {
   "cell_type": "markdown",
   "metadata": {
    "id": "X2umXxYfOjcO"
   },
   "source": [
    "## Reading to PointRDD from CSV file"
   ]
  },
  {
   "cell_type": "markdown",
   "metadata": {
    "id": "j8Rgv--0OjcP"
   },
   "source": [
    "Suppose we want load the CSV file into Apache Sedona PointRDD\n",
    "```\n",
    "testattribute0,-88.331492,32.324142,testattribute1,testattribute2\n",
    "testattribute0,-88.175933,32.360763,testattribute1,testattribute2\n",
    "testattribute0,-88.388954,32.357073,testattribute1,testattribute2\n",
    "testattribute0,-88.221102,32.35078,testattribute1,testattribute2\n",
    "testattribute0,-88.323995,32.950671,testattribute1,testattribute2\n",
    "testattribute0,-88.231077,32.700812,testattribute1,testattribute2\n",
    "```"
   ]
  },
  {
   "cell_type": "code",
   "execution_count": 19,
   "metadata": {
    "execution": {
     "iopub.execute_input": "2024-02-25T21:28:45.937870Z",
     "iopub.status.busy": "2024-02-25T21:28:45.937027Z",
     "iopub.status.idle": "2024-02-25T21:28:46.287548Z",
     "shell.execute_reply": "2024-02-25T21:28:46.286652Z"
    },
    "id": "gusbYu1fOjcP"
   },
   "outputs": [],
   "source": [
    "point_rdd = PointRDD(sc, \"data/arealm-small.csv\", 1, FileDataSplitter.CSV, True, 10)"
   ]
  },
  {
   "cell_type": "code",
   "execution_count": 20,
   "metadata": {
    "colab": {
     "base_uri": "https://localhost:8080/"
    },
    "execution": {
     "iopub.execute_input": "2024-02-25T21:28:46.291702Z",
     "iopub.status.busy": "2024-02-25T21:28:46.291182Z",
     "iopub.status.idle": "2024-02-25T21:28:46.296756Z",
     "shell.execute_reply": "2024-02-25T21:28:46.296052Z"
    },
    "id": "Ykc5FwouOjcP",
    "outputId": "4a981655-2238-4bb4-fd67-7c56584585a0"
   },
   "outputs": [
    {
     "data": {
      "text/plain": [
       "3000"
      ]
     },
     "execution_count": 20,
     "metadata": {},
     "output_type": "execute_result"
    }
   ],
   "source": [
    "## Getting approximate total count\n",
    "point_rdd.approximateTotalCount"
   ]
  },
  {
   "cell_type": "code",
   "execution_count": 21,
   "metadata": {
    "colab": {
     "base_uri": "https://localhost:8080/",
     "height": 121
    },
    "execution": {
     "iopub.execute_input": "2024-02-25T21:28:46.299686Z",
     "iopub.status.busy": "2024-02-25T21:28:46.299118Z",
     "iopub.status.idle": "2024-02-25T21:28:46.384765Z",
     "shell.execute_reply": "2024-02-25T21:28:46.383955Z"
    },
    "id": "PdEjrrRHOjcP",
    "outputId": "fc0d5620-a4eb-4e37-e819-3e04e16ddcd4"
   },
   "outputs": [
    {
     "data": {
      "image/svg+xml": [
       "<svg xmlns=\"http://www.w3.org/2000/svg\" xmlns:xlink=\"http://www.w3.org/1999/xlink\" width=\"100.0\" height=\"100.0\" viewBox=\"-176.64696132 26.718666680000002 95.20719264000002 48.162659640000015\" preserveAspectRatio=\"xMinYMin meet\"><g transform=\"matrix(1,0,0,-1,0,101.59999300000001)\"><path fill-rule=\"evenodd\" fill=\"#66cc99\" stroke=\"#555555\" stroke-width=\"1.9041438528000003\" opacity=\"0.6\" d=\"M -173.120769,30.244859 L -173.120769,71.355134 L -84.965961,71.355134 L -84.965961,30.244859 L -173.120769,30.244859 z\" /></g></svg>"
      ],
      "text/plain": [
       "Envelope(-173.120769, -84.965961, 30.244859, 71.355134)"
      ]
     },
     "execution_count": 21,
     "metadata": {},
     "output_type": "execute_result"
    }
   ],
   "source": [
    "# getting boundary for PointRDD or any other SpatialRDD, it returns Enelope object which inherits from\n",
    "# shapely.geometry.Polygon\n",
    "point_rdd.boundary()"
   ]
  },
  {
   "cell_type": "code",
   "execution_count": 22,
   "metadata": {
    "colab": {
     "base_uri": "https://localhost:8080/"
    },
    "execution": {
     "iopub.execute_input": "2024-02-25T21:28:46.388278Z",
     "iopub.status.busy": "2024-02-25T21:28:46.388004Z",
     "iopub.status.idle": "2024-02-25T21:28:46.472413Z",
     "shell.execute_reply": "2024-02-25T21:28:46.471651Z"
    },
    "id": "MDV2-f2tOjcP",
    "outputId": "626448bb-0e07-4463-9830-7ec607546fcd"
   },
   "outputs": [
    {
     "data": {
      "text/plain": [
       "True"
      ]
     },
     "execution_count": 22,
     "metadata": {},
     "output_type": "execute_result"
    }
   ],
   "source": [
    "# To run analyze please use function analyze\n",
    "point_rdd.analyze()"
   ]
  },
  {
   "cell_type": "code",
   "execution_count": 23,
   "metadata": {
    "colab": {
     "base_uri": "https://localhost:8080/",
     "height": 121
    },
    "execution": {
     "iopub.execute_input": "2024-02-25T21:28:46.476044Z",
     "iopub.status.busy": "2024-02-25T21:28:46.475773Z",
     "iopub.status.idle": "2024-02-25T21:28:46.484579Z",
     "shell.execute_reply": "2024-02-25T21:28:46.483869Z"
    },
    "id": "puMA8o6POjcP",
    "outputId": "3b701a97-f5ca-4316-e345-35416125e9f8"
   },
   "outputs": [
    {
     "data": {
      "image/svg+xml": [
       "<svg xmlns=\"http://www.w3.org/2000/svg\" xmlns:xlink=\"http://www.w3.org/1999/xlink\" width=\"100.0\" height=\"100.0\" viewBox=\"-176.64696132 26.718666680000002 95.20719264000002 48.162659640000015\" preserveAspectRatio=\"xMinYMin meet\"><g transform=\"matrix(1,0,0,-1,0,101.59999300000001)\"><path fill-rule=\"evenodd\" fill=\"#66cc99\" stroke=\"#555555\" stroke-width=\"1.9041438528000003\" opacity=\"0.6\" d=\"M -173.120769,30.244859 L -173.120769,71.355134 L -84.965961,71.355134 L -84.965961,30.244859 L -173.120769,30.244859 z\" /></g></svg>"
      ],
      "text/plain": [
       "Envelope(-173.120769, -84.965961, 30.244859, 71.355134)"
      ]
     },
     "execution_count": 23,
     "metadata": {},
     "output_type": "execute_result"
    }
   ],
   "source": [
    "# Finding boundary envelope for PointRDD or any other SpatialRDD, it returns Enelope object which inherits from\n",
    "# shapely.geometry.Polygon\n",
    "point_rdd.boundaryEnvelope"
   ]
  },
  {
   "cell_type": "code",
   "execution_count": 24,
   "metadata": {
    "colab": {
     "base_uri": "https://localhost:8080/"
    },
    "execution": {
     "iopub.execute_input": "2024-02-25T21:28:46.488428Z",
     "iopub.status.busy": "2024-02-25T21:28:46.487941Z",
     "iopub.status.idle": "2024-02-25T21:28:46.651294Z",
     "shell.execute_reply": "2024-02-25T21:28:46.650581Z"
    },
    "id": "hgOCi8lJOjcQ",
    "outputId": "fbf49d82-845e-4ddb-a178-c6d5817de5d6"
   },
   "outputs": [
    {
     "data": {
      "text/plain": [
       "2996"
      ]
     },
     "execution_count": 24,
     "metadata": {},
     "output_type": "execute_result"
    }
   ],
   "source": [
    "# Calculate number of records without duplicates\n",
    "point_rdd.countWithoutDuplicates()"
   ]
  },
  {
   "cell_type": "code",
   "execution_count": 25,
   "metadata": {
    "colab": {
     "base_uri": "https://localhost:8080/",
     "height": 35
    },
    "execution": {
     "iopub.execute_input": "2024-02-25T21:28:46.655222Z",
     "iopub.status.busy": "2024-02-25T21:28:46.654559Z",
     "iopub.status.idle": "2024-02-25T21:28:46.661576Z",
     "shell.execute_reply": "2024-02-25T21:28:46.660800Z"
    },
    "id": "-l1BvhakOjcQ",
    "outputId": "f67bcf6c-e663-4fa3-ee71-bccd904b6806"
   },
   "outputs": [
    {
     "data": {
      "text/plain": [
       "''"
      ]
     },
     "execution_count": 25,
     "metadata": {},
     "output_type": "execute_result"
    }
   ],
   "source": [
    "# Getting source epsg code\n",
    "point_rdd.getSourceEpsgCode()"
   ]
  },
  {
   "cell_type": "code",
   "execution_count": 26,
   "metadata": {
    "colab": {
     "base_uri": "https://localhost:8080/",
     "height": 35
    },
    "execution": {
     "iopub.execute_input": "2024-02-25T21:28:46.665128Z",
     "iopub.status.busy": "2024-02-25T21:28:46.664689Z",
     "iopub.status.idle": "2024-02-25T21:28:46.669774Z",
     "shell.execute_reply": "2024-02-25T21:28:46.669054Z"
    },
    "id": "tiFEDeNdOjcQ",
    "outputId": "cc91916a-dcbf-442f-ff95-662975ddc04d"
   },
   "outputs": [
    {
     "data": {
      "text/plain": [
       "''"
      ]
     },
     "execution_count": 26,
     "metadata": {},
     "output_type": "execute_result"
    }
   ],
   "source": [
    "# Getting target epsg code\n",
    "point_rdd.getTargetEpsgCode()"
   ]
  },
  {
   "cell_type": "code",
   "execution_count": 27,
   "metadata": {
    "colab": {
     "base_uri": "https://localhost:8080/"
    },
    "execution": {
     "iopub.execute_input": "2024-02-25T21:28:46.673181Z",
     "iopub.status.busy": "2024-02-25T21:28:46.672764Z",
     "iopub.status.idle": "2024-02-25T21:28:46.814979Z",
     "shell.execute_reply": "2024-02-25T21:28:46.814235Z"
    },
    "id": "oip1bNogOjcQ",
    "outputId": "dfb01317-0542-4763-ee44-96b6e5eff05a"
   },
   "outputs": [
    {
     "data": {
      "text/plain": [
       "True"
      ]
     },
     "execution_count": 27,
     "metadata": {},
     "output_type": "execute_result"
    }
   ],
   "source": [
    "# Spatial partitioning data\n",
    "point_rdd.spatialPartitioning(GridType.KDBTREE)"
   ]
  },
  {
   "cell_type": "markdown",
   "metadata": {
    "id": "setaW5adOjcQ"
   },
   "source": [
    "## Operations on RawSpatialRDD"
   ]
  },
  {
   "cell_type": "markdown",
   "metadata": {
    "id": "XeAQe3qqOjcQ"
   },
   "source": [
    "rawSpatialRDD method returns RDD which consists of GeoData objects which has 2 attributes\n",
    "<li> geom: shapely.geometry.BaseGeometry </li>\n",
    "<li> userData: str </li>\n",
    "\n",
    "You can use any operations on those objects and spread across machines"
   ]
  },
  {
   "cell_type": "code",
   "execution_count": 28,
   "metadata": {
    "colab": {
     "base_uri": "https://localhost:8080/"
    },
    "execution": {
     "iopub.execute_input": "2024-02-25T21:28:46.819139Z",
     "iopub.status.busy": "2024-02-25T21:28:46.818877Z",
     "iopub.status.idle": "2024-02-25T21:28:47.689280Z",
     "shell.execute_reply": "2024-02-25T21:28:47.688474Z"
    },
    "id": "pNlkO6kYOjcR",
    "outputId": "d2a40cc1-dca5-413a-e4f0-d22c0c2be1a1"
   },
   "outputs": [
    {
     "name": "stderr",
     "output_type": "stream",
     "text": [
      "\r",
      "[Stage 8:>                                                          (0 + 1) / 1]\r",
      "\r",
      "                                                                                \r"
     ]
    },
    {
     "data": {
      "text/plain": [
       "[Geometry: Point userData: testattribute0\ttestattribute1\ttestattribute2]"
      ]
     },
     "execution_count": 28,
     "metadata": {},
     "output_type": "execute_result"
    }
   ],
   "source": [
    "# take firs element\n",
    "point_rdd.rawSpatialRDD.take(1)"
   ]
  },
  {
   "cell_type": "code",
   "execution_count": 29,
   "metadata": {
    "colab": {
     "base_uri": "https://localhost:8080/"
    },
    "execution": {
     "iopub.execute_input": "2024-02-25T21:28:47.692616Z",
     "iopub.status.busy": "2024-02-25T21:28:47.692110Z",
     "iopub.status.idle": "2024-02-25T21:28:47.981578Z",
     "shell.execute_reply": "2024-02-25T21:28:47.980903Z"
    },
    "id": "22UNTZiIOjcR",
    "outputId": "ec6cad29-26a3-44c6-8d0e-477397864945"
   },
   "outputs": [
    {
     "data": {
      "text/plain": [
       "[Geometry: Point userData: testattribute0\ttestattribute1\ttestattribute2,\n",
       " Geometry: Point userData: testattribute0\ttestattribute1\ttestattribute2,\n",
       " Geometry: Point userData: testattribute0\ttestattribute1\ttestattribute2,\n",
       " Geometry: Point userData: testattribute0\ttestattribute1\ttestattribute2,\n",
       " Geometry: Point userData: testattribute0\ttestattribute1\ttestattribute2]"
      ]
     },
     "execution_count": 29,
     "metadata": {},
     "output_type": "execute_result"
    }
   ],
   "source": [
    "# collect to Python list\n",
    "point_rdd.rawSpatialRDD.collect()[:5]"
   ]
  },
  {
   "cell_type": "code",
   "execution_count": 30,
   "metadata": {
    "colab": {
     "base_uri": "https://localhost:8080/"
    },
    "execution": {
     "iopub.execute_input": "2024-02-25T21:28:47.984738Z",
     "iopub.status.busy": "2024-02-25T21:28:47.984231Z",
     "iopub.status.idle": "2024-02-25T21:28:48.256104Z",
     "shell.execute_reply": "2024-02-25T21:28:48.255420Z"
    },
    "id": "_vz8jzj6OjcR",
    "outputId": "305812a3-9435-412f-d331-0d1f09544b41"
   },
   "outputs": [
    {
     "data": {
      "text/plain": [
       "[111.08786851399313,\n",
       " 110.92828303170774,\n",
       " 111.1385974283527,\n",
       " 110.97450594034112,\n",
       " 110.97122518072091]"
      ]
     },
     "execution_count": 30,
     "metadata": {},
     "output_type": "execute_result"
    }
   ],
   "source": [
    "# apply map functions, for example distance to Point(52 21)\n",
    "point_rdd.rawSpatialRDD.map(lambda x: x.geom.distance(Point(21, 52))).take(5)"
   ]
  },
  {
   "cell_type": "markdown",
   "metadata": {
    "id": "VJUwfnWbOjcR"
   },
   "source": [
    "## Transforming to GeoPandas"
   ]
  },
  {
   "cell_type": "markdown",
   "metadata": {
    "id": "HJT4cqunOjcR"
   },
   "source": [
    "## Loaded data can be transformed to GeoPandas DataFrame in a few ways"
   ]
  },
  {
   "cell_type": "markdown",
   "metadata": {
    "id": "ENst5TKKOjcR"
   },
   "source": [
    "### Directly from RDD"
   ]
  },
  {
   "cell_type": "code",
   "execution_count": 31,
   "metadata": {
    "execution": {
     "iopub.execute_input": "2024-02-25T21:28:48.259327Z",
     "iopub.status.busy": "2024-02-25T21:28:48.258831Z",
     "iopub.status.idle": "2024-02-25T21:28:48.265283Z",
     "shell.execute_reply": "2024-02-25T21:28:48.264643Z"
    },
    "id": "khvSdVtROjcR"
   },
   "outputs": [],
   "source": [
    "point_rdd_to_geo = point_rdd.rawSpatialRDD.map(lambda x: [x.geom, *x.getUserData().split(\"\\t\")])"
   ]
  },
  {
   "cell_type": "code",
   "execution_count": 32,
   "metadata": {
    "execution": {
     "iopub.execute_input": "2024-02-25T21:28:48.268196Z",
     "iopub.status.busy": "2024-02-25T21:28:48.267620Z",
     "iopub.status.idle": "2024-02-25T21:28:49.122542Z",
     "shell.execute_reply": "2024-02-25T21:28:49.121853Z"
    },
    "id": "h_aQLibwOjcR"
   },
   "outputs": [
    {
     "name": "stderr",
     "output_type": "stream",
     "text": [
      "\r",
      "[Stage 11:=============================================>           (8 + 2) / 10]\r",
      "\r",
      "                                                                                \r"
     ]
    }
   ],
   "source": [
    "point_gdf = gpd.GeoDataFrame(\n",
    "    point_rdd_to_geo.collect(), columns=[\"geom\", \"attr1\", \"attr2\", \"attr3\"], geometry=\"geom\"\n",
    ")"
   ]
  },
  {
   "cell_type": "code",
   "execution_count": 33,
   "metadata": {
    "colab": {
     "base_uri": "https://localhost:8080/",
     "height": 0
    },
    "execution": {
     "iopub.execute_input": "2024-02-25T21:28:49.125280Z",
     "iopub.status.busy": "2024-02-25T21:28:49.124899Z",
     "iopub.status.idle": "2024-02-25T21:28:49.135045Z",
     "shell.execute_reply": "2024-02-25T21:28:49.134389Z"
    },
    "id": "Ht7qYNuwOjcS",
    "outputId": "a5f39f31-a0f7-414d-d3fe-17d7625cf0e4"
   },
   "outputs": [
    {
     "data": {
      "text/html": [
       "<div>\n",
       "<style scoped>\n",
       "    .dataframe tbody tr th:only-of-type {\n",
       "        vertical-align: middle;\n",
       "    }\n",
       "\n",
       "    .dataframe tbody tr th {\n",
       "        vertical-align: top;\n",
       "    }\n",
       "\n",
       "    .dataframe thead th {\n",
       "        text-align: right;\n",
       "    }\n",
       "</style>\n",
       "<table border=\"1\" class=\"dataframe\">\n",
       "  <thead>\n",
       "    <tr style=\"text-align: right;\">\n",
       "      <th></th>\n",
       "      <th>geom</th>\n",
       "      <th>attr1</th>\n",
       "      <th>attr2</th>\n",
       "      <th>attr3</th>\n",
       "    </tr>\n",
       "  </thead>\n",
       "  <tbody>\n",
       "    <tr>\n",
       "      <th>0</th>\n",
       "      <td>POINT (-88.33149 32.32414)</td>\n",
       "      <td>testattribute0</td>\n",
       "      <td>testattribute1</td>\n",
       "      <td>testattribute2</td>\n",
       "    </tr>\n",
       "    <tr>\n",
       "      <th>1</th>\n",
       "      <td>POINT (-88.17593 32.36076)</td>\n",
       "      <td>testattribute0</td>\n",
       "      <td>testattribute1</td>\n",
       "      <td>testattribute2</td>\n",
       "    </tr>\n",
       "    <tr>\n",
       "      <th>2</th>\n",
       "      <td>POINT (-88.38895 32.35707)</td>\n",
       "      <td>testattribute0</td>\n",
       "      <td>testattribute1</td>\n",
       "      <td>testattribute2</td>\n",
       "    </tr>\n",
       "    <tr>\n",
       "      <th>3</th>\n",
       "      <td>POINT (-88.22110 32.35078)</td>\n",
       "      <td>testattribute0</td>\n",
       "      <td>testattribute1</td>\n",
       "      <td>testattribute2</td>\n",
       "    </tr>\n",
       "    <tr>\n",
       "      <th>4</th>\n",
       "      <td>POINT (-88.32399 32.95067)</td>\n",
       "      <td>testattribute0</td>\n",
       "      <td>testattribute1</td>\n",
       "      <td>testattribute2</td>\n",
       "    </tr>\n",
       "  </tbody>\n",
       "</table>\n",
       "</div>"
      ],
      "text/plain": [
       "                         geom           attr1           attr2           attr3\n",
       "0  POINT (-88.33149 32.32414)  testattribute0  testattribute1  testattribute2\n",
       "1  POINT (-88.17593 32.36076)  testattribute0  testattribute1  testattribute2\n",
       "2  POINT (-88.38895 32.35707)  testattribute0  testattribute1  testattribute2\n",
       "3  POINT (-88.22110 32.35078)  testattribute0  testattribute1  testattribute2\n",
       "4  POINT (-88.32399 32.95067)  testattribute0  testattribute1  testattribute2"
      ]
     },
     "execution_count": 33,
     "metadata": {},
     "output_type": "execute_result"
    }
   ],
   "source": [
    "point_gdf[:5]"
   ]
  },
  {
   "cell_type": "markdown",
   "metadata": {
    "id": "2vW97p_iOjcS"
   },
   "source": [
    "### Using Adapter"
   ]
  },
  {
   "cell_type": "code",
   "execution_count": 34,
   "metadata": {
    "execution": {
     "iopub.execute_input": "2024-02-25T21:28:49.137661Z",
     "iopub.status.busy": "2024-02-25T21:28:49.137280Z",
     "iopub.status.idle": "2024-02-25T21:28:49.140020Z",
     "shell.execute_reply": "2024-02-25T21:28:49.139419Z"
    },
    "id": "HN0IIhZ8OjcS",
    "tags": []
   },
   "outputs": [],
   "source": [
    "# Adapter allows you to convert geospatial data types introduced with sedona to other ones"
   ]
  },
  {
   "cell_type": "code",
   "execution_count": 35,
   "metadata": {
    "execution": {
     "iopub.execute_input": "2024-02-25T21:28:49.142238Z",
     "iopub.status.busy": "2024-02-25T21:28:49.142037Z",
     "iopub.status.idle": "2024-02-25T21:28:49.244604Z",
     "shell.execute_reply": "2024-02-25T21:28:49.243703Z"
    },
    "id": "69dR65hgOjcS"
   },
   "outputs": [],
   "source": [
    "spatial_df = Adapter.\\\n",
    "    toDf(point_rdd, [\"attr1\", \"attr2\", \"attr3\"], sedona).\\\n",
    "    createOrReplaceTempView(\"spatial_df\")\n",
    "\n",
    "spatial_gdf = sedona.sql(\"Select attr1, attr2, attr3, geometry as geom from spatial_df\")"
   ]
  },
  {
   "cell_type": "code",
   "execution_count": 36,
   "metadata": {
    "colab": {
     "base_uri": "https://localhost:8080/"
    },
    "execution": {
     "iopub.execute_input": "2024-02-25T21:28:49.249133Z",
     "iopub.status.busy": "2024-02-25T21:28:49.248570Z",
     "iopub.status.idle": "2024-02-25T21:28:49.562586Z",
     "shell.execute_reply": "2024-02-25T21:28:49.561781Z"
    },
    "id": "TnGQMPUIOjcS",
    "outputId": "d3923b4f-12a4-43df-f874-8cba67e04bef"
   },
   "outputs": [
    {
     "name": "stdout",
     "output_type": "stream",
     "text": [
      "+--------------+--------------+--------------+----------------------------+\n",
      "|attr1         |attr2         |attr3         |geom                        |\n",
      "+--------------+--------------+--------------+----------------------------+\n",
      "|testattribute0|testattribute1|testattribute2|POINT (-88.331492 32.324142)|\n",
      "|testattribute0|testattribute1|testattribute2|POINT (-88.175933 32.360763)|\n",
      "|testattribute0|testattribute1|testattribute2|POINT (-88.388954 32.357073)|\n",
      "|testattribute0|testattribute1|testattribute2|POINT (-88.221102 32.35078) |\n",
      "|testattribute0|testattribute1|testattribute2|POINT (-88.323995 32.950671)|\n",
      "+--------------+--------------+--------------+----------------------------+\n",
      "only showing top 5 rows\n",
      "\n"
     ]
    }
   ],
   "source": [
    "spatial_gdf.show(5, False)"
   ]
  },
  {
   "cell_type": "code",
   "execution_count": 37,
   "metadata": {
    "colab": {
     "base_uri": "https://localhost:8080/",
     "height": 0
    },
    "execution": {
     "iopub.execute_input": "2024-02-25T21:28:49.566336Z",
     "iopub.status.busy": "2024-02-25T21:28:49.565578Z",
     "iopub.status.idle": "2024-02-25T21:28:50.187323Z",
     "shell.execute_reply": "2024-02-25T21:28:50.186528Z"
    },
    "id": "IdL0awafOjcS",
    "outputId": "cafcd06d-0376-4b32-ff79-dd96936865e9"
   },
   "outputs": [
    {
     "data": {
      "text/html": [
       "<div>\n",
       "<style scoped>\n",
       "    .dataframe tbody tr th:only-of-type {\n",
       "        vertical-align: middle;\n",
       "    }\n",
       "\n",
       "    .dataframe tbody tr th {\n",
       "        vertical-align: top;\n",
       "    }\n",
       "\n",
       "    .dataframe thead th {\n",
       "        text-align: right;\n",
       "    }\n",
       "</style>\n",
       "<table border=\"1\" class=\"dataframe\">\n",
       "  <thead>\n",
       "    <tr style=\"text-align: right;\">\n",
       "      <th></th>\n",
       "      <th>attr1</th>\n",
       "      <th>attr2</th>\n",
       "      <th>attr3</th>\n",
       "      <th>geom</th>\n",
       "    </tr>\n",
       "  </thead>\n",
       "  <tbody>\n",
       "    <tr>\n",
       "      <th>0</th>\n",
       "      <td>testattribute0</td>\n",
       "      <td>testattribute1</td>\n",
       "      <td>testattribute2</td>\n",
       "      <td>POINT (-88.33149 32.32414)</td>\n",
       "    </tr>\n",
       "    <tr>\n",
       "      <th>1</th>\n",
       "      <td>testattribute0</td>\n",
       "      <td>testattribute1</td>\n",
       "      <td>testattribute2</td>\n",
       "      <td>POINT (-88.17593 32.36076)</td>\n",
       "    </tr>\n",
       "    <tr>\n",
       "      <th>2</th>\n",
       "      <td>testattribute0</td>\n",
       "      <td>testattribute1</td>\n",
       "      <td>testattribute2</td>\n",
       "      <td>POINT (-88.38895 32.35707)</td>\n",
       "    </tr>\n",
       "    <tr>\n",
       "      <th>3</th>\n",
       "      <td>testattribute0</td>\n",
       "      <td>testattribute1</td>\n",
       "      <td>testattribute2</td>\n",
       "      <td>POINT (-88.22110 32.35078)</td>\n",
       "    </tr>\n",
       "    <tr>\n",
       "      <th>4</th>\n",
       "      <td>testattribute0</td>\n",
       "      <td>testattribute1</td>\n",
       "      <td>testattribute2</td>\n",
       "      <td>POINT (-88.32399 32.95067)</td>\n",
       "    </tr>\n",
       "  </tbody>\n",
       "</table>\n",
       "</div>"
      ],
      "text/plain": [
       "            attr1           attr2           attr3                        geom\n",
       "0  testattribute0  testattribute1  testattribute2  POINT (-88.33149 32.32414)\n",
       "1  testattribute0  testattribute1  testattribute2  POINT (-88.17593 32.36076)\n",
       "2  testattribute0  testattribute1  testattribute2  POINT (-88.38895 32.35707)\n",
       "3  testattribute0  testattribute1  testattribute2  POINT (-88.22110 32.35078)\n",
       "4  testattribute0  testattribute1  testattribute2  POINT (-88.32399 32.95067)"
      ]
     },
     "execution_count": 37,
     "metadata": {},
     "output_type": "execute_result"
    }
   ],
   "source": [
    "gpd.GeoDataFrame(spatial_gdf.toPandas(), geometry=\"geom\")[:5]"
   ]
  },
  {
   "cell_type": "markdown",
   "metadata": {
    "id": "ilmR8RjIOjcS"
   },
   "source": [
    "### With DataFrame creation"
   ]
  },
  {
   "cell_type": "code",
   "execution_count": 38,
   "metadata": {
    "execution": {
     "iopub.execute_input": "2024-02-25T21:28:50.190801Z",
     "iopub.status.busy": "2024-02-25T21:28:50.190536Z",
     "iopub.status.idle": "2024-02-25T21:28:50.195639Z",
     "shell.execute_reply": "2024-02-25T21:28:50.194969Z"
    },
    "id": "LqgFLBZEOjcT"
   },
   "outputs": [],
   "source": [
    "schema = StructType(\n",
    "    [\n",
    "        StructField(\"geometry\", GeometryType(), False),\n",
    "        StructField(\"attr1\", StringType(), False),\n",
    "        StructField(\"attr2\", StringType(), False),\n",
    "        StructField(\"attr3\", StringType(), False),\n",
    "    ]\n",
    ")"
   ]
  },
  {
   "cell_type": "code",
   "execution_count": 39,
   "metadata": {
    "execution": {
     "iopub.execute_input": "2024-02-25T21:28:50.198887Z",
     "iopub.status.busy": "2024-02-25T21:28:50.198480Z",
     "iopub.status.idle": "2024-02-25T21:28:50.236434Z",
     "shell.execute_reply": "2024-02-25T21:28:50.235620Z"
    },
    "id": "tEO42a4DOjcT"
   },
   "outputs": [],
   "source": [
    "geo_df = sedona.createDataFrame(point_rdd_to_geo, schema, verifySchema=False)"
   ]
  },
  {
   "cell_type": "code",
   "execution_count": 40,
   "metadata": {
    "colab": {
     "base_uri": "https://localhost:8080/",
     "height": 0
    },
    "execution": {
     "iopub.execute_input": "2024-02-25T21:28:50.242194Z",
     "iopub.status.busy": "2024-02-25T21:28:50.240810Z",
     "iopub.status.idle": "2024-02-25T21:28:50.756292Z",
     "shell.execute_reply": "2024-02-25T21:28:50.755575Z"
    },
    "id": "PaIAqir1OjcT",
    "outputId": "89b2c8b0-f645-4ae0-c1be-660c5d7e60ea"
   },
   "outputs": [
    {
     "data": {
      "text/html": [
       "<div>\n",
       "<style scoped>\n",
       "    .dataframe tbody tr th:only-of-type {\n",
       "        vertical-align: middle;\n",
       "    }\n",
       "\n",
       "    .dataframe tbody tr th {\n",
       "        vertical-align: top;\n",
       "    }\n",
       "\n",
       "    .dataframe thead th {\n",
       "        text-align: right;\n",
       "    }\n",
       "</style>\n",
       "<table border=\"1\" class=\"dataframe\">\n",
       "  <thead>\n",
       "    <tr style=\"text-align: right;\">\n",
       "      <th></th>\n",
       "      <th>geometry</th>\n",
       "      <th>attr1</th>\n",
       "      <th>attr2</th>\n",
       "      <th>attr3</th>\n",
       "    </tr>\n",
       "  </thead>\n",
       "  <tbody>\n",
       "    <tr>\n",
       "      <th>0</th>\n",
       "      <td>POINT (-88.33149 32.32414)</td>\n",
       "      <td>testattribute0</td>\n",
       "      <td>testattribute1</td>\n",
       "      <td>testattribute2</td>\n",
       "    </tr>\n",
       "    <tr>\n",
       "      <th>1</th>\n",
       "      <td>POINT (-88.17593 32.36076)</td>\n",
       "      <td>testattribute0</td>\n",
       "      <td>testattribute1</td>\n",
       "      <td>testattribute2</td>\n",
       "    </tr>\n",
       "    <tr>\n",
       "      <th>2</th>\n",
       "      <td>POINT (-88.38895 32.35707)</td>\n",
       "      <td>testattribute0</td>\n",
       "      <td>testattribute1</td>\n",
       "      <td>testattribute2</td>\n",
       "    </tr>\n",
       "    <tr>\n",
       "      <th>3</th>\n",
       "      <td>POINT (-88.22110 32.35078)</td>\n",
       "      <td>testattribute0</td>\n",
       "      <td>testattribute1</td>\n",
       "      <td>testattribute2</td>\n",
       "    </tr>\n",
       "    <tr>\n",
       "      <th>4</th>\n",
       "      <td>POINT (-88.32399 32.95067)</td>\n",
       "      <td>testattribute0</td>\n",
       "      <td>testattribute1</td>\n",
       "      <td>testattribute2</td>\n",
       "    </tr>\n",
       "  </tbody>\n",
       "</table>\n",
       "</div>"
      ],
      "text/plain": [
       "                     geometry           attr1           attr2           attr3\n",
       "0  POINT (-88.33149 32.32414)  testattribute0  testattribute1  testattribute2\n",
       "1  POINT (-88.17593 32.36076)  testattribute0  testattribute1  testattribute2\n",
       "2  POINT (-88.38895 32.35707)  testattribute0  testattribute1  testattribute2\n",
       "3  POINT (-88.22110 32.35078)  testattribute0  testattribute1  testattribute2\n",
       "4  POINT (-88.32399 32.95067)  testattribute0  testattribute1  testattribute2"
      ]
     },
     "execution_count": 40,
     "metadata": {},
     "output_type": "execute_result"
    }
   ],
   "source": [
    "gpd.GeoDataFrame(geo_df.toPandas(), geometry=\"geometry\")[:5]"
   ]
  },
  {
   "cell_type": "markdown",
   "metadata": {
    "id": "kO1EyFACOjcT"
   },
   "source": [
    "# Load Typed SpatialRDDs"
   ]
  },
  {
   "cell_type": "markdown",
   "metadata": {
    "id": "w_0_hHNQOjcT"
   },
   "source": [
    "Currently The library supports 5 typed SpatialRDDs:\n",
    "<li> RectangleRDD </li>\n",
    "<li> PointRDD </li>\n",
    "<li> PolygonRDD </li>\n",
    "<li> LineStringRDD </li>\n",
    "<li> CircleRDD </li>"
   ]
  },
  {
   "cell_type": "code",
   "execution_count": 41,
   "metadata": {
    "execution": {
     "iopub.execute_input": "2024-02-25T21:28:50.759259Z",
     "iopub.status.busy": "2024-02-25T21:28:50.758860Z",
     "iopub.status.idle": "2024-02-25T21:28:51.127282Z",
     "shell.execute_reply": "2024-02-25T21:28:51.126425Z"
    },
    "id": "2m2k-n-LOjcT"
   },
   "outputs": [],
   "source": [
    "rectangle_rdd = RectangleRDD(sc, \"data/zcta510-small.csv\", FileDataSplitter.CSV, True, 11)\n",
    "point_rdd = PointRDD(sc, \"data/arealm-small.csv\", 1, FileDataSplitter.CSV, False, 11)\n",
    "polygon_rdd = PolygonRDD(sc, \"data/primaryroads-polygon.csv\", FileDataSplitter.CSV, True, 11)\n",
    "linestring_rdd = LineStringRDD(sc, \"data/primaryroads-linestring.csv\", FileDataSplitter.CSV, True)"
   ]
  },
  {
   "cell_type": "code",
   "execution_count": 42,
   "metadata": {
    "colab": {
     "base_uri": "https://localhost:8080/"
    },
    "execution": {
     "iopub.execute_input": "2024-02-25T21:28:51.130913Z",
     "iopub.status.busy": "2024-02-25T21:28:51.130494Z",
     "iopub.status.idle": "2024-02-25T21:28:51.399951Z",
     "shell.execute_reply": "2024-02-25T21:28:51.399121Z"
    },
    "id": "qRHPdLYdOjcb",
    "outputId": "ef9149b6-ad2c-46f0-fba0-ae478f802ba9"
   },
   "outputs": [
    {
     "data": {
      "text/plain": [
       "True"
      ]
     },
     "execution_count": 42,
     "metadata": {},
     "output_type": "execute_result"
    }
   ],
   "source": [
    "rectangle_rdd.analyze()\n",
    "point_rdd.analyze()\n",
    "polygon_rdd.analyze()\n",
    "linestring_rdd.analyze()"
   ]
  },
  {
   "cell_type": "markdown",
   "metadata": {
    "id": "J2uTMMk1Ojcb"
   },
   "source": [
    "# Spatial Partitioning"
   ]
  },
  {
   "cell_type": "markdown",
   "metadata": {
    "id": "h3AC5CpdOjcc"
   },
   "source": [
    "Apache Sedona spatial partitioning method can significantly speed up the join query. Three spatial partitioning methods are available: KDB-Tree, Quad-Tree and R-Tree. Two SpatialRDD must be partitioned by the same way."
   ]
  },
  {
   "cell_type": "code",
   "execution_count": 43,
   "metadata": {
    "colab": {
     "base_uri": "https://localhost:8080/"
    },
    "execution": {
     "iopub.execute_input": "2024-02-25T21:28:51.404087Z",
     "iopub.status.busy": "2024-02-25T21:28:51.403592Z",
     "iopub.status.idle": "2024-02-25T21:28:51.458693Z",
     "shell.execute_reply": "2024-02-25T21:28:51.457858Z"
    },
    "id": "2icbQf9NOjcc",
    "outputId": "a8f20089-8b5d-42bf-b6ad-ad23f57ee496"
   },
   "outputs": [
    {
     "data": {
      "text/plain": [
       "True"
      ]
     },
     "execution_count": 43,
     "metadata": {},
     "output_type": "execute_result"
    }
   ],
   "source": [
    "point_rdd.spatialPartitioning(GridType.KDBTREE)"
   ]
  },
  {
   "cell_type": "markdown",
   "metadata": {
    "id": "_ipdd7umOjcc"
   },
   "source": [
    "# Create Index"
   ]
  },
  {
   "cell_type": "markdown",
   "metadata": {
    "id": "hEPaVPmJOjcc"
   },
   "source": [
    "Apache Sedona provides two types of spatial indexes, Quad-Tree and R-Tree. Once you specify an index type, Apache Sedona will build a local tree index on each of the SpatialRDD partition."
   ]
  },
  {
   "cell_type": "code",
   "execution_count": 44,
   "metadata": {
    "execution": {
     "iopub.execute_input": "2024-02-25T21:28:51.461484Z",
     "iopub.status.busy": "2024-02-25T21:28:51.461289Z",
     "iopub.status.idle": "2024-02-25T21:28:51.467838Z",
     "shell.execute_reply": "2024-02-25T21:28:51.467147Z"
    },
    "id": "3YIsx_55Ojcc"
   },
   "outputs": [],
   "source": [
    "point_rdd.buildIndex(IndexType.RTREE, True)"
   ]
  },
  {
   "cell_type": "markdown",
   "metadata": {
    "id": "LRHcULQDOjcc"
   },
   "source": [
    "# SpatialJoin"
   ]
  },
  {
   "cell_type": "markdown",
   "metadata": {
    "id": "ZnnDo119Ojcc"
   },
   "source": [
    "Spatial join is operation which combines data based on spatial relations like:\n",
    "<li> intersects </li>\n",
    "<li> touches </li>\n",
    "<li> within </li>\n",
    "<li> etc </li>\n",
    "\n",
    "To Use Spatial Join in GeoPyspark library please use JoinQuery object, which has implemented below methods:\n",
    "```python\n",
    "SpatialJoinQuery(spatialRDD: SpatialRDD, queryRDD: SpatialRDD, useIndex: bool, considerBoundaryIntersection: bool) -> RDD\n",
    "\n",
    "DistanceJoinQuery(spatialRDD: SpatialRDD, queryRDD: SpatialRDD, useIndex: bool, considerBoundaryIntersection: bool) -> RDD\n",
    "\n",
    "spatialJoin(queryWindowRDD: SpatialRDD, objectRDD: SpatialRDD, joinParams: JoinParams) -> RDD\n",
    "\n",
    "DistanceJoinQueryFlat(spatialRDD: SpatialRDD, queryRDD: SpatialRDD, useIndex: bool, considerBoundaryIntersection: bool) -> RDD\n",
    "\n",
    "SpatialJoinQueryFlat(spatialRDD: SpatialRDD, queryRDD: SpatialRDD, useIndex: bool, considerBoundaryIntersection: bool) -> RDD\n",
    "\n",
    "```"
   ]
  },
  {
   "cell_type": "markdown",
   "metadata": {
    "id": "icOL3ukTOjcc"
   },
   "source": [
    "## Example SpatialJoinQueryFlat PointRDD with RectangleRDD"
   ]
  },
  {
   "cell_type": "code",
   "execution_count": 45,
   "metadata": {
    "execution": {
     "iopub.execute_input": "2024-02-25T21:28:51.470648Z",
     "iopub.status.busy": "2024-02-25T21:28:51.470329Z",
     "iopub.status.idle": "2024-02-25T21:28:51.577820Z",
     "shell.execute_reply": "2024-02-25T21:28:51.576934Z"
    },
    "id": "unG1rYNZOjcc"
   },
   "outputs": [],
   "source": [
    "# partitioning the data\n",
    "point_rdd.spatialPartitioning(GridType.KDBTREE)\n",
    "rectangle_rdd.spatialPartitioning(point_rdd.getPartitioner())\n",
    "# building an index\n",
    "point_rdd.buildIndex(IndexType.RTREE, True)\n",
    "# Perform Spatial Join Query\n",
    "result = JoinQuery.SpatialJoinQueryFlat(point_rdd, rectangle_rdd, False, True)"
   ]
  },
  {
   "cell_type": "markdown",
   "metadata": {
    "id": "5A0s6CE5Ojcd"
   },
   "source": [
    "As result we will get RDD[GeoData, GeoData]\n",
    "It can be used like any other Python RDD. You can use map, take, collect and other functions  "
   ]
  },
  {
   "cell_type": "code",
   "execution_count": 46,
   "metadata": {
    "colab": {
     "base_uri": "https://localhost:8080/"
    },
    "execution": {
     "iopub.execute_input": "2024-02-25T21:28:51.582577Z",
     "iopub.status.busy": "2024-02-25T21:28:51.581848Z",
     "iopub.status.idle": "2024-02-25T21:28:51.589632Z",
     "shell.execute_reply": "2024-02-25T21:28:51.588851Z"
    },
    "id": "8dw_JRafOjcd",
    "outputId": "d688a5ec-27e0-4fe6-846d-bdaf98a824a3"
   },
   "outputs": [
    {
     "data": {
      "text/plain": [
       "MapPartitionsRDD[63] at map at FlatPairRddConverter.scala:30"
      ]
     },
     "execution_count": 46,
     "metadata": {},
     "output_type": "execute_result"
    }
   ],
   "source": [
    "result"
   ]
  },
  {
   "cell_type": "code",
   "execution_count": 47,
   "metadata": {
    "colab": {
     "base_uri": "https://localhost:8080/"
    },
    "execution": {
     "iopub.execute_input": "2024-02-25T21:28:51.595196Z",
     "iopub.status.busy": "2024-02-25T21:28:51.593829Z",
     "iopub.status.idle": "2024-02-25T21:28:52.884837Z",
     "shell.execute_reply": "2024-02-25T21:28:52.884066Z"
    },
    "id": "7QKdzz9ZOjcd",
    "outputId": "565047a0-8f8c-4abd-a370-47731886c95c"
   },
   "outputs": [
    {
     "data": {
      "text/plain": [
       "[[Geometry: Polygon userData: , Geometry: Point userData: ],\n",
       " [Geometry: Polygon userData: , Geometry: Point userData: ]]"
      ]
     },
     "execution_count": 47,
     "metadata": {},
     "output_type": "execute_result"
    }
   ],
   "source": [
    "result.take(2)"
   ]
  },
  {
   "cell_type": "code",
   "execution_count": 48,
   "metadata": {
    "colab": {
     "base_uri": "https://localhost:8080/"
    },
    "execution": {
     "iopub.execute_input": "2024-02-25T21:28:52.888489Z",
     "iopub.status.busy": "2024-02-25T21:28:52.887977Z",
     "iopub.status.idle": "2024-02-25T21:28:53.032159Z",
     "shell.execute_reply": "2024-02-25T21:28:53.031371Z"
    },
    "id": "cBMsFNe2Ojcd",
    "outputId": "166c9992-13e8-4603-c306-2fbd8cb0b815"
   },
   "outputs": [
    {
     "data": {
      "text/plain": [
       "[[Geometry: Polygon userData: , Geometry: Point userData: ],\n",
       " [Geometry: Polygon userData: , Geometry: Point userData: ],\n",
       " [Geometry: Polygon userData: , Geometry: Point userData: ]]"
      ]
     },
     "execution_count": 48,
     "metadata": {},
     "output_type": "execute_result"
    }
   ],
   "source": [
    "result.collect()[:3]"
   ]
  },
  {
   "cell_type": "code",
   "execution_count": 49,
   "metadata": {
    "colab": {
     "base_uri": "https://localhost:8080/"
    },
    "execution": {
     "iopub.execute_input": "2024-02-25T21:28:53.036428Z",
     "iopub.status.busy": "2024-02-25T21:28:53.036154Z",
     "iopub.status.idle": "2024-02-25T21:28:54.112916Z",
     "shell.execute_reply": "2024-02-25T21:28:54.112207Z"
    },
    "id": "ZUPAfZ0wOjcd",
    "outputId": "7139d469-1c67-452f-dfc6-5ce6062bf81c"
   },
   "outputs": [
    {
     "name": "stderr",
     "output_type": "stream",
     "text": [
      "\r",
      "[Stage 44:================================================>       (13 + 2) / 15]\r",
      "\r",
      "                                                                                \r"
     ]
    },
    {
     "data": {
      "text/plain": [
       "[0.0, 0.0, 0.0, 0.0, 0.0]"
      ]
     },
     "execution_count": 49,
     "metadata": {},
     "output_type": "execute_result"
    }
   ],
   "source": [
    "# getting distance using SpatialObjects\n",
    "result.map(lambda x: x[0].geom.distance(x[1].geom)).take(5)"
   ]
  },
  {
   "cell_type": "code",
   "execution_count": 50,
   "metadata": {
    "colab": {
     "base_uri": "https://localhost:8080/"
    },
    "execution": {
     "iopub.execute_input": "2024-02-25T21:28:54.115975Z",
     "iopub.status.busy": "2024-02-25T21:28:54.115572Z",
     "iopub.status.idle": "2024-02-25T21:28:54.948201Z",
     "shell.execute_reply": "2024-02-25T21:28:54.947349Z"
    },
    "id": "2ztnCLMnOjcd",
    "outputId": "7ad1f07a-7103-467a-b97d-2adcb496694b"
   },
   "outputs": [
    {
     "name": "stderr",
     "output_type": "stream",
     "text": [
      "\r",
      "[Stage 53:================================================>       (13 + 2) / 15]\r",
      "\r",
      "                                                                                \r"
     ]
    },
    {
     "data": {
      "text/plain": [
       "[0.051572544132000575,\n",
       " 0.051572544132000575,\n",
       " 0.05189354027999942,\n",
       " 0.05189354027999942,\n",
       " 0.057069904940998895]"
      ]
     },
     "execution_count": 50,
     "metadata": {},
     "output_type": "execute_result"
    }
   ],
   "source": [
    "# getting area of polygon data\n",
    "result.map(lambda x: x[0].geom.area).take(5)"
   ]
  },
  {
   "cell_type": "code",
   "execution_count": 51,
   "metadata": {
    "execution": {
     "iopub.execute_input": "2024-02-25T21:28:54.951544Z",
     "iopub.status.busy": "2024-02-25T21:28:54.951137Z",
     "iopub.status.idle": "2024-02-25T21:28:54.954120Z",
     "shell.execute_reply": "2024-02-25T21:28:54.953480Z"
    },
    "id": "nt-r8k9VOjcd"
   },
   "outputs": [],
   "source": [
    "# Base on result you can create DataFrame object, using map function and build DataFrame from RDD"
   ]
  },
  {
   "cell_type": "code",
   "execution_count": 52,
   "metadata": {
    "execution": {
     "iopub.execute_input": "2024-02-25T21:28:54.956668Z",
     "iopub.status.busy": "2024-02-25T21:28:54.956221Z",
     "iopub.status.idle": "2024-02-25T21:28:54.959484Z",
     "shell.execute_reply": "2024-02-25T21:28:54.958863Z"
    },
    "id": "nALxyjQiOjce"
   },
   "outputs": [],
   "source": [
    "schema = StructType(\n",
    "    [\n",
    "        StructField(\"geom_left\", GeometryType(), False),\n",
    "        StructField(\"geom_right\", GeometryType(), False)\n",
    "    ]\n",
    ")"
   ]
  },
  {
   "cell_type": "code",
   "execution_count": 53,
   "metadata": {
    "colab": {
     "base_uri": "https://localhost:8080/"
    },
    "execution": {
     "iopub.execute_input": "2024-02-25T21:28:54.961847Z",
     "iopub.status.busy": "2024-02-25T21:28:54.961648Z",
     "iopub.status.idle": "2024-02-25T21:28:55.797611Z",
     "shell.execute_reply": "2024-02-25T21:28:55.796666Z"
    },
    "id": "UWqys-lqOjce",
    "outputId": "8b85bdf9-ea59-4306-fe79-cb47af321128"
   },
   "outputs": [
    {
     "name": "stdout",
     "output_type": "stream",
     "text": [
      "+--------------------+--------------------+\n",
      "|           geom_left|          geom_right|\n",
      "+--------------------+--------------------+\n",
      "|POLYGON ((-87.082...|POINT (-87.08084 ...|\n",
      "|POLYGON ((-87.082...|POINT (-86.994604...|\n",
      "|POLYGON ((-87.092...|POINT (-86.94719 ...|\n",
      "|POLYGON ((-87.092...|POINT (-87.08084 ...|\n",
      "|POLYGON ((-87.285...|POINT (-87.095533...|\n",
      "+--------------------+--------------------+\n",
      "only showing top 5 rows\n",
      "\n"
     ]
    }
   ],
   "source": [
    "# Set verifySchema to False\n",
    "spatial_join_result = result.map(lambda x: [x[0].geom, x[1].geom])\n",
    "sedona.createDataFrame(spatial_join_result, schema, verifySchema=False).show(5, True)"
   ]
  },
  {
   "cell_type": "code",
   "execution_count": 54,
   "metadata": {
    "execution": {
     "iopub.execute_input": "2024-02-25T21:28:55.801549Z",
     "iopub.status.busy": "2024-02-25T21:28:55.801104Z",
     "iopub.status.idle": "2024-02-25T21:28:55.804299Z",
     "shell.execute_reply": "2024-02-25T21:28:55.803662Z"
    },
    "id": "pkY70z0lOjce"
   },
   "outputs": [],
   "source": [
    "# Above code produces DataFrame with geometry Data type"
   ]
  },
  {
   "cell_type": "code",
   "execution_count": 55,
   "metadata": {
    "colab": {
     "base_uri": "https://localhost:8080/"
    },
    "execution": {
     "iopub.execute_input": "2024-02-25T21:28:55.807290Z",
     "iopub.status.busy": "2024-02-25T21:28:55.806906Z",
     "iopub.status.idle": "2024-02-25T21:28:55.827606Z",
     "shell.execute_reply": "2024-02-25T21:28:55.826840Z"
    },
    "id": "_BQVrY-IOjce",
    "outputId": "87a00dfd-cd77-47a2-f73a-48c63be79c8f"
   },
   "outputs": [
    {
     "name": "stdout",
     "output_type": "stream",
     "text": [
      "root\n",
      " |-- geom_left: geometry (nullable = false)\n",
      " |-- geom_right: geometry (nullable = false)\n",
      "\n"
     ]
    }
   ],
   "source": [
    "sedona.createDataFrame(spatial_join_result, schema, verifySchema=False).printSchema()"
   ]
  },
  {
   "cell_type": "markdown",
   "metadata": {
    "id": "5oID6P5kOjce"
   },
   "source": [
    "We can create DataFrame object from Spatial Pair RDD using Adapter object as follows"
   ]
  },
  {
   "cell_type": "code",
   "execution_count": 56,
   "metadata": {
    "colab": {
     "base_uri": "https://localhost:8080/"
    },
    "execution": {
     "iopub.execute_input": "2024-02-25T21:28:55.831437Z",
     "iopub.status.busy": "2024-02-25T21:28:55.830666Z",
     "iopub.status.idle": "2024-02-25T21:28:57.521772Z",
     "shell.execute_reply": "2024-02-25T21:28:57.521009Z"
    },
    "id": "OyD3_m_zOjce",
    "outputId": "27fb6d7d-013e-480a-de6d-80e4a72c1fc7"
   },
   "outputs": [
    {
     "name": "stderr",
     "output_type": "stream",
     "text": [
      "\r",
      "[Stage 71:====================================================>   (14 + 1) / 15]\r",
      "\r",
      "                                                                                \r"
     ]
    },
    {
     "name": "stdout",
     "output_type": "stream",
     "text": [
      "+--------------------+-----+--------------------+-----+\n",
      "|              geom_1|attr1|              geom_2|attr2|\n",
      "+--------------------+-----+--------------------+-----+\n",
      "|POLYGON ((-87.082...|     |POINT (-87.08084 ...|     |\n",
      "|POLYGON ((-87.082...|     |POINT (-86.994604...|     |\n",
      "|POLYGON ((-87.092...|     |POINT (-86.94719 ...|     |\n",
      "|POLYGON ((-87.092...|     |POINT (-87.08084 ...|     |\n",
      "|POLYGON ((-87.285...|     |POINT (-87.095533...|     |\n",
      "+--------------------+-----+--------------------+-----+\n",
      "only showing top 5 rows\n",
      "\n"
     ]
    }
   ],
   "source": [
    "Adapter.toDf(result, [\"attr1\"], [\"attr2\"], sedona).show(5, True)"
   ]
  },
  {
   "cell_type": "markdown",
   "metadata": {
    "id": "qAmXD2SKOjce"
   },
   "source": [
    "This also produce DataFrame with geometry DataType"
   ]
  },
  {
   "cell_type": "code",
   "execution_count": 57,
   "metadata": {
    "colab": {
     "base_uri": "https://localhost:8080/"
    },
    "execution": {
     "iopub.execute_input": "2024-02-25T21:28:57.525657Z",
     "iopub.status.busy": "2024-02-25T21:28:57.525390Z",
     "iopub.status.idle": "2024-02-25T21:28:58.462820Z",
     "shell.execute_reply": "2024-02-25T21:28:58.462033Z"
    },
    "id": "U7evFgqkOjce",
    "outputId": "530f8329-c296-47e6-8ccf-642bf0596817"
   },
   "outputs": [
    {
     "name": "stdout",
     "output_type": "stream",
     "text": [
      "root\n",
      " |-- geom_1: geometry (nullable = true)\n",
      " |-- attr1: string (nullable = true)\n",
      " |-- geom_2: geometry (nullable = true)\n",
      " |-- attr2: string (nullable = true)\n",
      "\n"
     ]
    }
   ],
   "source": [
    "Adapter.toDf(result, [\"attr1\"], [\"attr2\"], sedona).printSchema()"
   ]
  },
  {
   "cell_type": "markdown",
   "metadata": {
    "id": "TldNHgcQOjcf"
   },
   "source": [
    "We can create RDD which will be of type RDD[GeoData, List[GeoData]]\n",
    "We can for example calculate number of Points within some polygon data"
   ]
  },
  {
   "cell_type": "markdown",
   "metadata": {
    "id": "GlhD3mSvOjcf"
   },
   "source": [
    "To do that we can use code specified below"
   ]
  },
  {
   "cell_type": "code",
   "execution_count": 58,
   "metadata": {
    "execution": {
     "iopub.execute_input": "2024-02-25T21:28:58.465947Z",
     "iopub.status.busy": "2024-02-25T21:28:58.465467Z",
     "iopub.status.idle": "2024-02-25T21:28:58.514195Z",
     "shell.execute_reply": "2024-02-25T21:28:58.513417Z"
    },
    "id": "bl5mg9qdOjcf"
   },
   "outputs": [],
   "source": [
    "point_rdd.spatialPartitioning(GridType.KDBTREE)\n",
    "rectangle_rdd.spatialPartitioning(point_rdd.getPartitioner())"
   ]
  },
  {
   "cell_type": "code",
   "execution_count": 59,
   "metadata": {
    "execution": {
     "iopub.execute_input": "2024-02-25T21:28:58.518138Z",
     "iopub.status.busy": "2024-02-25T21:28:58.517796Z",
     "iopub.status.idle": "2024-02-25T21:28:58.561412Z",
     "shell.execute_reply": "2024-02-25T21:28:58.560662Z"
    },
    "id": "6S1gs7nDOjcf"
   },
   "outputs": [],
   "source": [
    "spatial_join_result_non_flat = JoinQuery.SpatialJoinQuery(point_rdd, rectangle_rdd, False, True)"
   ]
  },
  {
   "cell_type": "code",
   "execution_count": 60,
   "metadata": {
    "execution": {
     "iopub.execute_input": "2024-02-25T21:28:58.564735Z",
     "iopub.status.busy": "2024-02-25T21:28:58.564217Z",
     "iopub.status.idle": "2024-02-25T21:28:58.567997Z",
     "shell.execute_reply": "2024-02-25T21:28:58.567495Z"
    },
    "id": "ZJiTacNkOjcf"
   },
   "outputs": [],
   "source": [
    "# number of point for each polygon\n",
    "number_of_points = spatial_join_result_non_flat.map(lambda x: [x[0].geom, x[1].__len__()])"
   ]
  },
  {
   "cell_type": "code",
   "execution_count": 61,
   "metadata": {
    "execution": {
     "iopub.execute_input": "2024-02-25T21:28:58.570842Z",
     "iopub.status.busy": "2024-02-25T21:28:58.570521Z",
     "iopub.status.idle": "2024-02-25T21:28:58.584330Z",
     "shell.execute_reply": "2024-02-25T21:28:58.583446Z"
    },
    "id": "-EtrJVuROjcf"
   },
   "outputs": [],
   "source": [
    "schema = StructType([\n",
    "    StructField(\"geometry\", GeometryType(), False),\n",
    "    StructField(\"number_of_points\", LongType(), False)\n",
    "])"
   ]
  },
  {
   "cell_type": "code",
   "execution_count": 62,
   "metadata": {
    "colab": {
     "base_uri": "https://localhost:8080/"
    },
    "execution": {
     "iopub.execute_input": "2024-02-25T21:28:58.587246Z",
     "iopub.status.busy": "2024-02-25T21:28:58.587035Z",
     "iopub.status.idle": "2024-02-25T21:28:59.541435Z",
     "shell.execute_reply": "2024-02-25T21:28:59.540629Z"
    },
    "id": "mktoa5-HOjcf",
    "outputId": "170b19d6-9498-4dbb-86d9-831fe2337708"
   },
   "outputs": [
    {
     "name": "stdout",
     "output_type": "stream",
     "text": [
      "+--------------------+----------------+\n",
      "|            geometry|number_of_points|\n",
      "+--------------------+----------------+\n",
      "|POLYGON ((-87.114...|              15|\n",
      "|POLYGON ((-87.082...|              12|\n",
      "|POLYGON ((-86.697...|               1|\n",
      "|POLYGON ((-87.285...|              26|\n",
      "|POLYGON ((-87.105...|              15|\n",
      "|POLYGON ((-86.816...|               6|\n",
      "|POLYGON ((-87.229...|               7|\n",
      "|POLYGON ((-87.092...|               5|\n",
      "|POLYGON ((-86.749...|               4|\n",
      "|POLYGON ((-86.860...|              12|\n",
      "+--------------------+----------------+\n",
      "\n"
     ]
    }
   ],
   "source": [
    "sedona.createDataFrame(number_of_points, schema, verifySchema=False).show()"
   ]
  },
  {
   "cell_type": "markdown",
   "metadata": {
    "id": "ZosmctfPOjcf"
   },
   "source": [
    "# KNNQuery"
   ]
  },
  {
   "cell_type": "markdown",
   "metadata": {
    "id": "utC2fQXwOjcg"
   },
   "source": [
    "Spatial KNNQuery is operation which help us find answer which k number of geometries lays closest to other geometry.\n",
    "\n",
    "For Example:\n",
    "    5 closest Shops to your home. To use Spatial KNNQuery please use object\n",
    "<b> KNNQuery </b> which has one method:\n",
    "```python\n",
    "SpatialKnnQuery(spatialRDD: SpatialRDD, originalQueryPoint: BaseGeometry, k: int,  useIndex: bool)-> List[GeoData]\n",
    "```"
   ]
  },
  {
   "cell_type": "markdown",
   "metadata": {
    "id": "sTcvQarvOjcg"
   },
   "source": [
    "### Finds 5 closest points from PointRDD to given Point"
   ]
  },
  {
   "cell_type": "code",
   "execution_count": 63,
   "metadata": {
    "execution": {
     "iopub.execute_input": "2024-02-25T21:28:59.545134Z",
     "iopub.status.busy": "2024-02-25T21:28:59.544581Z",
     "iopub.status.idle": "2024-02-25T21:28:59.640127Z",
     "shell.execute_reply": "2024-02-25T21:28:59.639295Z"
    },
    "id": "n6BIfKk9Ojcg"
   },
   "outputs": [],
   "source": [
    "result = KNNQuery.SpatialKnnQuery(point_rdd, Point(-84.01, 34.01), 5, False)"
   ]
  },
  {
   "cell_type": "code",
   "execution_count": 64,
   "metadata": {
    "colab": {
     "base_uri": "https://localhost:8080/"
    },
    "execution": {
     "iopub.execute_input": "2024-02-25T21:28:59.644624Z",
     "iopub.status.busy": "2024-02-25T21:28:59.644366Z",
     "iopub.status.idle": "2024-02-25T21:28:59.652598Z",
     "shell.execute_reply": "2024-02-25T21:28:59.651898Z"
    },
    "id": "i-SgOWD2Ojcg",
    "outputId": "a69d9f13-1aeb-4aed-e726-ab1767ee5143"
   },
   "outputs": [
    {
     "data": {
      "text/plain": [
       "[Geometry: Point userData: ,\n",
       " Geometry: Point userData: ,\n",
       " Geometry: Point userData: ,\n",
       " Geometry: Point userData: ,\n",
       " Geometry: Point userData: ]"
      ]
     },
     "execution_count": 64,
     "metadata": {},
     "output_type": "execute_result"
    }
   ],
   "source": [
    "result"
   ]
  },
  {
   "cell_type": "markdown",
   "metadata": {
    "id": "Dft5_7AMOjcg"
   },
   "source": [
    "As Reference geometry you can also use Polygon or LineString object"
   ]
  },
  {
   "cell_type": "code",
   "execution_count": 65,
   "metadata": {
    "execution": {
     "iopub.execute_input": "2024-02-25T21:28:59.657183Z",
     "iopub.status.busy": "2024-02-25T21:28:59.656633Z",
     "iopub.status.idle": "2024-02-25T21:28:59.898167Z",
     "shell.execute_reply": "2024-02-25T21:28:59.897265Z"
    },
    "id": "C-G_a1iXOjcg"
   },
   "outputs": [],
   "source": [
    "polygon = Polygon(\n",
    "    [(-84.237756, 33.904859), (-84.237756, 34.090426),\n",
    "     (-83.833011, 34.090426), (-83.833011, 33.904859),\n",
    "     (-84.237756, 33.904859)\n",
    "    ])\n",
    "polygons_nearby = KNNQuery.SpatialKnnQuery(polygon_rdd, polygon, 5, False)"
   ]
  },
  {
   "cell_type": "code",
   "execution_count": 66,
   "metadata": {
    "colab": {
     "base_uri": "https://localhost:8080/"
    },
    "execution": {
     "iopub.execute_input": "2024-02-25T21:28:59.902131Z",
     "iopub.status.busy": "2024-02-25T21:28:59.901834Z",
     "iopub.status.idle": "2024-02-25T21:28:59.919786Z",
     "shell.execute_reply": "2024-02-25T21:28:59.918783Z"
    },
    "id": "pYtK1T1oOjcg",
    "outputId": "d6b951cc-bca0-4b83-d42f-d8dde0ab7a8f"
   },
   "outputs": [
    {
     "data": {
      "text/plain": [
       "[Geometry: Polygon userData: ,\n",
       " Geometry: Polygon userData: ,\n",
       " Geometry: Polygon userData: ,\n",
       " Geometry: Polygon userData: ,\n",
       " Geometry: Polygon userData: ]"
      ]
     },
     "execution_count": 66,
     "metadata": {},
     "output_type": "execute_result"
    }
   ],
   "source": [
    "polygons_nearby"
   ]
  },
  {
   "cell_type": "code",
   "execution_count": 67,
   "metadata": {
    "colab": {
     "base_uri": "https://localhost:8080/",
     "height": 0
    },
    "execution": {
     "iopub.execute_input": "2024-02-25T21:28:59.925071Z",
     "iopub.status.busy": "2024-02-25T21:28:59.923822Z",
     "iopub.status.idle": "2024-02-25T21:28:59.931673Z",
     "shell.execute_reply": "2024-02-25T21:28:59.931019Z"
    },
    "id": "-4Mf5TP-Ojcg",
    "outputId": "2edfc5ae-f8d9-4225-c88e-12bb74d58a87"
   },
   "outputs": [
    {
     "data": {
      "text/plain": [
       "'POLYGON ((-83.993559 34.087259, -83.993559 34.131247, -83.959903 34.131247, -83.959903 34.087259, -83.993559 34.087259))'"
      ]
     },
     "execution_count": 67,
     "metadata": {},
     "output_type": "execute_result"
    }
   ],
   "source": [
    "polygons_nearby[0].geom.wkt"
   ]
  },
  {
   "cell_type": "markdown",
   "metadata": {
    "id": "SxP3ufPGOjch"
   },
   "source": [
    "# RangeQuery"
   ]
  },
  {
   "cell_type": "markdown",
   "metadata": {
    "id": "Air8I_XIOjch"
   },
   "source": [
    "A spatial range query takes as input a range query window and an SpatialRDD and returns all geometries that intersect / are fully covered by the query window.\n",
    "RangeQuery has one method:\n",
    "\n",
    "```python\n",
    "SpatialRangeQuery(self, spatialRDD: SpatialRDD, rangeQueryWindow: BaseGeometry, considerBoundaryIntersection: bool, usingIndex: bool) -> RDD\n",
    "```"
   ]
  },
  {
   "cell_type": "code",
   "execution_count": 68,
   "metadata": {
    "execution": {
     "iopub.execute_input": "2024-02-25T21:28:59.936547Z",
     "iopub.status.busy": "2024-02-25T21:28:59.935272Z",
     "iopub.status.idle": "2024-02-25T21:28:59.940257Z",
     "shell.execute_reply": "2024-02-25T21:28:59.939607Z"
    },
    "id": "7YQd4wvuOjch"
   },
   "outputs": [],
   "source": [
    "from sedona.core.geom.envelope import Envelope"
   ]
  },
  {
   "cell_type": "code",
   "execution_count": 69,
   "metadata": {
    "execution": {
     "iopub.execute_input": "2024-02-25T21:28:59.944778Z",
     "iopub.status.busy": "2024-02-25T21:28:59.943413Z",
     "iopub.status.idle": "2024-02-25T21:28:59.958238Z",
     "shell.execute_reply": "2024-02-25T21:28:59.957539Z"
    },
    "id": "8WLf9PLbOjch"
   },
   "outputs": [],
   "source": [
    "query_envelope = Envelope(-85.01, -60.01, 34.01, 50.01)\n",
    "\n",
    "result_range_query = RangeQuery.SpatialRangeQuery(linestring_rdd, query_envelope, False, False)"
   ]
  },
  {
   "cell_type": "code",
   "execution_count": 70,
   "metadata": {
    "colab": {
     "base_uri": "https://localhost:8080/"
    },
    "execution": {
     "iopub.execute_input": "2024-02-25T21:28:59.962459Z",
     "iopub.status.busy": "2024-02-25T21:28:59.961909Z",
     "iopub.status.idle": "2024-02-25T21:28:59.967646Z",
     "shell.execute_reply": "2024-02-25T21:28:59.966923Z"
    },
    "id": "9Wp7sOciOjch",
    "outputId": "ae9362ae-4ee1-4fa5-84aa-7b1053c17229"
   },
   "outputs": [
    {
     "data": {
      "text/plain": [
       "MapPartitionsRDD[127] at map at GeometryRddConverter.scala:30"
      ]
     },
     "execution_count": 70,
     "metadata": {},
     "output_type": "execute_result"
    }
   ],
   "source": [
    "result_range_query"
   ]
  },
  {
   "cell_type": "code",
   "execution_count": 71,
   "metadata": {
    "colab": {
     "base_uri": "https://localhost:8080/"
    },
    "execution": {
     "iopub.execute_input": "2024-02-25T21:28:59.970493Z",
     "iopub.status.busy": "2024-02-25T21:28:59.969968Z",
     "iopub.status.idle": "2024-02-25T21:29:00.027668Z",
     "shell.execute_reply": "2024-02-25T21:29:00.026867Z"
    },
    "id": "C1mittdHOjch",
    "outputId": "c93a70cd-cabb-4e56-b399-99f23a9b7778"
   },
   "outputs": [
    {
     "data": {
      "text/plain": [
       "[Geometry: LineString userData: ,\n",
       " Geometry: LineString userData: ,\n",
       " Geometry: LineString userData: ,\n",
       " Geometry: LineString userData: ,\n",
       " Geometry: LineString userData: ,\n",
       " Geometry: LineString userData: ]"
      ]
     },
     "execution_count": 71,
     "metadata": {},
     "output_type": "execute_result"
    }
   ],
   "source": [
    "result_range_query.take(6)"
   ]
  },
  {
   "cell_type": "code",
   "execution_count": 72,
   "metadata": {
    "execution": {
     "iopub.execute_input": "2024-02-25T21:29:00.031081Z",
     "iopub.status.busy": "2024-02-25T21:29:00.030803Z",
     "iopub.status.idle": "2024-02-25T21:29:00.034245Z",
     "shell.execute_reply": "2024-02-25T21:29:00.033436Z"
    },
    "id": "Jv3ik2obOjch"
   },
   "outputs": [],
   "source": [
    "# Creating DataFrame from result"
   ]
  },
  {
   "cell_type": "code",
   "execution_count": 73,
   "metadata": {
    "execution": {
     "iopub.execute_input": "2024-02-25T21:29:00.036983Z",
     "iopub.status.busy": "2024-02-25T21:29:00.036502Z",
     "iopub.status.idle": "2024-02-25T21:29:00.039969Z",
     "shell.execute_reply": "2024-02-25T21:29:00.039243Z"
    },
    "id": "OF2xJfLCOjch"
   },
   "outputs": [],
   "source": [
    "schema = StructType([StructField(\"geometry\", GeometryType(), False)])"
   ]
  },
  {
   "cell_type": "code",
   "execution_count": 74,
   "metadata": {
    "colab": {
     "base_uri": "https://localhost:8080/"
    },
    "execution": {
     "iopub.execute_input": "2024-02-25T21:29:00.042950Z",
     "iopub.status.busy": "2024-02-25T21:29:00.042265Z",
     "iopub.status.idle": "2024-02-25T21:29:00.210257Z",
     "shell.execute_reply": "2024-02-25T21:29:00.209435Z"
    },
    "id": "7Y4ruCQ-Ojci",
    "outputId": "23bc8a1d-d16a-4ba7-a490-3b39b9d782cd"
   },
   "outputs": [
    {
     "name": "stdout",
     "output_type": "stream",
     "text": [
      "+--------------------+\n",
      "|            geometry|\n",
      "+--------------------+\n",
      "|LINESTRING (-72.1...|\n",
      "|LINESTRING (-72.4...|\n",
      "|LINESTRING (-72.4...|\n",
      "|LINESTRING (-73.4...|\n",
      "|LINESTRING (-73.6...|\n",
      "+--------------------+\n",
      "only showing top 5 rows\n",
      "\n"
     ]
    }
   ],
   "source": [
    "sedona.createDataFrame(\n",
    "    result_range_query.map(lambda x: [x.geom]),\n",
    "    schema,\n",
    "    verifySchema=False\n",
    ").show(5, True)"
   ]
  },
  {
   "cell_type": "markdown",
   "metadata": {
    "id": "jwiSJcuLOjci"
   },
   "source": [
    "# Load From other Formats"
   ]
  },
  {
   "cell_type": "markdown",
   "metadata": {
    "id": "aLuQLIfJOjci"
   },
   "source": [
    "GeoPyspark allows to load the data from other Data formats like:\n",
    "<li> GeoJSON </li>\n",
    "<li> Shapefile </li>\n",
    "<li> WKB </li>\n",
    "<li> WKT </li>"
   ]
  },
  {
   "cell_type": "code",
   "execution_count": 75,
   "metadata": {
    "execution": {
     "iopub.execute_input": "2024-02-25T21:29:00.213848Z",
     "iopub.status.busy": "2024-02-25T21:29:00.213545Z",
     "iopub.status.idle": "2024-02-25T21:29:00.217032Z",
     "shell.execute_reply": "2024-02-25T21:29:00.216240Z"
    },
    "id": "vuiEDP9uOjci"
   },
   "outputs": [],
   "source": [
    "## ShapeFile - load to SpatialRDD"
   ]
  },
  {
   "cell_type": "code",
   "execution_count": 76,
   "metadata": {
    "execution": {
     "iopub.execute_input": "2024-02-25T21:29:00.219889Z",
     "iopub.status.busy": "2024-02-25T21:29:00.219362Z",
     "iopub.status.idle": "2024-02-25T21:29:00.322522Z",
     "shell.execute_reply": "2024-02-25T21:29:00.321761Z"
    },
    "id": "3bcx_gxAOjci"
   },
   "outputs": [],
   "source": [
    "shape_rdd = ShapefileReader.readToGeometryRDD(sc, \"data/polygon\")"
   ]
  },
  {
   "cell_type": "code",
   "execution_count": 77,
   "metadata": {
    "colab": {
     "base_uri": "https://localhost:8080/"
    },
    "execution": {
     "iopub.execute_input": "2024-02-25T21:29:00.325728Z",
     "iopub.status.busy": "2024-02-25T21:29:00.325247Z",
     "iopub.status.idle": "2024-02-25T21:29:00.329534Z",
     "shell.execute_reply": "2024-02-25T21:29:00.328896Z"
    },
    "id": "nIjo83o8Ojci",
    "outputId": "69c02c33-e22f-44a5-d6e0-fb509f3b4e7f"
   },
   "outputs": [
    {
     "data": {
      "text/plain": [
       "<sedona.core.SpatialRDD.spatial_rdd.SpatialRDD at 0x7fc23eb40c40>"
      ]
     },
     "execution_count": 77,
     "metadata": {},
     "output_type": "execute_result"
    }
   ],
   "source": [
    "shape_rdd"
   ]
  },
  {
   "cell_type": "code",
   "execution_count": 78,
   "metadata": {
    "colab": {
     "base_uri": "https://localhost:8080/"
    },
    "execution": {
     "iopub.execute_input": "2024-02-25T21:29:00.332092Z",
     "iopub.status.busy": "2024-02-25T21:29:00.331710Z",
     "iopub.status.idle": "2024-02-25T21:29:00.427753Z",
     "shell.execute_reply": "2024-02-25T21:29:00.426997Z"
    },
    "id": "4y9EXCKfOjci",
    "outputId": "62c206c8-e84f-4532-c8f7-8075d519164d"
   },
   "outputs": [
    {
     "name": "stdout",
     "output_type": "stream",
     "text": [
      "+--------------------+\n",
      "|            geometry|\n",
      "+--------------------+\n",
      "|MULTIPOLYGON (((1...|\n",
      "|MULTIPOLYGON (((-...|\n",
      "|MULTIPOLYGON (((1...|\n",
      "|POLYGON ((118.362...|\n",
      "|MULTIPOLYGON (((-...|\n",
      "+--------------------+\n",
      "only showing top 5 rows\n",
      "\n"
     ]
    }
   ],
   "source": [
    "Adapter.toDf(shape_rdd, sedona).show(5, True)"
   ]
  },
  {
   "cell_type": "code",
   "execution_count": 79,
   "metadata": {
    "execution": {
     "iopub.execute_input": "2024-02-25T21:29:00.431034Z",
     "iopub.status.busy": "2024-02-25T21:29:00.430817Z",
     "iopub.status.idle": "2024-02-25T21:29:00.433927Z",
     "shell.execute_reply": "2024-02-25T21:29:00.433306Z"
    },
    "id": "LkVpdZgGOjci"
   },
   "outputs": [],
   "source": [
    "## GeoJSON - load to SpatialRDD"
   ]
  },
  {
   "cell_type": "markdown",
   "metadata": {
    "id": "Mh1K7181Ojcj"
   },
   "source": [
    "```\n",
    "{ \"type\": \"Feature\", \"properties\": { \"STATEFP\": \"01\", \"COUNTYFP\": \"077\", \"TRACTCE\": \"011501\", \"BLKGRPCE\": \"5\", \"AFFGEOID\": \"1500000US010770115015\", \"GEOID\": \"010770115015\", \"NAME\": \"5\", \"LSAD\": \"BG\", \"ALAND\": 6844991, \"AWATER\": 32636 }, \"geometry\": { \"type\": \"Polygon\", \"coordinates\": [ [ [ -87.621765, 34.873444 ], [ -87.617535, 34.873369 ], [ -87.6123, 34.873337 ], [ -87.604049, 34.873303 ], [ -87.604033, 34.872316 ], [ -87.60415, 34.867502 ], [ -87.604218, 34.865687 ], [ -87.604409, 34.858537 ], [ -87.604018, 34.851336 ], [ -87.603716, 34.844829 ], [ -87.603696, 34.844307 ], [ -87.603673, 34.841884 ], [ -87.60372, 34.841003 ], [ -87.603879, 34.838423 ], [ -87.603888, 34.837682 ], [ -87.603889, 34.83763 ], [ -87.613127, 34.833938 ], [ -87.616451, 34.832699 ], [ -87.621041, 34.831431 ], [ -87.621056, 34.831526 ], [ -87.62112, 34.831925 ], [ -87.621603, 34.8352 ], [ -87.62158, 34.836087 ], [ -87.621383, 34.84329 ], [ -87.621359, 34.844438 ], [ -87.62129, 34.846387 ], [ -87.62119, 34.85053 ], [ -87.62144, 34.865379 ], [ -87.621765, 34.873444 ] ] ] } },\n",
    "```"
   ]
  },
  {
   "cell_type": "code",
   "execution_count": 80,
   "metadata": {
    "execution": {
     "iopub.execute_input": "2024-02-25T21:29:00.436351Z",
     "iopub.status.busy": "2024-02-25T21:29:00.436004Z",
     "iopub.status.idle": "2024-02-25T21:29:00.538366Z",
     "shell.execute_reply": "2024-02-25T21:29:00.537597Z"
    },
    "id": "g_a3q71ZOjcj"
   },
   "outputs": [],
   "source": [
    "geo_json_rdd = GeoJsonReader.readToGeometryRDD(sc, \"data/testPolygon.json\")"
   ]
  },
  {
   "cell_type": "code",
   "execution_count": 81,
   "metadata": {
    "colab": {
     "base_uri": "https://localhost:8080/"
    },
    "execution": {
     "iopub.execute_input": "2024-02-25T21:29:00.542031Z",
     "iopub.status.busy": "2024-02-25T21:29:00.541766Z",
     "iopub.status.idle": "2024-02-25T21:29:00.549177Z",
     "shell.execute_reply": "2024-02-25T21:29:00.548541Z"
    },
    "id": "LGrMegQ6Ojcj",
    "outputId": "faf4d1b1-a49a-4139-c881-dffce997ea0d"
   },
   "outputs": [
    {
     "data": {
      "text/plain": [
       "<sedona.core.SpatialRDD.spatial_rdd.SpatialRDD at 0x7fc2291dbb20>"
      ]
     },
     "execution_count": 81,
     "metadata": {},
     "output_type": "execute_result"
    }
   ],
   "source": [
    "geo_json_rdd"
   ]
  },
  {
   "cell_type": "code",
   "execution_count": 82,
   "metadata": {
    "colab": {
     "base_uri": "https://localhost:8080/"
    },
    "execution": {
     "iopub.execute_input": "2024-02-25T21:29:00.552756Z",
     "iopub.status.busy": "2024-02-25T21:29:00.552311Z",
     "iopub.status.idle": "2024-02-25T21:29:00.867621Z",
     "shell.execute_reply": "2024-02-25T21:29:00.866820Z"
    },
    "id": "ZfH32XssOjcj",
    "outputId": "a773dbe0-962f-4c45-c1a4-4b44914b69f5"
   },
   "outputs": [
    {
     "name": "stdout",
     "output_type": "stream",
     "text": [
      "+--------------------+-------+--------+-------+--------+--------------------+------------+----+----+--------+\n",
      "|            geometry|STATEFP|COUNTYFP|TRACTCE|BLKGRPCE|            AFFGEOID|       GEOID|NAME|LSAD|   ALAND|\n",
      "+--------------------+-------+--------+-------+--------+--------------------+------------+----+----+--------+\n",
      "|POLYGON ((-87.621...|     01|     077| 011501|       5|1500000US01077011...|010770115015|   5|  BG| 6844991|\n",
      "|POLYGON ((-85.719...|     01|     045| 021102|       4|1500000US01045021...|010450211024|   4|  BG|11360854|\n",
      "|POLYGON ((-86.000...|     01|     055| 001300|       3|1500000US01055001...|010550013003|   3|  BG| 1378742|\n",
      "|POLYGON ((-86.574...|     01|     089| 001700|       2|1500000US01089001...|010890017002|   2|  BG| 1040641|\n",
      "|POLYGON ((-85.382...|     01|     069| 041400|       1|1500000US01069041...|010690414001|   1|  BG| 8243574|\n",
      "+--------------------+-------+--------+-------+--------+--------------------+------------+----+----+--------+\n",
      "only showing top 5 rows\n",
      "\n"
     ]
    }
   ],
   "source": [
    "Adapter.toDf(geo_json_rdd, sedona).drop(\"AWATER\").show(5, True)"
   ]
  },
  {
   "cell_type": "code",
   "execution_count": 83,
   "metadata": {
    "execution": {
     "iopub.execute_input": "2024-02-25T21:29:00.871481Z",
     "iopub.status.busy": "2024-02-25T21:29:00.870760Z",
     "iopub.status.idle": "2024-02-25T21:29:00.875120Z",
     "shell.execute_reply": "2024-02-25T21:29:00.874349Z"
    },
    "id": "wuJkRwbROjcj"
   },
   "outputs": [],
   "source": [
    "## WKT - loading to SpatialRDD"
   ]
  },
  {
   "cell_type": "code",
   "execution_count": 84,
   "metadata": {
    "execution": {
     "iopub.execute_input": "2024-02-25T21:29:00.878545Z",
     "iopub.status.busy": "2024-02-25T21:29:00.878039Z",
     "iopub.status.idle": "2024-02-25T21:29:00.910448Z",
     "shell.execute_reply": "2024-02-25T21:29:00.909675Z"
    },
    "id": "0d9owuZROjcj"
   },
   "outputs": [],
   "source": [
    "wkt_rdd = WktReader.readToGeometryRDD(sc, \"data/county_small.tsv\", 0, True, False)"
   ]
  },
  {
   "cell_type": "code",
   "execution_count": 85,
   "metadata": {
    "colab": {
     "base_uri": "https://localhost:8080/"
    },
    "execution": {
     "iopub.execute_input": "2024-02-25T21:29:00.913887Z",
     "iopub.status.busy": "2024-02-25T21:29:00.913676Z",
     "iopub.status.idle": "2024-02-25T21:29:00.918910Z",
     "shell.execute_reply": "2024-02-25T21:29:00.918139Z"
    },
    "id": "XKALKBbeOjcj",
    "outputId": "e0b7e2d7-7626-4154-8028-518c9b8d6804"
   },
   "outputs": [
    {
     "data": {
      "text/plain": [
       "<sedona.core.SpatialRDD.spatial_rdd.SpatialRDD at 0x7fc2291db8e0>"
      ]
     },
     "execution_count": 85,
     "metadata": {},
     "output_type": "execute_result"
    }
   ],
   "source": [
    "wkt_rdd"
   ]
  },
  {
   "cell_type": "code",
   "execution_count": 86,
   "metadata": {
    "colab": {
     "base_uri": "https://localhost:8080/"
    },
    "execution": {
     "iopub.execute_input": "2024-02-25T21:29:00.921749Z",
     "iopub.status.busy": "2024-02-25T21:29:00.921151Z",
     "iopub.status.idle": "2024-02-25T21:29:00.930816Z",
     "shell.execute_reply": "2024-02-25T21:29:00.930026Z"
    },
    "id": "UUJfqy5EOjcj",
    "outputId": "7806b0df-cd77-4990-ca9e-b4ce8a27a646"
   },
   "outputs": [
    {
     "name": "stdout",
     "output_type": "stream",
     "text": [
      "root\n",
      " |-- geometry: geometry (nullable = true)\n",
      "\n"
     ]
    }
   ],
   "source": [
    "Adapter.toDf(wkt_rdd, sedona).printSchema()"
   ]
  },
  {
   "cell_type": "code",
   "execution_count": 87,
   "metadata": {
    "colab": {
     "base_uri": "https://localhost:8080/"
    },
    "execution": {
     "iopub.execute_input": "2024-02-25T21:29:00.934362Z",
     "iopub.status.busy": "2024-02-25T21:29:00.933938Z",
     "iopub.status.idle": "2024-02-25T21:29:01.114211Z",
     "shell.execute_reply": "2024-02-25T21:29:01.113392Z"
    },
    "id": "qjIgGZB2Ojck",
    "outputId": "8785e560-ad7c-419c-98e0-cdfc8cfe7d5e"
   },
   "outputs": [
    {
     "name": "stdout",
     "output_type": "stream",
     "text": [
      "+--------------------+\n",
      "|            geometry|\n",
      "+--------------------+\n",
      "|POLYGON ((-97.019...|\n",
      "|POLYGON ((-123.43...|\n",
      "|POLYGON ((-104.56...|\n",
      "|POLYGON ((-96.910...|\n",
      "|POLYGON ((-98.273...|\n",
      "+--------------------+\n",
      "only showing top 5 rows\n",
      "\n"
     ]
    }
   ],
   "source": [
    "Adapter.toDf(wkt_rdd, sedona).show(5, True)"
   ]
  },
  {
   "cell_type": "code",
   "execution_count": 88,
   "metadata": {
    "execution": {
     "iopub.execute_input": "2024-02-25T21:29:01.117817Z",
     "iopub.status.busy": "2024-02-25T21:29:01.117497Z",
     "iopub.status.idle": "2024-02-25T21:29:01.121082Z",
     "shell.execute_reply": "2024-02-25T21:29:01.120306Z"
    },
    "id": "9CzKWF_ZOjck"
   },
   "outputs": [],
   "source": [
    "## WKB - load to SpatialRDD"
   ]
  },
  {
   "cell_type": "code",
   "execution_count": 89,
   "metadata": {
    "execution": {
     "iopub.execute_input": "2024-02-25T21:29:01.124696Z",
     "iopub.status.busy": "2024-02-25T21:29:01.123943Z",
     "iopub.status.idle": "2024-02-25T21:29:01.167697Z",
     "shell.execute_reply": "2024-02-25T21:29:01.166824Z"
    },
    "id": "1-saFLNoOjck"
   },
   "outputs": [],
   "source": [
    "wkb_rdd = WkbReader.readToGeometryRDD(sc, \"data/county_small_wkb.tsv\", 0, True, False)"
   ]
  },
  {
   "cell_type": "code",
   "execution_count": 90,
   "metadata": {
    "colab": {
     "base_uri": "https://localhost:8080/"
    },
    "execution": {
     "iopub.execute_input": "2024-02-25T21:29:01.171083Z",
     "iopub.status.busy": "2024-02-25T21:29:01.170573Z",
     "iopub.status.idle": "2024-02-25T21:29:01.286779Z",
     "shell.execute_reply": "2024-02-25T21:29:01.285952Z"
    },
    "id": "WFUhy3AtOjck",
    "outputId": "46d24d80-46b7-4165-cde1-eb52817ed7a9"
   },
   "outputs": [
    {
     "name": "stdout",
     "output_type": "stream",
     "text": [
      "+--------------------+\n",
      "|            geometry|\n",
      "+--------------------+\n",
      "|POLYGON ((-97.019...|\n",
      "|POLYGON ((-123.43...|\n",
      "|POLYGON ((-104.56...|\n",
      "|POLYGON ((-96.910...|\n",
      "|POLYGON ((-98.273...|\n",
      "+--------------------+\n",
      "only showing top 5 rows\n",
      "\n"
     ]
    }
   ],
   "source": [
    "Adapter.toDf(wkb_rdd, sedona).show(5, True)"
   ]
  },
  {
   "cell_type": "markdown",
   "metadata": {
    "id": "xj-mt-60Ojck"
   },
   "source": [
    "## Converting RDD Spatial join result to DF directly, avoiding jvm python serde"
   ]
  },
  {
   "cell_type": "code",
   "execution_count": 91,
   "metadata": {
    "execution": {
     "iopub.execute_input": "2024-02-25T21:29:01.289537Z",
     "iopub.status.busy": "2024-02-25T21:29:01.289319Z",
     "iopub.status.idle": "2024-02-25T21:29:01.350407Z",
     "shell.execute_reply": "2024-02-25T21:29:01.349648Z"
    },
    "id": "5DTG6EvFOjck"
   },
   "outputs": [],
   "source": [
    "point_rdd.spatialPartitioning(GridType.KDBTREE)\n",
    "rectangle_rdd.spatialPartitioning(point_rdd.getPartitioner())\n",
    "# building an index\n",
    "point_rdd.buildIndex(IndexType.RTREE, True)\n",
    "# Perform Spatial Join Query\n",
    "result = JoinQueryRaw.SpatialJoinQueryFlat(point_rdd, rectangle_rdd, False, True)"
   ]
  },
  {
   "cell_type": "code",
   "execution_count": 92,
   "metadata": {
    "execution": {
     "iopub.execute_input": "2024-02-25T21:29:01.354780Z",
     "iopub.status.busy": "2024-02-25T21:29:01.354517Z",
     "iopub.status.idle": "2024-02-25T21:29:01.365655Z",
     "shell.execute_reply": "2024-02-25T21:29:01.364931Z"
    },
    "id": "Fs8XaQ6kOjck"
   },
   "outputs": [],
   "source": [
    "# without passing column names, the result will contain only two geometries columns\n",
    "geometry_df = Adapter.toDf(result, sedona)"
   ]
  },
  {
   "cell_type": "code",
   "execution_count": 93,
   "metadata": {
    "colab": {
     "base_uri": "https://localhost:8080/"
    },
    "execution": {
     "iopub.execute_input": "2024-02-25T21:29:01.369042Z",
     "iopub.status.busy": "2024-02-25T21:29:01.368404Z",
     "iopub.status.idle": "2024-02-25T21:29:01.373680Z",
     "shell.execute_reply": "2024-02-25T21:29:01.372954Z"
    },
    "id": "qiWJjHz7Ojck",
    "outputId": "f5c12650-bce0-4d87-cacc-dcc82f943b41"
   },
   "outputs": [
    {
     "name": "stdout",
     "output_type": "stream",
     "text": [
      "root\n",
      " |-- leftgeometry: geometry (nullable = true)\n",
      " |-- rightgeometry: geometry (nullable = true)\n",
      "\n"
     ]
    }
   ],
   "source": [
    "geometry_df.printSchema()"
   ]
  },
  {
   "cell_type": "code",
   "execution_count": 94,
   "metadata": {
    "colab": {
     "base_uri": "https://localhost:8080/"
    },
    "execution": {
     "iopub.execute_input": "2024-02-25T21:29:01.381304Z",
     "iopub.status.busy": "2024-02-25T21:29:01.380865Z",
     "iopub.status.idle": "2024-02-25T21:29:01.864796Z",
     "shell.execute_reply": "2024-02-25T21:29:01.863980Z"
    },
    "id": "CUuhG1HHOjcl",
    "outputId": "963d7d66-c39f-44ef-8139-772dd2bdc563"
   },
   "outputs": [
    {
     "name": "stdout",
     "output_type": "stream",
     "text": [
      "+--------------------+--------------------+\n",
      "|        leftgeometry|       rightgeometry|\n",
      "+--------------------+--------------------+\n",
      "|POLYGON ((-87.229...|POINT (-87.204033...|\n",
      "|POLYGON ((-87.229...|POINT (-87.204299...|\n",
      "|POLYGON ((-87.229...|POINT (-87.19351 ...|\n",
      "|POLYGON ((-87.229...|POINT (-87.18222 ...|\n",
      "|POLYGON ((-87.285...|POINT (-87.28468 ...|\n",
      "+--------------------+--------------------+\n",
      "only showing top 5 rows\n",
      "\n"
     ]
    }
   ],
   "source": [
    "geometry_df.show(5)"
   ]
  },
  {
   "cell_type": "code",
   "execution_count": 95,
   "metadata": {
    "colab": {
     "base_uri": "https://localhost:8080/"
    },
    "execution": {
     "iopub.execute_input": "2024-02-25T21:29:01.868994Z",
     "iopub.status.busy": "2024-02-25T21:29:01.868724Z",
     "iopub.status.idle": "2024-02-25T21:29:02.060360Z",
     "shell.execute_reply": "2024-02-25T21:29:02.059536Z"
    },
    "id": "J_113xc7Ojcl",
    "outputId": "13894e68-ca5a-4fc4-ee26-f8bc7216c8d3"
   },
   "outputs": [
    {
     "data": {
      "text/plain": [
       "Row(leftgeometry=<shapely.geometry.polygon.Polygon object at 0x7fc2291b9a30>, rightgeometry=<shapely.geometry.point.Point object at 0x7fc2291b99a0>)"
      ]
     },
     "execution_count": 95,
     "metadata": {},
     "output_type": "execute_result"
    }
   ],
   "source": [
    "geometry_df.collect()[0]"
   ]
  },
  {
   "cell_type": "markdown",
   "metadata": {
    "id": "S-eRk6AROjcl"
   },
   "source": [
    "## Passing column names"
   ]
  },
  {
   "cell_type": "code",
   "execution_count": 96,
   "metadata": {
    "execution": {
     "iopub.execute_input": "2024-02-25T21:29:02.064893Z",
     "iopub.status.busy": "2024-02-25T21:29:02.063667Z",
     "iopub.status.idle": "2024-02-25T21:29:02.085461Z",
     "shell.execute_reply": "2024-02-25T21:29:02.084322Z"
    },
    "id": "5CnT4RzeOjcl"
   },
   "outputs": [],
   "source": [
    "geometry_df = Adapter.toDf(result, [\"left_user_data\"], [\"right_user_data\"], sedona)"
   ]
  },
  {
   "cell_type": "code",
   "execution_count": 97,
   "metadata": {
    "colab": {
     "base_uri": "https://localhost:8080/"
    },
    "execution": {
     "iopub.execute_input": "2024-02-25T21:29:02.090616Z",
     "iopub.status.busy": "2024-02-25T21:29:02.089360Z",
     "iopub.status.idle": "2024-02-25T21:29:02.352871Z",
     "shell.execute_reply": "2024-02-25T21:29:02.352176Z"
    },
    "id": "qfaNUcXQOjcl",
    "outputId": "fa42ffa3-5d2c-4aaa-f2f0-de165a56554d"
   },
   "outputs": [
    {
     "name": "stdout",
     "output_type": "stream",
     "text": [
      "+--------------------+--------------+--------------------+---------------+\n",
      "|        leftgeometry|left_user_data|       rightgeometry|right_user_data|\n",
      "+--------------------+--------------+--------------------+---------------+\n",
      "|POLYGON ((-87.229...|              |POINT (-87.204033...|           null|\n",
      "|POLYGON ((-87.229...|              |POINT (-87.204299...|           null|\n",
      "|POLYGON ((-87.229...|              |POINT (-87.19351 ...|           null|\n",
      "|POLYGON ((-87.229...|              |POINT (-87.18222 ...|           null|\n",
      "|POLYGON ((-87.285...|              |POINT (-87.28468 ...|           null|\n",
      "+--------------------+--------------+--------------------+---------------+\n",
      "only showing top 5 rows\n",
      "\n"
     ]
    }
   ],
   "source": [
    "geometry_df.show(5)"
   ]
  },
  {
   "cell_type": "markdown",
   "metadata": {
    "id": "TzWjjT0UOjcl"
   },
   "source": [
    "# Converting RDD Spatial join result to DF directly, avoiding jvm python serde"
   ]
  },
  {
   "cell_type": "code",
   "execution_count": 98,
   "metadata": {
    "execution": {
     "iopub.execute_input": "2024-02-25T21:29:02.356219Z",
     "iopub.status.busy": "2024-02-25T21:29:02.355970Z",
     "iopub.status.idle": "2024-02-25T21:29:02.362304Z",
     "shell.execute_reply": "2024-02-25T21:29:02.361567Z"
    },
    "id": "OB_t5UOcOjcl"
   },
   "outputs": [],
   "source": [
    "query_envelope = Envelope(-85.01, -60.01, 34.01, 50.01)\n",
    "\n",
    "result_range_query = RangeQueryRaw.SpatialRangeQuery(linestring_rdd, query_envelope, False, False)"
   ]
  },
  {
   "cell_type": "code",
   "execution_count": 99,
   "metadata": {
    "execution": {
     "iopub.execute_input": "2024-02-25T21:29:02.365809Z",
     "iopub.status.busy": "2024-02-25T21:29:02.365119Z",
     "iopub.status.idle": "2024-02-25T21:29:02.374221Z",
     "shell.execute_reply": "2024-02-25T21:29:02.373629Z"
    },
    "id": "58B9hoX_Ojcl"
   },
   "outputs": [],
   "source": [
    "# converting to df\n",
    "gdf = Adapter.toDf(result_range_query, sedona)"
   ]
  },
  {
   "cell_type": "code",
   "execution_count": 100,
   "metadata": {
    "colab": {
     "base_uri": "https://localhost:8080/"
    },
    "execution": {
     "iopub.execute_input": "2024-02-25T21:29:02.376668Z",
     "iopub.status.busy": "2024-02-25T21:29:02.376305Z",
     "iopub.status.idle": "2024-02-25T21:29:02.432204Z",
     "shell.execute_reply": "2024-02-25T21:29:02.431545Z"
    },
    "id": "Rgna3MsmOjcl",
    "outputId": "f7412685-61ac-4712-cf53-a938170315f4"
   },
   "outputs": [
    {
     "name": "stdout",
     "output_type": "stream",
     "text": [
      "+--------------------+\n",
      "|            geometry|\n",
      "+--------------------+\n",
      "|LINESTRING (-72.1...|\n",
      "|LINESTRING (-72.4...|\n",
      "|LINESTRING (-72.4...|\n",
      "|LINESTRING (-73.4...|\n",
      "|LINESTRING (-73.6...|\n",
      "+--------------------+\n",
      "only showing top 5 rows\n",
      "\n"
     ]
    }
   ],
   "source": [
    "gdf.show(5)"
   ]
  },
  {
   "cell_type": "code",
   "execution_count": 101,
   "metadata": {
    "colab": {
     "base_uri": "https://localhost:8080/"
    },
    "execution": {
     "iopub.execute_input": "2024-02-25T21:29:02.435509Z",
     "iopub.status.busy": "2024-02-25T21:29:02.435260Z",
     "iopub.status.idle": "2024-02-25T21:29:02.439451Z",
     "shell.execute_reply": "2024-02-25T21:29:02.438844Z"
    },
    "id": "Gzw-LrkgOjcm",
    "outputId": "924b5905-530a-4058-d6d0-3f36d9e5c230"
   },
   "outputs": [
    {
     "name": "stdout",
     "output_type": "stream",
     "text": [
      "root\n",
      " |-- geometry: geometry (nullable = true)\n",
      "\n"
     ]
    }
   ],
   "source": [
    "gdf.printSchema()"
   ]
  },
  {
   "cell_type": "code",
   "execution_count": 102,
   "metadata": {
    "execution": {
     "iopub.execute_input": "2024-02-25T21:29:02.442529Z",
     "iopub.status.busy": "2024-02-25T21:29:02.442296Z",
     "iopub.status.idle": "2024-02-25T21:29:02.453051Z",
     "shell.execute_reply": "2024-02-25T21:29:02.452385Z"
    },
    "id": "C5-BtLhSOjcm"
   },
   "outputs": [],
   "source": [
    "# Passing column names\n",
    "# converting to df\n",
    "gdf_with_columns = Adapter.toDf(result_range_query, sedona, [\"_c1\"])"
   ]
  },
  {
   "cell_type": "code",
   "execution_count": 103,
   "metadata": {
    "colab": {
     "base_uri": "https://localhost:8080/"
    },
    "execution": {
     "iopub.execute_input": "2024-02-25T21:29:02.456419Z",
     "iopub.status.busy": "2024-02-25T21:29:02.455963Z",
     "iopub.status.idle": "2024-02-25T21:29:02.607670Z",
     "shell.execute_reply": "2024-02-25T21:29:02.606958Z"
    },
    "id": "r9ctqnn1Ojcm",
    "outputId": "a874be8b-00fd-4b9f-c4e5-a5f8006b4202"
   },
   "outputs": [
    {
     "name": "stdout",
     "output_type": "stream",
     "text": [
      "+--------------------+---+\n",
      "|            geometry|_c1|\n",
      "+--------------------+---+\n",
      "|LINESTRING (-72.1...|   |\n",
      "|LINESTRING (-72.4...|   |\n",
      "|LINESTRING (-72.4...|   |\n",
      "|LINESTRING (-73.4...|   |\n",
      "|LINESTRING (-73.6...|   |\n",
      "+--------------------+---+\n",
      "only showing top 5 rows\n",
      "\n"
     ]
    }
   ],
   "source": [
    "gdf_with_columns.show(5)"
   ]
  },
  {
   "cell_type": "code",
   "execution_count": 104,
   "metadata": {
    "colab": {
     "base_uri": "https://localhost:8080/"
    },
    "execution": {
     "iopub.execute_input": "2024-02-25T21:29:02.611058Z",
     "iopub.status.busy": "2024-02-25T21:29:02.610782Z",
     "iopub.status.idle": "2024-02-25T21:29:02.615099Z",
     "shell.execute_reply": "2024-02-25T21:29:02.614441Z"
    },
    "id": "h-xj5agIOjcm",
    "outputId": "30469257-a9ee-4711-8dbe-0527ff9e22f6"
   },
   "outputs": [
    {
     "name": "stdout",
     "output_type": "stream",
     "text": [
      "root\n",
      " |-- geometry: geometry (nullable = true)\n",
      " |-- _c1: string (nullable = true)\n",
      "\n"
     ]
    }
   ],
   "source": [
    "gdf_with_columns.printSchema()"
   ]
  },
  {
   "cell_type": "markdown",
   "metadata": {
    "id": "VIQE0WpbUQjD"
   },
   "source": [
    "# Summary\n",
    "\n",
    "We have shown how to install Sedona with Pyspark and run a basic example (source: https://github.com/apache/sedona/blob/master/binder/ApacheSedonaCore.ipynb) on Google Colab."
   ]
  }
 ],
 "metadata": {
  "colab": {
   "authorship_tag": "ABX9TyM9JVOiZXxIFObMpyuhPLLD",
   "include_colab_link": true,
   "provenance": [],
   "toc_visible": true
  },
  "kernelspec": {
   "display_name": "Python 3",
   "name": "python3"
  },
  "language_info": {
   "codemirror_mode": {
    "name": "ipython",
    "version": 3
   },
   "file_extension": ".py",
   "mimetype": "text/x-python",
   "name": "python",
   "nbconvert_exporter": "python",
   "pygments_lexer": "ipython3",
   "version": "3.8.18"
  }
 },
 "nbformat": 4,
 "nbformat_minor": 0
}
