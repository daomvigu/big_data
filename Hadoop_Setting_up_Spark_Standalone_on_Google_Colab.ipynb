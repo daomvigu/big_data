{
  "nbformat": 4,
  "nbformat_minor": 0,
  "metadata": {
    "colab": {
      "provenance": [],
      "collapsed_sections": [
        "m8hiZOGUr2FD",
        "7WND_44npS_d",
        "DvcPsQSq5T_h",
        "l9HyBfdVH9Tt",
        "m7TmdSLBIurz",
        "AZuz6m48UyoO"
      ],
      "authorship_tag": "ABX9TyO+OoZiKnc3OLzIRHHGWA9+",
      "include_colab_link": true
    },
    "kernelspec": {
      "name": "python3",
      "display_name": "Python 3"
    },
    "language_info": {
      "name": "python"
    }
  },
  "cells": [
    {
      "cell_type": "markdown",
      "metadata": {
        "id": "view-in-github",
        "colab_type": "text"
      },
      "source": [
        "<a href=\"https://colab.research.google.com/github/groda/big_data/blob/master/Hadoop_Setting_up_Spark_Standalone_on_Google_Colab.ipynb\" target=\"_parent\"><img src=\"https://colab.research.google.com/assets/colab-badge.svg\" alt=\"Open In Colab\"/></a>"
      ]
    },
    {
      "cell_type": "markdown",
      "source": [
        "# Install and run Spark in standalone mode\n",
        "\n",
        " Following the instructions at: https://spark.apache.org/docs/latest/spark-standalone.html\n",
        "\n",
        "You might have to change the constant `HADOOP_SPARK_URL` (the URL for downloading the Hadoop+Spark distribution)."
      ],
      "metadata": {
        "id": "DeF-OtwDrXVY"
      }
    },
    {
      "cell_type": "code",
      "source": [
        "# URL for downloading Hadoop and Spark\n",
        "HADOOP_SPARK_URL = \"https://dlcdn.apache.org/spark/spark-3.3.1/spark-3.3.1-bin-hadoop3.tgz\""
      ],
      "metadata": {
        "id": "j0ya6VMzXbKe"
      },
      "execution_count": 1,
      "outputs": []
    },
    {
      "cell_type": "markdown",
      "source": [
        "### Set some environment variables"
      ],
      "metadata": {
        "id": "JaaWPSEqsAyO"
      }
    },
    {
      "cell_type": "code",
      "source": [
        "import os\n",
        "os.environ['HADOOP_SPARK_URL'] = HADOOP_SPARK_URL\n",
        "os.environ['SPARK_HOME'] = os.path.join('/content', os.path.splitext(os.path.basename(HADOOP_SPARK_URL))[0])\n",
        "os.environ['PATH'] = ':'.join([os.path.join(os.environ['SPARK_HOME'], 'bin'), os.environ['PATH']])\n",
        "os.environ['JAVA_HOME'] = '/usr/lib/jvm/java-11-openjdk-amd64'"
      ],
      "metadata": {
        "id": "jpFpNnHSnY06"
      },
      "execution_count": 2,
      "outputs": []
    },
    {
      "cell_type": "markdown",
      "source": [
        "### Download package and unpack\n",
        "\n",
        "**Note:** using `--no-clobber` option will prevent `wget` from downloading file if already present."
      ],
      "metadata": {
        "id": "m8hiZOGUr2FD"
      }
    },
    {
      "cell_type": "code",
      "execution_count": 3,
      "metadata": {
        "colab": {
          "base_uri": "https://localhost:8080/"
        },
        "id": "txdEVHhDmg5q",
        "outputId": "f46fd0d9-61c6-470e-9c48-e29149b53250"
      },
      "outputs": [
        {
          "output_type": "stream",
          "name": "stdout",
          "text": [
            "File ‘spark-3.3.1-bin-hadoop3.tgz’ already there; not retrieving.\n",
            "\n"
          ]
        }
      ],
      "source": [
        "!wget --no-clobber $HADOOP_SPARK_URL"
      ]
    },
    {
      "cell_type": "code",
      "source": [
        "!([ -f $(basename $HADOOP_SPARK_URL) ] && echo \"Folder already exists\") || (tar xzf $(basename $HADOOP_SPARK_URL) && echo \"Uncpressed\")\n"
      ],
      "metadata": {
        "colab": {
          "base_uri": "https://localhost:8080/"
        },
        "id": "QdH7mXA6dX9M",
        "outputId": "4979bf4b-0dd0-4d34-aef1-8920827f29ef"
      },
      "execution_count": 4,
      "outputs": [
        {
          "output_type": "stream",
          "name": "stdout",
          "text": [
            "Folder already exists\n"
          ]
        }
      ]
    },
    {
      "cell_type": "markdown",
      "source": [
        "Check"
      ],
      "metadata": {
        "id": "UXSeVpLY31Ye"
      }
    },
    {
      "cell_type": "code",
      "source": [
        "!ls"
      ],
      "metadata": {
        "colab": {
          "base_uri": "https://localhost:8080/"
        },
        "id": "IcQOKK5ZnPD_",
        "outputId": "4a163d8d-5a25-4961-92fc-5f4fd1e78506"
      },
      "execution_count": 5,
      "outputs": [
        {
          "output_type": "stream",
          "name": "stdout",
          "text": [
            "sample_data  spark-3.3.1-bin-hadoop3  spark-3.3.1-bin-hadoop3.tgz\n"
          ]
        }
      ]
    },
    {
      "cell_type": "markdown",
      "source": [
        "### Start a standalone master"
      ],
      "metadata": {
        "id": "7WND_44npS_d"
      }
    },
    {
      "cell_type": "markdown",
      "source": [
        "First, stop Spark master and all workers in case there's some already running."
      ],
      "metadata": {
        "id": "r3XexA9g4SZE"
      }
    },
    {
      "cell_type": "code",
      "source": [
        "%%bash\n",
        "$SPARK_HOME/sbin/stop-master.sh \n",
        "$SPARK_HOME/sbin/stop-worker.sh \n"
      ],
      "metadata": {
        "colab": {
          "base_uri": "https://localhost:8080/"
        },
        "id": "kRsquZME3dG3",
        "outputId": "65244089-002d-4f88-b24d-2e8bc68f0481"
      },
      "execution_count": 6,
      "outputs": [
        {
          "output_type": "stream",
          "name": "stdout",
          "text": [
            "no org.apache.spark.deploy.master.Master to stop\n",
            "no org.apache.spark.deploy.worker.Worker to stop\n"
          ]
        }
      ]
    },
    {
      "cell_type": "code",
      "source": [
        "%%bash --out output\n",
        "$SPARK_HOME/sbin/start-master.sh"
      ],
      "metadata": {
        "id": "-J3l_bVJpTJz"
      },
      "execution_count": 7,
      "outputs": []
    },
    {
      "cell_type": "markdown",
      "source": [
        "#### Extract port number for the Spark Web UI\n",
        "We captured the `output` in order to get the name of the logfile and extract from it the URL of the Spark Web UI. \n",
        "\n",
        "Here's the name of the master's logfile: "
      ],
      "metadata": {
        "id": "DvcPsQSq5T_h"
      }
    },
    {
      "cell_type": "code",
      "source": [
        "!echo $(echo \"$output\" | grep -o '[^ ]*$')"
      ],
      "metadata": {
        "colab": {
          "base_uri": "https://localhost:8080/"
        },
        "id": "kre-ctnK8zWX",
        "outputId": "87e717ed-4ed9-41b0-d695-45ce3c28420b"
      },
      "execution_count": 8,
      "outputs": [
        {
          "output_type": "stream",
          "name": "stdout",
          "text": [
            "/content/spark-3.3.1-bin-hadoop3/logs/spark--org.apache.spark.deploy.master.Master-1-84888afd7dad.out\n"
          ]
        }
      ]
    },
    {
      "cell_type": "markdown",
      "source": [
        "Extract port where MasterUI (the Web interface for Spark's master) is running:"
      ],
      "metadata": {
        "id": "U_y3RlNsP5-N"
      }
    },
    {
      "cell_type": "code",
      "source": [
        "%%bash\n",
        "PORT=$(grep  -m1 -Po \"Successfully started service 'MasterUI' on port \\d+\" $SPARK_HOME/logs/spark--org.apache.spark.deploy.master.Master*.out| cut -d' ' -f7)\n",
        "echo $PORT"
      ],
      "metadata": {
        "colab": {
          "base_uri": "https://localhost:8080/"
        },
        "id": "umlE8ZqXBXDS",
        "outputId": "05a7079c-6bf0-4227-8df4-0b09ddd9c052"
      },
      "execution_count": 9,
      "outputs": [
        {
          "output_type": "stream",
          "name": "stdout",
          "text": [
            "\n"
          ]
        }
      ]
    },
    {
      "cell_type": "code",
      "source": [
        "%env PORT=8081"
      ],
      "metadata": {
        "colab": {
          "base_uri": "https://localhost:8080/"
        },
        "id": "a6FcJeTkHPVQ",
        "outputId": "ad2c01da-4f0c-4d7c-800d-14756b5457d0"
      },
      "execution_count": 10,
      "outputs": [
        {
          "output_type": "stream",
          "name": "stdout",
          "text": [
            "env: PORT=8081\n"
          ]
        }
      ]
    },
    {
      "cell_type": "markdown",
      "source": [
        "### Start one worker"
      ],
      "metadata": {
        "id": "l9HyBfdVH9Tt"
      }
    },
    {
      "cell_type": "markdown",
      "source": [
        "In order to start a worker you need the URL for the running master node, that is something like `spark://${HOSTNAME}:7077`\n",
        "\n",
        "\n"
      ],
      "metadata": {
        "id": "6dpoVCVbNl9B"
      }
    },
    {
      "cell_type": "code",
      "source": [
        "!$SPARK_HOME/sbin/start-worker.sh spark://${HOSTNAME}:7077"
      ],
      "metadata": {
        "colab": {
          "base_uri": "https://localhost:8080/"
        },
        "id": "-hYedhHnH_B-",
        "outputId": "295a5f82-2fc3-449a-e857-a21aff600505"
      },
      "execution_count": 11,
      "outputs": [
        {
          "output_type": "stream",
          "name": "stdout",
          "text": [
            "starting org.apache.spark.deploy.worker.Worker, logging to /content/spark-3.3.1-bin-hadoop3/logs/spark--org.apache.spark.deploy.worker.Worker-1-84888afd7dad.out\n"
          ]
        }
      ]
    },
    {
      "cell_type": "markdown",
      "source": [
        "### Look at the master's Web UI"
      ],
      "metadata": {
        "id": "m7TmdSLBIurz"
      }
    },
    {
      "cell_type": "markdown",
      "source": [
        "Open the WebUI in a new window or tab in your browser buy clicking on the link below:"
      ],
      "metadata": {
        "id": "XDDrJTeXTh_D"
      }
    },
    {
      "cell_type": "code",
      "source": [
        "from google.colab import output\n",
        "output.serve_kernel_port_as_window(8081)"
      ],
      "metadata": {
        "colab": {
          "base_uri": "https://localhost:8080/",
          "height": 34
        },
        "id": "UIwAxufaTYJ3",
        "outputId": "17e8b829-81dc-490f-8762-c0997752092c"
      },
      "execution_count": 12,
      "outputs": [
        {
          "output_type": "display_data",
          "data": {
            "text/plain": [
              "<IPython.core.display.Javascript object>"
            ],
            "application/javascript": [
              "(async (port, path, text, element) => {\n",
              "    if (!google.colab.kernel.accessAllowed) {\n",
              "      return;\n",
              "    }\n",
              "    element.appendChild(document.createTextNode(''));\n",
              "    const url = await google.colab.kernel.proxyPort(port);\n",
              "    const anchor = document.createElement('a');\n",
              "    anchor.href = new URL(path, url).toString();\n",
              "    anchor.target = '_blank';\n",
              "    anchor.setAttribute('data-href', url + path);\n",
              "    anchor.textContent = text;\n",
              "    element.appendChild(anchor);\n",
              "  })(8081, \"/\", \"https://localhost:8081/\", window.element)"
            ]
          },
          "metadata": {}
        }
      ]
    },
    {
      "cell_type": "markdown",
      "source": [
        "### Run a Spark job with spark-submit"
      ],
      "metadata": {
        "id": "ewBl-o1aH5hh"
      }
    },
    {
      "cell_type": "markdown",
      "source": [
        "This step might take some time. \n",
        "\n",
        "We are going to run the SparkPi demo from the examples in the Spark distribution contained in `spark-examples*.jar`. \n",
        "\n",
        "We are submitting the job with [`spark-submit`](https://spark.apache.org/docs/latest/submitting-applications.html). The output of this job is an approximation of π (see also https://spark.apache.org/examples.html)."
      ],
      "metadata": {
        "id": "DyfvrPtVVCfB"
      }
    },
    {
      "cell_type": "code",
      "source": [
        "%%bash\n",
        "\n",
        "export EXAMPLES_JAR=$(find $SPARK_HOME/examples/jars/ -name \"spark-examples_2*\")\n",
        "\n",
        "$SPARK_HOME/bin/spark-submit \\\n",
        "  --class org.apache.spark.examples.SparkPi \\\n",
        "  --master spark://${HOSTNAME}:7077 \\\n",
        "  --executor-memory 2G \\\n",
        "  --total-executor-cores 100 \\\n",
        "  $EXAMPLES_JAR \\\n",
        "  100"
      ],
      "metadata": {
        "colab": {
          "base_uri": "https://localhost:8080/"
        },
        "id": "a4COXhlrR1mG",
        "outputId": "1743bdf0-25be-4d6b-be08-0653b77ccaee"
      },
      "execution_count": 13,
      "outputs": [
        {
          "output_type": "stream",
          "name": "stdout",
          "text": [
            "22/10/26 16:55:41 INFO SparkContext: Running Spark version 3.3.1\n",
            "22/10/26 16:55:41 WARN NativeCodeLoader: Unable to load native-hadoop library for your platform... using builtin-java classes where applicable\n",
            "22/10/26 16:55:42 INFO ResourceUtils: ==============================================================\n",
            "22/10/26 16:55:42 INFO ResourceUtils: No custom resources configured for spark.driver.\n",
            "22/10/26 16:55:42 INFO ResourceUtils: ==============================================================\n",
            "22/10/26 16:55:42 INFO SparkContext: Submitted application: Spark Pi\n",
            "22/10/26 16:55:42 INFO ResourceProfile: Default ResourceProfile created, executor resources: Map(cores -> name: cores, amount: 1, script: , vendor: , memory -> name: memory, amount: 2048, script: , vendor: , offHeap -> name: offHeap, amount: 0, script: , vendor: ), task resources: Map(cpus -> name: cpus, amount: 1.0)\n",
            "22/10/26 16:55:42 INFO ResourceProfile: Limiting resource is cpu\n",
            "22/10/26 16:55:42 INFO ResourceProfileManager: Added ResourceProfile id: 0\n",
            "22/10/26 16:55:42 INFO SecurityManager: Changing view acls to: root\n",
            "22/10/26 16:55:42 INFO SecurityManager: Changing modify acls to: root\n",
            "22/10/26 16:55:42 INFO SecurityManager: Changing view acls groups to: \n",
            "22/10/26 16:55:42 INFO SecurityManager: Changing modify acls groups to: \n",
            "22/10/26 16:55:42 INFO SecurityManager: SecurityManager: authentication disabled; ui acls disabled; users  with view permissions: Set(root); groups with view permissions: Set(); users  with modify permissions: Set(root); groups with modify permissions: Set()\n",
            "22/10/26 16:55:42 INFO Utils: Successfully started service 'sparkDriver' on port 35953.\n",
            "22/10/26 16:55:42 INFO SparkEnv: Registering MapOutputTracker\n",
            "22/10/26 16:55:42 INFO SparkEnv: Registering BlockManagerMaster\n",
            "22/10/26 16:55:42 INFO BlockManagerMasterEndpoint: Using org.apache.spark.storage.DefaultTopologyMapper for getting topology information\n",
            "22/10/26 16:55:42 INFO BlockManagerMasterEndpoint: BlockManagerMasterEndpoint up\n",
            "22/10/26 16:55:42 INFO SparkEnv: Registering BlockManagerMasterHeartbeat\n",
            "22/10/26 16:55:42 INFO DiskBlockManager: Created local directory at /tmp/blockmgr-7e9cd8fe-00b1-4ce3-9f29-2c77250ccf44\n",
            "22/10/26 16:55:42 INFO MemoryStore: MemoryStore started with capacity 434.4 MiB\n",
            "22/10/26 16:55:42 INFO SparkEnv: Registering OutputCommitCoordinator\n",
            "22/10/26 16:55:43 INFO Utils: Successfully started service 'SparkUI' on port 4040.\n",
            "22/10/26 16:55:43 INFO SparkContext: Added JAR file:/content/spark-3.3.1-bin-hadoop3/examples/jars/spark-examples_2.12-3.3.1.jar at spark://84888afd7dad:35953/jars/spark-examples_2.12-3.3.1.jar with timestamp 1666803341645\n",
            "22/10/26 16:55:43 INFO StandaloneAppClient$ClientEndpoint: Connecting to master spark://84888afd7dad:7077...\n",
            "22/10/26 16:55:43 INFO TransportClientFactory: Successfully created connection to 84888afd7dad/172.28.0.2:7077 after 43 ms (0 ms spent in bootstraps)\n",
            "22/10/26 16:55:43 INFO StandaloneSchedulerBackend: Connected to Spark cluster with app ID app-20221026165543-0000\n",
            "22/10/26 16:55:43 INFO Utils: Successfully started service 'org.apache.spark.network.netty.NettyBlockTransferService' on port 38235.\n",
            "22/10/26 16:55:43 INFO NettyBlockTransferService: Server created on 84888afd7dad:38235\n",
            "22/10/26 16:55:43 INFO BlockManager: Using org.apache.spark.storage.RandomBlockReplicationPolicy for block replication policy\n",
            "22/10/26 16:55:43 INFO BlockManagerMaster: Registering BlockManager BlockManagerId(driver, 84888afd7dad, 38235, None)\n",
            "22/10/26 16:55:43 INFO BlockManagerMasterEndpoint: Registering block manager 84888afd7dad:38235 with 434.4 MiB RAM, BlockManagerId(driver, 84888afd7dad, 38235, None)\n",
            "22/10/26 16:55:43 INFO BlockManagerMaster: Registered BlockManager BlockManagerId(driver, 84888afd7dad, 38235, None)\n",
            "22/10/26 16:55:43 INFO BlockManager: Initialized BlockManager: BlockManagerId(driver, 84888afd7dad, 38235, None)\n",
            "22/10/26 16:55:44 INFO StandaloneAppClient$ClientEndpoint: Executor added: app-20221026165543-0000/0 on worker-20221026165540-172.28.0.2-35253 (172.28.0.2:35253) with 2 core(s)\n",
            "22/10/26 16:55:44 INFO StandaloneSchedulerBackend: Granted executor ID app-20221026165543-0000/0 on hostPort 172.28.0.2:35253 with 2 core(s), 2.0 GiB RAM\n",
            "22/10/26 16:55:44 INFO StandaloneAppClient$ClientEndpoint: Executor updated: app-20221026165543-0000/0 is now RUNNING\n",
            "22/10/26 16:55:44 INFO StandaloneSchedulerBackend: SchedulerBackend is ready for scheduling beginning after reached minRegisteredResourcesRatio: 0.0\n",
            "22/10/26 16:55:45 INFO SparkContext: Starting job: reduce at SparkPi.scala:38\n",
            "22/10/26 16:55:45 INFO DAGScheduler: Got job 0 (reduce at SparkPi.scala:38) with 100 output partitions\n",
            "22/10/26 16:55:45 INFO DAGScheduler: Final stage: ResultStage 0 (reduce at SparkPi.scala:38)\n",
            "22/10/26 16:55:45 INFO DAGScheduler: Parents of final stage: List()\n",
            "22/10/26 16:55:45 INFO DAGScheduler: Missing parents: List()\n",
            "22/10/26 16:55:45 INFO DAGScheduler: Submitting ResultStage 0 (MapPartitionsRDD[1] at map at SparkPi.scala:34), which has no missing parents\n",
            "22/10/26 16:55:46 INFO MemoryStore: Block broadcast_0 stored as values in memory (estimated size 4.0 KiB, free 434.4 MiB)\n",
            "22/10/26 16:55:46 INFO MemoryStore: Block broadcast_0_piece0 stored as bytes in memory (estimated size 2.3 KiB, free 434.4 MiB)\n",
            "22/10/26 16:55:46 INFO BlockManagerInfo: Added broadcast_0_piece0 in memory on 84888afd7dad:38235 (size: 2.3 KiB, free: 434.4 MiB)\n",
            "22/10/26 16:55:46 INFO SparkContext: Created broadcast 0 from broadcast at DAGScheduler.scala:1513\n",
            "22/10/26 16:55:46 INFO DAGScheduler: Submitting 100 missing tasks from ResultStage 0 (MapPartitionsRDD[1] at map at SparkPi.scala:34) (first 15 tasks are for partitions Vector(0, 1, 2, 3, 4, 5, 6, 7, 8, 9, 10, 11, 12, 13, 14))\n",
            "22/10/26 16:55:46 INFO TaskSchedulerImpl: Adding task set 0.0 with 100 tasks resource profile 0\n",
            "22/10/26 16:55:49 INFO CoarseGrainedSchedulerBackend$DriverEndpoint: Registered executor NettyRpcEndpointRef(spark-client://Executor) (172.28.0.2:54230) with ID 0,  ResourceProfileId 0\n",
            "22/10/26 16:55:50 INFO BlockManagerMasterEndpoint: Registering block manager 172.28.0.2:35057 with 1048.8 MiB RAM, BlockManagerId(0, 172.28.0.2, 35057, None)\n",
            "22/10/26 16:55:50 INFO TaskSetManager: Starting task 0.0 in stage 0.0 (TID 0) (172.28.0.2, executor 0, partition 0, PROCESS_LOCAL, 4582 bytes) taskResourceAssignments Map()\n",
            "22/10/26 16:55:50 INFO TaskSetManager: Starting task 1.0 in stage 0.0 (TID 1) (172.28.0.2, executor 0, partition 1, PROCESS_LOCAL, 4582 bytes) taskResourceAssignments Map()\n",
            "22/10/26 16:55:50 INFO BlockManagerInfo: Added broadcast_0_piece0 in memory on 172.28.0.2:35057 (size: 2.3 KiB, free: 1048.8 MiB)\n",
            "22/10/26 16:55:51 INFO TaskSetManager: Starting task 2.0 in stage 0.0 (TID 2) (172.28.0.2, executor 0, partition 2, PROCESS_LOCAL, 4582 bytes) taskResourceAssignments Map()\n",
            "22/10/26 16:55:51 INFO TaskSetManager: Finished task 1.0 in stage 0.0 (TID 1) in 777 ms on 172.28.0.2 (executor 0) (1/100)\n",
            "22/10/26 16:55:51 INFO TaskSetManager: Starting task 3.0 in stage 0.0 (TID 3) (172.28.0.2, executor 0, partition 3, PROCESS_LOCAL, 4582 bytes) taskResourceAssignments Map()\n",
            "22/10/26 16:55:51 INFO TaskSetManager: Starting task 4.0 in stage 0.0 (TID 4) (172.28.0.2, executor 0, partition 4, PROCESS_LOCAL, 4582 bytes) taskResourceAssignments Map()\n",
            "22/10/26 16:55:51 INFO TaskSetManager: Finished task 0.0 in stage 0.0 (TID 0) in 902 ms on 172.28.0.2 (executor 0) (2/100)\n",
            "22/10/26 16:55:51 INFO TaskSetManager: Finished task 2.0 in stage 0.0 (TID 2) in 123 ms on 172.28.0.2 (executor 0) (3/100)\n",
            "22/10/26 16:55:51 INFO TaskSetManager: Starting task 5.0 in stage 0.0 (TID 5) (172.28.0.2, executor 0, partition 5, PROCESS_LOCAL, 4582 bytes) taskResourceAssignments Map()\n",
            "22/10/26 16:55:51 INFO TaskSetManager: Starting task 6.0 in stage 0.0 (TID 6) (172.28.0.2, executor 0, partition 6, PROCESS_LOCAL, 4582 bytes) taskResourceAssignments Map()\n",
            "22/10/26 16:55:51 INFO TaskSetManager: Finished task 4.0 in stage 0.0 (TID 4) in 108 ms on 172.28.0.2 (executor 0) (4/100)\n",
            "22/10/26 16:55:51 INFO TaskSetManager: Finished task 3.0 in stage 0.0 (TID 3) in 142 ms on 172.28.0.2 (executor 0) (5/100)\n",
            "22/10/26 16:55:51 INFO TaskSetManager: Starting task 7.0 in stage 0.0 (TID 7) (172.28.0.2, executor 0, partition 7, PROCESS_LOCAL, 4582 bytes) taskResourceAssignments Map()\n",
            "22/10/26 16:55:51 INFO TaskSetManager: Finished task 6.0 in stage 0.0 (TID 6) in 55 ms on 172.28.0.2 (executor 0) (6/100)\n",
            "22/10/26 16:55:51 INFO TaskSetManager: Starting task 8.0 in stage 0.0 (TID 8) (172.28.0.2, executor 0, partition 8, PROCESS_LOCAL, 4582 bytes) taskResourceAssignments Map()\n",
            "22/10/26 16:55:51 INFO TaskSetManager: Finished task 5.0 in stage 0.0 (TID 5) in 75 ms on 172.28.0.2 (executor 0) (7/100)\n",
            "22/10/26 16:55:51 INFO TaskSetManager: Starting task 9.0 in stage 0.0 (TID 9) (172.28.0.2, executor 0, partition 9, PROCESS_LOCAL, 4582 bytes) taskResourceAssignments Map()\n",
            "22/10/26 16:55:51 INFO TaskSetManager: Finished task 8.0 in stage 0.0 (TID 8) in 98 ms on 172.28.0.2 (executor 0) (8/100)\n",
            "22/10/26 16:55:51 INFO TaskSetManager: Finished task 7.0 in stage 0.0 (TID 7) in 107 ms on 172.28.0.2 (executor 0) (9/100)\n",
            "22/10/26 16:55:51 INFO TaskSetManager: Starting task 10.0 in stage 0.0 (TID 10) (172.28.0.2, executor 0, partition 10, PROCESS_LOCAL, 4582 bytes) taskResourceAssignments Map()\n",
            "22/10/26 16:55:51 INFO TaskSetManager: Starting task 11.0 in stage 0.0 (TID 11) (172.28.0.2, executor 0, partition 11, PROCESS_LOCAL, 4582 bytes) taskResourceAssignments Map()\n",
            "22/10/26 16:55:51 INFO TaskSetManager: Finished task 10.0 in stage 0.0 (TID 10) in 63 ms on 172.28.0.2 (executor 0) (10/100)\n",
            "22/10/26 16:55:51 INFO TaskSetManager: Starting task 12.0 in stage 0.0 (TID 12) (172.28.0.2, executor 0, partition 12, PROCESS_LOCAL, 4582 bytes) taskResourceAssignments Map()\n",
            "22/10/26 16:55:51 INFO TaskSetManager: Finished task 9.0 in stage 0.0 (TID 9) in 82 ms on 172.28.0.2 (executor 0) (11/100)\n",
            "22/10/26 16:55:51 INFO TaskSetManager: Starting task 13.0 in stage 0.0 (TID 13) (172.28.0.2, executor 0, partition 13, PROCESS_LOCAL, 4582 bytes) taskResourceAssignments Map()\n",
            "22/10/26 16:55:51 INFO TaskSetManager: Starting task 14.0 in stage 0.0 (TID 14) (172.28.0.2, executor 0, partition 14, PROCESS_LOCAL, 4582 bytes) taskResourceAssignments Map()\n",
            "22/10/26 16:55:51 INFO TaskSetManager: Finished task 11.0 in stage 0.0 (TID 11) in 78 ms on 172.28.0.2 (executor 0) (12/100)\n",
            "22/10/26 16:55:51 INFO TaskSetManager: Finished task 12.0 in stage 0.0 (TID 12) in 63 ms on 172.28.0.2 (executor 0) (13/100)\n",
            "22/10/26 16:55:51 INFO TaskSetManager: Starting task 15.0 in stage 0.0 (TID 15) (172.28.0.2, executor 0, partition 15, PROCESS_LOCAL, 4582 bytes) taskResourceAssignments Map()\n",
            "22/10/26 16:55:51 INFO TaskSetManager: Finished task 13.0 in stage 0.0 (TID 13) in 57 ms on 172.28.0.2 (executor 0) (14/100)\n",
            "22/10/26 16:55:51 INFO TaskSetManager: Starting task 16.0 in stage 0.0 (TID 16) (172.28.0.2, executor 0, partition 16, PROCESS_LOCAL, 4582 bytes) taskResourceAssignments Map()\n",
            "22/10/26 16:55:51 INFO TaskSetManager: Finished task 14.0 in stage 0.0 (TID 14) in 80 ms on 172.28.0.2 (executor 0) (15/100)\n",
            "22/10/26 16:55:51 INFO TaskSetManager: Starting task 17.0 in stage 0.0 (TID 17) (172.28.0.2, executor 0, partition 17, PROCESS_LOCAL, 4582 bytes) taskResourceAssignments Map()\n",
            "22/10/26 16:55:51 INFO TaskSetManager: Finished task 15.0 in stage 0.0 (TID 15) in 55 ms on 172.28.0.2 (executor 0) (16/100)\n",
            "22/10/26 16:55:51 INFO TaskSetManager: Starting task 18.0 in stage 0.0 (TID 18) (172.28.0.2, executor 0, partition 18, PROCESS_LOCAL, 4582 bytes) taskResourceAssignments Map()\n",
            "22/10/26 16:55:51 INFO TaskSetManager: Finished task 16.0 in stage 0.0 (TID 16) in 53 ms on 172.28.0.2 (executor 0) (17/100)\n",
            "22/10/26 16:55:51 INFO TaskSetManager: Starting task 19.0 in stage 0.0 (TID 19) (172.28.0.2, executor 0, partition 19, PROCESS_LOCAL, 4582 bytes) taskResourceAssignments Map()\n",
            "22/10/26 16:55:51 INFO TaskSetManager: Finished task 17.0 in stage 0.0 (TID 17) in 49 ms on 172.28.0.2 (executor 0) (18/100)\n",
            "22/10/26 16:55:51 INFO TaskSetManager: Starting task 20.0 in stage 0.0 (TID 20) (172.28.0.2, executor 0, partition 20, PROCESS_LOCAL, 4582 bytes) taskResourceAssignments Map()\n",
            "22/10/26 16:55:51 INFO TaskSetManager: Finished task 18.0 in stage 0.0 (TID 18) in 46 ms on 172.28.0.2 (executor 0) (19/100)\n",
            "22/10/26 16:55:51 INFO TaskSetManager: Starting task 21.0 in stage 0.0 (TID 21) (172.28.0.2, executor 0, partition 21, PROCESS_LOCAL, 4582 bytes) taskResourceAssignments Map()\n",
            "22/10/26 16:55:51 INFO TaskSetManager: Finished task 19.0 in stage 0.0 (TID 19) in 41 ms on 172.28.0.2 (executor 0) (20/100)\n",
            "22/10/26 16:55:51 INFO TaskSetManager: Starting task 22.0 in stage 0.0 (TID 22) (172.28.0.2, executor 0, partition 22, PROCESS_LOCAL, 4582 bytes) taskResourceAssignments Map()\n",
            "22/10/26 16:55:51 INFO TaskSetManager: Finished task 21.0 in stage 0.0 (TID 21) in 31 ms on 172.28.0.2 (executor 0) (21/100)\n",
            "22/10/26 16:55:51 INFO TaskSetManager: Finished task 20.0 in stage 0.0 (TID 20) in 53 ms on 172.28.0.2 (executor 0) (22/100)\n",
            "22/10/26 16:55:51 INFO TaskSetManager: Starting task 23.0 in stage 0.0 (TID 23) (172.28.0.2, executor 0, partition 23, PROCESS_LOCAL, 4582 bytes) taskResourceAssignments Map()\n",
            "22/10/26 16:55:51 INFO TaskSetManager: Starting task 24.0 in stage 0.0 (TID 24) (172.28.0.2, executor 0, partition 24, PROCESS_LOCAL, 4582 bytes) taskResourceAssignments Map()\n",
            "22/10/26 16:55:51 INFO TaskSetManager: Finished task 22.0 in stage 0.0 (TID 22) in 37 ms on 172.28.0.2 (executor 0) (23/100)\n",
            "22/10/26 16:55:51 INFO TaskSetManager: Starting task 25.0 in stage 0.0 (TID 25) (172.28.0.2, executor 0, partition 25, PROCESS_LOCAL, 4582 bytes) taskResourceAssignments Map()\n",
            "22/10/26 16:55:51 INFO TaskSetManager: Finished task 23.0 in stage 0.0 (TID 23) in 34 ms on 172.28.0.2 (executor 0) (24/100)\n",
            "22/10/26 16:55:51 INFO TaskSetManager: Starting task 26.0 in stage 0.0 (TID 26) (172.28.0.2, executor 0, partition 26, PROCESS_LOCAL, 4582 bytes) taskResourceAssignments Map()\n",
            "22/10/26 16:55:51 INFO TaskSetManager: Finished task 25.0 in stage 0.0 (TID 25) in 25 ms on 172.28.0.2 (executor 0) (25/100)\n",
            "22/10/26 16:55:51 INFO TaskSetManager: Starting task 27.0 in stage 0.0 (TID 27) (172.28.0.2, executor 0, partition 27, PROCESS_LOCAL, 4582 bytes) taskResourceAssignments Map()\n",
            "22/10/26 16:55:51 INFO TaskSetManager: Finished task 24.0 in stage 0.0 (TID 24) in 59 ms on 172.28.0.2 (executor 0) (26/100)\n",
            "22/10/26 16:55:51 INFO TaskSetManager: Starting task 28.0 in stage 0.0 (TID 28) (172.28.0.2, executor 0, partition 28, PROCESS_LOCAL, 4582 bytes) taskResourceAssignments Map()\n",
            "22/10/26 16:55:51 INFO TaskSetManager: Finished task 26.0 in stage 0.0 (TID 26) in 40 ms on 172.28.0.2 (executor 0) (27/100)\n",
            "22/10/26 16:55:51 INFO TaskSetManager: Starting task 29.0 in stage 0.0 (TID 29) (172.28.0.2, executor 0, partition 29, PROCESS_LOCAL, 4582 bytes) taskResourceAssignments Map()\n",
            "22/10/26 16:55:51 INFO TaskSetManager: Finished task 27.0 in stage 0.0 (TID 27) in 39 ms on 172.28.0.2 (executor 0) (28/100)\n",
            "22/10/26 16:55:51 INFO TaskSetManager: Starting task 30.0 in stage 0.0 (TID 30) (172.28.0.2, executor 0, partition 30, PROCESS_LOCAL, 4582 bytes) taskResourceAssignments Map()\n",
            "22/10/26 16:55:51 INFO TaskSetManager: Finished task 29.0 in stage 0.0 (TID 29) in 25 ms on 172.28.0.2 (executor 0) (29/100)\n",
            "22/10/26 16:55:51 INFO TaskSetManager: Starting task 31.0 in stage 0.0 (TID 31) (172.28.0.2, executor 0, partition 31, PROCESS_LOCAL, 4582 bytes) taskResourceAssignments Map()\n",
            "22/10/26 16:55:51 INFO TaskSetManager: Finished task 28.0 in stage 0.0 (TID 28) in 54 ms on 172.28.0.2 (executor 0) (30/100)\n",
            "22/10/26 16:55:52 INFO TaskSetManager: Starting task 32.0 in stage 0.0 (TID 32) (172.28.0.2, executor 0, partition 32, PROCESS_LOCAL, 4582 bytes) taskResourceAssignments Map()\n",
            "22/10/26 16:55:52 INFO TaskSetManager: Finished task 30.0 in stage 0.0 (TID 30) in 58 ms on 172.28.0.2 (executor 0) (31/100)\n",
            "22/10/26 16:55:52 INFO TaskSetManager: Starting task 33.0 in stage 0.0 (TID 33) (172.28.0.2, executor 0, partition 33, PROCESS_LOCAL, 4582 bytes) taskResourceAssignments Map()\n",
            "22/10/26 16:55:52 INFO TaskSetManager: Finished task 31.0 in stage 0.0 (TID 31) in 64 ms on 172.28.0.2 (executor 0) (32/100)\n",
            "22/10/26 16:55:52 INFO TaskSetManager: Starting task 34.0 in stage 0.0 (TID 34) (172.28.0.2, executor 0, partition 34, PROCESS_LOCAL, 4582 bytes) taskResourceAssignments Map()\n",
            "22/10/26 16:55:52 INFO TaskSetManager: Finished task 32.0 in stage 0.0 (TID 32) in 41 ms on 172.28.0.2 (executor 0) (33/100)\n",
            "22/10/26 16:55:52 INFO TaskSetManager: Starting task 35.0 in stage 0.0 (TID 35) (172.28.0.2, executor 0, partition 35, PROCESS_LOCAL, 4582 bytes) taskResourceAssignments Map()\n",
            "22/10/26 16:55:52 INFO TaskSetManager: Finished task 33.0 in stage 0.0 (TID 33) in 47 ms on 172.28.0.2 (executor 0) (34/100)\n",
            "22/10/26 16:55:52 INFO TaskSetManager: Starting task 36.0 in stage 0.0 (TID 36) (172.28.0.2, executor 0, partition 36, PROCESS_LOCAL, 4582 bytes) taskResourceAssignments Map()\n",
            "22/10/26 16:55:52 INFO TaskSetManager: Finished task 34.0 in stage 0.0 (TID 34) in 37 ms on 172.28.0.2 (executor 0) (35/100)\n",
            "22/10/26 16:55:52 INFO TaskSetManager: Starting task 37.0 in stage 0.0 (TID 37) (172.28.0.2, executor 0, partition 37, PROCESS_LOCAL, 4582 bytes) taskResourceAssignments Map()\n",
            "22/10/26 16:55:52 INFO TaskSetManager: Finished task 35.0 in stage 0.0 (TID 35) in 38 ms on 172.28.0.2 (executor 0) (36/100)\n",
            "22/10/26 16:55:52 INFO TaskSetManager: Starting task 38.0 in stage 0.0 (TID 38) (172.28.0.2, executor 0, partition 38, PROCESS_LOCAL, 4582 bytes) taskResourceAssignments Map()\n",
            "22/10/26 16:55:52 INFO TaskSetManager: Finished task 36.0 in stage 0.0 (TID 36) in 42 ms on 172.28.0.2 (executor 0) (37/100)\n",
            "22/10/26 16:55:52 INFO TaskSetManager: Starting task 39.0 in stage 0.0 (TID 39) (172.28.0.2, executor 0, partition 39, PROCESS_LOCAL, 4582 bytes) taskResourceAssignments Map()\n",
            "22/10/26 16:55:52 INFO TaskSetManager: Finished task 37.0 in stage 0.0 (TID 37) in 35 ms on 172.28.0.2 (executor 0) (38/100)\n",
            "22/10/26 16:55:52 INFO TaskSetManager: Starting task 40.0 in stage 0.0 (TID 40) (172.28.0.2, executor 0, partition 40, PROCESS_LOCAL, 4582 bytes) taskResourceAssignments Map()\n",
            "22/10/26 16:55:52 INFO TaskSetManager: Finished task 38.0 in stage 0.0 (TID 38) in 36 ms on 172.28.0.2 (executor 0) (39/100)\n",
            "22/10/26 16:55:52 INFO TaskSetManager: Starting task 41.0 in stage 0.0 (TID 41) (172.28.0.2, executor 0, partition 41, PROCESS_LOCAL, 4582 bytes) taskResourceAssignments Map()\n",
            "22/10/26 16:55:52 INFO TaskSetManager: Finished task 39.0 in stage 0.0 (TID 39) in 41 ms on 172.28.0.2 (executor 0) (40/100)\n",
            "22/10/26 16:55:52 INFO TaskSetManager: Finished task 40.0 in stage 0.0 (TID 40) in 34 ms on 172.28.0.2 (executor 0) (41/100)\n",
            "22/10/26 16:55:52 INFO TaskSetManager: Starting task 42.0 in stage 0.0 (TID 42) (172.28.0.2, executor 0, partition 42, PROCESS_LOCAL, 4582 bytes) taskResourceAssignments Map()\n",
            "22/10/26 16:55:52 INFO TaskSetManager: Starting task 43.0 in stage 0.0 (TID 43) (172.28.0.2, executor 0, partition 43, PROCESS_LOCAL, 4582 bytes) taskResourceAssignments Map()\n",
            "22/10/26 16:55:52 INFO TaskSetManager: Finished task 41.0 in stage 0.0 (TID 41) in 37 ms on 172.28.0.2 (executor 0) (42/100)\n",
            "22/10/26 16:55:52 INFO TaskSetManager: Starting task 44.0 in stage 0.0 (TID 44) (172.28.0.2, executor 0, partition 44, PROCESS_LOCAL, 4582 bytes) taskResourceAssignments Map()\n",
            "22/10/26 16:55:52 INFO TaskSetManager: Finished task 42.0 in stage 0.0 (TID 42) in 37 ms on 172.28.0.2 (executor 0) (43/100)\n",
            "22/10/26 16:55:52 INFO TaskSetManager: Starting task 45.0 in stage 0.0 (TID 45) (172.28.0.2, executor 0, partition 45, PROCESS_LOCAL, 4582 bytes) taskResourceAssignments Map()\n",
            "22/10/26 16:55:52 INFO TaskSetManager: Finished task 43.0 in stage 0.0 (TID 43) in 49 ms on 172.28.0.2 (executor 0) (44/100)\n",
            "22/10/26 16:55:52 INFO TaskSetManager: Starting task 46.0 in stage 0.0 (TID 46) (172.28.0.2, executor 0, partition 46, PROCESS_LOCAL, 4582 bytes) taskResourceAssignments Map()\n",
            "22/10/26 16:55:52 INFO TaskSetManager: Finished task 44.0 in stage 0.0 (TID 44) in 45 ms on 172.28.0.2 (executor 0) (45/100)\n",
            "22/10/26 16:55:52 INFO TaskSetManager: Starting task 47.0 in stage 0.0 (TID 47) (172.28.0.2, executor 0, partition 47, PROCESS_LOCAL, 4582 bytes) taskResourceAssignments Map()\n",
            "22/10/26 16:55:52 INFO TaskSetManager: Finished task 46.0 in stage 0.0 (TID 46) in 27 ms on 172.28.0.2 (executor 0) (46/100)\n",
            "22/10/26 16:55:52 INFO TaskSetManager: Starting task 48.0 in stage 0.0 (TID 48) (172.28.0.2, executor 0, partition 48, PROCESS_LOCAL, 4582 bytes) taskResourceAssignments Map()\n",
            "22/10/26 16:55:52 INFO TaskSetManager: Finished task 45.0 in stage 0.0 (TID 45) in 54 ms on 172.28.0.2 (executor 0) (47/100)\n",
            "22/10/26 16:55:52 INFO TaskSetManager: Starting task 49.0 in stage 0.0 (TID 49) (172.28.0.2, executor 0, partition 49, PROCESS_LOCAL, 4582 bytes) taskResourceAssignments Map()\n",
            "22/10/26 16:55:52 INFO TaskSetManager: Finished task 47.0 in stage 0.0 (TID 47) in 46 ms on 172.28.0.2 (executor 0) (48/100)\n",
            "22/10/26 16:55:52 INFO TaskSetManager: Finished task 48.0 in stage 0.0 (TID 48) in 57 ms on 172.28.0.2 (executor 0) (49/100)\n",
            "22/10/26 16:55:52 INFO TaskSetManager: Starting task 50.0 in stage 0.0 (TID 50) (172.28.0.2, executor 0, partition 50, PROCESS_LOCAL, 4582 bytes) taskResourceAssignments Map()\n",
            "22/10/26 16:55:52 INFO TaskSetManager: Starting task 51.0 in stage 0.0 (TID 51) (172.28.0.2, executor 0, partition 51, PROCESS_LOCAL, 4582 bytes) taskResourceAssignments Map()\n",
            "22/10/26 16:55:52 INFO TaskSetManager: Finished task 49.0 in stage 0.0 (TID 49) in 42 ms on 172.28.0.2 (executor 0) (50/100)\n",
            "22/10/26 16:55:52 INFO TaskSetManager: Starting task 52.0 in stage 0.0 (TID 52) (172.28.0.2, executor 0, partition 52, PROCESS_LOCAL, 4582 bytes) taskResourceAssignments Map()\n",
            "22/10/26 16:55:52 INFO TaskSetManager: Finished task 51.0 in stage 0.0 (TID 51) in 24 ms on 172.28.0.2 (executor 0) (51/100)\n",
            "22/10/26 16:55:52 INFO TaskSetManager: Finished task 50.0 in stage 0.0 (TID 50) in 49 ms on 172.28.0.2 (executor 0) (52/100)\n",
            "22/10/26 16:55:52 INFO TaskSetManager: Starting task 53.0 in stage 0.0 (TID 53) (172.28.0.2, executor 0, partition 53, PROCESS_LOCAL, 4582 bytes) taskResourceAssignments Map()\n",
            "22/10/26 16:55:52 INFO TaskSetManager: Starting task 54.0 in stage 0.0 (TID 54) (172.28.0.2, executor 0, partition 54, PROCESS_LOCAL, 4582 bytes) taskResourceAssignments Map()\n",
            "22/10/26 16:55:52 INFO TaskSetManager: Finished task 52.0 in stage 0.0 (TID 52) in 48 ms on 172.28.0.2 (executor 0) (53/100)\n",
            "22/10/26 16:55:52 INFO TaskSetManager: Starting task 55.0 in stage 0.0 (TID 55) (172.28.0.2, executor 0, partition 55, PROCESS_LOCAL, 4582 bytes) taskResourceAssignments Map()\n",
            "22/10/26 16:55:52 INFO TaskSetManager: Finished task 53.0 in stage 0.0 (TID 53) in 47 ms on 172.28.0.2 (executor 0) (54/100)\n",
            "22/10/26 16:55:52 INFO TaskSetManager: Starting task 56.0 in stage 0.0 (TID 56) (172.28.0.2, executor 0, partition 56, PROCESS_LOCAL, 4582 bytes) taskResourceAssignments Map()\n",
            "22/10/26 16:55:52 INFO TaskSetManager: Finished task 55.0 in stage 0.0 (TID 55) in 36 ms on 172.28.0.2 (executor 0) (55/100)\n",
            "22/10/26 16:55:52 INFO TaskSetManager: Starting task 57.0 in stage 0.0 (TID 57) (172.28.0.2, executor 0, partition 57, PROCESS_LOCAL, 4582 bytes) taskResourceAssignments Map()\n",
            "22/10/26 16:55:52 INFO TaskSetManager: Finished task 56.0 in stage 0.0 (TID 56) in 36 ms on 172.28.0.2 (executor 0) (56/100)\n",
            "22/10/26 16:55:52 INFO TaskSetManager: Starting task 58.0 in stage 0.0 (TID 58) (172.28.0.2, executor 0, partition 58, PROCESS_LOCAL, 4582 bytes) taskResourceAssignments Map()\n",
            "22/10/26 16:55:52 INFO TaskSetManager: Finished task 54.0 in stage 0.0 (TID 54) in 100 ms on 172.28.0.2 (executor 0) (57/100)\n",
            "22/10/26 16:55:52 INFO TaskSetManager: Starting task 59.0 in stage 0.0 (TID 59) (172.28.0.2, executor 0, partition 59, PROCESS_LOCAL, 4582 bytes) taskResourceAssignments Map()\n",
            "22/10/26 16:55:52 INFO TaskSetManager: Finished task 57.0 in stage 0.0 (TID 57) in 36 ms on 172.28.0.2 (executor 0) (58/100)\n",
            "22/10/26 16:55:52 INFO TaskSetManager: Starting task 60.0 in stage 0.0 (TID 60) (172.28.0.2, executor 0, partition 60, PROCESS_LOCAL, 4582 bytes) taskResourceAssignments Map()\n",
            "22/10/26 16:55:52 INFO TaskSetManager: Finished task 58.0 in stage 0.0 (TID 58) in 34 ms on 172.28.0.2 (executor 0) (59/100)\n",
            "22/10/26 16:55:52 INFO TaskSetManager: Starting task 61.0 in stage 0.0 (TID 61) (172.28.0.2, executor 0, partition 61, PROCESS_LOCAL, 4582 bytes) taskResourceAssignments Map()\n",
            "22/10/26 16:55:52 INFO TaskSetManager: Finished task 59.0 in stage 0.0 (TID 59) in 42 ms on 172.28.0.2 (executor 0) (60/100)\n",
            "22/10/26 16:55:52 INFO TaskSetManager: Starting task 62.0 in stage 0.0 (TID 62) (172.28.0.2, executor 0, partition 62, PROCESS_LOCAL, 4582 bytes) taskResourceAssignments Map()\n",
            "22/10/26 16:55:52 INFO TaskSetManager: Finished task 61.0 in stage 0.0 (TID 61) in 22 ms on 172.28.0.2 (executor 0) (61/100)\n",
            "22/10/26 16:55:52 INFO TaskSetManager: Starting task 63.0 in stage 0.0 (TID 63) (172.28.0.2, executor 0, partition 63, PROCESS_LOCAL, 4582 bytes) taskResourceAssignments Map()\n",
            "22/10/26 16:55:52 INFO TaskSetManager: Finished task 60.0 in stage 0.0 (TID 60) in 61 ms on 172.28.0.2 (executor 0) (62/100)\n",
            "22/10/26 16:55:52 INFO TaskSetManager: Starting task 64.0 in stage 0.0 (TID 64) (172.28.0.2, executor 0, partition 64, PROCESS_LOCAL, 4582 bytes) taskResourceAssignments Map()\n",
            "22/10/26 16:55:52 INFO TaskSetManager: Finished task 62.0 in stage 0.0 (TID 62) in 44 ms on 172.28.0.2 (executor 0) (63/100)\n",
            "22/10/26 16:55:52 INFO TaskSetManager: Starting task 65.0 in stage 0.0 (TID 65) (172.28.0.2, executor 0, partition 65, PROCESS_LOCAL, 4582 bytes) taskResourceAssignments Map()\n",
            "22/10/26 16:55:52 INFO TaskSetManager: Finished task 63.0 in stage 0.0 (TID 63) in 47 ms on 172.28.0.2 (executor 0) (64/100)\n",
            "22/10/26 16:55:52 INFO TaskSetManager: Starting task 66.0 in stage 0.0 (TID 66) (172.28.0.2, executor 0, partition 66, PROCESS_LOCAL, 4582 bytes) taskResourceAssignments Map()\n",
            "22/10/26 16:55:52 INFO TaskSetManager: Finished task 64.0 in stage 0.0 (TID 64) in 28 ms on 172.28.0.2 (executor 0) (65/100)\n",
            "22/10/26 16:55:52 INFO TaskSetManager: Starting task 67.0 in stage 0.0 (TID 67) (172.28.0.2, executor 0, partition 67, PROCESS_LOCAL, 4582 bytes) taskResourceAssignments Map()\n",
            "22/10/26 16:55:52 INFO TaskSetManager: Finished task 66.0 in stage 0.0 (TID 66) in 26 ms on 172.28.0.2 (executor 0) (66/100)\n",
            "22/10/26 16:55:52 INFO TaskSetManager: Finished task 65.0 in stage 0.0 (TID 65) in 55 ms on 172.28.0.2 (executor 0) (67/100)\n",
            "22/10/26 16:55:52 INFO TaskSetManager: Starting task 68.0 in stage 0.0 (TID 68) (172.28.0.2, executor 0, partition 68, PROCESS_LOCAL, 4582 bytes) taskResourceAssignments Map()\n",
            "22/10/26 16:55:52 INFO TaskSetManager: Starting task 69.0 in stage 0.0 (TID 69) (172.28.0.2, executor 0, partition 69, PROCESS_LOCAL, 4582 bytes) taskResourceAssignments Map()\n",
            "22/10/26 16:55:52 INFO TaskSetManager: Finished task 67.0 in stage 0.0 (TID 67) in 36 ms on 172.28.0.2 (executor 0) (68/100)\n",
            "22/10/26 16:55:52 INFO TaskSetManager: Starting task 70.0 in stage 0.0 (TID 70) (172.28.0.2, executor 0, partition 70, PROCESS_LOCAL, 4582 bytes) taskResourceAssignments Map()\n",
            "22/10/26 16:55:52 INFO TaskSetManager: Finished task 69.0 in stage 0.0 (TID 69) in 23 ms on 172.28.0.2 (executor 0) (69/100)\n",
            "22/10/26 16:55:52 INFO TaskSetManager: Starting task 71.0 in stage 0.0 (TID 71) (172.28.0.2, executor 0, partition 71, PROCESS_LOCAL, 4582 bytes) taskResourceAssignments Map()\n",
            "22/10/26 16:55:52 INFO TaskSetManager: Finished task 68.0 in stage 0.0 (TID 68) in 53 ms on 172.28.0.2 (executor 0) (70/100)\n",
            "22/10/26 16:55:52 INFO TaskSetManager: Starting task 72.0 in stage 0.0 (TID 72) (172.28.0.2, executor 0, partition 72, PROCESS_LOCAL, 4582 bytes) taskResourceAssignments Map()\n",
            "22/10/26 16:55:52 INFO TaskSetManager: Finished task 70.0 in stage 0.0 (TID 70) in 34 ms on 172.28.0.2 (executor 0) (71/100)\n",
            "22/10/26 16:55:52 INFO TaskSetManager: Starting task 73.0 in stage 0.0 (TID 73) (172.28.0.2, executor 0, partition 73, PROCESS_LOCAL, 4582 bytes) taskResourceAssignments Map()\n",
            "22/10/26 16:55:52 INFO TaskSetManager: Finished task 71.0 in stage 0.0 (TID 71) in 27 ms on 172.28.0.2 (executor 0) (72/100)\n",
            "22/10/26 16:55:52 INFO TaskSetManager: Starting task 74.0 in stage 0.0 (TID 74) (172.28.0.2, executor 0, partition 74, PROCESS_LOCAL, 4582 bytes) taskResourceAssignments Map()\n",
            "22/10/26 16:55:52 INFO TaskSetManager: Finished task 72.0 in stage 0.0 (TID 72) in 78 ms on 172.28.0.2 (executor 0) (73/100)\n",
            "22/10/26 16:55:52 INFO TaskSetManager: Starting task 75.0 in stage 0.0 (TID 75) (172.28.0.2, executor 0, partition 75, PROCESS_LOCAL, 4582 bytes) taskResourceAssignments Map()\n",
            "22/10/26 16:55:52 INFO TaskSetManager: Finished task 73.0 in stage 0.0 (TID 73) in 74 ms on 172.28.0.2 (executor 0) (74/100)\n",
            "22/10/26 16:55:52 INFO TaskSetManager: Finished task 75.0 in stage 0.0 (TID 75) in 23 ms on 172.28.0.2 (executor 0) (75/100)\n",
            "22/10/26 16:55:52 INFO TaskSetManager: Starting task 76.0 in stage 0.0 (TID 76) (172.28.0.2, executor 0, partition 76, PROCESS_LOCAL, 4582 bytes) taskResourceAssignments Map()\n",
            "22/10/26 16:55:52 INFO TaskSetManager: Starting task 77.0 in stage 0.0 (TID 77) (172.28.0.2, executor 0, partition 77, PROCESS_LOCAL, 4582 bytes) taskResourceAssignments Map()\n",
            "22/10/26 16:55:52 INFO TaskSetManager: Finished task 74.0 in stage 0.0 (TID 74) in 36 ms on 172.28.0.2 (executor 0) (76/100)\n",
            "22/10/26 16:55:52 INFO TaskSetManager: Starting task 78.0 in stage 0.0 (TID 78) (172.28.0.2, executor 0, partition 78, PROCESS_LOCAL, 4582 bytes) taskResourceAssignments Map()\n",
            "22/10/26 16:55:52 INFO TaskSetManager: Finished task 76.0 in stage 0.0 (TID 76) in 40 ms on 172.28.0.2 (executor 0) (77/100)\n",
            "22/10/26 16:55:52 INFO TaskSetManager: Starting task 79.0 in stage 0.0 (TID 79) (172.28.0.2, executor 0, partition 79, PROCESS_LOCAL, 4582 bytes) taskResourceAssignments Map()\n",
            "22/10/26 16:55:52 INFO TaskSetManager: Finished task 77.0 in stage 0.0 (TID 77) in 42 ms on 172.28.0.2 (executor 0) (78/100)\n",
            "22/10/26 16:55:53 INFO TaskSetManager: Starting task 80.0 in stage 0.0 (TID 80) (172.28.0.2, executor 0, partition 80, PROCESS_LOCAL, 4582 bytes) taskResourceAssignments Map()\n",
            "22/10/26 16:55:53 INFO TaskSetManager: Starting task 81.0 in stage 0.0 (TID 81) (172.28.0.2, executor 0, partition 81, PROCESS_LOCAL, 4582 bytes) taskResourceAssignments Map()\n",
            "22/10/26 16:55:53 INFO TaskSetManager: Finished task 79.0 in stage 0.0 (TID 79) in 38 ms on 172.28.0.2 (executor 0) (79/100)\n",
            "22/10/26 16:55:53 INFO TaskSetManager: Finished task 78.0 in stage 0.0 (TID 78) in 43 ms on 172.28.0.2 (executor 0) (80/100)\n",
            "22/10/26 16:55:53 INFO TaskSetManager: Starting task 82.0 in stage 0.0 (TID 82) (172.28.0.2, executor 0, partition 82, PROCESS_LOCAL, 4582 bytes) taskResourceAssignments Map()\n",
            "22/10/26 16:55:53 INFO TaskSetManager: Finished task 81.0 in stage 0.0 (TID 81) in 34 ms on 172.28.0.2 (executor 0) (81/100)\n",
            "22/10/26 16:55:53 INFO TaskSetManager: Starting task 83.0 in stage 0.0 (TID 83) (172.28.0.2, executor 0, partition 83, PROCESS_LOCAL, 4582 bytes) taskResourceAssignments Map()\n",
            "22/10/26 16:55:53 INFO TaskSetManager: Finished task 80.0 in stage 0.0 (TID 80) in 40 ms on 172.28.0.2 (executor 0) (82/100)\n",
            "22/10/26 16:55:53 INFO TaskSetManager: Starting task 84.0 in stage 0.0 (TID 84) (172.28.0.2, executor 0, partition 84, PROCESS_LOCAL, 4582 bytes) taskResourceAssignments Map()\n",
            "22/10/26 16:55:53 INFO TaskSetManager: Starting task 85.0 in stage 0.0 (TID 85) (172.28.0.2, executor 0, partition 85, PROCESS_LOCAL, 4582 bytes) taskResourceAssignments Map()\n",
            "22/10/26 16:55:53 INFO TaskSetManager: Finished task 82.0 in stage 0.0 (TID 82) in 39 ms on 172.28.0.2 (executor 0) (83/100)\n",
            "22/10/26 16:55:53 INFO TaskSetManager: Finished task 83.0 in stage 0.0 (TID 83) in 38 ms on 172.28.0.2 (executor 0) (84/100)\n",
            "22/10/26 16:55:53 INFO TaskSetManager: Starting task 86.0 in stage 0.0 (TID 86) (172.28.0.2, executor 0, partition 86, PROCESS_LOCAL, 4582 bytes) taskResourceAssignments Map()\n",
            "22/10/26 16:55:53 INFO TaskSetManager: Finished task 85.0 in stage 0.0 (TID 85) in 28 ms on 172.28.0.2 (executor 0) (85/100)\n",
            "22/10/26 16:55:53 INFO TaskSetManager: Starting task 87.0 in stage 0.0 (TID 87) (172.28.0.2, executor 0, partition 87, PROCESS_LOCAL, 4582 bytes) taskResourceAssignments Map()\n",
            "22/10/26 16:55:53 INFO TaskSetManager: Finished task 84.0 in stage 0.0 (TID 84) in 40 ms on 172.28.0.2 (executor 0) (86/100)\n",
            "22/10/26 16:55:53 INFO TaskSetManager: Starting task 88.0 in stage 0.0 (TID 88) (172.28.0.2, executor 0, partition 88, PROCESS_LOCAL, 4582 bytes) taskResourceAssignments Map()\n",
            "22/10/26 16:55:53 INFO TaskSetManager: Finished task 86.0 in stage 0.0 (TID 86) in 40 ms on 172.28.0.2 (executor 0) (87/100)\n",
            "22/10/26 16:55:53 INFO TaskSetManager: Starting task 89.0 in stage 0.0 (TID 89) (172.28.0.2, executor 0, partition 89, PROCESS_LOCAL, 4582 bytes) taskResourceAssignments Map()\n",
            "22/10/26 16:55:53 INFO TaskSetManager: Finished task 87.0 in stage 0.0 (TID 87) in 43 ms on 172.28.0.2 (executor 0) (88/100)\n",
            "22/10/26 16:55:53 INFO TaskSetManager: Starting task 90.0 in stage 0.0 (TID 90) (172.28.0.2, executor 0, partition 90, PROCESS_LOCAL, 4582 bytes) taskResourceAssignments Map()\n",
            "22/10/26 16:55:53 INFO TaskSetManager: Finished task 89.0 in stage 0.0 (TID 89) in 21 ms on 172.28.0.2 (executor 0) (89/100)\n",
            "22/10/26 16:55:53 INFO TaskSetManager: Starting task 91.0 in stage 0.0 (TID 91) (172.28.0.2, executor 0, partition 91, PROCESS_LOCAL, 4582 bytes) taskResourceAssignments Map()\n",
            "22/10/26 16:55:53 INFO TaskSetManager: Finished task 88.0 in stage 0.0 (TID 88) in 52 ms on 172.28.0.2 (executor 0) (90/100)\n",
            "22/10/26 16:55:53 INFO TaskSetManager: Starting task 92.0 in stage 0.0 (TID 92) (172.28.0.2, executor 0, partition 92, PROCESS_LOCAL, 4582 bytes) taskResourceAssignments Map()\n",
            "22/10/26 16:55:53 INFO TaskSetManager: Finished task 90.0 in stage 0.0 (TID 90) in 34 ms on 172.28.0.2 (executor 0) (91/100)\n",
            "22/10/26 16:55:53 INFO TaskSetManager: Starting task 93.0 in stage 0.0 (TID 93) (172.28.0.2, executor 0, partition 93, PROCESS_LOCAL, 4582 bytes) taskResourceAssignments Map()\n",
            "22/10/26 16:55:53 INFO TaskSetManager: Finished task 92.0 in stage 0.0 (TID 92) in 32 ms on 172.28.0.2 (executor 0) (92/100)\n",
            "22/10/26 16:55:53 INFO TaskSetManager: Starting task 94.0 in stage 0.0 (TID 94) (172.28.0.2, executor 0, partition 94, PROCESS_LOCAL, 4582 bytes) taskResourceAssignments Map()\n",
            "22/10/26 16:55:53 INFO TaskSetManager: Finished task 91.0 in stage 0.0 (TID 91) in 42 ms on 172.28.0.2 (executor 0) (93/100)\n",
            "22/10/26 16:55:53 INFO TaskSetManager: Starting task 95.0 in stage 0.0 (TID 95) (172.28.0.2, executor 0, partition 95, PROCESS_LOCAL, 4582 bytes) taskResourceAssignments Map()\n",
            "22/10/26 16:55:53 INFO TaskSetManager: Finished task 93.0 in stage 0.0 (TID 93) in 40 ms on 172.28.0.2 (executor 0) (94/100)\n",
            "22/10/26 16:55:53 INFO TaskSetManager: Starting task 96.0 in stage 0.0 (TID 96) (172.28.0.2, executor 0, partition 96, PROCESS_LOCAL, 4582 bytes) taskResourceAssignments Map()\n",
            "22/10/26 16:55:53 INFO TaskSetManager: Finished task 94.0 in stage 0.0 (TID 94) in 43 ms on 172.28.0.2 (executor 0) (95/100)\n",
            "22/10/26 16:55:53 INFO TaskSetManager: Starting task 97.0 in stage 0.0 (TID 97) (172.28.0.2, executor 0, partition 97, PROCESS_LOCAL, 4582 bytes) taskResourceAssignments Map()\n",
            "22/10/26 16:55:53 INFO TaskSetManager: Finished task 95.0 in stage 0.0 (TID 95) in 40 ms on 172.28.0.2 (executor 0) (96/100)\n",
            "22/10/26 16:55:53 INFO TaskSetManager: Starting task 98.0 in stage 0.0 (TID 98) (172.28.0.2, executor 0, partition 98, PROCESS_LOCAL, 4582 bytes) taskResourceAssignments Map()\n",
            "22/10/26 16:55:53 INFO TaskSetManager: Finished task 96.0 in stage 0.0 (TID 96) in 57 ms on 172.28.0.2 (executor 0) (97/100)\n",
            "22/10/26 16:55:53 INFO TaskSetManager: Starting task 99.0 in stage 0.0 (TID 99) (172.28.0.2, executor 0, partition 99, PROCESS_LOCAL, 4582 bytes) taskResourceAssignments Map()\n",
            "22/10/26 16:55:53 INFO TaskSetManager: Finished task 97.0 in stage 0.0 (TID 97) in 31 ms on 172.28.0.2 (executor 0) (98/100)\n",
            "22/10/26 16:55:53 INFO TaskSetManager: Finished task 99.0 in stage 0.0 (TID 99) in 40 ms on 172.28.0.2 (executor 0) (99/100)\n",
            "22/10/26 16:55:53 INFO TaskSetManager: Finished task 98.0 in stage 0.0 (TID 98) in 53 ms on 172.28.0.2 (executor 0) (100/100)\n",
            "22/10/26 16:55:53 INFO TaskSchedulerImpl: Removed TaskSet 0.0, whose tasks have all completed, from pool \n",
            "22/10/26 16:55:53 INFO DAGScheduler: ResultStage 0 (reduce at SparkPi.scala:38) finished in 7.393 s\n",
            "22/10/26 16:55:53 INFO DAGScheduler: Job 0 is finished. Cancelling potential speculative or zombie tasks for this job\n",
            "22/10/26 16:55:53 INFO TaskSchedulerImpl: Killing all running tasks in stage 0: Stage finished\n",
            "22/10/26 16:55:53 INFO DAGScheduler: Job 0 finished: reduce at SparkPi.scala:38, took 7.573363 s\n",
            "Pi is roughly 3.1412231141223113\n",
            "22/10/26 16:55:53 INFO SparkUI: Stopped Spark web UI at http://84888afd7dad:4040\n",
            "22/10/26 16:55:53 INFO StandaloneSchedulerBackend: Shutting down all executors\n",
            "22/10/26 16:55:53 INFO CoarseGrainedSchedulerBackend$DriverEndpoint: Asking each executor to shut down\n",
            "22/10/26 16:55:53 INFO MapOutputTrackerMasterEndpoint: MapOutputTrackerMasterEndpoint stopped!\n",
            "22/10/26 16:55:53 INFO MemoryStore: MemoryStore cleared\n",
            "22/10/26 16:55:53 INFO BlockManager: BlockManager stopped\n",
            "22/10/26 16:55:53 INFO BlockManagerMaster: BlockManagerMaster stopped\n",
            "22/10/26 16:55:53 INFO OutputCommitCoordinator$OutputCommitCoordinatorEndpoint: OutputCommitCoordinator stopped!\n",
            "22/10/26 16:55:53 INFO SparkContext: Successfully stopped SparkContext\n",
            "22/10/26 16:55:53 INFO ShutdownHookManager: Shutdown hook called\n",
            "22/10/26 16:55:53 INFO ShutdownHookManager: Deleting directory /tmp/spark-33fec495-06d6-446f-91f3-d4fa07f77df4\n",
            "22/10/26 16:55:53 INFO ShutdownHookManager: Deleting directory /tmp/spark-1ebe3b40-b69f-4edf-b2bd-1f1c3a419733\n"
          ]
        }
      ]
    },
    {
      "cell_type": "markdown",
      "source": [
        "### Shutdown "
      ],
      "metadata": {
        "id": "AZuz6m48UyoO"
      }
    },
    {
      "cell_type": "code",
      "source": [
        "%%bash\n",
        "$SPARK_HOME/sbin/stop-master.sh \n",
        "$SPARK_HOME/sbin/stop-worker.sh"
      ],
      "metadata": {
        "colab": {
          "base_uri": "https://localhost:8080/"
        },
        "id": "KE4B2RY5U4wG",
        "outputId": "e1799960-7cee-4044-ed54-7ba8b7068907"
      },
      "execution_count": 14,
      "outputs": [
        {
          "output_type": "stream",
          "name": "stdout",
          "text": [
            "stopping org.apache.spark.deploy.master.Master\n",
            "stopping org.apache.spark.deploy.worker.Worker\n"
          ]
        }
      ]
    }
  ]
}