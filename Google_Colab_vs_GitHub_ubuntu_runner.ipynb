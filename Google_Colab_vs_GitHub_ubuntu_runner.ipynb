{
  "nbformat": 4,
  "nbformat_minor": 0,
  "metadata": {
    "colab": {
      "provenance": [],
      "authorship_tag": "ABX9TyOLri+abBs659/we+Tabuib",
      "include_colab_link": true
    },
    "kernelspec": {
      "name": "python3",
      "display_name": "Python 3"
    },
    "language_info": {
      "name": "python"
    }
  },
  "cells": [
    {
      "cell_type": "markdown",
      "metadata": {
        "id": "view-in-github",
        "colab_type": "text"
      },
      "source": [
        "<a href=\"https://colab.research.google.com/github/groda/big_data/blob/master/Google_Colab_vs_GitHub_ubuntu_runner.ipynb\" target=\"_parent\"><img src=\"https://colab.research.google.com/assets/colab-badge.svg\" alt=\"Open In Colab\"/></a>"
      ]
    },
    {
      "cell_type": "markdown",
      "source": [
        "<a href=\"https://github.com/groda/big_data/blob/master/README.md\"><div><img src=\"https://github.com/groda/big_data/blob/master/logo_bdb.png?raw=true\" align=right width=\"90\" alt=\"Logo Big Data for Beginners\"></div></a>\n",
        "# Google Colab vs. GitHub Ubuntu Runner"
      ],
      "metadata": {
        "id": "smeRn2o5NPXv"
      }
    },
    {
      "cell_type": "markdown",
      "source": [
        "\n",
        "        \n",
        "\n",
        "I've noticed that the Big Data notebooks in the BDb repo run quite fast when [being tested by GitHub actions](https://github.com/groda/big_data/actions/workflows/run-notebooks.yml) compared to their runtimes on Google Colaboratory. You can find some timings in: [action_log.txt](https://github.com/groda/big_data/blob/367429dca1faeefc7c2d2dbfda023609a683c055/action_log.txt).\n",
        "\n",
        "So I compared the standard Google Colab virtual machine with GitHub's \"ubuntu:latest\" runner and found out that not only the GitHub runner has $15$GB RAM ($3$GB more than Google Colab) but it also has double the amount of virtual CPU's ($4$ versus the $2$ of Google Colab).\n",
        "\n",
        "Below is a comparison table."
      ],
      "metadata": {
        "id": "9DXqGR0QLfVv"
      }
    },
    {
      "cell_type": "markdown",
      "source": [
        "<table style=\"border: 1px solid black;vertical-align: top;\">\n",
        "<tr>\n",
        "<th>\n",
        "<th>Google Colab\n",
        "<th>GitHub ubuntu runner\n",
        "<tr>\n",
        "<td><pre>free -h</pre>\n",
        "<td>\n",
        "<pre>               total        used        free      shared  buff/cache   available\n",
        "Mem:            12Gi       827Mi       7.1Gi       1.0Mi       4.7Gi        11Gi\n",
        "Swap:             0B          0B          0B\n",
        "</pre>\n",
        " <td>\n",
        "<pre>\n",
        "               total        used        free      shared  buff/cache   available\n",
        "Mem:            15Gi       683Mi        13Gi        23Mi       1.0Gi        14Gi\n",
        "Swap:          4.0Gi          0B       4.0Gi\n",
        "</pre>\n",
        "<tr>\n",
        "<tr>\n",
        "<td>\n",
        "<pre>lscpu</pre>\n",
        "<td>\n",
        "<pre>\n",
        "Architecture:             x86_64\n",
        "  CPU op-mode(s):         32-bit, 64-bit\n",
        "  Address sizes:          46 bits physical, 48 bits virtual\n",
        "  Byte Order:             Little Endian\n",
        "CPU(s):                   2\n",
        "  On-line CPU(s) list:    0,1\n",
        "Vendor ID:                GenuineIntel\n",
        "  Model name:             Intel(R) Xeon(R) CPU @ 2.20GHz\n",
        "    CPU family:           6\n",
        "    Model:                79\n",
        "    Thread(s) per core:   2\n",
        "    Core(s) per socket:   1\n",
        "    Socket(s):            1\n",
        "    Stepping:             0\n",
        "    BogoMIPS:             4399.99\n",
        "    Flags:                fpu vme de pse tsc msr pae mce cx8 apic sep mtrr pge mca cmov pat pse36 cl\n",
        "                          flush mmx fxsr sse sse2 ss ht syscall nx pdpe1gb rdtscp lm constant_tsc re\n",
        "                          p_good nopl xtopology nonstop_tsc cpuid tsc_known_freq pni pclmulqdq ssse3\n",
        "                           fma cx16 pcid sse4_1 sse4_2 x2apic movbe popcnt aes xsave avx f16c rdrand\n",
        "                           hypervisor lahf_lm abm 3dnowprefetch invpcid_single ssbd ibrs ibpb stibp\n",
        "                          fsgsbase tsc_adjust bmi1 hle avx2 smep bmi2 erms invpcid rtm rdseed adx sm\n",
        "                          ap xsaveopt arat md_clear arch_capabilities\n",
        "Virtualization features:  \n",
        "  Hypervisor vendor:      KVM\n",
        "  Virtualization type:    full\n",
        "Caches (sum of all):      \n",
        "  L1d:                    32 KiB (1 instance)\n",
        "  L1i:                    32 KiB (1 instance)\n",
        "  L2:                     256 KiB (1 instance)\n",
        "  L3:                     55 MiB (1 instance)\n",
        "NUMA:                     \n",
        "  NUMA node(s):           1\n",
        "  NUMA node0 CPU(s):      0,1\n",
        "Vulnerabilities:          \n",
        "  Gather data sampling:   Not affected\n",
        "  Itlb multihit:          Not affected\n",
        "  L1tf:                   Mitigation; PTE Inversion\n",
        "  Mds:                    Vulnerable; SMT Host state unknown\n",
        "  Meltdown:               Vulnerable\n",
        "  Mmio stale data:        Vulnerable\n",
        "  Reg file data sampling: Not affected\n",
        "  Retbleed:               Vulnerable\n",
        "  Spec rstack overflow:   Not affected\n",
        "  Spec store bypass:      Vulnerable\n",
        "  Spectre v1:             Vulnerable: __user pointer sanitization and usercopy barriers only; no swa\n",
        "                          pgs barriers\n",
        "  Spectre v2:             Vulnerable; IBPB: disabled; STIBP: disabled; PBRSB-eIBRS: Not affected; BH\n",
        "                          I: Vulnerable (Syscall hardening enabled)\n",
        "  Srbds:                  Not affected\n",
        "  Tsx async abort:        Vulnerable\n",
        "  </pre>\n",
        "<td>\n",
        "<pre>\n",
        "Architecture:                       x86_64\n",
        "CPU op-mode(s):                     32-bit, 64-bit\n",
        "Address sizes:                      48 bits physical, 48 bits virtual\n",
        "Byte Order:                         Little Endian\n",
        "CPU(s):                             4\n",
        "On-line CPU(s) list:                0-3\n",
        "Vendor ID:                          AuthenticAMD\n",
        "Model name:                         AMD EPYC 7763 64-Core Processor\n",
        "CPU family:                         25\n",
        "Model:                              1\n",
        "Thread(s) per core:                 2\n",
        "Core(s) per socket:                 2\n",
        "Socket(s):                          1\n",
        "Stepping:                           1\n",
        "BogoMIPS:                           4890.85\n",
        "Flags:                              fpu vme de pse tsc msr pae mce cx8 apic sep\n",
        "                                    mtrr pge mca cmov pat pse36 clflush mmx fxsr sse sse2 ht syscall nx mmxext\n",
        "                                    fxsr_opt pdpe1gb rdtscp lm constant_tsc rep_good nopl tsc_reliable nonstop_tsc\n",
        "                                    cpuid extd_apicid aperfmperf pni pclmulqdq\n",
        "                                    ssse3 fma cx16 pcid sse4_1 sse4_2\n",
        "                                    movbe popcnt aes xsave avx f16c rdrand hypervisor lahf_lm cmp_legacy svm\n",
        "                                    cr8_legacy abm sse4a misalignsse 3dnowprefetch osvw topoext invpcid_single\n",
        "                                    vmmcall fsgsbase bmi1 avx2 smep bmi2 erms\n",
        "                                    invpcid rdseed adx smap clflushopt\n",
        "                                    clwb sha_ni xsaveopt xsavec xgetbv1 xsaves clzero xsaveerptr rdpru arat npt\n",
        "                                    nrip_save tsc_scale vmcb_clean flushbyasid decodeassists pausefilter\n",
        "                                    pfthreshold v_vmsave_vmload umip vaes vpclmulqdq rdpid fsrm\n",
        "Virtualization:                     AMD-V\n",
        "Hypervisor vendor:                  Microsoft\n",
        "Virtualization type:                full\n",
        "L1d cache:                          64 KiB (2 instances)\n",
        "L1i cache:                          64 KiB (2 instances)\n",
        "L2 cache:                           1 MiB (2 instances)\n",
        "L3 cache:                           32 MiB (1 instance)\n",
        "NUMA node(s):                       1\n",
        "NUMA node0 CPU(s):                  0-3\n",
        "Vulnerability Gather data sampling: Not affected\n",
        "Vulnerability Itlb multihit:        Not affected\n",
        "Vulnerability L1tf:                 Not affected\n",
        "Vulnerability Mds:                  Not affected\n",
        "Vulnerability Meltdown:             Not affected\n",
        "Vulnerability Mmio stale data:      Not affected\n",
        "Vulnerability Retbleed:             Not affected\n",
        "Vulnerability Spec rstack overflow: Vulnerable: Safe RET, no microcode\n",
        "Vulnerability Spec store bypass:    Vulnerable\n",
        "Vulnerability Spectre v1:           Mitigation; usercopy/swapgs barriers and __user pointer sanitization\n",
        "Vulnerability Spectre v2:           Mitigation; Retpolines; STIBP disabled;\n",
        "                                    RSB filling; PBRSB-eIBRS Not affected;\n",
        "                                    BHI Not affected\n",
        "Vulnerability Srbds:                Not affected\n",
        "Vulnerability Tsx async abort:      Not affected\n",
        "</pre>\n",
        "</table>"
      ],
      "metadata": {
        "id": "4LfWnt8lHh_R"
      }
    },
    {
      "cell_type": "markdown",
      "source": [
        "## Data collection on Colab"
      ],
      "metadata": {
        "id": "_-aGEWBU2axD"
      }
    },
    {
      "cell_type": "markdown",
      "source": [
        "Get information on the processing units (CPUs) with [`lscpu`](https://unix.stackexchange.com/questions/468766/understanding-output-of-lscpu):"
      ],
      "metadata": {
        "id": "WRXnDGVz49ZA"
      }
    },
    {
      "cell_type": "code",
      "execution_count": 1,
      "metadata": {
        "colab": {
          "base_uri": "https://localhost:8080/"
        },
        "id": "FoEpZvFFGdkX",
        "outputId": "16ad7774-014f-444d-954c-20df261fd230"
      },
      "outputs": [
        {
          "output_type": "stream",
          "name": "stdout",
          "text": [
            "Architecture:             x86_64\n",
            "  CPU op-mode(s):         32-bit, 64-bit\n",
            "  Address sizes:          46 bits physical, 48 bits virtual\n",
            "  Byte Order:             Little Endian\n",
            "CPU(s):                   2\n",
            "  On-line CPU(s) list:    0,1\n",
            "Vendor ID:                GenuineIntel\n",
            "  Model name:             Intel(R) Xeon(R) CPU @ 2.20GHz\n",
            "    CPU family:           6\n",
            "    Model:                79\n",
            "    Thread(s) per core:   2\n",
            "    Core(s) per socket:   1\n",
            "    Socket(s):            1\n",
            "    Stepping:             0\n",
            "    BogoMIPS:             4399.99\n",
            "    Flags:                fpu vme de pse tsc msr pae mce cx8 apic sep mtrr pge mca cmov pat pse36 cl\n",
            "                          flush mmx fxsr sse sse2 ss ht syscall nx pdpe1gb rdtscp lm constant_tsc re\n",
            "                          p_good nopl xtopology nonstop_tsc cpuid tsc_known_freq pni pclmulqdq ssse3\n",
            "                           fma cx16 pcid sse4_1 sse4_2 x2apic movbe popcnt aes xsave avx f16c rdrand\n",
            "                           hypervisor lahf_lm abm 3dnowprefetch invpcid_single ssbd ibrs ibpb stibp \n",
            "                          fsgsbase tsc_adjust bmi1 hle avx2 smep bmi2 erms invpcid rtm rdseed adx sm\n",
            "                          ap xsaveopt arat md_clear arch_capabilities\n",
            "Virtualization features:  \n",
            "  Hypervisor vendor:      KVM\n",
            "  Virtualization type:    full\n",
            "Caches (sum of all):      \n",
            "  L1d:                    32 KiB (1 instance)\n",
            "  L1i:                    32 KiB (1 instance)\n",
            "  L2:                     256 KiB (1 instance)\n",
            "  L3:                     55 MiB (1 instance)\n",
            "NUMA:                     \n",
            "  NUMA node(s):           1\n",
            "  NUMA node0 CPU(s):      0,1\n",
            "Vulnerabilities:          \n",
            "  Gather data sampling:   Not affected\n",
            "  Itlb multihit:          Not affected\n",
            "  L1tf:                   Mitigation; PTE Inversion\n",
            "  Mds:                    Vulnerable; SMT Host state unknown\n",
            "  Meltdown:               Vulnerable\n",
            "  Mmio stale data:        Vulnerable\n",
            "  Reg file data sampling: Not affected\n",
            "  Retbleed:               Vulnerable\n",
            "  Spec rstack overflow:   Not affected\n",
            "  Spec store bypass:      Vulnerable\n",
            "  Spectre v1:             Vulnerable: __user pointer sanitization and usercopy barriers only; no swa\n",
            "                          pgs barriers\n",
            "  Spectre v2:             Vulnerable; IBPB: disabled; STIBP: disabled; PBRSB-eIBRS: Not affected; BH\n",
            "                          I: Vulnerable (Syscall hardening enabled)\n",
            "  Srbds:                  Not affected\n",
            "  Tsx async abort:        Vulnerable\n"
          ]
        }
      ],
      "source": [
        "!lscpu"
      ]
    },
    {
      "cell_type": "markdown",
      "source": [
        "Show the amount of total/free/used memory in human-readable format (option `-h`):"
      ],
      "metadata": {
        "id": "VROe0TPw4oxH"
      }
    },
    {
      "cell_type": "code",
      "source": [
        "!free -h"
      ],
      "metadata": {
        "colab": {
          "base_uri": "https://localhost:8080/"
        },
        "id": "4wVKKHbRGjhY",
        "outputId": "2bead5da-5653-49ef-c9e7-9c47393434a3"
      },
      "execution_count": null,
      "outputs": [
        {
          "output_type": "stream",
          "name": "stdout",
          "text": [
            "               total        used        free      shared  buff/cache   available\n",
            "Mem:            12Gi       827Mi       7.1Gi       1.0Mi       4.7Gi        11Gi\n",
            "Swap:             0B          0B          0B\n"
          ]
        }
      ]
    },
    {
      "cell_type": "markdown",
      "source": [
        "## Data collection on GitHub\n",
        "\n",
        "In order to collect information on the GitHub runner I created an [_action_](https://docs.github.com/en/actions/writing-workflows/quickstart) defined in the YAML file:\n",
        "\n",
        "```\n",
        "name: Get info on runner\n",
        "run-name: Runner info\n",
        "on:\n",
        "  # needs to be started manually (by clicking on it)\n",
        "  workflow_dispatch:\n",
        "jobs:\n",
        "  Runner-Info-RAM-CPU:\n",
        "    runs-on: ubuntu-latest\n",
        "    steps:\n",
        "      - run: lscpu\n",
        "      - run: free -h\n",
        "      - run: echo \"🍏 This job's status is ${{ job.status }}.\"\n",
        "```"
      ],
      "metadata": {
        "id": "m4RrJKyM2kwl"
      }
    },
    {
      "cell_type": "markdown",
      "source": [
        "**Status:** Oct. 20, 2024\n",
        "\n",
        "(these things change over time)"
      ],
      "metadata": {
        "id": "7IYSXcflNDYU"
      }
    }
  ]
}