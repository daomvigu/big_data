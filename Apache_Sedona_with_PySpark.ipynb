{
  "nbformat": 4,
  "nbformat_minor": 0,
  "metadata": {
    "colab": {
      "provenance": [],
      "toc_visible": true,
      "authorship_tag": "ABX9TyM/eVj7AXFSfahYj2dPipY6",
      "include_colab_link": true
    },
    "kernelspec": {
      "name": "python3",
      "display_name": "Python 3"
    },
    "language_info": {
      "name": "python"
    }
  },
  "cells": [
    {
      "cell_type": "markdown",
      "metadata": {
        "id": "view-in-github",
        "colab_type": "text"
      },
      "source": [
        "<a href=\"https://colab.research.google.com/github/groda/big_data/blob/master/Apache_Sedona_with_PySpark.ipynb\" target=\"_parent\"><img src=\"https://colab.research.google.com/assets/colab-badge.svg\" alt=\"Open In Colab\"/></a>"
      ]
    },
    {
      "cell_type": "markdown",
      "source": [
        "\n",
        "<a href=\"https://github.com/groda/big_data\"><div><img src=\"https://github.com/groda/big_data/blob/master/logo_bdb.png?raw=true\" align=right width=\"90\" alt=\"Logo Big Data for Beginners\"></div></a>\n",
        "# Apache Sedona with PySpark\n",
        "\n",
        "Apache Sedona™ is\n",
        "\n",
        "> *a cluster computing system for processing large-scale spatial data. Sedona extends existing cluster computing systems, such as Apache Spark, Apache Flink, and Snowflake, with a set of out-of-the-box distributed Spatial Datasets and Spatial SQL that efficiently load, process, and analyze large-scale spatial data across machines.* ([https://sedona.apache.org/](https://sedona.apache.org/))\n",
        "\n",
        "To execute a basic Sedona demonstration using PySpark on Google Colab, we made a few minor adjustments. The Sedona notebook starts below at [Apache Sedona Core demo](#scrollTo=Apache_Sedona_Core_demo).\n",
        "\n"
      ],
      "metadata": {
        "id": "DNWKwG4TAcD2"
      }
    },
    {
      "cell_type": "markdown",
      "source": [
        "## Install Apache Sedona and PySpark\n",
        "\n",
        "To start with, we are going to install PySpark with Sedona following the instructions at: https://sedona.apache.org/latest-snapshot/setup/install-python/ but first we need to downgrade `shapely` because the version 2.0.2 that comes with Google Colab does not play well with the current version of Apache Sedona (see https://shapely.readthedocs.io/en/stable/migration.html)."
      ],
      "metadata": {
        "id": "3AQNoWmX_B78"
      }
    },
    {
      "cell_type": "markdown",
      "source": [
        "### Downgrade Shapely to version 1.7.1\n",
        "\n",
        "We need to install install any version of `shapely>=1.7.0` but smaller than `2.0`. We picked `1.7.1` because with 1.7.0 we got the error\n",
        "\n",
        "    geopandas 0.13.2 requires shapely>=1.7.1, but you have shapely 1.7.0 which is incompatible.\n",
        "\n",
        "Explanation for `pip -I`:\n",
        "\n",
        "- [`-I, --ignore-installed`](https://pip.pypa.io/en/stable/cli/pip_install/#cmdoption-I)\n",
        "> Ignore the installed packages, overwriting them. This can break your system if the existing package is of a different version or was installed with a different package manager!\n",
        "\n",
        "\n",
        "\n",
        "\n",
        "\n"
      ],
      "metadata": {
        "id": "zDoBDC3yAVvI"
      }
    },
    {
      "cell_type": "code",
      "source": [
        "!pip install -I shapely==1.7.1"
      ],
      "metadata": {
        "colab": {
          "base_uri": "https://localhost:8080/"
        },
        "id": "_4nnDMo0Blfu",
        "outputId": "fee0b309-22f7-436c-f07e-5177ec6e7788"
      },
      "execution_count": 1,
      "outputs": [
        {
          "output_type": "stream",
          "name": "stdout",
          "text": [
            "Collecting shapely==1.7.1\n",
            "  Downloading Shapely-1.7.1.tar.gz (383 kB)\n",
            "\u001b[?25l     \u001b[90m━━━━━━━━━━━━━━━━━━━━━━━━━━━━━━━━━━━━━━━━\u001b[0m \u001b[32m0.0/383.2 kB\u001b[0m \u001b[31m?\u001b[0m eta \u001b[36m-:--:--\u001b[0m\r\u001b[2K     \u001b[91m━━━━━━━━━━━━\u001b[0m\u001b[91m╸\u001b[0m\u001b[90m━━━━━━━━━━━━━━━━━━━━━━━━━━━\u001b[0m \u001b[32m122.9/383.2 kB\u001b[0m \u001b[31m3.5 MB/s\u001b[0m eta \u001b[36m0:00:01\u001b[0m\r\u001b[2K     \u001b[90m━━━━━━━━━━━━━━━━━━━━━━━━━━━━━━━━━━━━━━━━\u001b[0m \u001b[32m383.2/383.2 kB\u001b[0m \u001b[31m6.0 MB/s\u001b[0m eta \u001b[36m0:00:00\u001b[0m\n",
            "\u001b[?25h  Preparing metadata (setup.py) ... \u001b[?25l\u001b[?25hdone\n",
            "Building wheels for collected packages: shapely\n",
            "  Building wheel for shapely (setup.py) ... \u001b[?25l\u001b[?25hdone\n",
            "  Created wheel for shapely: filename=Shapely-1.7.1-cp310-cp310-linux_x86_64.whl size=997340 sha256=491598e369c0197a57e311ff246d5b4637966b872c471a4444f55941df851c86\n",
            "  Stored in directory: /root/.cache/pip/wheels/2e/fa/97/c85f587c35afcaf4a81c481741d36592518d1e50445572f0d4\n",
            "Successfully built shapely\n",
            "Installing collected packages: shapely\n",
            "\u001b[31mERROR: pip's dependency resolver does not currently take into account all the packages that are installed. This behaviour is the source of the following dependency conflicts.\n",
            "lida 0.0.10 requires fastapi, which is not installed.\n",
            "lida 0.0.10 requires kaleido, which is not installed.\n",
            "lida 0.0.10 requires python-multipart, which is not installed.\n",
            "lida 0.0.10 requires uvicorn, which is not installed.\u001b[0m\u001b[31m\n",
            "\u001b[0mSuccessfully installed shapely-1.7.1\n"
          ]
        }
      ]
    },
    {
      "cell_type": "markdown",
      "source": [
        "### Install Apache Sedona and PySpark\n",
        "\n",
        "We can now install Apache Sedona together with PySpark (and Spark)."
      ],
      "metadata": {
        "id": "Vv5bhPBIDQ5G"
      }
    },
    {
      "cell_type": "code",
      "execution_count": 2,
      "metadata": {
        "colab": {
          "base_uri": "https://localhost:8080/"
        },
        "id": "SOB7DNZ6AOio",
        "outputId": "0a28b527-8f86-49e9-e1dc-99961f9a4d37"
      },
      "outputs": [
        {
          "output_type": "stream",
          "name": "stdout",
          "text": [
            "Collecting apache-sedona[spark]\n",
            "  Downloading apache_sedona-1.5.1-cp310-cp310-manylinux_2_17_x86_64.manylinux2014_x86_64.whl (155 kB)\n",
            "\u001b[?25l     \u001b[90m━━━━━━━━━━━━━━━━━━━━━━━━━━━━━━━━━━━━━━━━\u001b[0m \u001b[32m0.0/155.3 kB\u001b[0m \u001b[31m?\u001b[0m eta \u001b[36m-:--:--\u001b[0m\r\u001b[2K     \u001b[91m━━━━━━━━━━━━━━━━━━━━━━━━━━━━━━━━━━━━━━━\u001b[0m\u001b[91m╸\u001b[0m \u001b[32m153.6/155.3 kB\u001b[0m \u001b[31m5.1 MB/s\u001b[0m eta \u001b[36m0:00:01\u001b[0m\r\u001b[2K     \u001b[90m━━━━━━━━━━━━━━━━━━━━━━━━━━━━━━━━━━━━━━━━\u001b[0m \u001b[32m155.3/155.3 kB\u001b[0m \u001b[31m3.9 MB/s\u001b[0m eta \u001b[36m0:00:00\u001b[0m\n",
            "\u001b[?25hRequirement already satisfied: attrs in /usr/local/lib/python3.10/dist-packages (from apache-sedona[spark]) (23.2.0)\n",
            "Requirement already satisfied: shapely>=1.7.0 in /usr/local/lib/python3.10/dist-packages (from apache-sedona[spark]) (1.7.1)\n",
            "Collecting pyspark>=2.3.0 (from apache-sedona[spark])\n",
            "  Downloading pyspark-3.5.0.tar.gz (316.9 MB)\n",
            "\u001b[2K     \u001b[90m━━━━━━━━━━━━━━━━━━━━━━━━━━━━━━━━━━━━━━━━\u001b[0m \u001b[32m316.9/316.9 MB\u001b[0m \u001b[31m3.1 MB/s\u001b[0m eta \u001b[36m0:00:00\u001b[0m\n",
            "\u001b[?25h  Preparing metadata (setup.py) ... \u001b[?25l\u001b[?25hdone\n",
            "Requirement already satisfied: py4j==0.10.9.7 in /usr/local/lib/python3.10/dist-packages (from pyspark>=2.3.0->apache-sedona[spark]) (0.10.9.7)\n",
            "Building wheels for collected packages: pyspark\n",
            "  Building wheel for pyspark (setup.py) ... \u001b[?25l\u001b[?25hdone\n",
            "  Created wheel for pyspark: filename=pyspark-3.5.0-py2.py3-none-any.whl size=317425345 sha256=adf3bf78d21286dc6b66747c2f017aa7fd8d65d8e7931f91615c67760c948d06\n",
            "  Stored in directory: /root/.cache/pip/wheels/41/4e/10/c2cf2467f71c678cfc8a6b9ac9241e5e44a01940da8fbb17fc\n",
            "Successfully built pyspark\n",
            "Installing collected packages: pyspark, apache-sedona\n",
            "Successfully installed apache-sedona-1.5.1 pyspark-3.5.0\n"
          ]
        }
      ],
      "source": [
        "!pip install apache-sedona[spark]"
      ]
    },
    {
      "cell_type": "code",
      "source": [
        "%env SPARK_HOME = \"/usr/local/lib/python3.10/dist-packages/pyspark\""
      ],
      "metadata": {
        "colab": {
          "base_uri": "https://localhost:8080/"
        },
        "id": "ZoNNqcGaGrEh",
        "outputId": "b6fab4a5-c1fb-47ce-eadd-17e7bbb1ad43"
      },
      "execution_count": 3,
      "outputs": [
        {
          "output_type": "stream",
          "name": "stdout",
          "text": [
            "env: SPARK_HOME=\"/usr/local/lib/python3.10/dist-packages/pyspark\"\n"
          ]
        }
      ]
    },
    {
      "cell_type": "code",
      "source": [
        "%env PYTHONPATH = /usr/local/lib/python3.10/dist-packages/pyspark/python"
      ],
      "metadata": {
        "colab": {
          "base_uri": "https://localhost:8080/"
        },
        "id": "z9fpbLrjHBeY",
        "outputId": "18c68c8d-322a-4dff-f803-1a4668801c16"
      },
      "execution_count": 4,
      "outputs": [
        {
          "output_type": "stream",
          "name": "stdout",
          "text": [
            "env: PYTHONPATH=/usr/local/lib/python3.10/dist-packages/pyspark/python\n"
          ]
        }
      ]
    },
    {
      "cell_type": "code",
      "source": [
        "!pip info pyspark"
      ],
      "metadata": {
        "colab": {
          "base_uri": "https://localhost:8080/"
        },
        "id": "d_YNI8fKiU3k",
        "outputId": "b04bad71-3f38-4edf-8da9-db907b407c35"
      },
      "execution_count": 5,
      "outputs": [
        {
          "output_type": "stream",
          "name": "stdout",
          "text": [
            "ERROR: unknown command \"info\"\n"
          ]
        }
      ]
    },
    {
      "cell_type": "markdown",
      "source": [
        "## Setup environment variables\n",
        "\n",
        "We need to set two environment variables:\n",
        "\n",
        "- `SPARK_HOME`\n",
        "- `PYTHONPATH`\n",
        "\n",
        "Once we have set `SPARK_HOME`, the variable `PYTHONPATH` is `$SPARK_HOME/python`.\n",
        "\n",
        "### Find Spark home\n",
        "\n",
        "There's an utility to find Spark home and I always forget how it's called exactly, what I remember is that it contains `\"find\"` and `\"spark\"`. Let us search for it:"
      ],
      "metadata": {
        "id": "Sjlr4JO-Erv3"
      }
    },
    {
      "cell_type": "code",
      "source": [
        "!find / -name \"*find*spark*\""
      ],
      "metadata": {
        "colab": {
          "base_uri": "https://localhost:8080/"
        },
        "id": "oK5vO9MUGQA6",
        "outputId": "ec81f37a-ecb3-400d-e5b0-99468f28b491"
      },
      "execution_count": 6,
      "outputs": [
        {
          "output_type": "stream",
          "name": "stdout",
          "text": [
            "/usr/local/bin/find_spark_home.py\n",
            "/usr/local/bin/__pycache__/find_spark_home.cpython-310.pyc\n",
            "/usr/local/bin/find-spark-home.cmd\n",
            "/usr/local/bin/find-spark-home\n",
            "/usr/local/lib/python3.10/dist-packages/pyspark/bin/find-spark-home.cmd\n",
            "/usr/local/lib/python3.10/dist-packages/pyspark/bin/find-spark-home\n",
            "/usr/local/lib/python3.10/dist-packages/pyspark/find_spark_home.py\n",
            "/usr/local/lib/python3.10/dist-packages/pyspark/__pycache__/find_spark_home.cpython-310.pyc\n",
            "find: ‘/proc/61/task/61/net’: Invalid argument\n",
            "find: ‘/proc/61/net’: Invalid argument\n"
          ]
        }
      ]
    },
    {
      "cell_type": "markdown",
      "source": [
        "The script `/usr/local/bin/find_spark_home.py` is successful at finding Spark's home."
      ],
      "metadata": {
        "id": "Nr_2rb6pFzF8"
      }
    },
    {
      "cell_type": "markdown",
      "source": [
        "#### Set `SPARK_HOME`"
      ],
      "metadata": {
        "id": "qxlEqcY9LRI4"
      }
    },
    {
      "cell_type": "code",
      "source": [
        "import sys\n",
        "import os\n",
        "IN_COLAB = 'google.colab' in sys.modules\n",
        "if IN_COLAB:\n",
        "  output = !python /usr/local/bin/find_spark_home.py\n",
        "else:\n",
        "  output = !find / -name \"pyspark\" -type d 2>/dev/null|head -1\n",
        "# Store the output using %store\n",
        "%store output\n",
        "# get rid of extra quotation marks\n",
        "os.environ['SPARK_HOME'] = output[0].replace('\"', '')"
      ],
      "metadata": {
        "colab": {
          "base_uri": "https://localhost:8080/"
        },
        "id": "GCgU9MnaIZ_k",
        "outputId": "f8868499-b0e3-4fe9-df99-621c4600ce3c"
      },
      "execution_count": 9,
      "outputs": [
        {
          "output_type": "stream",
          "name": "stdout",
          "text": [
            "Stored 'output' (SList)\n"
          ]
        }
      ]
    },
    {
      "cell_type": "code",
      "source": [
        "!pip show pyspark"
      ],
      "metadata": {
        "colab": {
          "base_uri": "https://localhost:8080/"
        },
        "id": "olIKq1bOkMDy",
        "outputId": "512295c5-2488-44d9-9d7f-4edc39861a4e"
      },
      "execution_count": 10,
      "outputs": [
        {
          "output_type": "stream",
          "name": "stdout",
          "text": [
            "Name: pyspark\n",
            "Version: 3.5.0\n",
            "Summary: Apache Spark Python API\n",
            "Home-page: https://github.com/apache/spark/tree/master/python\n",
            "Author: Spark Developers\n",
            "Author-email: dev@spark.apache.org\n",
            "License: http://www.apache.org/licenses/LICENSE-2.0\n",
            "Location: /usr/local/lib/python3.10/dist-packages\n",
            "Requires: py4j\n",
            "Required-by: \n"
          ]
        }
      ]
    },
    {
      "cell_type": "markdown",
      "source": [
        "Verify that the correct `SPARK_HOME` has been set."
      ],
      "metadata": {
        "id": "Ic1uHIKAK1ss"
      }
    },
    {
      "cell_type": "code",
      "source": [
        "os.environ['SPARK_HOME']"
      ],
      "metadata": {
        "colab": {
          "base_uri": "https://localhost:8080/",
          "height": 35
        },
        "id": "BraJPa5KZY1y",
        "outputId": "32669508-bda5-4a8e-a6b4-8692b93962fb"
      },
      "execution_count": 11,
      "outputs": [
        {
          "output_type": "execute_result",
          "data": {
            "text/plain": [
              "'/usr/local/lib/python3.10/dist-packages/pyspark'"
            ],
            "application/vnd.google.colaboratory.intrinsic+json": {
              "type": "string"
            }
          },
          "metadata": {},
          "execution_count": 11
        }
      ]
    },
    {
      "cell_type": "code",
      "source": [
        "%env SPARK_HOME"
      ],
      "metadata": {
        "colab": {
          "base_uri": "https://localhost:8080/",
          "height": 35
        },
        "id": "sONAYA_DKOry",
        "outputId": "f5f8ce9c-3180-4fc5-ea2a-e322d8f7deb1"
      },
      "execution_count": 12,
      "outputs": [
        {
          "output_type": "execute_result",
          "data": {
            "text/plain": [
              "'/usr/local/lib/python3.10/dist-packages/pyspark'"
            ],
            "application/vnd.google.colaboratory.intrinsic+json": {
              "type": "string"
            }
          },
          "metadata": {},
          "execution_count": 12
        }
      ]
    },
    {
      "cell_type": "markdown",
      "source": [
        "#### Set `PYTHONPATH`"
      ],
      "metadata": {
        "id": "gQ3zuxd9LKxA"
      }
    },
    {
      "cell_type": "code",
      "source": [
        "os.environ['PYTHONPATH'] = os.environ['SPARK_HOME'] + '/python'"
      ],
      "metadata": {
        "id": "SOXsRzqNLAqx"
      },
      "execution_count": 13,
      "outputs": []
    },
    {
      "cell_type": "markdown",
      "source": [
        "Check"
      ],
      "metadata": {
        "id": "HTzSh-RBLbsg"
      }
    },
    {
      "cell_type": "code",
      "source": [
        "%env PYTHONPATH"
      ],
      "metadata": {
        "colab": {
          "base_uri": "https://localhost:8080/",
          "height": 0
        },
        "id": "Log-_SFWJScq",
        "outputId": "9da5b8d0-797b-40ee-c3ab-b6fca96bb93a"
      },
      "execution_count": 14,
      "outputs": [
        {
          "output_type": "execute_result",
          "data": {
            "text/plain": [
              "'/usr/local/lib/python3.10/dist-packages/pyspark/python'"
            ],
            "application/vnd.google.colaboratory.intrinsic+json": {
              "type": "string"
            }
          },
          "metadata": {},
          "execution_count": 14
        }
      ]
    },
    {
      "cell_type": "markdown",
      "source": [
        "## Download data\n",
        "\n",
        "In order to run, the Sedona notebook expects to find some specific files in the local folder `data`. Let us populate `data` with the files from the Sedona Github repository."
      ],
      "metadata": {
        "id": "qi3MxEWpV9CL"
      }
    },
    {
      "cell_type": "code",
      "source": [
        "%%bash\n",
        "# it would be more efficient to just download the \"data\" folder and not the whole repo\n",
        "[ -d sedona ] || git clone https://github.com/apache/sedona.git\n",
        "\n",
        "cp -r sedona/binder/data ./"
      ],
      "metadata": {
        "colab": {
          "base_uri": "https://localhost:8080/"
        },
        "id": "wnzi7JCOIA1v",
        "outputId": "c8845729-8a18-4335-f669-b5ad17cbb76b"
      },
      "execution_count": 15,
      "outputs": [
        {
          "output_type": "stream",
          "name": "stderr",
          "text": [
            "Cloning into 'sedona'...\n",
            "Updating files:  85% (1018/1194)\rUpdating files:  86% (1027/1194)\rUpdating files:  87% (1039/1194)\rUpdating files:  88% (1051/1194)\rUpdating files:  89% (1063/1194)\rUpdating files:  90% (1075/1194)\rUpdating files:  91% (1087/1194)\rUpdating files:  92% (1099/1194)\rUpdating files:  93% (1111/1194)\rUpdating files:  94% (1123/1194)\rUpdating files:  95% (1135/1194)\rUpdating files:  96% (1147/1194)\rUpdating files:  97% (1159/1194)\rUpdating files:  98% (1171/1194)\rUpdating files:  99% (1183/1194)\rUpdating files: 100% (1194/1194)\rUpdating files: 100% (1194/1194), done.\n"
          ]
        }
      ]
    },
    {
      "cell_type": "markdown",
      "source": [
        "Verify the presence of data in the designated `data` folder."
      ],
      "metadata": {
        "id": "qQVz6ckaScn8"
      }
    },
    {
      "cell_type": "code",
      "source": [
        "!ls data"
      ],
      "metadata": {
        "colab": {
          "base_uri": "https://localhost:8080/"
        },
        "id": "Rxy-t1JnRnf6",
        "outputId": "628ec383-6c83-45f7-b8b3-2c1520385d5c"
      },
      "execution_count": 16,
      "outputs": [
        {
          "output_type": "stream",
          "name": "stdout",
          "text": [
            "arealm-small.csv\t gis_osm_pois_free_1.shp\t primaryroads-polygon.csv\n",
            "county_small.tsv\t gis_osm_pois_free_1.shx\t raster\n",
            "county_small_wkb.tsv\t ne_50m_admin_0_countries_lakes  testpoint.csv\n",
            "gis_osm_pois_free_1.cpg  ne_50m_airports\t\t testPolygon.json\n",
            "gis_osm_pois_free_1.dbf  polygon\t\t\t zcta510-small.csv\n",
            "gis_osm_pois_free_1.prj  primaryroads-linestring.csv\n"
          ]
        }
      ]
    },
    {
      "cell_type": "markdown",
      "source": [
        "# Apache Sedona Core demo\n",
        "\n",
        "The notebook is available at the following link:\n",
        "https://github.com/apache/sedona/blob/master/binder/ApacheSedonaCore.ipynb\n"
      ],
      "metadata": {
        "id": "Mk20FV3ZHj_U"
      }
    },
    {
      "cell_type": "markdown",
      "metadata": {
        "id": "AcjGVcGzOjcK"
      },
      "source": [
        "```\n",
        "Licensed to the Apache Software Foundation (ASF) under one\n",
        "or more contributor license agreements.  See the NOTICE file\n",
        "distributed with this work for additional information\n",
        "regarding copyright ownership.  The ASF licenses this file\n",
        "to you under the Apache License, Version 2.0 (the\n",
        "\"License\"); you may not use this file except in compliance\n",
        "with the License.  You may obtain a copy of the License at\n",
        "  http://www.apache.org/licenses/LICENSE-2.0\n",
        "Unless required by applicable law or agreed to in writing,\n",
        "software distributed under the License is distributed on an\n",
        "\"AS IS\" BASIS, WITHOUT WARRANTIES OR CONDITIONS OF ANY\n",
        "KIND, either express or implied.  See the License for the\n",
        "specific language governing permissions and limitations\n",
        "under the License.\n",
        "```"
      ]
    },
    {
      "cell_type": "code",
      "execution_count": 17,
      "metadata": {
        "id": "sK9oIz0FOjcN",
        "colab": {
          "base_uri": "https://localhost:8080/"
        },
        "outputId": "5712da02-ad79-4909-a42d-0e11d0193a33"
      },
      "outputs": [
        {
          "output_type": "stream",
          "name": "stdout",
          "text": [
            "Skipping SedonaKepler import, verify if keplergl is installed\n",
            "Skipping SedonaPyDeck import, verify if pydeck is installed\n"
          ]
        }
      ],
      "source": [
        "from pyspark.sql import SparkSession\n",
        "from pyspark import StorageLevel\n",
        "import geopandas as gpd\n",
        "import pandas as pd\n",
        "from pyspark.sql.types import StructType\n",
        "from pyspark.sql.types import StructField\n",
        "from pyspark.sql.types import StringType\n",
        "from pyspark.sql.types import LongType\n",
        "from shapely.geometry import Point\n",
        "from shapely.geometry import Polygon\n",
        "\n",
        "from sedona.spark import *\n",
        "from sedona.core.geom.envelope import Envelope\n"
      ]
    },
    {
      "cell_type": "code",
      "execution_count": 18,
      "metadata": {
        "id": "HzVqFLBtOjcO"
      },
      "outputs": [],
      "source": [
        "config = SedonaContext.builder() .\\\n",
        "    config('spark.jars.packages',\n",
        "           'org.apache.sedona:sedona-spark-3.4_2.12:1.5.1,'\n",
        "           'org.datasyslab:geotools-wrapper:1.5.1-28.2,'\n",
        "           'uk.co.gresearch.spark:spark-extension_2.12:2.11.0-3.4'). \\\n",
        "    config('spark.jars.repositories', 'https://artifacts.unidata.ucar.edu/repository/unidata-all'). \\\n",
        "    getOrCreate()\n",
        "\n",
        "sedona = SedonaContext.create(config)"
      ]
    },
    {
      "cell_type": "code",
      "execution_count": 19,
      "metadata": {
        "id": "JI32GOnEOjcO"
      },
      "outputs": [],
      "source": [
        "sc = sedona.sparkContext"
      ]
    },
    {
      "cell_type": "markdown",
      "metadata": {
        "id": "OdQM3oaYOjcO"
      },
      "source": [
        "# Create SpatialRDD"
      ]
    },
    {
      "cell_type": "markdown",
      "metadata": {
        "id": "X2umXxYfOjcO"
      },
      "source": [
        "## Reading to PointRDD from CSV file"
      ]
    },
    {
      "cell_type": "markdown",
      "metadata": {
        "id": "j8Rgv--0OjcP"
      },
      "source": [
        "Suppose we want load the CSV file into Apache Sedona PointRDD\n",
        "```\n",
        "testattribute0,-88.331492,32.324142,testattribute1,testattribute2\n",
        "testattribute0,-88.175933,32.360763,testattribute1,testattribute2\n",
        "testattribute0,-88.388954,32.357073,testattribute1,testattribute2\n",
        "testattribute0,-88.221102,32.35078,testattribute1,testattribute2\n",
        "testattribute0,-88.323995,32.950671,testattribute1,testattribute2\n",
        "testattribute0,-88.231077,32.700812,testattribute1,testattribute2\n",
        "```"
      ]
    },
    {
      "cell_type": "code",
      "execution_count": 20,
      "metadata": {
        "id": "gusbYu1fOjcP"
      },
      "outputs": [],
      "source": [
        "point_rdd = PointRDD(sc, \"data/arealm-small.csv\", 1, FileDataSplitter.CSV, True, 10)"
      ]
    },
    {
      "cell_type": "code",
      "execution_count": 21,
      "metadata": {
        "id": "Ykc5FwouOjcP",
        "outputId": "cdbb1065-dbca-4d09-bf32-304c98688b05",
        "colab": {
          "base_uri": "https://localhost:8080/"
        }
      },
      "outputs": [
        {
          "output_type": "execute_result",
          "data": {
            "text/plain": [
              "3000"
            ]
          },
          "metadata": {},
          "execution_count": 21
        }
      ],
      "source": [
        "## Getting approximate total count\n",
        "point_rdd.approximateTotalCount"
      ]
    },
    {
      "cell_type": "code",
      "execution_count": 22,
      "metadata": {
        "id": "PdEjrrRHOjcP",
        "outputId": "d31d9c0e-0800-4e89-b74f-8fa16e420c68",
        "colab": {
          "base_uri": "https://localhost:8080/",
          "height": 121
        }
      },
      "outputs": [
        {
          "output_type": "execute_result",
          "data": {
            "text/plain": [
              "Envelope(-173.120769, -84.965961, 30.244859, 71.355134)"
            ],
            "image/svg+xml": "<svg xmlns=\"http://www.w3.org/2000/svg\" xmlns:xlink=\"http://www.w3.org/1999/xlink\" width=\"100.0\" height=\"100.0\" viewBox=\"-176.64696132 26.718666680000002 95.20719264000002 48.162659640000015\" preserveAspectRatio=\"xMinYMin meet\"><g transform=\"matrix(1,0,0,-1,0,101.59999300000001)\"><path fill-rule=\"evenodd\" fill=\"#66cc99\" stroke=\"#555555\" stroke-width=\"1.9041438528000003\" opacity=\"0.6\" d=\"M -173.120769,30.244859 L -173.120769,71.355134 L -84.965961,71.355134 L -84.965961,30.244859 L -173.120769,30.244859 z\" /></g></svg>"
          },
          "metadata": {},
          "execution_count": 22
        }
      ],
      "source": [
        "# getting boundary for PointRDD or any other SpatialRDD, it returns Enelope object which inherits from\n",
        "# shapely.geometry.Polygon\n",
        "point_rdd.boundary()"
      ]
    },
    {
      "cell_type": "code",
      "execution_count": 23,
      "metadata": {
        "id": "MDV2-f2tOjcP",
        "outputId": "7d8a72f4-8a2a-451e-f206-b0a6f691f0f8",
        "colab": {
          "base_uri": "https://localhost:8080/"
        }
      },
      "outputs": [
        {
          "output_type": "execute_result",
          "data": {
            "text/plain": [
              "True"
            ]
          },
          "metadata": {},
          "execution_count": 23
        }
      ],
      "source": [
        "# To run analyze please use function analyze\n",
        "point_rdd.analyze()"
      ]
    },
    {
      "cell_type": "code",
      "execution_count": 24,
      "metadata": {
        "id": "puMA8o6POjcP",
        "outputId": "b02c9d14-bf92-4ca2-8e0b-424abfa361e9",
        "colab": {
          "base_uri": "https://localhost:8080/",
          "height": 121
        }
      },
      "outputs": [
        {
          "output_type": "execute_result",
          "data": {
            "text/plain": [
              "Envelope(-173.120769, -84.965961, 30.244859, 71.355134)"
            ],
            "image/svg+xml": "<svg xmlns=\"http://www.w3.org/2000/svg\" xmlns:xlink=\"http://www.w3.org/1999/xlink\" width=\"100.0\" height=\"100.0\" viewBox=\"-176.64696132 26.718666680000002 95.20719264000002 48.162659640000015\" preserveAspectRatio=\"xMinYMin meet\"><g transform=\"matrix(1,0,0,-1,0,101.59999300000001)\"><path fill-rule=\"evenodd\" fill=\"#66cc99\" stroke=\"#555555\" stroke-width=\"1.9041438528000003\" opacity=\"0.6\" d=\"M -173.120769,30.244859 L -173.120769,71.355134 L -84.965961,71.355134 L -84.965961,30.244859 L -173.120769,30.244859 z\" /></g></svg>"
          },
          "metadata": {},
          "execution_count": 24
        }
      ],
      "source": [
        "# Finding boundary envelope for PointRDD or any other SpatialRDD, it returns Enelope object which inherits from\n",
        "# shapely.geometry.Polygon\n",
        "point_rdd.boundaryEnvelope"
      ]
    },
    {
      "cell_type": "code",
      "execution_count": 25,
      "metadata": {
        "id": "hgOCi8lJOjcQ",
        "outputId": "7f49627d-f4f6-43f1-bd15-5f95f1ca7d4e",
        "colab": {
          "base_uri": "https://localhost:8080/"
        }
      },
      "outputs": [
        {
          "output_type": "execute_result",
          "data": {
            "text/plain": [
              "2996"
            ]
          },
          "metadata": {},
          "execution_count": 25
        }
      ],
      "source": [
        "# Calculate number of records without duplicates\n",
        "point_rdd.countWithoutDuplicates()"
      ]
    },
    {
      "cell_type": "code",
      "execution_count": 26,
      "metadata": {
        "id": "-l1BvhakOjcQ",
        "outputId": "ae8cdd39-9227-44e8-e93f-4dde85a0f9fa",
        "colab": {
          "base_uri": "https://localhost:8080/",
          "height": 35
        }
      },
      "outputs": [
        {
          "output_type": "execute_result",
          "data": {
            "text/plain": [
              "''"
            ],
            "application/vnd.google.colaboratory.intrinsic+json": {
              "type": "string"
            }
          },
          "metadata": {},
          "execution_count": 26
        }
      ],
      "source": [
        "# Getting source epsg code\n",
        "point_rdd.getSourceEpsgCode()"
      ]
    },
    {
      "cell_type": "code",
      "execution_count": 27,
      "metadata": {
        "id": "tiFEDeNdOjcQ",
        "outputId": "af1cac44-8a9c-4619-ee42-3a66ddc671e7",
        "colab": {
          "base_uri": "https://localhost:8080/",
          "height": 35
        }
      },
      "outputs": [
        {
          "output_type": "execute_result",
          "data": {
            "text/plain": [
              "''"
            ],
            "application/vnd.google.colaboratory.intrinsic+json": {
              "type": "string"
            }
          },
          "metadata": {},
          "execution_count": 27
        }
      ],
      "source": [
        "# Getting target epsg code\n",
        "point_rdd.getTargetEpsgCode()"
      ]
    },
    {
      "cell_type": "code",
      "execution_count": 28,
      "metadata": {
        "id": "oip1bNogOjcQ",
        "outputId": "9e3ec338-5c8c-41fc-da4a-a34b185011df",
        "colab": {
          "base_uri": "https://localhost:8080/"
        }
      },
      "outputs": [
        {
          "output_type": "execute_result",
          "data": {
            "text/plain": [
              "True"
            ]
          },
          "metadata": {},
          "execution_count": 28
        }
      ],
      "source": [
        "# Spatial partitioning data\n",
        "point_rdd.spatialPartitioning(GridType.KDBTREE)"
      ]
    },
    {
      "cell_type": "markdown",
      "metadata": {
        "id": "setaW5adOjcQ"
      },
      "source": [
        "## Operations on RawSpatialRDD"
      ]
    },
    {
      "cell_type": "markdown",
      "metadata": {
        "id": "XeAQe3qqOjcQ"
      },
      "source": [
        "rawSpatialRDD method returns RDD which consists of GeoData objects which has 2 attributes\n",
        "<li> geom: shapely.geometry.BaseGeometry </li>\n",
        "<li> userData: str </li>\n",
        "\n",
        "You can use any operations on those objects and spread across machines"
      ]
    },
    {
      "cell_type": "code",
      "execution_count": 29,
      "metadata": {
        "id": "pNlkO6kYOjcR",
        "outputId": "7369c257-bc95-4046-ad46-f322f0062508",
        "colab": {
          "base_uri": "https://localhost:8080/"
        }
      },
      "outputs": [
        {
          "output_type": "execute_result",
          "data": {
            "text/plain": [
              "[Geometry: Point userData: testattribute0\ttestattribute1\ttestattribute2]"
            ]
          },
          "metadata": {},
          "execution_count": 29
        }
      ],
      "source": [
        "# take firs element\n",
        "point_rdd.rawSpatialRDD.take(1)"
      ]
    },
    {
      "cell_type": "code",
      "execution_count": 30,
      "metadata": {
        "id": "22UNTZiIOjcR",
        "outputId": "75553689-b565-4dbe-e172-fedcc55c9967",
        "colab": {
          "base_uri": "https://localhost:8080/"
        }
      },
      "outputs": [
        {
          "output_type": "execute_result",
          "data": {
            "text/plain": [
              "[Geometry: Point userData: testattribute0\ttestattribute1\ttestattribute2,\n",
              " Geometry: Point userData: testattribute0\ttestattribute1\ttestattribute2,\n",
              " Geometry: Point userData: testattribute0\ttestattribute1\ttestattribute2,\n",
              " Geometry: Point userData: testattribute0\ttestattribute1\ttestattribute2,\n",
              " Geometry: Point userData: testattribute0\ttestattribute1\ttestattribute2]"
            ]
          },
          "metadata": {},
          "execution_count": 30
        }
      ],
      "source": [
        "# collect to Python list\n",
        "point_rdd.rawSpatialRDD.collect()[:5]"
      ]
    },
    {
      "cell_type": "code",
      "execution_count": 31,
      "metadata": {
        "id": "_vz8jzj6OjcR",
        "outputId": "b051f441-01aa-44c4-c372-e732ebb1fb6f",
        "colab": {
          "base_uri": "https://localhost:8080/"
        }
      },
      "outputs": [
        {
          "output_type": "execute_result",
          "data": {
            "text/plain": [
              "[111.08786851399313,\n",
              " 110.92828303170774,\n",
              " 111.1385974283527,\n",
              " 110.97450594034112,\n",
              " 110.97122518072091]"
            ]
          },
          "metadata": {},
          "execution_count": 31
        }
      ],
      "source": [
        "# apply map functions, for example distance to Point(52 21)\n",
        "point_rdd.rawSpatialRDD.map(lambda x: x.geom.distance(Point(21, 52))).take(5)"
      ]
    },
    {
      "cell_type": "markdown",
      "metadata": {
        "id": "VJUwfnWbOjcR"
      },
      "source": [
        "## Transforming to GeoPandas"
      ]
    },
    {
      "cell_type": "markdown",
      "metadata": {
        "id": "HJT4cqunOjcR"
      },
      "source": [
        "## Loaded data can be transformed to GeoPandas DataFrame in a few ways"
      ]
    },
    {
      "cell_type": "markdown",
      "metadata": {
        "id": "ENst5TKKOjcR"
      },
      "source": [
        "### Directly from RDD"
      ]
    },
    {
      "cell_type": "code",
      "execution_count": 32,
      "metadata": {
        "id": "khvSdVtROjcR"
      },
      "outputs": [],
      "source": [
        "point_rdd_to_geo = point_rdd.rawSpatialRDD.map(lambda x: [x.geom, *x.getUserData().split(\"\\t\")])"
      ]
    },
    {
      "cell_type": "code",
      "execution_count": 33,
      "metadata": {
        "id": "h_aQLibwOjcR"
      },
      "outputs": [],
      "source": [
        "point_gdf = gpd.GeoDataFrame(\n",
        "    point_rdd_to_geo.collect(), columns=[\"geom\", \"attr1\", \"attr2\", \"attr3\"], geometry=\"geom\"\n",
        ")"
      ]
    },
    {
      "cell_type": "code",
      "execution_count": 34,
      "metadata": {
        "id": "Ht7qYNuwOjcS",
        "outputId": "f9fff658-25cd-416c-9c5d-0504abdef23b",
        "colab": {
          "base_uri": "https://localhost:8080/",
          "height": 0
        }
      },
      "outputs": [
        {
          "output_type": "execute_result",
          "data": {
            "text/plain": [
              "                         geom           attr1           attr2           attr3\n",
              "0  POINT (-88.33149 32.32414)  testattribute0  testattribute1  testattribute2\n",
              "1  POINT (-88.17593 32.36076)  testattribute0  testattribute1  testattribute2\n",
              "2  POINT (-88.38895 32.35707)  testattribute0  testattribute1  testattribute2\n",
              "3  POINT (-88.22110 32.35078)  testattribute0  testattribute1  testattribute2\n",
              "4  POINT (-88.32399 32.95067)  testattribute0  testattribute1  testattribute2"
            ],
            "text/html": [
              "\n",
              "  <div id=\"df-dd35b5dd-78e1-43ce-922e-a369a5683af6\" class=\"colab-df-container\">\n",
              "    <div>\n",
              "<style scoped>\n",
              "    .dataframe tbody tr th:only-of-type {\n",
              "        vertical-align: middle;\n",
              "    }\n",
              "\n",
              "    .dataframe tbody tr th {\n",
              "        vertical-align: top;\n",
              "    }\n",
              "\n",
              "    .dataframe thead th {\n",
              "        text-align: right;\n",
              "    }\n",
              "</style>\n",
              "<table border=\"1\" class=\"dataframe\">\n",
              "  <thead>\n",
              "    <tr style=\"text-align: right;\">\n",
              "      <th></th>\n",
              "      <th>geom</th>\n",
              "      <th>attr1</th>\n",
              "      <th>attr2</th>\n",
              "      <th>attr3</th>\n",
              "    </tr>\n",
              "  </thead>\n",
              "  <tbody>\n",
              "    <tr>\n",
              "      <th>0</th>\n",
              "      <td>POINT (-88.33149 32.32414)</td>\n",
              "      <td>testattribute0</td>\n",
              "      <td>testattribute1</td>\n",
              "      <td>testattribute2</td>\n",
              "    </tr>\n",
              "    <tr>\n",
              "      <th>1</th>\n",
              "      <td>POINT (-88.17593 32.36076)</td>\n",
              "      <td>testattribute0</td>\n",
              "      <td>testattribute1</td>\n",
              "      <td>testattribute2</td>\n",
              "    </tr>\n",
              "    <tr>\n",
              "      <th>2</th>\n",
              "      <td>POINT (-88.38895 32.35707)</td>\n",
              "      <td>testattribute0</td>\n",
              "      <td>testattribute1</td>\n",
              "      <td>testattribute2</td>\n",
              "    </tr>\n",
              "    <tr>\n",
              "      <th>3</th>\n",
              "      <td>POINT (-88.22110 32.35078)</td>\n",
              "      <td>testattribute0</td>\n",
              "      <td>testattribute1</td>\n",
              "      <td>testattribute2</td>\n",
              "    </tr>\n",
              "    <tr>\n",
              "      <th>4</th>\n",
              "      <td>POINT (-88.32399 32.95067)</td>\n",
              "      <td>testattribute0</td>\n",
              "      <td>testattribute1</td>\n",
              "      <td>testattribute2</td>\n",
              "    </tr>\n",
              "  </tbody>\n",
              "</table>\n",
              "</div>\n",
              "    <div class=\"colab-df-buttons\">\n",
              "\n",
              "  <div class=\"colab-df-container\">\n",
              "    <button class=\"colab-df-convert\" onclick=\"convertToInteractive('df-dd35b5dd-78e1-43ce-922e-a369a5683af6')\"\n",
              "            title=\"Convert this dataframe to an interactive table.\"\n",
              "            style=\"display:none;\">\n",
              "\n",
              "  <svg xmlns=\"http://www.w3.org/2000/svg\" height=\"24px\" viewBox=\"0 -960 960 960\">\n",
              "    <path d=\"M120-120v-720h720v720H120Zm60-500h600v-160H180v160Zm220 220h160v-160H400v160Zm0 220h160v-160H400v160ZM180-400h160v-160H180v160Zm440 0h160v-160H620v160ZM180-180h160v-160H180v160Zm440 0h160v-160H620v160Z\"/>\n",
              "  </svg>\n",
              "    </button>\n",
              "\n",
              "  <style>\n",
              "    .colab-df-container {\n",
              "      display:flex;\n",
              "      gap: 12px;\n",
              "    }\n",
              "\n",
              "    .colab-df-convert {\n",
              "      background-color: #E8F0FE;\n",
              "      border: none;\n",
              "      border-radius: 50%;\n",
              "      cursor: pointer;\n",
              "      display: none;\n",
              "      fill: #1967D2;\n",
              "      height: 32px;\n",
              "      padding: 0 0 0 0;\n",
              "      width: 32px;\n",
              "    }\n",
              "\n",
              "    .colab-df-convert:hover {\n",
              "      background-color: #E2EBFA;\n",
              "      box-shadow: 0px 1px 2px rgba(60, 64, 67, 0.3), 0px 1px 3px 1px rgba(60, 64, 67, 0.15);\n",
              "      fill: #174EA6;\n",
              "    }\n",
              "\n",
              "    .colab-df-buttons div {\n",
              "      margin-bottom: 4px;\n",
              "    }\n",
              "\n",
              "    [theme=dark] .colab-df-convert {\n",
              "      background-color: #3B4455;\n",
              "      fill: #D2E3FC;\n",
              "    }\n",
              "\n",
              "    [theme=dark] .colab-df-convert:hover {\n",
              "      background-color: #434B5C;\n",
              "      box-shadow: 0px 1px 3px 1px rgba(0, 0, 0, 0.15);\n",
              "      filter: drop-shadow(0px 1px 2px rgba(0, 0, 0, 0.3));\n",
              "      fill: #FFFFFF;\n",
              "    }\n",
              "  </style>\n",
              "\n",
              "    <script>\n",
              "      const buttonEl =\n",
              "        document.querySelector('#df-dd35b5dd-78e1-43ce-922e-a369a5683af6 button.colab-df-convert');\n",
              "      buttonEl.style.display =\n",
              "        google.colab.kernel.accessAllowed ? 'block' : 'none';\n",
              "\n",
              "      async function convertToInteractive(key) {\n",
              "        const element = document.querySelector('#df-dd35b5dd-78e1-43ce-922e-a369a5683af6');\n",
              "        const dataTable =\n",
              "          await google.colab.kernel.invokeFunction('convertToInteractive',\n",
              "                                                    [key], {});\n",
              "        if (!dataTable) return;\n",
              "\n",
              "        const docLinkHtml = 'Like what you see? Visit the ' +\n",
              "          '<a target=\"_blank\" href=https://colab.research.google.com/notebooks/data_table.ipynb>data table notebook</a>'\n",
              "          + ' to learn more about interactive tables.';\n",
              "        element.innerHTML = '';\n",
              "        dataTable['output_type'] = 'display_data';\n",
              "        await google.colab.output.renderOutput(dataTable, element);\n",
              "        const docLink = document.createElement('div');\n",
              "        docLink.innerHTML = docLinkHtml;\n",
              "        element.appendChild(docLink);\n",
              "      }\n",
              "    </script>\n",
              "  </div>\n",
              "\n",
              "\n",
              "<div id=\"df-f244e44e-36ce-472a-9ff1-418bc0876ef8\">\n",
              "  <button class=\"colab-df-quickchart\" onclick=\"quickchart('df-f244e44e-36ce-472a-9ff1-418bc0876ef8')\"\n",
              "            title=\"Suggest charts\"\n",
              "            style=\"display:none;\">\n",
              "\n",
              "<svg xmlns=\"http://www.w3.org/2000/svg\" height=\"24px\"viewBox=\"0 0 24 24\"\n",
              "     width=\"24px\">\n",
              "    <g>\n",
              "        <path d=\"M19 3H5c-1.1 0-2 .9-2 2v14c0 1.1.9 2 2 2h14c1.1 0 2-.9 2-2V5c0-1.1-.9-2-2-2zM9 17H7v-7h2v7zm4 0h-2V7h2v10zm4 0h-2v-4h2v4z\"/>\n",
              "    </g>\n",
              "</svg>\n",
              "  </button>\n",
              "\n",
              "<style>\n",
              "  .colab-df-quickchart {\n",
              "      --bg-color: #E8F0FE;\n",
              "      --fill-color: #1967D2;\n",
              "      --hover-bg-color: #E2EBFA;\n",
              "      --hover-fill-color: #174EA6;\n",
              "      --disabled-fill-color: #AAA;\n",
              "      --disabled-bg-color: #DDD;\n",
              "  }\n",
              "\n",
              "  [theme=dark] .colab-df-quickchart {\n",
              "      --bg-color: #3B4455;\n",
              "      --fill-color: #D2E3FC;\n",
              "      --hover-bg-color: #434B5C;\n",
              "      --hover-fill-color: #FFFFFF;\n",
              "      --disabled-bg-color: #3B4455;\n",
              "      --disabled-fill-color: #666;\n",
              "  }\n",
              "\n",
              "  .colab-df-quickchart {\n",
              "    background-color: var(--bg-color);\n",
              "    border: none;\n",
              "    border-radius: 50%;\n",
              "    cursor: pointer;\n",
              "    display: none;\n",
              "    fill: var(--fill-color);\n",
              "    height: 32px;\n",
              "    padding: 0;\n",
              "    width: 32px;\n",
              "  }\n",
              "\n",
              "  .colab-df-quickchart:hover {\n",
              "    background-color: var(--hover-bg-color);\n",
              "    box-shadow: 0 1px 2px rgba(60, 64, 67, 0.3), 0 1px 3px 1px rgba(60, 64, 67, 0.15);\n",
              "    fill: var(--button-hover-fill-color);\n",
              "  }\n",
              "\n",
              "  .colab-df-quickchart-complete:disabled,\n",
              "  .colab-df-quickchart-complete:disabled:hover {\n",
              "    background-color: var(--disabled-bg-color);\n",
              "    fill: var(--disabled-fill-color);\n",
              "    box-shadow: none;\n",
              "  }\n",
              "\n",
              "  .colab-df-spinner {\n",
              "    border: 2px solid var(--fill-color);\n",
              "    border-color: transparent;\n",
              "    border-bottom-color: var(--fill-color);\n",
              "    animation:\n",
              "      spin 1s steps(1) infinite;\n",
              "  }\n",
              "\n",
              "  @keyframes spin {\n",
              "    0% {\n",
              "      border-color: transparent;\n",
              "      border-bottom-color: var(--fill-color);\n",
              "      border-left-color: var(--fill-color);\n",
              "    }\n",
              "    20% {\n",
              "      border-color: transparent;\n",
              "      border-left-color: var(--fill-color);\n",
              "      border-top-color: var(--fill-color);\n",
              "    }\n",
              "    30% {\n",
              "      border-color: transparent;\n",
              "      border-left-color: var(--fill-color);\n",
              "      border-top-color: var(--fill-color);\n",
              "      border-right-color: var(--fill-color);\n",
              "    }\n",
              "    40% {\n",
              "      border-color: transparent;\n",
              "      border-right-color: var(--fill-color);\n",
              "      border-top-color: var(--fill-color);\n",
              "    }\n",
              "    60% {\n",
              "      border-color: transparent;\n",
              "      border-right-color: var(--fill-color);\n",
              "    }\n",
              "    80% {\n",
              "      border-color: transparent;\n",
              "      border-right-color: var(--fill-color);\n",
              "      border-bottom-color: var(--fill-color);\n",
              "    }\n",
              "    90% {\n",
              "      border-color: transparent;\n",
              "      border-bottom-color: var(--fill-color);\n",
              "    }\n",
              "  }\n",
              "</style>\n",
              "\n",
              "  <script>\n",
              "    async function quickchart(key) {\n",
              "      const quickchartButtonEl =\n",
              "        document.querySelector('#' + key + ' button');\n",
              "      quickchartButtonEl.disabled = true;  // To prevent multiple clicks.\n",
              "      quickchartButtonEl.classList.add('colab-df-spinner');\n",
              "      try {\n",
              "        const charts = await google.colab.kernel.invokeFunction(\n",
              "            'suggestCharts', [key], {});\n",
              "      } catch (error) {\n",
              "        console.error('Error during call to suggestCharts:', error);\n",
              "      }\n",
              "      quickchartButtonEl.classList.remove('colab-df-spinner');\n",
              "      quickchartButtonEl.classList.add('colab-df-quickchart-complete');\n",
              "    }\n",
              "    (() => {\n",
              "      let quickchartButtonEl =\n",
              "        document.querySelector('#df-f244e44e-36ce-472a-9ff1-418bc0876ef8 button');\n",
              "      quickchartButtonEl.style.display =\n",
              "        google.colab.kernel.accessAllowed ? 'block' : 'none';\n",
              "    })();\n",
              "  </script>\n",
              "</div>\n",
              "    </div>\n",
              "  </div>\n"
            ]
          },
          "metadata": {},
          "execution_count": 34
        }
      ],
      "source": [
        "point_gdf[:5]"
      ]
    },
    {
      "cell_type": "markdown",
      "metadata": {
        "id": "2vW97p_iOjcS"
      },
      "source": [
        "### Using Adapter"
      ]
    },
    {
      "cell_type": "code",
      "execution_count": 35,
      "metadata": {
        "tags": [],
        "id": "HN0IIhZ8OjcS"
      },
      "outputs": [],
      "source": [
        "# Adapter allows you to convert geospatial data types introduced with sedona to other ones"
      ]
    },
    {
      "cell_type": "code",
      "execution_count": 36,
      "metadata": {
        "id": "69dR65hgOjcS"
      },
      "outputs": [],
      "source": [
        "spatial_df = Adapter.\\\n",
        "    toDf(point_rdd, [\"attr1\", \"attr2\", \"attr3\"], sedona).\\\n",
        "    createOrReplaceTempView(\"spatial_df\")\n",
        "\n",
        "spatial_gdf = sedona.sql(\"Select attr1, attr2, attr3, geometry as geom from spatial_df\")"
      ]
    },
    {
      "cell_type": "code",
      "execution_count": 37,
      "metadata": {
        "id": "TnGQMPUIOjcS",
        "outputId": "d4c76fcf-9309-41a8-c160-8064ac6a39c0",
        "colab": {
          "base_uri": "https://localhost:8080/"
        }
      },
      "outputs": [
        {
          "output_type": "stream",
          "name": "stdout",
          "text": [
            "+--------------+--------------+--------------+----------------------------+\n",
            "|attr1         |attr2         |attr3         |geom                        |\n",
            "+--------------+--------------+--------------+----------------------------+\n",
            "|testattribute0|testattribute1|testattribute2|POINT (-88.331492 32.324142)|\n",
            "|testattribute0|testattribute1|testattribute2|POINT (-88.175933 32.360763)|\n",
            "|testattribute0|testattribute1|testattribute2|POINT (-88.388954 32.357073)|\n",
            "|testattribute0|testattribute1|testattribute2|POINT (-88.221102 32.35078) |\n",
            "|testattribute0|testattribute1|testattribute2|POINT (-88.323995 32.950671)|\n",
            "+--------------+--------------+--------------+----------------------------+\n",
            "only showing top 5 rows\n",
            "\n"
          ]
        }
      ],
      "source": [
        "spatial_gdf.show(5, False)"
      ]
    },
    {
      "cell_type": "code",
      "execution_count": 38,
      "metadata": {
        "id": "IdL0awafOjcS",
        "outputId": "c94cd826-eeff-4cd8-8b8f-e6d424212c26",
        "colab": {
          "base_uri": "https://localhost:8080/",
          "height": 0
        }
      },
      "outputs": [
        {
          "output_type": "execute_result",
          "data": {
            "text/plain": [
              "            attr1           attr2           attr3                        geom\n",
              "0  testattribute0  testattribute1  testattribute2  POINT (-88.33149 32.32414)\n",
              "1  testattribute0  testattribute1  testattribute2  POINT (-88.17593 32.36076)\n",
              "2  testattribute0  testattribute1  testattribute2  POINT (-88.38895 32.35707)\n",
              "3  testattribute0  testattribute1  testattribute2  POINT (-88.22110 32.35078)\n",
              "4  testattribute0  testattribute1  testattribute2  POINT (-88.32399 32.95067)"
            ],
            "text/html": [
              "\n",
              "  <div id=\"df-35579398-0b03-463e-9fff-a8b652ccc91c\" class=\"colab-df-container\">\n",
              "    <div>\n",
              "<style scoped>\n",
              "    .dataframe tbody tr th:only-of-type {\n",
              "        vertical-align: middle;\n",
              "    }\n",
              "\n",
              "    .dataframe tbody tr th {\n",
              "        vertical-align: top;\n",
              "    }\n",
              "\n",
              "    .dataframe thead th {\n",
              "        text-align: right;\n",
              "    }\n",
              "</style>\n",
              "<table border=\"1\" class=\"dataframe\">\n",
              "  <thead>\n",
              "    <tr style=\"text-align: right;\">\n",
              "      <th></th>\n",
              "      <th>attr1</th>\n",
              "      <th>attr2</th>\n",
              "      <th>attr3</th>\n",
              "      <th>geom</th>\n",
              "    </tr>\n",
              "  </thead>\n",
              "  <tbody>\n",
              "    <tr>\n",
              "      <th>0</th>\n",
              "      <td>testattribute0</td>\n",
              "      <td>testattribute1</td>\n",
              "      <td>testattribute2</td>\n",
              "      <td>POINT (-88.33149 32.32414)</td>\n",
              "    </tr>\n",
              "    <tr>\n",
              "      <th>1</th>\n",
              "      <td>testattribute0</td>\n",
              "      <td>testattribute1</td>\n",
              "      <td>testattribute2</td>\n",
              "      <td>POINT (-88.17593 32.36076)</td>\n",
              "    </tr>\n",
              "    <tr>\n",
              "      <th>2</th>\n",
              "      <td>testattribute0</td>\n",
              "      <td>testattribute1</td>\n",
              "      <td>testattribute2</td>\n",
              "      <td>POINT (-88.38895 32.35707)</td>\n",
              "    </tr>\n",
              "    <tr>\n",
              "      <th>3</th>\n",
              "      <td>testattribute0</td>\n",
              "      <td>testattribute1</td>\n",
              "      <td>testattribute2</td>\n",
              "      <td>POINT (-88.22110 32.35078)</td>\n",
              "    </tr>\n",
              "    <tr>\n",
              "      <th>4</th>\n",
              "      <td>testattribute0</td>\n",
              "      <td>testattribute1</td>\n",
              "      <td>testattribute2</td>\n",
              "      <td>POINT (-88.32399 32.95067)</td>\n",
              "    </tr>\n",
              "  </tbody>\n",
              "</table>\n",
              "</div>\n",
              "    <div class=\"colab-df-buttons\">\n",
              "\n",
              "  <div class=\"colab-df-container\">\n",
              "    <button class=\"colab-df-convert\" onclick=\"convertToInteractive('df-35579398-0b03-463e-9fff-a8b652ccc91c')\"\n",
              "            title=\"Convert this dataframe to an interactive table.\"\n",
              "            style=\"display:none;\">\n",
              "\n",
              "  <svg xmlns=\"http://www.w3.org/2000/svg\" height=\"24px\" viewBox=\"0 -960 960 960\">\n",
              "    <path d=\"M120-120v-720h720v720H120Zm60-500h600v-160H180v160Zm220 220h160v-160H400v160Zm0 220h160v-160H400v160ZM180-400h160v-160H180v160Zm440 0h160v-160H620v160ZM180-180h160v-160H180v160Zm440 0h160v-160H620v160Z\"/>\n",
              "  </svg>\n",
              "    </button>\n",
              "\n",
              "  <style>\n",
              "    .colab-df-container {\n",
              "      display:flex;\n",
              "      gap: 12px;\n",
              "    }\n",
              "\n",
              "    .colab-df-convert {\n",
              "      background-color: #E8F0FE;\n",
              "      border: none;\n",
              "      border-radius: 50%;\n",
              "      cursor: pointer;\n",
              "      display: none;\n",
              "      fill: #1967D2;\n",
              "      height: 32px;\n",
              "      padding: 0 0 0 0;\n",
              "      width: 32px;\n",
              "    }\n",
              "\n",
              "    .colab-df-convert:hover {\n",
              "      background-color: #E2EBFA;\n",
              "      box-shadow: 0px 1px 2px rgba(60, 64, 67, 0.3), 0px 1px 3px 1px rgba(60, 64, 67, 0.15);\n",
              "      fill: #174EA6;\n",
              "    }\n",
              "\n",
              "    .colab-df-buttons div {\n",
              "      margin-bottom: 4px;\n",
              "    }\n",
              "\n",
              "    [theme=dark] .colab-df-convert {\n",
              "      background-color: #3B4455;\n",
              "      fill: #D2E3FC;\n",
              "    }\n",
              "\n",
              "    [theme=dark] .colab-df-convert:hover {\n",
              "      background-color: #434B5C;\n",
              "      box-shadow: 0px 1px 3px 1px rgba(0, 0, 0, 0.15);\n",
              "      filter: drop-shadow(0px 1px 2px rgba(0, 0, 0, 0.3));\n",
              "      fill: #FFFFFF;\n",
              "    }\n",
              "  </style>\n",
              "\n",
              "    <script>\n",
              "      const buttonEl =\n",
              "        document.querySelector('#df-35579398-0b03-463e-9fff-a8b652ccc91c button.colab-df-convert');\n",
              "      buttonEl.style.display =\n",
              "        google.colab.kernel.accessAllowed ? 'block' : 'none';\n",
              "\n",
              "      async function convertToInteractive(key) {\n",
              "        const element = document.querySelector('#df-35579398-0b03-463e-9fff-a8b652ccc91c');\n",
              "        const dataTable =\n",
              "          await google.colab.kernel.invokeFunction('convertToInteractive',\n",
              "                                                    [key], {});\n",
              "        if (!dataTable) return;\n",
              "\n",
              "        const docLinkHtml = 'Like what you see? Visit the ' +\n",
              "          '<a target=\"_blank\" href=https://colab.research.google.com/notebooks/data_table.ipynb>data table notebook</a>'\n",
              "          + ' to learn more about interactive tables.';\n",
              "        element.innerHTML = '';\n",
              "        dataTable['output_type'] = 'display_data';\n",
              "        await google.colab.output.renderOutput(dataTable, element);\n",
              "        const docLink = document.createElement('div');\n",
              "        docLink.innerHTML = docLinkHtml;\n",
              "        element.appendChild(docLink);\n",
              "      }\n",
              "    </script>\n",
              "  </div>\n",
              "\n",
              "\n",
              "<div id=\"df-4f52c4f5-b0ee-4429-9308-a5df97165d7e\">\n",
              "  <button class=\"colab-df-quickchart\" onclick=\"quickchart('df-4f52c4f5-b0ee-4429-9308-a5df97165d7e')\"\n",
              "            title=\"Suggest charts\"\n",
              "            style=\"display:none;\">\n",
              "\n",
              "<svg xmlns=\"http://www.w3.org/2000/svg\" height=\"24px\"viewBox=\"0 0 24 24\"\n",
              "     width=\"24px\">\n",
              "    <g>\n",
              "        <path d=\"M19 3H5c-1.1 0-2 .9-2 2v14c0 1.1.9 2 2 2h14c1.1 0 2-.9 2-2V5c0-1.1-.9-2-2-2zM9 17H7v-7h2v7zm4 0h-2V7h2v10zm4 0h-2v-4h2v4z\"/>\n",
              "    </g>\n",
              "</svg>\n",
              "  </button>\n",
              "\n",
              "<style>\n",
              "  .colab-df-quickchart {\n",
              "      --bg-color: #E8F0FE;\n",
              "      --fill-color: #1967D2;\n",
              "      --hover-bg-color: #E2EBFA;\n",
              "      --hover-fill-color: #174EA6;\n",
              "      --disabled-fill-color: #AAA;\n",
              "      --disabled-bg-color: #DDD;\n",
              "  }\n",
              "\n",
              "  [theme=dark] .colab-df-quickchart {\n",
              "      --bg-color: #3B4455;\n",
              "      --fill-color: #D2E3FC;\n",
              "      --hover-bg-color: #434B5C;\n",
              "      --hover-fill-color: #FFFFFF;\n",
              "      --disabled-bg-color: #3B4455;\n",
              "      --disabled-fill-color: #666;\n",
              "  }\n",
              "\n",
              "  .colab-df-quickchart {\n",
              "    background-color: var(--bg-color);\n",
              "    border: none;\n",
              "    border-radius: 50%;\n",
              "    cursor: pointer;\n",
              "    display: none;\n",
              "    fill: var(--fill-color);\n",
              "    height: 32px;\n",
              "    padding: 0;\n",
              "    width: 32px;\n",
              "  }\n",
              "\n",
              "  .colab-df-quickchart:hover {\n",
              "    background-color: var(--hover-bg-color);\n",
              "    box-shadow: 0 1px 2px rgba(60, 64, 67, 0.3), 0 1px 3px 1px rgba(60, 64, 67, 0.15);\n",
              "    fill: var(--button-hover-fill-color);\n",
              "  }\n",
              "\n",
              "  .colab-df-quickchart-complete:disabled,\n",
              "  .colab-df-quickchart-complete:disabled:hover {\n",
              "    background-color: var(--disabled-bg-color);\n",
              "    fill: var(--disabled-fill-color);\n",
              "    box-shadow: none;\n",
              "  }\n",
              "\n",
              "  .colab-df-spinner {\n",
              "    border: 2px solid var(--fill-color);\n",
              "    border-color: transparent;\n",
              "    border-bottom-color: var(--fill-color);\n",
              "    animation:\n",
              "      spin 1s steps(1) infinite;\n",
              "  }\n",
              "\n",
              "  @keyframes spin {\n",
              "    0% {\n",
              "      border-color: transparent;\n",
              "      border-bottom-color: var(--fill-color);\n",
              "      border-left-color: var(--fill-color);\n",
              "    }\n",
              "    20% {\n",
              "      border-color: transparent;\n",
              "      border-left-color: var(--fill-color);\n",
              "      border-top-color: var(--fill-color);\n",
              "    }\n",
              "    30% {\n",
              "      border-color: transparent;\n",
              "      border-left-color: var(--fill-color);\n",
              "      border-top-color: var(--fill-color);\n",
              "      border-right-color: var(--fill-color);\n",
              "    }\n",
              "    40% {\n",
              "      border-color: transparent;\n",
              "      border-right-color: var(--fill-color);\n",
              "      border-top-color: var(--fill-color);\n",
              "    }\n",
              "    60% {\n",
              "      border-color: transparent;\n",
              "      border-right-color: var(--fill-color);\n",
              "    }\n",
              "    80% {\n",
              "      border-color: transparent;\n",
              "      border-right-color: var(--fill-color);\n",
              "      border-bottom-color: var(--fill-color);\n",
              "    }\n",
              "    90% {\n",
              "      border-color: transparent;\n",
              "      border-bottom-color: var(--fill-color);\n",
              "    }\n",
              "  }\n",
              "</style>\n",
              "\n",
              "  <script>\n",
              "    async function quickchart(key) {\n",
              "      const quickchartButtonEl =\n",
              "        document.querySelector('#' + key + ' button');\n",
              "      quickchartButtonEl.disabled = true;  // To prevent multiple clicks.\n",
              "      quickchartButtonEl.classList.add('colab-df-spinner');\n",
              "      try {\n",
              "        const charts = await google.colab.kernel.invokeFunction(\n",
              "            'suggestCharts', [key], {});\n",
              "      } catch (error) {\n",
              "        console.error('Error during call to suggestCharts:', error);\n",
              "      }\n",
              "      quickchartButtonEl.classList.remove('colab-df-spinner');\n",
              "      quickchartButtonEl.classList.add('colab-df-quickchart-complete');\n",
              "    }\n",
              "    (() => {\n",
              "      let quickchartButtonEl =\n",
              "        document.querySelector('#df-4f52c4f5-b0ee-4429-9308-a5df97165d7e button');\n",
              "      quickchartButtonEl.style.display =\n",
              "        google.colab.kernel.accessAllowed ? 'block' : 'none';\n",
              "    })();\n",
              "  </script>\n",
              "</div>\n",
              "    </div>\n",
              "  </div>\n"
            ]
          },
          "metadata": {},
          "execution_count": 38
        }
      ],
      "source": [
        "gpd.GeoDataFrame(spatial_gdf.toPandas(), geometry=\"geom\")[:5]"
      ]
    },
    {
      "cell_type": "markdown",
      "metadata": {
        "id": "ilmR8RjIOjcS"
      },
      "source": [
        "### With DataFrame creation"
      ]
    },
    {
      "cell_type": "code",
      "execution_count": 39,
      "metadata": {
        "id": "LqgFLBZEOjcT"
      },
      "outputs": [],
      "source": [
        "schema = StructType(\n",
        "    [\n",
        "        StructField(\"geometry\", GeometryType(), False),\n",
        "        StructField(\"attr1\", StringType(), False),\n",
        "        StructField(\"attr2\", StringType(), False),\n",
        "        StructField(\"attr3\", StringType(), False),\n",
        "    ]\n",
        ")"
      ]
    },
    {
      "cell_type": "code",
      "execution_count": 40,
      "metadata": {
        "id": "tEO42a4DOjcT"
      },
      "outputs": [],
      "source": [
        "geo_df = sedona.createDataFrame(point_rdd_to_geo, schema, verifySchema=False)"
      ]
    },
    {
      "cell_type": "code",
      "execution_count": 41,
      "metadata": {
        "id": "PaIAqir1OjcT",
        "outputId": "4761355a-734c-43ac-a8d7-157850ef7dac",
        "colab": {
          "base_uri": "https://localhost:8080/",
          "height": 0
        }
      },
      "outputs": [
        {
          "output_type": "execute_result",
          "data": {
            "text/plain": [
              "                     geometry           attr1           attr2           attr3\n",
              "0  POINT (-88.33149 32.32414)  testattribute0  testattribute1  testattribute2\n",
              "1  POINT (-88.17593 32.36076)  testattribute0  testattribute1  testattribute2\n",
              "2  POINT (-88.38895 32.35707)  testattribute0  testattribute1  testattribute2\n",
              "3  POINT (-88.22110 32.35078)  testattribute0  testattribute1  testattribute2\n",
              "4  POINT (-88.32399 32.95067)  testattribute0  testattribute1  testattribute2"
            ],
            "text/html": [
              "\n",
              "  <div id=\"df-017ad7bc-86fb-4a5f-892b-fb7602274868\" class=\"colab-df-container\">\n",
              "    <div>\n",
              "<style scoped>\n",
              "    .dataframe tbody tr th:only-of-type {\n",
              "        vertical-align: middle;\n",
              "    }\n",
              "\n",
              "    .dataframe tbody tr th {\n",
              "        vertical-align: top;\n",
              "    }\n",
              "\n",
              "    .dataframe thead th {\n",
              "        text-align: right;\n",
              "    }\n",
              "</style>\n",
              "<table border=\"1\" class=\"dataframe\">\n",
              "  <thead>\n",
              "    <tr style=\"text-align: right;\">\n",
              "      <th></th>\n",
              "      <th>geometry</th>\n",
              "      <th>attr1</th>\n",
              "      <th>attr2</th>\n",
              "      <th>attr3</th>\n",
              "    </tr>\n",
              "  </thead>\n",
              "  <tbody>\n",
              "    <tr>\n",
              "      <th>0</th>\n",
              "      <td>POINT (-88.33149 32.32414)</td>\n",
              "      <td>testattribute0</td>\n",
              "      <td>testattribute1</td>\n",
              "      <td>testattribute2</td>\n",
              "    </tr>\n",
              "    <tr>\n",
              "      <th>1</th>\n",
              "      <td>POINT (-88.17593 32.36076)</td>\n",
              "      <td>testattribute0</td>\n",
              "      <td>testattribute1</td>\n",
              "      <td>testattribute2</td>\n",
              "    </tr>\n",
              "    <tr>\n",
              "      <th>2</th>\n",
              "      <td>POINT (-88.38895 32.35707)</td>\n",
              "      <td>testattribute0</td>\n",
              "      <td>testattribute1</td>\n",
              "      <td>testattribute2</td>\n",
              "    </tr>\n",
              "    <tr>\n",
              "      <th>3</th>\n",
              "      <td>POINT (-88.22110 32.35078)</td>\n",
              "      <td>testattribute0</td>\n",
              "      <td>testattribute1</td>\n",
              "      <td>testattribute2</td>\n",
              "    </tr>\n",
              "    <tr>\n",
              "      <th>4</th>\n",
              "      <td>POINT (-88.32399 32.95067)</td>\n",
              "      <td>testattribute0</td>\n",
              "      <td>testattribute1</td>\n",
              "      <td>testattribute2</td>\n",
              "    </tr>\n",
              "  </tbody>\n",
              "</table>\n",
              "</div>\n",
              "    <div class=\"colab-df-buttons\">\n",
              "\n",
              "  <div class=\"colab-df-container\">\n",
              "    <button class=\"colab-df-convert\" onclick=\"convertToInteractive('df-017ad7bc-86fb-4a5f-892b-fb7602274868')\"\n",
              "            title=\"Convert this dataframe to an interactive table.\"\n",
              "            style=\"display:none;\">\n",
              "\n",
              "  <svg xmlns=\"http://www.w3.org/2000/svg\" height=\"24px\" viewBox=\"0 -960 960 960\">\n",
              "    <path d=\"M120-120v-720h720v720H120Zm60-500h600v-160H180v160Zm220 220h160v-160H400v160Zm0 220h160v-160H400v160ZM180-400h160v-160H180v160Zm440 0h160v-160H620v160ZM180-180h160v-160H180v160Zm440 0h160v-160H620v160Z\"/>\n",
              "  </svg>\n",
              "    </button>\n",
              "\n",
              "  <style>\n",
              "    .colab-df-container {\n",
              "      display:flex;\n",
              "      gap: 12px;\n",
              "    }\n",
              "\n",
              "    .colab-df-convert {\n",
              "      background-color: #E8F0FE;\n",
              "      border: none;\n",
              "      border-radius: 50%;\n",
              "      cursor: pointer;\n",
              "      display: none;\n",
              "      fill: #1967D2;\n",
              "      height: 32px;\n",
              "      padding: 0 0 0 0;\n",
              "      width: 32px;\n",
              "    }\n",
              "\n",
              "    .colab-df-convert:hover {\n",
              "      background-color: #E2EBFA;\n",
              "      box-shadow: 0px 1px 2px rgba(60, 64, 67, 0.3), 0px 1px 3px 1px rgba(60, 64, 67, 0.15);\n",
              "      fill: #174EA6;\n",
              "    }\n",
              "\n",
              "    .colab-df-buttons div {\n",
              "      margin-bottom: 4px;\n",
              "    }\n",
              "\n",
              "    [theme=dark] .colab-df-convert {\n",
              "      background-color: #3B4455;\n",
              "      fill: #D2E3FC;\n",
              "    }\n",
              "\n",
              "    [theme=dark] .colab-df-convert:hover {\n",
              "      background-color: #434B5C;\n",
              "      box-shadow: 0px 1px 3px 1px rgba(0, 0, 0, 0.15);\n",
              "      filter: drop-shadow(0px 1px 2px rgba(0, 0, 0, 0.3));\n",
              "      fill: #FFFFFF;\n",
              "    }\n",
              "  </style>\n",
              "\n",
              "    <script>\n",
              "      const buttonEl =\n",
              "        document.querySelector('#df-017ad7bc-86fb-4a5f-892b-fb7602274868 button.colab-df-convert');\n",
              "      buttonEl.style.display =\n",
              "        google.colab.kernel.accessAllowed ? 'block' : 'none';\n",
              "\n",
              "      async function convertToInteractive(key) {\n",
              "        const element = document.querySelector('#df-017ad7bc-86fb-4a5f-892b-fb7602274868');\n",
              "        const dataTable =\n",
              "          await google.colab.kernel.invokeFunction('convertToInteractive',\n",
              "                                                    [key], {});\n",
              "        if (!dataTable) return;\n",
              "\n",
              "        const docLinkHtml = 'Like what you see? Visit the ' +\n",
              "          '<a target=\"_blank\" href=https://colab.research.google.com/notebooks/data_table.ipynb>data table notebook</a>'\n",
              "          + ' to learn more about interactive tables.';\n",
              "        element.innerHTML = '';\n",
              "        dataTable['output_type'] = 'display_data';\n",
              "        await google.colab.output.renderOutput(dataTable, element);\n",
              "        const docLink = document.createElement('div');\n",
              "        docLink.innerHTML = docLinkHtml;\n",
              "        element.appendChild(docLink);\n",
              "      }\n",
              "    </script>\n",
              "  </div>\n",
              "\n",
              "\n",
              "<div id=\"df-4d75fae5-e11c-49b4-aff1-286795d5a33d\">\n",
              "  <button class=\"colab-df-quickchart\" onclick=\"quickchart('df-4d75fae5-e11c-49b4-aff1-286795d5a33d')\"\n",
              "            title=\"Suggest charts\"\n",
              "            style=\"display:none;\">\n",
              "\n",
              "<svg xmlns=\"http://www.w3.org/2000/svg\" height=\"24px\"viewBox=\"0 0 24 24\"\n",
              "     width=\"24px\">\n",
              "    <g>\n",
              "        <path d=\"M19 3H5c-1.1 0-2 .9-2 2v14c0 1.1.9 2 2 2h14c1.1 0 2-.9 2-2V5c0-1.1-.9-2-2-2zM9 17H7v-7h2v7zm4 0h-2V7h2v10zm4 0h-2v-4h2v4z\"/>\n",
              "    </g>\n",
              "</svg>\n",
              "  </button>\n",
              "\n",
              "<style>\n",
              "  .colab-df-quickchart {\n",
              "      --bg-color: #E8F0FE;\n",
              "      --fill-color: #1967D2;\n",
              "      --hover-bg-color: #E2EBFA;\n",
              "      --hover-fill-color: #174EA6;\n",
              "      --disabled-fill-color: #AAA;\n",
              "      --disabled-bg-color: #DDD;\n",
              "  }\n",
              "\n",
              "  [theme=dark] .colab-df-quickchart {\n",
              "      --bg-color: #3B4455;\n",
              "      --fill-color: #D2E3FC;\n",
              "      --hover-bg-color: #434B5C;\n",
              "      --hover-fill-color: #FFFFFF;\n",
              "      --disabled-bg-color: #3B4455;\n",
              "      --disabled-fill-color: #666;\n",
              "  }\n",
              "\n",
              "  .colab-df-quickchart {\n",
              "    background-color: var(--bg-color);\n",
              "    border: none;\n",
              "    border-radius: 50%;\n",
              "    cursor: pointer;\n",
              "    display: none;\n",
              "    fill: var(--fill-color);\n",
              "    height: 32px;\n",
              "    padding: 0;\n",
              "    width: 32px;\n",
              "  }\n",
              "\n",
              "  .colab-df-quickchart:hover {\n",
              "    background-color: var(--hover-bg-color);\n",
              "    box-shadow: 0 1px 2px rgba(60, 64, 67, 0.3), 0 1px 3px 1px rgba(60, 64, 67, 0.15);\n",
              "    fill: var(--button-hover-fill-color);\n",
              "  }\n",
              "\n",
              "  .colab-df-quickchart-complete:disabled,\n",
              "  .colab-df-quickchart-complete:disabled:hover {\n",
              "    background-color: var(--disabled-bg-color);\n",
              "    fill: var(--disabled-fill-color);\n",
              "    box-shadow: none;\n",
              "  }\n",
              "\n",
              "  .colab-df-spinner {\n",
              "    border: 2px solid var(--fill-color);\n",
              "    border-color: transparent;\n",
              "    border-bottom-color: var(--fill-color);\n",
              "    animation:\n",
              "      spin 1s steps(1) infinite;\n",
              "  }\n",
              "\n",
              "  @keyframes spin {\n",
              "    0% {\n",
              "      border-color: transparent;\n",
              "      border-bottom-color: var(--fill-color);\n",
              "      border-left-color: var(--fill-color);\n",
              "    }\n",
              "    20% {\n",
              "      border-color: transparent;\n",
              "      border-left-color: var(--fill-color);\n",
              "      border-top-color: var(--fill-color);\n",
              "    }\n",
              "    30% {\n",
              "      border-color: transparent;\n",
              "      border-left-color: var(--fill-color);\n",
              "      border-top-color: var(--fill-color);\n",
              "      border-right-color: var(--fill-color);\n",
              "    }\n",
              "    40% {\n",
              "      border-color: transparent;\n",
              "      border-right-color: var(--fill-color);\n",
              "      border-top-color: var(--fill-color);\n",
              "    }\n",
              "    60% {\n",
              "      border-color: transparent;\n",
              "      border-right-color: var(--fill-color);\n",
              "    }\n",
              "    80% {\n",
              "      border-color: transparent;\n",
              "      border-right-color: var(--fill-color);\n",
              "      border-bottom-color: var(--fill-color);\n",
              "    }\n",
              "    90% {\n",
              "      border-color: transparent;\n",
              "      border-bottom-color: var(--fill-color);\n",
              "    }\n",
              "  }\n",
              "</style>\n",
              "\n",
              "  <script>\n",
              "    async function quickchart(key) {\n",
              "      const quickchartButtonEl =\n",
              "        document.querySelector('#' + key + ' button');\n",
              "      quickchartButtonEl.disabled = true;  // To prevent multiple clicks.\n",
              "      quickchartButtonEl.classList.add('colab-df-spinner');\n",
              "      try {\n",
              "        const charts = await google.colab.kernel.invokeFunction(\n",
              "            'suggestCharts', [key], {});\n",
              "      } catch (error) {\n",
              "        console.error('Error during call to suggestCharts:', error);\n",
              "      }\n",
              "      quickchartButtonEl.classList.remove('colab-df-spinner');\n",
              "      quickchartButtonEl.classList.add('colab-df-quickchart-complete');\n",
              "    }\n",
              "    (() => {\n",
              "      let quickchartButtonEl =\n",
              "        document.querySelector('#df-4d75fae5-e11c-49b4-aff1-286795d5a33d button');\n",
              "      quickchartButtonEl.style.display =\n",
              "        google.colab.kernel.accessAllowed ? 'block' : 'none';\n",
              "    })();\n",
              "  </script>\n",
              "</div>\n",
              "    </div>\n",
              "  </div>\n"
            ]
          },
          "metadata": {},
          "execution_count": 41
        }
      ],
      "source": [
        "gpd.GeoDataFrame(geo_df.toPandas(), geometry=\"geometry\")[:5]"
      ]
    },
    {
      "cell_type": "markdown",
      "metadata": {
        "id": "kO1EyFACOjcT"
      },
      "source": [
        "# Load Typed SpatialRDDs"
      ]
    },
    {
      "cell_type": "markdown",
      "metadata": {
        "id": "w_0_hHNQOjcT"
      },
      "source": [
        "Currently The library supports 5 typed SpatialRDDs:\n",
        "<li> RectangleRDD </li>\n",
        "<li> PointRDD </li>\n",
        "<li> PolygonRDD </li>\n",
        "<li> LineStringRDD </li>\n",
        "<li> CircleRDD </li>"
      ]
    },
    {
      "cell_type": "code",
      "execution_count": 42,
      "metadata": {
        "id": "2m2k-n-LOjcT"
      },
      "outputs": [],
      "source": [
        "rectangle_rdd = RectangleRDD(sc, \"data/zcta510-small.csv\", FileDataSplitter.CSV, True, 11)\n",
        "point_rdd = PointRDD(sc, \"data/arealm-small.csv\", 1, FileDataSplitter.CSV, False, 11)\n",
        "polygon_rdd = PolygonRDD(sc, \"data/primaryroads-polygon.csv\", FileDataSplitter.CSV, True, 11)\n",
        "linestring_rdd = LineStringRDD(sc, \"data/primaryroads-linestring.csv\", FileDataSplitter.CSV, True)"
      ]
    },
    {
      "cell_type": "code",
      "execution_count": 43,
      "metadata": {
        "id": "qRHPdLYdOjcb",
        "outputId": "9b9a4a09-5f29-4528-b69c-abef4e936956",
        "colab": {
          "base_uri": "https://localhost:8080/"
        }
      },
      "outputs": [
        {
          "output_type": "execute_result",
          "data": {
            "text/plain": [
              "True"
            ]
          },
          "metadata": {},
          "execution_count": 43
        }
      ],
      "source": [
        "rectangle_rdd.analyze()\n",
        "point_rdd.analyze()\n",
        "polygon_rdd.analyze()\n",
        "linestring_rdd.analyze()"
      ]
    },
    {
      "cell_type": "markdown",
      "metadata": {
        "id": "J2uTMMk1Ojcb"
      },
      "source": [
        "# Spatial Partitioning"
      ]
    },
    {
      "cell_type": "markdown",
      "metadata": {
        "id": "h3AC5CpdOjcc"
      },
      "source": [
        "Apache Sedona spatial partitioning method can significantly speed up the join query. Three spatial partitioning methods are available: KDB-Tree, Quad-Tree and R-Tree. Two SpatialRDD must be partitioned by the same way."
      ]
    },
    {
      "cell_type": "code",
      "execution_count": 44,
      "metadata": {
        "id": "2icbQf9NOjcc",
        "outputId": "a72610bc-d343-4d4c-f1b3-12a22c29fa20",
        "colab": {
          "base_uri": "https://localhost:8080/"
        }
      },
      "outputs": [
        {
          "output_type": "execute_result",
          "data": {
            "text/plain": [
              "True"
            ]
          },
          "metadata": {},
          "execution_count": 44
        }
      ],
      "source": [
        "point_rdd.spatialPartitioning(GridType.KDBTREE)"
      ]
    },
    {
      "cell_type": "markdown",
      "metadata": {
        "id": "_ipdd7umOjcc"
      },
      "source": [
        "# Create Index"
      ]
    },
    {
      "cell_type": "markdown",
      "metadata": {
        "id": "hEPaVPmJOjcc"
      },
      "source": [
        "Apache Sedona provides two types of spatial indexes, Quad-Tree and R-Tree. Once you specify an index type, Apache Sedona will build a local tree index on each of the SpatialRDD partition."
      ]
    },
    {
      "cell_type": "code",
      "execution_count": 45,
      "metadata": {
        "id": "3YIsx_55Ojcc"
      },
      "outputs": [],
      "source": [
        "point_rdd.buildIndex(IndexType.RTREE, True)"
      ]
    },
    {
      "cell_type": "markdown",
      "metadata": {
        "id": "LRHcULQDOjcc"
      },
      "source": [
        "# SpatialJoin"
      ]
    },
    {
      "cell_type": "markdown",
      "metadata": {
        "id": "ZnnDo119Ojcc"
      },
      "source": [
        "Spatial join is operation which combines data based on spatial relations like:\n",
        "<li> intersects </li>\n",
        "<li> touches </li>\n",
        "<li> within </li>\n",
        "<li> etc </li>\n",
        "\n",
        "To Use Spatial Join in GeoPyspark library please use JoinQuery object, which has implemented below methods:\n",
        "```python\n",
        "SpatialJoinQuery(spatialRDD: SpatialRDD, queryRDD: SpatialRDD, useIndex: bool, considerBoundaryIntersection: bool) -> RDD\n",
        "\n",
        "DistanceJoinQuery(spatialRDD: SpatialRDD, queryRDD: SpatialRDD, useIndex: bool, considerBoundaryIntersection: bool) -> RDD\n",
        "\n",
        "spatialJoin(queryWindowRDD: SpatialRDD, objectRDD: SpatialRDD, joinParams: JoinParams) -> RDD\n",
        "\n",
        "DistanceJoinQueryFlat(spatialRDD: SpatialRDD, queryRDD: SpatialRDD, useIndex: bool, considerBoundaryIntersection: bool) -> RDD\n",
        "\n",
        "SpatialJoinQueryFlat(spatialRDD: SpatialRDD, queryRDD: SpatialRDD, useIndex: bool, considerBoundaryIntersection: bool) -> RDD\n",
        "\n",
        "```"
      ]
    },
    {
      "cell_type": "markdown",
      "metadata": {
        "id": "icOL3ukTOjcc"
      },
      "source": [
        "## Example SpatialJoinQueryFlat PointRDD with RectangleRDD"
      ]
    },
    {
      "cell_type": "code",
      "execution_count": 46,
      "metadata": {
        "id": "unG1rYNZOjcc"
      },
      "outputs": [],
      "source": [
        "# partitioning the data\n",
        "point_rdd.spatialPartitioning(GridType.KDBTREE)\n",
        "rectangle_rdd.spatialPartitioning(point_rdd.getPartitioner())\n",
        "# building an index\n",
        "point_rdd.buildIndex(IndexType.RTREE, True)\n",
        "# Perform Spatial Join Query\n",
        "result = JoinQuery.SpatialJoinQueryFlat(point_rdd, rectangle_rdd, False, True)"
      ]
    },
    {
      "cell_type": "markdown",
      "metadata": {
        "id": "5A0s6CE5Ojcd"
      },
      "source": [
        "As result we will get RDD[GeoData, GeoData]\n",
        "It can be used like any other Python RDD. You can use map, take, collect and other functions  "
      ]
    },
    {
      "cell_type": "code",
      "execution_count": 47,
      "metadata": {
        "id": "8dw_JRafOjcd",
        "outputId": "dc7378bd-b778-407a-d11d-ac64f3defb79",
        "colab": {
          "base_uri": "https://localhost:8080/"
        }
      },
      "outputs": [
        {
          "output_type": "execute_result",
          "data": {
            "text/plain": [
              "MapPartitionsRDD[63] at map at FlatPairRddConverter.scala:30"
            ]
          },
          "metadata": {},
          "execution_count": 47
        }
      ],
      "source": [
        "result"
      ]
    },
    {
      "cell_type": "code",
      "execution_count": 48,
      "metadata": {
        "id": "7QKdzz9ZOjcd",
        "outputId": "37e1e2ac-7dfb-4987-b749-f2757c3d2aeb",
        "colab": {
          "base_uri": "https://localhost:8080/"
        }
      },
      "outputs": [
        {
          "output_type": "execute_result",
          "data": {
            "text/plain": [
              "[[Geometry: Polygon userData: , Geometry: Point userData: ],\n",
              " [Geometry: Polygon userData: , Geometry: Point userData: ]]"
            ]
          },
          "metadata": {},
          "execution_count": 48
        }
      ],
      "source": [
        "result.take(2)"
      ]
    },
    {
      "cell_type": "code",
      "execution_count": 49,
      "metadata": {
        "id": "cBMsFNe2Ojcd",
        "outputId": "775f3800-3491-4317-e165-87b446d3d093",
        "colab": {
          "base_uri": "https://localhost:8080/"
        }
      },
      "outputs": [
        {
          "output_type": "execute_result",
          "data": {
            "text/plain": [
              "[[Geometry: Polygon userData: , Geometry: Point userData: ],\n",
              " [Geometry: Polygon userData: , Geometry: Point userData: ],\n",
              " [Geometry: Polygon userData: , Geometry: Point userData: ]]"
            ]
          },
          "metadata": {},
          "execution_count": 49
        }
      ],
      "source": [
        "result.collect()[:3]"
      ]
    },
    {
      "cell_type": "code",
      "execution_count": 50,
      "metadata": {
        "id": "ZUPAfZ0wOjcd",
        "outputId": "f3a75ac9-6fd7-49c5-be47-91638e494b73",
        "colab": {
          "base_uri": "https://localhost:8080/"
        }
      },
      "outputs": [
        {
          "output_type": "execute_result",
          "data": {
            "text/plain": [
              "[0.0, 0.0, 0.0, 0.0, 0.0]"
            ]
          },
          "metadata": {},
          "execution_count": 50
        }
      ],
      "source": [
        "# getting distance using SpatialObjects\n",
        "result.map(lambda x: x[0].geom.distance(x[1].geom)).take(5)"
      ]
    },
    {
      "cell_type": "code",
      "execution_count": 51,
      "metadata": {
        "id": "2ztnCLMnOjcd",
        "outputId": "1b6d5a00-be0a-4f7b-f700-31ed9c157777",
        "colab": {
          "base_uri": "https://localhost:8080/"
        }
      },
      "outputs": [
        {
          "output_type": "execute_result",
          "data": {
            "text/plain": [
              "[0.010747596697999453,\n",
              " 0.010747596697999453,\n",
              " 0.010747596697999453,\n",
              " 0.010747596697999453,\n",
              " 0.026651558685001447]"
            ]
          },
          "metadata": {},
          "execution_count": 51
        }
      ],
      "source": [
        "# getting area of polygon data\n",
        "result.map(lambda x: x[0].geom.area).take(5)"
      ]
    },
    {
      "cell_type": "code",
      "execution_count": 52,
      "metadata": {
        "id": "nt-r8k9VOjcd"
      },
      "outputs": [],
      "source": [
        "# Base on result you can create DataFrame object, using map function and build DataFrame from RDD"
      ]
    },
    {
      "cell_type": "code",
      "execution_count": 53,
      "metadata": {
        "id": "nALxyjQiOjce"
      },
      "outputs": [],
      "source": [
        "schema = StructType(\n",
        "    [\n",
        "        StructField(\"geom_left\", GeometryType(), False),\n",
        "        StructField(\"geom_right\", GeometryType(), False)\n",
        "    ]\n",
        ")"
      ]
    },
    {
      "cell_type": "code",
      "execution_count": 54,
      "metadata": {
        "id": "UWqys-lqOjce",
        "outputId": "1e146c9c-5807-4430-98fe-9be9c9a601ad",
        "colab": {
          "base_uri": "https://localhost:8080/"
        }
      },
      "outputs": [
        {
          "output_type": "stream",
          "name": "stdout",
          "text": [
            "+--------------------+--------------------+\n",
            "|           geom_left|          geom_right|\n",
            "+--------------------+--------------------+\n",
            "|POLYGON ((-86.749...|POINT (-86.736302...|\n",
            "|POLYGON ((-86.749...|POINT (-86.735506...|\n",
            "|POLYGON ((-86.749...|POINT (-86.68645 ...|\n",
            "|POLYGON ((-86.749...|POINT (-86.675405...|\n",
            "|POLYGON ((-87.229...|POINT (-87.105455...|\n",
            "+--------------------+--------------------+\n",
            "only showing top 5 rows\n",
            "\n"
          ]
        }
      ],
      "source": [
        "# Set verifySchema to False\n",
        "spatial_join_result = result.map(lambda x: [x[0].geom, x[1].geom])\n",
        "sedona.createDataFrame(spatial_join_result, schema, verifySchema=False).show(5, True)"
      ]
    },
    {
      "cell_type": "code",
      "execution_count": 55,
      "metadata": {
        "id": "pkY70z0lOjce"
      },
      "outputs": [],
      "source": [
        "# Above code produces DataFrame with geometry Data type"
      ]
    },
    {
      "cell_type": "code",
      "execution_count": 56,
      "metadata": {
        "id": "_BQVrY-IOjce",
        "outputId": "9e7cf2f3-4bed-47b3-e2b9-6fbafa8625b1",
        "colab": {
          "base_uri": "https://localhost:8080/"
        }
      },
      "outputs": [
        {
          "output_type": "stream",
          "name": "stdout",
          "text": [
            "root\n",
            " |-- geom_left: geometry (nullable = false)\n",
            " |-- geom_right: geometry (nullable = false)\n",
            "\n"
          ]
        }
      ],
      "source": [
        "sedona.createDataFrame(spatial_join_result, schema, verifySchema=False).printSchema()"
      ]
    },
    {
      "cell_type": "markdown",
      "metadata": {
        "id": "5oID6P5kOjce"
      },
      "source": [
        "We can create DataFrame object from Spatial Pair RDD using Adapter object as follows"
      ]
    },
    {
      "cell_type": "code",
      "execution_count": 57,
      "metadata": {
        "id": "OyD3_m_zOjce",
        "outputId": "a76c4211-3479-452b-cc97-33b7ad19e0e9",
        "colab": {
          "base_uri": "https://localhost:8080/"
        }
      },
      "outputs": [
        {
          "output_type": "stream",
          "name": "stdout",
          "text": [
            "+--------------------+-----+--------------------+-----+\n",
            "|              geom_1|attr1|              geom_2|attr2|\n",
            "+--------------------+-----+--------------------+-----+\n",
            "|POLYGON ((-86.749...|     |POINT (-86.736302...|     |\n",
            "|POLYGON ((-86.749...|     |POINT (-86.735506...|     |\n",
            "|POLYGON ((-86.749...|     |POINT (-86.68645 ...|     |\n",
            "|POLYGON ((-86.749...|     |POINT (-86.675405...|     |\n",
            "|POLYGON ((-87.229...|     |POINT (-87.105455...|     |\n",
            "+--------------------+-----+--------------------+-----+\n",
            "only showing top 5 rows\n",
            "\n"
          ]
        }
      ],
      "source": [
        "Adapter.toDf(result, [\"attr1\"], [\"attr2\"], sedona).show(5, True)"
      ]
    },
    {
      "cell_type": "markdown",
      "metadata": {
        "id": "qAmXD2SKOjce"
      },
      "source": [
        "This also produce DataFrame with geometry DataType"
      ]
    },
    {
      "cell_type": "code",
      "execution_count": 58,
      "metadata": {
        "id": "U7evFgqkOjce",
        "outputId": "d8146fb5-09b0-49d2-ce35-52c90fc0e537",
        "colab": {
          "base_uri": "https://localhost:8080/"
        }
      },
      "outputs": [
        {
          "output_type": "stream",
          "name": "stdout",
          "text": [
            "root\n",
            " |-- geom_1: geometry (nullable = true)\n",
            " |-- attr1: string (nullable = true)\n",
            " |-- geom_2: geometry (nullable = true)\n",
            " |-- attr2: string (nullable = true)\n",
            "\n"
          ]
        }
      ],
      "source": [
        "Adapter.toDf(result, [\"attr1\"], [\"attr2\"], sedona).printSchema()"
      ]
    },
    {
      "cell_type": "markdown",
      "metadata": {
        "id": "TldNHgcQOjcf"
      },
      "source": [
        "We can create RDD which will be of type RDD[GeoData, List[GeoData]]\n",
        "We can for example calculate number of Points within some polygon data"
      ]
    },
    {
      "cell_type": "markdown",
      "metadata": {
        "id": "GlhD3mSvOjcf"
      },
      "source": [
        "To do that we can use code specified below"
      ]
    },
    {
      "cell_type": "code",
      "execution_count": 59,
      "metadata": {
        "id": "bl5mg9qdOjcf"
      },
      "outputs": [],
      "source": [
        "point_rdd.spatialPartitioning(GridType.KDBTREE)\n",
        "rectangle_rdd.spatialPartitioning(point_rdd.getPartitioner())"
      ]
    },
    {
      "cell_type": "code",
      "execution_count": 60,
      "metadata": {
        "id": "6S1gs7nDOjcf"
      },
      "outputs": [],
      "source": [
        "spatial_join_result_non_flat = JoinQuery.SpatialJoinQuery(point_rdd, rectangle_rdd, False, True)"
      ]
    },
    {
      "cell_type": "code",
      "execution_count": 61,
      "metadata": {
        "id": "ZJiTacNkOjcf"
      },
      "outputs": [],
      "source": [
        "# number of point for each polygon\n",
        "number_of_points = spatial_join_result_non_flat.map(lambda x: [x[0].geom, x[1].__len__()])"
      ]
    },
    {
      "cell_type": "code",
      "execution_count": 62,
      "metadata": {
        "id": "-EtrJVuROjcf"
      },
      "outputs": [],
      "source": [
        "schema = StructType([\n",
        "    StructField(\"geometry\", GeometryType(), False),\n",
        "    StructField(\"number_of_points\", LongType(), False)\n",
        "])"
      ]
    },
    {
      "cell_type": "code",
      "execution_count": 63,
      "metadata": {
        "id": "mktoa5-HOjcf",
        "outputId": "8d53d848-aa75-4fff-f307-273bfe808ee7",
        "colab": {
          "base_uri": "https://localhost:8080/"
        }
      },
      "outputs": [
        {
          "output_type": "stream",
          "name": "stdout",
          "text": [
            "+--------------------+----------------+\n",
            "|            geometry|number_of_points|\n",
            "+--------------------+----------------+\n",
            "|POLYGON ((-87.114...|              15|\n",
            "|POLYGON ((-87.082...|              12|\n",
            "|POLYGON ((-86.697...|               1|\n",
            "|POLYGON ((-87.285...|              26|\n",
            "|POLYGON ((-87.105...|              15|\n",
            "|POLYGON ((-86.816...|               6|\n",
            "|POLYGON ((-87.229...|               7|\n",
            "|POLYGON ((-87.092...|               5|\n",
            "|POLYGON ((-86.749...|               4|\n",
            "|POLYGON ((-86.860...|              12|\n",
            "+--------------------+----------------+\n",
            "\n"
          ]
        }
      ],
      "source": [
        "sedona.createDataFrame(number_of_points, schema, verifySchema=False).show()"
      ]
    },
    {
      "cell_type": "markdown",
      "metadata": {
        "id": "ZosmctfPOjcf"
      },
      "source": [
        "# KNNQuery"
      ]
    },
    {
      "cell_type": "markdown",
      "metadata": {
        "id": "utC2fQXwOjcg"
      },
      "source": [
        "Spatial KNNQuery is operation which help us find answer which k number of geometries lays closest to other geometry.\n",
        "\n",
        "For Example:\n",
        "    5 closest Shops to your home. To use Spatial KNNQuery please use object\n",
        "<b> KNNQuery </b> which has one method:\n",
        "```python\n",
        "SpatialKnnQuery(spatialRDD: SpatialRDD, originalQueryPoint: BaseGeometry, k: int,  useIndex: bool)-> List[GeoData]\n",
        "```"
      ]
    },
    {
      "cell_type": "markdown",
      "metadata": {
        "id": "sTcvQarvOjcg"
      },
      "source": [
        "### Finds 5 closest points from PointRDD to given Point"
      ]
    },
    {
      "cell_type": "code",
      "execution_count": 64,
      "metadata": {
        "id": "n6BIfKk9Ojcg"
      },
      "outputs": [],
      "source": [
        "result = KNNQuery.SpatialKnnQuery(point_rdd, Point(-84.01, 34.01), 5, False)"
      ]
    },
    {
      "cell_type": "code",
      "execution_count": 65,
      "metadata": {
        "id": "i-SgOWD2Ojcg",
        "outputId": "c3ac6472-a1ca-4c06-c446-adf86bc22e76",
        "colab": {
          "base_uri": "https://localhost:8080/"
        }
      },
      "outputs": [
        {
          "output_type": "execute_result",
          "data": {
            "text/plain": [
              "[Geometry: Point userData: ,\n",
              " Geometry: Point userData: ,\n",
              " Geometry: Point userData: ,\n",
              " Geometry: Point userData: ,\n",
              " Geometry: Point userData: ]"
            ]
          },
          "metadata": {},
          "execution_count": 65
        }
      ],
      "source": [
        "result"
      ]
    },
    {
      "cell_type": "markdown",
      "metadata": {
        "id": "Dft5_7AMOjcg"
      },
      "source": [
        "As Reference geometry you can also use Polygon or LineString object"
      ]
    },
    {
      "cell_type": "code",
      "execution_count": 66,
      "metadata": {
        "id": "C-G_a1iXOjcg"
      },
      "outputs": [],
      "source": [
        "polygon = Polygon(\n",
        "    [(-84.237756, 33.904859), (-84.237756, 34.090426),\n",
        "     (-83.833011, 34.090426), (-83.833011, 33.904859),\n",
        "     (-84.237756, 33.904859)\n",
        "    ])\n",
        "polygons_nearby = KNNQuery.SpatialKnnQuery(polygon_rdd, polygon, 5, False)"
      ]
    },
    {
      "cell_type": "code",
      "execution_count": 67,
      "metadata": {
        "id": "pYtK1T1oOjcg",
        "outputId": "1f41b9f6-94e0-47eb-dea3-042b32d46047",
        "colab": {
          "base_uri": "https://localhost:8080/"
        }
      },
      "outputs": [
        {
          "output_type": "execute_result",
          "data": {
            "text/plain": [
              "[Geometry: Polygon userData: ,\n",
              " Geometry: Polygon userData: ,\n",
              " Geometry: Polygon userData: ,\n",
              " Geometry: Polygon userData: ,\n",
              " Geometry: Polygon userData: ]"
            ]
          },
          "metadata": {},
          "execution_count": 67
        }
      ],
      "source": [
        "polygons_nearby"
      ]
    },
    {
      "cell_type": "code",
      "execution_count": 68,
      "metadata": {
        "id": "-4Mf5TP-Ojcg",
        "outputId": "f5306235-b4e9-4af9-8a48-00757a80c815",
        "colab": {
          "base_uri": "https://localhost:8080/",
          "height": 0
        }
      },
      "outputs": [
        {
          "output_type": "execute_result",
          "data": {
            "text/plain": [
              "'POLYGON ((-83.993559 34.087259, -83.993559 34.131247, -83.959903 34.131247, -83.959903 34.087259, -83.993559 34.087259))'"
            ],
            "application/vnd.google.colaboratory.intrinsic+json": {
              "type": "string"
            }
          },
          "metadata": {},
          "execution_count": 68
        }
      ],
      "source": [
        "polygons_nearby[0].geom.wkt"
      ]
    },
    {
      "cell_type": "markdown",
      "metadata": {
        "id": "SxP3ufPGOjch"
      },
      "source": [
        "# RangeQuery"
      ]
    },
    {
      "cell_type": "markdown",
      "metadata": {
        "id": "Air8I_XIOjch"
      },
      "source": [
        "A spatial range query takes as input a range query window and an SpatialRDD and returns all geometries that intersect / are fully covered by the query window.\n",
        "RangeQuery has one method:\n",
        "\n",
        "```python\n",
        "SpatialRangeQuery(self, spatialRDD: SpatialRDD, rangeQueryWindow: BaseGeometry, considerBoundaryIntersection: bool, usingIndex: bool) -> RDD\n",
        "```"
      ]
    },
    {
      "cell_type": "code",
      "execution_count": 69,
      "metadata": {
        "id": "7YQd4wvuOjch"
      },
      "outputs": [],
      "source": [
        "from sedona.core.geom.envelope import Envelope"
      ]
    },
    {
      "cell_type": "code",
      "execution_count": 70,
      "metadata": {
        "id": "8WLf9PLbOjch"
      },
      "outputs": [],
      "source": [
        "query_envelope = Envelope(-85.01, -60.01, 34.01, 50.01)\n",
        "\n",
        "result_range_query = RangeQuery.SpatialRangeQuery(linestring_rdd, query_envelope, False, False)"
      ]
    },
    {
      "cell_type": "code",
      "execution_count": 71,
      "metadata": {
        "id": "9Wp7sOciOjch",
        "outputId": "beb53d68-1f0c-49e3-f0ca-5b28ba9632f5",
        "colab": {
          "base_uri": "https://localhost:8080/"
        }
      },
      "outputs": [
        {
          "output_type": "execute_result",
          "data": {
            "text/plain": [
              "MapPartitionsRDD[127] at map at GeometryRddConverter.scala:30"
            ]
          },
          "metadata": {},
          "execution_count": 71
        }
      ],
      "source": [
        "result_range_query"
      ]
    },
    {
      "cell_type": "code",
      "execution_count": 72,
      "metadata": {
        "id": "C1mittdHOjch",
        "outputId": "20e609d7-f9f0-4293-fed5-6244c6005242",
        "colab": {
          "base_uri": "https://localhost:8080/"
        }
      },
      "outputs": [
        {
          "output_type": "execute_result",
          "data": {
            "text/plain": [
              "[Geometry: LineString userData: ,\n",
              " Geometry: LineString userData: ,\n",
              " Geometry: LineString userData: ,\n",
              " Geometry: LineString userData: ,\n",
              " Geometry: LineString userData: ,\n",
              " Geometry: LineString userData: ]"
            ]
          },
          "metadata": {},
          "execution_count": 72
        }
      ],
      "source": [
        "result_range_query.take(6)"
      ]
    },
    {
      "cell_type": "code",
      "execution_count": 73,
      "metadata": {
        "id": "Jv3ik2obOjch"
      },
      "outputs": [],
      "source": [
        "# Creating DataFrame from result"
      ]
    },
    {
      "cell_type": "code",
      "execution_count": 74,
      "metadata": {
        "id": "OF2xJfLCOjch"
      },
      "outputs": [],
      "source": [
        "schema = StructType([StructField(\"geometry\", GeometryType(), False)])"
      ]
    },
    {
      "cell_type": "code",
      "execution_count": 75,
      "metadata": {
        "id": "7Y4ruCQ-Ojci",
        "outputId": "43db87c2-cb0e-4da4-ae21-bb3ace730b61",
        "colab": {
          "base_uri": "https://localhost:8080/"
        }
      },
      "outputs": [
        {
          "output_type": "stream",
          "name": "stdout",
          "text": [
            "+--------------------+\n",
            "|            geometry|\n",
            "+--------------------+\n",
            "|LINESTRING (-72.1...|\n",
            "|LINESTRING (-72.4...|\n",
            "|LINESTRING (-72.4...|\n",
            "|LINESTRING (-73.4...|\n",
            "|LINESTRING (-73.6...|\n",
            "+--------------------+\n",
            "only showing top 5 rows\n",
            "\n"
          ]
        }
      ],
      "source": [
        "sedona.createDataFrame(\n",
        "    result_range_query.map(lambda x: [x.geom]),\n",
        "    schema,\n",
        "    verifySchema=False\n",
        ").show(5, True)"
      ]
    },
    {
      "cell_type": "markdown",
      "metadata": {
        "id": "jwiSJcuLOjci"
      },
      "source": [
        "# Load From other Formats"
      ]
    },
    {
      "cell_type": "markdown",
      "metadata": {
        "id": "aLuQLIfJOjci"
      },
      "source": [
        "GeoPyspark allows to load the data from other Data formats like:\n",
        "<li> GeoJSON </li>\n",
        "<li> Shapefile </li>\n",
        "<li> WKB </li>\n",
        "<li> WKT </li>"
      ]
    },
    {
      "cell_type": "code",
      "execution_count": 76,
      "metadata": {
        "id": "vuiEDP9uOjci"
      },
      "outputs": [],
      "source": [
        "## ShapeFile - load to SpatialRDD"
      ]
    },
    {
      "cell_type": "code",
      "execution_count": 77,
      "metadata": {
        "id": "3bcx_gxAOjci"
      },
      "outputs": [],
      "source": [
        "shape_rdd = ShapefileReader.readToGeometryRDD(sc, \"data/polygon\")"
      ]
    },
    {
      "cell_type": "code",
      "execution_count": 78,
      "metadata": {
        "id": "nIjo83o8Ojci",
        "outputId": "7bf81710-6abf-4100-edac-f7112f33036f",
        "colab": {
          "base_uri": "https://localhost:8080/"
        }
      },
      "outputs": [
        {
          "output_type": "execute_result",
          "data": {
            "text/plain": [
              "<sedona.core.SpatialRDD.spatial_rdd.SpatialRDD at 0x7b8cb248ae30>"
            ]
          },
          "metadata": {},
          "execution_count": 78
        }
      ],
      "source": [
        "shape_rdd"
      ]
    },
    {
      "cell_type": "code",
      "execution_count": 79,
      "metadata": {
        "id": "4y9EXCKfOjci",
        "outputId": "bc728f0f-e98a-4a2d-e089-442abd0f882b",
        "colab": {
          "base_uri": "https://localhost:8080/"
        }
      },
      "outputs": [
        {
          "output_type": "stream",
          "name": "stdout",
          "text": [
            "+--------------------+\n",
            "|            geometry|\n",
            "+--------------------+\n",
            "|MULTIPOLYGON (((1...|\n",
            "|MULTIPOLYGON (((-...|\n",
            "|MULTIPOLYGON (((1...|\n",
            "|POLYGON ((118.362...|\n",
            "|MULTIPOLYGON (((-...|\n",
            "+--------------------+\n",
            "only showing top 5 rows\n",
            "\n"
          ]
        }
      ],
      "source": [
        "Adapter.toDf(shape_rdd, sedona).show(5, True)"
      ]
    },
    {
      "cell_type": "code",
      "execution_count": 80,
      "metadata": {
        "id": "LkVpdZgGOjci"
      },
      "outputs": [],
      "source": [
        "## GeoJSON - load to SpatialRDD"
      ]
    },
    {
      "cell_type": "markdown",
      "metadata": {
        "id": "Mh1K7181Ojcj"
      },
      "source": [
        "```\n",
        "{ \"type\": \"Feature\", \"properties\": { \"STATEFP\": \"01\", \"COUNTYFP\": \"077\", \"TRACTCE\": \"011501\", \"BLKGRPCE\": \"5\", \"AFFGEOID\": \"1500000US010770115015\", \"GEOID\": \"010770115015\", \"NAME\": \"5\", \"LSAD\": \"BG\", \"ALAND\": 6844991, \"AWATER\": 32636 }, \"geometry\": { \"type\": \"Polygon\", \"coordinates\": [ [ [ -87.621765, 34.873444 ], [ -87.617535, 34.873369 ], [ -87.6123, 34.873337 ], [ -87.604049, 34.873303 ], [ -87.604033, 34.872316 ], [ -87.60415, 34.867502 ], [ -87.604218, 34.865687 ], [ -87.604409, 34.858537 ], [ -87.604018, 34.851336 ], [ -87.603716, 34.844829 ], [ -87.603696, 34.844307 ], [ -87.603673, 34.841884 ], [ -87.60372, 34.841003 ], [ -87.603879, 34.838423 ], [ -87.603888, 34.837682 ], [ -87.603889, 34.83763 ], [ -87.613127, 34.833938 ], [ -87.616451, 34.832699 ], [ -87.621041, 34.831431 ], [ -87.621056, 34.831526 ], [ -87.62112, 34.831925 ], [ -87.621603, 34.8352 ], [ -87.62158, 34.836087 ], [ -87.621383, 34.84329 ], [ -87.621359, 34.844438 ], [ -87.62129, 34.846387 ], [ -87.62119, 34.85053 ], [ -87.62144, 34.865379 ], [ -87.621765, 34.873444 ] ] ] } },\n",
        "```"
      ]
    },
    {
      "cell_type": "code",
      "execution_count": 81,
      "metadata": {
        "id": "g_a3q71ZOjcj"
      },
      "outputs": [],
      "source": [
        "geo_json_rdd = GeoJsonReader.readToGeometryRDD(sc, \"data/testPolygon.json\")"
      ]
    },
    {
      "cell_type": "code",
      "execution_count": 82,
      "metadata": {
        "id": "LGrMegQ6Ojcj",
        "outputId": "7a9c77e2-3851-486a-b06a-28e5e2cefaaa",
        "colab": {
          "base_uri": "https://localhost:8080/"
        }
      },
      "outputs": [
        {
          "output_type": "execute_result",
          "data": {
            "text/plain": [
              "<sedona.core.SpatialRDD.spatial_rdd.SpatialRDD at 0x7b8cb237f850>"
            ]
          },
          "metadata": {},
          "execution_count": 82
        }
      ],
      "source": [
        "geo_json_rdd"
      ]
    },
    {
      "cell_type": "code",
      "execution_count": 83,
      "metadata": {
        "id": "ZfH32XssOjcj",
        "outputId": "9dd7a704-7e4c-4221-8b48-e3e4d85d8ebd",
        "colab": {
          "base_uri": "https://localhost:8080/"
        }
      },
      "outputs": [
        {
          "output_type": "stream",
          "name": "stdout",
          "text": [
            "+--------------------+-------+--------+-------+--------+--------------------+------------+----+----+--------+\n",
            "|            geometry|STATEFP|COUNTYFP|TRACTCE|BLKGRPCE|            AFFGEOID|       GEOID|NAME|LSAD|   ALAND|\n",
            "+--------------------+-------+--------+-------+--------+--------------------+------------+----+----+--------+\n",
            "|POLYGON ((-87.621...|     01|     077| 011501|       5|1500000US01077011...|010770115015|   5|  BG| 6844991|\n",
            "|POLYGON ((-85.719...|     01|     045| 021102|       4|1500000US01045021...|010450211024|   4|  BG|11360854|\n",
            "|POLYGON ((-86.000...|     01|     055| 001300|       3|1500000US01055001...|010550013003|   3|  BG| 1378742|\n",
            "|POLYGON ((-86.574...|     01|     089| 001700|       2|1500000US01089001...|010890017002|   2|  BG| 1040641|\n",
            "|POLYGON ((-85.382...|     01|     069| 041400|       1|1500000US01069041...|010690414001|   1|  BG| 8243574|\n",
            "+--------------------+-------+--------+-------+--------+--------------------+------------+----+----+--------+\n",
            "only showing top 5 rows\n",
            "\n"
          ]
        }
      ],
      "source": [
        "Adapter.toDf(geo_json_rdd, sedona).drop(\"AWATER\").show(5, True)"
      ]
    },
    {
      "cell_type": "code",
      "execution_count": 84,
      "metadata": {
        "id": "wuJkRwbROjcj"
      },
      "outputs": [],
      "source": [
        "## WKT - loading to SpatialRDD"
      ]
    },
    {
      "cell_type": "code",
      "execution_count": 85,
      "metadata": {
        "id": "0d9owuZROjcj"
      },
      "outputs": [],
      "source": [
        "wkt_rdd = WktReader.readToGeometryRDD(sc, \"data/county_small.tsv\", 0, True, False)"
      ]
    },
    {
      "cell_type": "code",
      "execution_count": 86,
      "metadata": {
        "id": "XKALKBbeOjcj",
        "outputId": "53601dbf-8e92-4c74-faec-fbfdf012b78e",
        "colab": {
          "base_uri": "https://localhost:8080/"
        }
      },
      "outputs": [
        {
          "output_type": "execute_result",
          "data": {
            "text/plain": [
              "<sedona.core.SpatialRDD.spatial_rdd.SpatialRDD at 0x7b8cb21b71f0>"
            ]
          },
          "metadata": {},
          "execution_count": 86
        }
      ],
      "source": [
        "wkt_rdd"
      ]
    },
    {
      "cell_type": "code",
      "execution_count": 87,
      "metadata": {
        "id": "UUJfqy5EOjcj",
        "outputId": "e9181e8b-4b3e-4baa-a9a6-4287e17eef61",
        "colab": {
          "base_uri": "https://localhost:8080/"
        }
      },
      "outputs": [
        {
          "output_type": "stream",
          "name": "stdout",
          "text": [
            "root\n",
            " |-- geometry: geometry (nullable = true)\n",
            "\n"
          ]
        }
      ],
      "source": [
        "Adapter.toDf(wkt_rdd, sedona).printSchema()"
      ]
    },
    {
      "cell_type": "code",
      "execution_count": 88,
      "metadata": {
        "id": "qjIgGZB2Ojck",
        "outputId": "66104d30-9147-4e38-9ed6-1ef4a5d22f4b",
        "colab": {
          "base_uri": "https://localhost:8080/"
        }
      },
      "outputs": [
        {
          "output_type": "stream",
          "name": "stdout",
          "text": [
            "+--------------------+\n",
            "|            geometry|\n",
            "+--------------------+\n",
            "|POLYGON ((-97.019...|\n",
            "|POLYGON ((-123.43...|\n",
            "|POLYGON ((-104.56...|\n",
            "|POLYGON ((-96.910...|\n",
            "|POLYGON ((-98.273...|\n",
            "+--------------------+\n",
            "only showing top 5 rows\n",
            "\n"
          ]
        }
      ],
      "source": [
        "Adapter.toDf(wkt_rdd, sedona).show(5, True)"
      ]
    },
    {
      "cell_type": "code",
      "execution_count": 89,
      "metadata": {
        "id": "9CzKWF_ZOjck"
      },
      "outputs": [],
      "source": [
        "## WKB - load to SpatialRDD"
      ]
    },
    {
      "cell_type": "code",
      "execution_count": 90,
      "metadata": {
        "id": "1-saFLNoOjck"
      },
      "outputs": [],
      "source": [
        "wkb_rdd = WkbReader.readToGeometryRDD(sc, \"data/county_small_wkb.tsv\", 0, True, False)"
      ]
    },
    {
      "cell_type": "code",
      "execution_count": 91,
      "metadata": {
        "id": "WFUhy3AtOjck",
        "outputId": "031d7d1a-4148-4c29-8253-82a28a7d3db3",
        "colab": {
          "base_uri": "https://localhost:8080/"
        }
      },
      "outputs": [
        {
          "output_type": "stream",
          "name": "stdout",
          "text": [
            "+--------------------+\n",
            "|            geometry|\n",
            "+--------------------+\n",
            "|POLYGON ((-97.019...|\n",
            "|POLYGON ((-123.43...|\n",
            "|POLYGON ((-104.56...|\n",
            "|POLYGON ((-96.910...|\n",
            "|POLYGON ((-98.273...|\n",
            "+--------------------+\n",
            "only showing top 5 rows\n",
            "\n"
          ]
        }
      ],
      "source": [
        "Adapter.toDf(wkb_rdd, sedona).show(5, True)"
      ]
    },
    {
      "cell_type": "markdown",
      "metadata": {
        "id": "xj-mt-60Ojck"
      },
      "source": [
        "## Converting RDD Spatial join result to DF directly, avoiding jvm python serde"
      ]
    },
    {
      "cell_type": "code",
      "execution_count": 92,
      "metadata": {
        "id": "5DTG6EvFOjck"
      },
      "outputs": [],
      "source": [
        "point_rdd.spatialPartitioning(GridType.KDBTREE)\n",
        "rectangle_rdd.spatialPartitioning(point_rdd.getPartitioner())\n",
        "# building an index\n",
        "point_rdd.buildIndex(IndexType.RTREE, True)\n",
        "# Perform Spatial Join Query\n",
        "result = JoinQueryRaw.SpatialJoinQueryFlat(point_rdd, rectangle_rdd, False, True)"
      ]
    },
    {
      "cell_type": "code",
      "execution_count": 93,
      "metadata": {
        "id": "Fs8XaQ6kOjck"
      },
      "outputs": [],
      "source": [
        "# without passing column names, the result will contain only two geometries columns\n",
        "geometry_df = Adapter.toDf(result, sedona)"
      ]
    },
    {
      "cell_type": "code",
      "execution_count": 94,
      "metadata": {
        "id": "qiWJjHz7Ojck",
        "outputId": "e8607c61-581d-403e-e426-231b9bf02a32",
        "colab": {
          "base_uri": "https://localhost:8080/"
        }
      },
      "outputs": [
        {
          "output_type": "stream",
          "name": "stdout",
          "text": [
            "root\n",
            " |-- leftgeometry: geometry (nullable = true)\n",
            " |-- rightgeometry: geometry (nullable = true)\n",
            "\n"
          ]
        }
      ],
      "source": [
        "geometry_df.printSchema()"
      ]
    },
    {
      "cell_type": "code",
      "execution_count": 95,
      "metadata": {
        "id": "CUuhG1HHOjcl",
        "outputId": "210dacd7-dcac-40a9-f817-eef5e791f818",
        "colab": {
          "base_uri": "https://localhost:8080/"
        }
      },
      "outputs": [
        {
          "output_type": "stream",
          "name": "stdout",
          "text": [
            "+--------------------+--------------------+\n",
            "|        leftgeometry|       rightgeometry|\n",
            "+--------------------+--------------------+\n",
            "|POLYGON ((-87.229...|POINT (-87.204033...|\n",
            "|POLYGON ((-87.229...|POINT (-87.204299...|\n",
            "|POLYGON ((-87.229...|POINT (-87.19351 ...|\n",
            "|POLYGON ((-87.229...|POINT (-87.18222 ...|\n",
            "|POLYGON ((-87.285...|POINT (-87.28468 ...|\n",
            "+--------------------+--------------------+\n",
            "only showing top 5 rows\n",
            "\n"
          ]
        }
      ],
      "source": [
        "geometry_df.show(5)"
      ]
    },
    {
      "cell_type": "code",
      "execution_count": 96,
      "metadata": {
        "id": "J_113xc7Ojcl",
        "outputId": "b55c8399-cfb8-4886-db16-2ebd0fa93ba5",
        "colab": {
          "base_uri": "https://localhost:8080/"
        }
      },
      "outputs": [
        {
          "output_type": "execute_result",
          "data": {
            "text/plain": [
              "Row(leftgeometry=<shapely.geometry.polygon.Polygon object at 0x7b8cb239fd90>, rightgeometry=<shapely.geometry.point.Point object at 0x7b8cb239d090>)"
            ]
          },
          "metadata": {},
          "execution_count": 96
        }
      ],
      "source": [
        "geometry_df.collect()[0]"
      ]
    },
    {
      "cell_type": "markdown",
      "metadata": {
        "id": "S-eRk6AROjcl"
      },
      "source": [
        "## Passing column names"
      ]
    },
    {
      "cell_type": "code",
      "execution_count": 97,
      "metadata": {
        "id": "5CnT4RzeOjcl"
      },
      "outputs": [],
      "source": [
        "geometry_df = Adapter.toDf(result, [\"left_user_data\"], [\"right_user_data\"], sedona)"
      ]
    },
    {
      "cell_type": "code",
      "execution_count": 98,
      "metadata": {
        "id": "qfaNUcXQOjcl",
        "outputId": "a18e1cc0-d508-40e9-8404-d2ddcfb27a65",
        "colab": {
          "base_uri": "https://localhost:8080/"
        }
      },
      "outputs": [
        {
          "output_type": "stream",
          "name": "stdout",
          "text": [
            "+--------------------+--------------+--------------------+---------------+\n",
            "|        leftgeometry|left_user_data|       rightgeometry|right_user_data|\n",
            "+--------------------+--------------+--------------------+---------------+\n",
            "|POLYGON ((-87.229...|              |POINT (-87.204033...|           null|\n",
            "|POLYGON ((-87.229...|              |POINT (-87.204299...|           null|\n",
            "|POLYGON ((-87.229...|              |POINT (-87.19351 ...|           null|\n",
            "|POLYGON ((-87.229...|              |POINT (-87.18222 ...|           null|\n",
            "|POLYGON ((-87.285...|              |POINT (-87.28468 ...|           null|\n",
            "+--------------------+--------------+--------------------+---------------+\n",
            "only showing top 5 rows\n",
            "\n"
          ]
        }
      ],
      "source": [
        "geometry_df.show(5)"
      ]
    },
    {
      "cell_type": "markdown",
      "metadata": {
        "id": "TzWjjT0UOjcl"
      },
      "source": [
        "# Converting RDD Spatial join result to DF directly, avoiding jvm python serde"
      ]
    },
    {
      "cell_type": "code",
      "execution_count": 99,
      "metadata": {
        "id": "OB_t5UOcOjcl"
      },
      "outputs": [],
      "source": [
        "query_envelope = Envelope(-85.01, -60.01, 34.01, 50.01)\n",
        "\n",
        "result_range_query = RangeQueryRaw.SpatialRangeQuery(linestring_rdd, query_envelope, False, False)"
      ]
    },
    {
      "cell_type": "code",
      "execution_count": 100,
      "metadata": {
        "id": "58B9hoX_Ojcl"
      },
      "outputs": [],
      "source": [
        "# converting to df\n",
        "gdf = Adapter.toDf(result_range_query, sedona)"
      ]
    },
    {
      "cell_type": "code",
      "execution_count": 101,
      "metadata": {
        "id": "Rgna3MsmOjcl",
        "outputId": "c5545349-e09d-41bf-c360-a9cf5d8d8a68",
        "colab": {
          "base_uri": "https://localhost:8080/"
        }
      },
      "outputs": [
        {
          "output_type": "stream",
          "name": "stdout",
          "text": [
            "+--------------------+\n",
            "|            geometry|\n",
            "+--------------------+\n",
            "|LINESTRING (-72.1...|\n",
            "|LINESTRING (-72.4...|\n",
            "|LINESTRING (-72.4...|\n",
            "|LINESTRING (-73.4...|\n",
            "|LINESTRING (-73.6...|\n",
            "+--------------------+\n",
            "only showing top 5 rows\n",
            "\n"
          ]
        }
      ],
      "source": [
        "gdf.show(5)"
      ]
    },
    {
      "cell_type": "code",
      "execution_count": 102,
      "metadata": {
        "id": "Gzw-LrkgOjcm",
        "outputId": "421d8959-63e2-409b-c14e-1e74c894932b",
        "colab": {
          "base_uri": "https://localhost:8080/"
        }
      },
      "outputs": [
        {
          "output_type": "stream",
          "name": "stdout",
          "text": [
            "root\n",
            " |-- geometry: geometry (nullable = true)\n",
            "\n"
          ]
        }
      ],
      "source": [
        "gdf.printSchema()"
      ]
    },
    {
      "cell_type": "code",
      "execution_count": 103,
      "metadata": {
        "id": "C5-BtLhSOjcm"
      },
      "outputs": [],
      "source": [
        "# Passing column names\n",
        "# converting to df\n",
        "gdf_with_columns = Adapter.toDf(result_range_query, sedona, [\"_c1\"])"
      ]
    },
    {
      "cell_type": "code",
      "execution_count": 104,
      "metadata": {
        "id": "r9ctqnn1Ojcm",
        "outputId": "671838aa-ebfc-423b-91b6-40a84089d9ad",
        "colab": {
          "base_uri": "https://localhost:8080/"
        }
      },
      "outputs": [
        {
          "output_type": "stream",
          "name": "stdout",
          "text": [
            "+--------------------+---+\n",
            "|            geometry|_c1|\n",
            "+--------------------+---+\n",
            "|LINESTRING (-72.1...|   |\n",
            "|LINESTRING (-72.4...|   |\n",
            "|LINESTRING (-72.4...|   |\n",
            "|LINESTRING (-73.4...|   |\n",
            "|LINESTRING (-73.6...|   |\n",
            "+--------------------+---+\n",
            "only showing top 5 rows\n",
            "\n"
          ]
        }
      ],
      "source": [
        "gdf_with_columns.show(5)"
      ]
    },
    {
      "cell_type": "code",
      "execution_count": 105,
      "metadata": {
        "id": "h-xj5agIOjcm",
        "outputId": "216151d6-a4f6-4f41-b2ed-4ae5dd1bce4a",
        "colab": {
          "base_uri": "https://localhost:8080/"
        }
      },
      "outputs": [
        {
          "output_type": "stream",
          "name": "stdout",
          "text": [
            "root\n",
            " |-- geometry: geometry (nullable = true)\n",
            " |-- _c1: string (nullable = true)\n",
            "\n"
          ]
        }
      ],
      "source": [
        "gdf_with_columns.printSchema()"
      ]
    },
    {
      "cell_type": "markdown",
      "source": [
        "# Summary\n",
        "\n",
        "We have shown how to install Sedona with Pyspark and run a basic example (source: https://github.com/apache/sedona/blob/master/binder/ApacheSedonaCore.ipynb) on Google Colab."
      ],
      "metadata": {
        "id": "VIQE0WpbUQjD"
      }
    }
  ]
}